{
 "cells": [
  {
   "cell_type": "code",
   "execution_count": 3,
   "metadata": {},
   "outputs": [],
   "source": [
    "import pandas as pd\n",
    "import numpy as np\n",
    "from sqlalchemy import create_engine\n",
    "import plotly.express as px\n",
    "import plotly.graph_objects as go\n",
    "from plotly.subplots import make_subplots\n",
    "\n",
    "pd.set_option('display.max_rows', None)\n",
    "pd.set_option('display.max_columns', None)\n",
    "pd.set_option('display.width', 2000)\n",
    "pd.set_option('display.float_format', '{:20,.2f}'.format)\n",
    "pd.set_option('display.max_colwidth', None)\n",
    "\n",
    "connect = f'sqlite:///FPA_FOD_20170508.sqlite'\n",
    "engine = create_engine(connect)"
   ]
  },
  {
   "cell_type": "code",
   "execution_count": 7,
   "metadata": {},
   "outputs": [
    {
     "name": "stderr",
     "output_type": "stream",
     "text": [
      "/var/folders/ql/qzqmv6096v1g1s9hh0sstyfh0000gn/T/ipykernel_64385/527818536.py:2: DtypeWarning: Columns (8,11,12,14,15,18) have mixed types. Specify dtype option on import or set low_memory=False.\n",
      "  data = pd.read_csv('sample_fire.csv', nrows=nrow)\n"
     ]
    },
    {
     "data": {
      "text/plain": [
       "(100000, 41)"
      ]
     },
     "execution_count": 7,
     "metadata": {},
     "output_type": "execute_result"
    }
   ],
   "source": [
    "nrow = None\n",
    "data = pd.read_csv('sample_fire.csv', nrows=nrow)\n",
    "data.shape"
   ]
  },
  {
   "cell_type": "code",
   "execution_count": 8,
   "metadata": {},
   "outputs": [
    {
     "data": {
      "text/html": [
       "<div>\n",
       "<style scoped>\n",
       "    .dataframe tbody tr th:only-of-type {\n",
       "        vertical-align: middle;\n",
       "    }\n",
       "\n",
       "    .dataframe tbody tr th {\n",
       "        vertical-align: top;\n",
       "    }\n",
       "\n",
       "    .dataframe thead th {\n",
       "        text-align: right;\n",
       "    }\n",
       "</style>\n",
       "<table border=\"1\" class=\"dataframe\">\n",
       "  <thead>\n",
       "    <tr style=\"text-align: right;\">\n",
       "      <th></th>\n",
       "      <th>OBJECTID</th>\n",
       "      <th>FOD_ID</th>\n",
       "      <th>FPA_ID</th>\n",
       "      <th>SOURCE_SYSTEM_TYPE</th>\n",
       "      <th>SOURCE_SYSTEM</th>\n",
       "      <th>NWCG_REPORTING_AGENCY</th>\n",
       "      <th>NWCG_REPORTING_UNIT_ID</th>\n",
       "      <th>NWCG_REPORTING_UNIT_NAME</th>\n",
       "      <th>SOURCE_REPORTING_UNIT</th>\n",
       "      <th>SOURCE_REPORTING_UNIT_NAME</th>\n",
       "      <th>LOCAL_FIRE_REPORT_ID</th>\n",
       "      <th>LOCAL_INCIDENT_ID</th>\n",
       "      <th>FIRE_CODE</th>\n",
       "      <th>FIRE_NAME</th>\n",
       "      <th>ICS_209_INCIDENT_NUMBER</th>\n",
       "      <th>ICS_209_NAME</th>\n",
       "      <th>MTBS_ID</th>\n",
       "      <th>MTBS_FIRE_NAME</th>\n",
       "      <th>COMPLEX_NAME</th>\n",
       "      <th>FIRE_YEAR</th>\n",
       "      <th>DISCOVERY_DATE</th>\n",
       "      <th>DISCOVERY_DOY</th>\n",
       "      <th>DISCOVERY_TIME</th>\n",
       "      <th>STAT_CAUSE_CODE</th>\n",
       "      <th>STAT_CAUSE_DESCR</th>\n",
       "      <th>CONT_DATE</th>\n",
       "      <th>CONT_DOY</th>\n",
       "      <th>CONT_TIME</th>\n",
       "      <th>FIRE_SIZE</th>\n",
       "      <th>FIRE_SIZE_CLASS</th>\n",
       "      <th>LATITUDE</th>\n",
       "      <th>LONGITUDE</th>\n",
       "      <th>OWNER_CODE</th>\n",
       "      <th>OWNER_DESCR</th>\n",
       "      <th>STATE</th>\n",
       "      <th>COUNTY</th>\n",
       "      <th>FIPS_CODE</th>\n",
       "      <th>FIPS_NAME</th>\n",
       "      <th>DIS_DATETIME</th>\n",
       "      <th>CON_DATETIME</th>\n",
       "      <th>DISC_YM</th>\n",
       "    </tr>\n",
       "  </thead>\n",
       "  <tbody>\n",
       "    <tr>\n",
       "      <th>0</th>\n",
       "      <td>1</td>\n",
       "      <td>1</td>\n",
       "      <td>FS-1418826</td>\n",
       "      <td>FED</td>\n",
       "      <td>FS-FIRESTAT</td>\n",
       "      <td>FS</td>\n",
       "      <td>USCAPNF</td>\n",
       "      <td>Plumas National Forest</td>\n",
       "      <td>511</td>\n",
       "      <td>Plumas National Forest</td>\n",
       "      <td>1</td>\n",
       "      <td>PNF-47</td>\n",
       "      <td>BJ8K</td>\n",
       "      <td>FOUNTAIN</td>\n",
       "      <td>NaN</td>\n",
       "      <td>NaN</td>\n",
       "      <td>NaN</td>\n",
       "      <td>NaN</td>\n",
       "      <td>NaN</td>\n",
       "      <td>2005</td>\n",
       "      <td>2,453,403.50</td>\n",
       "      <td>33</td>\n",
       "      <td>1300</td>\n",
       "      <td>9.00</td>\n",
       "      <td>Miscellaneous</td>\n",
       "      <td>2,453,403.50</td>\n",
       "      <td>33.00</td>\n",
       "      <td>1,730.00</td>\n",
       "      <td>0.10</td>\n",
       "      <td>A</td>\n",
       "      <td>40.04</td>\n",
       "      <td>-121.01</td>\n",
       "      <td>5.00</td>\n",
       "      <td>USFS</td>\n",
       "      <td>CA</td>\n",
       "      <td>63.00</td>\n",
       "      <td>63.00</td>\n",
       "      <td>Plumas</td>\n",
       "      <td>2005-02-02 00:00:00</td>\n",
       "      <td>2005-02-02 00:00:00</td>\n",
       "      <td>2005-02</td>\n",
       "    </tr>\n",
       "    <tr>\n",
       "      <th>1</th>\n",
       "      <td>2</td>\n",
       "      <td>2</td>\n",
       "      <td>FS-1418827</td>\n",
       "      <td>FED</td>\n",
       "      <td>FS-FIRESTAT</td>\n",
       "      <td>FS</td>\n",
       "      <td>USCAENF</td>\n",
       "      <td>Eldorado National Forest</td>\n",
       "      <td>503</td>\n",
       "      <td>Eldorado National Forest</td>\n",
       "      <td>13</td>\n",
       "      <td>13</td>\n",
       "      <td>AAC0</td>\n",
       "      <td>PIGEON</td>\n",
       "      <td>NaN</td>\n",
       "      <td>NaN</td>\n",
       "      <td>NaN</td>\n",
       "      <td>NaN</td>\n",
       "      <td>NaN</td>\n",
       "      <td>2004</td>\n",
       "      <td>2,453,137.50</td>\n",
       "      <td>133</td>\n",
       "      <td>845</td>\n",
       "      <td>1.00</td>\n",
       "      <td>Lightning</td>\n",
       "      <td>2,453,137.50</td>\n",
       "      <td>133.00</td>\n",
       "      <td>1,530.00</td>\n",
       "      <td>0.25</td>\n",
       "      <td>A</td>\n",
       "      <td>38.93</td>\n",
       "      <td>-120.40</td>\n",
       "      <td>5.00</td>\n",
       "      <td>USFS</td>\n",
       "      <td>CA</td>\n",
       "      <td>61.00</td>\n",
       "      <td>61.00</td>\n",
       "      <td>Placer</td>\n",
       "      <td>2004-05-12 00:00:00</td>\n",
       "      <td>2004-05-12 00:00:00</td>\n",
       "      <td>2004-05</td>\n",
       "    </tr>\n",
       "    <tr>\n",
       "      <th>2</th>\n",
       "      <td>3</td>\n",
       "      <td>3</td>\n",
       "      <td>FS-1418835</td>\n",
       "      <td>FED</td>\n",
       "      <td>FS-FIRESTAT</td>\n",
       "      <td>FS</td>\n",
       "      <td>USCAENF</td>\n",
       "      <td>Eldorado National Forest</td>\n",
       "      <td>503</td>\n",
       "      <td>Eldorado National Forest</td>\n",
       "      <td>27</td>\n",
       "      <td>021</td>\n",
       "      <td>A32W</td>\n",
       "      <td>SLACK</td>\n",
       "      <td>NaN</td>\n",
       "      <td>NaN</td>\n",
       "      <td>NaN</td>\n",
       "      <td>NaN</td>\n",
       "      <td>NaN</td>\n",
       "      <td>2004</td>\n",
       "      <td>2,453,156.50</td>\n",
       "      <td>152</td>\n",
       "      <td>1921</td>\n",
       "      <td>5.00</td>\n",
       "      <td>Debris Burning</td>\n",
       "      <td>2,453,156.50</td>\n",
       "      <td>152.00</td>\n",
       "      <td>2,024.00</td>\n",
       "      <td>0.10</td>\n",
       "      <td>A</td>\n",
       "      <td>38.98</td>\n",
       "      <td>-120.74</td>\n",
       "      <td>13.00</td>\n",
       "      <td>STATE OR PRIVATE</td>\n",
       "      <td>CA</td>\n",
       "      <td>17.00</td>\n",
       "      <td>17.00</td>\n",
       "      <td>El Dorado</td>\n",
       "      <td>2004-05-31 00:00:00</td>\n",
       "      <td>2004-05-31 00:00:00</td>\n",
       "      <td>2004-05</td>\n",
       "    </tr>\n",
       "    <tr>\n",
       "      <th>3</th>\n",
       "      <td>4</td>\n",
       "      <td>4</td>\n",
       "      <td>FS-1418845</td>\n",
       "      <td>FED</td>\n",
       "      <td>FS-FIRESTAT</td>\n",
       "      <td>FS</td>\n",
       "      <td>USCAENF</td>\n",
       "      <td>Eldorado National Forest</td>\n",
       "      <td>503</td>\n",
       "      <td>Eldorado National Forest</td>\n",
       "      <td>43</td>\n",
       "      <td>6</td>\n",
       "      <td>NaN</td>\n",
       "      <td>DEER</td>\n",
       "      <td>NaN</td>\n",
       "      <td>NaN</td>\n",
       "      <td>NaN</td>\n",
       "      <td>NaN</td>\n",
       "      <td>NaN</td>\n",
       "      <td>2004</td>\n",
       "      <td>2,453,184.50</td>\n",
       "      <td>180</td>\n",
       "      <td>1600</td>\n",
       "      <td>1.00</td>\n",
       "      <td>Lightning</td>\n",
       "      <td>2,453,189.50</td>\n",
       "      <td>185.00</td>\n",
       "      <td>1,400.00</td>\n",
       "      <td>0.10</td>\n",
       "      <td>A</td>\n",
       "      <td>38.56</td>\n",
       "      <td>-119.91</td>\n",
       "      <td>5.00</td>\n",
       "      <td>USFS</td>\n",
       "      <td>CA</td>\n",
       "      <td>3.00</td>\n",
       "      <td>3.00</td>\n",
       "      <td>Alpine</td>\n",
       "      <td>2004-06-28 00:00:00</td>\n",
       "      <td>2004-07-03 00:00:00</td>\n",
       "      <td>2004-06</td>\n",
       "    </tr>\n",
       "    <tr>\n",
       "      <th>4</th>\n",
       "      <td>5</td>\n",
       "      <td>5</td>\n",
       "      <td>FS-1418847</td>\n",
       "      <td>FED</td>\n",
       "      <td>FS-FIRESTAT</td>\n",
       "      <td>FS</td>\n",
       "      <td>USCAENF</td>\n",
       "      <td>Eldorado National Forest</td>\n",
       "      <td>503</td>\n",
       "      <td>Eldorado National Forest</td>\n",
       "      <td>44</td>\n",
       "      <td>7</td>\n",
       "      <td>NaN</td>\n",
       "      <td>STEVENOT</td>\n",
       "      <td>NaN</td>\n",
       "      <td>NaN</td>\n",
       "      <td>NaN</td>\n",
       "      <td>NaN</td>\n",
       "      <td>NaN</td>\n",
       "      <td>2004</td>\n",
       "      <td>2,453,184.50</td>\n",
       "      <td>180</td>\n",
       "      <td>1600</td>\n",
       "      <td>1.00</td>\n",
       "      <td>Lightning</td>\n",
       "      <td>2,453,189.50</td>\n",
       "      <td>185.00</td>\n",
       "      <td>1,200.00</td>\n",
       "      <td>0.10</td>\n",
       "      <td>A</td>\n",
       "      <td>38.56</td>\n",
       "      <td>-119.93</td>\n",
       "      <td>5.00</td>\n",
       "      <td>USFS</td>\n",
       "      <td>CA</td>\n",
       "      <td>3.00</td>\n",
       "      <td>3.00</td>\n",
       "      <td>Alpine</td>\n",
       "      <td>2004-06-28 00:00:00</td>\n",
       "      <td>2004-07-03 00:00:00</td>\n",
       "      <td>2004-06</td>\n",
       "    </tr>\n",
       "  </tbody>\n",
       "</table>\n",
       "</div>"
      ],
      "text/plain": [
       "   OBJECTID  FOD_ID      FPA_ID SOURCE_SYSTEM_TYPE SOURCE_SYSTEM NWCG_REPORTING_AGENCY NWCG_REPORTING_UNIT_ID  NWCG_REPORTING_UNIT_NAME SOURCE_REPORTING_UNIT SOURCE_REPORTING_UNIT_NAME  LOCAL_FIRE_REPORT_ID LOCAL_INCIDENT_ID FIRE_CODE FIRE_NAME ICS_209_INCIDENT_NUMBER ICS_209_NAME MTBS_ID MTBS_FIRE_NAME COMPLEX_NAME  FIRE_YEAR       DISCOVERY_DATE  DISCOVERY_DOY  DISCOVERY_TIME      STAT_CAUSE_CODE STAT_CAUSE_DESCR            CONT_DATE             CONT_DOY            CONT_TIME            FIRE_SIZE FIRE_SIZE_CLASS             LATITUDE            LONGITUDE           OWNER_CODE       OWNER_DESCR STATE               COUNTY            FIPS_CODE  FIPS_NAME         DIS_DATETIME         CON_DATETIME  DISC_YM\n",
       "0         1       1  FS-1418826                FED   FS-FIRESTAT                    FS                USCAPNF    Plumas National Forest                   511     Plumas National Forest                     1            PNF-47      BJ8K  FOUNTAIN                     NaN          NaN     NaN            NaN          NaN       2005         2,453,403.50             33            1300                 9.00    Miscellaneous         2,453,403.50                33.00             1,730.00                 0.10               A                40.04              -121.01                 5.00              USFS    CA                63.00                63.00     Plumas  2005-02-02 00:00:00  2005-02-02 00:00:00  2005-02\n",
       "1         2       2  FS-1418827                FED   FS-FIRESTAT                    FS                USCAENF  Eldorado National Forest                   503   Eldorado National Forest                    13                13      AAC0    PIGEON                     NaN          NaN     NaN            NaN          NaN       2004         2,453,137.50            133             845                 1.00        Lightning         2,453,137.50               133.00             1,530.00                 0.25               A                38.93              -120.40                 5.00              USFS    CA                61.00                61.00     Placer  2004-05-12 00:00:00  2004-05-12 00:00:00  2004-05\n",
       "2         3       3  FS-1418835                FED   FS-FIRESTAT                    FS                USCAENF  Eldorado National Forest                   503   Eldorado National Forest                    27               021      A32W     SLACK                     NaN          NaN     NaN            NaN          NaN       2004         2,453,156.50            152            1921                 5.00   Debris Burning         2,453,156.50               152.00             2,024.00                 0.10               A                38.98              -120.74                13.00  STATE OR PRIVATE    CA                17.00                17.00  El Dorado  2004-05-31 00:00:00  2004-05-31 00:00:00  2004-05\n",
       "3         4       4  FS-1418845                FED   FS-FIRESTAT                    FS                USCAENF  Eldorado National Forest                   503   Eldorado National Forest                    43                 6       NaN      DEER                     NaN          NaN     NaN            NaN          NaN       2004         2,453,184.50            180            1600                 1.00        Lightning         2,453,189.50               185.00             1,400.00                 0.10               A                38.56              -119.91                 5.00              USFS    CA                 3.00                 3.00     Alpine  2004-06-28 00:00:00  2004-07-03 00:00:00  2004-06\n",
       "4         5       5  FS-1418847                FED   FS-FIRESTAT                    FS                USCAENF  Eldorado National Forest                   503   Eldorado National Forest                    44                 7       NaN  STEVENOT                     NaN          NaN     NaN            NaN          NaN       2004         2,453,184.50            180            1600                 1.00        Lightning         2,453,189.50               185.00             1,200.00                 0.10               A                38.56              -119.93                 5.00              USFS    CA                 3.00                 3.00     Alpine  2004-06-28 00:00:00  2004-07-03 00:00:00  2004-06"
      ]
     },
     "execution_count": 8,
     "metadata": {},
     "output_type": "execute_result"
    }
   ],
   "source": [
    "data.head()"
   ]
  },
  {
   "cell_type": "code",
   "execution_count": 18,
   "metadata": {},
   "outputs": [],
   "source": [
    "def load_data(path='FPA_FOD_20170508.sqlite', nrows=10000):\n",
    "    connect = f'sqlite:///{path}'\n",
    "    engine = create_engine(connect)\n",
    "\n",
    "    if nrows != 'all':\n",
    "        data = pd.read_sql_query(f\"\"\"\n",
    "            SELECT\n",
    "                OBJECTID, FIRE_CODE, \n",
    "                FIRE_NAME, FIRE_YEAR, DISCOVERY_DOY, \n",
    "                DISCOVERY_TIME, STAT_CAUSE_CODE, \n",
    "                STAT_CAUSE_DESCR, CONT_DATE, CONT_DOY, CONT_TIME, \n",
    "                FIRE_SIZE, FIRE_SIZE_CLASS, LATITUDE, LONGITUDE, OWNER_CODE,\n",
    "                STATE, COUNTY, FIPS_CODE, FIPS_NAME,\n",
    "                datetime(DISCOVERY_DATE) as DIS_DATETIME,\n",
    "                datetime(CONT_DATE) as CON_DATETIME\n",
    "            FROM \n",
    "                Fires \n",
    "            LIMIT {nrows};\n",
    "            \"\"\" , engine)\n",
    "    else:\n",
    "        data = pd.read_sql_query(f\"\"\"\n",
    "            SELECT\n",
    "                *, \n",
    "                datetime(DISCOVERY_DATE) as DIS_DATETIME,\n",
    "                datetime(CONT_DATE) as CON_DATETIME\n",
    "            FROM \n",
    "                Fires \n",
    "            \"\"\" , engine)\n",
    "    data['DISC_YM'] = data['DIS_DATETIME'].str.extract(r'(\\d{4}-\\d{2})')\n",
    "\n",
    "    return data\n",
    "\n",
    "\n",
    "# all_df = load_data(nrows='all')\n",
    "# df = all_df.copy()\n",
    "# df.head()"
   ]
  },
  {
   "cell_type": "code",
   "execution_count": 19,
   "metadata": {},
   "outputs": [
    {
     "data": {
      "text/html": [
       "<div>\n",
       "<style scoped>\n",
       "    .dataframe tbody tr th:only-of-type {\n",
       "        vertical-align: middle;\n",
       "    }\n",
       "\n",
       "    .dataframe tbody tr th {\n",
       "        vertical-align: top;\n",
       "    }\n",
       "\n",
       "    .dataframe thead th {\n",
       "        text-align: right;\n",
       "    }\n",
       "</style>\n",
       "<table border=\"1\" class=\"dataframe\">\n",
       "  <thead>\n",
       "    <tr style=\"text-align: right;\">\n",
       "      <th></th>\n",
       "      <th>OBJECTID</th>\n",
       "      <th>FIRE_CODE</th>\n",
       "      <th>FIRE_NAME</th>\n",
       "      <th>FIRE_YEAR</th>\n",
       "      <th>DISCOVERY_DOY</th>\n",
       "      <th>DISCOVERY_TIME</th>\n",
       "      <th>STAT_CAUSE_CODE</th>\n",
       "      <th>STAT_CAUSE_DESCR</th>\n",
       "      <th>CONT_DATE</th>\n",
       "      <th>CONT_DOY</th>\n",
       "      <th>CONT_TIME</th>\n",
       "      <th>FIRE_SIZE</th>\n",
       "      <th>FIRE_SIZE_CLASS</th>\n",
       "      <th>LATITUDE</th>\n",
       "      <th>LONGITUDE</th>\n",
       "      <th>OWNER_CODE</th>\n",
       "      <th>STATE</th>\n",
       "      <th>COUNTY</th>\n",
       "      <th>FIPS_CODE</th>\n",
       "      <th>FIPS_NAME</th>\n",
       "      <th>DIS_DATETIME</th>\n",
       "      <th>CON_DATETIME</th>\n",
       "      <th>DISC_YM</th>\n",
       "    </tr>\n",
       "  </thead>\n",
       "  <tbody>\n",
       "    <tr>\n",
       "      <th>0</th>\n",
       "      <td>1</td>\n",
       "      <td>BJ8K</td>\n",
       "      <td>FOUNTAIN</td>\n",
       "      <td>2005</td>\n",
       "      <td>33</td>\n",
       "      <td>1300</td>\n",
       "      <td>9.00</td>\n",
       "      <td>Miscellaneous</td>\n",
       "      <td>2,453,403.50</td>\n",
       "      <td>33.00</td>\n",
       "      <td>1730</td>\n",
       "      <td>0.10</td>\n",
       "      <td>A</td>\n",
       "      <td>40.04</td>\n",
       "      <td>-121.01</td>\n",
       "      <td>5.00</td>\n",
       "      <td>CA</td>\n",
       "      <td>63</td>\n",
       "      <td>063</td>\n",
       "      <td>Plumas</td>\n",
       "      <td>2005-02-02 00:00:00</td>\n",
       "      <td>2005-02-02 00:00:00</td>\n",
       "      <td>2005-02</td>\n",
       "    </tr>\n",
       "    <tr>\n",
       "      <th>1</th>\n",
       "      <td>2</td>\n",
       "      <td>AAC0</td>\n",
       "      <td>PIGEON</td>\n",
       "      <td>2004</td>\n",
       "      <td>133</td>\n",
       "      <td>0845</td>\n",
       "      <td>1.00</td>\n",
       "      <td>Lightning</td>\n",
       "      <td>2,453,137.50</td>\n",
       "      <td>133.00</td>\n",
       "      <td>1530</td>\n",
       "      <td>0.25</td>\n",
       "      <td>A</td>\n",
       "      <td>38.93</td>\n",
       "      <td>-120.40</td>\n",
       "      <td>5.00</td>\n",
       "      <td>CA</td>\n",
       "      <td>61</td>\n",
       "      <td>061</td>\n",
       "      <td>Placer</td>\n",
       "      <td>2004-05-12 00:00:00</td>\n",
       "      <td>2004-05-12 00:00:00</td>\n",
       "      <td>2004-05</td>\n",
       "    </tr>\n",
       "    <tr>\n",
       "      <th>2</th>\n",
       "      <td>3</td>\n",
       "      <td>A32W</td>\n",
       "      <td>SLACK</td>\n",
       "      <td>2004</td>\n",
       "      <td>152</td>\n",
       "      <td>1921</td>\n",
       "      <td>5.00</td>\n",
       "      <td>Debris Burning</td>\n",
       "      <td>2,453,156.50</td>\n",
       "      <td>152.00</td>\n",
       "      <td>2024</td>\n",
       "      <td>0.10</td>\n",
       "      <td>A</td>\n",
       "      <td>38.98</td>\n",
       "      <td>-120.74</td>\n",
       "      <td>13.00</td>\n",
       "      <td>CA</td>\n",
       "      <td>17</td>\n",
       "      <td>017</td>\n",
       "      <td>El Dorado</td>\n",
       "      <td>2004-05-31 00:00:00</td>\n",
       "      <td>2004-05-31 00:00:00</td>\n",
       "      <td>2004-05</td>\n",
       "    </tr>\n",
       "    <tr>\n",
       "      <th>3</th>\n",
       "      <td>4</td>\n",
       "      <td>None</td>\n",
       "      <td>DEER</td>\n",
       "      <td>2004</td>\n",
       "      <td>180</td>\n",
       "      <td>1600</td>\n",
       "      <td>1.00</td>\n",
       "      <td>Lightning</td>\n",
       "      <td>2,453,189.50</td>\n",
       "      <td>185.00</td>\n",
       "      <td>1400</td>\n",
       "      <td>0.10</td>\n",
       "      <td>A</td>\n",
       "      <td>38.56</td>\n",
       "      <td>-119.91</td>\n",
       "      <td>5.00</td>\n",
       "      <td>CA</td>\n",
       "      <td>3</td>\n",
       "      <td>003</td>\n",
       "      <td>Alpine</td>\n",
       "      <td>2004-06-28 00:00:00</td>\n",
       "      <td>2004-07-03 00:00:00</td>\n",
       "      <td>2004-06</td>\n",
       "    </tr>\n",
       "    <tr>\n",
       "      <th>4</th>\n",
       "      <td>5</td>\n",
       "      <td>None</td>\n",
       "      <td>STEVENOT</td>\n",
       "      <td>2004</td>\n",
       "      <td>180</td>\n",
       "      <td>1600</td>\n",
       "      <td>1.00</td>\n",
       "      <td>Lightning</td>\n",
       "      <td>2,453,189.50</td>\n",
       "      <td>185.00</td>\n",
       "      <td>1200</td>\n",
       "      <td>0.10</td>\n",
       "      <td>A</td>\n",
       "      <td>38.56</td>\n",
       "      <td>-119.93</td>\n",
       "      <td>5.00</td>\n",
       "      <td>CA</td>\n",
       "      <td>3</td>\n",
       "      <td>003</td>\n",
       "      <td>Alpine</td>\n",
       "      <td>2004-06-28 00:00:00</td>\n",
       "      <td>2004-07-03 00:00:00</td>\n",
       "      <td>2004-06</td>\n",
       "    </tr>\n",
       "  </tbody>\n",
       "</table>\n",
       "</div>"
      ],
      "text/plain": [
       "   OBJECTID FIRE_CODE FIRE_NAME  FIRE_YEAR  DISCOVERY_DOY DISCOVERY_TIME      STAT_CAUSE_CODE STAT_CAUSE_DESCR            CONT_DATE             CONT_DOY CONT_TIME            FIRE_SIZE FIRE_SIZE_CLASS             LATITUDE            LONGITUDE           OWNER_CODE STATE COUNTY FIPS_CODE  FIPS_NAME         DIS_DATETIME         CON_DATETIME  DISC_YM\n",
       "0         1      BJ8K  FOUNTAIN       2005             33           1300                 9.00    Miscellaneous         2,453,403.50                33.00      1730                 0.10               A                40.04              -121.01                 5.00    CA     63       063     Plumas  2005-02-02 00:00:00  2005-02-02 00:00:00  2005-02\n",
       "1         2      AAC0    PIGEON       2004            133           0845                 1.00        Lightning         2,453,137.50               133.00      1530                 0.25               A                38.93              -120.40                 5.00    CA     61       061     Placer  2004-05-12 00:00:00  2004-05-12 00:00:00  2004-05\n",
       "2         3      A32W     SLACK       2004            152           1921                 5.00   Debris Burning         2,453,156.50               152.00      2024                 0.10               A                38.98              -120.74                13.00    CA     17       017  El Dorado  2004-05-31 00:00:00  2004-05-31 00:00:00  2004-05\n",
       "3         4      None      DEER       2004            180           1600                 1.00        Lightning         2,453,189.50               185.00      1400                 0.10               A                38.56              -119.91                 5.00    CA      3       003     Alpine  2004-06-28 00:00:00  2004-07-03 00:00:00  2004-06\n",
       "4         5      None  STEVENOT       2004            180           1600                 1.00        Lightning         2,453,189.50               185.00      1200                 0.10               A                38.56              -119.93                 5.00    CA      3       003     Alpine  2004-06-28 00:00:00  2004-07-03 00:00:00  2004-06"
      ]
     },
     "execution_count": 19,
     "metadata": {},
     "output_type": "execute_result"
    }
   ],
   "source": [
    "d = load_data(nrows='100')\n",
    "d.head()"
   ]
  },
  {
   "cell_type": "code",
   "execution_count": 5,
   "metadata": {},
   "outputs": [
    {
     "data": {
      "text/plain": [
       "A    666919\n",
       "B    939376\n",
       "C    220077\n",
       "D     28427\n",
       "E     14107\n",
       "F      7786\n",
       "G      3773\n",
       "Name: FIRE_SIZE_CLASS, dtype: int64"
      ]
     },
     "execution_count": 5,
     "metadata": {},
     "output_type": "execute_result"
    }
   ],
   "source": [
    "df[\"FIRE_SIZE_CLASS\"].value_counts().sort_index()"
   ]
  },
  {
   "cell_type": "code",
   "execution_count": 14,
   "metadata": {},
   "outputs": [
    {
     "data": {
      "text/plain": [
       "  5,000.00    73\n",
       "  5,001.00     1\n",
       "  5,002.90     1\n",
       "  5,011.00     2\n",
       "  5,015.00     4\n",
       "  5,016.00     1\n",
       "  5,018.00     1\n",
       "  5,020.00     1\n",
       "  5,021.00     2\n",
       "  5,025.00     1\n",
       "  5,026.00     1\n",
       "  5,030.00     1\n",
       "  5,032.00     1\n",
       "  5,034.00     1\n",
       "  5,037.00     1\n",
       "  5,038.00     1\n",
       "  5,050.00     3\n",
       "  5,059.00     1\n",
       "  5,064.00     1\n",
       "  5,065.00     1\n",
       "  5,066.00     1\n",
       "  5,067.00     2\n",
       "  5,068.90     1\n",
       "  5,070.00     1\n",
       "  5,072.00     1\n",
       "  5,073.00     1\n",
       "  5,079.00     1\n",
       "  5,084.00     1\n",
       "  5,086.00     1\n",
       "  5,088.00     1\n",
       "  5,091.00     1\n",
       "  5,092.10     1\n",
       "  5,096.00     1\n",
       "  5,100.00     9\n",
       "  5,104.00     1\n",
       "  5,111.00     1\n",
       "  5,120.00     8\n",
       "  5,121.00     1\n",
       "  5,121.80     1\n",
       "  5,122.00     1\n",
       "  5,124.00     1\n",
       "  5,125.00     1\n",
       "  5,126.00     1\n",
       "  5,130.00     1\n",
       "  5,132.00     1\n",
       "  5,132.10     1\n",
       "  5,133.00     2\n",
       "  5,136.00     1\n",
       "  5,140.00     1\n",
       "  5,142.20     1\n",
       "  5,143.00     1\n",
       "  5,150.00     2\n",
       "  5,151.00     1\n",
       "  5,153.00     2\n",
       "  5,154.00     1\n",
       "  5,157.00     2\n",
       "  5,160.00     1\n",
       "  5,163.00     1\n",
       "  5,167.00     1\n",
       "  5,167.50     1\n",
       "  5,169.00     1\n",
       "  5,172.00     1\n",
       "  5,175.00     1\n",
       "  5,176.30     1\n",
       "  5,178.00     1\n",
       "  5,179.00     1\n",
       "  5,180.00     1\n",
       "  5,181.00     1\n",
       "  5,183.00     1\n",
       "  5,183.60     1\n",
       "  5,184.00     1\n",
       "  5,185.00     1\n",
       "  5,192.00     1\n",
       "  5,196.00     1\n",
       "  5,200.00    15\n",
       "  5,204.00     1\n",
       "  5,205.00     1\n",
       "  5,207.00     1\n",
       "  5,208.00     1\n",
       "  5,209.00     1\n",
       "  5,214.00     1\n",
       "  5,216.00     1\n",
       "  5,220.00     1\n",
       "  5,221.00     1\n",
       "  5,225.00     1\n",
       "  5,230.00     1\n",
       "  5,237.00     2\n",
       "  5,240.00     1\n",
       "  5,241.00     1\n",
       "  5,243.00     1\n",
       "  5,245.00     1\n",
       "  5,249.00     1\n",
       "  5,250.00     2\n",
       "  5,255.00     1\n",
       "  5,260.90     1\n",
       "  5,261.00     1\n",
       "  5,265.00     1\n",
       "  5,265.50     1\n",
       "  5,270.00     1\n",
       "  5,273.00     2\n",
       "  5,275.00     2\n",
       "  5,279.00     1\n",
       "  5,280.00     4\n",
       "  5,283.00     2\n",
       "  5,284.00     2\n",
       "  5,285.00     1\n",
       "  5,292.00     1\n",
       "  5,298.00     2\n",
       "  5,300.00     4\n",
       "  5,304.00     1\n",
       "  5,305.00     1\n",
       "  5,308.00     1\n",
       "  5,311.00     1\n",
       "  5,312.00     1\n",
       "  5,315.00     2\n",
       "  5,316.00     1\n",
       "  5,319.00     1\n",
       "  5,320.00     1\n",
       "  5,321.00     1\n",
       "  5,326.60     1\n",
       "  5,337.00     1\n",
       "  5,342.00     1\n",
       "  5,343.00     1\n",
       "  5,345.00     1\n",
       "  5,350.00     2\n",
       "  5,353.00     1\n",
       "  5,358.50     1\n",
       "  5,362.00     1\n",
       "  5,367.00     1\n",
       "  5,369.00     1\n",
       "  5,373.00     1\n",
       "  5,388.00     1\n",
       "  5,394.90     1\n",
       "  5,395.00     1\n",
       "  5,400.00     6\n",
       "  5,409.00     2\n",
       "  5,410.00     1\n",
       "  5,413.00     1\n",
       "  5,414.00     1\n",
       "  5,415.00     1\n",
       "  5,419.00     1\n",
       "  5,425.00     2\n",
       "  5,429.00     1\n",
       "  5,430.00     1\n",
       "  5,432.10     1\n",
       "  5,438.00     2\n",
       "  5,440.00     1\n",
       "  5,441.00     1\n",
       "  5,448.00     1\n",
       "  5,451.00     2\n",
       "  5,452.00     1\n",
       "  5,458.10     1\n",
       "  5,459.00     1\n",
       "  5,460.00     1\n",
       "  5,460.40     1\n",
       "  5,470.00     1\n",
       "  5,471.00     1\n",
       "  5,478.00     2\n",
       "  5,481.00     1\n",
       "  5,481.10     1\n",
       "  5,481.80     1\n",
       "  5,488.00     1\n",
       "  5,493.00     1\n",
       "  5,495.00     1\n",
       "  5,498.00     2\n",
       "  5,500.00    21\n",
       "  5,504.10     1\n",
       "  5,505.00     1\n",
       "  5,506.00     1\n",
       "  5,507.00     2\n",
       "  5,508.00     1\n",
       "  5,510.00     1\n",
       "  5,512.00     1\n",
       "  5,514.00     1\n",
       "  5,519.00     1\n",
       "  5,521.00     1\n",
       "  5,524.80     1\n",
       "  5,528.00     1\n",
       "  5,530.00     1\n",
       "  5,532.00     1\n",
       "  5,538.00     1\n",
       "  5,541.00     1\n",
       "  5,542.00     2\n",
       "  5,544.00     1\n",
       "  5,550.00     3\n",
       "  5,552.00     1\n",
       "  5,555.00     1\n",
       "  5,556.00     1\n",
       "  5,557.00     1\n",
       "  5,559.00     1\n",
       "  5,570.00     1\n",
       "  5,571.00     1\n",
       "  5,580.00     1\n",
       "  5,581.00     1\n",
       "  5,582.00     1\n",
       "  5,584.00     1\n",
       "  5,595.00     1\n",
       "  5,600.00     5\n",
       "  5,602.60     1\n",
       "  5,607.00     1\n",
       "  5,609.40     1\n",
       "  5,612.00     1\n",
       "  5,614.00     1\n",
       "  5,618.00     1\n",
       "  5,625.00     1\n",
       "  5,630.00     1\n",
       "  5,633.00     1\n",
       "  5,635.00     1\n",
       "  5,645.00     1\n",
       "  5,649.00     1\n",
       "  5,650.00     1\n",
       "  5,664.00     1\n",
       "  5,667.00     1\n",
       "  5,668.00     1\n",
       "  5,670.00     1\n",
       "  5,675.00     1\n",
       "  5,679.00     2\n",
       "  5,680.00     2\n",
       "  5,681.00     1\n",
       "  5,692.00     1\n",
       "  5,693.00     1\n",
       "  5,700.00    10\n",
       "  5,702.00     2\n",
       "  5,703.00     1\n",
       "  5,706.00     1\n",
       "  5,711.00     1\n",
       "  5,717.00     1\n",
       "  5,719.00     1\n",
       "  5,720.00     1\n",
       "  5,721.00     2\n",
       "  5,722.00     1\n",
       "  5,723.60     2\n",
       "  5,730.00     1\n",
       "  5,731.00     2\n",
       "  5,740.00     1\n",
       "  5,742.00     2\n",
       "  5,745.00     1\n",
       "  5,750.00     2\n",
       "  5,756.00     2\n",
       "  5,757.20     1\n",
       "  5,760.00    10\n",
       "  5,762.00     1\n",
       "  5,763.00     2\n",
       "  5,766.00     1\n",
       "  5,774.20     1\n",
       "  5,774.70     1\n",
       "  5,779.00     1\n",
       "  5,780.00     1\n",
       "  5,780.20     1\n",
       "  5,785.00     1\n",
       "  5,787.00     1\n",
       "  5,791.00     1\n",
       "  5,792.00     1\n",
       "  5,797.00     1\n",
       "  5,797.70     1\n",
       "  5,800.00     5\n",
       "  5,802.10     1\n",
       "  5,803.00     2\n",
       "  5,810.00     1\n",
       "  5,816.00     1\n",
       "  5,818.00     1\n",
       "  5,820.00     1\n",
       "  5,825.20     1\n",
       "  5,825.70     1\n",
       "  5,830.00     2\n",
       "  5,832.00     1\n",
       "  5,832.20     1\n",
       "  5,834.00     2\n",
       "  5,837.00     1\n",
       "  5,847.00     1\n",
       "  5,849.40     1\n",
       "  5,856.00     1\n",
       "  5,859.00     1\n",
       "  5,861.00     1\n",
       "  5,867.00     1\n",
       "  5,878.00     1\n",
       "  5,882.00     1\n",
       "  5,895.00     1\n",
       "  5,897.00     1\n",
       "  5,900.00     6\n",
       "  5,902.00     1\n",
       "  5,912.00     1\n",
       "  5,915.00     1\n",
       "  5,916.00     1\n",
       "  5,923.00     1\n",
       "  5,927.00     1\n",
       "  5,928.00     1\n",
       "  5,932.00     1\n",
       "  5,932.80     1\n",
       "  5,933.00     1\n",
       "  5,935.00     1\n",
       "  5,940.00     1\n",
       "  5,942.00     1\n",
       "  5,943.00     1\n",
       "  5,946.00     1\n",
       "  5,948.00     1\n",
       "  5,954.00     3\n",
       "  5,955.00     1\n",
       "  5,960.00     1\n",
       "  5,962.00     1\n",
       "  5,963.00     1\n",
       "  5,968.00     1\n",
       "  5,969.60     2\n",
       "  5,974.00     1\n",
       "  5,975.00     2\n",
       "  5,976.00     1\n",
       "  5,978.00     1\n",
       "  5,984.80     1\n",
       "  5,985.00     2\n",
       "  5,987.00     1\n",
       "  5,988.00     1\n",
       "  5,991.30     1\n",
       "  5,992.00     1\n",
       "  5,995.00     1\n",
       "  6,000.00    36\n",
       "  6,018.00     1\n",
       "  6,028.10     1\n",
       "  6,030.00     1\n",
       "  6,031.00     1\n",
       "  6,033.00     1\n",
       "  6,035.00     1\n",
       "  6,038.00     1\n",
       "  6,050.00     1\n",
       "  6,052.00     1\n",
       "  6,057.00     1\n",
       "  6,057.80     1\n",
       "  6,058.00     1\n",
       "  6,060.00     2\n",
       "  6,061.00     1\n",
       "  6,065.00     1\n",
       "  6,070.00     2\n",
       "  6,074.00     1\n",
       "  6,074.80     1\n",
       "  6,080.00     3\n",
       "  6,083.00     1\n",
       "  6,084.00     1\n",
       "  6,089.00     1\n",
       "  6,099.00     1\n",
       "  6,100.00     1\n",
       "  6,102.00     1\n",
       "  6,103.00     1\n",
       "  6,105.00     1\n",
       "  6,106.70     1\n",
       "  6,108.00     1\n",
       "  6,109.00     1\n",
       "  6,110.00     1\n",
       "  6,112.00     1\n",
       "  6,121.50     1\n",
       "  6,122.00     1\n",
       "  6,125.00     1\n",
       "  6,130.00     1\n",
       "  6,131.00     1\n",
       "  6,134.00     2\n",
       "  6,135.20     1\n",
       "  6,137.00     2\n",
       "  6,140.00     4\n",
       "  6,144.00     1\n",
       "  6,146.00     1\n",
       "  6,152.00     1\n",
       "  6,159.00     1\n",
       "  6,160.80     1\n",
       "  6,162.30     1\n",
       "  6,169.00     2\n",
       "  6,172.00     1\n",
       "  6,174.00     1\n",
       "  6,175.00     1\n",
       "  6,179.00     2\n",
       "  6,180.00     2\n",
       "  6,181.00     1\n",
       "  6,182.00     1\n",
       "  6,183.00     1\n",
       "  6,185.00     1\n",
       "  6,187.00     1\n",
       "  6,200.00     2\n",
       "  6,213.00     1\n",
       "  6,218.00     1\n",
       "  6,219.00     1\n",
       "  6,224.60     1\n",
       "  6,229.00     1\n",
       "  6,232.50     1\n",
       "  6,233.00     1\n",
       "  6,237.00     1\n",
       "  6,238.20     1\n",
       "  6,241.00     1\n",
       "  6,246.00     1\n",
       "  6,246.10     1\n",
       "  6,248.00     1\n",
       "  6,249.00     2\n",
       "  6,250.00     2\n",
       "  6,255.00     1\n",
       "  6,258.00     1\n",
       "  6,259.00     1\n",
       "  6,262.00     1\n",
       "  6,263.00     1\n",
       "  6,267.00     1\n",
       "  6,269.00     2\n",
       "  6,270.00     1\n",
       "  6,271.00     1\n",
       "  6,275.00     2\n",
       "  6,278.00     1\n",
       "  6,282.00     1\n",
       "  6,289.00     1\n",
       "  6,297.90     1\n",
       "  6,299.00     1\n",
       "  6,300.00     2\n",
       "  6,304.00     1\n",
       "  6,313.00     1\n",
       "  6,314.00     1\n",
       "  6,317.00     1\n",
       "  6,322.00     1\n",
       "  6,325.00     1\n",
       "  6,328.00     1\n",
       "  6,333.00     1\n",
       "  6,340.00     1\n",
       "  6,343.00     2\n",
       "  6,352.20     1\n",
       "  6,355.00     2\n",
       "  6,355.89     1\n",
       "  6,363.00     1\n",
       "  6,365.00     1\n",
       "  6,370.00     1\n",
       "  6,370.90     1\n",
       "  6,375.00     1\n",
       "  6,380.00     1\n",
       "  6,382.10     1\n",
       "  6,382.30     1\n",
       "  6,384.00     1\n",
       "  6,399.00     1\n",
       "  6,400.00    15\n",
       "  6,416.00     1\n",
       "  6,420.00     3\n",
       "  6,425.00     1\n",
       "  6,426.00     1\n",
       "  6,430.00     2\n",
       "  6,437.00     1\n",
       "  6,442.00     1\n",
       "  6,445.00     1\n",
       "  6,450.00     1\n",
       "  6,455.00     1\n",
       "  6,459.00     1\n",
       "  6,460.00     1\n",
       "  6,469.00     1\n",
       "  6,472.40     1\n",
       "  6,474.00     1\n",
       "  6,476.00     1\n",
       "  6,480.00     1\n",
       "  6,481.00     1\n",
       "  6,488.00     1\n",
       "  6,493.00     1\n",
       "  6,500.00    18\n",
       "  6,500.80     1\n",
       "  6,510.00     1\n",
       "  6,512.00     1\n",
       "  6,516.00     1\n",
       "  6,518.00     1\n",
       "  6,520.00     2\n",
       "  6,523.00     1\n",
       "  6,525.00     1\n",
       "  6,527.00     1\n",
       "  6,529.00     1\n",
       "  6,530.00     1\n",
       "  6,533.00     1\n",
       "  6,534.00     1\n",
       "  6,538.00     1\n",
       "  6,540.00     1\n",
       "  6,545.00     1\n",
       "  6,547.00     1\n",
       "  6,550.00     2\n",
       "  6,555.00     1\n",
       "  6,558.00     1\n",
       "  6,559.00     1\n",
       "  6,567.40     1\n",
       "  6,570.00     1\n",
       "  6,574.00     1\n",
       "  6,575.00     1\n",
       "  6,578.60     1\n",
       "  6,580.00     2\n",
       "  6,590.10     1\n",
       "  6,595.00     1\n",
       "  6,600.00     4\n",
       "  6,607.00     2\n",
       "  6,612.00     1\n",
       "  6,614.00     1\n",
       "  6,618.00     1\n",
       "  6,620.00     1\n",
       "  6,625.00     1\n",
       "  6,628.00     1\n",
       "  6,641.30     1\n",
       "  6,644.00     1\n",
       "  6,650.00     1\n",
       "  6,655.60     1\n",
       "  6,659.60     1\n",
       "  6,660.00     2\n",
       "  6,663.00     1\n",
       "  6,670.00     1\n",
       "  6,673.00     1\n",
       "  6,675.00     2\n",
       "  6,679.00     1\n",
       "  6,685.00     1\n",
       "  6,687.00     1\n",
       "  6,689.00     1\n",
       "  6,690.00     1\n",
       "  6,692.00     1\n",
       "  6,698.00     1\n",
       "  6,700.00     4\n",
       "  6,707.00     1\n",
       "  6,710.00     2\n",
       "  6,713.00     1\n",
       "  6,716.00     1\n",
       "  6,721.00     1\n",
       "  6,730.00     1\n",
       "  6,743.00     1\n",
       "  6,744.00     1\n",
       "  6,750.00     1\n",
       "  6,760.10     1\n",
       "  6,761.00     1\n",
       "  6,762.00     1\n",
       "  6,763.00     1\n",
       "  6,766.00     1\n",
       "  6,767.00     1\n",
       "  6,768.00     1\n",
       "  6,771.40     1\n",
       "  6,772.00     1\n",
       "  6,773.00     1\n",
       "  6,775.00     1\n",
       "  6,777.60     1\n",
       "  6,778.00     1\n",
       "  6,782.00     1\n",
       "  6,786.00     1\n",
       "  6,796.00     1\n",
       "  6,797.80     1\n",
       "  6,800.00     6\n",
       "  6,804.00     2\n",
       "  6,815.00     1\n",
       "  6,828.00     1\n",
       "  6,835.20     1\n",
       "  6,836.00     1\n",
       "  6,837.00     1\n",
       "  6,840.00     1\n",
       "  6,841.00     1\n",
       "  6,851.00     1\n",
       "  6,854.00     1\n",
       "  6,860.00     1\n",
       "  6,860.10     1\n",
       "  6,864.00     2\n",
       "  6,868.00     1\n",
       "  6,869.00     1\n",
       "  6,879.00     1\n",
       "  6,885.00     1\n",
       "  6,887.00     1\n",
       "  6,891.00     1\n",
       "  6,900.00     1\n",
       "  6,908.00     2\n",
       "  6,914.00     1\n",
       "  6,923.00     1\n",
       "  6,937.00     1\n",
       "  6,940.50     1\n",
       "  6,941.00     1\n",
       "  6,947.00     1\n",
       "  6,949.00     1\n",
       "  6,952.00     1\n",
       "  6,960.00     2\n",
       "  6,962.00     1\n",
       "  6,963.00     1\n",
       "  6,965.00     1\n",
       "  6,969.00     2\n",
       "  6,969.40     1\n",
       "  6,970.00     1\n",
       "  6,975.00     1\n",
       "  6,980.00     1\n",
       "  6,981.00     1\n",
       "  6,985.00     1\n",
       "  6,986.00     1\n",
       "  6,988.10     1\n",
       "  6,990.00     1\n",
       "  6,993.00     1\n",
       "  6,994.00     1\n",
       "  6,998.00     1\n",
       "  7,000.00    28\n",
       "  7,004.70     1\n",
       "  7,010.00     1\n",
       "  7,015.00     2\n",
       "  7,017.00     1\n",
       "  7,022.00     1\n",
       "  7,030.00     1\n",
       "  7,038.00     1\n",
       "  7,049.00     1\n",
       "  7,055.00     1\n",
       "  7,056.00     1\n",
       "  7,059.00     1\n",
       "  7,061.00     1\n",
       "  7,063.00     1\n",
       "  7,076.00     1\n",
       "  7,080.00     1\n",
       "  7,081.00     1\n",
       "  7,083.00     1\n",
       "  7,086.00     1\n",
       "  7,087.70     1\n",
       "  7,091.00     1\n",
       "  7,092.00     1\n",
       "  7,100.00     3\n",
       "  7,104.00     1\n",
       "  7,107.00     1\n",
       "  7,110.00     1\n",
       "  7,111.00     1\n",
       "  7,112.00     1\n",
       "  7,116.00     1\n",
       "  7,128.00     1\n",
       "  7,139.00     1\n",
       "  7,143.00     1\n",
       "  7,145.00     2\n",
       "  7,150.00     2\n",
       "  7,153.00     1\n",
       "  7,156.00     1\n",
       "  7,157.00     1\n",
       "  7,162.00     1\n",
       "  7,165.00     1\n",
       "  7,175.00     1\n",
       "  7,180.00     1\n",
       "  7,186.80     1\n",
       "  7,198.00     2\n",
       "  7,200.00     4\n",
       "  7,201.60     1\n",
       "  7,209.00     1\n",
       "  7,214.00     1\n",
       "  7,220.00     1\n",
       "  7,221.00     1\n",
       "  7,224.30     1\n",
       "  7,231.00     1\n",
       "  7,238.00     1\n",
       "  7,244.40     1\n",
       "  7,250.00     1\n",
       "  7,260.00     1\n",
       "  7,261.00     1\n",
       "  7,264.90     1\n",
       "  7,270.60     1\n",
       "  7,271.00     1\n",
       "  7,275.00     1\n",
       "  7,284.00     1\n",
       "  7,287.00     1\n",
       "  7,294.00     1\n",
       "  7,299.00     1\n",
       "  7,300.00     3\n",
       "  7,310.00     1\n",
       "  7,320.00     1\n",
       "  7,328.00     1\n",
       "  7,330.50     1\n",
       "  7,335.00     1\n",
       "  7,351.00     1\n",
       "  7,357.00     1\n",
       "  7,376.00     1\n",
       "  7,377.50     1\n",
       "  7,378.00     2\n",
       "  7,379.00     1\n",
       "  7,386.00     1\n",
       "  7,400.00     3\n",
       "  7,403.00     2\n",
       "  7,404.00     1\n",
       "  7,406.60     1\n",
       "  7,413.20     1\n",
       "  7,420.00     1\n",
       "  7,425.00     1\n",
       "  7,434.00     1\n",
       "  7,440.00     1\n",
       "  7,449.00     1\n",
       "  7,453.00     1\n",
       "  7,455.00     1\n",
       "  7,456.00     1\n",
       "  7,460.40     1\n",
       "  7,462.00     1\n",
       "  7,464.00     1\n",
       "  7,474.00     1\n",
       "  7,479.20     1\n",
       "  7,485.00     1\n",
       "  7,490.00     1\n",
       "  7,491.00     1\n",
       "  7,494.00     2\n",
       "  7,495.00     1\n",
       "  7,499.40     1\n",
       "  7,500.00    10\n",
       "  7,502.00     1\n",
       "  7,503.00     1\n",
       "  7,505.00     1\n",
       "  7,510.00     1\n",
       "  7,516.00     1\n",
       "  7,517.00     1\n",
       "  7,520.00     1\n",
       "  7,521.00     1\n",
       "  7,525.00     1\n",
       "  7,528.00     1\n",
       "  7,530.00     2\n",
       "  7,548.00     1\n",
       "  7,555.00     1\n",
       "  7,563.20     1\n",
       "  7,568.00     1\n",
       "  7,571.00     1\n",
       "  7,580.00     1\n",
       "  7,589.50     1\n",
       "  7,597.00     1\n",
       "  7,600.00     8\n",
       "  7,603.00     2\n",
       "  7,620.00     1\n",
       "  7,629.20     1\n",
       "  7,631.90     1\n",
       "  7,654.00     1\n",
       "  7,660.00     1\n",
       "  7,665.00     1\n",
       "  7,680.00     5\n",
       "  7,683.00     1\n",
       "  7,685.00     1\n",
       "  7,691.00     1\n",
       "  7,693.00     1\n",
       "  7,700.00     3\n",
       "  7,708.00     1\n",
       "  7,717.00     1\n",
       "  7,718.00     1\n",
       "  7,722.00     1\n",
       "  7,736.00     1\n",
       "  7,740.00     1\n",
       "  7,750.00     2\n",
       "  7,762.00     1\n",
       "  7,782.00     1\n",
       "  7,783.00     1\n",
       "  7,790.00     1\n",
       "  7,799.40     1\n",
       "  7,800.00     4\n",
       "  7,808.40     1\n",
       "  7,815.00     1\n",
       "  7,817.00     1\n",
       "  7,828.00     1\n",
       "  7,829.40     1\n",
       "  7,831.00     1\n",
       "  7,836.20     1\n",
       "  7,838.00     1\n",
       "  7,848.00     1\n",
       "  7,856.00     1\n",
       "  7,858.00     1\n",
       "  7,863.00     2\n",
       "  7,866.00     1\n",
       "  7,870.00     2\n",
       "  7,878.00     1\n",
       "  7,879.00     1\n",
       "  7,880.00     1\n",
       "  7,880.30     1\n",
       "  7,883.50     1\n",
       "  7,892.00     1\n",
       "  7,898.00     2\n",
       "  7,900.00     3\n",
       "  7,905.00     1\n",
       "  7,909.60     1\n",
       "  7,910.00     1\n",
       "  7,917.00     1\n",
       "  7,919.40     1\n",
       "  7,926.00     1\n",
       "  7,927.00     1\n",
       "  7,934.00     1\n",
       "  7,935.00     1\n",
       "  7,943.00     1\n",
       "  7,950.00     1\n",
       "  7,953.00     1\n",
       "  7,962.00     1\n",
       "  7,963.00     2\n",
       "  7,966.00     1\n",
       "  7,979.00     1\n",
       "  7,980.00     1\n",
       "  7,981.00     1\n",
       "  7,993.00     1\n",
       "  8,000.00    34\n",
       "  8,011.00     2\n",
       "  8,019.80     1\n",
       "  8,021.00     1\n",
       "  8,045.00     2\n",
       "  8,051.00     1\n",
       "  8,055.00     2\n",
       "  8,056.00     1\n",
       "  8,060.00     1\n",
       "  8,061.00     1\n",
       "  8,080.00     2\n",
       "  8,100.00     5\n",
       "  8,120.00     1\n",
       "  8,121.00     1\n",
       "  8,134.00     1\n",
       "  8,135.00     1\n",
       "  8,136.70     1\n",
       "  8,140.00     1\n",
       "  8,157.00     1\n",
       "  8,189.00     1\n",
       "  8,199.50     1\n",
       "  8,203.00     1\n",
       "  8,212.00     2\n",
       "  8,221.00     1\n",
       "  8,236.10     1\n",
       "  8,240.20     1\n",
       "  8,246.00     1\n",
       "  8,255.00     1\n",
       "  8,260.00     2\n",
       "  8,282.00     1\n",
       "  8,284.00     1\n",
       "  8,287.00     1\n",
       "  8,289.90     1\n",
       "  8,294.00     1\n",
       "  8,296.00     1\n",
       "  8,299.00     1\n",
       "  8,300.00     4\n",
       "  8,304.00     2\n",
       "  8,309.00     1\n",
       "  8,310.00     1\n",
       "  8,312.00     1\n",
       "  8,330.00     1\n",
       "  8,332.00     2\n",
       "  8,333.00     2\n",
       "  8,333.51     1\n",
       "  8,347.00     1\n",
       "  8,358.00     1\n",
       "  8,360.00     1\n",
       "  8,382.00     2\n",
       "  8,390.00     1\n",
       "  8,395.00     1\n",
       "  8,400.00     2\n",
       "  8,401.00     2\n",
       "  8,404.00     1\n",
       "  8,404.40     1\n",
       "  8,416.00     1\n",
       "  8,422.00     1\n",
       "  8,427.00     1\n",
       "  8,435.00     1\n",
       "  8,450.00     1\n",
       "  8,455.00     1\n",
       "  8,474.00     1\n",
       "  8,480.00     2\n",
       "  8,482.00     1\n",
       "  8,494.00     1\n",
       "  8,497.00     1\n",
       "  8,500.00    10\n",
       "  8,513.00     1\n",
       "  8,522.00     1\n",
       "  8,527.00     1\n",
       "  8,530.00     1\n",
       "  8,541.00     1\n",
       "  8,577.00     1\n",
       "  8,580.00     1\n",
       "  8,586.00     1\n",
       "  8,590.00     1\n",
       "  8,591.00     1\n",
       "  8,592.00     1\n",
       "  8,593.00     1\n",
       "  8,594.50     1\n",
       "  8,595.00     1\n",
       "  8,599.10     1\n",
       "  8,600.00     7\n",
       "  8,603.00     1\n",
       "  8,609.00     1\n",
       "  8,612.00     1\n",
       "  8,615.10     1\n",
       "  8,616.00     1\n",
       "  8,617.00     1\n",
       "  8,619.00     1\n",
       "  8,637.60     1\n",
       "  8,640.00     2\n",
       "  8,642.00     1\n",
       "  8,649.00     1\n",
       "  8,650.00     2\n",
       "  8,656.30     1\n",
       "  8,660.00     1\n",
       "  8,660.90     1\n",
       "  8,665.00     1\n",
       "  8,669.00     1\n",
       "  8,675.00     1\n",
       "  8,681.00     1\n",
       "  8,682.00     1\n",
       "  8,687.90     1\n",
       "  8,690.00     2\n",
       "  8,700.00     1\n",
       "  8,705.00     1\n",
       "  8,708.00     1\n",
       "  8,715.70     1\n",
       "  8,716.00     1\n",
       "  8,720.00     1\n",
       "  8,721.00     1\n",
       "  8,723.00     1\n",
       "  8,733.00     1\n",
       "  8,740.00     1\n",
       "  8,750.00     1\n",
       "  8,753.80     1\n",
       "  8,758.00     1\n",
       "  8,759.00     2\n",
       "  8,766.30     1\n",
       "  8,767.00     1\n",
       "  8,780.00     1\n",
       "  8,796.00     1\n",
       "  8,800.00     6\n",
       "  8,817.50     1\n",
       "  8,826.00     1\n",
       "  8,832.00     1\n",
       "  8,834.00     1\n",
       "  8,845.00     1\n",
       "  8,861.00     1\n",
       "  8,867.30     1\n",
       "  8,871.00     1\n",
       "  8,874.00     1\n",
       "  8,876.00     1\n",
       "  8,877.00     1\n",
       "  8,886.00     1\n",
       "  8,898.00     1\n",
       "  8,900.00     4\n",
       "  8,904.00     1\n",
       "  8,908.00     1\n",
       "  8,920.00     1\n",
       "  8,924.00     1\n",
       "  8,927.00     1\n",
       "  8,941.00     1\n",
       "  8,942.00     1\n",
       "  8,945.00     1\n",
       "  8,954.00     1\n",
       "  8,958.80     1\n",
       "  8,967.00     2\n",
       "  8,988.00     1\n",
       "  8,992.00     1\n",
       "  9,000.00    12\n",
       "  9,005.10     1\n",
       "  9,006.00     1\n",
       "  9,008.60     1\n",
       "  9,016.00     1\n",
       "  9,020.00     1\n",
       "  9,041.40     1\n",
       "  9,047.00     1\n",
       "  9,050.00     1\n",
       "  9,062.00     1\n",
       "  9,062.50     1\n",
       "  9,064.00     1\n",
       "  9,071.00     1\n",
       "  9,076.00     1\n",
       "  9,077.00     1\n",
       "  9,080.00     1\n",
       "  9,081.00     1\n",
       "  9,082.00     1\n",
       "  9,089.00     1\n",
       "  9,100.00     1\n",
       "  9,133.00     2\n",
       "  9,138.00     1\n",
       "  9,140.00     1\n",
       "  9,164.00     2\n",
       "  9,178.00     1\n",
       "  9,180.00     1\n",
       "  9,185.00     1\n",
       "  9,190.00     1\n",
       "  9,200.00     2\n",
       "  9,207.00     1\n",
       "  9,210.00     1\n",
       "  9,211.00     1\n",
       "  9,230.00     1\n",
       "  9,248.00     1\n",
       "  9,252.00     1\n",
       "  9,264.00     1\n",
       "  9,280.00     1\n",
       "  9,283.00     2\n",
       "  9,286.00     1\n",
       "  9,290.00     1\n",
       "  9,294.00     1\n",
       "  9,296.00     1\n",
       "  9,300.00     2\n",
       "  9,304.00     1\n",
       "  9,322.00     1\n",
       "  9,324.00     1\n",
       "  9,330.00     1\n",
       "  9,356.00     1\n",
       "  9,357.50     1\n",
       "  9,359.00     1\n",
       "  9,362.00     1\n",
       "  9,362.60     1\n",
       "  9,363.00     1\n",
       "  9,371.00     1\n",
       "  9,380.00     1\n",
       "  9,383.00     1\n",
       "  9,384.00     1\n",
       "  9,400.00     1\n",
       "  9,404.00     1\n",
       "  9,405.00     1\n",
       "  9,408.00     1\n",
       "  9,410.00     2\n",
       "  9,421.00     1\n",
       "  9,423.00     1\n",
       "  9,428.00     1\n",
       "  9,429.00     1\n",
       "  9,431.40     1\n",
       "  9,434.00     1\n",
       "  9,443.00     1\n",
       "  9,445.00     1\n",
       "  9,450.00     1\n",
       "  9,453.20     1\n",
       "  9,468.00     1\n",
       "  9,472.00     1\n",
       "  9,473.00     1\n",
       "  9,493.00     1\n",
       "  9,497.00     1\n",
       "  9,499.00     2\n",
       "  9,500.00     7\n",
       "  9,507.00     1\n",
       "  9,516.00     1\n",
       "  9,517.00     1\n",
       "  9,523.00     1\n",
       "  9,527.40     1\n",
       "  9,529.00     1\n",
       "  9,534.00     1\n",
       "  9,560.00     1\n",
       "  9,572.00     1\n",
       "  9,592.80     1\n",
       "  9,593.00     1\n",
       "  9,600.00     5\n",
       "  9,601.00     1\n",
       "  9,607.00     1\n",
       "  9,607.90     1\n",
       "  9,620.00     1\n",
       "  9,629.00     1\n",
       "  9,633.60     1\n",
       "  9,654.00     1\n",
       "  9,668.00     1\n",
       "  9,670.00     1\n",
       "  9,672.20     1\n",
       "  9,674.00     3\n",
       "  9,676.60     1\n",
       "  9,680.00     1\n",
       "  9,700.00     3\n",
       "  9,709.00     1\n",
       "  9,711.00     1\n",
       "  9,725.40     1\n",
       "  9,728.00     1\n",
       "  9,735.90     1\n",
       "  9,740.00     1\n",
       "  9,748.00     1\n",
       "  9,751.20     1\n",
       "  9,787.00     1\n",
       "  9,795.00     1\n",
       "  9,798.00     1\n",
       "  9,800.00     1\n",
       "  9,807.20     1\n",
       "  9,819.00     1\n",
       "  9,820.00     3\n",
       "  9,826.30     1\n",
       "  9,837.00     1\n",
       "  9,838.00     1\n",
       "  9,848.00     1\n",
       "  9,859.00     1\n",
       "  9,863.00     1\n",
       "  9,864.20     1\n",
       "  9,870.00     1\n",
       "  9,870.40     1\n",
       "  9,882.00     1\n",
       "  9,886.00     1\n",
       "  9,890.00     1\n",
       "  9,912.00     1\n",
       "  9,918.00     1\n",
       "  9,929.00     1\n",
       "  9,933.00     1\n",
       "  9,940.00     1\n",
       "  9,951.80     1\n",
       "  9,977.60     1\n",
       "  9,980.00     1\n",
       "  9,995.00     1\n",
       "  9,998.00     1\n",
       " 10,000.00    23\n",
       " 10,003.00     1\n",
       " 10,022.00     1\n",
       " 10,026.00     1\n",
       " 10,031.00     1\n",
       " 10,050.00     1\n",
       " 10,053.00     1\n",
       " 10,055.00     1\n",
       " 10,056.00     1\n",
       " 10,063.40     1\n",
       " 10,077.00     2\n",
       " 10,079.00     1\n",
       " 10,094.00     1\n",
       " 10,095.00     1\n",
       " 10,098.00     1\n",
       " 10,106.00     1\n",
       " 10,109.20     1\n",
       " 10,112.90     1\n",
       " 10,119.00     1\n",
       " 10,120.00     1\n",
       " 10,121.00     1\n",
       " 10,130.00     1\n",
       " 10,131.00     2\n",
       " 10,133.00     1\n",
       " 10,135.00     2\n",
       " 10,137.00     1\n",
       " 10,140.00     1\n",
       " 10,146.20     1\n",
       " 10,173.00     1\n",
       " 10,201.00     1\n",
       " 10,204.00     1\n",
       " 10,206.30     1\n",
       " 10,213.00     1\n",
       " 10,216.00     1\n",
       " 10,219.00     2\n",
       " 10,222.00     1\n",
       " 10,226.00     1\n",
       " 10,233.00     1\n",
       " 10,238.00     1\n",
       " 10,240.00     2\n",
       " 10,250.00     1\n",
       " 10,276.66     1\n",
       " 10,280.10     1\n",
       " 10,296.00     1\n",
       " 10,317.00     1\n",
       " 10,323.00     1\n",
       " 10,324.00     1\n",
       " 10,331.00     2\n",
       " 10,332.00     1\n",
       " 10,334.00     1\n",
       " 10,343.00     1\n",
       " 10,350.00     1\n",
       " 10,353.00     1\n",
       " 10,355.00     1\n",
       " 10,361.00     1\n",
       " 10,362.00     1\n",
       " 10,367.00     1\n",
       " 10,378.00     1\n",
       " 10,380.20     1\n",
       " 10,388.00     2\n",
       " 10,394.00     2\n",
       " 10,400.00     2\n",
       " 10,405.20     1\n",
       " 10,416.00     1\n",
       " 10,420.70     1\n",
       " 10,422.00     1\n",
       " 10,423.00     1\n",
       " 10,446.00     1\n",
       " 10,458.00     1\n",
       " 10,468.00     1\n",
       " 10,470.00     1\n",
       " 10,471.00     1\n",
       " 10,473.00     1\n",
       " 10,476.00     1\n",
       " 10,481.20     1\n",
       " 10,482.00     1\n",
       " 10,484.00     1\n",
       " 10,486.00     1\n",
       " 10,500.00     6\n",
       " 10,504.00     1\n",
       " 10,515.00     1\n",
       " 10,517.00     1\n",
       " 10,527.00     1\n",
       " 10,547.00     1\n",
       " 10,549.00     1\n",
       " 10,552.20     1\n",
       " 10,560.00     1\n",
       " 10,567.00     1\n",
       " 10,570.00     2\n",
       " 10,576.00     1\n",
       " 10,580.00     1\n",
       " 10,584.00     1\n",
       " 10,586.60     1\n",
       " 10,599.00     1\n",
       " 10,600.00     1\n",
       " 10,602.20     1\n",
       " 10,610.00     3\n",
       " 10,612.00     1\n",
       " 10,617.00     1\n",
       " 10,619.00     1\n",
       " 10,629.50     1\n",
       " 10,632.00     1\n",
       " 10,644.00     1\n",
       " 10,658.00     1\n",
       " 10,661.20     1\n",
       " 10,670.00     1\n",
       " 10,679.70     1\n",
       " 10,682.00     1\n",
       " 10,691.00     1\n",
       " 10,700.00     4\n",
       " 10,706.00     1\n",
       " 10,708.00     1\n",
       " 10,714.80     1\n",
       " 10,720.60     1\n",
       " 10,721.00     1\n",
       " 10,723.00     1\n",
       " 10,733.00     1\n",
       " 10,748.00     1\n",
       " 10,766.00     1\n",
       " 10,766.24     1\n",
       " 10,766.60     1\n",
       " 10,770.00     1\n",
       " 10,771.00     1\n",
       " 10,772.00     1\n",
       " 10,775.00     1\n",
       " 10,788.73     1\n",
       " 10,800.00     2\n",
       " 10,812.00     1\n",
       " 10,816.00     1\n",
       " 10,836.00     1\n",
       " 10,845.00     1\n",
       " 10,850.00     1\n",
       " 10,857.00     2\n",
       " 10,880.00     1\n",
       " 10,906.60     1\n",
       " 10,909.00     1\n",
       " 10,919.00     1\n",
       " 10,924.00     1\n",
       " 10,925.00     1\n",
       " 10,944.00     1\n",
       " 10,953.00     1\n",
       " 10,986.70     1\n",
       " 11,000.00    11\n",
       " 11,004.00     1\n",
       " 11,005.00     1\n",
       " 11,008.00     1\n",
       " 11,009.00     1\n",
       " 11,012.00     1\n",
       " 11,015.00     1\n",
       " 11,025.00     1\n",
       " 11,032.00     1\n",
       " 11,034.00     1\n",
       " 11,035.00     1\n",
       " 11,036.00     1\n",
       " 11,042.00     1\n",
       " 11,058.00     1\n",
       " 11,067.00     1\n",
       " 11,081.00     1\n",
       " 11,083.00     1\n",
       " 11,089.00     1\n",
       " 11,100.00     1\n",
       " 11,115.00     1\n",
       " 11,149.00     1\n",
       " 11,180.00     1\n",
       " 11,185.00     1\n",
       " 11,188.00     1\n",
       " 11,195.30     1\n",
       " 11,198.00     1\n",
       " 11,200.00     2\n",
       " 11,210.00     1\n",
       " 11,212.70     1\n",
       " 11,213.00     1\n",
       " 11,218.00     1\n",
       " 11,222.00     1\n",
       " 11,231.30     1\n",
       " 11,242.00     1\n",
       " 11,249.00     1\n",
       " 11,250.00     1\n",
       " 11,271.00     1\n",
       " 11,299.00     1\n",
       " 11,300.00     2\n",
       " 11,311.30     1\n",
       " 11,320.00     1\n",
       " 11,330.00     1\n",
       " 11,339.00     1\n",
       " 11,357.00     1\n",
       " 11,357.20     1\n",
       " 11,375.00     1\n",
       " 11,381.00     1\n",
       " 11,382.00     1\n",
       " 11,400.00     1\n",
       " 11,401.00     1\n",
       " 11,414.00     1\n",
       " 11,420.00     1\n",
       " 11,429.00     1\n",
       " 11,430.00     1\n",
       " 11,443.10     1\n",
       " 11,453.00     1\n",
       " 11,455.00     1\n",
       " 11,473.60     1\n",
       " 11,475.00     1\n",
       " 11,482.30     1\n",
       " 11,486.00     1\n",
       " 11,496.00     1\n",
       " 11,500.00     2\n",
       " 11,507.00     1\n",
       " 11,520.00     3\n",
       " 11,526.00     1\n",
       " 11,540.00     1\n",
       " 11,542.90     1\n",
       " 11,550.00     1\n",
       " 11,566.00     1\n",
       " 11,577.00     1\n",
       " 11,589.00     1\n",
       " 11,589.70     1\n",
       " 11,590.00     1\n",
       " 11,600.00     1\n",
       " 11,606.00     1\n",
       " 11,610.00     1\n",
       " 11,611.00     1\n",
       " 11,615.00     1\n",
       " 11,619.00     1\n",
       " 11,622.00     1\n",
       " 11,631.00     2\n",
       " 11,641.00     1\n",
       " 11,675.20     1\n",
       " 11,690.00     1\n",
       " 11,699.00     1\n",
       " 11,699.50     1\n",
       " 11,705.40     1\n",
       " 11,710.00     1\n",
       " 11,725.00     1\n",
       " 11,728.00     1\n",
       " 11,736.50     1\n",
       " 11,740.00     1\n",
       " 11,760.00     1\n",
       " 11,765.00     2\n",
       " 11,772.00     1\n",
       " 11,785.00     1\n",
       " 11,791.00     1\n",
       " 11,809.00     1\n",
       " 11,822.04     1\n",
       " 11,833.00     1\n",
       " 11,856.00     1\n",
       " 11,875.00     1\n",
       " 11,881.00     1\n",
       " 11,881.90     1\n",
       " 11,927.00     1\n",
       " 11,936.00     2\n",
       " 11,966.00     1\n",
       " 12,000.00    17\n",
       " 12,011.00     1\n",
       " 12,015.00     1\n",
       " 12,018.00     1\n",
       " 12,024.00     1\n",
       " 12,031.00     1\n",
       " 12,046.00     1\n",
       " 12,060.00     1\n",
       " 12,068.40     1\n",
       " 12,069.00     1\n",
       " 12,076.00     1\n",
       " 12,084.00     1\n",
       " 12,087.00     1\n",
       " 12,091.00     1\n",
       " 12,107.00     1\n",
       " 12,154.00     1\n",
       " 12,160.00     1\n",
       " 12,166.00     1\n",
       " 12,188.00     1\n",
       " 12,200.00     3\n",
       " 12,201.00     1\n",
       " 12,209.00     1\n",
       " 12,246.00     1\n",
       " 12,254.80     1\n",
       " 12,263.00     1\n",
       " 12,265.00     1\n",
       " 12,286.10     1\n",
       " 12,290.00     1\n",
       " 12,303.00     1\n",
       " 12,309.00     1\n",
       " 12,311.00     1\n",
       " 12,350.00     1\n",
       " 12,354.00     1\n",
       " 12,365.00     1\n",
       " 12,368.00     1\n",
       " 12,371.00     1\n",
       " 12,377.00     1\n",
       " 12,379.00     1\n",
       " 12,389.00     1\n",
       " 12,395.00     1\n",
       " 12,409.50     1\n",
       " 12,410.00     1\n",
       " 12,440.00     1\n",
       " 12,443.00     1\n",
       " 12,450.00     1\n",
       " 12,453.00     1\n",
       " 12,457.00     1\n",
       " 12,461.10     1\n",
       " 12,467.00     1\n",
       " 12,469.00     1\n",
       " 12,474.00     1\n",
       " 12,485.00     1\n",
       " 12,495.00     1\n",
       " 12,498.00     1\n",
       " 12,500.00     4\n",
       " 12,513.00     1\n",
       " 12,525.00     1\n",
       " 12,531.00     1\n",
       " 12,535.00     2\n",
       " 12,544.00     1\n",
       " 12,550.00     1\n",
       " 12,568.00     1\n",
       " 12,575.00     1\n",
       " 12,582.00     1\n",
       " 12,585.00     1\n",
       " 12,595.00     1\n",
       " 12,600.00     1\n",
       " 12,606.50     1\n",
       " 12,607.00     1\n",
       " 12,613.00     1\n",
       " 12,624.00     1\n",
       " 12,637.60     1\n",
       " 12,641.20     1\n",
       " 12,651.00     1\n",
       " 12,659.00     1\n",
       " 12,660.00     1\n",
       " 12,677.00     1\n",
       " 12,680.00     1\n",
       " 12,681.00     1\n",
       " 12,691.00     1\n",
       " 12,705.00     1\n",
       " 12,716.00     1\n",
       " 12,720.00     1\n",
       " 12,753.00     1\n",
       " 12,759.00     1\n",
       " 12,760.00     1\n",
       " 12,764.16     1\n",
       " 12,768.00     1\n",
       " 12,783.70     1\n",
       " 12,800.00     2\n",
       " 12,802.00     1\n",
       " 12,806.00     1\n",
       " 12,834.00     1\n",
       " 12,837.00     1\n",
       " 12,852.90     1\n",
       " 12,855.00     1\n",
       " 12,856.00     1\n",
       " 12,860.00     1\n",
       " 12,864.00     1\n",
       " 12,877.00     1\n",
       " 12,880.70     1\n",
       " 12,891.00     1\n",
       " 12,892.00     1\n",
       " 12,900.00     1\n",
       " 12,923.60     1\n",
       " 12,934.40     1\n",
       " 12,935.00     1\n",
       " 12,946.00     1\n",
       " 12,960.00     1\n",
       " 12,986.00     1\n",
       " 12,995.00     1\n",
       " 12,998.00     1\n",
       " 13,000.00     6\n",
       " 13,009.00     1\n",
       " 13,057.00     1\n",
       " 13,070.00     1\n",
       " 13,072.00     1\n",
       " 13,087.00     1\n",
       " 13,091.40     1\n",
       " 13,105.90     1\n",
       " 13,106.00     1\n",
       " 13,110.00     1\n",
       " 13,116.00     1\n",
       " 13,131.00     1\n",
       " 13,149.20     1\n",
       " 13,153.00     1\n",
       " 13,161.00     1\n",
       " 13,166.00     1\n",
       " 13,179.80     1\n",
       " 13,190.00     1\n",
       " 13,200.00     3\n",
       " 13,202.00     1\n",
       " 13,214.00     1\n",
       " 13,216.00     1\n",
       " 13,221.00     1\n",
       " 13,235.00     1\n",
       " 13,261.00     1\n",
       " 13,263.00     1\n",
       " 13,299.00     1\n",
       " 13,305.00     1\n",
       " 13,312.00     1\n",
       " 13,325.00     1\n",
       " 13,327.00     1\n",
       " 13,348.40     1\n",
       " 13,351.00     1\n",
       " 13,383.00     1\n",
       " 13,400.00     3\n",
       " 13,424.00     1\n",
       " 13,433.00     1\n",
       " 13,450.00     1\n",
       " 13,453.10     1\n",
       " 13,456.00     1\n",
       " 13,456.50     1\n",
       " 13,456.60     1\n",
       " 13,469.00     1\n",
       " 13,473.80     1\n",
       " 13,479.54     1\n",
       " 13,493.00     1\n",
       " 13,500.00     1\n",
       " 13,525.00     1\n",
       " 13,533.00     1\n",
       " 13,536.00     1\n",
       " 13,539.00     1\n",
       " 13,541.00     1\n",
       " 13,548.00     1\n",
       " 13,556.00     1\n",
       " 13,556.30     1\n",
       " 13,558.00     1\n",
       " 13,572.00     1\n",
       " 13,600.00     1\n",
       " 13,650.00     1\n",
       " 13,652.00     1\n",
       " 13,654.00     1\n",
       " 13,654.90     1\n",
       " 13,666.00     1\n",
       " 13,700.00     1\n",
       " 13,702.00     1\n",
       " 13,708.00     1\n",
       " 13,709.00     1\n",
       " 13,740.00     1\n",
       " 13,745.00     1\n",
       " 13,766.00     1\n",
       " 13,766.30     1\n",
       " 13,775.00     2\n",
       " 13,775.50     1\n",
       " 13,784.00     1\n",
       " 13,789.60     1\n",
       " 13,790.00     1\n",
       " 13,800.00     3\n",
       " 13,804.00     1\n",
       " 13,820.00     3\n",
       " 13,837.00     1\n",
       " 13,843.00     1\n",
       " 13,846.00     1\n",
       " 13,866.00     1\n",
       " 13,882.00     1\n",
       " 13,903.00     1\n",
       " 13,918.00     1\n",
       " 13,920.00     1\n",
       " 13,925.00     1\n",
       " 13,926.00     1\n",
       " 13,932.00     1\n",
       " 13,940.00     1\n",
       " 13,949.50     1\n",
       " 13,950.00     1\n",
       " 13,969.00     1\n",
       " 14,000.00     8\n",
       " 14,004.00     1\n",
       " 14,016.00     1\n",
       " 14,032.00     1\n",
       " 14,039.00     1\n",
       " 14,049.00     1\n",
       " 14,058.00     1\n",
       " 14,090.00     1\n",
       " 14,095.00     1\n",
       " 14,099.00     1\n",
       " 14,100.00     3\n",
       " 14,103.00     1\n",
       " 14,128.00     1\n",
       " 14,140.00     1\n",
       " 14,153.70     1\n",
       " 14,164.11     1\n",
       " 14,169.90     1\n",
       " 14,194.00     1\n",
       " 14,200.00     2\n",
       " 14,208.00     1\n",
       " 14,210.00     1\n",
       " 14,223.80     1\n",
       " 14,230.00     1\n",
       " 14,233.00     1\n",
       " 14,235.00     1\n",
       " 14,255.00     1\n",
       " 14,273.10     1\n",
       " 14,280.00     1\n",
       " 14,288.70     1\n",
       " 14,293.00     1\n",
       " 14,315.00     1\n",
       " 14,355.00     1\n",
       " 14,403.00     1\n",
       " 14,404.00     1\n",
       " 14,404.80     1\n",
       " 14,413.00     1\n",
       " 14,416.00     1\n",
       " 14,435.00     1\n",
       " 14,440.00     1\n",
       " 14,453.00     1\n",
       " 14,484.00     1\n",
       " 14,490.00     1\n",
       " 14,500.00     1\n",
       " 14,507.00     1\n",
       " 14,513.00     1\n",
       " 14,534.00     1\n",
       " 14,537.00     1\n",
       " 14,549.00     1\n",
       " 14,560.00     1\n",
       " 14,572.00     1\n",
       " 14,590.00     1\n",
       " 14,604.00     1\n",
       " 14,626.00     1\n",
       " 14,637.00     1\n",
       " 14,656.00     1\n",
       " 14,700.00     4\n",
       " 14,703.00     1\n",
       " 14,712.00     1\n",
       " 14,720.00     1\n",
       " 14,750.00     1\n",
       " 14,768.10     1\n",
       " 14,772.00     1\n",
       " 14,840.00     1\n",
       " 14,845.00     1\n",
       " 14,854.00     1\n",
       " 14,855.00     1\n",
       " 14,869.00     1\n",
       " 14,879.70     1\n",
       " 14,881.30     1\n",
       " 14,886.00     1\n",
       " 14,890.00     1\n",
       " 14,892.40     1\n",
       " 14,904.00     1\n",
       " 14,910.60     1\n",
       " 14,936.00     1\n",
       " 14,942.90     1\n",
       " 14,956.00     1\n",
       " 14,987.00     1\n",
       " 14,988.00     1\n",
       " 14,990.00     1\n",
       " 14,999.00     1\n",
       " 15,000.00    14\n",
       " 15,002.00     1\n",
       " 15,023.00     1\n",
       " 15,028.90     1\n",
       " 15,040.00     1\n",
       " 15,075.00     1\n",
       " 15,086.00     1\n",
       " 15,089.00     1\n",
       " 15,118.00     1\n",
       " 15,130.00     1\n",
       " 15,131.70     1\n",
       " 15,176.00     1\n",
       " 15,178.00     1\n",
       " 15,183.00     1\n",
       " 15,210.00     1\n",
       " 15,230.00     1\n",
       " 15,233.00     1\n",
       " 15,234.00     1\n",
       " 15,238.00     1\n",
       " 15,263.00     1\n",
       " 15,278.00     1\n",
       " 15,280.00     1\n",
       " 15,297.00     1\n",
       " 15,300.00     1\n",
       " 15,312.00     1\n",
       " 15,331.00     1\n",
       " 15,341.00     1\n",
       " 15,356.00     1\n",
       " 15,360.00     2\n",
       " 15,362.00     1\n",
       " 15,378.00     1\n",
       " 15,380.00     1\n",
       " 15,387.00     1\n",
       " 15,403.00     1\n",
       " 15,427.00     1\n",
       " 15,454.00     1\n",
       " 15,479.00     1\n",
       " 15,500.00     1\n",
       " 15,528.30     1\n",
       " 15,546.00     1\n",
       " 15,547.00     1\n",
       " 15,556.00     1\n",
       " 15,560.50     1\n",
       " 15,562.50     1\n",
       " 15,563.00     1\n",
       " 15,569.00     1\n",
       " 15,584.00     1\n",
       " 15,591.00     2\n",
       " 15,698.30     1\n",
       " 15,706.40     1\n",
       " 15,710.00     1\n",
       " 15,716.30     1\n",
       " 15,719.00     1\n",
       " 15,720.00     1\n",
       " 15,732.20     1\n",
       " 15,735.00     1\n",
       " 15,775.00     1\n",
       " 15,804.30     1\n",
       " 15,814.30     2\n",
       " 15,819.00     1\n",
       " 15,850.00     1\n",
       " 15,864.00     1\n",
       " 15,898.00     1\n",
       " 15,908.00     1\n",
       " 15,980.00     1\n",
       " 16,000.00     8\n",
       " 16,010.00     1\n",
       " 16,020.00     1\n",
       " 16,021.00     1\n",
       " 16,025.00     1\n",
       " 16,034.00     1\n",
       " 16,080.00     1\n",
       " 16,100.00     3\n",
       " 16,105.00     1\n",
       " 16,107.00     1\n",
       " 16,114.00     1\n",
       " 16,116.00     1\n",
       " 16,126.00     1\n",
       " 16,141.00     1\n",
       " 16,184.20     1\n",
       " 16,195.00     1\n",
       " 16,208.00     1\n",
       " 16,240.00     1\n",
       " 16,261.00     1\n",
       " 16,266.30     1\n",
       " 16,267.00     2\n",
       " 16,278.00     1\n",
       " 16,296.00     1\n",
       " 16,300.00     1\n",
       " 16,312.00     1\n",
       " 16,358.00     1\n",
       " 16,369.00     1\n",
       " 16,386.00     1\n",
       " 16,400.00     1\n",
       " 16,422.00     1\n",
       " 16,423.00     1\n",
       " 16,424.00     1\n",
       " 16,442.00     1\n",
       " 16,444.00     1\n",
       " 16,452.00     1\n",
       " 16,459.00     1\n",
       " 16,460.00     1\n",
       " 16,500.00     2\n",
       " 16,502.00     1\n",
       " 16,503.00     1\n",
       " 16,538.40     1\n",
       " 16,566.00     1\n",
       " 16,575.00     1\n",
       " 16,580.00     1\n",
       " 16,585.60     1\n",
       " 16,600.00     1\n",
       " 16,613.00     1\n",
       " 16,625.00     1\n",
       " 16,677.00     1\n",
       " 16,703.60     1\n",
       " 16,740.00     1\n",
       " 16,746.80     1\n",
       " 16,761.00     1\n",
       " 16,770.00     1\n",
       " 16,779.00     1\n",
       " 16,802.00     1\n",
       " 16,803.00     1\n",
       " 16,812.70     1\n",
       " 16,816.00     1\n",
       " 16,820.00     1\n",
       " 16,823.00     1\n",
       " 16,837.00     1\n",
       " 16,852.00     1\n",
       " 16,853.00     1\n",
       " 16,869.20     1\n",
       " 16,892.10     1\n",
       " 16,906.00     1\n",
       " 16,944.00     1\n",
       " 16,948.00     1\n",
       " 16,988.00     1\n",
       " 17,000.00     6\n",
       " 17,049.00     1\n",
       " 17,050.00     1\n",
       " 17,056.00     1\n",
       " 17,080.60     1\n",
       " 17,092.90     1\n",
       " 17,118.00     1\n",
       " 17,123.10     1\n",
       " 17,131.00     1\n",
       " 17,188.00     1\n",
       " 17,200.00     1\n",
       " 17,207.00     1\n",
       " 17,218.90     1\n",
       " 17,224.90     1\n",
       " 17,226.00     1\n",
       " 17,299.00     1\n",
       " 17,309.00     1\n",
       " 17,319.00     1\n",
       " 17,349.00     2\n",
       " 17,375.00     1\n",
       " 17,382.00     1\n",
       " 17,397.00     1\n",
       " 17,400.00     1\n",
       " 17,418.00     1\n",
       " 17,420.00     1\n",
       " 17,446.00     1\n",
       " 17,449.00     1\n",
       " 17,459.60     1\n",
       " 17,463.00     1\n",
       " 17,473.00     1\n",
       " 17,479.00     1\n",
       " 17,482.00     1\n",
       " 17,500.00     2\n",
       " 17,510.00     1\n",
       " 17,524.00     1\n",
       " 17,540.00     1\n",
       " 17,552.00     1\n",
       " 17,568.00     1\n",
       " 17,600.00     1\n",
       " 17,618.00     1\n",
       " 17,627.80     1\n",
       " 17,632.00     1\n",
       " 17,683.00     1\n",
       " 17,688.00     1\n",
       " 17,717.40     1\n",
       " 17,739.00     1\n",
       " 17,790.00     1\n",
       " 17,817.00     1\n",
       " 17,823.00     1\n",
       " 17,831.00     1\n",
       " 17,835.00     1\n",
       " 17,837.00     1\n",
       " 17,843.00     1\n",
       " 17,899.00     1\n",
       " 17,904.00     1\n",
       " 17,933.00     1\n",
       " 17,934.00     1\n",
       " 17,944.00     1\n",
       " 17,946.00     1\n",
       " 17,954.00     1\n",
       " 17,956.00     1\n",
       " 17,986.00     1\n",
       " 18,000.00     6\n",
       " 18,027.00     1\n",
       " 18,046.60     1\n",
       " 18,050.00     1\n",
       " 18,076.00     1\n",
       " 18,082.00     1\n",
       " 18,120.00     1\n",
       " 18,140.00     1\n",
       " 18,165.00     1\n",
       " 18,177.00     1\n",
       " 18,178.00     1\n",
       " 18,186.00     1\n",
       " 18,189.00     1\n",
       " 18,199.00     1\n",
       " 18,222.00     1\n",
       " 18,235.00     1\n",
       " 18,236.00     1\n",
       " 18,300.00     1\n",
       " 18,306.00     1\n",
       " 18,340.00     1\n",
       " 18,344.00     1\n",
       " 18,360.00     1\n",
       " 18,392.00     1\n",
       " 18,420.00     1\n",
       " 18,500.00     2\n",
       " 18,521.00     1\n",
       " 18,540.00     1\n",
       " 18,554.40     1\n",
       " 18,559.00     1\n",
       " 18,585.00     2\n",
       " 18,595.00     1\n",
       " 18,610.00     1\n",
       " 18,617.60     1\n",
       " 18,654.90     1\n",
       " 18,677.00     1\n",
       " 18,702.00     1\n",
       " 18,720.00     1\n",
       " 18,750.00     1\n",
       " 18,762.00     1\n",
       " 18,780.50     1\n",
       " 18,795.00     1\n",
       " 18,800.00     1\n",
       " 18,807.00     1\n",
       " 18,835.40     1\n",
       " 18,847.00     1\n",
       " 18,850.00     1\n",
       " 18,947.00     1\n",
       " 18,952.00     1\n",
       " 18,970.00     1\n",
       " 19,000.00     3\n",
       " 19,090.00     1\n",
       " 19,117.50     1\n",
       " 19,130.00     1\n",
       " 19,198.00     1\n",
       " 19,200.00     2\n",
       " 19,225.00     2\n",
       " 19,247.00     1\n",
       " 19,247.10     1\n",
       " 19,291.00     1\n",
       " 19,314.00     1\n",
       " 19,322.00     1\n",
       " 19,323.00     1\n",
       " 19,344.60     1\n",
       " 19,372.00     1\n",
       " 19,391.00     1\n",
       " 19,448.80     1\n",
       " 19,456.00     1\n",
       " 19,482.00     1\n",
       " 19,520.00     1\n",
       " 19,560.30     1\n",
       " 19,569.00     1\n",
       " 19,575.80     1\n",
       " 19,578.00     1\n",
       " 19,610.00     1\n",
       " 19,643.90     1\n",
       " 19,650.00     1\n",
       " 19,667.00     1\n",
       " 19,690.00     1\n",
       " 19,704.00     1\n",
       " 19,725.00     1\n",
       " 19,775.00     1\n",
       " 19,778.50     1\n",
       " 19,782.00     1\n",
       " 19,800.00     1\n",
       " 19,815.00     1\n",
       " 19,818.00     1\n",
       " 19,839.00     1\n",
       " 19,920.70     1\n",
       " 19,941.00     1\n",
       " 19,960.00     1\n",
       " 19,970.00     1\n",
       " 19,984.00     1\n",
       " 20,000.00     6\n",
       " 20,029.00     1\n",
       " 20,038.00     1\n",
       " 20,049.00     1\n",
       " 20,049.20     1\n",
       " 20,080.00     1\n",
       " 20,100.00     2\n",
       " 20,115.00     1\n",
       " 20,159.00     1\n",
       " 20,200.00     2\n",
       " 20,222.00     1\n",
       " 20,263.00     1\n",
       " 20,276.70     1\n",
       " 20,280.00     1\n",
       " 20,292.00     1\n",
       " 20,294.80     1\n",
       " 20,296.00     1\n",
       " 20,300.00     1\n",
       " 20,327.00     1\n",
       " 20,354.00     1\n",
       " 20,362.70     1\n",
       " 20,395.00     1\n",
       " 20,400.00     1\n",
       " 20,500.00     2\n",
       " 20,551.00     1\n",
       " 20,621.00     1\n",
       " 20,700.00     2\n",
       " 20,717.00     1\n",
       " 20,729.90     1\n",
       " 20,736.10     1\n",
       " 20,749.00     1\n",
       " 20,768.00     1\n",
       " 20,784.00     1\n",
       " 20,840.00     1\n",
       " 20,857.00     1\n",
       " 20,901.00     1\n",
       " 20,921.00     1\n",
       " 20,937.10     1\n",
       " 20,942.00     1\n",
       " 20,942.70     1\n",
       " 20,947.00     1\n",
       " 21,000.00     2\n",
       " 21,004.00     1\n",
       " 21,069.00     1\n",
       " 21,105.00     1\n",
       " 21,125.00     1\n",
       " 21,135.00     1\n",
       " 21,187.70     1\n",
       " 21,194.30     1\n",
       " 21,210.00     1\n",
       " 21,276.00     1\n",
       " 21,300.00     1\n",
       " 21,314.00     1\n",
       " 21,331.00     1\n",
       " 21,367.00     1\n",
       " 21,384.00     1\n",
       " 21,400.00     1\n",
       " 21,433.00     1\n",
       " 21,470.00     1\n",
       " 21,487.00     1\n",
       " 21,492.89     1\n",
       " 21,508.30     1\n",
       " 21,510.00     1\n",
       " 21,525.00     1\n",
       " 21,546.00     1\n",
       " 21,565.40     1\n",
       " 21,575.00     1\n",
       " 21,585.00     1\n",
       " 21,604.00     1\n",
       " 21,620.00     1\n",
       " 21,623.00     1\n",
       " 21,640.00     1\n",
       " 21,643.00     1\n",
       " 21,645.00     1\n",
       " 21,686.00     1\n",
       " 21,698.00     1\n",
       " 21,719.00     1\n",
       " 21,729.00     1\n",
       " 21,800.00     1\n",
       " 21,867.20     1\n",
       " 21,998.00     1\n",
       " 22,000.00     5\n",
       " 22,001.00     1\n",
       " 22,011.10     1\n",
       " 22,045.00     2\n",
       " 22,063.00     1\n",
       " 22,077.00     1\n",
       " 22,080.00     1\n",
       " 22,092.00     1\n",
       " 22,095.00     1\n",
       " 22,155.00     1\n",
       " 22,193.00     1\n",
       " 22,200.00     1\n",
       " 22,233.60     1\n",
       " 22,246.00     1\n",
       " 22,251.50     1\n",
       " 22,283.00     1\n",
       " 22,330.00     1\n",
       " 22,366.00     1\n",
       " 22,374.00     1\n",
       " 22,420.00     1\n",
       " 22,435.10     1\n",
       " 22,445.00     1\n",
       " 22,454.00     1\n",
       " 22,477.00     1\n",
       " 22,488.00     1\n",
       " 22,527.00     1\n",
       " 22,591.00     1\n",
       " 22,603.00     1\n",
       " 22,613.00     1\n",
       " 22,665.90     1\n",
       " 22,674.00     1\n",
       " 22,760.00     1\n",
       " 22,787.00     1\n",
       " 22,825.00     1\n",
       " 22,835.70     1\n",
       " 22,874.00     1\n",
       " 22,890.00     1\n",
       " 22,905.81     1\n",
       " 22,958.00     1\n",
       " 22,963.50     1\n",
       " 22,989.30     1\n",
       " 22,992.00     1\n",
       " 23,000.00     9\n",
       " 23,006.50     1\n",
       " 23,020.00     1\n",
       " 23,024.00     1\n",
       " 23,033.00     1\n",
       " 23,051.00     1\n",
       " 23,096.00     1\n",
       " 23,122.50     1\n",
       " 23,183.00     1\n",
       " 23,202.00     1\n",
       " 23,220.00     1\n",
       " 23,241.50     1\n",
       " 23,250.00     1\n",
       " 23,270.00     1\n",
       " 23,271.60     1\n",
       " 23,324.00     1\n",
       " 23,344.00     1\n",
       " 23,355.50     1\n",
       " 23,389.00     1\n",
       " 23,398.00     1\n",
       " 23,398.50     1\n",
       " 23,406.00     1\n",
       " 23,407.00     1\n",
       " 23,455.00     1\n",
       " 23,482.80     1\n",
       " 23,488.00     1\n",
       " 23,500.00     1\n",
       " 23,501.00     1\n",
       " 23,522.40     1\n",
       " 23,573.00     1\n",
       " 23,577.00     1\n",
       " 23,600.00     1\n",
       " 23,647.00     1\n",
       " 23,649.00     1\n",
       " 23,654.00     1\n",
       " 23,668.00     1\n",
       " 23,680.00     2\n",
       " 23,700.00     1\n",
       " 23,749.00     1\n",
       " 23,750.00     1\n",
       " 23,760.00     1\n",
       " 23,761.00     1\n",
       " 23,802.00     1\n",
       " 23,824.00     1\n",
       " 23,827.00     1\n",
       " 23,885.00     1\n",
       " 23,909.00     1\n",
       " 23,912.00     1\n",
       " 23,938.00     1\n",
       " 23,948.00     1\n",
       " 24,000.00     4\n",
       " 24,058.00     1\n",
       " 24,061.00     1\n",
       " 24,109.00     1\n",
       " 24,120.00     1\n",
       " 24,140.00     1\n",
       " 24,175.00     1\n",
       " 24,179.10     1\n",
       " 24,179.40     1\n",
       " 24,185.00     1\n",
       " 24,237.00     1\n",
       " 24,238.00     1\n",
       " 24,305.00     1\n",
       " 24,310.00     1\n",
       " 24,315.00     1\n",
       " 24,340.00     1\n",
       " 24,370.00     1\n",
       " 24,387.00     1\n",
       " 24,400.00     1\n",
       " 24,452.00     1\n",
       " 24,501.00     1\n",
       " 24,505.00     1\n",
       " 24,515.00     1\n",
       " 24,524.80     1\n",
       " 24,565.00     1\n",
       " 24,580.00     1\n",
       " 24,594.00     1\n",
       " 24,600.00     1\n",
       " 24,602.00     1\n",
       " 24,608.00     1\n",
       " 24,639.00     1\n",
       " 24,667.00     1\n",
       " 24,776.00     1\n",
       " 24,781.00     1\n",
       " 24,800.00     1\n",
       " 24,810.00     1\n",
       " 24,849.00     1\n",
       " 24,900.00     1\n",
       " 24,923.50     1\n",
       " 24,931.00     1\n",
       " 24,945.00     1\n",
       " 24,970.00     2\n",
       " 25,000.00    13\n",
       " 25,007.00     1\n",
       " 25,039.00     1\n",
       " 25,093.00     1\n",
       " 25,117.00     1\n",
       " 25,150.00     1\n",
       " 25,156.00     1\n",
       " 25,186.00     1\n",
       " 25,199.00     1\n",
       " 25,202.00     1\n",
       " 25,213.00     1\n",
       " 25,230.00     1\n",
       " 25,239.00     1\n",
       " 25,260.00     1\n",
       " 25,280.00     1\n",
       " 25,315.00     1\n",
       " 25,329.00     1\n",
       " 25,339.60     1\n",
       " 25,380.00     1\n",
       " 25,385.00     1\n",
       " 25,396.00     1\n",
       " 25,398.00     1\n",
       " 25,433.00     1\n",
       " 25,456.00     1\n",
       " 25,490.00     1\n",
       " 25,491.00     1\n",
       " 25,500.00     1\n",
       " 25,577.00     1\n",
       " 25,582.00     1\n",
       " 25,600.00     2\n",
       " 25,620.00     1\n",
       " 25,680.00     1\n",
       " 25,687.50     1\n",
       " 25,734.00     1\n",
       " 25,747.00     1\n",
       " 25,752.00     1\n",
       " 25,803.10     1\n",
       " 25,828.00     1\n",
       " 25,873.00     1\n",
       " 25,877.00     1\n",
       " 25,907.00     1\n",
       " 25,918.60     1\n",
       " 25,937.00     1\n",
       " 25,973.80     1\n",
       " 26,000.00     2\n",
       " 26,040.00     1\n",
       " 26,093.00     1\n",
       " 26,200.00     1\n",
       " 26,201.30     1\n",
       " 26,202.00     1\n",
       " 26,279.00     1\n",
       " 26,294.00     1\n",
       " 26,300.00     1\n",
       " 26,428.00     1\n",
       " 26,448.00     1\n",
       " 26,452.20     1\n",
       " 26,525.00     1\n",
       " 26,560.00     1\n",
       " 26,598.00     1\n",
       " 26,600.00     1\n",
       " 26,610.00     1\n",
       " 26,621.80     1\n",
       " 26,710.40     1\n",
       " 26,725.00     1\n",
       " 26,795.00     1\n",
       " 26,805.00     1\n",
       " 26,873.00     1\n",
       " 26,900.00     1\n",
       " 27,000.00     1\n",
       " 27,052.00     1\n",
       " 27,066.00     1\n",
       " 27,100.00     1\n",
       " 27,132.40     1\n",
       " 27,150.00     1\n",
       " 27,181.00     1\n",
       " 27,318.00     1\n",
       " 27,337.00     1\n",
       " 27,350.80     1\n",
       " 27,354.00     1\n",
       " 27,440.00     1\n",
       " 27,531.00     1\n",
       " 27,600.00     1\n",
       " 27,676.00     1\n",
       " 27,677.00     1\n",
       " 27,720.00     1\n",
       " 27,883.00     1\n",
       " 27,898.00     1\n",
       " 27,900.00     1\n",
       " 27,936.00     1\n",
       " 27,972.20     1\n",
       " 28,010.00     1\n",
       " 28,079.00     1\n",
       " 28,141.00     1\n",
       " 28,142.00     1\n",
       " 28,164.00     1\n",
       " 28,177.20     1\n",
       " 28,333.00     1\n",
       " 28,336.00     1\n",
       " 28,348.00     1\n",
       " 28,431.00     1\n",
       " 28,442.00     1\n",
       " 28,476.00     1\n",
       " 28,500.00     1\n",
       " 28,505.00     1\n",
       " 28,540.00     1\n",
       " 28,593.00     1\n",
       " 28,625.00     1\n",
       " 28,634.00     1\n",
       " 28,661.30     1\n",
       " 28,800.00     1\n",
       " 28,810.00     1\n",
       " 28,906.40     1\n",
       " 28,918.00     1\n",
       " 28,953.00     1\n",
       " 28,979.00     1\n",
       " 29,000.00     2\n",
       " 29,048.00     1\n",
       " 29,060.40     1\n",
       " 29,062.00     1\n",
       " 29,099.10     1\n",
       " 29,100.00     1\n",
       " 29,112.00     1\n",
       " 29,135.00     1\n",
       " 29,200.00     1\n",
       " 29,229.50     1\n",
       " 29,250.00     1\n",
       " 29,400.00     1\n",
       " 29,435.00     1\n",
       " 29,500.00     1\n",
       " 29,501.40     1\n",
       " 29,502.00     1\n",
       " 29,508.00     1\n",
       " 29,532.00     1\n",
       " 29,565.00     1\n",
       " 29,611.00     1\n",
       " 29,660.00     1\n",
       " 29,680.00     1\n",
       " 29,700.00     1\n",
       " 29,730.00     1\n",
       " 29,921.00     1\n",
       " 29,933.00     1\n",
       " 29,950.00     1\n",
       " 29,952.00     1\n",
       " 29,966.00     1\n",
       " 30,000.00     6\n",
       " 30,170.00     1\n",
       " 30,170.70     1\n",
       " 30,237.00     1\n",
       " 30,238.90     1\n",
       " 30,251.00     1\n",
       " 30,274.00     1\n",
       " 30,292.00     1\n",
       " 30,294.00     1\n",
       " 30,305.00     1\n",
       " 30,372.00     1\n",
       " 30,408.00     1\n",
       " 30,450.00     1\n",
       " 30,487.00     1\n",
       " 30,526.00     1\n",
       " 30,568.00     1\n",
       " 30,600.00     2\n",
       " 30,655.00     1\n",
       " 30,678.10     1\n",
       " 30,700.00     1\n",
       " 30,720.00     1\n",
       " 30,736.80     1\n",
       " 30,809.00     1\n",
       " 30,814.00     1\n",
       " 30,839.00     1\n",
       " 30,929.00     1\n",
       " 31,000.00     1\n",
       " 31,010.00     1\n",
       " 31,046.60     1\n",
       " 31,089.90     1\n",
       " 31,140.00     1\n",
       " 31,194.00     1\n",
       " 31,295.00     1\n",
       " 31,316.00     1\n",
       " 31,322.00     1\n",
       " 31,338.40     1\n",
       " 31,360.00     1\n",
       " 31,395.00     1\n",
       " 31,419.00     2\n",
       " 31,503.00     1\n",
       " 31,568.00     1\n",
       " 31,600.00     1\n",
       " 31,616.20     1\n",
       " 31,624.70     2\n",
       " 31,705.00     1\n",
       " 31,727.00     1\n",
       " 31,830.00     1\n",
       " 31,861.00     1\n",
       " 31,872.00     1\n",
       " 31,917.00     1\n",
       " 32,000.00     2\n",
       " 32,059.00     1\n",
       " 32,126.00     1\n",
       " 32,243.00     1\n",
       " 32,250.00     1\n",
       " 32,312.40     1\n",
       " 32,327.80     1\n",
       " 32,352.00     1\n",
       " 32,496.00     1\n",
       " 32,565.80     1\n",
       " 32,670.00     1\n",
       " 32,774.50     1\n",
       " 32,812.00     1\n",
       " 32,860.00     1\n",
       " 32,895.80     1\n",
       " 32,903.00     1\n",
       " 32,960.00     1\n",
       " 32,967.00     1\n",
       " 33,000.00     5\n",
       " 33,037.00     1\n",
       " 33,065.00     1\n",
       " 33,103.00     1\n",
       " 33,131.00     1\n",
       " 33,262.00     1\n",
       " 33,279.00     1\n",
       " 33,318.00     1\n",
       " 33,362.60     1\n",
       " 33,452.00     1\n",
       " 33,490.00     2\n",
       " 33,569.00     1\n",
       " 33,581.00     1\n",
       " 33,633.00     1\n",
       " 33,655.20     1\n",
       " 33,665.00     1\n",
       " 33,758.00     1\n",
       " 33,793.80     1\n",
       " 33,838.00     1\n",
       " 33,867.00     1\n",
       " 33,894.00     1\n",
       " 33,948.00     1\n",
       " 33,952.00     1\n",
       " 34,006.00     1\n",
       " 34,068.00     1\n",
       " 34,091.00     1\n",
       " 34,175.00     1\n",
       " 34,175.60     1\n",
       " 34,200.00     1\n",
       " 34,203.00     1\n",
       " 34,271.00     1\n",
       " 34,319.00     1\n",
       " 34,484.70     1\n",
       " 34,507.00     1\n",
       " 34,550.00     1\n",
       " 34,581.00     1\n",
       " 34,660.00     1\n",
       " 34,665.00     1\n",
       " 34,851.40     1\n",
       " 34,936.00     1\n",
       " 34,941.00     1\n",
       " 35,000.00     3\n",
       " 35,041.00     1\n",
       " 35,090.00     1\n",
       " 35,101.00     1\n",
       " 35,122.00     1\n",
       " 35,129.00     1\n",
       " 35,165.00     1\n",
       " 35,238.00     1\n",
       " 35,300.00     1\n",
       " 35,455.70     1\n",
       " 35,482.00     1\n",
       " 35,490.00     1\n",
       " 35,500.00     1\n",
       " 35,577.20     1\n",
       " 35,583.00     1\n",
       " 35,613.00     1\n",
       " 35,639.00     1\n",
       " 35,649.60     1\n",
       " 35,696.00     1\n",
       " 35,724.00     1\n",
       " 35,748.70     1\n",
       " 35,748.90     1\n",
       " 35,874.00     1\n",
       " 35,907.00     1\n",
       " 35,912.60     1\n",
       " 35,932.00     1\n",
       " 36,045.00     1\n",
       " 36,180.00     1\n",
       " 36,185.00     1\n",
       " 36,250.00     1\n",
       " 36,324.00     1\n",
       " 36,372.00     1\n",
       " 36,388.00     1\n",
       " 36,400.00     1\n",
       " 36,633.00     1\n",
       " 36,645.00     1\n",
       " 36,700.00     1\n",
       " 36,775.00     1\n",
       " 36,800.00     1\n",
       " 36,847.00     1\n",
       " 37,026.00     1\n",
       " 37,240.00     1\n",
       " 37,336.00     1\n",
       " 37,363.00     1\n",
       " 37,405.00     1\n",
       " 37,527.00     1\n",
       " 37,597.30     1\n",
       " 37,600.00     1\n",
       " 37,716.90     1\n",
       " 37,725.00     1\n",
       " 37,835.00     1\n",
       " 37,842.50     1\n",
       " 37,900.00     1\n",
       " 37,923.40     1\n",
       " 38,000.00     2\n",
       " 38,068.10     1\n",
       " 38,124.00     1\n",
       " 38,131.00     1\n",
       " 38,152.00     1\n",
       " 38,174.00     1\n",
       " 38,179.00     1\n",
       " 38,200.00     1\n",
       " 38,356.00     1\n",
       " 38,394.00     1\n",
       " 38,398.30     1\n",
       " 38,400.00     1\n",
       " 38,510.00     1\n",
       " 38,710.00     1\n",
       " 38,753.00     1\n",
       " 38,858.00     1\n",
       " 39,000.00     2\n",
       " 39,043.00     1\n",
       " 39,072.00     1\n",
       " 39,116.00     1\n",
       " 39,138.00     1\n",
       " 39,186.10     1\n",
       " 39,465.00     1\n",
       " 39,550.00     1\n",
       " 39,562.00     1\n",
       " 39,577.00     1\n",
       " 39,639.80     1\n",
       " 39,660.00     1\n",
       " 39,812.00     1\n",
       " 39,862.00     1\n",
       " 39,907.00     1\n",
       " 39,937.00     1\n",
       " 40,000.00     6\n",
       " 40,012.00     1\n",
       " 40,031.00     1\n",
       " 40,084.80     1\n",
       " 40,200.00     1\n",
       " 40,333.20     1\n",
       " 40,402.00     1\n",
       " 40,483.00     1\n",
       " 40,599.00     1\n",
       " 40,731.90     1\n",
       " 40,950.00     1\n",
       " 41,000.00     4\n",
       " 41,050.00     1\n",
       " 41,060.00     1\n",
       " 41,123.50     1\n",
       " 41,195.00     1\n",
       " 41,410.00     1\n",
       " 41,451.00     1\n",
       " 41,497.00     1\n",
       " 41,628.00     1\n",
       " 41,742.90     1\n",
       " 41,755.80     1\n",
       " 41,763.00     1\n",
       " 41,800.00     1\n",
       " 41,830.00     1\n",
       " 41,862.70     1\n",
       " 41,911.40     1\n",
       " 41,983.00     1\n",
       " 42,110.00     1\n",
       " 42,156.70     1\n",
       " 42,212.00     1\n",
       " 42,402.80     1\n",
       " 42,543.00     1\n",
       " 42,563.00     1\n",
       " 42,694.00     1\n",
       " 42,745.00     1\n",
       " 42,767.00     1\n",
       " 42,780.00     1\n",
       " 42,799.00     1\n",
       " 43,000.00     1\n",
       " 43,199.80     1\n",
       " 43,201.00     1\n",
       " 43,241.00     1\n",
       " 43,245.00     1\n",
       " 43,329.70     1\n",
       " 43,373.50     1\n",
       " 43,378.00     1\n",
       " 43,545.00     1\n",
       " 43,561.50     1\n",
       " 43,577.00     1\n",
       " 43,600.00     1\n",
       " 43,639.00     1\n",
       " 43,660.00     1\n",
       " 43,700.00     1\n",
       " 43,705.00     1\n",
       " 43,830.00     1\n",
       " 43,874.00     1\n",
       " 44,050.00     1\n",
       " 44,140.00     1\n",
       " 44,176.00     1\n",
       " 44,282.20     1\n",
       " 44,345.00     1\n",
       " 44,452.00     1\n",
       " 44,683.00     1\n",
       " 44,707.00     1\n",
       " 44,892.00     1\n",
       " 45,000.00     1\n",
       " 45,294.00     1\n",
       " 45,300.00     1\n",
       " 45,446.00     1\n",
       " 45,767.70     1\n",
       " 45,814.00     1\n",
       " 45,862.00     1\n",
       " 45,877.00     1\n",
       " 45,930.40     1\n",
       " 45,995.70     1\n",
       " 46,011.00     1\n",
       " 46,298.00     1\n",
       " 46,444.60     1\n",
       " 46,522.70     1\n",
       " 46,545.30     1\n",
       " 46,637.50     1\n",
       " 46,681.00     1\n",
       " 46,800.00     1\n",
       " 46,802.00     1\n",
       " 46,956.00     1\n",
       " 47,000.00     2\n",
       " 47,060.00     1\n",
       " 47,133.00     1\n",
       " 47,154.00     1\n",
       " 47,187.00     1\n",
       " 47,300.00     1\n",
       " 47,333.20     1\n",
       " 47,387.00     1\n",
       " 47,494.00     1\n",
       " 47,592.00     1\n",
       " 47,626.00     1\n",
       " 47,647.00     1\n",
       " 47,650.00     1\n",
       " 47,760.00     1\n",
       " 47,860.10     1\n",
       " 47,921.00     1\n",
       " 47,958.00     1\n",
       " 48,000.00     1\n",
       " 48,079.60     1\n",
       " 48,087.00     1\n",
       " 48,143.00     1\n",
       " 48,176.10     1\n",
       " 48,187.60     1\n",
       " 48,232.00     1\n",
       " 48,300.00     1\n",
       " 48,307.00     1\n",
       " 48,479.00     1\n",
       " 48,600.00     1\n",
       " 48,626.00     1\n",
       " 48,671.90     1\n",
       " 48,728.30     1\n",
       " 48,759.00     1\n",
       " 48,800.00     1\n",
       " 48,843.60     1\n",
       " 48,849.80     1\n",
       " 48,851.00     1\n",
       " 48,894.00     1\n",
       " 48,902.00     1\n",
       " 48,986.00     1\n",
       " 49,092.00     1\n",
       " 49,100.00     1\n",
       " 49,182.40     1\n",
       " 49,305.30     1\n",
       " 49,364.00     1\n",
       " 49,390.00     1\n",
       " 49,446.00     1\n",
       " 49,490.00     1\n",
       " 49,500.00     1\n",
       " 49,551.00     1\n",
       " 49,628.00     1\n",
       " 49,786.00     1\n",
       " 50,079.10     1\n",
       " 50,176.00     1\n",
       " 50,633.00     1\n",
       " 50,718.90     1\n",
       " 50,737.00     1\n",
       " 50,773.70     1\n",
       " 50,811.00     1\n",
       " 50,896.90     1\n",
       " 50,900.00     1\n",
       " 50,981.00     1\n",
       " 51,000.00     2\n",
       " 51,384.00     1\n",
       " 51,400.00     1\n",
       " 51,627.00     1\n",
       " 51,671.00     1\n",
       " 51,996.00     1\n",
       " 52,000.00     1\n",
       " 52,008.00     1\n",
       " 52,056.00     1\n",
       " 52,108.50     1\n",
       " 52,505.00     1\n",
       " 52,540.00     1\n",
       " 52,600.00     1\n",
       " 52,606.40     1\n",
       " 52,790.00     1\n",
       " 52,891.00     1\n",
       " 52,916.70     1\n",
       " 53,000.00     1\n",
       " 53,317.00     1\n",
       " 53,342.00     1\n",
       " 53,448.00     1\n",
       " 53,523.00     1\n",
       " 53,547.00     1\n",
       " 53,605.00     1\n",
       " 53,640.00     1\n",
       " 53,720.00     1\n",
       " 53,889.40     1\n",
       " 53,930.00     1\n",
       " 54,036.00     1\n",
       " 54,079.00     1\n",
       " 54,217.00     1\n",
       " 54,350.00     1\n",
       " 54,354.03     1\n",
       " 54,503.00     1\n",
       " 54,545.00     1\n",
       " 54,677.00     1\n",
       " 54,800.00     1\n",
       " 55,000.00     1\n",
       " 55,080.00     1\n",
       " 55,261.00     1\n",
       " 55,307.00     1\n",
       " 55,375.00     1\n",
       " 55,420.00     1\n",
       " 55,704.00     1\n",
       " 55,890.00     1\n",
       " 55,913.00     1\n",
       " 56,003.00     1\n",
       " 56,010.00     1\n",
       " 56,254.00     1\n",
       " 56,319.00     1\n",
       " 56,331.00     1\n",
       " 56,413.00     1\n",
       " 56,427.00     1\n",
       " 56,471.00     1\n",
       " 56,688.00     1\n",
       " 57,000.00     1\n",
       " 57,160.00     1\n",
       " 57,200.00     1\n",
       " 57,273.00     1\n",
       " 57,520.00     1\n",
       " 57,576.00     1\n",
       " 57,723.90     1\n",
       " 58,307.00     1\n",
       " 58,451.10     1\n",
       " 58,501.00     1\n",
       " 58,520.00     1\n",
       " 58,536.00     1\n",
       " 58,570.00     1\n",
       " 58,630.00     1\n",
       " 58,707.40     1\n",
       " 58,960.00     1\n",
       " 59,063.00     1\n",
       " 59,239.00     1\n",
       " 59,532.50     1\n",
       " 59,788.00     1\n",
       " 59,939.00     1\n",
       " 60,000.00     2\n",
       " 60,009.00     1\n",
       " 60,038.00     1\n",
       " 60,300.00     1\n",
       " 60,390.00     1\n",
       " 60,490.10     1\n",
       " 60,732.10     1\n",
       " 60,806.60     1\n",
       " 61,291.00     1\n",
       " 61,298.00     1\n",
       " 61,416.00     1\n",
       " 61,649.00     1\n",
       " 61,690.00     1\n",
       " 61,700.00     1\n",
       " 61,929.10     1\n",
       " 61,951.00     1\n",
       " 62,000.00     1\n",
       " 62,111.00     1\n",
       " 62,173.00     1\n",
       " 62,313.40     1\n",
       " 62,318.40     1\n",
       " 62,562.60     1\n",
       " 62,591.00     1\n",
       " 62,658.10     1\n",
       " 63,057.00     1\n",
       " 63,427.00     1\n",
       " 63,436.00     1\n",
       " 63,599.00     1\n",
       " 63,720.00     1\n",
       " 63,760.00     1\n",
       " 64,000.00     1\n",
       " 64,007.70     1\n",
       " 64,078.40     1\n",
       " 64,193.00     1\n",
       " 64,416.10     1\n",
       " 64,488.00     1\n",
       " 64,510.00     1\n",
       " 64,531.00     1\n",
       " 64,631.00     1\n",
       " 64,834.00     1\n",
       " 64,936.00     1\n",
       " 64,994.45     1\n",
       " 65,000.00     3\n",
       " 65,031.00     1\n",
       " 65,200.00     1\n",
       " 65,220.00     1\n",
       " 65,480.00     1\n",
       " 65,621.00     1\n",
       " 65,834.00     1\n",
       " 65,990.00     1\n",
       " 66,113.00     1\n",
       " 66,267.90     1\n",
       " 66,560.00     1\n",
       " 66,613.00     1\n",
       " 66,745.00     1\n",
       " 66,832.00     1\n",
       " 67,008.00     1\n",
       " 67,052.00     1\n",
       " 67,061.00     1\n",
       " 67,338.00     1\n",
       " 67,500.00     1\n",
       " 67,643.00     1\n",
       " 67,778.00     1\n",
       " 67,792.00     1\n",
       " 68,040.97     1\n",
       " 68,079.00     1\n",
       " 68,148.00     1\n",
       " 68,224.10     1\n",
       " 68,295.00     1\n",
       " 68,361.00     1\n",
       " 68,952.00     1\n",
       " 69,060.00     1\n",
       " 69,363.00     1\n",
       " 69,435.00     1\n",
       " 69,506.20     1\n",
       " 69,523.00     1\n",
       " 69,900.00     1\n",
       " 70,000.00     1\n",
       " 70,868.00     1\n",
       " 70,876.20     1\n",
       " 70,909.50     1\n",
       " 71,000.00     1\n",
       " 71,760.00     1\n",
       " 71,934.40     1\n",
       " 72,000.00     1\n",
       " 72,179.00     1\n",
       " 72,361.00     1\n",
       " 72,473.00     1\n",
       " 72,641.00     1\n",
       " 72,691.80     1\n",
       " 73,077.00     1\n",
       " 73,121.00     1\n",
       " 73,264.50     1\n",
       " 73,345.90     1\n",
       " 73,582.00     1\n",
       " 73,682.00     1\n",
       " 73,694.00     1\n",
       " 74,500.00     1\n",
       " 74,511.00     1\n",
       " 74,931.00     1\n",
       " 74,998.00     1\n",
       " 75,000.00     1\n",
       " 75,135.00     1\n",
       " 75,137.00     1\n",
       " 75,431.00     1\n",
       " 75,484.00     1\n",
       " 76,067.00     1\n",
       " 76,300.00     1\n",
       " 77,000.00     1\n",
       " 78,000.00     1\n",
       " 78,212.50     1\n",
       " 78,429.00     1\n",
       " 78,456.50     1\n",
       " 79,149.00     1\n",
       " 79,734.00     1\n",
       " 79,914.00     1\n",
       " 80,053.00     1\n",
       " 80,212.00     1\n",
       " 80,448.30     1\n",
       " 80,548.00     1\n",
       " 80,628.66     1\n",
       " 81,220.00     1\n",
       " 81,343.00     1\n",
       " 81,378.00     1\n",
       " 82,123.10     1\n",
       " 82,127.00     1\n",
       " 82,370.00     1\n",
       " 82,432.20     1\n",
       " 82,440.00     1\n",
       " 83,323.00     1\n",
       " 83,508.00     1\n",
       " 83,723.00     1\n",
       " 83,746.00     1\n",
       " 83,995.00     1\n",
       " 84,015.00     1\n",
       " 84,677.00     1\n",
       " 84,730.00     1\n",
       " 85,908.90     1\n",
       " 87,141.00     1\n",
       " 87,154.40     1\n",
       " 87,275.00     1\n",
       " 87,401.00     1\n",
       " 87,413.00     1\n",
       " 88,345.00     1\n",
       " 88,420.80     1\n",
       " 88,483.50     1\n",
       " 88,835.00     1\n",
       " 88,909.00     1\n",
       " 89,148.90     1\n",
       " 89,200.00     1\n",
       " 89,279.00     1\n",
       " 90,440.00     1\n",
       " 91,281.00     1\n",
       " 91,444.20     1\n",
       " 91,622.00     1\n",
       " 91,885.00     1\n",
       " 91,897.00     1\n",
       " 92,010.00     1\n",
       " 92,194.00     1\n",
       " 92,390.00     1\n",
       " 92,682.00     1\n",
       " 92,977.00     1\n",
       " 93,317.00     1\n",
       " 95,000.00     1\n",
       " 95,193.00     1\n",
       " 95,709.00     1\n",
       " 95,792.80     1\n",
       " 96,986.80     1\n",
       " 97,134.80     1\n",
       " 97,271.00     1\n",
       " 97,303.00     1\n",
       " 97,306.90     1\n",
       " 97,615.00     1\n",
       " 97,717.00     1\n",
       " 98,115.00     1\n",
       " 98,168.00     1\n",
       " 98,247.10     1\n",
       " 98,418.40     1\n",
       " 99,090.00     1\n",
       "100,524.00     1\n",
       "101,028.00     1\n",
       "101,150.00     1\n",
       "101,562.00     1\n",
       "101,820.00     1\n",
       "102,000.00     1\n",
       "102,379.53     1\n",
       "103,092.00     1\n",
       "103,967.50     1\n",
       "106,027.00     1\n",
       "106,668.00     1\n",
       "107,847.00     1\n",
       "108,204.00     1\n",
       "108,563.60     1\n",
       "108,577.00     1\n",
       "108,855.00     1\n",
       "109,259.00     1\n",
       "110,826.70     1\n",
       "111,193.80     1\n",
       "111,497.00     1\n",
       "112,112.00     1\n",
       "112,806.80     1\n",
       "113,011.00     1\n",
       "114,443.50     1\n",
       "114,596.50     1\n",
       "115,279.20     1\n",
       "115,328.00     1\n",
       "115,659.00     1\n",
       "116,371.00     1\n",
       "117,211.00     1\n",
       "117,292.00     1\n",
       "117,747.70     1\n",
       "117,920.00     1\n",
       "117,929.70     1\n",
       "118,230.00     1\n",
       "118,520.10     1\n",
       "119,500.00     1\n",
       "120,077.00     1\n",
       "121,149.00     1\n",
       "121,339.20     1\n",
       "121,687.00     1\n",
       "122,500.00     1\n",
       "123,014.00     1\n",
       "124,110.00     1\n",
       "124,898.00     1\n",
       "125,381.60     1\n",
       "125,643.00     1\n",
       "125,900.00     1\n",
       "126,581.60     1\n",
       "126,734.00     1\n",
       "128,983.10     1\n",
       "129,730.00     1\n",
       "131,913.30     1\n",
       "132,208.00     1\n",
       "132,646.00     1\n",
       "135,231.00     1\n",
       "135,627.00     1\n",
       "137,069.00     1\n",
       "137,760.00     1\n",
       "139,754.60     1\n",
       "140,000.00     1\n",
       "140,954.00     1\n",
       "141,125.70     1\n",
       "141,497.00     1\n",
       "141,707.40     1\n",
       "142,650.40     1\n",
       "145,040.00     1\n",
       "146,400.00     1\n",
       "146,832.00     1\n",
       "147,335.00     1\n",
       "149,131.00     1\n",
       "149,250.00     1\n",
       "149,359.30     1\n",
       "149,772.00     1\n",
       "150,270.70     1\n",
       "150,696.00     1\n",
       "151,623.00     1\n",
       "152,261.10     1\n",
       "152,962.00     1\n",
       "154,431.60     1\n",
       "154,973.00     1\n",
       "156,593.00     1\n",
       "157,747.30     1\n",
       "158,000.00     1\n",
       "158,308.00     1\n",
       "160,371.00     1\n",
       "160,801.00     1\n",
       "162,625.00     1\n",
       "162,702.00     1\n",
       "162,818.00     1\n",
       "163,239.00     1\n",
       "163,884.00     1\n",
       "164,318.00     1\n",
       "164,387.00     1\n",
       "164,541.90     1\n",
       "165,883.40     1\n",
       "166,438.60     1\n",
       "168,293.00     1\n",
       "169,638.70     1\n",
       "171,726.60     1\n",
       "172,135.00     1\n",
       "172,320.80     1\n",
       "174,231.00     1\n",
       "175,000.00     1\n",
       "175,815.00     1\n",
       "177,544.00     1\n",
       "178,459.00     1\n",
       "181,948.00     1\n",
       "189,688.00     1\n",
       "190,942.30     1\n",
       "191,444.40     1\n",
       "191,474.00     1\n",
       "192,489.00     1\n",
       "192,846.10     1\n",
       "193,399.80     1\n",
       "194,015.20     1\n",
       "196,722.20     1\n",
       "197,990.00     1\n",
       "199,288.00     1\n",
       "201,808.20     1\n",
       "201,894.00     1\n",
       "206,202.60     1\n",
       "207,115.00     1\n",
       "209,704.10     1\n",
       "210,874.00     1\n",
       "213,254.10     1\n",
       "214,868.70     1\n",
       "215,360.00     1\n",
       "218,138.00     1\n",
       "220,000.00     1\n",
       "220,042.10     1\n",
       "222,954.00     1\n",
       "226,833.00     1\n",
       "231,389.00     1\n",
       "231,821.80     1\n",
       "232,828.00     1\n",
       "234,000.00     1\n",
       "236,701.50     1\n",
       "238,058.00     1\n",
       "238,462.60     1\n",
       "240,207.00     1\n",
       "243,254.00     1\n",
       "243,900.00     1\n",
       "244,599.70     1\n",
       "248,310.00     1\n",
       "249,562.00     1\n",
       "255,575.00     1\n",
       "255,858.00     1\n",
       "256,734.10     1\n",
       "257,549.00     1\n",
       "259,158.90     1\n",
       "265,919.90     1\n",
       "275,960.00     1\n",
       "276,038.10     1\n",
       "280,059.00     1\n",
       "280,141.00     1\n",
       "283,180.00     1\n",
       "284,595.00     1\n",
       "297,845.00     1\n",
       "306,113.00     1\n",
       "308,120.00     1\n",
       "309,200.00     1\n",
       "312,918.30     1\n",
       "314,444.00     1\n",
       "315,578.80     1\n",
       "320,155.00     1\n",
       "344,833.00     1\n",
       "349,449.90     1\n",
       "357,185.00     1\n",
       "365,871.00     1\n",
       "367,785.00     1\n",
       "403,993.00     1\n",
       "419,884.00     1\n",
       "427,696.00     1\n",
       "461,047.00     1\n",
       "463,994.00     1\n",
       "479,549.00     1\n",
       "483,280.00     1\n",
       "499,945.00     1\n",
       "517,078.00     1\n",
       "537,627.00     1\n",
       "538,049.00     1\n",
       "558,198.30     1\n",
       "606,945.00     1\n",
       "Name: FIRE_SIZE, dtype: int64"
      ]
     },
     "execution_count": 14,
     "metadata": {},
     "output_type": "execute_result"
    }
   ],
   "source": [
    "filter_ = df[\"FIRE_SIZE_CLASS\"] == 'G'\n",
    "df[\"FIRE_SIZE\"][filter_].value_counts().sort_index()"
   ]
  },
  {
   "cell_type": "code",
   "execution_count": 57,
   "metadata": {},
   "outputs": [],
   "source": [
    "df[['OBJECTID', 'FOD_ID', 'FPA_ID', 'SOURCE_SYSTEM_TYPE', 'SOURCE_SYSTEM', 'NWCG_REPORTING_AGENCY', 'NWCG_REPORTING_UNIT_ID', 'NWCG_REPORTING_UNIT_NAME', 'SOURCE_REPORTING_UNIT', 'SOURCE_REPORTING_UNIT_NAME', 'LOCAL_FIRE_REPORT_ID', 'LOCAL_INCIDENT_ID', 'FIRE_CODE', 'FIRE_NAME', 'ICS_209_INCIDENT_NUMBER', 'ICS_209_NAME', 'MTBS_ID', 'MTBS_FIRE_NAME', 'COMPLEX_NAME', 'FIRE_YEAR', 'DISCOVERY_DATE', 'DISCOVERY_DOY', 'DISCOVERY_TIME', 'STAT_CAUSE_CODE', 'STAT_CAUSE_DESCR', 'CONT_DATE', 'CONT_DOY', 'CONT_TIME', 'FIRE_SIZE', 'FIRE_SIZE_CLASS', 'LATITUDE', 'LONGITUDE', 'OWNER_CODE', 'OWNER_DESCR', 'STATE', 'COUNTY', 'FIPS_CODE', 'FIPS_NAME', 'DIS_DATETIME', 'CON_DATETIME', 'DISC_YM']].head(100000).to_csv('sample_fire.csv', index=False)"
   ]
  },
  {
   "cell_type": "markdown",
   "metadata": {},
   "source": [
    "# Helper Functions"
   ]
  },
  {
   "cell_type": "code",
   "execution_count": 5,
   "metadata": {},
   "outputs": [],
   "source": [
    "def plot_fire_cause(cause_counts: pd.DataFrame):\n",
    "\n",
    "    fig = px.bar(cause_counts, x='STAT_CAUSE_DESCR', y='count',\n",
    "                hover_data=['count'], color='STAT_CAUSE_DESCR',\n",
    "                labels={'count':'Total Count', 'STAT_CAUSE_DESCR': 'Causes'}, \n",
    "                text_auto='.2s',\n",
    "                height=500,\n",
    "                width=800,\n",
    "                title=\"Distribution of the fire events\")\n",
    "    return fig\n",
    "\n",
    "\n",
    "def yearly_summary(year_counts: pd.DataFrame):\n",
    "\n",
    "    fig = px.bar(year_counts, x='FIPS_NAME', y='count',\n",
    "                hover_data=['count'], color='count',\n",
    "                labels={'count':'Total Count', 'FIPS_NAME': 'name'}, \n",
    "                text_auto='.2s',\n",
    "                height=500,\n",
    "                width=800,\n",
    "                title=\"Yearly summary of wildfire\")\n",
    "    return fig\n",
    "\n",
    "def bar_plot(df: pd.DataFrame,\n",
    "            x: str,\n",
    "            y: str,\n",
    "            labels: dict,\n",
    "            title: str,\n",
    "            color=None):\n",
    "\n",
    "    fig = px.bar(df, x=x, y=y,\n",
    "                color=color,\n",
    "                labels=labels, \n",
    "                text_auto='.2s',\n",
    "                height=500,\n",
    "                width=800,\n",
    "                title=title)\n",
    "    return fig"
   ]
  },
  {
   "cell_type": "code",
   "execution_count": 1,
   "metadata": {},
   "outputs": [
    {
     "ename": "NameError",
     "evalue": "name 'df' is not defined",
     "output_type": "error",
     "traceback": [
      "\u001b[0;31m---------------------------------------------------------------------------\u001b[0m",
      "\u001b[0;31mNameError\u001b[0m                                 Traceback (most recent call last)",
      "\u001b[1;32m/Users/dit/Documents/canonical/test.ipynb Cell 9\u001b[0m in \u001b[0;36m<cell line: 1>\u001b[0;34m()\u001b[0m\n\u001b[0;32m----> <a href='vscode-notebook-cell:/Users/dit/Documents/canonical/test.ipynb#Y131sZmlsZQ%3D%3D?line=0'>1</a>\u001b[0m df\u001b[39m.\u001b[39mhead()\n",
      "\u001b[0;31mNameError\u001b[0m: name 'df' is not defined"
     ]
    }
   ],
   "source": [
    "df.head()"
   ]
  },
  {
   "cell_type": "code",
   "execution_count": 37,
   "metadata": {},
   "outputs": [
    {
     "data": {
      "text/html": [
       "<div>\n",
       "<style scoped>\n",
       "    .dataframe tbody tr th:only-of-type {\n",
       "        vertical-align: middle;\n",
       "    }\n",
       "\n",
       "    .dataframe tbody tr th {\n",
       "        vertical-align: top;\n",
       "    }\n",
       "\n",
       "    .dataframe thead th {\n",
       "        text-align: right;\n",
       "    }\n",
       "</style>\n",
       "<table border=\"1\" class=\"dataframe\">\n",
       "  <thead>\n",
       "    <tr style=\"text-align: right;\">\n",
       "      <th></th>\n",
       "      <th>FIPS_NAME</th>\n",
       "      <th>FIRE_YEAR</th>\n",
       "      <th>count</th>\n",
       "    </tr>\n",
       "  </thead>\n",
       "  <tbody>\n",
       "    <tr>\n",
       "      <th>2380</th>\n",
       "      <td>Maricopa</td>\n",
       "      <td>2014</td>\n",
       "      <td>1151</td>\n",
       "    </tr>\n",
       "    <tr>\n",
       "      <th>3227</th>\n",
       "      <td>Riverside</td>\n",
       "      <td>2013</td>\n",
       "      <td>741</td>\n",
       "    </tr>\n",
       "    <tr>\n",
       "      <th>1063</th>\n",
       "      <td>Dallas</td>\n",
       "      <td>2015</td>\n",
       "      <td>647</td>\n",
       "    </tr>\n",
       "    <tr>\n",
       "      <th>1957</th>\n",
       "      <td>Jackson</td>\n",
       "      <td>2015</td>\n",
       "      <td>635</td>\n",
       "    </tr>\n",
       "    <tr>\n",
       "      <th>4027</th>\n",
       "      <td>Washington</td>\n",
       "      <td>2014</td>\n",
       "      <td>609</td>\n",
       "    </tr>\n",
       "    <tr>\n",
       "      <th>1956</th>\n",
       "      <td>Jackson</td>\n",
       "      <td>2014</td>\n",
       "      <td>607</td>\n",
       "    </tr>\n",
       "    <tr>\n",
       "      <th>3228</th>\n",
       "      <td>Riverside</td>\n",
       "      <td>2014</td>\n",
       "      <td>582</td>\n",
       "    </tr>\n",
       "    <tr>\n",
       "      <th>3229</th>\n",
       "      <td>Riverside</td>\n",
       "      <td>2015</td>\n",
       "      <td>573</td>\n",
       "    </tr>\n",
       "    <tr>\n",
       "      <th>2266</th>\n",
       "      <td>Lincoln</td>\n",
       "      <td>2014</td>\n",
       "      <td>566</td>\n",
       "    </tr>\n",
       "    <tr>\n",
       "      <th>2267</th>\n",
       "      <td>Lincoln</td>\n",
       "      <td>2015</td>\n",
       "      <td>557</td>\n",
       "    </tr>\n",
       "    <tr>\n",
       "      <th>1967</th>\n",
       "      <td>Jefferson</td>\n",
       "      <td>2013</td>\n",
       "      <td>527</td>\n",
       "    </tr>\n",
       "    <tr>\n",
       "      <th>1199</th>\n",
       "      <td>Douglas</td>\n",
       "      <td>2015</td>\n",
       "      <td>512</td>\n",
       "    </tr>\n",
       "    <tr>\n",
       "      <th>3045</th>\n",
       "      <td>Plymouth</td>\n",
       "      <td>2015</td>\n",
       "      <td>496</td>\n",
       "    </tr>\n",
       "    <tr>\n",
       "      <th>2265</th>\n",
       "      <td>Lincoln</td>\n",
       "      <td>2013</td>\n",
       "      <td>492</td>\n",
       "    </tr>\n",
       "    <tr>\n",
       "      <th>3454</th>\n",
       "      <td>Sedgwick</td>\n",
       "      <td>2015</td>\n",
       "      <td>491</td>\n",
       "    </tr>\n",
       "    <tr>\n",
       "      <th>4028</th>\n",
       "      <td>Washington</td>\n",
       "      <td>2015</td>\n",
       "      <td>491</td>\n",
       "    </tr>\n",
       "    <tr>\n",
       "      <th>3668</th>\n",
       "      <td>Suffolk</td>\n",
       "      <td>2015</td>\n",
       "      <td>481</td>\n",
       "    </tr>\n",
       "    <tr>\n",
       "      <th>3744</th>\n",
       "      <td>Tarrant</td>\n",
       "      <td>2014</td>\n",
       "      <td>475</td>\n",
       "    </tr>\n",
       "    <tr>\n",
       "      <th>766</th>\n",
       "      <td>Cherokee</td>\n",
       "      <td>2015</td>\n",
       "      <td>464</td>\n",
       "    </tr>\n",
       "    <tr>\n",
       "      <th>4026</th>\n",
       "      <td>Washington</td>\n",
       "      <td>2013</td>\n",
       "      <td>447</td>\n",
       "    </tr>\n",
       "  </tbody>\n",
       "</table>\n",
       "</div>"
      ],
      "text/plain": [
       "       FIPS_NAME  FIRE_YEAR  count\n",
       "2380    Maricopa       2014   1151\n",
       "3227   Riverside       2013    741\n",
       "1063      Dallas       2015    647\n",
       "1957     Jackson       2015    635\n",
       "4027  Washington       2014    609\n",
       "1956     Jackson       2014    607\n",
       "3228   Riverside       2014    582\n",
       "3229   Riverside       2015    573\n",
       "2266     Lincoln       2014    566\n",
       "2267     Lincoln       2015    557\n",
       "1967   Jefferson       2013    527\n",
       "1199     Douglas       2015    512\n",
       "3045    Plymouth       2015    496\n",
       "2265     Lincoln       2013    492\n",
       "3454    Sedgwick       2015    491\n",
       "4028  Washington       2015    491\n",
       "3668     Suffolk       2015    481\n",
       "3744     Tarrant       2014    475\n",
       "766     Cherokee       2015    464\n",
       "4026  Washington       2013    447"
      ]
     },
     "execution_count": 37,
     "metadata": {},
     "output_type": "execute_result"
    }
   ],
   "source": [
    "year = 2015\n",
    "\n",
    "df_filter = df[df[\"FIRE_YEAR\"].isin([year, 2014, 2013]) ]\n",
    "\n",
    "# county_counts = df_filter['FIPS_NAME'].value_counts()\\\n",
    "#                     .to_frame()\\\n",
    "#                     .reset_index()\\\n",
    "#                     .rename(columns={'FIPS_NAME':\"count\", \"index\":'FIPS_NAME'})\\\n",
    "#                     .sort_values(by='count', ascending=False)\n",
    "\n",
    "county_counts = df_filter[[\"FIPS_NAME\", \"FIRE_YEAR\", \"OBJECTID\"]]\\\n",
    "                        .groupby([\"FIPS_NAME\", \"FIRE_YEAR\"])\\\n",
    "                        .count()\\\n",
    "                        .rename(columns={'OBJECTID':\"count\"})\\\n",
    "                        .reset_index()\\\n",
    "                        .sort_values(['count'] , ascending=False)\n",
    "\n",
    "county_counts.head(20)"
   ]
  },
  {
   "cell_type": "code",
   "execution_count": 28,
   "metadata": {},
   "outputs": [
    {
     "data": {
      "application/vnd.plotly.v1+json": {
       "config": {
        "plotlyServerURL": "https://plot.ly"
       },
       "data": [
        {
         "alignmentgroup": "True",
         "hovertemplate": "County Name=%{x}<br>Number of wildfires=%{y}<br>FIRE_YEAR=%{marker.color}<extra></extra>",
         "legendgroup": "",
         "marker": {
          "color": [
           2014,
           2013,
           2015,
           2015,
           2014,
           2014,
           2014,
           2015,
           2014,
           2015,
           2013,
           2015,
           2015,
           2013,
           2015,
           2015,
           2015,
           2014,
           2015,
           2013,
           2015,
           2015,
           2015,
           2015,
           2013,
           2014,
           2015,
           2015,
           2014,
           2014
          ],
          "coloraxis": "coloraxis",
          "pattern": {
           "shape": ""
          }
         },
         "name": "",
         "offsetgroup": "",
         "orientation": "v",
         "showlegend": false,
         "textposition": "auto",
         "texttemplate": "%{y:.2s}",
         "type": "bar",
         "x": [
          "Maricopa",
          "Riverside",
          "Dallas",
          "Jackson",
          "Washington",
          "Jackson",
          "Riverside",
          "Riverside",
          "Lincoln",
          "Lincoln",
          "Jefferson",
          "Douglas",
          "Plymouth",
          "Lincoln",
          "Sedgwick",
          "Washington",
          "Suffolk",
          "Tarrant",
          "Cherokee",
          "Washington",
          "Shawnee",
          "Jefferson",
          "Norfolk",
          "Monroe",
          "Jackson",
          "Jefferson",
          "Montgomery",
          "Marion",
          "Monroe",
          "Suffolk"
         ],
         "xaxis": "x",
         "y": [
          1151,
          741,
          647,
          635,
          609,
          607,
          582,
          573,
          566,
          557,
          527,
          512,
          496,
          492,
          491,
          491,
          481,
          475,
          464,
          447,
          440,
          439,
          438,
          437,
          436,
          431,
          414,
          414,
          412,
          409
         ],
         "yaxis": "y"
        }
       ],
       "layout": {
        "barmode": "relative",
        "coloraxis": {
         "colorbar": {
          "title": {
           "text": "FIRE_YEAR"
          }
         },
         "colorscale": [
          [
           0,
           "#0d0887"
          ],
          [
           0.1111111111111111,
           "#46039f"
          ],
          [
           0.2222222222222222,
           "#7201a8"
          ],
          [
           0.3333333333333333,
           "#9c179e"
          ],
          [
           0.4444444444444444,
           "#bd3786"
          ],
          [
           0.5555555555555556,
           "#d8576b"
          ],
          [
           0.6666666666666666,
           "#ed7953"
          ],
          [
           0.7777777777777778,
           "#fb9f3a"
          ],
          [
           0.8888888888888888,
           "#fdca26"
          ],
          [
           1,
           "#f0f921"
          ]
         ]
        },
        "height": 500,
        "legend": {
         "tracegroupgap": 0
        },
        "template": {
         "data": {
          "bar": [
           {
            "error_x": {
             "color": "#2a3f5f"
            },
            "error_y": {
             "color": "#2a3f5f"
            },
            "marker": {
             "line": {
              "color": "#E5ECF6",
              "width": 0.5
             },
             "pattern": {
              "fillmode": "overlay",
              "size": 10,
              "solidity": 0.2
             }
            },
            "type": "bar"
           }
          ],
          "barpolar": [
           {
            "marker": {
             "line": {
              "color": "#E5ECF6",
              "width": 0.5
             },
             "pattern": {
              "fillmode": "overlay",
              "size": 10,
              "solidity": 0.2
             }
            },
            "type": "barpolar"
           }
          ],
          "carpet": [
           {
            "aaxis": {
             "endlinecolor": "#2a3f5f",
             "gridcolor": "white",
             "linecolor": "white",
             "minorgridcolor": "white",
             "startlinecolor": "#2a3f5f"
            },
            "baxis": {
             "endlinecolor": "#2a3f5f",
             "gridcolor": "white",
             "linecolor": "white",
             "minorgridcolor": "white",
             "startlinecolor": "#2a3f5f"
            },
            "type": "carpet"
           }
          ],
          "choropleth": [
           {
            "colorbar": {
             "outlinewidth": 0,
             "ticks": ""
            },
            "type": "choropleth"
           }
          ],
          "contour": [
           {
            "colorbar": {
             "outlinewidth": 0,
             "ticks": ""
            },
            "colorscale": [
             [
              0,
              "#0d0887"
             ],
             [
              0.1111111111111111,
              "#46039f"
             ],
             [
              0.2222222222222222,
              "#7201a8"
             ],
             [
              0.3333333333333333,
              "#9c179e"
             ],
             [
              0.4444444444444444,
              "#bd3786"
             ],
             [
              0.5555555555555556,
              "#d8576b"
             ],
             [
              0.6666666666666666,
              "#ed7953"
             ],
             [
              0.7777777777777778,
              "#fb9f3a"
             ],
             [
              0.8888888888888888,
              "#fdca26"
             ],
             [
              1,
              "#f0f921"
             ]
            ],
            "type": "contour"
           }
          ],
          "contourcarpet": [
           {
            "colorbar": {
             "outlinewidth": 0,
             "ticks": ""
            },
            "type": "contourcarpet"
           }
          ],
          "heatmap": [
           {
            "colorbar": {
             "outlinewidth": 0,
             "ticks": ""
            },
            "colorscale": [
             [
              0,
              "#0d0887"
             ],
             [
              0.1111111111111111,
              "#46039f"
             ],
             [
              0.2222222222222222,
              "#7201a8"
             ],
             [
              0.3333333333333333,
              "#9c179e"
             ],
             [
              0.4444444444444444,
              "#bd3786"
             ],
             [
              0.5555555555555556,
              "#d8576b"
             ],
             [
              0.6666666666666666,
              "#ed7953"
             ],
             [
              0.7777777777777778,
              "#fb9f3a"
             ],
             [
              0.8888888888888888,
              "#fdca26"
             ],
             [
              1,
              "#f0f921"
             ]
            ],
            "type": "heatmap"
           }
          ],
          "heatmapgl": [
           {
            "colorbar": {
             "outlinewidth": 0,
             "ticks": ""
            },
            "colorscale": [
             [
              0,
              "#0d0887"
             ],
             [
              0.1111111111111111,
              "#46039f"
             ],
             [
              0.2222222222222222,
              "#7201a8"
             ],
             [
              0.3333333333333333,
              "#9c179e"
             ],
             [
              0.4444444444444444,
              "#bd3786"
             ],
             [
              0.5555555555555556,
              "#d8576b"
             ],
             [
              0.6666666666666666,
              "#ed7953"
             ],
             [
              0.7777777777777778,
              "#fb9f3a"
             ],
             [
              0.8888888888888888,
              "#fdca26"
             ],
             [
              1,
              "#f0f921"
             ]
            ],
            "type": "heatmapgl"
           }
          ],
          "histogram": [
           {
            "marker": {
             "pattern": {
              "fillmode": "overlay",
              "size": 10,
              "solidity": 0.2
             }
            },
            "type": "histogram"
           }
          ],
          "histogram2d": [
           {
            "colorbar": {
             "outlinewidth": 0,
             "ticks": ""
            },
            "colorscale": [
             [
              0,
              "#0d0887"
             ],
             [
              0.1111111111111111,
              "#46039f"
             ],
             [
              0.2222222222222222,
              "#7201a8"
             ],
             [
              0.3333333333333333,
              "#9c179e"
             ],
             [
              0.4444444444444444,
              "#bd3786"
             ],
             [
              0.5555555555555556,
              "#d8576b"
             ],
             [
              0.6666666666666666,
              "#ed7953"
             ],
             [
              0.7777777777777778,
              "#fb9f3a"
             ],
             [
              0.8888888888888888,
              "#fdca26"
             ],
             [
              1,
              "#f0f921"
             ]
            ],
            "type": "histogram2d"
           }
          ],
          "histogram2dcontour": [
           {
            "colorbar": {
             "outlinewidth": 0,
             "ticks": ""
            },
            "colorscale": [
             [
              0,
              "#0d0887"
             ],
             [
              0.1111111111111111,
              "#46039f"
             ],
             [
              0.2222222222222222,
              "#7201a8"
             ],
             [
              0.3333333333333333,
              "#9c179e"
             ],
             [
              0.4444444444444444,
              "#bd3786"
             ],
             [
              0.5555555555555556,
              "#d8576b"
             ],
             [
              0.6666666666666666,
              "#ed7953"
             ],
             [
              0.7777777777777778,
              "#fb9f3a"
             ],
             [
              0.8888888888888888,
              "#fdca26"
             ],
             [
              1,
              "#f0f921"
             ]
            ],
            "type": "histogram2dcontour"
           }
          ],
          "mesh3d": [
           {
            "colorbar": {
             "outlinewidth": 0,
             "ticks": ""
            },
            "type": "mesh3d"
           }
          ],
          "parcoords": [
           {
            "line": {
             "colorbar": {
              "outlinewidth": 0,
              "ticks": ""
             }
            },
            "type": "parcoords"
           }
          ],
          "pie": [
           {
            "automargin": true,
            "type": "pie"
           }
          ],
          "scatter": [
           {
            "fillpattern": {
             "fillmode": "overlay",
             "size": 10,
             "solidity": 0.2
            },
            "type": "scatter"
           }
          ],
          "scatter3d": [
           {
            "line": {
             "colorbar": {
              "outlinewidth": 0,
              "ticks": ""
             }
            },
            "marker": {
             "colorbar": {
              "outlinewidth": 0,
              "ticks": ""
             }
            },
            "type": "scatter3d"
           }
          ],
          "scattercarpet": [
           {
            "marker": {
             "colorbar": {
              "outlinewidth": 0,
              "ticks": ""
             }
            },
            "type": "scattercarpet"
           }
          ],
          "scattergeo": [
           {
            "marker": {
             "colorbar": {
              "outlinewidth": 0,
              "ticks": ""
             }
            },
            "type": "scattergeo"
           }
          ],
          "scattergl": [
           {
            "marker": {
             "colorbar": {
              "outlinewidth": 0,
              "ticks": ""
             }
            },
            "type": "scattergl"
           }
          ],
          "scattermapbox": [
           {
            "marker": {
             "colorbar": {
              "outlinewidth": 0,
              "ticks": ""
             }
            },
            "type": "scattermapbox"
           }
          ],
          "scatterpolar": [
           {
            "marker": {
             "colorbar": {
              "outlinewidth": 0,
              "ticks": ""
             }
            },
            "type": "scatterpolar"
           }
          ],
          "scatterpolargl": [
           {
            "marker": {
             "colorbar": {
              "outlinewidth": 0,
              "ticks": ""
             }
            },
            "type": "scatterpolargl"
           }
          ],
          "scatterternary": [
           {
            "marker": {
             "colorbar": {
              "outlinewidth": 0,
              "ticks": ""
             }
            },
            "type": "scatterternary"
           }
          ],
          "surface": [
           {
            "colorbar": {
             "outlinewidth": 0,
             "ticks": ""
            },
            "colorscale": [
             [
              0,
              "#0d0887"
             ],
             [
              0.1111111111111111,
              "#46039f"
             ],
             [
              0.2222222222222222,
              "#7201a8"
             ],
             [
              0.3333333333333333,
              "#9c179e"
             ],
             [
              0.4444444444444444,
              "#bd3786"
             ],
             [
              0.5555555555555556,
              "#d8576b"
             ],
             [
              0.6666666666666666,
              "#ed7953"
             ],
             [
              0.7777777777777778,
              "#fb9f3a"
             ],
             [
              0.8888888888888888,
              "#fdca26"
             ],
             [
              1,
              "#f0f921"
             ]
            ],
            "type": "surface"
           }
          ],
          "table": [
           {
            "cells": {
             "fill": {
              "color": "#EBF0F8"
             },
             "line": {
              "color": "white"
             }
            },
            "header": {
             "fill": {
              "color": "#C8D4E3"
             },
             "line": {
              "color": "white"
             }
            },
            "type": "table"
           }
          ]
         },
         "layout": {
          "annotationdefaults": {
           "arrowcolor": "#2a3f5f",
           "arrowhead": 0,
           "arrowwidth": 1
          },
          "autotypenumbers": "strict",
          "coloraxis": {
           "colorbar": {
            "outlinewidth": 0,
            "ticks": ""
           }
          },
          "colorscale": {
           "diverging": [
            [
             0,
             "#8e0152"
            ],
            [
             0.1,
             "#c51b7d"
            ],
            [
             0.2,
             "#de77ae"
            ],
            [
             0.3,
             "#f1b6da"
            ],
            [
             0.4,
             "#fde0ef"
            ],
            [
             0.5,
             "#f7f7f7"
            ],
            [
             0.6,
             "#e6f5d0"
            ],
            [
             0.7,
             "#b8e186"
            ],
            [
             0.8,
             "#7fbc41"
            ],
            [
             0.9,
             "#4d9221"
            ],
            [
             1,
             "#276419"
            ]
           ],
           "sequential": [
            [
             0,
             "#0d0887"
            ],
            [
             0.1111111111111111,
             "#46039f"
            ],
            [
             0.2222222222222222,
             "#7201a8"
            ],
            [
             0.3333333333333333,
             "#9c179e"
            ],
            [
             0.4444444444444444,
             "#bd3786"
            ],
            [
             0.5555555555555556,
             "#d8576b"
            ],
            [
             0.6666666666666666,
             "#ed7953"
            ],
            [
             0.7777777777777778,
             "#fb9f3a"
            ],
            [
             0.8888888888888888,
             "#fdca26"
            ],
            [
             1,
             "#f0f921"
            ]
           ],
           "sequentialminus": [
            [
             0,
             "#0d0887"
            ],
            [
             0.1111111111111111,
             "#46039f"
            ],
            [
             0.2222222222222222,
             "#7201a8"
            ],
            [
             0.3333333333333333,
             "#9c179e"
            ],
            [
             0.4444444444444444,
             "#bd3786"
            ],
            [
             0.5555555555555556,
             "#d8576b"
            ],
            [
             0.6666666666666666,
             "#ed7953"
            ],
            [
             0.7777777777777778,
             "#fb9f3a"
            ],
            [
             0.8888888888888888,
             "#fdca26"
            ],
            [
             1,
             "#f0f921"
            ]
           ]
          },
          "colorway": [
           "#636efa",
           "#EF553B",
           "#00cc96",
           "#ab63fa",
           "#FFA15A",
           "#19d3f3",
           "#FF6692",
           "#B6E880",
           "#FF97FF",
           "#FECB52"
          ],
          "font": {
           "color": "#2a3f5f"
          },
          "geo": {
           "bgcolor": "white",
           "lakecolor": "white",
           "landcolor": "#E5ECF6",
           "showlakes": true,
           "showland": true,
           "subunitcolor": "white"
          },
          "hoverlabel": {
           "align": "left"
          },
          "hovermode": "closest",
          "mapbox": {
           "style": "light"
          },
          "paper_bgcolor": "white",
          "plot_bgcolor": "#E5ECF6",
          "polar": {
           "angularaxis": {
            "gridcolor": "white",
            "linecolor": "white",
            "ticks": ""
           },
           "bgcolor": "#E5ECF6",
           "radialaxis": {
            "gridcolor": "white",
            "linecolor": "white",
            "ticks": ""
           }
          },
          "scene": {
           "xaxis": {
            "backgroundcolor": "#E5ECF6",
            "gridcolor": "white",
            "gridwidth": 2,
            "linecolor": "white",
            "showbackground": true,
            "ticks": "",
            "zerolinecolor": "white"
           },
           "yaxis": {
            "backgroundcolor": "#E5ECF6",
            "gridcolor": "white",
            "gridwidth": 2,
            "linecolor": "white",
            "showbackground": true,
            "ticks": "",
            "zerolinecolor": "white"
           },
           "zaxis": {
            "backgroundcolor": "#E5ECF6",
            "gridcolor": "white",
            "gridwidth": 2,
            "linecolor": "white",
            "showbackground": true,
            "ticks": "",
            "zerolinecolor": "white"
           }
          },
          "shapedefaults": {
           "line": {
            "color": "#2a3f5f"
           }
          },
          "ternary": {
           "aaxis": {
            "gridcolor": "white",
            "linecolor": "white",
            "ticks": ""
           },
           "baxis": {
            "gridcolor": "white",
            "linecolor": "white",
            "ticks": ""
           },
           "bgcolor": "#E5ECF6",
           "caxis": {
            "gridcolor": "white",
            "linecolor": "white",
            "ticks": ""
           }
          },
          "title": {
           "x": 0.05
          },
          "xaxis": {
           "automargin": true,
           "gridcolor": "white",
           "linecolor": "white",
           "ticks": "",
           "title": {
            "standoff": 15
           },
           "zerolinecolor": "white",
           "zerolinewidth": 2
          },
          "yaxis": {
           "automargin": true,
           "gridcolor": "white",
           "linecolor": "white",
           "ticks": "",
           "title": {
            "standoff": 15
           },
           "zerolinecolor": "white",
           "zerolinewidth": 2
          }
         }
        },
        "title": {
         "text": "Top Fire-prone Counties"
        },
        "width": 800,
        "xaxis": {
         "anchor": "y",
         "domain": [
          0,
          1
         ],
         "title": {
          "text": "County Name"
         }
        },
        "yaxis": {
         "anchor": "x",
         "domain": [
          0,
          1
         ],
         "title": {
          "text": "Number of wildfires"
         }
        }
       }
      }
     },
     "metadata": {},
     "output_type": "display_data"
    }
   ],
   "source": [
    "top_county_fig = bar_plot(county_counts.head(30),\n",
    "            x='FIPS_NAME',\n",
    "            y='count',\n",
    "            color='FIRE_YEAR',\n",
    "            labels={\"count\": \"Number of wildfires\", \"FIPS_NAME\": \"County Name\"},\n",
    "            title=\"Top Fire-prone Counties\")\n",
    "top_county_fig.show()"
   ]
  },
  {
   "cell_type": "code",
   "execution_count": 6,
   "metadata": {},
   "outputs": [
    {
     "data": {
      "application/vnd.plotly.v1+json": {
       "config": {
        "plotlyServerURL": "https://plot.ly"
       },
       "data": [
        {
         "alignmentgroup": "True",
         "hovertemplate": "County Name=%{x}<br>Number of wildfires=%{marker.color}<extra></extra>",
         "legendgroup": "",
         "marker": {
          "color": [
           11014,
           10571,
           9902,
           8908,
           8558,
           8300,
           8173,
           7900,
           7770,
           7597,
           7049,
           6925,
           6780,
           6542,
           6186,
           6140,
           5752,
           5549,
           5323,
           5279,
           5113,
           4992,
           4941,
           4901,
           4869,
           4824,
           4593,
           4589,
           4522,
           4449
          ],
          "coloraxis": "coloraxis",
          "pattern": {
           "shape": ""
          }
         },
         "name": "",
         "offsetgroup": "",
         "orientation": "v",
         "showlegend": false,
         "textposition": "auto",
         "texttemplate": "%{y:.2s}",
         "type": "bar",
         "x": [
          "Washington",
          "Lincoln",
          "Jackson",
          "Marion",
          "Cherokee",
          "Polk",
          "Monroe",
          "Coconino",
          "Jefferson",
          "Suffolk",
          "Lee",
          "Riverside",
          "Honolulu",
          "Wayne",
          "Orange",
          "Douglas",
          "Jasper",
          "Lake",
          "Clay",
          "Columbia",
          "Richmond",
          "Franklin",
          "Ocean",
          "Union",
          "Laurens",
          "Grant",
          "McCurtain",
          "Montgomery",
          "Madison",
          "Harrison"
         ],
         "xaxis": "x",
         "y": [
          11014,
          10571,
          9902,
          8908,
          8558,
          8300,
          8173,
          7900,
          7770,
          7597,
          7049,
          6925,
          6780,
          6542,
          6186,
          6140,
          5752,
          5549,
          5323,
          5279,
          5113,
          4992,
          4941,
          4901,
          4869,
          4824,
          4593,
          4589,
          4522,
          4449
         ],
         "yaxis": "y"
        }
       ],
       "layout": {
        "barmode": "relative",
        "coloraxis": {
         "colorbar": {
          "title": {
           "text": "Number of wildfires"
          }
         },
         "colorscale": [
          [
           0,
           "#0d0887"
          ],
          [
           0.1111111111111111,
           "#46039f"
          ],
          [
           0.2222222222222222,
           "#7201a8"
          ],
          [
           0.3333333333333333,
           "#9c179e"
          ],
          [
           0.4444444444444444,
           "#bd3786"
          ],
          [
           0.5555555555555556,
           "#d8576b"
          ],
          [
           0.6666666666666666,
           "#ed7953"
          ],
          [
           0.7777777777777778,
           "#fb9f3a"
          ],
          [
           0.8888888888888888,
           "#fdca26"
          ],
          [
           1,
           "#f0f921"
          ]
         ]
        },
        "height": 500,
        "legend": {
         "tracegroupgap": 0
        },
        "template": {
         "data": {
          "bar": [
           {
            "error_x": {
             "color": "#2a3f5f"
            },
            "error_y": {
             "color": "#2a3f5f"
            },
            "marker": {
             "line": {
              "color": "#E5ECF6",
              "width": 0.5
             },
             "pattern": {
              "fillmode": "overlay",
              "size": 10,
              "solidity": 0.2
             }
            },
            "type": "bar"
           }
          ],
          "barpolar": [
           {
            "marker": {
             "line": {
              "color": "#E5ECF6",
              "width": 0.5
             },
             "pattern": {
              "fillmode": "overlay",
              "size": 10,
              "solidity": 0.2
             }
            },
            "type": "barpolar"
           }
          ],
          "carpet": [
           {
            "aaxis": {
             "endlinecolor": "#2a3f5f",
             "gridcolor": "white",
             "linecolor": "white",
             "minorgridcolor": "white",
             "startlinecolor": "#2a3f5f"
            },
            "baxis": {
             "endlinecolor": "#2a3f5f",
             "gridcolor": "white",
             "linecolor": "white",
             "minorgridcolor": "white",
             "startlinecolor": "#2a3f5f"
            },
            "type": "carpet"
           }
          ],
          "choropleth": [
           {
            "colorbar": {
             "outlinewidth": 0,
             "ticks": ""
            },
            "type": "choropleth"
           }
          ],
          "contour": [
           {
            "colorbar": {
             "outlinewidth": 0,
             "ticks": ""
            },
            "colorscale": [
             [
              0,
              "#0d0887"
             ],
             [
              0.1111111111111111,
              "#46039f"
             ],
             [
              0.2222222222222222,
              "#7201a8"
             ],
             [
              0.3333333333333333,
              "#9c179e"
             ],
             [
              0.4444444444444444,
              "#bd3786"
             ],
             [
              0.5555555555555556,
              "#d8576b"
             ],
             [
              0.6666666666666666,
              "#ed7953"
             ],
             [
              0.7777777777777778,
              "#fb9f3a"
             ],
             [
              0.8888888888888888,
              "#fdca26"
             ],
             [
              1,
              "#f0f921"
             ]
            ],
            "type": "contour"
           }
          ],
          "contourcarpet": [
           {
            "colorbar": {
             "outlinewidth": 0,
             "ticks": ""
            },
            "type": "contourcarpet"
           }
          ],
          "heatmap": [
           {
            "colorbar": {
             "outlinewidth": 0,
             "ticks": ""
            },
            "colorscale": [
             [
              0,
              "#0d0887"
             ],
             [
              0.1111111111111111,
              "#46039f"
             ],
             [
              0.2222222222222222,
              "#7201a8"
             ],
             [
              0.3333333333333333,
              "#9c179e"
             ],
             [
              0.4444444444444444,
              "#bd3786"
             ],
             [
              0.5555555555555556,
              "#d8576b"
             ],
             [
              0.6666666666666666,
              "#ed7953"
             ],
             [
              0.7777777777777778,
              "#fb9f3a"
             ],
             [
              0.8888888888888888,
              "#fdca26"
             ],
             [
              1,
              "#f0f921"
             ]
            ],
            "type": "heatmap"
           }
          ],
          "heatmapgl": [
           {
            "colorbar": {
             "outlinewidth": 0,
             "ticks": ""
            },
            "colorscale": [
             [
              0,
              "#0d0887"
             ],
             [
              0.1111111111111111,
              "#46039f"
             ],
             [
              0.2222222222222222,
              "#7201a8"
             ],
             [
              0.3333333333333333,
              "#9c179e"
             ],
             [
              0.4444444444444444,
              "#bd3786"
             ],
             [
              0.5555555555555556,
              "#d8576b"
             ],
             [
              0.6666666666666666,
              "#ed7953"
             ],
             [
              0.7777777777777778,
              "#fb9f3a"
             ],
             [
              0.8888888888888888,
              "#fdca26"
             ],
             [
              1,
              "#f0f921"
             ]
            ],
            "type": "heatmapgl"
           }
          ],
          "histogram": [
           {
            "marker": {
             "pattern": {
              "fillmode": "overlay",
              "size": 10,
              "solidity": 0.2
             }
            },
            "type": "histogram"
           }
          ],
          "histogram2d": [
           {
            "colorbar": {
             "outlinewidth": 0,
             "ticks": ""
            },
            "colorscale": [
             [
              0,
              "#0d0887"
             ],
             [
              0.1111111111111111,
              "#46039f"
             ],
             [
              0.2222222222222222,
              "#7201a8"
             ],
             [
              0.3333333333333333,
              "#9c179e"
             ],
             [
              0.4444444444444444,
              "#bd3786"
             ],
             [
              0.5555555555555556,
              "#d8576b"
             ],
             [
              0.6666666666666666,
              "#ed7953"
             ],
             [
              0.7777777777777778,
              "#fb9f3a"
             ],
             [
              0.8888888888888888,
              "#fdca26"
             ],
             [
              1,
              "#f0f921"
             ]
            ],
            "type": "histogram2d"
           }
          ],
          "histogram2dcontour": [
           {
            "colorbar": {
             "outlinewidth": 0,
             "ticks": ""
            },
            "colorscale": [
             [
              0,
              "#0d0887"
             ],
             [
              0.1111111111111111,
              "#46039f"
             ],
             [
              0.2222222222222222,
              "#7201a8"
             ],
             [
              0.3333333333333333,
              "#9c179e"
             ],
             [
              0.4444444444444444,
              "#bd3786"
             ],
             [
              0.5555555555555556,
              "#d8576b"
             ],
             [
              0.6666666666666666,
              "#ed7953"
             ],
             [
              0.7777777777777778,
              "#fb9f3a"
             ],
             [
              0.8888888888888888,
              "#fdca26"
             ],
             [
              1,
              "#f0f921"
             ]
            ],
            "type": "histogram2dcontour"
           }
          ],
          "mesh3d": [
           {
            "colorbar": {
             "outlinewidth": 0,
             "ticks": ""
            },
            "type": "mesh3d"
           }
          ],
          "parcoords": [
           {
            "line": {
             "colorbar": {
              "outlinewidth": 0,
              "ticks": ""
             }
            },
            "type": "parcoords"
           }
          ],
          "pie": [
           {
            "automargin": true,
            "type": "pie"
           }
          ],
          "scatter": [
           {
            "fillpattern": {
             "fillmode": "overlay",
             "size": 10,
             "solidity": 0.2
            },
            "type": "scatter"
           }
          ],
          "scatter3d": [
           {
            "line": {
             "colorbar": {
              "outlinewidth": 0,
              "ticks": ""
             }
            },
            "marker": {
             "colorbar": {
              "outlinewidth": 0,
              "ticks": ""
             }
            },
            "type": "scatter3d"
           }
          ],
          "scattercarpet": [
           {
            "marker": {
             "colorbar": {
              "outlinewidth": 0,
              "ticks": ""
             }
            },
            "type": "scattercarpet"
           }
          ],
          "scattergeo": [
           {
            "marker": {
             "colorbar": {
              "outlinewidth": 0,
              "ticks": ""
             }
            },
            "type": "scattergeo"
           }
          ],
          "scattergl": [
           {
            "marker": {
             "colorbar": {
              "outlinewidth": 0,
              "ticks": ""
             }
            },
            "type": "scattergl"
           }
          ],
          "scattermapbox": [
           {
            "marker": {
             "colorbar": {
              "outlinewidth": 0,
              "ticks": ""
             }
            },
            "type": "scattermapbox"
           }
          ],
          "scatterpolar": [
           {
            "marker": {
             "colorbar": {
              "outlinewidth": 0,
              "ticks": ""
             }
            },
            "type": "scatterpolar"
           }
          ],
          "scatterpolargl": [
           {
            "marker": {
             "colorbar": {
              "outlinewidth": 0,
              "ticks": ""
             }
            },
            "type": "scatterpolargl"
           }
          ],
          "scatterternary": [
           {
            "marker": {
             "colorbar": {
              "outlinewidth": 0,
              "ticks": ""
             }
            },
            "type": "scatterternary"
           }
          ],
          "surface": [
           {
            "colorbar": {
             "outlinewidth": 0,
             "ticks": ""
            },
            "colorscale": [
             [
              0,
              "#0d0887"
             ],
             [
              0.1111111111111111,
              "#46039f"
             ],
             [
              0.2222222222222222,
              "#7201a8"
             ],
             [
              0.3333333333333333,
              "#9c179e"
             ],
             [
              0.4444444444444444,
              "#bd3786"
             ],
             [
              0.5555555555555556,
              "#d8576b"
             ],
             [
              0.6666666666666666,
              "#ed7953"
             ],
             [
              0.7777777777777778,
              "#fb9f3a"
             ],
             [
              0.8888888888888888,
              "#fdca26"
             ],
             [
              1,
              "#f0f921"
             ]
            ],
            "type": "surface"
           }
          ],
          "table": [
           {
            "cells": {
             "fill": {
              "color": "#EBF0F8"
             },
             "line": {
              "color": "white"
             }
            },
            "header": {
             "fill": {
              "color": "#C8D4E3"
             },
             "line": {
              "color": "white"
             }
            },
            "type": "table"
           }
          ]
         },
         "layout": {
          "annotationdefaults": {
           "arrowcolor": "#2a3f5f",
           "arrowhead": 0,
           "arrowwidth": 1
          },
          "autotypenumbers": "strict",
          "coloraxis": {
           "colorbar": {
            "outlinewidth": 0,
            "ticks": ""
           }
          },
          "colorscale": {
           "diverging": [
            [
             0,
             "#8e0152"
            ],
            [
             0.1,
             "#c51b7d"
            ],
            [
             0.2,
             "#de77ae"
            ],
            [
             0.3,
             "#f1b6da"
            ],
            [
             0.4,
             "#fde0ef"
            ],
            [
             0.5,
             "#f7f7f7"
            ],
            [
             0.6,
             "#e6f5d0"
            ],
            [
             0.7,
             "#b8e186"
            ],
            [
             0.8,
             "#7fbc41"
            ],
            [
             0.9,
             "#4d9221"
            ],
            [
             1,
             "#276419"
            ]
           ],
           "sequential": [
            [
             0,
             "#0d0887"
            ],
            [
             0.1111111111111111,
             "#46039f"
            ],
            [
             0.2222222222222222,
             "#7201a8"
            ],
            [
             0.3333333333333333,
             "#9c179e"
            ],
            [
             0.4444444444444444,
             "#bd3786"
            ],
            [
             0.5555555555555556,
             "#d8576b"
            ],
            [
             0.6666666666666666,
             "#ed7953"
            ],
            [
             0.7777777777777778,
             "#fb9f3a"
            ],
            [
             0.8888888888888888,
             "#fdca26"
            ],
            [
             1,
             "#f0f921"
            ]
           ],
           "sequentialminus": [
            [
             0,
             "#0d0887"
            ],
            [
             0.1111111111111111,
             "#46039f"
            ],
            [
             0.2222222222222222,
             "#7201a8"
            ],
            [
             0.3333333333333333,
             "#9c179e"
            ],
            [
             0.4444444444444444,
             "#bd3786"
            ],
            [
             0.5555555555555556,
             "#d8576b"
            ],
            [
             0.6666666666666666,
             "#ed7953"
            ],
            [
             0.7777777777777778,
             "#fb9f3a"
            ],
            [
             0.8888888888888888,
             "#fdca26"
            ],
            [
             1,
             "#f0f921"
            ]
           ]
          },
          "colorway": [
           "#636efa",
           "#EF553B",
           "#00cc96",
           "#ab63fa",
           "#FFA15A",
           "#19d3f3",
           "#FF6692",
           "#B6E880",
           "#FF97FF",
           "#FECB52"
          ],
          "font": {
           "color": "#2a3f5f"
          },
          "geo": {
           "bgcolor": "white",
           "lakecolor": "white",
           "landcolor": "#E5ECF6",
           "showlakes": true,
           "showland": true,
           "subunitcolor": "white"
          },
          "hoverlabel": {
           "align": "left"
          },
          "hovermode": "closest",
          "mapbox": {
           "style": "light"
          },
          "paper_bgcolor": "white",
          "plot_bgcolor": "#E5ECF6",
          "polar": {
           "angularaxis": {
            "gridcolor": "white",
            "linecolor": "white",
            "ticks": ""
           },
           "bgcolor": "#E5ECF6",
           "radialaxis": {
            "gridcolor": "white",
            "linecolor": "white",
            "ticks": ""
           }
          },
          "scene": {
           "xaxis": {
            "backgroundcolor": "#E5ECF6",
            "gridcolor": "white",
            "gridwidth": 2,
            "linecolor": "white",
            "showbackground": true,
            "ticks": "",
            "zerolinecolor": "white"
           },
           "yaxis": {
            "backgroundcolor": "#E5ECF6",
            "gridcolor": "white",
            "gridwidth": 2,
            "linecolor": "white",
            "showbackground": true,
            "ticks": "",
            "zerolinecolor": "white"
           },
           "zaxis": {
            "backgroundcolor": "#E5ECF6",
            "gridcolor": "white",
            "gridwidth": 2,
            "linecolor": "white",
            "showbackground": true,
            "ticks": "",
            "zerolinecolor": "white"
           }
          },
          "shapedefaults": {
           "line": {
            "color": "#2a3f5f"
           }
          },
          "ternary": {
           "aaxis": {
            "gridcolor": "white",
            "linecolor": "white",
            "ticks": ""
           },
           "baxis": {
            "gridcolor": "white",
            "linecolor": "white",
            "ticks": ""
           },
           "bgcolor": "#E5ECF6",
           "caxis": {
            "gridcolor": "white",
            "linecolor": "white",
            "ticks": ""
           }
          },
          "title": {
           "x": 0.05
          },
          "xaxis": {
           "automargin": true,
           "gridcolor": "white",
           "linecolor": "white",
           "ticks": "",
           "title": {
            "standoff": 15
           },
           "zerolinecolor": "white",
           "zerolinewidth": 2
          },
          "yaxis": {
           "automargin": true,
           "gridcolor": "white",
           "linecolor": "white",
           "ticks": "",
           "title": {
            "standoff": 15
           },
           "zerolinecolor": "white",
           "zerolinewidth": 2
          }
         }
        },
        "title": {
         "text": "Top Fire-prone Counties"
        },
        "width": 800,
        "xaxis": {
         "anchor": "y",
         "domain": [
          0,
          1
         ],
         "title": {
          "text": "County Name"
         }
        },
        "yaxis": {
         "anchor": "x",
         "domain": [
          0,
          1
         ],
         "title": {
          "text": "Number of wildfires"
         }
        }
       }
      }
     },
     "metadata": {},
     "output_type": "display_data"
    }
   ],
   "source": [
    "\n",
    "\n",
    "top_county_fig.show()"
   ]
  },
  {
   "cell_type": "code",
   "execution_count": 159,
   "metadata": {},
   "outputs": [
    {
     "data": {
      "text/html": [
       "<div>\n",
       "<style scoped>\n",
       "    .dataframe tbody tr th:only-of-type {\n",
       "        vertical-align: middle;\n",
       "    }\n",
       "\n",
       "    .dataframe tbody tr th {\n",
       "        vertical-align: top;\n",
       "    }\n",
       "\n",
       "    .dataframe thead th {\n",
       "        text-align: right;\n",
       "    }\n",
       "</style>\n",
       "<table border=\"1\" class=\"dataframe\">\n",
       "  <thead>\n",
       "    <tr style=\"text-align: right;\">\n",
       "      <th></th>\n",
       "      <th>OBJECTID</th>\n",
       "      <th>FOD_ID</th>\n",
       "      <th>FPA_ID</th>\n",
       "      <th>SOURCE_SYSTEM_TYPE</th>\n",
       "      <th>SOURCE_SYSTEM</th>\n",
       "      <th>NWCG_REPORTING_AGENCY</th>\n",
       "      <th>NWCG_REPORTING_UNIT_ID</th>\n",
       "      <th>NWCG_REPORTING_UNIT_NAME</th>\n",
       "      <th>SOURCE_REPORTING_UNIT</th>\n",
       "      <th>SOURCE_REPORTING_UNIT_NAME</th>\n",
       "      <th>LOCAL_FIRE_REPORT_ID</th>\n",
       "      <th>LOCAL_INCIDENT_ID</th>\n",
       "      <th>FIRE_CODE</th>\n",
       "      <th>FIRE_NAME</th>\n",
       "      <th>ICS_209_INCIDENT_NUMBER</th>\n",
       "      <th>ICS_209_NAME</th>\n",
       "      <th>MTBS_ID</th>\n",
       "      <th>MTBS_FIRE_NAME</th>\n",
       "      <th>COMPLEX_NAME</th>\n",
       "      <th>FIRE_YEAR</th>\n",
       "      <th>DISCOVERY_DATE</th>\n",
       "      <th>DISCOVERY_DOY</th>\n",
       "      <th>DISCOVERY_TIME</th>\n",
       "      <th>STAT_CAUSE_CODE</th>\n",
       "      <th>STAT_CAUSE_DESCR</th>\n",
       "      <th>CONT_DATE</th>\n",
       "      <th>CONT_DOY</th>\n",
       "      <th>CONT_TIME</th>\n",
       "      <th>FIRE_SIZE</th>\n",
       "      <th>FIRE_SIZE_CLASS</th>\n",
       "      <th>LATITUDE</th>\n",
       "      <th>LONGITUDE</th>\n",
       "      <th>OWNER_CODE</th>\n",
       "      <th>OWNER_DESCR</th>\n",
       "      <th>STATE</th>\n",
       "      <th>COUNTY</th>\n",
       "      <th>FIPS_CODE</th>\n",
       "      <th>FIPS_NAME</th>\n",
       "      <th>Shape</th>\n",
       "      <th>DIS_DATETIME</th>\n",
       "      <th>CON_DATETIME</th>\n",
       "      <th>DISC_YM</th>\n",
       "    </tr>\n",
       "  </thead>\n",
       "  <tbody>\n",
       "    <tr>\n",
       "      <th>0</th>\n",
       "      <td>1</td>\n",
       "      <td>1</td>\n",
       "      <td>FS-1418826</td>\n",
       "      <td>FED</td>\n",
       "      <td>FS-FIRESTAT</td>\n",
       "      <td>FS</td>\n",
       "      <td>USCAPNF</td>\n",
       "      <td>Plumas National Forest</td>\n",
       "      <td>0511</td>\n",
       "      <td>Plumas National Forest</td>\n",
       "      <td>1</td>\n",
       "      <td>PNF-47</td>\n",
       "      <td>BJ8K</td>\n",
       "      <td>FOUNTAIN</td>\n",
       "      <td>None</td>\n",
       "      <td>None</td>\n",
       "      <td>None</td>\n",
       "      <td>None</td>\n",
       "      <td>None</td>\n",
       "      <td>2005</td>\n",
       "      <td>2,453,403.50</td>\n",
       "      <td>33</td>\n",
       "      <td>1300</td>\n",
       "      <td>9.00</td>\n",
       "      <td>Miscellaneous</td>\n",
       "      <td>2,453,403.50</td>\n",
       "      <td>33.00</td>\n",
       "      <td>1730</td>\n",
       "      <td>0.10</td>\n",
       "      <td>A</td>\n",
       "      <td>40.04</td>\n",
       "      <td>-121.01</td>\n",
       "      <td>5.00</td>\n",
       "      <td>USFS</td>\n",
       "      <td>CA</td>\n",
       "      <td>63</td>\n",
       "      <td>063</td>\n",
       "      <td>Plumas</td>\n",
       "      <td>b'\\x00\\x01\\xad\\x10\\x00\\x00\\xe8d\\xc2\\x92_@^\\xc0\\xe0\\xc8l\\x98\\xba\\x04D@\\xe8d\\xc2\\x92_@^\\xc0\\xe0\\xc8l\\x98\\xba\\x04D@|\\x01\\x00\\x00\\x00\\xe8d\\xc2\\x92_@^\\xc0\\xe0\\xc8l\\x98\\xba\\x04D@\\xfe'</td>\n",
       "      <td>2005-02-02 00:00:00</td>\n",
       "      <td>2005-02-02 00:00:00</td>\n",
       "      <td>2005-02</td>\n",
       "    </tr>\n",
       "    <tr>\n",
       "      <th>1</th>\n",
       "      <td>2</td>\n",
       "      <td>2</td>\n",
       "      <td>FS-1418827</td>\n",
       "      <td>FED</td>\n",
       "      <td>FS-FIRESTAT</td>\n",
       "      <td>FS</td>\n",
       "      <td>USCAENF</td>\n",
       "      <td>Eldorado National Forest</td>\n",
       "      <td>0503</td>\n",
       "      <td>Eldorado National Forest</td>\n",
       "      <td>13</td>\n",
       "      <td>13</td>\n",
       "      <td>AAC0</td>\n",
       "      <td>PIGEON</td>\n",
       "      <td>None</td>\n",
       "      <td>None</td>\n",
       "      <td>None</td>\n",
       "      <td>None</td>\n",
       "      <td>None</td>\n",
       "      <td>2004</td>\n",
       "      <td>2,453,137.50</td>\n",
       "      <td>133</td>\n",
       "      <td>0845</td>\n",
       "      <td>1.00</td>\n",
       "      <td>Lightning</td>\n",
       "      <td>2,453,137.50</td>\n",
       "      <td>133.00</td>\n",
       "      <td>1530</td>\n",
       "      <td>0.25</td>\n",
       "      <td>A</td>\n",
       "      <td>38.93</td>\n",
       "      <td>-120.40</td>\n",
       "      <td>5.00</td>\n",
       "      <td>USFS</td>\n",
       "      <td>CA</td>\n",
       "      <td>61</td>\n",
       "      <td>061</td>\n",
       "      <td>Placer</td>\n",
       "      <td>b'\\x00\\x01\\xad\\x10\\x00\\x00T\\xb6\\xeej\\xe2\\x19^\\xc0\\x90\\xc6U]nwC@T\\xb6\\xeej\\xe2\\x19^\\xc0\\x90\\xc6U]nwC@|\\x01\\x00\\x00\\x00T\\xb6\\xeej\\xe2\\x19^\\xc0\\x90\\xc6U]nwC@\\xfe'</td>\n",
       "      <td>2004-05-12 00:00:00</td>\n",
       "      <td>2004-05-12 00:00:00</td>\n",
       "      <td>2004-05</td>\n",
       "    </tr>\n",
       "    <tr>\n",
       "      <th>2</th>\n",
       "      <td>3</td>\n",
       "      <td>3</td>\n",
       "      <td>FS-1418835</td>\n",
       "      <td>FED</td>\n",
       "      <td>FS-FIRESTAT</td>\n",
       "      <td>FS</td>\n",
       "      <td>USCAENF</td>\n",
       "      <td>Eldorado National Forest</td>\n",
       "      <td>0503</td>\n",
       "      <td>Eldorado National Forest</td>\n",
       "      <td>27</td>\n",
       "      <td>021</td>\n",
       "      <td>A32W</td>\n",
       "      <td>SLACK</td>\n",
       "      <td>None</td>\n",
       "      <td>None</td>\n",
       "      <td>None</td>\n",
       "      <td>None</td>\n",
       "      <td>None</td>\n",
       "      <td>2004</td>\n",
       "      <td>2,453,156.50</td>\n",
       "      <td>152</td>\n",
       "      <td>1921</td>\n",
       "      <td>5.00</td>\n",
       "      <td>Debris Burning</td>\n",
       "      <td>2,453,156.50</td>\n",
       "      <td>152.00</td>\n",
       "      <td>2024</td>\n",
       "      <td>0.10</td>\n",
       "      <td>A</td>\n",
       "      <td>38.98</td>\n",
       "      <td>-120.74</td>\n",
       "      <td>13.00</td>\n",
       "      <td>STATE OR PRIVATE</td>\n",
       "      <td>CA</td>\n",
       "      <td>17</td>\n",
       "      <td>017</td>\n",
       "      <td>El Dorado</td>\n",
       "      <td>b'\\x00\\x01\\xad\\x10\\x00\\x00\\xd0\\xa5\\xa0W\\x13/^\\xc0P\\xbbf,\\xf9}C@\\xd0\\xa5\\xa0W\\x13/^\\xc0P\\xbbf,\\xf9}C@|\\x01\\x00\\x00\\x00\\xd0\\xa5\\xa0W\\x13/^\\xc0P\\xbbf,\\xf9}C@\\xfe'</td>\n",
       "      <td>2004-05-31 00:00:00</td>\n",
       "      <td>2004-05-31 00:00:00</td>\n",
       "      <td>2004-05</td>\n",
       "    </tr>\n",
       "    <tr>\n",
       "      <th>3</th>\n",
       "      <td>4</td>\n",
       "      <td>4</td>\n",
       "      <td>FS-1418845</td>\n",
       "      <td>FED</td>\n",
       "      <td>FS-FIRESTAT</td>\n",
       "      <td>FS</td>\n",
       "      <td>USCAENF</td>\n",
       "      <td>Eldorado National Forest</td>\n",
       "      <td>0503</td>\n",
       "      <td>Eldorado National Forest</td>\n",
       "      <td>43</td>\n",
       "      <td>6</td>\n",
       "      <td>None</td>\n",
       "      <td>DEER</td>\n",
       "      <td>None</td>\n",
       "      <td>None</td>\n",
       "      <td>None</td>\n",
       "      <td>None</td>\n",
       "      <td>None</td>\n",
       "      <td>2004</td>\n",
       "      <td>2,453,184.50</td>\n",
       "      <td>180</td>\n",
       "      <td>1600</td>\n",
       "      <td>1.00</td>\n",
       "      <td>Lightning</td>\n",
       "      <td>2,453,189.50</td>\n",
       "      <td>185.00</td>\n",
       "      <td>1400</td>\n",
       "      <td>0.10</td>\n",
       "      <td>A</td>\n",
       "      <td>38.56</td>\n",
       "      <td>-119.91</td>\n",
       "      <td>5.00</td>\n",
       "      <td>USFS</td>\n",
       "      <td>CA</td>\n",
       "      <td>3</td>\n",
       "      <td>003</td>\n",
       "      <td>Alpine</td>\n",
       "      <td>b'\\x00\\x01\\xad\\x10\\x00\\x00\\x94\\xac\\xa3\\rt\\xfa]\\xc0\\xe8T\\x00\\xc6\\x92GC@\\x94\\xac\\xa3\\rt\\xfa]\\xc0\\xe8T\\x00\\xc6\\x92GC@|\\x01\\x00\\x00\\x00\\x94\\xac\\xa3\\rt\\xfa]\\xc0\\xe8T\\x00\\xc6\\x92GC@\\xfe'</td>\n",
       "      <td>2004-06-28 00:00:00</td>\n",
       "      <td>2004-07-03 00:00:00</td>\n",
       "      <td>2004-06</td>\n",
       "    </tr>\n",
       "    <tr>\n",
       "      <th>4</th>\n",
       "      <td>5</td>\n",
       "      <td>5</td>\n",
       "      <td>FS-1418847</td>\n",
       "      <td>FED</td>\n",
       "      <td>FS-FIRESTAT</td>\n",
       "      <td>FS</td>\n",
       "      <td>USCAENF</td>\n",
       "      <td>Eldorado National Forest</td>\n",
       "      <td>0503</td>\n",
       "      <td>Eldorado National Forest</td>\n",
       "      <td>44</td>\n",
       "      <td>7</td>\n",
       "      <td>None</td>\n",
       "      <td>STEVENOT</td>\n",
       "      <td>None</td>\n",
       "      <td>None</td>\n",
       "      <td>None</td>\n",
       "      <td>None</td>\n",
       "      <td>None</td>\n",
       "      <td>2004</td>\n",
       "      <td>2,453,184.50</td>\n",
       "      <td>180</td>\n",
       "      <td>1600</td>\n",
       "      <td>1.00</td>\n",
       "      <td>Lightning</td>\n",
       "      <td>2,453,189.50</td>\n",
       "      <td>185.00</td>\n",
       "      <td>1200</td>\n",
       "      <td>0.10</td>\n",
       "      <td>A</td>\n",
       "      <td>38.56</td>\n",
       "      <td>-119.93</td>\n",
       "      <td>5.00</td>\n",
       "      <td>USFS</td>\n",
       "      <td>CA</td>\n",
       "      <td>3</td>\n",
       "      <td>003</td>\n",
       "      <td>Alpine</td>\n",
       "      <td>b'\\x00\\x01\\xad\\x10\\x00\\x00@\\xe3\\xaa.\\xb7\\xfb]\\xc0\\xe8T\\x00\\xc6\\x92GC@@\\xe3\\xaa.\\xb7\\xfb]\\xc0\\xe8T\\x00\\xc6\\x92GC@|\\x01\\x00\\x00\\x00@\\xe3\\xaa.\\xb7\\xfb]\\xc0\\xe8T\\x00\\xc6\\x92GC@\\xfe'</td>\n",
       "      <td>2004-06-28 00:00:00</td>\n",
       "      <td>2004-07-03 00:00:00</td>\n",
       "      <td>2004-06</td>\n",
       "    </tr>\n",
       "  </tbody>\n",
       "</table>\n",
       "</div>"
      ],
      "text/plain": [
       "   OBJECTID  FOD_ID      FPA_ID SOURCE_SYSTEM_TYPE SOURCE_SYSTEM NWCG_REPORTING_AGENCY NWCG_REPORTING_UNIT_ID  NWCG_REPORTING_UNIT_NAME SOURCE_REPORTING_UNIT SOURCE_REPORTING_UNIT_NAME LOCAL_FIRE_REPORT_ID LOCAL_INCIDENT_ID FIRE_CODE FIRE_NAME ICS_209_INCIDENT_NUMBER ICS_209_NAME MTBS_ID MTBS_FIRE_NAME COMPLEX_NAME  FIRE_YEAR       DISCOVERY_DATE  DISCOVERY_DOY DISCOVERY_TIME      STAT_CAUSE_CODE STAT_CAUSE_DESCR            CONT_DATE             CONT_DOY CONT_TIME            FIRE_SIZE FIRE_SIZE_CLASS             LATITUDE            LONGITUDE           OWNER_CODE       OWNER_DESCR STATE COUNTY FIPS_CODE  FIPS_NAME                                                                                                                                                                                 Shape         DIS_DATETIME         CON_DATETIME  DISC_YM\n",
       "0         1       1  FS-1418826                FED   FS-FIRESTAT                    FS                USCAPNF    Plumas National Forest                  0511     Plumas National Forest                    1            PNF-47      BJ8K  FOUNTAIN                    None         None    None           None         None       2005         2,453,403.50             33           1300                 9.00    Miscellaneous         2,453,403.50                33.00      1730                 0.10               A                40.04              -121.01                 5.00              USFS    CA     63       063     Plumas     b'\\x00\\x01\\xad\\x10\\x00\\x00\\xe8d\\xc2\\x92_@^\\xc0\\xe0\\xc8l\\x98\\xba\\x04D@\\xe8d\\xc2\\x92_@^\\xc0\\xe0\\xc8l\\x98\\xba\\x04D@|\\x01\\x00\\x00\\x00\\xe8d\\xc2\\x92_@^\\xc0\\xe0\\xc8l\\x98\\xba\\x04D@\\xfe'  2005-02-02 00:00:00  2005-02-02 00:00:00  2005-02\n",
       "1         2       2  FS-1418827                FED   FS-FIRESTAT                    FS                USCAENF  Eldorado National Forest                  0503   Eldorado National Forest                   13                13      AAC0    PIGEON                    None         None    None           None         None       2004         2,453,137.50            133           0845                 1.00        Lightning         2,453,137.50               133.00      1530                 0.25               A                38.93              -120.40                 5.00              USFS    CA     61       061     Placer                       b'\\x00\\x01\\xad\\x10\\x00\\x00T\\xb6\\xeej\\xe2\\x19^\\xc0\\x90\\xc6U]nwC@T\\xb6\\xeej\\xe2\\x19^\\xc0\\x90\\xc6U]nwC@|\\x01\\x00\\x00\\x00T\\xb6\\xeej\\xe2\\x19^\\xc0\\x90\\xc6U]nwC@\\xfe'  2004-05-12 00:00:00  2004-05-12 00:00:00  2004-05\n",
       "2         3       3  FS-1418835                FED   FS-FIRESTAT                    FS                USCAENF  Eldorado National Forest                  0503   Eldorado National Forest                   27               021      A32W     SLACK                    None         None    None           None         None       2004         2,453,156.50            152           1921                 5.00   Debris Burning         2,453,156.50               152.00      2024                 0.10               A                38.98              -120.74                13.00  STATE OR PRIVATE    CA     17       017  El Dorado                       b'\\x00\\x01\\xad\\x10\\x00\\x00\\xd0\\xa5\\xa0W\\x13/^\\xc0P\\xbbf,\\xf9}C@\\xd0\\xa5\\xa0W\\x13/^\\xc0P\\xbbf,\\xf9}C@|\\x01\\x00\\x00\\x00\\xd0\\xa5\\xa0W\\x13/^\\xc0P\\xbbf,\\xf9}C@\\xfe'  2004-05-31 00:00:00  2004-05-31 00:00:00  2004-05\n",
       "3         4       4  FS-1418845                FED   FS-FIRESTAT                    FS                USCAENF  Eldorado National Forest                  0503   Eldorado National Forest                   43                 6      None      DEER                    None         None    None           None         None       2004         2,453,184.50            180           1600                 1.00        Lightning         2,453,189.50               185.00      1400                 0.10               A                38.56              -119.91                 5.00              USFS    CA      3       003     Alpine  b'\\x00\\x01\\xad\\x10\\x00\\x00\\x94\\xac\\xa3\\rt\\xfa]\\xc0\\xe8T\\x00\\xc6\\x92GC@\\x94\\xac\\xa3\\rt\\xfa]\\xc0\\xe8T\\x00\\xc6\\x92GC@|\\x01\\x00\\x00\\x00\\x94\\xac\\xa3\\rt\\xfa]\\xc0\\xe8T\\x00\\xc6\\x92GC@\\xfe'  2004-06-28 00:00:00  2004-07-03 00:00:00  2004-06\n",
       "4         5       5  FS-1418847                FED   FS-FIRESTAT                    FS                USCAENF  Eldorado National Forest                  0503   Eldorado National Forest                   44                 7      None  STEVENOT                    None         None    None           None         None       2004         2,453,184.50            180           1600                 1.00        Lightning         2,453,189.50               185.00      1200                 0.10               A                38.56              -119.93                 5.00              USFS    CA      3       003     Alpine     b'\\x00\\x01\\xad\\x10\\x00\\x00@\\xe3\\xaa.\\xb7\\xfb]\\xc0\\xe8T\\x00\\xc6\\x92GC@@\\xe3\\xaa.\\xb7\\xfb]\\xc0\\xe8T\\x00\\xc6\\x92GC@|\\x01\\x00\\x00\\x00@\\xe3\\xaa.\\xb7\\xfb]\\xc0\\xe8T\\x00\\xc6\\x92GC@\\xfe'  2004-06-28 00:00:00  2004-07-03 00:00:00  2004-06"
      ]
     },
     "execution_count": 159,
     "metadata": {},
     "output_type": "execute_result"
    }
   ],
   "source": [
    "df['DISC_YM'] = df['DIS_DATETIME'].str.extract(r'(\\d{4}-\\d{2})')\n",
    "df.head()"
   ]
  },
  {
   "cell_type": "code",
   "execution_count": 171,
   "metadata": {},
   "outputs": [
    {
     "data": {
      "text/plain": [
       "(13,)"
      ]
     },
     "execution_count": 171,
     "metadata": {},
     "output_type": "execute_result"
    }
   ],
   "source": [
    "# df[df[\"UnitId\"] == \"USCAPNF\"].head()\n",
    "df[\"STAT_CAUSE_DESCR\"].value_counts().shape"
   ]
  },
  {
   "cell_type": "code",
   "execution_count": 196,
   "metadata": {},
   "outputs": [
    {
     "data": {
      "text/html": [
       "<div>\n",
       "<style scoped>\n",
       "    .dataframe tbody tr th:only-of-type {\n",
       "        vertical-align: middle;\n",
       "    }\n",
       "\n",
       "    .dataframe tbody tr th {\n",
       "        vertical-align: top;\n",
       "    }\n",
       "\n",
       "    .dataframe thead th {\n",
       "        text-align: right;\n",
       "    }\n",
       "</style>\n",
       "<table border=\"1\" class=\"dataframe\">\n",
       "  <thead>\n",
       "    <tr style=\"text-align: right;\">\n",
       "      <th></th>\n",
       "      <th>DISC_YM</th>\n",
       "      <th>FIRE_YEAR</th>\n",
       "      <th>count</th>\n",
       "    </tr>\n",
       "  </thead>\n",
       "  <tbody>\n",
       "    <tr>\n",
       "      <th>0</th>\n",
       "      <td>1992-01</td>\n",
       "      <td>1992</td>\n",
       "      <td>3603</td>\n",
       "    </tr>\n",
       "    <tr>\n",
       "      <th>1</th>\n",
       "      <td>1992-02</td>\n",
       "      <td>1992</td>\n",
       "      <td>7114</td>\n",
       "    </tr>\n",
       "    <tr>\n",
       "      <th>2</th>\n",
       "      <td>1992-03</td>\n",
       "      <td>1992</td>\n",
       "      <td>8706</td>\n",
       "    </tr>\n",
       "    <tr>\n",
       "      <th>3</th>\n",
       "      <td>1992-04</td>\n",
       "      <td>1992</td>\n",
       "      <td>7810</td>\n",
       "    </tr>\n",
       "    <tr>\n",
       "      <th>4</th>\n",
       "      <td>1992-05</td>\n",
       "      <td>1992</td>\n",
       "      <td>8574</td>\n",
       "    </tr>\n",
       "  </tbody>\n",
       "</table>\n",
       "</div>"
      ],
      "text/plain": [
       "   DISC_YM  FIRE_YEAR  count\n",
       "0  1992-01       1992   3603\n",
       "1  1992-02       1992   7114\n",
       "2  1992-03       1992   8706\n",
       "3  1992-04       1992   7810\n",
       "4  1992-05       1992   8574"
      ]
     },
     "execution_count": 196,
     "metadata": {},
     "output_type": "execute_result"
    }
   ],
   "source": [
    "date_counts = df[[\"DISC_YM\", \"FIRE_YEAR\", \"OBJECTID\"]]\\\n",
    "                .groupby([\"DISC_YM\", \"FIRE_YEAR\"])\\\n",
    "                .count()\\\n",
    "                .rename(columns={'OBJECTID':\"count\"})\\\n",
    "                .reset_index()\n",
    "date_counts.head()"
   ]
  },
  {
   "cell_type": "code",
   "execution_count": 202,
   "metadata": {},
   "outputs": [
    {
     "data": {
      "application/vnd.plotly.v1+json": {
       "config": {
        "plotlyServerURL": "https://plot.ly"
       },
       "data": [
        {
         "type": "bar",
         "x": [
          "1992-01",
          "1992-02",
          "1992-03",
          "1992-04",
          "1992-05",
          "1992-06",
          "1992-07",
          "1992-08",
          "1992-09",
          "1992-10",
          "1992-11",
          "1992-12",
          "1993-01",
          "1993-02",
          "1993-03",
          "1993-04",
          "1993-05",
          "1993-06",
          "1993-07",
          "1993-08",
          "1993-09",
          "1993-10",
          "1993-11",
          "1993-12",
          "1994-01",
          "1994-02",
          "1994-03",
          "1994-03",
          "1994-04",
          "1994-05",
          "1994-06",
          "1994-07",
          "1994-07",
          "1994-08",
          "1994-09",
          "1994-10",
          "1994-11",
          "1994-12",
          "1995-01",
          "1995-02",
          "1995-03",
          "1995-04",
          "1995-05",
          "1995-06",
          "1995-07",
          "1995-08",
          "1995-09",
          "1995-10",
          "1995-11",
          "1995-12",
          "1996-01",
          "1996-02",
          "1996-03",
          "1996-04",
          "1996-05",
          "1996-06",
          "1996-07",
          "1996-08",
          "1996-09",
          "1996-10",
          "1996-11",
          "1996-12",
          "1997-01",
          "1997-02",
          "1997-03",
          "1997-04",
          "1997-05",
          "1997-06",
          "1997-07",
          "1997-08",
          "1997-09",
          "1997-10",
          "1997-11",
          "1997-12",
          "1998-01",
          "1998-02",
          "1998-03",
          "1998-04",
          "1998-05",
          "1998-06",
          "1998-07",
          "1998-08",
          "1998-09",
          "1998-10",
          "1998-11",
          "1998-12",
          "1999-01",
          "1999-02",
          "1999-03",
          "1999-04",
          "1999-05",
          "1999-06",
          "1999-07",
          "1999-08",
          "1999-09",
          "1999-10",
          "1999-11",
          "1999-12",
          "2000-01",
          "2000-02",
          "2000-03",
          "2000-04",
          "2000-05",
          "2000-06",
          "2000-07",
          "2000-08",
          "2000-09",
          "2000-10",
          "2000-11",
          "2000-12",
          "2001-01",
          "2001-02",
          "2001-03",
          "2001-04",
          "2001-05",
          "2001-06",
          "2001-07",
          "2001-08",
          "2001-09",
          "2001-10",
          "2001-11",
          "2001-12",
          "2002-01",
          "2002-02",
          "2002-03",
          "2002-04",
          "2002-05",
          "2002-06",
          "2002-07",
          "2002-08",
          "2002-09",
          "2002-10",
          "2002-11",
          "2002-12",
          "2003-01",
          "2003-02",
          "2003-03",
          "2003-04",
          "2003-05",
          "2003-06",
          "2003-07",
          "2003-08",
          "2003-09",
          "2003-10",
          "2003-11",
          "2003-12",
          "2004-01",
          "2004-02",
          "2004-03",
          "2004-04",
          "2004-05",
          "2004-06",
          "2004-07",
          "2004-08",
          "2004-09",
          "2004-10",
          "2004-11",
          "2004-12",
          "2005-01",
          "2005-02",
          "2005-03",
          "2005-04",
          "2005-05",
          "2005-06",
          "2005-07",
          "2005-08",
          "2005-09",
          "2005-10",
          "2005-11",
          "2005-12",
          "2006-01",
          "2006-02",
          "2006-03",
          "2006-04",
          "2006-05",
          "2006-06",
          "2006-07",
          "2006-08",
          "2006-09",
          "2006-10",
          "2006-11",
          "2006-12",
          "2007-01",
          "2007-02",
          "2007-03",
          "2007-04",
          "2007-05",
          "2007-06",
          "2007-07",
          "2007-08",
          "2007-09",
          "2007-10",
          "2007-11",
          "2007-12",
          "2008-01",
          "2008-02",
          "2008-03",
          "2008-04",
          "2008-05",
          "2008-06",
          "2008-07",
          "2008-08",
          "2008-09",
          "2008-10",
          "2008-11",
          "2008-12",
          "2009-01",
          "2009-02",
          "2009-03",
          "2009-04",
          "2009-05",
          "2009-06",
          "2009-07",
          "2009-08",
          "2009-09",
          "2009-10",
          "2009-10",
          "2009-11",
          "2009-12",
          "2010-01",
          "2010-02",
          "2010-03",
          "2010-04",
          "2010-05",
          "2010-06",
          "2010-07",
          "2010-08",
          "2010-09",
          "2010-10",
          "2010-11",
          "2010-12",
          "2011-01",
          "2011-02",
          "2011-03",
          "2011-04",
          "2011-05",
          "2011-06",
          "2011-07",
          "2011-08",
          "2011-09",
          "2011-10",
          "2011-11",
          "2011-12",
          "2012-01",
          "2012-02",
          "2012-03",
          "2012-04",
          "2012-05",
          "2012-06",
          "2012-07",
          "2012-08",
          "2012-09",
          "2012-10",
          "2012-11",
          "2012-12",
          "2013-01",
          "2013-02",
          "2013-03",
          "2013-04",
          "2013-05",
          "2013-06",
          "2013-07",
          "2013-08",
          "2013-09",
          "2013-10",
          "2013-11",
          "2013-12",
          "2014-01",
          "2014-02",
          "2014-03",
          "2014-04",
          "2014-05",
          "2014-06",
          "2014-07",
          "2014-08",
          "2014-09",
          "2014-10",
          "2014-11",
          "2014-12",
          "2015-01",
          "2015-02",
          "2015-03",
          "2015-04",
          "2015-05",
          "2015-06",
          "2015-07",
          "2015-08",
          "2015-09",
          "2015-10",
          "2015-11",
          "2015-12"
         ],
         "y": [
          3603,
          7114,
          8706,
          7810,
          8574,
          7307,
          7618,
          7478,
          3717,
          3579,
          1398,
          1071,
          1553,
          4454,
          5355,
          6926,
          5980,
          6917,
          8763,
          7620,
          4984,
          4016,
          3321,
          2097,
          3271,
          5795,
          1,
          11369,
          9561,
          6908,
          6277,
          2,
          11884,
          8743,
          5130,
          2632,
          2964,
          1421,
          1473,
          6010,
          10300,
          10089,
          5662,
          5137,
          8320,
          7058,
          7103,
          4098,
          3043,
          3179,
          3239,
          10631,
          9605,
          10035,
          6592,
          6138,
          9698,
          9037,
          3839,
          3219,
          1926,
          1615,
          2638,
          3621,
          8029,
          10018,
          6759,
          4321,
          7583,
          6019,
          5879,
          3699,
          1537,
          1347,
          1291,
          2804,
          6753,
          7619,
          4733,
          7347,
          10194,
          8862,
          6371,
          5329,
          4176,
          2891,
          3388,
          6215,
          10903,
          10520,
          6192,
          5990,
          7180,
          12430,
          9195,
          5795,
          7411,
          4144,
          5113,
          10470,
          11523,
          8109,
          8026,
          8179,
          11927,
          13454,
          6524,
          7441,
          3185,
          2465,
          5426,
          6598,
          6626,
          10008,
          8985,
          6187,
          9856,
          8121,
          4901,
          6643,
          10332,
          2904,
          3625,
          10104,
          9046,
          8728,
          7438,
          6823,
          10673,
          8518,
          4837,
          1964,
          2298,
          1602,
          4191,
          2910,
          6732,
          9879,
          5171,
          5294,
          10435,
          8983,
          4465,
          4602,
          3176,
          2423,
          3687,
          4299,
          12558,
          11387,
          5483,
          7059,
          8358,
          6864,
          3478,
          2085,
          2013,
          2008,
          3916,
          5032,
          10303,
          12600,
          6232,
          6224,
          9558,
          8311,
          7560,
          5904,
          7663,
          5301,
          9805,
          8277,
          18923,
          15901,
          8343,
          10884,
          15267,
          10993,
          4870,
          4208,
          3119,
          3414,
          3222,
          8387,
          14098,
          10578,
          10291,
          8331,
          12084,
          9746,
          6455,
          4734,
          4234,
          3413,
          5580,
          6985,
          9876,
          10952,
          7146,
          10085,
          10107,
          8430,
          4200,
          4543,
          4693,
          2781,
          6129,
          9500,
          12344,
          11056,
          5920,
          5814,
          10460,
          6722,
          4608,
          1850,
          1,
          2930,
          992,
          2312,
          2924,
          9423,
          11527,
          5180,
          5654,
          9144,
          8164,
          7637,
          8716,
          4758,
          4449,
          5227,
          10324,
          9481,
          8658,
          6846,
          9453,
          10633,
          11470,
          7984,
          4563,
          3627,
          2286,
          4323,
          3854,
          8131,
          7839,
          5763,
          7285,
          11921,
          8218,
          5015,
          3704,
          4698,
          2018,
          3150,
          3255,
          8675,
          7523,
          7291,
          5722,
          8194,
          8292,
          4615,
          2598,
          3818,
          1647,
          6011,
          4365,
          9177,
          9850,
          6339,
          4603,
          8710,
          6638,
          3175,
          3077,
          4021,
          1787,
          4265,
          5214,
          8046,
          9066,
          8044,
          6409,
          8665,
          8407,
          5523,
          5992,
          3296,
          1564
         ]
        }
       ],
       "layout": {
        "template": {
         "data": {
          "bar": [
           {
            "error_x": {
             "color": "#2a3f5f"
            },
            "error_y": {
             "color": "#2a3f5f"
            },
            "marker": {
             "line": {
              "color": "#E5ECF6",
              "width": 0.5
             },
             "pattern": {
              "fillmode": "overlay",
              "size": 10,
              "solidity": 0.2
             }
            },
            "type": "bar"
           }
          ],
          "barpolar": [
           {
            "marker": {
             "line": {
              "color": "#E5ECF6",
              "width": 0.5
             },
             "pattern": {
              "fillmode": "overlay",
              "size": 10,
              "solidity": 0.2
             }
            },
            "type": "barpolar"
           }
          ],
          "carpet": [
           {
            "aaxis": {
             "endlinecolor": "#2a3f5f",
             "gridcolor": "white",
             "linecolor": "white",
             "minorgridcolor": "white",
             "startlinecolor": "#2a3f5f"
            },
            "baxis": {
             "endlinecolor": "#2a3f5f",
             "gridcolor": "white",
             "linecolor": "white",
             "minorgridcolor": "white",
             "startlinecolor": "#2a3f5f"
            },
            "type": "carpet"
           }
          ],
          "choropleth": [
           {
            "colorbar": {
             "outlinewidth": 0,
             "ticks": ""
            },
            "type": "choropleth"
           }
          ],
          "contour": [
           {
            "colorbar": {
             "outlinewidth": 0,
             "ticks": ""
            },
            "colorscale": [
             [
              0,
              "#0d0887"
             ],
             [
              0.1111111111111111,
              "#46039f"
             ],
             [
              0.2222222222222222,
              "#7201a8"
             ],
             [
              0.3333333333333333,
              "#9c179e"
             ],
             [
              0.4444444444444444,
              "#bd3786"
             ],
             [
              0.5555555555555556,
              "#d8576b"
             ],
             [
              0.6666666666666666,
              "#ed7953"
             ],
             [
              0.7777777777777778,
              "#fb9f3a"
             ],
             [
              0.8888888888888888,
              "#fdca26"
             ],
             [
              1,
              "#f0f921"
             ]
            ],
            "type": "contour"
           }
          ],
          "contourcarpet": [
           {
            "colorbar": {
             "outlinewidth": 0,
             "ticks": ""
            },
            "type": "contourcarpet"
           }
          ],
          "heatmap": [
           {
            "colorbar": {
             "outlinewidth": 0,
             "ticks": ""
            },
            "colorscale": [
             [
              0,
              "#0d0887"
             ],
             [
              0.1111111111111111,
              "#46039f"
             ],
             [
              0.2222222222222222,
              "#7201a8"
             ],
             [
              0.3333333333333333,
              "#9c179e"
             ],
             [
              0.4444444444444444,
              "#bd3786"
             ],
             [
              0.5555555555555556,
              "#d8576b"
             ],
             [
              0.6666666666666666,
              "#ed7953"
             ],
             [
              0.7777777777777778,
              "#fb9f3a"
             ],
             [
              0.8888888888888888,
              "#fdca26"
             ],
             [
              1,
              "#f0f921"
             ]
            ],
            "type": "heatmap"
           }
          ],
          "heatmapgl": [
           {
            "colorbar": {
             "outlinewidth": 0,
             "ticks": ""
            },
            "colorscale": [
             [
              0,
              "#0d0887"
             ],
             [
              0.1111111111111111,
              "#46039f"
             ],
             [
              0.2222222222222222,
              "#7201a8"
             ],
             [
              0.3333333333333333,
              "#9c179e"
             ],
             [
              0.4444444444444444,
              "#bd3786"
             ],
             [
              0.5555555555555556,
              "#d8576b"
             ],
             [
              0.6666666666666666,
              "#ed7953"
             ],
             [
              0.7777777777777778,
              "#fb9f3a"
             ],
             [
              0.8888888888888888,
              "#fdca26"
             ],
             [
              1,
              "#f0f921"
             ]
            ],
            "type": "heatmapgl"
           }
          ],
          "histogram": [
           {
            "marker": {
             "pattern": {
              "fillmode": "overlay",
              "size": 10,
              "solidity": 0.2
             }
            },
            "type": "histogram"
           }
          ],
          "histogram2d": [
           {
            "colorbar": {
             "outlinewidth": 0,
             "ticks": ""
            },
            "colorscale": [
             [
              0,
              "#0d0887"
             ],
             [
              0.1111111111111111,
              "#46039f"
             ],
             [
              0.2222222222222222,
              "#7201a8"
             ],
             [
              0.3333333333333333,
              "#9c179e"
             ],
             [
              0.4444444444444444,
              "#bd3786"
             ],
             [
              0.5555555555555556,
              "#d8576b"
             ],
             [
              0.6666666666666666,
              "#ed7953"
             ],
             [
              0.7777777777777778,
              "#fb9f3a"
             ],
             [
              0.8888888888888888,
              "#fdca26"
             ],
             [
              1,
              "#f0f921"
             ]
            ],
            "type": "histogram2d"
           }
          ],
          "histogram2dcontour": [
           {
            "colorbar": {
             "outlinewidth": 0,
             "ticks": ""
            },
            "colorscale": [
             [
              0,
              "#0d0887"
             ],
             [
              0.1111111111111111,
              "#46039f"
             ],
             [
              0.2222222222222222,
              "#7201a8"
             ],
             [
              0.3333333333333333,
              "#9c179e"
             ],
             [
              0.4444444444444444,
              "#bd3786"
             ],
             [
              0.5555555555555556,
              "#d8576b"
             ],
             [
              0.6666666666666666,
              "#ed7953"
             ],
             [
              0.7777777777777778,
              "#fb9f3a"
             ],
             [
              0.8888888888888888,
              "#fdca26"
             ],
             [
              1,
              "#f0f921"
             ]
            ],
            "type": "histogram2dcontour"
           }
          ],
          "mesh3d": [
           {
            "colorbar": {
             "outlinewidth": 0,
             "ticks": ""
            },
            "type": "mesh3d"
           }
          ],
          "parcoords": [
           {
            "line": {
             "colorbar": {
              "outlinewidth": 0,
              "ticks": ""
             }
            },
            "type": "parcoords"
           }
          ],
          "pie": [
           {
            "automargin": true,
            "type": "pie"
           }
          ],
          "scatter": [
           {
            "fillpattern": {
             "fillmode": "overlay",
             "size": 10,
             "solidity": 0.2
            },
            "type": "scatter"
           }
          ],
          "scatter3d": [
           {
            "line": {
             "colorbar": {
              "outlinewidth": 0,
              "ticks": ""
             }
            },
            "marker": {
             "colorbar": {
              "outlinewidth": 0,
              "ticks": ""
             }
            },
            "type": "scatter3d"
           }
          ],
          "scattercarpet": [
           {
            "marker": {
             "colorbar": {
              "outlinewidth": 0,
              "ticks": ""
             }
            },
            "type": "scattercarpet"
           }
          ],
          "scattergeo": [
           {
            "marker": {
             "colorbar": {
              "outlinewidth": 0,
              "ticks": ""
             }
            },
            "type": "scattergeo"
           }
          ],
          "scattergl": [
           {
            "marker": {
             "colorbar": {
              "outlinewidth": 0,
              "ticks": ""
             }
            },
            "type": "scattergl"
           }
          ],
          "scattermapbox": [
           {
            "marker": {
             "colorbar": {
              "outlinewidth": 0,
              "ticks": ""
             }
            },
            "type": "scattermapbox"
           }
          ],
          "scatterpolar": [
           {
            "marker": {
             "colorbar": {
              "outlinewidth": 0,
              "ticks": ""
             }
            },
            "type": "scatterpolar"
           }
          ],
          "scatterpolargl": [
           {
            "marker": {
             "colorbar": {
              "outlinewidth": 0,
              "ticks": ""
             }
            },
            "type": "scatterpolargl"
           }
          ],
          "scatterternary": [
           {
            "marker": {
             "colorbar": {
              "outlinewidth": 0,
              "ticks": ""
             }
            },
            "type": "scatterternary"
           }
          ],
          "surface": [
           {
            "colorbar": {
             "outlinewidth": 0,
             "ticks": ""
            },
            "colorscale": [
             [
              0,
              "#0d0887"
             ],
             [
              0.1111111111111111,
              "#46039f"
             ],
             [
              0.2222222222222222,
              "#7201a8"
             ],
             [
              0.3333333333333333,
              "#9c179e"
             ],
             [
              0.4444444444444444,
              "#bd3786"
             ],
             [
              0.5555555555555556,
              "#d8576b"
             ],
             [
              0.6666666666666666,
              "#ed7953"
             ],
             [
              0.7777777777777778,
              "#fb9f3a"
             ],
             [
              0.8888888888888888,
              "#fdca26"
             ],
             [
              1,
              "#f0f921"
             ]
            ],
            "type": "surface"
           }
          ],
          "table": [
           {
            "cells": {
             "fill": {
              "color": "#EBF0F8"
             },
             "line": {
              "color": "white"
             }
            },
            "header": {
             "fill": {
              "color": "#C8D4E3"
             },
             "line": {
              "color": "white"
             }
            },
            "type": "table"
           }
          ]
         },
         "layout": {
          "annotationdefaults": {
           "arrowcolor": "#2a3f5f",
           "arrowhead": 0,
           "arrowwidth": 1
          },
          "autotypenumbers": "strict",
          "coloraxis": {
           "colorbar": {
            "outlinewidth": 0,
            "ticks": ""
           }
          },
          "colorscale": {
           "diverging": [
            [
             0,
             "#8e0152"
            ],
            [
             0.1,
             "#c51b7d"
            ],
            [
             0.2,
             "#de77ae"
            ],
            [
             0.3,
             "#f1b6da"
            ],
            [
             0.4,
             "#fde0ef"
            ],
            [
             0.5,
             "#f7f7f7"
            ],
            [
             0.6,
             "#e6f5d0"
            ],
            [
             0.7,
             "#b8e186"
            ],
            [
             0.8,
             "#7fbc41"
            ],
            [
             0.9,
             "#4d9221"
            ],
            [
             1,
             "#276419"
            ]
           ],
           "sequential": [
            [
             0,
             "#0d0887"
            ],
            [
             0.1111111111111111,
             "#46039f"
            ],
            [
             0.2222222222222222,
             "#7201a8"
            ],
            [
             0.3333333333333333,
             "#9c179e"
            ],
            [
             0.4444444444444444,
             "#bd3786"
            ],
            [
             0.5555555555555556,
             "#d8576b"
            ],
            [
             0.6666666666666666,
             "#ed7953"
            ],
            [
             0.7777777777777778,
             "#fb9f3a"
            ],
            [
             0.8888888888888888,
             "#fdca26"
            ],
            [
             1,
             "#f0f921"
            ]
           ],
           "sequentialminus": [
            [
             0,
             "#0d0887"
            ],
            [
             0.1111111111111111,
             "#46039f"
            ],
            [
             0.2222222222222222,
             "#7201a8"
            ],
            [
             0.3333333333333333,
             "#9c179e"
            ],
            [
             0.4444444444444444,
             "#bd3786"
            ],
            [
             0.5555555555555556,
             "#d8576b"
            ],
            [
             0.6666666666666666,
             "#ed7953"
            ],
            [
             0.7777777777777778,
             "#fb9f3a"
            ],
            [
             0.8888888888888888,
             "#fdca26"
            ],
            [
             1,
             "#f0f921"
            ]
           ]
          },
          "colorway": [
           "#636efa",
           "#EF553B",
           "#00cc96",
           "#ab63fa",
           "#FFA15A",
           "#19d3f3",
           "#FF6692",
           "#B6E880",
           "#FF97FF",
           "#FECB52"
          ],
          "font": {
           "color": "#2a3f5f"
          },
          "geo": {
           "bgcolor": "white",
           "lakecolor": "white",
           "landcolor": "#E5ECF6",
           "showlakes": true,
           "showland": true,
           "subunitcolor": "white"
          },
          "hoverlabel": {
           "align": "left"
          },
          "hovermode": "closest",
          "mapbox": {
           "style": "light"
          },
          "paper_bgcolor": "white",
          "plot_bgcolor": "#E5ECF6",
          "polar": {
           "angularaxis": {
            "gridcolor": "white",
            "linecolor": "white",
            "ticks": ""
           },
           "bgcolor": "#E5ECF6",
           "radialaxis": {
            "gridcolor": "white",
            "linecolor": "white",
            "ticks": ""
           }
          },
          "scene": {
           "xaxis": {
            "backgroundcolor": "#E5ECF6",
            "gridcolor": "white",
            "gridwidth": 2,
            "linecolor": "white",
            "showbackground": true,
            "ticks": "",
            "zerolinecolor": "white"
           },
           "yaxis": {
            "backgroundcolor": "#E5ECF6",
            "gridcolor": "white",
            "gridwidth": 2,
            "linecolor": "white",
            "showbackground": true,
            "ticks": "",
            "zerolinecolor": "white"
           },
           "zaxis": {
            "backgroundcolor": "#E5ECF6",
            "gridcolor": "white",
            "gridwidth": 2,
            "linecolor": "white",
            "showbackground": true,
            "ticks": "",
            "zerolinecolor": "white"
           }
          },
          "shapedefaults": {
           "line": {
            "color": "#2a3f5f"
           }
          },
          "ternary": {
           "aaxis": {
            "gridcolor": "white",
            "linecolor": "white",
            "ticks": ""
           },
           "baxis": {
            "gridcolor": "white",
            "linecolor": "white",
            "ticks": ""
           },
           "bgcolor": "#E5ECF6",
           "caxis": {
            "gridcolor": "white",
            "linecolor": "white",
            "ticks": ""
           }
          },
          "title": {
           "x": 0.05
          },
          "xaxis": {
           "automargin": true,
           "gridcolor": "white",
           "linecolor": "white",
           "ticks": "",
           "title": {
            "standoff": 15
           },
           "zerolinecolor": "white",
           "zerolinewidth": 2
          },
          "yaxis": {
           "automargin": true,
           "gridcolor": "white",
           "linecolor": "white",
           "ticks": "",
           "title": {
            "standoff": 15
           },
           "zerolinecolor": "white",
           "zerolinewidth": 2
          }
         }
        },
        "title": {
         "text": "Trend of Wildfire over time"
        },
        "xaxis": {
         "rangeslider": {
          "visible": true
         },
         "title": {
          "text": "Date(Month-Year)"
         },
         "type": "date"
        },
        "yaxis": {
         "title": {
          "text": "Number of Wildfires"
         }
        }
       }
      }
     },
     "metadata": {},
     "output_type": "display_data"
    }
   ],
   "source": [
    "fig2 = go.Figure()\n",
    "# plot\n",
    "fig2.add_trace(\n",
    "                # go.Scatter(x=date_counts['DISC_YM'], y=date_counts['count'])\n",
    "                go.Bar(x=date_counts['DISC_YM'], y=date_counts['count'],colo )\n",
    "                )\n",
    "\n",
    "# Set labels and title\n",
    "fig2.update_layout({\"title\": \"Trend of Wildfire over time\",\n",
    "                   \"yaxis\": {\"title\":\"Number of Wildfires\"},\n",
    "                   \"xaxis\": {\"title\":\"Date(Month-Year)\"}})\n",
    "\n",
    "# Add range slider and buttons\n",
    "# fig2.update_traces(texttemplate = \"%{x} | %{y}\")\n",
    "# fig2.update_traces(textposition = \"bottom center\")\n",
    "# fig2.update_traces(textposition = \"top center\")\n",
    "fig2.update_layout(xaxis=dict(rangeslider=dict(visible=True), type=\"date\"))\n",
    "# st.plotly_chart(fig2, use_container_width=True)"
   ]
  },
  {
   "cell_type": "code",
   "execution_count": 200,
   "metadata": {},
   "outputs": [
    {
     "data": {
      "text/html": [
       "<div>\n",
       "<style scoped>\n",
       "    .dataframe tbody tr th:only-of-type {\n",
       "        vertical-align: middle;\n",
       "    }\n",
       "\n",
       "    .dataframe tbody tr th {\n",
       "        vertical-align: top;\n",
       "    }\n",
       "\n",
       "    .dataframe thead th {\n",
       "        text-align: right;\n",
       "    }\n",
       "</style>\n",
       "<table border=\"1\" class=\"dataframe\">\n",
       "  <thead>\n",
       "    <tr style=\"text-align: right;\">\n",
       "      <th></th>\n",
       "      <th>FIRE_YEAR</th>\n",
       "      <th>count</th>\n",
       "    </tr>\n",
       "  </thead>\n",
       "  <tbody>\n",
       "    <tr>\n",
       "      <th>0</th>\n",
       "      <td>1992</td>\n",
       "      <td>67975</td>\n",
       "    </tr>\n",
       "    <tr>\n",
       "      <th>1</th>\n",
       "      <td>1993</td>\n",
       "      <td>61989</td>\n",
       "    </tr>\n",
       "    <tr>\n",
       "      <th>2</th>\n",
       "      <td>1994</td>\n",
       "      <td>75955</td>\n",
       "    </tr>\n",
       "    <tr>\n",
       "      <th>3</th>\n",
       "      <td>1995</td>\n",
       "      <td>71472</td>\n",
       "    </tr>\n",
       "    <tr>\n",
       "      <th>4</th>\n",
       "      <td>1996</td>\n",
       "      <td>75574</td>\n",
       "    </tr>\n",
       "  </tbody>\n",
       "</table>\n",
       "</div>"
      ],
      "text/plain": [
       "   FIRE_YEAR  count\n",
       "0       1992  67975\n",
       "1       1993  61989\n",
       "2       1994  75955\n",
       "3       1995  71472\n",
       "4       1996  75574"
      ]
     },
     "execution_count": 200,
     "metadata": {},
     "output_type": "execute_result"
    }
   ],
   "source": [
    "year_counts = df[[\"FIRE_YEAR\", \"OBJECTID\"]]\\\n",
    "                .groupby([\"FIRE_YEAR\"])\\\n",
    "                .count()\\\n",
    "                .rename(columns={'OBJECTID':\"count\"})\\\n",
    "                .reset_index()\n",
    "year_counts.head()"
   ]
  },
  {
   "cell_type": "code",
   "execution_count": 208,
   "metadata": {},
   "outputs": [
    {
     "data": {
      "application/vnd.plotly.v1+json": {
       "config": {
        "plotlyServerURL": "https://plot.ly"
       },
       "data": [
        {
         "alignmentgroup": "True",
         "hovertemplate": "Year=%{x}<br>Total Count=%{y}<extra></extra>",
         "legendgroup": "",
         "marker": {
          "color": "#636efa",
          "pattern": {
           "shape": ""
          }
         },
         "name": "",
         "offsetgroup": "",
         "orientation": "v",
         "showlegend": false,
         "textposition": "auto",
         "texttemplate": "%{y:.2s}",
         "type": "bar",
         "x": [
          1992,
          1993,
          1994,
          1995,
          1996,
          1997,
          1998,
          1999,
          2000,
          2001,
          2002,
          2003,
          2004,
          2005,
          2006,
          2007,
          2008,
          2009,
          2010,
          2011,
          2012,
          2013,
          2014,
          2015
         ],
         "xaxis": "x",
         "y": [
          67975,
          61989,
          75955,
          71472,
          75574,
          61450,
          68370,
          89363,
          96416,
          86587,
          75656,
          68261,
          69279,
          88604,
          114004,
          95573,
          85378,
          78325,
          79889,
          90552,
          72769,
          64780,
          67753,
          74491
         ],
         "yaxis": "y"
        }
       ],
       "layout": {
        "barmode": "relative",
        "legend": {
         "tracegroupgap": 0
        },
        "template": {
         "data": {
          "bar": [
           {
            "error_x": {
             "color": "#2a3f5f"
            },
            "error_y": {
             "color": "#2a3f5f"
            },
            "marker": {
             "line": {
              "color": "#E5ECF6",
              "width": 0.5
             },
             "pattern": {
              "fillmode": "overlay",
              "size": 10,
              "solidity": 0.2
             }
            },
            "type": "bar"
           }
          ],
          "barpolar": [
           {
            "marker": {
             "line": {
              "color": "#E5ECF6",
              "width": 0.5
             },
             "pattern": {
              "fillmode": "overlay",
              "size": 10,
              "solidity": 0.2
             }
            },
            "type": "barpolar"
           }
          ],
          "carpet": [
           {
            "aaxis": {
             "endlinecolor": "#2a3f5f",
             "gridcolor": "white",
             "linecolor": "white",
             "minorgridcolor": "white",
             "startlinecolor": "#2a3f5f"
            },
            "baxis": {
             "endlinecolor": "#2a3f5f",
             "gridcolor": "white",
             "linecolor": "white",
             "minorgridcolor": "white",
             "startlinecolor": "#2a3f5f"
            },
            "type": "carpet"
           }
          ],
          "choropleth": [
           {
            "colorbar": {
             "outlinewidth": 0,
             "ticks": ""
            },
            "type": "choropleth"
           }
          ],
          "contour": [
           {
            "colorbar": {
             "outlinewidth": 0,
             "ticks": ""
            },
            "colorscale": [
             [
              0,
              "#0d0887"
             ],
             [
              0.1111111111111111,
              "#46039f"
             ],
             [
              0.2222222222222222,
              "#7201a8"
             ],
             [
              0.3333333333333333,
              "#9c179e"
             ],
             [
              0.4444444444444444,
              "#bd3786"
             ],
             [
              0.5555555555555556,
              "#d8576b"
             ],
             [
              0.6666666666666666,
              "#ed7953"
             ],
             [
              0.7777777777777778,
              "#fb9f3a"
             ],
             [
              0.8888888888888888,
              "#fdca26"
             ],
             [
              1,
              "#f0f921"
             ]
            ],
            "type": "contour"
           }
          ],
          "contourcarpet": [
           {
            "colorbar": {
             "outlinewidth": 0,
             "ticks": ""
            },
            "type": "contourcarpet"
           }
          ],
          "heatmap": [
           {
            "colorbar": {
             "outlinewidth": 0,
             "ticks": ""
            },
            "colorscale": [
             [
              0,
              "#0d0887"
             ],
             [
              0.1111111111111111,
              "#46039f"
             ],
             [
              0.2222222222222222,
              "#7201a8"
             ],
             [
              0.3333333333333333,
              "#9c179e"
             ],
             [
              0.4444444444444444,
              "#bd3786"
             ],
             [
              0.5555555555555556,
              "#d8576b"
             ],
             [
              0.6666666666666666,
              "#ed7953"
             ],
             [
              0.7777777777777778,
              "#fb9f3a"
             ],
             [
              0.8888888888888888,
              "#fdca26"
             ],
             [
              1,
              "#f0f921"
             ]
            ],
            "type": "heatmap"
           }
          ],
          "heatmapgl": [
           {
            "colorbar": {
             "outlinewidth": 0,
             "ticks": ""
            },
            "colorscale": [
             [
              0,
              "#0d0887"
             ],
             [
              0.1111111111111111,
              "#46039f"
             ],
             [
              0.2222222222222222,
              "#7201a8"
             ],
             [
              0.3333333333333333,
              "#9c179e"
             ],
             [
              0.4444444444444444,
              "#bd3786"
             ],
             [
              0.5555555555555556,
              "#d8576b"
             ],
             [
              0.6666666666666666,
              "#ed7953"
             ],
             [
              0.7777777777777778,
              "#fb9f3a"
             ],
             [
              0.8888888888888888,
              "#fdca26"
             ],
             [
              1,
              "#f0f921"
             ]
            ],
            "type": "heatmapgl"
           }
          ],
          "histogram": [
           {
            "marker": {
             "pattern": {
              "fillmode": "overlay",
              "size": 10,
              "solidity": 0.2
             }
            },
            "type": "histogram"
           }
          ],
          "histogram2d": [
           {
            "colorbar": {
             "outlinewidth": 0,
             "ticks": ""
            },
            "colorscale": [
             [
              0,
              "#0d0887"
             ],
             [
              0.1111111111111111,
              "#46039f"
             ],
             [
              0.2222222222222222,
              "#7201a8"
             ],
             [
              0.3333333333333333,
              "#9c179e"
             ],
             [
              0.4444444444444444,
              "#bd3786"
             ],
             [
              0.5555555555555556,
              "#d8576b"
             ],
             [
              0.6666666666666666,
              "#ed7953"
             ],
             [
              0.7777777777777778,
              "#fb9f3a"
             ],
             [
              0.8888888888888888,
              "#fdca26"
             ],
             [
              1,
              "#f0f921"
             ]
            ],
            "type": "histogram2d"
           }
          ],
          "histogram2dcontour": [
           {
            "colorbar": {
             "outlinewidth": 0,
             "ticks": ""
            },
            "colorscale": [
             [
              0,
              "#0d0887"
             ],
             [
              0.1111111111111111,
              "#46039f"
             ],
             [
              0.2222222222222222,
              "#7201a8"
             ],
             [
              0.3333333333333333,
              "#9c179e"
             ],
             [
              0.4444444444444444,
              "#bd3786"
             ],
             [
              0.5555555555555556,
              "#d8576b"
             ],
             [
              0.6666666666666666,
              "#ed7953"
             ],
             [
              0.7777777777777778,
              "#fb9f3a"
             ],
             [
              0.8888888888888888,
              "#fdca26"
             ],
             [
              1,
              "#f0f921"
             ]
            ],
            "type": "histogram2dcontour"
           }
          ],
          "mesh3d": [
           {
            "colorbar": {
             "outlinewidth": 0,
             "ticks": ""
            },
            "type": "mesh3d"
           }
          ],
          "parcoords": [
           {
            "line": {
             "colorbar": {
              "outlinewidth": 0,
              "ticks": ""
             }
            },
            "type": "parcoords"
           }
          ],
          "pie": [
           {
            "automargin": true,
            "type": "pie"
           }
          ],
          "scatter": [
           {
            "fillpattern": {
             "fillmode": "overlay",
             "size": 10,
             "solidity": 0.2
            },
            "type": "scatter"
           }
          ],
          "scatter3d": [
           {
            "line": {
             "colorbar": {
              "outlinewidth": 0,
              "ticks": ""
             }
            },
            "marker": {
             "colorbar": {
              "outlinewidth": 0,
              "ticks": ""
             }
            },
            "type": "scatter3d"
           }
          ],
          "scattercarpet": [
           {
            "marker": {
             "colorbar": {
              "outlinewidth": 0,
              "ticks": ""
             }
            },
            "type": "scattercarpet"
           }
          ],
          "scattergeo": [
           {
            "marker": {
             "colorbar": {
              "outlinewidth": 0,
              "ticks": ""
             }
            },
            "type": "scattergeo"
           }
          ],
          "scattergl": [
           {
            "marker": {
             "colorbar": {
              "outlinewidth": 0,
              "ticks": ""
             }
            },
            "type": "scattergl"
           }
          ],
          "scattermapbox": [
           {
            "marker": {
             "colorbar": {
              "outlinewidth": 0,
              "ticks": ""
             }
            },
            "type": "scattermapbox"
           }
          ],
          "scatterpolar": [
           {
            "marker": {
             "colorbar": {
              "outlinewidth": 0,
              "ticks": ""
             }
            },
            "type": "scatterpolar"
           }
          ],
          "scatterpolargl": [
           {
            "marker": {
             "colorbar": {
              "outlinewidth": 0,
              "ticks": ""
             }
            },
            "type": "scatterpolargl"
           }
          ],
          "scatterternary": [
           {
            "marker": {
             "colorbar": {
              "outlinewidth": 0,
              "ticks": ""
             }
            },
            "type": "scatterternary"
           }
          ],
          "surface": [
           {
            "colorbar": {
             "outlinewidth": 0,
             "ticks": ""
            },
            "colorscale": [
             [
              0,
              "#0d0887"
             ],
             [
              0.1111111111111111,
              "#46039f"
             ],
             [
              0.2222222222222222,
              "#7201a8"
             ],
             [
              0.3333333333333333,
              "#9c179e"
             ],
             [
              0.4444444444444444,
              "#bd3786"
             ],
             [
              0.5555555555555556,
              "#d8576b"
             ],
             [
              0.6666666666666666,
              "#ed7953"
             ],
             [
              0.7777777777777778,
              "#fb9f3a"
             ],
             [
              0.8888888888888888,
              "#fdca26"
             ],
             [
              1,
              "#f0f921"
             ]
            ],
            "type": "surface"
           }
          ],
          "table": [
           {
            "cells": {
             "fill": {
              "color": "#EBF0F8"
             },
             "line": {
              "color": "white"
             }
            },
            "header": {
             "fill": {
              "color": "#C8D4E3"
             },
             "line": {
              "color": "white"
             }
            },
            "type": "table"
           }
          ]
         },
         "layout": {
          "annotationdefaults": {
           "arrowcolor": "#2a3f5f",
           "arrowhead": 0,
           "arrowwidth": 1
          },
          "autotypenumbers": "strict",
          "coloraxis": {
           "colorbar": {
            "outlinewidth": 0,
            "ticks": ""
           }
          },
          "colorscale": {
           "diverging": [
            [
             0,
             "#8e0152"
            ],
            [
             0.1,
             "#c51b7d"
            ],
            [
             0.2,
             "#de77ae"
            ],
            [
             0.3,
             "#f1b6da"
            ],
            [
             0.4,
             "#fde0ef"
            ],
            [
             0.5,
             "#f7f7f7"
            ],
            [
             0.6,
             "#e6f5d0"
            ],
            [
             0.7,
             "#b8e186"
            ],
            [
             0.8,
             "#7fbc41"
            ],
            [
             0.9,
             "#4d9221"
            ],
            [
             1,
             "#276419"
            ]
           ],
           "sequential": [
            [
             0,
             "#0d0887"
            ],
            [
             0.1111111111111111,
             "#46039f"
            ],
            [
             0.2222222222222222,
             "#7201a8"
            ],
            [
             0.3333333333333333,
             "#9c179e"
            ],
            [
             0.4444444444444444,
             "#bd3786"
            ],
            [
             0.5555555555555556,
             "#d8576b"
            ],
            [
             0.6666666666666666,
             "#ed7953"
            ],
            [
             0.7777777777777778,
             "#fb9f3a"
            ],
            [
             0.8888888888888888,
             "#fdca26"
            ],
            [
             1,
             "#f0f921"
            ]
           ],
           "sequentialminus": [
            [
             0,
             "#0d0887"
            ],
            [
             0.1111111111111111,
             "#46039f"
            ],
            [
             0.2222222222222222,
             "#7201a8"
            ],
            [
             0.3333333333333333,
             "#9c179e"
            ],
            [
             0.4444444444444444,
             "#bd3786"
            ],
            [
             0.5555555555555556,
             "#d8576b"
            ],
            [
             0.6666666666666666,
             "#ed7953"
            ],
            [
             0.7777777777777778,
             "#fb9f3a"
            ],
            [
             0.8888888888888888,
             "#fdca26"
            ],
            [
             1,
             "#f0f921"
            ]
           ]
          },
          "colorway": [
           "#636efa",
           "#EF553B",
           "#00cc96",
           "#ab63fa",
           "#FFA15A",
           "#19d3f3",
           "#FF6692",
           "#B6E880",
           "#FF97FF",
           "#FECB52"
          ],
          "font": {
           "color": "#2a3f5f"
          },
          "geo": {
           "bgcolor": "white",
           "lakecolor": "white",
           "landcolor": "#E5ECF6",
           "showlakes": true,
           "showland": true,
           "subunitcolor": "white"
          },
          "hoverlabel": {
           "align": "left"
          },
          "hovermode": "closest",
          "mapbox": {
           "style": "light"
          },
          "paper_bgcolor": "white",
          "plot_bgcolor": "#E5ECF6",
          "polar": {
           "angularaxis": {
            "gridcolor": "white",
            "linecolor": "white",
            "ticks": ""
           },
           "bgcolor": "#E5ECF6",
           "radialaxis": {
            "gridcolor": "white",
            "linecolor": "white",
            "ticks": ""
           }
          },
          "scene": {
           "xaxis": {
            "backgroundcolor": "#E5ECF6",
            "gridcolor": "white",
            "gridwidth": 2,
            "linecolor": "white",
            "showbackground": true,
            "ticks": "",
            "zerolinecolor": "white"
           },
           "yaxis": {
            "backgroundcolor": "#E5ECF6",
            "gridcolor": "white",
            "gridwidth": 2,
            "linecolor": "white",
            "showbackground": true,
            "ticks": "",
            "zerolinecolor": "white"
           },
           "zaxis": {
            "backgroundcolor": "#E5ECF6",
            "gridcolor": "white",
            "gridwidth": 2,
            "linecolor": "white",
            "showbackground": true,
            "ticks": "",
            "zerolinecolor": "white"
           }
          },
          "shapedefaults": {
           "line": {
            "color": "#2a3f5f"
           }
          },
          "ternary": {
           "aaxis": {
            "gridcolor": "white",
            "linecolor": "white",
            "ticks": ""
           },
           "baxis": {
            "gridcolor": "white",
            "linecolor": "white",
            "ticks": ""
           },
           "bgcolor": "#E5ECF6",
           "caxis": {
            "gridcolor": "white",
            "linecolor": "white",
            "ticks": ""
           }
          },
          "title": {
           "x": 0.05
          },
          "xaxis": {
           "automargin": true,
           "gridcolor": "white",
           "linecolor": "white",
           "ticks": "",
           "title": {
            "standoff": 15
           },
           "zerolinecolor": "white",
           "zerolinewidth": 2
          },
          "yaxis": {
           "automargin": true,
           "gridcolor": "white",
           "linecolor": "white",
           "ticks": "",
           "title": {
            "standoff": 15
           },
           "zerolinecolor": "white",
           "zerolinewidth": 2
          }
         }
        },
        "title": {
         "text": "Yearly summary of wildfire"
        },
        "xaxis": {
         "anchor": "y",
         "domain": [
          0,
          1
         ],
         "title": {
          "text": "Year"
         }
        },
        "yaxis": {
         "anchor": "x",
         "domain": [
          0,
          1
         ],
         "title": {
          "text": "Total Count"
         }
        }
       }
      }
     },
     "metadata": {},
     "output_type": "display_data"
    }
   ],
   "source": [
    "fig = px.bar(year_counts, y='count', x='FIRE_YEAR', \n",
    "            text_auto='.2s',\n",
    "            labels={'count':'Total Count', 'FIRE_YEAR': 'Year'}, \n",
    "            title=\"Yearly summary of wildfire\")\n",
    "fig.show()"
   ]
  },
  {
   "cell_type": "code",
   "execution_count": 186,
   "metadata": {},
   "outputs": [
    {
     "data": {
      "text/html": [
       "<div>\n",
       "<style scoped>\n",
       "    .dataframe tbody tr th:only-of-type {\n",
       "        vertical-align: middle;\n",
       "    }\n",
       "\n",
       "    .dataframe tbody tr th {\n",
       "        vertical-align: top;\n",
       "    }\n",
       "\n",
       "    .dataframe thead th {\n",
       "        text-align: right;\n",
       "    }\n",
       "</style>\n",
       "<table border=\"1\" class=\"dataframe\">\n",
       "  <thead>\n",
       "    <tr style=\"text-align: right;\">\n",
       "      <th></th>\n",
       "      <th>STAT_CAUSE_DESCR</th>\n",
       "      <th>count</th>\n",
       "    </tr>\n",
       "  </thead>\n",
       "  <tbody>\n",
       "    <tr>\n",
       "      <th>2</th>\n",
       "      <td>Arson</td>\n",
       "      <td>281455</td>\n",
       "    </tr>\n",
       "    <tr>\n",
       "      <th>6</th>\n",
       "      <td>Campfire</td>\n",
       "      <td>76139</td>\n",
       "    </tr>\n",
       "    <tr>\n",
       "      <th>7</th>\n",
       "      <td>Children</td>\n",
       "      <td>61167</td>\n",
       "    </tr>\n",
       "    <tr>\n",
       "      <th>0</th>\n",
       "      <td>Debris Burning</td>\n",
       "      <td>429028</td>\n",
       "    </tr>\n",
       "    <tr>\n",
       "      <th>5</th>\n",
       "      <td>Equipment Use</td>\n",
       "      <td>147612</td>\n",
       "    </tr>\n",
       "  </tbody>\n",
       "</table>\n",
       "</div>"
      ],
      "text/plain": [
       "  STAT_CAUSE_DESCR   count\n",
       "2            Arson  281455\n",
       "6         Campfire   76139\n",
       "7         Children   61167\n",
       "0   Debris Burning  429028\n",
       "5    Equipment Use  147612"
      ]
     },
     "execution_count": 186,
     "metadata": {},
     "output_type": "execute_result"
    }
   ],
   "source": [
    "def subdata(df):\n",
    "    cause_count = df[\"STAT_CAUSE_DESCR\"].value_counts()\\\n",
    "                        .to_frame()\\\n",
    "                        .reset_index()\\\n",
    "                        .rename(columns={'STAT_CAUSE_DESCR':\"count\", \"index\":'STAT_CAUSE_DESCR'})\\\n",
    "                        .sort_values(by='STAT_CAUSE_DESCR')\n",
    "\n",
    "    date_counts = df[[\"DISC_YM\", \"FIRE_YEAR\"]]\\\n",
    "                        .groupby([\"DISC_YM\", \"FIRE_YEAR\"])\\\n",
    "                        .count()\\\n",
    "                        .rename(columns={'DISC_YM':\"count\"})\\\n",
    "                        .reset_index()\n",
    "                    \n",
    "    county_counts = df['FIPS_NAME'].value_counts()\\\n",
    "                        .to_frame()\\\n",
    "                        .reset_index()\\\n",
    "                        .rename(columns={'FIPS_NAME':\"count\", \"index\":'FIPS_NAME'})\\\n",
    "                        .sort_values(by='count', ascending=False)\n",
    "\n",
    "    return cause_count, date_counts, county_counts\n",
    "\n",
    "cause_count, date_counts, county_counts = subdata(df)\n",
    "cause_count.head()"
   ]
  },
  {
   "cell_type": "code",
   "execution_count": 30,
   "metadata": {},
   "outputs": [
    {
     "data": {
      "text/html": [
       "<div>\n",
       "<style scoped>\n",
       "    .dataframe tbody tr th:only-of-type {\n",
       "        vertical-align: middle;\n",
       "    }\n",
       "\n",
       "    .dataframe tbody tr th {\n",
       "        vertical-align: top;\n",
       "    }\n",
       "\n",
       "    .dataframe thead th {\n",
       "        text-align: right;\n",
       "    }\n",
       "</style>\n",
       "<table border=\"1\" class=\"dataframe\">\n",
       "  <thead>\n",
       "    <tr style=\"text-align: right;\">\n",
       "      <th></th>\n",
       "      <th>STAT_CAUSE_DESCR</th>\n",
       "      <th>FIRE_YEAR</th>\n",
       "      <th>count</th>\n",
       "    </tr>\n",
       "  </thead>\n",
       "  <tbody>\n",
       "    <tr>\n",
       "      <th>0</th>\n",
       "      <td>Arson</td>\n",
       "      <td>1992</td>\n",
       "      <td>11162</td>\n",
       "    </tr>\n",
       "    <tr>\n",
       "      <th>1</th>\n",
       "      <td>Arson</td>\n",
       "      <td>1993</td>\n",
       "      <td>10945</td>\n",
       "    </tr>\n",
       "    <tr>\n",
       "      <th>2</th>\n",
       "      <td>Arson</td>\n",
       "      <td>1994</td>\n",
       "      <td>10080</td>\n",
       "    </tr>\n",
       "    <tr>\n",
       "      <th>3</th>\n",
       "      <td>Arson</td>\n",
       "      <td>1995</td>\n",
       "      <td>12648</td>\n",
       "    </tr>\n",
       "    <tr>\n",
       "      <th>4</th>\n",
       "      <td>Arson</td>\n",
       "      <td>1996</td>\n",
       "      <td>10206</td>\n",
       "    </tr>\n",
       "  </tbody>\n",
       "</table>\n",
       "</div>"
      ],
      "text/plain": [
       "  STAT_CAUSE_DESCR  FIRE_YEAR  count\n",
       "0            Arson       1992  11162\n",
       "1            Arson       1993  10945\n",
       "2            Arson       1994  10080\n",
       "3            Arson       1995  12648\n",
       "4            Arson       1996  10206"
      ]
     },
     "execution_count": 30,
     "metadata": {},
     "output_type": "execute_result"
    }
   ],
   "source": [
    "cause_count = df[[\"STAT_CAUSE_DESCR\", \"FIRE_YEAR\", \"OBJECTID\"]]\\\n",
    "                    .groupby([\"STAT_CAUSE_DESCR\", \"FIRE_YEAR\"])\\\n",
    "                    .count()\\\n",
    "                    .rename(columns={'OBJECTID':\"count\"})\\\n",
    "                    .reset_index()\n",
    "\n",
    "\n",
    "# cause_count = df[\"STAT_CAUSE_DESCR\"].value_counts()\\\n",
    "#                     .to_frame()\\\n",
    "#                     .reset_index()\\\n",
    "#                     .rename(columns={'STAT_CAUSE_DESCR':\"count\", \"index\":'STAT_CAUSE_DESCR'})\\\n",
    "#                     .sort_values(by='STAT_CAUSE_DESCR')\n",
    "\n",
    "\n",
    "cause_count.head()"
   ]
  },
  {
   "cell_type": "code",
   "execution_count": 35,
   "metadata": {},
   "outputs": [
    {
     "data": {
      "application/vnd.plotly.v1+json": {
       "config": {
        "plotlyServerURL": "https://plot.ly"
       },
       "data": [
        {
         "alignmentgroup": "True",
         "hovertemplate": "FIRE_YEAR=1992<br>Causes=%{x}<br>Total Count=%{y}<extra></extra>",
         "legendgroup": "1992",
         "marker": {
          "color": "#636efa",
          "pattern": {
           "shape": ""
          }
         },
         "name": "1992",
         "offsetgroup": "1992",
         "orientation": "v",
         "showlegend": true,
         "textposition": "auto",
         "texttemplate": "%{y:.2s}",
         "type": "bar",
         "x": [
          "Arson",
          "Campfire",
          "Children",
          "Debris Burning",
          "Equipment Use",
          "Fireworks",
          "Lightning",
          "Miscellaneous",
          "Missing/Undefined",
          "Powerline",
          "Railroad",
          "Smoking",
          "Structure"
         ],
         "xaxis": "x",
         "y": [
          11162,
          2570,
          2916,
          12729,
          5633,
          213,
          12230,
          7364,
          8366,
          128,
          1999,
          2618,
          47
         ],
         "yaxis": "y"
        },
        {
         "alignmentgroup": "True",
         "hovertemplate": "FIRE_YEAR=1993<br>Causes=%{x}<br>Total Count=%{y}<extra></extra>",
         "legendgroup": "1993",
         "marker": {
          "color": "#EF553B",
          "pattern": {
           "shape": ""
          }
         },
         "name": "1993",
         "offsetgroup": "1993",
         "orientation": "v",
         "showlegend": true,
         "textposition": "auto",
         "texttemplate": "%{y:.2s}",
         "type": "bar",
         "x": [
          "Arson",
          "Campfire",
          "Children",
          "Debris Burning",
          "Equipment Use",
          "Fireworks",
          "Lightning",
          "Miscellaneous",
          "Missing/Undefined",
          "Powerline",
          "Railroad",
          "Smoking",
          "Structure"
         ],
         "xaxis": "x",
         "y": [
          10945,
          2767,
          2501,
          12353,
          5516,
          243,
          7539,
          6848,
          8826,
          133,
          1844,
          2420,
          54
         ],
         "yaxis": "y"
        },
        {
         "alignmentgroup": "True",
         "hovertemplate": "FIRE_YEAR=1994<br>Causes=%{x}<br>Total Count=%{y}<extra></extra>",
         "legendgroup": "1994",
         "marker": {
          "color": "#00cc96",
          "pattern": {
           "shape": ""
          }
         },
         "name": "1994",
         "offsetgroup": "1994",
         "orientation": "v",
         "showlegend": true,
         "textposition": "auto",
         "texttemplate": "%{y:.2s}",
         "type": "bar",
         "x": [
          "Arson",
          "Campfire",
          "Children",
          "Debris Burning",
          "Equipment Use",
          "Fireworks",
          "Lightning",
          "Miscellaneous",
          "Missing/Undefined",
          "Powerline",
          "Railroad",
          "Smoking",
          "Structure"
         ],
         "xaxis": "x",
         "y": [
          10080,
          3726,
          3201,
          14845,
          5429,
          413,
          16204,
          7070,
          10183,
          144,
          1965,
          2628,
          67
         ],
         "yaxis": "y"
        },
        {
         "alignmentgroup": "True",
         "hovertemplate": "FIRE_YEAR=1995<br>Causes=%{x}<br>Total Count=%{y}<extra></extra>",
         "legendgroup": "1995",
         "marker": {
          "color": "#ab63fa",
          "pattern": {
           "shape": ""
          }
         },
         "name": "1995",
         "offsetgroup": "1995",
         "orientation": "v",
         "showlegend": true,
         "textposition": "auto",
         "texttemplate": "%{y:.2s}",
         "type": "bar",
         "x": [
          "Arson",
          "Campfire",
          "Children",
          "Debris Burning",
          "Equipment Use",
          "Fireworks",
          "Lightning",
          "Miscellaneous",
          "Missing/Undefined",
          "Powerline",
          "Railroad",
          "Smoking",
          "Structure"
         ],
         "xaxis": "x",
         "y": [
          12648,
          3987,
          3310,
          16719,
          5594,
          202,
          8075,
          7297,
          8360,
          154,
          2142,
          2895,
          89
         ],
         "yaxis": "y"
        },
        {
         "alignmentgroup": "True",
         "hovertemplate": "FIRE_YEAR=1996<br>Causes=%{x}<br>Total Count=%{y}<extra></extra>",
         "legendgroup": "1996",
         "marker": {
          "color": "#FFA15A",
          "pattern": {
           "shape": ""
          }
         },
         "name": "1996",
         "offsetgroup": "1996",
         "orientation": "v",
         "showlegend": true,
         "textposition": "auto",
         "texttemplate": "%{y:.2s}",
         "type": "bar",
         "x": [
          "Arson",
          "Campfire",
          "Children",
          "Debris Burning",
          "Equipment Use",
          "Fireworks",
          "Lightning",
          "Miscellaneous",
          "Missing/Undefined",
          "Powerline",
          "Railroad",
          "Smoking",
          "Structure"
         ],
         "xaxis": "x",
         "y": [
          10206,
          4038,
          3039,
          16827,
          6028,
          322,
          12634,
          7115,
          9764,
          166,
          2896,
          2454,
          85
         ],
         "yaxis": "y"
        },
        {
         "alignmentgroup": "True",
         "hovertemplate": "FIRE_YEAR=1997<br>Causes=%{x}<br>Total Count=%{y}<extra></extra>",
         "legendgroup": "1997",
         "marker": {
          "color": "#19d3f3",
          "pattern": {
           "shape": ""
          }
         },
         "name": "1997",
         "offsetgroup": "1997",
         "orientation": "v",
         "showlegend": true,
         "textposition": "auto",
         "texttemplate": "%{y:.2s}",
         "type": "bar",
         "x": [
          "Arson",
          "Campfire",
          "Children",
          "Debris Burning",
          "Equipment Use",
          "Fireworks",
          "Lightning",
          "Miscellaneous",
          "Missing/Undefined",
          "Powerline",
          "Railroad",
          "Smoking",
          "Structure"
         ],
         "xaxis": "x",
         "y": [
          10936,
          2490,
          2884,
          14750,
          5744,
          276,
          8447,
          9663,
          1816,
          180,
          2177,
          1971,
          116
         ],
         "yaxis": "y"
        },
        {
         "alignmentgroup": "True",
         "hovertemplate": "FIRE_YEAR=1998<br>Causes=%{x}<br>Total Count=%{y}<extra></extra>",
         "legendgroup": "1998",
         "marker": {
          "color": "#FF6692",
          "pattern": {
           "shape": ""
          }
         },
         "name": "1998",
         "offsetgroup": "1998",
         "orientation": "v",
         "showlegend": true,
         "textposition": "auto",
         "texttemplate": "%{y:.2s}",
         "type": "bar",
         "x": [
          "Arson",
          "Campfire",
          "Children",
          "Debris Burning",
          "Equipment Use",
          "Fireworks",
          "Lightning",
          "Miscellaneous",
          "Missing/Undefined",
          "Powerline",
          "Railroad",
          "Smoking",
          "Structure"
         ],
         "xaxis": "x",
         "y": [
          14103,
          2661,
          3109,
          15111,
          6027,
          306,
          10880,
          9334,
          2079,
          371,
          1873,
          2406,
          110
         ],
         "yaxis": "y"
        },
        {
         "alignmentgroup": "True",
         "hovertemplate": "FIRE_YEAR=1999<br>Causes=%{x}<br>Total Count=%{y}<extra></extra>",
         "legendgroup": "1999",
         "marker": {
          "color": "#B6E880",
          "pattern": {
           "shape": ""
          }
         },
         "name": "1999",
         "offsetgroup": "1999",
         "orientation": "v",
         "showlegend": true,
         "textposition": "auto",
         "texttemplate": "%{y:.2s}",
         "type": "bar",
         "x": [
          "Arson",
          "Campfire",
          "Children",
          "Debris Burning",
          "Equipment Use",
          "Fireworks",
          "Lightning",
          "Miscellaneous",
          "Missing/Undefined",
          "Powerline",
          "Railroad",
          "Smoking",
          "Structure"
         ],
         "xaxis": "x",
         "y": [
          19282,
          3266,
          3517,
          22343,
          7643,
          330,
          11797,
          12408,
          2509,
          364,
          2524,
          3250,
          130
         ],
         "yaxis": "y"
        },
        {
         "alignmentgroup": "True",
         "hovertemplate": "FIRE_YEAR=2000<br>Causes=%{x}<br>Total Count=%{y}<extra></extra>",
         "legendgroup": "2000",
         "marker": {
          "color": "#FF97FF",
          "pattern": {
           "shape": ""
          }
         },
         "name": "2000",
         "offsetgroup": "2000",
         "orientation": "v",
         "showlegend": true,
         "textposition": "auto",
         "texttemplate": "%{y:.2s}",
         "type": "bar",
         "x": [
          "Arson",
          "Campfire",
          "Children",
          "Debris Burning",
          "Equipment Use",
          "Fireworks",
          "Lightning",
          "Miscellaneous",
          "Missing/Undefined",
          "Powerline",
          "Railroad",
          "Smoking",
          "Structure"
         ],
         "xaxis": "x",
         "y": [
          17827,
          2723,
          3492,
          21790,
          6608,
          292,
          16547,
          19037,
          1423,
          351,
          3143,
          3047,
          136
         ],
         "yaxis": "y"
        },
        {
         "alignmentgroup": "True",
         "hovertemplate": "FIRE_YEAR=2001<br>Causes=%{x}<br>Total Count=%{y}<extra></extra>",
         "legendgroup": "2001",
         "marker": {
          "color": "#FECB52",
          "pattern": {
           "shape": ""
          }
         },
         "name": "2001",
         "offsetgroup": "2001",
         "orientation": "v",
         "showlegend": true,
         "textposition": "auto",
         "texttemplate": "%{y:.2s}",
         "type": "bar",
         "x": [
          "Arson",
          "Campfire",
          "Children",
          "Debris Burning",
          "Equipment Use",
          "Fireworks",
          "Lightning",
          "Miscellaneous",
          "Missing/Undefined",
          "Powerline",
          "Railroad",
          "Smoking",
          "Structure"
         ],
         "xaxis": "x",
         "y": [
          16939,
          3121,
          3537,
          21377,
          6581,
          426,
          13825,
          12038,
          2560,
          364,
          2293,
          3381,
          145
         ],
         "yaxis": "y"
        },
        {
         "alignmentgroup": "True",
         "hovertemplate": "FIRE_YEAR=2002<br>Causes=%{x}<br>Total Count=%{y}<extra></extra>",
         "legendgroup": "2002",
         "marker": {
          "color": "#636efa",
          "pattern": {
           "shape": ""
          }
         },
         "name": "2002",
         "offsetgroup": "2002",
         "orientation": "v",
         "showlegend": true,
         "textposition": "auto",
         "texttemplate": "%{y:.2s}",
         "type": "bar",
         "x": [
          "Arson",
          "Campfire",
          "Children",
          "Debris Burning",
          "Equipment Use",
          "Fireworks",
          "Lightning",
          "Miscellaneous",
          "Missing/Undefined",
          "Powerline",
          "Railroad",
          "Smoking",
          "Structure"
         ],
         "xaxis": "x",
         "y": [
          12785,
          3022,
          2906,
          19269,
          5382,
          433,
          12465,
          12424,
          2052,
          312,
          1900,
          2535,
          171
         ],
         "yaxis": "y"
        },
        {
         "alignmentgroup": "True",
         "hovertemplate": "FIRE_YEAR=2003<br>Causes=%{x}<br>Total Count=%{y}<extra></extra>",
         "legendgroup": "2003",
         "marker": {
          "color": "#EF553B",
          "pattern": {
           "shape": ""
          }
         },
         "name": "2003",
         "offsetgroup": "2003",
         "orientation": "v",
         "showlegend": true,
         "textposition": "auto",
         "texttemplate": "%{y:.2s}",
         "type": "bar",
         "x": [
          "Arson",
          "Campfire",
          "Children",
          "Debris Burning",
          "Equipment Use",
          "Fireworks",
          "Lightning",
          "Miscellaneous",
          "Missing/Undefined",
          "Powerline",
          "Railroad",
          "Smoking",
          "Structure"
         ],
         "xaxis": "x",
         "y": [
          10006,
          2436,
          2250,
          12546,
          5595,
          444,
          13828,
          11098,
          7539,
          268,
          612,
          1525,
          114
         ],
         "yaxis": "y"
        },
        {
         "alignmentgroup": "True",
         "hovertemplate": "FIRE_YEAR=2004<br>Causes=%{x}<br>Total Count=%{y}<extra></extra>",
         "legendgroup": "2004",
         "marker": {
          "color": "#00cc96",
          "pattern": {
           "shape": ""
          }
         },
         "name": "2004",
         "offsetgroup": "2004",
         "orientation": "v",
         "showlegend": true,
         "textposition": "auto",
         "texttemplate": "%{y:.2s}",
         "type": "bar",
         "x": [
          "Arson",
          "Campfire",
          "Children",
          "Debris Burning",
          "Equipment Use",
          "Fireworks",
          "Lightning",
          "Miscellaneous",
          "Missing/Undefined",
          "Powerline",
          "Railroad",
          "Smoking",
          "Structure"
         ],
         "xaxis": "x",
         "y": [
          11429,
          2266,
          2041,
          16911,
          5526,
          420,
          11726,
          10300,
          6026,
          191,
          719,
          1589,
          135
         ],
         "yaxis": "y"
        },
        {
         "alignmentgroup": "True",
         "hovertemplate": "FIRE_YEAR=2005<br>Causes=%{x}<br>Total Count=%{y}<extra></extra>",
         "legendgroup": "2005",
         "marker": {
          "color": "#ab63fa",
          "pattern": {
           "shape": ""
          }
         },
         "name": "2005",
         "offsetgroup": "2005",
         "orientation": "v",
         "showlegend": true,
         "textposition": "auto",
         "texttemplate": "%{y:.2s}",
         "type": "bar",
         "x": [
          "Arson",
          "Campfire",
          "Children",
          "Debris Burning",
          "Equipment Use",
          "Fireworks",
          "Lightning",
          "Miscellaneous",
          "Missing/Undefined",
          "Powerline",
          "Railroad",
          "Smoking",
          "Structure"
         ],
         "xaxis": "x",
         "y": [
          13354,
          3662,
          2507,
          18703,
          7148,
          543,
          11103,
          16370,
          11927,
          313,
          768,
          2038,
          168
         ],
         "yaxis": "y"
        },
        {
         "alignmentgroup": "True",
         "hovertemplate": "FIRE_YEAR=2006<br>Causes=%{x}<br>Total Count=%{y}<extra></extra>",
         "legendgroup": "2006",
         "marker": {
          "color": "#FFA15A",
          "pattern": {
           "shape": ""
          }
         },
         "name": "2006",
         "offsetgroup": "2006",
         "orientation": "v",
         "showlegend": true,
         "textposition": "auto",
         "texttemplate": "%{y:.2s}",
         "type": "bar",
         "x": [
          "Arson",
          "Campfire",
          "Children",
          "Debris Burning",
          "Equipment Use",
          "Fireworks",
          "Lightning",
          "Miscellaneous",
          "Missing/Undefined",
          "Powerline",
          "Railroad",
          "Smoking",
          "Structure"
         ],
         "xaxis": "x",
         "y": [
          18902,
          2845,
          3186,
          25951,
          9569,
          1009,
          16949,
          21846,
          9569,
          344,
          1014,
          2737,
          83
         ],
         "yaxis": "y"
        },
        {
         "alignmentgroup": "True",
         "hovertemplate": "FIRE_YEAR=2007<br>Causes=%{x}<br>Total Count=%{y}<extra></extra>",
         "legendgroup": "2007",
         "marker": {
          "color": "#19d3f3",
          "pattern": {
           "shape": ""
          }
         },
         "name": "2007",
         "offsetgroup": "2007",
         "orientation": "v",
         "showlegend": true,
         "textposition": "auto",
         "texttemplate": "%{y:.2s}",
         "type": "bar",
         "x": [
          "Arson",
          "Campfire",
          "Children",
          "Debris Burning",
          "Equipment Use",
          "Fireworks",
          "Lightning",
          "Miscellaneous",
          "Missing/Undefined",
          "Powerline",
          "Railroad",
          "Smoking",
          "Structure"
         ],
         "xaxis": "x",
         "y": [
          13600,
          3510,
          2580,
          18703,
          7230,
          689,
          12711,
          17893,
          15142,
          390,
          913,
          2063,
          149
         ],
         "yaxis": "y"
        },
        {
         "alignmentgroup": "True",
         "hovertemplate": "FIRE_YEAR=2008<br>Causes=%{x}<br>Total Count=%{y}<extra></extra>",
         "legendgroup": "2008",
         "marker": {
          "color": "#FF6692",
          "pattern": {
           "shape": ""
          }
         },
         "name": "2008",
         "offsetgroup": "2008",
         "orientation": "v",
         "showlegend": true,
         "textposition": "auto",
         "texttemplate": "%{y:.2s}",
         "type": "bar",
         "x": [
          "Arson",
          "Campfire",
          "Children",
          "Debris Burning",
          "Equipment Use",
          "Fireworks",
          "Lightning",
          "Miscellaneous",
          "Missing/Undefined",
          "Powerline",
          "Railroad",
          "Smoking",
          "Structure"
         ],
         "xaxis": "x",
         "y": [
          9483,
          3336,
          2215,
          18825,
          7464,
          412,
          9904,
          20677,
          10048,
          295,
          778,
          1848,
          93
         ],
         "yaxis": "y"
        },
        {
         "alignmentgroup": "True",
         "hovertemplate": "FIRE_YEAR=2009<br>Causes=%{x}<br>Total Count=%{y}<extra></extra>",
         "legendgroup": "2009",
         "marker": {
          "color": "#B6E880",
          "pattern": {
           "shape": ""
          }
         },
         "name": "2009",
         "offsetgroup": "2009",
         "orientation": "v",
         "showlegend": true,
         "textposition": "auto",
         "texttemplate": "%{y:.2s}",
         "type": "bar",
         "x": [
          "Arson",
          "Campfire",
          "Children",
          "Debris Burning",
          "Equipment Use",
          "Fireworks",
          "Lightning",
          "Miscellaneous",
          "Missing/Undefined",
          "Powerline",
          "Railroad",
          "Smoking",
          "Structure"
         ],
         "xaxis": "x",
         "y": [
          8842,
          3314,
          1890,
          18402,
          6225,
          634,
          10449,
          15697,
          9220,
          1266,
          577,
          1615,
          194
         ],
         "yaxis": "y"
        },
        {
         "alignmentgroup": "True",
         "hovertemplate": "FIRE_YEAR=2010<br>Causes=%{x}<br>Total Count=%{y}<extra></extra>",
         "legendgroup": "2010",
         "marker": {
          "color": "#FF97FF",
          "pattern": {
           "shape": ""
          }
         },
         "name": "2010",
         "offsetgroup": "2010",
         "orientation": "v",
         "showlegend": true,
         "textposition": "auto",
         "texttemplate": "%{y:.2s}",
         "type": "bar",
         "x": [
          "Arson",
          "Campfire",
          "Children",
          "Debris Burning",
          "Equipment Use",
          "Fireworks",
          "Lightning",
          "Miscellaneous",
          "Missing/Undefined",
          "Powerline",
          "Railroad",
          "Smoking",
          "Structure"
         ],
         "xaxis": "x",
         "y": [
          10196,
          3585,
          1903,
          19835,
          5809,
          666,
          8983,
          17221,
          7458,
          1434,
          715,
          1827,
          257
         ],
         "yaxis": "y"
        },
        {
         "alignmentgroup": "True",
         "hovertemplate": "FIRE_YEAR=2011<br>Causes=%{x}<br>Total Count=%{y}<extra></extra>",
         "legendgroup": "2011",
         "marker": {
          "color": "#FECB52",
          "pattern": {
           "shape": ""
          }
         },
         "name": "2011",
         "offsetgroup": "2011",
         "orientation": "v",
         "showlegend": true,
         "textposition": "auto",
         "texttemplate": "%{y:.2s}",
         "type": "bar",
         "x": [
          "Arson",
          "Campfire",
          "Children",
          "Debris Burning",
          "Equipment Use",
          "Fireworks",
          "Lightning",
          "Miscellaneous",
          "Missing/Undefined",
          "Powerline",
          "Railroad",
          "Smoking",
          "Structure"
         ],
         "xaxis": "x",
         "y": [
          9109,
          3015,
          1894,
          19524,
          6896,
          451,
          12538,
          17629,
          13903,
          2828,
          660,
          1865,
          240
         ],
         "yaxis": "y"
        },
        {
         "alignmentgroup": "True",
         "hovertemplate": "FIRE_YEAR=2012<br>Causes=%{x}<br>Total Count=%{y}<extra></extra>",
         "legendgroup": "2012",
         "marker": {
          "color": "#636efa",
          "pattern": {
           "shape": ""
          }
         },
         "name": "2012",
         "offsetgroup": "2012",
         "orientation": "v",
         "showlegend": true,
         "textposition": "auto",
         "texttemplate": "%{y:.2s}",
         "type": "bar",
         "x": [
          "Arson",
          "Campfire",
          "Children",
          "Debris Burning",
          "Equipment Use",
          "Fireworks",
          "Lightning",
          "Miscellaneous",
          "Missing/Undefined",
          "Powerline",
          "Railroad",
          "Smoking",
          "Structure"
         ],
         "xaxis": "x",
         "y": [
          9560,
          3471,
          2119,
          16613,
          5628,
          910,
          11130,
          16223,
          3735,
          773,
          621,
          1629,
          357
         ],
         "yaxis": "y"
        },
        {
         "alignmentgroup": "True",
         "hovertemplate": "FIRE_YEAR=2013<br>Causes=%{x}<br>Total Count=%{y}<extra></extra>",
         "legendgroup": "2013",
         "marker": {
          "color": "#EF553B",
          "pattern": {
           "shape": ""
          }
         },
         "name": "2013",
         "offsetgroup": "2013",
         "orientation": "v",
         "showlegend": true,
         "textposition": "auto",
         "texttemplate": "%{y:.2s}",
         "type": "bar",
         "x": [
          "Arson",
          "Campfire",
          "Children",
          "Debris Burning",
          "Equipment Use",
          "Fireworks",
          "Lightning",
          "Miscellaneous",
          "Missing/Undefined",
          "Powerline",
          "Railroad",
          "Smoking",
          "Structure"
         ],
         "xaxis": "x",
         "y": [
          6590,
          2796,
          1400,
          16703,
          4334,
          709,
          10154,
          15161,
          4241,
          666,
          423,
          1366,
          237
         ],
         "yaxis": "y"
        },
        {
         "alignmentgroup": "True",
         "hovertemplate": "FIRE_YEAR=2014<br>Causes=%{x}<br>Total Count=%{y}<extra></extra>",
         "legendgroup": "2014",
         "marker": {
          "color": "#00cc96",
          "pattern": {
           "shape": ""
          }
         },
         "name": "2014",
         "offsetgroup": "2014",
         "orientation": "v",
         "showlegend": true,
         "textposition": "auto",
         "texttemplate": "%{y:.2s}",
         "type": "bar",
         "x": [
          "Arson",
          "Campfire",
          "Children",
          "Debris Burning",
          "Equipment Use",
          "Fireworks",
          "Lightning",
          "Miscellaneous",
          "Missing/Undefined",
          "Powerline",
          "Railroad",
          "Smoking",
          "Structure"
         ],
         "xaxis": "x",
         "y": [
          6845,
          3801,
          1420,
          19860,
          4519,
          572,
          8538,
          14973,
          3701,
          1433,
          529,
          1278,
          284
         ],
         "yaxis": "y"
        },
        {
         "alignmentgroup": "True",
         "hovertemplate": "FIRE_YEAR=2015<br>Causes=%{x}<br>Total Count=%{y}<extra></extra>",
         "legendgroup": "2015",
         "marker": {
          "color": "#ab63fa",
          "pattern": {
           "shape": ""
          }
         },
         "name": "2015",
         "offsetgroup": "2015",
         "orientation": "v",
         "showlegend": true,
         "textposition": "auto",
         "texttemplate": "%{y:.2s}",
         "type": "bar",
         "x": [
          "Arson",
          "Campfire",
          "Children",
          "Debris Burning",
          "Equipment Use",
          "Fireworks",
          "Lightning",
          "Miscellaneous",
          "Missing/Undefined",
          "Powerline",
          "Railroad",
          "Smoking",
          "Structure"
         ],
         "xaxis": "x",
         "y": [
          6626,
          3731,
          1350,
          18339,
          5484,
          585,
          9812,
          18119,
          6276,
          1580,
          370,
          1884,
          335
         ],
         "yaxis": "y"
        }
       ],
       "layout": {
        "barmode": "relative",
        "height": 800,
        "legend": {
         "title": {
          "text": "FIRE_YEAR"
         },
         "tracegroupgap": 0
        },
        "template": {
         "data": {
          "bar": [
           {
            "error_x": {
             "color": "#2a3f5f"
            },
            "error_y": {
             "color": "#2a3f5f"
            },
            "marker": {
             "line": {
              "color": "#E5ECF6",
              "width": 0.5
             },
             "pattern": {
              "fillmode": "overlay",
              "size": 10,
              "solidity": 0.2
             }
            },
            "type": "bar"
           }
          ],
          "barpolar": [
           {
            "marker": {
             "line": {
              "color": "#E5ECF6",
              "width": 0.5
             },
             "pattern": {
              "fillmode": "overlay",
              "size": 10,
              "solidity": 0.2
             }
            },
            "type": "barpolar"
           }
          ],
          "carpet": [
           {
            "aaxis": {
             "endlinecolor": "#2a3f5f",
             "gridcolor": "white",
             "linecolor": "white",
             "minorgridcolor": "white",
             "startlinecolor": "#2a3f5f"
            },
            "baxis": {
             "endlinecolor": "#2a3f5f",
             "gridcolor": "white",
             "linecolor": "white",
             "minorgridcolor": "white",
             "startlinecolor": "#2a3f5f"
            },
            "type": "carpet"
           }
          ],
          "choropleth": [
           {
            "colorbar": {
             "outlinewidth": 0,
             "ticks": ""
            },
            "type": "choropleth"
           }
          ],
          "contour": [
           {
            "colorbar": {
             "outlinewidth": 0,
             "ticks": ""
            },
            "colorscale": [
             [
              0,
              "#0d0887"
             ],
             [
              0.1111111111111111,
              "#46039f"
             ],
             [
              0.2222222222222222,
              "#7201a8"
             ],
             [
              0.3333333333333333,
              "#9c179e"
             ],
             [
              0.4444444444444444,
              "#bd3786"
             ],
             [
              0.5555555555555556,
              "#d8576b"
             ],
             [
              0.6666666666666666,
              "#ed7953"
             ],
             [
              0.7777777777777778,
              "#fb9f3a"
             ],
             [
              0.8888888888888888,
              "#fdca26"
             ],
             [
              1,
              "#f0f921"
             ]
            ],
            "type": "contour"
           }
          ],
          "contourcarpet": [
           {
            "colorbar": {
             "outlinewidth": 0,
             "ticks": ""
            },
            "type": "contourcarpet"
           }
          ],
          "heatmap": [
           {
            "colorbar": {
             "outlinewidth": 0,
             "ticks": ""
            },
            "colorscale": [
             [
              0,
              "#0d0887"
             ],
             [
              0.1111111111111111,
              "#46039f"
             ],
             [
              0.2222222222222222,
              "#7201a8"
             ],
             [
              0.3333333333333333,
              "#9c179e"
             ],
             [
              0.4444444444444444,
              "#bd3786"
             ],
             [
              0.5555555555555556,
              "#d8576b"
             ],
             [
              0.6666666666666666,
              "#ed7953"
             ],
             [
              0.7777777777777778,
              "#fb9f3a"
             ],
             [
              0.8888888888888888,
              "#fdca26"
             ],
             [
              1,
              "#f0f921"
             ]
            ],
            "type": "heatmap"
           }
          ],
          "heatmapgl": [
           {
            "colorbar": {
             "outlinewidth": 0,
             "ticks": ""
            },
            "colorscale": [
             [
              0,
              "#0d0887"
             ],
             [
              0.1111111111111111,
              "#46039f"
             ],
             [
              0.2222222222222222,
              "#7201a8"
             ],
             [
              0.3333333333333333,
              "#9c179e"
             ],
             [
              0.4444444444444444,
              "#bd3786"
             ],
             [
              0.5555555555555556,
              "#d8576b"
             ],
             [
              0.6666666666666666,
              "#ed7953"
             ],
             [
              0.7777777777777778,
              "#fb9f3a"
             ],
             [
              0.8888888888888888,
              "#fdca26"
             ],
             [
              1,
              "#f0f921"
             ]
            ],
            "type": "heatmapgl"
           }
          ],
          "histogram": [
           {
            "marker": {
             "pattern": {
              "fillmode": "overlay",
              "size": 10,
              "solidity": 0.2
             }
            },
            "type": "histogram"
           }
          ],
          "histogram2d": [
           {
            "colorbar": {
             "outlinewidth": 0,
             "ticks": ""
            },
            "colorscale": [
             [
              0,
              "#0d0887"
             ],
             [
              0.1111111111111111,
              "#46039f"
             ],
             [
              0.2222222222222222,
              "#7201a8"
             ],
             [
              0.3333333333333333,
              "#9c179e"
             ],
             [
              0.4444444444444444,
              "#bd3786"
             ],
             [
              0.5555555555555556,
              "#d8576b"
             ],
             [
              0.6666666666666666,
              "#ed7953"
             ],
             [
              0.7777777777777778,
              "#fb9f3a"
             ],
             [
              0.8888888888888888,
              "#fdca26"
             ],
             [
              1,
              "#f0f921"
             ]
            ],
            "type": "histogram2d"
           }
          ],
          "histogram2dcontour": [
           {
            "colorbar": {
             "outlinewidth": 0,
             "ticks": ""
            },
            "colorscale": [
             [
              0,
              "#0d0887"
             ],
             [
              0.1111111111111111,
              "#46039f"
             ],
             [
              0.2222222222222222,
              "#7201a8"
             ],
             [
              0.3333333333333333,
              "#9c179e"
             ],
             [
              0.4444444444444444,
              "#bd3786"
             ],
             [
              0.5555555555555556,
              "#d8576b"
             ],
             [
              0.6666666666666666,
              "#ed7953"
             ],
             [
              0.7777777777777778,
              "#fb9f3a"
             ],
             [
              0.8888888888888888,
              "#fdca26"
             ],
             [
              1,
              "#f0f921"
             ]
            ],
            "type": "histogram2dcontour"
           }
          ],
          "mesh3d": [
           {
            "colorbar": {
             "outlinewidth": 0,
             "ticks": ""
            },
            "type": "mesh3d"
           }
          ],
          "parcoords": [
           {
            "line": {
             "colorbar": {
              "outlinewidth": 0,
              "ticks": ""
             }
            },
            "type": "parcoords"
           }
          ],
          "pie": [
           {
            "automargin": true,
            "type": "pie"
           }
          ],
          "scatter": [
           {
            "fillpattern": {
             "fillmode": "overlay",
             "size": 10,
             "solidity": 0.2
            },
            "type": "scatter"
           }
          ],
          "scatter3d": [
           {
            "line": {
             "colorbar": {
              "outlinewidth": 0,
              "ticks": ""
             }
            },
            "marker": {
             "colorbar": {
              "outlinewidth": 0,
              "ticks": ""
             }
            },
            "type": "scatter3d"
           }
          ],
          "scattercarpet": [
           {
            "marker": {
             "colorbar": {
              "outlinewidth": 0,
              "ticks": ""
             }
            },
            "type": "scattercarpet"
           }
          ],
          "scattergeo": [
           {
            "marker": {
             "colorbar": {
              "outlinewidth": 0,
              "ticks": ""
             }
            },
            "type": "scattergeo"
           }
          ],
          "scattergl": [
           {
            "marker": {
             "colorbar": {
              "outlinewidth": 0,
              "ticks": ""
             }
            },
            "type": "scattergl"
           }
          ],
          "scattermapbox": [
           {
            "marker": {
             "colorbar": {
              "outlinewidth": 0,
              "ticks": ""
             }
            },
            "type": "scattermapbox"
           }
          ],
          "scatterpolar": [
           {
            "marker": {
             "colorbar": {
              "outlinewidth": 0,
              "ticks": ""
             }
            },
            "type": "scatterpolar"
           }
          ],
          "scatterpolargl": [
           {
            "marker": {
             "colorbar": {
              "outlinewidth": 0,
              "ticks": ""
             }
            },
            "type": "scatterpolargl"
           }
          ],
          "scatterternary": [
           {
            "marker": {
             "colorbar": {
              "outlinewidth": 0,
              "ticks": ""
             }
            },
            "type": "scatterternary"
           }
          ],
          "surface": [
           {
            "colorbar": {
             "outlinewidth": 0,
             "ticks": ""
            },
            "colorscale": [
             [
              0,
              "#0d0887"
             ],
             [
              0.1111111111111111,
              "#46039f"
             ],
             [
              0.2222222222222222,
              "#7201a8"
             ],
             [
              0.3333333333333333,
              "#9c179e"
             ],
             [
              0.4444444444444444,
              "#bd3786"
             ],
             [
              0.5555555555555556,
              "#d8576b"
             ],
             [
              0.6666666666666666,
              "#ed7953"
             ],
             [
              0.7777777777777778,
              "#fb9f3a"
             ],
             [
              0.8888888888888888,
              "#fdca26"
             ],
             [
              1,
              "#f0f921"
             ]
            ],
            "type": "surface"
           }
          ],
          "table": [
           {
            "cells": {
             "fill": {
              "color": "#EBF0F8"
             },
             "line": {
              "color": "white"
             }
            },
            "header": {
             "fill": {
              "color": "#C8D4E3"
             },
             "line": {
              "color": "white"
             }
            },
            "type": "table"
           }
          ]
         },
         "layout": {
          "annotationdefaults": {
           "arrowcolor": "#2a3f5f",
           "arrowhead": 0,
           "arrowwidth": 1
          },
          "autotypenumbers": "strict",
          "coloraxis": {
           "colorbar": {
            "outlinewidth": 0,
            "ticks": ""
           }
          },
          "colorscale": {
           "diverging": [
            [
             0,
             "#8e0152"
            ],
            [
             0.1,
             "#c51b7d"
            ],
            [
             0.2,
             "#de77ae"
            ],
            [
             0.3,
             "#f1b6da"
            ],
            [
             0.4,
             "#fde0ef"
            ],
            [
             0.5,
             "#f7f7f7"
            ],
            [
             0.6,
             "#e6f5d0"
            ],
            [
             0.7,
             "#b8e186"
            ],
            [
             0.8,
             "#7fbc41"
            ],
            [
             0.9,
             "#4d9221"
            ],
            [
             1,
             "#276419"
            ]
           ],
           "sequential": [
            [
             0,
             "#0d0887"
            ],
            [
             0.1111111111111111,
             "#46039f"
            ],
            [
             0.2222222222222222,
             "#7201a8"
            ],
            [
             0.3333333333333333,
             "#9c179e"
            ],
            [
             0.4444444444444444,
             "#bd3786"
            ],
            [
             0.5555555555555556,
             "#d8576b"
            ],
            [
             0.6666666666666666,
             "#ed7953"
            ],
            [
             0.7777777777777778,
             "#fb9f3a"
            ],
            [
             0.8888888888888888,
             "#fdca26"
            ],
            [
             1,
             "#f0f921"
            ]
           ],
           "sequentialminus": [
            [
             0,
             "#0d0887"
            ],
            [
             0.1111111111111111,
             "#46039f"
            ],
            [
             0.2222222222222222,
             "#7201a8"
            ],
            [
             0.3333333333333333,
             "#9c179e"
            ],
            [
             0.4444444444444444,
             "#bd3786"
            ],
            [
             0.5555555555555556,
             "#d8576b"
            ],
            [
             0.6666666666666666,
             "#ed7953"
            ],
            [
             0.7777777777777778,
             "#fb9f3a"
            ],
            [
             0.8888888888888888,
             "#fdca26"
            ],
            [
             1,
             "#f0f921"
            ]
           ]
          },
          "colorway": [
           "#636efa",
           "#EF553B",
           "#00cc96",
           "#ab63fa",
           "#FFA15A",
           "#19d3f3",
           "#FF6692",
           "#B6E880",
           "#FF97FF",
           "#FECB52"
          ],
          "font": {
           "color": "#2a3f5f"
          },
          "geo": {
           "bgcolor": "white",
           "lakecolor": "white",
           "landcolor": "#E5ECF6",
           "showlakes": true,
           "showland": true,
           "subunitcolor": "white"
          },
          "hoverlabel": {
           "align": "left"
          },
          "hovermode": "closest",
          "mapbox": {
           "style": "light"
          },
          "paper_bgcolor": "white",
          "plot_bgcolor": "#E5ECF6",
          "polar": {
           "angularaxis": {
            "gridcolor": "white",
            "linecolor": "white",
            "ticks": ""
           },
           "bgcolor": "#E5ECF6",
           "radialaxis": {
            "gridcolor": "white",
            "linecolor": "white",
            "ticks": ""
           }
          },
          "scene": {
           "xaxis": {
            "backgroundcolor": "#E5ECF6",
            "gridcolor": "white",
            "gridwidth": 2,
            "linecolor": "white",
            "showbackground": true,
            "ticks": "",
            "zerolinecolor": "white"
           },
           "yaxis": {
            "backgroundcolor": "#E5ECF6",
            "gridcolor": "white",
            "gridwidth": 2,
            "linecolor": "white",
            "showbackground": true,
            "ticks": "",
            "zerolinecolor": "white"
           },
           "zaxis": {
            "backgroundcolor": "#E5ECF6",
            "gridcolor": "white",
            "gridwidth": 2,
            "linecolor": "white",
            "showbackground": true,
            "ticks": "",
            "zerolinecolor": "white"
           }
          },
          "shapedefaults": {
           "line": {
            "color": "#2a3f5f"
           }
          },
          "ternary": {
           "aaxis": {
            "gridcolor": "white",
            "linecolor": "white",
            "ticks": ""
           },
           "baxis": {
            "gridcolor": "white",
            "linecolor": "white",
            "ticks": ""
           },
           "bgcolor": "#E5ECF6",
           "caxis": {
            "gridcolor": "white",
            "linecolor": "white",
            "ticks": ""
           }
          },
          "title": {
           "x": 0.05
          },
          "xaxis": {
           "automargin": true,
           "gridcolor": "white",
           "linecolor": "white",
           "ticks": "",
           "title": {
            "standoff": 15
           },
           "zerolinecolor": "white",
           "zerolinewidth": 2
          },
          "yaxis": {
           "automargin": true,
           "gridcolor": "white",
           "linecolor": "white",
           "ticks": "",
           "title": {
            "standoff": 15
           },
           "zerolinecolor": "white",
           "zerolinewidth": 2
          }
         }
        },
        "title": {
         "text": "Distribution of the fire events"
        },
        "xaxis": {
         "anchor": "y",
         "domain": [
          0,
          1
         ],
         "title": {
          "text": "Causes"
         }
        },
        "yaxis": {
         "anchor": "x",
         "domain": [
          0,
          1
         ],
         "title": {
          "text": "Total Count"
         }
        }
       }
      }
     },
     "metadata": {},
     "output_type": "display_data"
    }
   ],
   "source": [
    "cause_count[\"FIRE_YEAR\"] = cause_count[\"FIRE_YEAR\"].astype(str)\n",
    "fig = px.bar(cause_count, x='STAT_CAUSE_DESCR', y='count',\n",
    "                color='FIRE_YEAR',\n",
    "                labels={'count':'Total Count', 'STAT_CAUSE_DESCR': 'Causes'}, \n",
    "                text_auto='.2s',\n",
    "                height=800,\n",
    "                title=\"Distribution of the fire events\")\n",
    "fig.show()"
   ]
  },
  {
   "cell_type": "code",
   "execution_count": 195,
   "metadata": {},
   "outputs": [
    {
     "data": {
      "application/vnd.plotly.v1+json": {
       "config": {
        "plotlyServerURL": "https://plot.ly"
       },
       "data": [
        {
         "alignmentgroup": "True",
         "hovertemplate": "Causes=%{x}<br>Total Count=%{y}<extra></extra>",
         "legendgroup": "Arson",
         "marker": {
          "color": "#636efa",
          "pattern": {
           "shape": ""
          }
         },
         "name": "Arson",
         "offsetgroup": "Arson",
         "orientation": "v",
         "showlegend": true,
         "textposition": "auto",
         "texttemplate": "%{y:.2s}",
         "type": "bar",
         "x": [
          "Arson"
         ],
         "xaxis": "x",
         "y": [
          281455
         ],
         "yaxis": "y"
        },
        {
         "alignmentgroup": "True",
         "hovertemplate": "Causes=%{x}<br>Total Count=%{y}<extra></extra>",
         "legendgroup": "Campfire",
         "marker": {
          "color": "#EF553B",
          "pattern": {
           "shape": ""
          }
         },
         "name": "Campfire",
         "offsetgroup": "Campfire",
         "orientation": "v",
         "showlegend": true,
         "textposition": "auto",
         "texttemplate": "%{y:.2s}",
         "type": "bar",
         "x": [
          "Campfire"
         ],
         "xaxis": "x",
         "y": [
          76139
         ],
         "yaxis": "y"
        },
        {
         "alignmentgroup": "True",
         "hovertemplate": "Causes=%{x}<br>Total Count=%{y}<extra></extra>",
         "legendgroup": "Children",
         "marker": {
          "color": "#00cc96",
          "pattern": {
           "shape": ""
          }
         },
         "name": "Children",
         "offsetgroup": "Children",
         "orientation": "v",
         "showlegend": true,
         "textposition": "auto",
         "texttemplate": "%{y:.2s}",
         "type": "bar",
         "x": [
          "Children"
         ],
         "xaxis": "x",
         "y": [
          61167
         ],
         "yaxis": "y"
        },
        {
         "alignmentgroup": "True",
         "hovertemplate": "Causes=%{x}<br>Total Count=%{y}<extra></extra>",
         "legendgroup": "Debris Burning",
         "marker": {
          "color": "#ab63fa",
          "pattern": {
           "shape": ""
          }
         },
         "name": "Debris Burning",
         "offsetgroup": "Debris Burning",
         "orientation": "v",
         "showlegend": true,
         "textposition": "auto",
         "texttemplate": "%{y:.2s}",
         "type": "bar",
         "x": [
          "Debris Burning"
         ],
         "xaxis": "x",
         "y": [
          429028
         ],
         "yaxis": "y"
        },
        {
         "alignmentgroup": "True",
         "hovertemplate": "Causes=%{x}<br>Total Count=%{y}<extra></extra>",
         "legendgroup": "Equipment Use",
         "marker": {
          "color": "#FFA15A",
          "pattern": {
           "shape": ""
          }
         },
         "name": "Equipment Use",
         "offsetgroup": "Equipment Use",
         "orientation": "v",
         "showlegend": true,
         "textposition": "auto",
         "texttemplate": "%{y:.2s}",
         "type": "bar",
         "x": [
          "Equipment Use"
         ],
         "xaxis": "x",
         "y": [
          147612
         ],
         "yaxis": "y"
        },
        {
         "alignmentgroup": "True",
         "hovertemplate": "Causes=%{x}<br>Total Count=%{y}<extra></extra>",
         "legendgroup": "Fireworks",
         "marker": {
          "color": "#19d3f3",
          "pattern": {
           "shape": ""
          }
         },
         "name": "Fireworks",
         "offsetgroup": "Fireworks",
         "orientation": "v",
         "showlegend": true,
         "textposition": "auto",
         "texttemplate": "%{y:.2s}",
         "type": "bar",
         "x": [
          "Fireworks"
         ],
         "xaxis": "x",
         "y": [
          11500
         ],
         "yaxis": "y"
        },
        {
         "alignmentgroup": "True",
         "hovertemplate": "Causes=%{x}<br>Total Count=%{y}<extra></extra>",
         "legendgroup": "Lightning",
         "marker": {
          "color": "#FF6692",
          "pattern": {
           "shape": ""
          }
         },
         "name": "Lightning",
         "offsetgroup": "Lightning",
         "orientation": "v",
         "showlegend": true,
         "textposition": "auto",
         "texttemplate": "%{y:.2s}",
         "type": "bar",
         "x": [
          "Lightning"
         ],
         "xaxis": "x",
         "y": [
          278468
         ],
         "yaxis": "y"
        },
        {
         "alignmentgroup": "True",
         "hovertemplate": "Causes=%{x}<br>Total Count=%{y}<extra></extra>",
         "legendgroup": "Miscellaneous",
         "marker": {
          "color": "#B6E880",
          "pattern": {
           "shape": ""
          }
         },
         "name": "Miscellaneous",
         "offsetgroup": "Miscellaneous",
         "orientation": "v",
         "showlegend": true,
         "textposition": "auto",
         "texttemplate": "%{y:.2s}",
         "type": "bar",
         "x": [
          "Miscellaneous"
         ],
         "xaxis": "x",
         "y": [
          323805
         ],
         "yaxis": "y"
        },
        {
         "alignmentgroup": "True",
         "hovertemplate": "Causes=%{x}<br>Total Count=%{y}<extra></extra>",
         "legendgroup": "Missing/Undefined",
         "marker": {
          "color": "#FF97FF",
          "pattern": {
           "shape": ""
          }
         },
         "name": "Missing/Undefined",
         "offsetgroup": "Missing/Undefined",
         "orientation": "v",
         "showlegend": true,
         "textposition": "auto",
         "texttemplate": "%{y:.2s}",
         "type": "bar",
         "x": [
          "Missing/Undefined"
         ],
         "xaxis": "x",
         "y": [
          166723
         ],
         "yaxis": "y"
        },
        {
         "alignmentgroup": "True",
         "hovertemplate": "Causes=%{x}<br>Total Count=%{y}<extra></extra>",
         "legendgroup": "Powerline",
         "marker": {
          "color": "#FECB52",
          "pattern": {
           "shape": ""
          }
         },
         "name": "Powerline",
         "offsetgroup": "Powerline",
         "orientation": "v",
         "showlegend": true,
         "textposition": "auto",
         "texttemplate": "%{y:.2s}",
         "type": "bar",
         "x": [
          "Powerline"
         ],
         "xaxis": "x",
         "y": [
          14448
         ],
         "yaxis": "y"
        },
        {
         "alignmentgroup": "True",
         "hovertemplate": "Causes=%{x}<br>Total Count=%{y}<extra></extra>",
         "legendgroup": "Railroad",
         "marker": {
          "color": "#636efa",
          "pattern": {
           "shape": ""
          }
         },
         "name": "Railroad",
         "offsetgroup": "Railroad",
         "orientation": "v",
         "showlegend": true,
         "textposition": "auto",
         "texttemplate": "%{y:.2s}",
         "type": "bar",
         "x": [
          "Railroad"
         ],
         "xaxis": "x",
         "y": [
          33455
         ],
         "yaxis": "y"
        },
        {
         "alignmentgroup": "True",
         "hovertemplate": "Causes=%{x}<br>Total Count=%{y}<extra></extra>",
         "legendgroup": "Smoking",
         "marker": {
          "color": "#EF553B",
          "pattern": {
           "shape": ""
          }
         },
         "name": "Smoking",
         "offsetgroup": "Smoking",
         "orientation": "v",
         "showlegend": true,
         "textposition": "auto",
         "texttemplate": "%{y:.2s}",
         "type": "bar",
         "x": [
          "Smoking"
         ],
         "xaxis": "x",
         "y": [
          52869
         ],
         "yaxis": "y"
        },
        {
         "alignmentgroup": "True",
         "hovertemplate": "Causes=%{x}<br>Total Count=%{y}<extra></extra>",
         "legendgroup": "Structure",
         "marker": {
          "color": "#00cc96",
          "pattern": {
           "shape": ""
          }
         },
         "name": "Structure",
         "offsetgroup": "Structure",
         "orientation": "v",
         "showlegend": true,
         "textposition": "auto",
         "texttemplate": "%{y:.2s}",
         "type": "bar",
         "x": [
          "Structure"
         ],
         "xaxis": "x",
         "y": [
          3796
         ],
         "yaxis": "y"
        }
       ],
       "layout": {
        "barmode": "relative",
        "height": 400,
        "legend": {
         "title": {
          "text": "Causes"
         },
         "tracegroupgap": 0
        },
        "template": {
         "data": {
          "bar": [
           {
            "error_x": {
             "color": "#2a3f5f"
            },
            "error_y": {
             "color": "#2a3f5f"
            },
            "marker": {
             "line": {
              "color": "#E5ECF6",
              "width": 0.5
             },
             "pattern": {
              "fillmode": "overlay",
              "size": 10,
              "solidity": 0.2
             }
            },
            "type": "bar"
           }
          ],
          "barpolar": [
           {
            "marker": {
             "line": {
              "color": "#E5ECF6",
              "width": 0.5
             },
             "pattern": {
              "fillmode": "overlay",
              "size": 10,
              "solidity": 0.2
             }
            },
            "type": "barpolar"
           }
          ],
          "carpet": [
           {
            "aaxis": {
             "endlinecolor": "#2a3f5f",
             "gridcolor": "white",
             "linecolor": "white",
             "minorgridcolor": "white",
             "startlinecolor": "#2a3f5f"
            },
            "baxis": {
             "endlinecolor": "#2a3f5f",
             "gridcolor": "white",
             "linecolor": "white",
             "minorgridcolor": "white",
             "startlinecolor": "#2a3f5f"
            },
            "type": "carpet"
           }
          ],
          "choropleth": [
           {
            "colorbar": {
             "outlinewidth": 0,
             "ticks": ""
            },
            "type": "choropleth"
           }
          ],
          "contour": [
           {
            "colorbar": {
             "outlinewidth": 0,
             "ticks": ""
            },
            "colorscale": [
             [
              0,
              "#0d0887"
             ],
             [
              0.1111111111111111,
              "#46039f"
             ],
             [
              0.2222222222222222,
              "#7201a8"
             ],
             [
              0.3333333333333333,
              "#9c179e"
             ],
             [
              0.4444444444444444,
              "#bd3786"
             ],
             [
              0.5555555555555556,
              "#d8576b"
             ],
             [
              0.6666666666666666,
              "#ed7953"
             ],
             [
              0.7777777777777778,
              "#fb9f3a"
             ],
             [
              0.8888888888888888,
              "#fdca26"
             ],
             [
              1,
              "#f0f921"
             ]
            ],
            "type": "contour"
           }
          ],
          "contourcarpet": [
           {
            "colorbar": {
             "outlinewidth": 0,
             "ticks": ""
            },
            "type": "contourcarpet"
           }
          ],
          "heatmap": [
           {
            "colorbar": {
             "outlinewidth": 0,
             "ticks": ""
            },
            "colorscale": [
             [
              0,
              "#0d0887"
             ],
             [
              0.1111111111111111,
              "#46039f"
             ],
             [
              0.2222222222222222,
              "#7201a8"
             ],
             [
              0.3333333333333333,
              "#9c179e"
             ],
             [
              0.4444444444444444,
              "#bd3786"
             ],
             [
              0.5555555555555556,
              "#d8576b"
             ],
             [
              0.6666666666666666,
              "#ed7953"
             ],
             [
              0.7777777777777778,
              "#fb9f3a"
             ],
             [
              0.8888888888888888,
              "#fdca26"
             ],
             [
              1,
              "#f0f921"
             ]
            ],
            "type": "heatmap"
           }
          ],
          "heatmapgl": [
           {
            "colorbar": {
             "outlinewidth": 0,
             "ticks": ""
            },
            "colorscale": [
             [
              0,
              "#0d0887"
             ],
             [
              0.1111111111111111,
              "#46039f"
             ],
             [
              0.2222222222222222,
              "#7201a8"
             ],
             [
              0.3333333333333333,
              "#9c179e"
             ],
             [
              0.4444444444444444,
              "#bd3786"
             ],
             [
              0.5555555555555556,
              "#d8576b"
             ],
             [
              0.6666666666666666,
              "#ed7953"
             ],
             [
              0.7777777777777778,
              "#fb9f3a"
             ],
             [
              0.8888888888888888,
              "#fdca26"
             ],
             [
              1,
              "#f0f921"
             ]
            ],
            "type": "heatmapgl"
           }
          ],
          "histogram": [
           {
            "marker": {
             "pattern": {
              "fillmode": "overlay",
              "size": 10,
              "solidity": 0.2
             }
            },
            "type": "histogram"
           }
          ],
          "histogram2d": [
           {
            "colorbar": {
             "outlinewidth": 0,
             "ticks": ""
            },
            "colorscale": [
             [
              0,
              "#0d0887"
             ],
             [
              0.1111111111111111,
              "#46039f"
             ],
             [
              0.2222222222222222,
              "#7201a8"
             ],
             [
              0.3333333333333333,
              "#9c179e"
             ],
             [
              0.4444444444444444,
              "#bd3786"
             ],
             [
              0.5555555555555556,
              "#d8576b"
             ],
             [
              0.6666666666666666,
              "#ed7953"
             ],
             [
              0.7777777777777778,
              "#fb9f3a"
             ],
             [
              0.8888888888888888,
              "#fdca26"
             ],
             [
              1,
              "#f0f921"
             ]
            ],
            "type": "histogram2d"
           }
          ],
          "histogram2dcontour": [
           {
            "colorbar": {
             "outlinewidth": 0,
             "ticks": ""
            },
            "colorscale": [
             [
              0,
              "#0d0887"
             ],
             [
              0.1111111111111111,
              "#46039f"
             ],
             [
              0.2222222222222222,
              "#7201a8"
             ],
             [
              0.3333333333333333,
              "#9c179e"
             ],
             [
              0.4444444444444444,
              "#bd3786"
             ],
             [
              0.5555555555555556,
              "#d8576b"
             ],
             [
              0.6666666666666666,
              "#ed7953"
             ],
             [
              0.7777777777777778,
              "#fb9f3a"
             ],
             [
              0.8888888888888888,
              "#fdca26"
             ],
             [
              1,
              "#f0f921"
             ]
            ],
            "type": "histogram2dcontour"
           }
          ],
          "mesh3d": [
           {
            "colorbar": {
             "outlinewidth": 0,
             "ticks": ""
            },
            "type": "mesh3d"
           }
          ],
          "parcoords": [
           {
            "line": {
             "colorbar": {
              "outlinewidth": 0,
              "ticks": ""
             }
            },
            "type": "parcoords"
           }
          ],
          "pie": [
           {
            "automargin": true,
            "type": "pie"
           }
          ],
          "scatter": [
           {
            "fillpattern": {
             "fillmode": "overlay",
             "size": 10,
             "solidity": 0.2
            },
            "type": "scatter"
           }
          ],
          "scatter3d": [
           {
            "line": {
             "colorbar": {
              "outlinewidth": 0,
              "ticks": ""
             }
            },
            "marker": {
             "colorbar": {
              "outlinewidth": 0,
              "ticks": ""
             }
            },
            "type": "scatter3d"
           }
          ],
          "scattercarpet": [
           {
            "marker": {
             "colorbar": {
              "outlinewidth": 0,
              "ticks": ""
             }
            },
            "type": "scattercarpet"
           }
          ],
          "scattergeo": [
           {
            "marker": {
             "colorbar": {
              "outlinewidth": 0,
              "ticks": ""
             }
            },
            "type": "scattergeo"
           }
          ],
          "scattergl": [
           {
            "marker": {
             "colorbar": {
              "outlinewidth": 0,
              "ticks": ""
             }
            },
            "type": "scattergl"
           }
          ],
          "scattermapbox": [
           {
            "marker": {
             "colorbar": {
              "outlinewidth": 0,
              "ticks": ""
             }
            },
            "type": "scattermapbox"
           }
          ],
          "scatterpolar": [
           {
            "marker": {
             "colorbar": {
              "outlinewidth": 0,
              "ticks": ""
             }
            },
            "type": "scatterpolar"
           }
          ],
          "scatterpolargl": [
           {
            "marker": {
             "colorbar": {
              "outlinewidth": 0,
              "ticks": ""
             }
            },
            "type": "scatterpolargl"
           }
          ],
          "scatterternary": [
           {
            "marker": {
             "colorbar": {
              "outlinewidth": 0,
              "ticks": ""
             }
            },
            "type": "scatterternary"
           }
          ],
          "surface": [
           {
            "colorbar": {
             "outlinewidth": 0,
             "ticks": ""
            },
            "colorscale": [
             [
              0,
              "#0d0887"
             ],
             [
              0.1111111111111111,
              "#46039f"
             ],
             [
              0.2222222222222222,
              "#7201a8"
             ],
             [
              0.3333333333333333,
              "#9c179e"
             ],
             [
              0.4444444444444444,
              "#bd3786"
             ],
             [
              0.5555555555555556,
              "#d8576b"
             ],
             [
              0.6666666666666666,
              "#ed7953"
             ],
             [
              0.7777777777777778,
              "#fb9f3a"
             ],
             [
              0.8888888888888888,
              "#fdca26"
             ],
             [
              1,
              "#f0f921"
             ]
            ],
            "type": "surface"
           }
          ],
          "table": [
           {
            "cells": {
             "fill": {
              "color": "#EBF0F8"
             },
             "line": {
              "color": "white"
             }
            },
            "header": {
             "fill": {
              "color": "#C8D4E3"
             },
             "line": {
              "color": "white"
             }
            },
            "type": "table"
           }
          ]
         },
         "layout": {
          "annotationdefaults": {
           "arrowcolor": "#2a3f5f",
           "arrowhead": 0,
           "arrowwidth": 1
          },
          "autotypenumbers": "strict",
          "coloraxis": {
           "colorbar": {
            "outlinewidth": 0,
            "ticks": ""
           }
          },
          "colorscale": {
           "diverging": [
            [
             0,
             "#8e0152"
            ],
            [
             0.1,
             "#c51b7d"
            ],
            [
             0.2,
             "#de77ae"
            ],
            [
             0.3,
             "#f1b6da"
            ],
            [
             0.4,
             "#fde0ef"
            ],
            [
             0.5,
             "#f7f7f7"
            ],
            [
             0.6,
             "#e6f5d0"
            ],
            [
             0.7,
             "#b8e186"
            ],
            [
             0.8,
             "#7fbc41"
            ],
            [
             0.9,
             "#4d9221"
            ],
            [
             1,
             "#276419"
            ]
           ],
           "sequential": [
            [
             0,
             "#0d0887"
            ],
            [
             0.1111111111111111,
             "#46039f"
            ],
            [
             0.2222222222222222,
             "#7201a8"
            ],
            [
             0.3333333333333333,
             "#9c179e"
            ],
            [
             0.4444444444444444,
             "#bd3786"
            ],
            [
             0.5555555555555556,
             "#d8576b"
            ],
            [
             0.6666666666666666,
             "#ed7953"
            ],
            [
             0.7777777777777778,
             "#fb9f3a"
            ],
            [
             0.8888888888888888,
             "#fdca26"
            ],
            [
             1,
             "#f0f921"
            ]
           ],
           "sequentialminus": [
            [
             0,
             "#0d0887"
            ],
            [
             0.1111111111111111,
             "#46039f"
            ],
            [
             0.2222222222222222,
             "#7201a8"
            ],
            [
             0.3333333333333333,
             "#9c179e"
            ],
            [
             0.4444444444444444,
             "#bd3786"
            ],
            [
             0.5555555555555556,
             "#d8576b"
            ],
            [
             0.6666666666666666,
             "#ed7953"
            ],
            [
             0.7777777777777778,
             "#fb9f3a"
            ],
            [
             0.8888888888888888,
             "#fdca26"
            ],
            [
             1,
             "#f0f921"
            ]
           ]
          },
          "colorway": [
           "#636efa",
           "#EF553B",
           "#00cc96",
           "#ab63fa",
           "#FFA15A",
           "#19d3f3",
           "#FF6692",
           "#B6E880",
           "#FF97FF",
           "#FECB52"
          ],
          "font": {
           "color": "#2a3f5f"
          },
          "geo": {
           "bgcolor": "white",
           "lakecolor": "white",
           "landcolor": "#E5ECF6",
           "showlakes": true,
           "showland": true,
           "subunitcolor": "white"
          },
          "hoverlabel": {
           "align": "left"
          },
          "hovermode": "closest",
          "mapbox": {
           "style": "light"
          },
          "paper_bgcolor": "white",
          "plot_bgcolor": "#E5ECF6",
          "polar": {
           "angularaxis": {
            "gridcolor": "white",
            "linecolor": "white",
            "ticks": ""
           },
           "bgcolor": "#E5ECF6",
           "radialaxis": {
            "gridcolor": "white",
            "linecolor": "white",
            "ticks": ""
           }
          },
          "scene": {
           "xaxis": {
            "backgroundcolor": "#E5ECF6",
            "gridcolor": "white",
            "gridwidth": 2,
            "linecolor": "white",
            "showbackground": true,
            "ticks": "",
            "zerolinecolor": "white"
           },
           "yaxis": {
            "backgroundcolor": "#E5ECF6",
            "gridcolor": "white",
            "gridwidth": 2,
            "linecolor": "white",
            "showbackground": true,
            "ticks": "",
            "zerolinecolor": "white"
           },
           "zaxis": {
            "backgroundcolor": "#E5ECF6",
            "gridcolor": "white",
            "gridwidth": 2,
            "linecolor": "white",
            "showbackground": true,
            "ticks": "",
            "zerolinecolor": "white"
           }
          },
          "shapedefaults": {
           "line": {
            "color": "#2a3f5f"
           }
          },
          "ternary": {
           "aaxis": {
            "gridcolor": "white",
            "linecolor": "white",
            "ticks": ""
           },
           "baxis": {
            "gridcolor": "white",
            "linecolor": "white",
            "ticks": ""
           },
           "bgcolor": "#E5ECF6",
           "caxis": {
            "gridcolor": "white",
            "linecolor": "white",
            "ticks": ""
           }
          },
          "title": {
           "x": 0.05
          },
          "xaxis": {
           "automargin": true,
           "gridcolor": "white",
           "linecolor": "white",
           "ticks": "",
           "title": {
            "standoff": 15
           },
           "zerolinecolor": "white",
           "zerolinewidth": 2
          },
          "yaxis": {
           "automargin": true,
           "gridcolor": "white",
           "linecolor": "white",
           "ticks": "",
           "title": {
            "standoff": 15
           },
           "zerolinecolor": "white",
           "zerolinewidth": 2
          }
         }
        },
        "title": {
         "text": "Distribution of the fire events"
        },
        "xaxis": {
         "anchor": "y",
         "categoryarray": [
          "Arson",
          "Campfire",
          "Children",
          "Debris Burning",
          "Equipment Use",
          "Fireworks",
          "Lightning",
          "Miscellaneous",
          "Missing/Undefined",
          "Powerline",
          "Railroad",
          "Smoking",
          "Structure"
         ],
         "categoryorder": "array",
         "domain": [
          0,
          1
         ],
         "title": {
          "text": "Causes"
         }
        },
        "yaxis": {
         "anchor": "x",
         "domain": [
          0,
          1
         ],
         "title": {
          "text": "Total Count"
         }
        }
       }
      }
     },
     "metadata": {},
     "output_type": "display_data"
    }
   ],
   "source": [
    "\n",
    "def plot_fire_cause(cause_count):\n",
    "    fig = px.bar(cause_count, x='STAT_CAUSE_DESCR', y='count',\n",
    "                hover_data=['count'], color='STAT_CAUSE_DESCR',\n",
    "                labels={'count':'Total Count', 'STAT_CAUSE_DESCR': 'Causes'}, \n",
    "                text_auto='.2s',\n",
    "                height=800,\n",
    "                title=\"Distribution of the fire events\")\n",
    "fig.show()"
   ]
  },
  {
   "cell_type": "code",
   "execution_count": null,
   "metadata": {},
   "outputs": [],
   "source": [
    "def subdata(df):\n",
    "    cause_count = df[\"STAT_CAUSE_DESCR\"].value_counts()\\\n",
    "                        .to_frame()\\\n",
    "                        .reset_index()\\\n",
    "                        .rename(columns={'STAT_CAUSE_DESCR':\"count\", \"index\":'STAT_CAUSE_DESCR'})\\\n",
    "                        .sort_values(by='count', ascending=False)\n",
    "\n",
    "    date_counts = df[[\"DISC_YM\", \"FIRE_YEAR\"]]\\\n",
    "                        .groupby([\"DISC_YM\", \"FIRE_YEAR\"])\\\n",
    "                        .count()\\\n",
    "                        .rename(columns={'DISC_YM':\"count\"})\\\n",
    "                        .reset_index()\n",
    "                    \n",
    "    county_counts = df['FIPS_NAME'].value_counts()\\\n",
    "                        .to_frame()\\\n",
    "                        .reset_index()\\\n",
    "                        .rename(columns={'FIPS_NAME':\"count\", \"index\":'FIPS_NAME'})\\\n",
    "                        .sort_values(by='count', ascending=False)\n",
    "\n",
    "    return cause_count, date_counts, county_counts\n",
    "\n",
    "cause_count, date_counts, county_counts = subdata(df)\n",
    "cause_count.head()"
   ]
  },
  {
   "cell_type": "code",
   "execution_count": 147,
   "metadata": {},
   "outputs": [],
   "source": [
    "def view_county(county_counts, tail=False, count=50):\n",
    "\n",
    "    if tail:\n",
    "        title = \"Least Fire-prone Counties\"\n",
    "        slice_county = county_counts.tail(count)\n",
    "    else:\n",
    "        title = \"Top Fire-prone Counties\"\n",
    "        slice_county = county_counts.head(count)\n",
    "    fig = go.Figure()\n",
    "\n",
    "    fig.add_trace(\n",
    "                    go.Bar(\n",
    "                        x=slice_county['FIPS_NAME'], \n",
    "                        y=slice_county['count'], \n",
    "                        texttemplate = \"%{y}\")\n",
    "                    )\n",
    "\n",
    "    fig.update_layout({\n",
    "                        \"title\": title,\n",
    "                        \"yaxis\": {\"title\":\"Number of Wildfires\"},\n",
    "                        \"xaxis\": {\"title\":\"County Names\"}\n",
    "                    },\n",
    "                    xaxis=dict(rangeslider=dict(visible=True)) # add slider\n",
    "                    )\n",
    "\n",
    "\n",
    "    return fig\n",
    "\n"
   ]
  },
  {
   "cell_type": "code",
   "execution_count": 148,
   "metadata": {},
   "outputs": [
    {
     "data": {
      "application/vnd.plotly.v1+json": {
       "config": {
        "plotlyServerURL": "https://plot.ly"
       },
       "data": [
        {
         "texttemplate": "%{y}",
         "type": "bar",
         "x": [
          "Washington",
          "Lincoln",
          "Jackson",
          "Marion",
          "Cherokee",
          "Polk",
          "Monroe",
          "Coconino",
          "Jefferson",
          "Suffolk",
          "Lee",
          "Riverside",
          "Honolulu",
          "Wayne",
          "Orange",
          "Douglas",
          "Jasper",
          "Lake",
          "Clay",
          "Columbia",
          "Richmond",
          "Franklin",
          "Ocean",
          "Union",
          "Laurens",
          "Grant",
          "McCurtain",
          "Montgomery",
          "Madison",
          "Harrison",
          "Putnam",
          "Idaho",
          "Taylor",
          "St. Louis",
          "Berkeley",
          "Camden",
          "Cass",
          "Nassau",
          "Lamar",
          "Pike",
          "Smith",
          "Cumberland",
          "Williamsburg",
          "Perry",
          "Newton",
          "Walker",
          "Klamath",
          "San Juan",
          "Warren",
          "Volusia"
         ],
         "y": [
          11014,
          10571,
          9902,
          8908,
          8558,
          8300,
          8173,
          7900,
          7770,
          7597,
          7049,
          6925,
          6780,
          6542,
          6186,
          6140,
          5752,
          5549,
          5323,
          5279,
          5113,
          4992,
          4941,
          4901,
          4869,
          4824,
          4593,
          4589,
          4522,
          4449,
          4414,
          4255,
          4231,
          4180,
          4090,
          4083,
          4079,
          3956,
          3806,
          3800,
          3799,
          3759,
          3732,
          3682,
          3600,
          3593,
          3559,
          3500,
          3429,
          3404
         ]
        }
       ],
       "layout": {
        "template": {
         "data": {
          "bar": [
           {
            "error_x": {
             "color": "#2a3f5f"
            },
            "error_y": {
             "color": "#2a3f5f"
            },
            "marker": {
             "line": {
              "color": "#E5ECF6",
              "width": 0.5
             },
             "pattern": {
              "fillmode": "overlay",
              "size": 10,
              "solidity": 0.2
             }
            },
            "type": "bar"
           }
          ],
          "barpolar": [
           {
            "marker": {
             "line": {
              "color": "#E5ECF6",
              "width": 0.5
             },
             "pattern": {
              "fillmode": "overlay",
              "size": 10,
              "solidity": 0.2
             }
            },
            "type": "barpolar"
           }
          ],
          "carpet": [
           {
            "aaxis": {
             "endlinecolor": "#2a3f5f",
             "gridcolor": "white",
             "linecolor": "white",
             "minorgridcolor": "white",
             "startlinecolor": "#2a3f5f"
            },
            "baxis": {
             "endlinecolor": "#2a3f5f",
             "gridcolor": "white",
             "linecolor": "white",
             "minorgridcolor": "white",
             "startlinecolor": "#2a3f5f"
            },
            "type": "carpet"
           }
          ],
          "choropleth": [
           {
            "colorbar": {
             "outlinewidth": 0,
             "ticks": ""
            },
            "type": "choropleth"
           }
          ],
          "contour": [
           {
            "colorbar": {
             "outlinewidth": 0,
             "ticks": ""
            },
            "colorscale": [
             [
              0,
              "#0d0887"
             ],
             [
              0.1111111111111111,
              "#46039f"
             ],
             [
              0.2222222222222222,
              "#7201a8"
             ],
             [
              0.3333333333333333,
              "#9c179e"
             ],
             [
              0.4444444444444444,
              "#bd3786"
             ],
             [
              0.5555555555555556,
              "#d8576b"
             ],
             [
              0.6666666666666666,
              "#ed7953"
             ],
             [
              0.7777777777777778,
              "#fb9f3a"
             ],
             [
              0.8888888888888888,
              "#fdca26"
             ],
             [
              1,
              "#f0f921"
             ]
            ],
            "type": "contour"
           }
          ],
          "contourcarpet": [
           {
            "colorbar": {
             "outlinewidth": 0,
             "ticks": ""
            },
            "type": "contourcarpet"
           }
          ],
          "heatmap": [
           {
            "colorbar": {
             "outlinewidth": 0,
             "ticks": ""
            },
            "colorscale": [
             [
              0,
              "#0d0887"
             ],
             [
              0.1111111111111111,
              "#46039f"
             ],
             [
              0.2222222222222222,
              "#7201a8"
             ],
             [
              0.3333333333333333,
              "#9c179e"
             ],
             [
              0.4444444444444444,
              "#bd3786"
             ],
             [
              0.5555555555555556,
              "#d8576b"
             ],
             [
              0.6666666666666666,
              "#ed7953"
             ],
             [
              0.7777777777777778,
              "#fb9f3a"
             ],
             [
              0.8888888888888888,
              "#fdca26"
             ],
             [
              1,
              "#f0f921"
             ]
            ],
            "type": "heatmap"
           }
          ],
          "heatmapgl": [
           {
            "colorbar": {
             "outlinewidth": 0,
             "ticks": ""
            },
            "colorscale": [
             [
              0,
              "#0d0887"
             ],
             [
              0.1111111111111111,
              "#46039f"
             ],
             [
              0.2222222222222222,
              "#7201a8"
             ],
             [
              0.3333333333333333,
              "#9c179e"
             ],
             [
              0.4444444444444444,
              "#bd3786"
             ],
             [
              0.5555555555555556,
              "#d8576b"
             ],
             [
              0.6666666666666666,
              "#ed7953"
             ],
             [
              0.7777777777777778,
              "#fb9f3a"
             ],
             [
              0.8888888888888888,
              "#fdca26"
             ],
             [
              1,
              "#f0f921"
             ]
            ],
            "type": "heatmapgl"
           }
          ],
          "histogram": [
           {
            "marker": {
             "pattern": {
              "fillmode": "overlay",
              "size": 10,
              "solidity": 0.2
             }
            },
            "type": "histogram"
           }
          ],
          "histogram2d": [
           {
            "colorbar": {
             "outlinewidth": 0,
             "ticks": ""
            },
            "colorscale": [
             [
              0,
              "#0d0887"
             ],
             [
              0.1111111111111111,
              "#46039f"
             ],
             [
              0.2222222222222222,
              "#7201a8"
             ],
             [
              0.3333333333333333,
              "#9c179e"
             ],
             [
              0.4444444444444444,
              "#bd3786"
             ],
             [
              0.5555555555555556,
              "#d8576b"
             ],
             [
              0.6666666666666666,
              "#ed7953"
             ],
             [
              0.7777777777777778,
              "#fb9f3a"
             ],
             [
              0.8888888888888888,
              "#fdca26"
             ],
             [
              1,
              "#f0f921"
             ]
            ],
            "type": "histogram2d"
           }
          ],
          "histogram2dcontour": [
           {
            "colorbar": {
             "outlinewidth": 0,
             "ticks": ""
            },
            "colorscale": [
             [
              0,
              "#0d0887"
             ],
             [
              0.1111111111111111,
              "#46039f"
             ],
             [
              0.2222222222222222,
              "#7201a8"
             ],
             [
              0.3333333333333333,
              "#9c179e"
             ],
             [
              0.4444444444444444,
              "#bd3786"
             ],
             [
              0.5555555555555556,
              "#d8576b"
             ],
             [
              0.6666666666666666,
              "#ed7953"
             ],
             [
              0.7777777777777778,
              "#fb9f3a"
             ],
             [
              0.8888888888888888,
              "#fdca26"
             ],
             [
              1,
              "#f0f921"
             ]
            ],
            "type": "histogram2dcontour"
           }
          ],
          "mesh3d": [
           {
            "colorbar": {
             "outlinewidth": 0,
             "ticks": ""
            },
            "type": "mesh3d"
           }
          ],
          "parcoords": [
           {
            "line": {
             "colorbar": {
              "outlinewidth": 0,
              "ticks": ""
             }
            },
            "type": "parcoords"
           }
          ],
          "pie": [
           {
            "automargin": true,
            "type": "pie"
           }
          ],
          "scatter": [
           {
            "fillpattern": {
             "fillmode": "overlay",
             "size": 10,
             "solidity": 0.2
            },
            "type": "scatter"
           }
          ],
          "scatter3d": [
           {
            "line": {
             "colorbar": {
              "outlinewidth": 0,
              "ticks": ""
             }
            },
            "marker": {
             "colorbar": {
              "outlinewidth": 0,
              "ticks": ""
             }
            },
            "type": "scatter3d"
           }
          ],
          "scattercarpet": [
           {
            "marker": {
             "colorbar": {
              "outlinewidth": 0,
              "ticks": ""
             }
            },
            "type": "scattercarpet"
           }
          ],
          "scattergeo": [
           {
            "marker": {
             "colorbar": {
              "outlinewidth": 0,
              "ticks": ""
             }
            },
            "type": "scattergeo"
           }
          ],
          "scattergl": [
           {
            "marker": {
             "colorbar": {
              "outlinewidth": 0,
              "ticks": ""
             }
            },
            "type": "scattergl"
           }
          ],
          "scattermapbox": [
           {
            "marker": {
             "colorbar": {
              "outlinewidth": 0,
              "ticks": ""
             }
            },
            "type": "scattermapbox"
           }
          ],
          "scatterpolar": [
           {
            "marker": {
             "colorbar": {
              "outlinewidth": 0,
              "ticks": ""
             }
            },
            "type": "scatterpolar"
           }
          ],
          "scatterpolargl": [
           {
            "marker": {
             "colorbar": {
              "outlinewidth": 0,
              "ticks": ""
             }
            },
            "type": "scatterpolargl"
           }
          ],
          "scatterternary": [
           {
            "marker": {
             "colorbar": {
              "outlinewidth": 0,
              "ticks": ""
             }
            },
            "type": "scatterternary"
           }
          ],
          "surface": [
           {
            "colorbar": {
             "outlinewidth": 0,
             "ticks": ""
            },
            "colorscale": [
             [
              0,
              "#0d0887"
             ],
             [
              0.1111111111111111,
              "#46039f"
             ],
             [
              0.2222222222222222,
              "#7201a8"
             ],
             [
              0.3333333333333333,
              "#9c179e"
             ],
             [
              0.4444444444444444,
              "#bd3786"
             ],
             [
              0.5555555555555556,
              "#d8576b"
             ],
             [
              0.6666666666666666,
              "#ed7953"
             ],
             [
              0.7777777777777778,
              "#fb9f3a"
             ],
             [
              0.8888888888888888,
              "#fdca26"
             ],
             [
              1,
              "#f0f921"
             ]
            ],
            "type": "surface"
           }
          ],
          "table": [
           {
            "cells": {
             "fill": {
              "color": "#EBF0F8"
             },
             "line": {
              "color": "white"
             }
            },
            "header": {
             "fill": {
              "color": "#C8D4E3"
             },
             "line": {
              "color": "white"
             }
            },
            "type": "table"
           }
          ]
         },
         "layout": {
          "annotationdefaults": {
           "arrowcolor": "#2a3f5f",
           "arrowhead": 0,
           "arrowwidth": 1
          },
          "autotypenumbers": "strict",
          "coloraxis": {
           "colorbar": {
            "outlinewidth": 0,
            "ticks": ""
           }
          },
          "colorscale": {
           "diverging": [
            [
             0,
             "#8e0152"
            ],
            [
             0.1,
             "#c51b7d"
            ],
            [
             0.2,
             "#de77ae"
            ],
            [
             0.3,
             "#f1b6da"
            ],
            [
             0.4,
             "#fde0ef"
            ],
            [
             0.5,
             "#f7f7f7"
            ],
            [
             0.6,
             "#e6f5d0"
            ],
            [
             0.7,
             "#b8e186"
            ],
            [
             0.8,
             "#7fbc41"
            ],
            [
             0.9,
             "#4d9221"
            ],
            [
             1,
             "#276419"
            ]
           ],
           "sequential": [
            [
             0,
             "#0d0887"
            ],
            [
             0.1111111111111111,
             "#46039f"
            ],
            [
             0.2222222222222222,
             "#7201a8"
            ],
            [
             0.3333333333333333,
             "#9c179e"
            ],
            [
             0.4444444444444444,
             "#bd3786"
            ],
            [
             0.5555555555555556,
             "#d8576b"
            ],
            [
             0.6666666666666666,
             "#ed7953"
            ],
            [
             0.7777777777777778,
             "#fb9f3a"
            ],
            [
             0.8888888888888888,
             "#fdca26"
            ],
            [
             1,
             "#f0f921"
            ]
           ],
           "sequentialminus": [
            [
             0,
             "#0d0887"
            ],
            [
             0.1111111111111111,
             "#46039f"
            ],
            [
             0.2222222222222222,
             "#7201a8"
            ],
            [
             0.3333333333333333,
             "#9c179e"
            ],
            [
             0.4444444444444444,
             "#bd3786"
            ],
            [
             0.5555555555555556,
             "#d8576b"
            ],
            [
             0.6666666666666666,
             "#ed7953"
            ],
            [
             0.7777777777777778,
             "#fb9f3a"
            ],
            [
             0.8888888888888888,
             "#fdca26"
            ],
            [
             1,
             "#f0f921"
            ]
           ]
          },
          "colorway": [
           "#636efa",
           "#EF553B",
           "#00cc96",
           "#ab63fa",
           "#FFA15A",
           "#19d3f3",
           "#FF6692",
           "#B6E880",
           "#FF97FF",
           "#FECB52"
          ],
          "font": {
           "color": "#2a3f5f"
          },
          "geo": {
           "bgcolor": "white",
           "lakecolor": "white",
           "landcolor": "#E5ECF6",
           "showlakes": true,
           "showland": true,
           "subunitcolor": "white"
          },
          "hoverlabel": {
           "align": "left"
          },
          "hovermode": "closest",
          "mapbox": {
           "style": "light"
          },
          "paper_bgcolor": "white",
          "plot_bgcolor": "#E5ECF6",
          "polar": {
           "angularaxis": {
            "gridcolor": "white",
            "linecolor": "white",
            "ticks": ""
           },
           "bgcolor": "#E5ECF6",
           "radialaxis": {
            "gridcolor": "white",
            "linecolor": "white",
            "ticks": ""
           }
          },
          "scene": {
           "xaxis": {
            "backgroundcolor": "#E5ECF6",
            "gridcolor": "white",
            "gridwidth": 2,
            "linecolor": "white",
            "showbackground": true,
            "ticks": "",
            "zerolinecolor": "white"
           },
           "yaxis": {
            "backgroundcolor": "#E5ECF6",
            "gridcolor": "white",
            "gridwidth": 2,
            "linecolor": "white",
            "showbackground": true,
            "ticks": "",
            "zerolinecolor": "white"
           },
           "zaxis": {
            "backgroundcolor": "#E5ECF6",
            "gridcolor": "white",
            "gridwidth": 2,
            "linecolor": "white",
            "showbackground": true,
            "ticks": "",
            "zerolinecolor": "white"
           }
          },
          "shapedefaults": {
           "line": {
            "color": "#2a3f5f"
           }
          },
          "ternary": {
           "aaxis": {
            "gridcolor": "white",
            "linecolor": "white",
            "ticks": ""
           },
           "baxis": {
            "gridcolor": "white",
            "linecolor": "white",
            "ticks": ""
           },
           "bgcolor": "#E5ECF6",
           "caxis": {
            "gridcolor": "white",
            "linecolor": "white",
            "ticks": ""
           }
          },
          "title": {
           "x": 0.05
          },
          "xaxis": {
           "automargin": true,
           "gridcolor": "white",
           "linecolor": "white",
           "ticks": "",
           "title": {
            "standoff": 15
           },
           "zerolinecolor": "white",
           "zerolinewidth": 2
          },
          "yaxis": {
           "automargin": true,
           "gridcolor": "white",
           "linecolor": "white",
           "ticks": "",
           "title": {
            "standoff": 15
           },
           "zerolinecolor": "white",
           "zerolinewidth": 2
          }
         }
        },
        "title": {
         "text": "Top Fire-prone Counties"
        },
        "xaxis": {
         "rangeslider": {
          "visible": true
         },
         "title": {
          "text": "County Names"
         }
        },
        "yaxis": {
         "title": {
          "text": "Number of Wildfires"
         }
        }
       }
      }
     },
     "metadata": {},
     "output_type": "display_data"
    }
   ],
   "source": [
    "fig  = view_county(county_counts, count=50)\n",
    "fig.show()"
   ]
  },
  {
   "cell_type": "code",
   "execution_count": 128,
   "metadata": {},
   "outputs": [
    {
     "data": {
      "application/vnd.plotly.v1+json": {
       "config": {
        "plotlyServerURL": "https://plot.ly"
       },
       "data": [
        {
         "texttemplate": "%{y}",
         "type": "bar",
         "x": [
          "Washington",
          "Lincoln",
          "Jackson",
          "Marion",
          "Cherokee",
          "Polk",
          "Monroe",
          "Coconino",
          "Jefferson",
          "Suffolk",
          "Lee",
          "Riverside",
          "Honolulu",
          "Wayne",
          "Orange",
          "Douglas",
          "Jasper",
          "Lake",
          "Clay",
          "Columbia",
          "Richmond",
          "Franklin",
          "Ocean",
          "Union",
          "Laurens",
          "Grant",
          "McCurtain",
          "Montgomery",
          "Madison",
          "Harrison",
          "Putnam",
          "Idaho",
          "Taylor",
          "St. Louis",
          "Berkeley",
          "Camden",
          "Cass",
          "Nassau",
          "Lamar",
          "Pike",
          "Smith",
          "Cumberland",
          "Williamsburg",
          "Perry",
          "Newton",
          "Walker",
          "Klamath",
          "San Juan",
          "Warren",
          "Volusia"
         ],
         "y": [
          11014,
          10571,
          9902,
          8908,
          8558,
          8300,
          8173,
          7900,
          7770,
          7597,
          7049,
          6925,
          6780,
          6542,
          6186,
          6140,
          5752,
          5549,
          5323,
          5279,
          5113,
          4992,
          4941,
          4901,
          4869,
          4824,
          4593,
          4589,
          4522,
          4449,
          4414,
          4255,
          4231,
          4180,
          4090,
          4083,
          4079,
          3956,
          3806,
          3800,
          3799,
          3759,
          3732,
          3682,
          3600,
          3593,
          3559,
          3500,
          3429,
          3404
         ]
        }
       ],
       "layout": {
        "template": {
         "data": {
          "bar": [
           {
            "error_x": {
             "color": "#2a3f5f"
            },
            "error_y": {
             "color": "#2a3f5f"
            },
            "marker": {
             "line": {
              "color": "#E5ECF6",
              "width": 0.5
             },
             "pattern": {
              "fillmode": "overlay",
              "size": 10,
              "solidity": 0.2
             }
            },
            "type": "bar"
           }
          ],
          "barpolar": [
           {
            "marker": {
             "line": {
              "color": "#E5ECF6",
              "width": 0.5
             },
             "pattern": {
              "fillmode": "overlay",
              "size": 10,
              "solidity": 0.2
             }
            },
            "type": "barpolar"
           }
          ],
          "carpet": [
           {
            "aaxis": {
             "endlinecolor": "#2a3f5f",
             "gridcolor": "white",
             "linecolor": "white",
             "minorgridcolor": "white",
             "startlinecolor": "#2a3f5f"
            },
            "baxis": {
             "endlinecolor": "#2a3f5f",
             "gridcolor": "white",
             "linecolor": "white",
             "minorgridcolor": "white",
             "startlinecolor": "#2a3f5f"
            },
            "type": "carpet"
           }
          ],
          "choropleth": [
           {
            "colorbar": {
             "outlinewidth": 0,
             "ticks": ""
            },
            "type": "choropleth"
           }
          ],
          "contour": [
           {
            "colorbar": {
             "outlinewidth": 0,
             "ticks": ""
            },
            "colorscale": [
             [
              0,
              "#0d0887"
             ],
             [
              0.1111111111111111,
              "#46039f"
             ],
             [
              0.2222222222222222,
              "#7201a8"
             ],
             [
              0.3333333333333333,
              "#9c179e"
             ],
             [
              0.4444444444444444,
              "#bd3786"
             ],
             [
              0.5555555555555556,
              "#d8576b"
             ],
             [
              0.6666666666666666,
              "#ed7953"
             ],
             [
              0.7777777777777778,
              "#fb9f3a"
             ],
             [
              0.8888888888888888,
              "#fdca26"
             ],
             [
              1,
              "#f0f921"
             ]
            ],
            "type": "contour"
           }
          ],
          "contourcarpet": [
           {
            "colorbar": {
             "outlinewidth": 0,
             "ticks": ""
            },
            "type": "contourcarpet"
           }
          ],
          "heatmap": [
           {
            "colorbar": {
             "outlinewidth": 0,
             "ticks": ""
            },
            "colorscale": [
             [
              0,
              "#0d0887"
             ],
             [
              0.1111111111111111,
              "#46039f"
             ],
             [
              0.2222222222222222,
              "#7201a8"
             ],
             [
              0.3333333333333333,
              "#9c179e"
             ],
             [
              0.4444444444444444,
              "#bd3786"
             ],
             [
              0.5555555555555556,
              "#d8576b"
             ],
             [
              0.6666666666666666,
              "#ed7953"
             ],
             [
              0.7777777777777778,
              "#fb9f3a"
             ],
             [
              0.8888888888888888,
              "#fdca26"
             ],
             [
              1,
              "#f0f921"
             ]
            ],
            "type": "heatmap"
           }
          ],
          "heatmapgl": [
           {
            "colorbar": {
             "outlinewidth": 0,
             "ticks": ""
            },
            "colorscale": [
             [
              0,
              "#0d0887"
             ],
             [
              0.1111111111111111,
              "#46039f"
             ],
             [
              0.2222222222222222,
              "#7201a8"
             ],
             [
              0.3333333333333333,
              "#9c179e"
             ],
             [
              0.4444444444444444,
              "#bd3786"
             ],
             [
              0.5555555555555556,
              "#d8576b"
             ],
             [
              0.6666666666666666,
              "#ed7953"
             ],
             [
              0.7777777777777778,
              "#fb9f3a"
             ],
             [
              0.8888888888888888,
              "#fdca26"
             ],
             [
              1,
              "#f0f921"
             ]
            ],
            "type": "heatmapgl"
           }
          ],
          "histogram": [
           {
            "marker": {
             "pattern": {
              "fillmode": "overlay",
              "size": 10,
              "solidity": 0.2
             }
            },
            "type": "histogram"
           }
          ],
          "histogram2d": [
           {
            "colorbar": {
             "outlinewidth": 0,
             "ticks": ""
            },
            "colorscale": [
             [
              0,
              "#0d0887"
             ],
             [
              0.1111111111111111,
              "#46039f"
             ],
             [
              0.2222222222222222,
              "#7201a8"
             ],
             [
              0.3333333333333333,
              "#9c179e"
             ],
             [
              0.4444444444444444,
              "#bd3786"
             ],
             [
              0.5555555555555556,
              "#d8576b"
             ],
             [
              0.6666666666666666,
              "#ed7953"
             ],
             [
              0.7777777777777778,
              "#fb9f3a"
             ],
             [
              0.8888888888888888,
              "#fdca26"
             ],
             [
              1,
              "#f0f921"
             ]
            ],
            "type": "histogram2d"
           }
          ],
          "histogram2dcontour": [
           {
            "colorbar": {
             "outlinewidth": 0,
             "ticks": ""
            },
            "colorscale": [
             [
              0,
              "#0d0887"
             ],
             [
              0.1111111111111111,
              "#46039f"
             ],
             [
              0.2222222222222222,
              "#7201a8"
             ],
             [
              0.3333333333333333,
              "#9c179e"
             ],
             [
              0.4444444444444444,
              "#bd3786"
             ],
             [
              0.5555555555555556,
              "#d8576b"
             ],
             [
              0.6666666666666666,
              "#ed7953"
             ],
             [
              0.7777777777777778,
              "#fb9f3a"
             ],
             [
              0.8888888888888888,
              "#fdca26"
             ],
             [
              1,
              "#f0f921"
             ]
            ],
            "type": "histogram2dcontour"
           }
          ],
          "mesh3d": [
           {
            "colorbar": {
             "outlinewidth": 0,
             "ticks": ""
            },
            "type": "mesh3d"
           }
          ],
          "parcoords": [
           {
            "line": {
             "colorbar": {
              "outlinewidth": 0,
              "ticks": ""
             }
            },
            "type": "parcoords"
           }
          ],
          "pie": [
           {
            "automargin": true,
            "type": "pie"
           }
          ],
          "scatter": [
           {
            "fillpattern": {
             "fillmode": "overlay",
             "size": 10,
             "solidity": 0.2
            },
            "type": "scatter"
           }
          ],
          "scatter3d": [
           {
            "line": {
             "colorbar": {
              "outlinewidth": 0,
              "ticks": ""
             }
            },
            "marker": {
             "colorbar": {
              "outlinewidth": 0,
              "ticks": ""
             }
            },
            "type": "scatter3d"
           }
          ],
          "scattercarpet": [
           {
            "marker": {
             "colorbar": {
              "outlinewidth": 0,
              "ticks": ""
             }
            },
            "type": "scattercarpet"
           }
          ],
          "scattergeo": [
           {
            "marker": {
             "colorbar": {
              "outlinewidth": 0,
              "ticks": ""
             }
            },
            "type": "scattergeo"
           }
          ],
          "scattergl": [
           {
            "marker": {
             "colorbar": {
              "outlinewidth": 0,
              "ticks": ""
             }
            },
            "type": "scattergl"
           }
          ],
          "scattermapbox": [
           {
            "marker": {
             "colorbar": {
              "outlinewidth": 0,
              "ticks": ""
             }
            },
            "type": "scattermapbox"
           }
          ],
          "scatterpolar": [
           {
            "marker": {
             "colorbar": {
              "outlinewidth": 0,
              "ticks": ""
             }
            },
            "type": "scatterpolar"
           }
          ],
          "scatterpolargl": [
           {
            "marker": {
             "colorbar": {
              "outlinewidth": 0,
              "ticks": ""
             }
            },
            "type": "scatterpolargl"
           }
          ],
          "scatterternary": [
           {
            "marker": {
             "colorbar": {
              "outlinewidth": 0,
              "ticks": ""
             }
            },
            "type": "scatterternary"
           }
          ],
          "surface": [
           {
            "colorbar": {
             "outlinewidth": 0,
             "ticks": ""
            },
            "colorscale": [
             [
              0,
              "#0d0887"
             ],
             [
              0.1111111111111111,
              "#46039f"
             ],
             [
              0.2222222222222222,
              "#7201a8"
             ],
             [
              0.3333333333333333,
              "#9c179e"
             ],
             [
              0.4444444444444444,
              "#bd3786"
             ],
             [
              0.5555555555555556,
              "#d8576b"
             ],
             [
              0.6666666666666666,
              "#ed7953"
             ],
             [
              0.7777777777777778,
              "#fb9f3a"
             ],
             [
              0.8888888888888888,
              "#fdca26"
             ],
             [
              1,
              "#f0f921"
             ]
            ],
            "type": "surface"
           }
          ],
          "table": [
           {
            "cells": {
             "fill": {
              "color": "#EBF0F8"
             },
             "line": {
              "color": "white"
             }
            },
            "header": {
             "fill": {
              "color": "#C8D4E3"
             },
             "line": {
              "color": "white"
             }
            },
            "type": "table"
           }
          ]
         },
         "layout": {
          "annotationdefaults": {
           "arrowcolor": "#2a3f5f",
           "arrowhead": 0,
           "arrowwidth": 1
          },
          "autotypenumbers": "strict",
          "coloraxis": {
           "colorbar": {
            "outlinewidth": 0,
            "ticks": ""
           }
          },
          "colorscale": {
           "diverging": [
            [
             0,
             "#8e0152"
            ],
            [
             0.1,
             "#c51b7d"
            ],
            [
             0.2,
             "#de77ae"
            ],
            [
             0.3,
             "#f1b6da"
            ],
            [
             0.4,
             "#fde0ef"
            ],
            [
             0.5,
             "#f7f7f7"
            ],
            [
             0.6,
             "#e6f5d0"
            ],
            [
             0.7,
             "#b8e186"
            ],
            [
             0.8,
             "#7fbc41"
            ],
            [
             0.9,
             "#4d9221"
            ],
            [
             1,
             "#276419"
            ]
           ],
           "sequential": [
            [
             0,
             "#0d0887"
            ],
            [
             0.1111111111111111,
             "#46039f"
            ],
            [
             0.2222222222222222,
             "#7201a8"
            ],
            [
             0.3333333333333333,
             "#9c179e"
            ],
            [
             0.4444444444444444,
             "#bd3786"
            ],
            [
             0.5555555555555556,
             "#d8576b"
            ],
            [
             0.6666666666666666,
             "#ed7953"
            ],
            [
             0.7777777777777778,
             "#fb9f3a"
            ],
            [
             0.8888888888888888,
             "#fdca26"
            ],
            [
             1,
             "#f0f921"
            ]
           ],
           "sequentialminus": [
            [
             0,
             "#0d0887"
            ],
            [
             0.1111111111111111,
             "#46039f"
            ],
            [
             0.2222222222222222,
             "#7201a8"
            ],
            [
             0.3333333333333333,
             "#9c179e"
            ],
            [
             0.4444444444444444,
             "#bd3786"
            ],
            [
             0.5555555555555556,
             "#d8576b"
            ],
            [
             0.6666666666666666,
             "#ed7953"
            ],
            [
             0.7777777777777778,
             "#fb9f3a"
            ],
            [
             0.8888888888888888,
             "#fdca26"
            ],
            [
             1,
             "#f0f921"
            ]
           ]
          },
          "colorway": [
           "#636efa",
           "#EF553B",
           "#00cc96",
           "#ab63fa",
           "#FFA15A",
           "#19d3f3",
           "#FF6692",
           "#B6E880",
           "#FF97FF",
           "#FECB52"
          ],
          "font": {
           "color": "#2a3f5f"
          },
          "geo": {
           "bgcolor": "white",
           "lakecolor": "white",
           "landcolor": "#E5ECF6",
           "showlakes": true,
           "showland": true,
           "subunitcolor": "white"
          },
          "hoverlabel": {
           "align": "left"
          },
          "hovermode": "closest",
          "mapbox": {
           "style": "light"
          },
          "paper_bgcolor": "white",
          "plot_bgcolor": "#E5ECF6",
          "polar": {
           "angularaxis": {
            "gridcolor": "white",
            "linecolor": "white",
            "ticks": ""
           },
           "bgcolor": "#E5ECF6",
           "radialaxis": {
            "gridcolor": "white",
            "linecolor": "white",
            "ticks": ""
           }
          },
          "scene": {
           "xaxis": {
            "backgroundcolor": "#E5ECF6",
            "gridcolor": "white",
            "gridwidth": 2,
            "linecolor": "white",
            "showbackground": true,
            "ticks": "",
            "zerolinecolor": "white"
           },
           "yaxis": {
            "backgroundcolor": "#E5ECF6",
            "gridcolor": "white",
            "gridwidth": 2,
            "linecolor": "white",
            "showbackground": true,
            "ticks": "",
            "zerolinecolor": "white"
           },
           "zaxis": {
            "backgroundcolor": "#E5ECF6",
            "gridcolor": "white",
            "gridwidth": 2,
            "linecolor": "white",
            "showbackground": true,
            "ticks": "",
            "zerolinecolor": "white"
           }
          },
          "shapedefaults": {
           "line": {
            "color": "#2a3f5f"
           }
          },
          "ternary": {
           "aaxis": {
            "gridcolor": "white",
            "linecolor": "white",
            "ticks": ""
           },
           "baxis": {
            "gridcolor": "white",
            "linecolor": "white",
            "ticks": ""
           },
           "bgcolor": "#E5ECF6",
           "caxis": {
            "gridcolor": "white",
            "linecolor": "white",
            "ticks": ""
           }
          },
          "title": {
           "x": 0.05
          },
          "xaxis": {
           "automargin": true,
           "gridcolor": "white",
           "linecolor": "white",
           "ticks": "",
           "title": {
            "standoff": 15
           },
           "zerolinecolor": "white",
           "zerolinewidth": 2
          },
          "yaxis": {
           "automargin": true,
           "gridcolor": "white",
           "linecolor": "white",
           "ticks": "",
           "title": {
            "standoff": 15
           },
           "zerolinecolor": "white",
           "zerolinewidth": 2
          }
         }
        },
        "title": {
         "text": "Fire-prone Counties"
        },
        "xaxis": {
         "rangeslider": {
          "visible": true
         },
         "title": {
          "text": "County Names"
         }
        },
        "yaxis": {
         "title": {
          "text": "Number of Wildfires"
         }
        }
       }
      }
     },
     "metadata": {},
     "output_type": "display_data"
    }
   ],
   "source": [
    "# plot figure\n",
    "count = 50\n",
    "slice_county = county_counts.head(count)\n",
    "fig2 = go.Figure()\n",
    "# plot\n",
    "fig2.add_trace(\n",
    "                go.Bar(x=slice_county['FIPS_NAME'], y=slice_county['count'])\n",
    "                )\n",
    "# Set labels and title\n",
    "fig2.update_layout({\n",
    "                    \"title\": \"Fire-prone Counties\",\n",
    "                    \"yaxis\": {\"title\":\"Number of Wildfires\"},\n",
    "                    \"xaxis\": {\"title\":\"County Names\"}\n",
    "                   })\n",
    "\n",
    "fig2.update_traces(texttemplate = \"%{y}\")\n",
    "# Add range slider and buttons\n",
    "fig2.update_layout(\n",
    "                    xaxis=dict(rangeslider=dict(visible=True))\n",
    "                   )\n",
    "\n",
    "fig2.show()  "
   ]
  },
  {
   "cell_type": "code",
   "execution_count": 46,
   "metadata": {},
   "outputs": [
    {
     "data": {
      "text/plain": [
       "Index(['Debris Burning', 'Miscellaneous', 'Arson', 'Lightning', 'Missing/Undefined', 'Equipment Use', 'Campfire', 'Children', 'Smoking', 'Railroad', 'Powerline', 'Fireworks', 'Structure'], dtype='object')"
      ]
     },
     "execution_count": 46,
     "metadata": {},
     "output_type": "execute_result"
    }
   ],
   "source": [
    "df[\"STAT_CAUSE_DESCR\"].value_counts().index"
   ]
  },
  {
   "cell_type": "code",
   "execution_count": 40,
   "metadata": {},
   "outputs": [
    {
     "data": {
      "text/html": [
       "<div>\n",
       "<style scoped>\n",
       "    .dataframe tbody tr th:only-of-type {\n",
       "        vertical-align: middle;\n",
       "    }\n",
       "\n",
       "    .dataframe tbody tr th {\n",
       "        vertical-align: top;\n",
       "    }\n",
       "\n",
       "    .dataframe thead th {\n",
       "        text-align: right;\n",
       "    }\n",
       "</style>\n",
       "<table border=\"1\" class=\"dataframe\">\n",
       "  <thead>\n",
       "    <tr style=\"text-align: right;\">\n",
       "      <th></th>\n",
       "      <th>DISC_YM</th>\n",
       "      <th>STAT_CAUSE_DESCR</th>\n",
       "      <th>count</th>\n",
       "    </tr>\n",
       "  </thead>\n",
       "  <tbody>\n",
       "    <tr>\n",
       "      <th>0</th>\n",
       "      <td>1992-01</td>\n",
       "      <td>Arson</td>\n",
       "      <td>763</td>\n",
       "    </tr>\n",
       "    <tr>\n",
       "      <th>1</th>\n",
       "      <td>1992-01</td>\n",
       "      <td>Campfire</td>\n",
       "      <td>55</td>\n",
       "    </tr>\n",
       "    <tr>\n",
       "      <th>2</th>\n",
       "      <td>1992-01</td>\n",
       "      <td>Children</td>\n",
       "      <td>159</td>\n",
       "    </tr>\n",
       "    <tr>\n",
       "      <th>3</th>\n",
       "      <td>1992-01</td>\n",
       "      <td>Debris Burning</td>\n",
       "      <td>893</td>\n",
       "    </tr>\n",
       "    <tr>\n",
       "      <th>4</th>\n",
       "      <td>1992-01</td>\n",
       "      <td>Equipment Use</td>\n",
       "      <td>301</td>\n",
       "    </tr>\n",
       "  </tbody>\n",
       "</table>\n",
       "</div>"
      ],
      "text/plain": [
       "   DISC_YM STAT_CAUSE_DESCR  count\n",
       "0  1992-01            Arson    763\n",
       "1  1992-01         Campfire     55\n",
       "2  1992-01         Children    159\n",
       "3  1992-01   Debris Burning    893\n",
       "4  1992-01    Equipment Use    301"
      ]
     },
     "execution_count": 40,
     "metadata": {},
     "output_type": "execute_result"
    }
   ],
   "source": [
    "month_year_counts = df[[\"DISC_YM\", \"STAT_CAUSE_DESCR\", \"OBJECTID\"]]\\\n",
    "                        .groupby([\"DISC_YM\", \"STAT_CAUSE_DESCR\"])\\\n",
    "                        .count()\\\n",
    "                        .rename(columns={'OBJECTID':\"count\"})\\\n",
    "                        .reset_index()\n",
    "\n",
    "month_year_counts.head()"
   ]
  },
  {
   "cell_type": "code",
   "execution_count": 43,
   "metadata": {},
   "outputs": [
    {
     "data": {
      "application/vnd.plotly.v1+json": {
       "config": {
        "plotlyServerURL": "https://plot.ly"
       },
       "data": [
        {
         "hovertemplate": "Causes=Arson<br>DISC_YM=%{x}<br>Total Count=%{y}<extra></extra>",
         "legendgroup": "Arson",
         "line": {
          "color": "#636efa",
          "dash": "solid"
         },
         "marker": {
          "symbol": "circle"
         },
         "mode": "lines",
         "name": "Arson",
         "showlegend": true,
         "type": "scattergl",
         "x": [
          "1992-01",
          "1992-02",
          "1992-03",
          "1992-04",
          "1992-05",
          "1992-06",
          "1992-07",
          "1992-08",
          "1992-09",
          "1992-10",
          "1992-11",
          "1992-12",
          "1993-01",
          "1993-02",
          "1993-03",
          "1993-04",
          "1993-05",
          "1993-06",
          "1993-07",
          "1993-08",
          "1993-09",
          "1993-10",
          "1993-11",
          "1993-12",
          "1994-01",
          "1994-02",
          "1994-03",
          "1994-04",
          "1994-05",
          "1994-06",
          "1994-07",
          "1994-08",
          "1994-09",
          "1994-10",
          "1994-11",
          "1994-12",
          "1995-01",
          "1995-02",
          "1995-03",
          "1995-04",
          "1995-05",
          "1995-06",
          "1995-07",
          "1995-08",
          "1995-09",
          "1995-10",
          "1995-11",
          "1995-12",
          "1996-01",
          "1996-02",
          "1996-03",
          "1996-04",
          "1996-05",
          "1996-06",
          "1996-07",
          "1996-08",
          "1996-09",
          "1996-10",
          "1996-11",
          "1996-12",
          "1997-01",
          "1997-02",
          "1997-03",
          "1997-04",
          "1997-05",
          "1997-06",
          "1997-07",
          "1997-08",
          "1997-09",
          "1997-10",
          "1997-11",
          "1997-12",
          "1998-01",
          "1998-02",
          "1998-03",
          "1998-04",
          "1998-05",
          "1998-06",
          "1998-07",
          "1998-08",
          "1998-09",
          "1998-10",
          "1998-11",
          "1998-12",
          "1999-01",
          "1999-02",
          "1999-03",
          "1999-04",
          "1999-05",
          "1999-06",
          "1999-07",
          "1999-08",
          "1999-09",
          "1999-10",
          "1999-11",
          "1999-12",
          "2000-01",
          "2000-02",
          "2000-03",
          "2000-04",
          "2000-05",
          "2000-06",
          "2000-07",
          "2000-08",
          "2000-09",
          "2000-10",
          "2000-11",
          "2000-12",
          "2001-01",
          "2001-02",
          "2001-03",
          "2001-04",
          "2001-05",
          "2001-06",
          "2001-07",
          "2001-08",
          "2001-09",
          "2001-10",
          "2001-11",
          "2001-12",
          "2002-01",
          "2002-02",
          "2002-03",
          "2002-04",
          "2002-05",
          "2002-06",
          "2002-07",
          "2002-08",
          "2002-09",
          "2002-10",
          "2002-11",
          "2002-12",
          "2003-01",
          "2003-02",
          "2003-03",
          "2003-04",
          "2003-05",
          "2003-06",
          "2003-07",
          "2003-08",
          "2003-09",
          "2003-10",
          "2003-11",
          "2003-12",
          "2004-01",
          "2004-02",
          "2004-03",
          "2004-04",
          "2004-05",
          "2004-06",
          "2004-07",
          "2004-08",
          "2004-09",
          "2004-10",
          "2004-11",
          "2004-12",
          "2005-01",
          "2005-02",
          "2005-03",
          "2005-04",
          "2005-05",
          "2005-06",
          "2005-07",
          "2005-08",
          "2005-09",
          "2005-10",
          "2005-11",
          "2005-12",
          "2006-01",
          "2006-02",
          "2006-03",
          "2006-04",
          "2006-05",
          "2006-06",
          "2006-07",
          "2006-08",
          "2006-09",
          "2006-10",
          "2006-11",
          "2006-12",
          "2007-01",
          "2007-02",
          "2007-03",
          "2007-04",
          "2007-05",
          "2007-06",
          "2007-07",
          "2007-08",
          "2007-09",
          "2007-10",
          "2007-11",
          "2007-12",
          "2008-01",
          "2008-02",
          "2008-03",
          "2008-04",
          "2008-05",
          "2008-06",
          "2008-07",
          "2008-08",
          "2008-09",
          "2008-10",
          "2008-11",
          "2008-12",
          "2009-01",
          "2009-02",
          "2009-03",
          "2009-04",
          "2009-05",
          "2009-06",
          "2009-07",
          "2009-08",
          "2009-09",
          "2009-10",
          "2009-11",
          "2009-12",
          "2010-01",
          "2010-02",
          "2010-03",
          "2010-04",
          "2010-05",
          "2010-06",
          "2010-07",
          "2010-08",
          "2010-09",
          "2010-10",
          "2010-11",
          "2010-12",
          "2011-01",
          "2011-02",
          "2011-03",
          "2011-04",
          "2011-05",
          "2011-06",
          "2011-07",
          "2011-08",
          "2011-09",
          "2011-10",
          "2011-11",
          "2011-12",
          "2012-01",
          "2012-02",
          "2012-03",
          "2012-04",
          "2012-05",
          "2012-06",
          "2012-07",
          "2012-08",
          "2012-09",
          "2012-10",
          "2012-11",
          "2012-12",
          "2013-01",
          "2013-02",
          "2013-03",
          "2013-04",
          "2013-05",
          "2013-06",
          "2013-07",
          "2013-08",
          "2013-09",
          "2013-10",
          "2013-11",
          "2013-12",
          "2014-01",
          "2014-02",
          "2014-03",
          "2014-04",
          "2014-05",
          "2014-06",
          "2014-07",
          "2014-08",
          "2014-09",
          "2014-10",
          "2014-11",
          "2014-12",
          "2015-01",
          "2015-02",
          "2015-03",
          "2015-04",
          "2015-05",
          "2015-06",
          "2015-07",
          "2015-08",
          "2015-09",
          "2015-10",
          "2015-11",
          "2015-12"
         ],
         "xaxis": "x",
         "y": [
          763,
          1703,
          2169,
          1809,
          1446,
          574,
          563,
          433,
          452,
          667,
          330,
          253,
          453,
          1606,
          1381,
          1532,
          877,
          708,
          967,
          645,
          677,
          872,
          778,
          449,
          558,
          1136,
          2432,
          1727,
          901,
          495,
          480,
          352,
          367,
          410,
          880,
          342,
          384,
          1484,
          2360,
          2292,
          899,
          440,
          601,
          870,
          1091,
          830,
          675,
          722,
          589,
          2120,
          1943,
          1602,
          1117,
          493,
          620,
          398,
          248,
          419,
          349,
          308,
          529,
          900,
          1975,
          2221,
          1053,
          401,
          619,
          584,
          1035,
          908,
          372,
          339,
          317,
          921,
          2183,
          1845,
          896,
          1136,
          1152,
          858,
          1169,
          1435,
          1398,
          793,
          826,
          1737,
          2781,
          2646,
          1017,
          727,
          698,
          1561,
          2274,
          1355,
          2585,
          1075,
          1063,
          1998,
          2762,
          1776,
          1289,
          679,
          1422,
          1636,
          1303,
          2276,
          1172,
          451,
          920,
          1668,
          1760,
          2647,
          1645,
          584,
          677,
          596,
          365,
          1678,
          3660,
          739,
          717,
          2515,
          2124,
          1944,
          1361,
          873,
          700,
          850,
          743,
          232,
          418,
          308,
          1082,
          583,
          1260,
          2246,
          689,
          404,
          638,
          459,
          441,
          881,
          766,
          557,
          797,
          936,
          3118,
          2701,
          817,
          468,
          440,
          447,
          534,
          339,
          358,
          474,
          862,
          722,
          1884,
          2291,
          994,
          661,
          703,
          623,
          925,
          1137,
          1765,
          787,
          2017,
          1359,
          4368,
          3606,
          1193,
          1312,
          1396,
          911,
          658,
          795,
          629,
          658,
          371,
          1339,
          2966,
          2433,
          1815,
          838,
          677,
          842,
          598,
          647,
          675,
          399,
          527,
          782,
          1499,
          1628,
          965,
          682,
          733,
          613,
          390,
          599,
          755,
          310,
          901,
          1385,
          1888,
          1548,
          541,
          471,
          675,
          302,
          303,
          182,
          534,
          112,
          231,
          313,
          1433,
          2205,
          535,
          419,
          620,
          725,
          951,
          1367,
          766,
          631,
          426,
          867,
          1437,
          1228,
          617,
          709,
          989,
          789,
          727,
          534,
          537,
          249,
          701,
          701,
          1608,
          1403,
          635,
          810,
          994,
          551,
          436,
          480,
          863,
          378,
          361,
          424,
          1401,
          980,
          849,
          340,
          417,
          365,
          434,
          294,
          551,
          174,
          642,
          469,
          1008,
          1406,
          875,
          425,
          456,
          364,
          268,
          275,
          457,
          200,
          374,
          504,
          840,
          1248,
          851,
          357,
          450,
          456,
          439,
          558,
          389,
          160
         ],
         "yaxis": "y"
        },
        {
         "hovertemplate": "Causes=Campfire<br>DISC_YM=%{x}<br>Total Count=%{y}<extra></extra>",
         "legendgroup": "Campfire",
         "line": {
          "color": "#EF553B",
          "dash": "solid"
         },
         "marker": {
          "symbol": "circle"
         },
         "mode": "lines",
         "name": "Campfire",
         "showlegend": true,
         "type": "scattergl",
         "x": [
          "1992-01",
          "1992-02",
          "1992-03",
          "1992-04",
          "1992-05",
          "1992-06",
          "1992-07",
          "1992-08",
          "1992-09",
          "1992-10",
          "1992-11",
          "1992-12",
          "1993-01",
          "1993-02",
          "1993-03",
          "1993-04",
          "1993-05",
          "1993-06",
          "1993-07",
          "1993-08",
          "1993-09",
          "1993-10",
          "1993-11",
          "1993-12",
          "1994-01",
          "1994-02",
          "1994-03",
          "1994-04",
          "1994-05",
          "1994-06",
          "1994-07",
          "1994-08",
          "1994-09",
          "1994-10",
          "1994-11",
          "1994-12",
          "1995-01",
          "1995-02",
          "1995-03",
          "1995-04",
          "1995-05",
          "1995-06",
          "1995-07",
          "1995-08",
          "1995-09",
          "1995-10",
          "1995-11",
          "1995-12",
          "1996-01",
          "1996-02",
          "1996-03",
          "1996-04",
          "1996-05",
          "1996-06",
          "1996-07",
          "1996-08",
          "1996-09",
          "1996-10",
          "1996-11",
          "1996-12",
          "1997-01",
          "1997-02",
          "1997-03",
          "1997-04",
          "1997-05",
          "1997-06",
          "1997-07",
          "1997-08",
          "1997-09",
          "1997-10",
          "1997-11",
          "1997-12",
          "1998-01",
          "1998-02",
          "1998-03",
          "1998-04",
          "1998-05",
          "1998-06",
          "1998-07",
          "1998-08",
          "1998-09",
          "1998-10",
          "1998-11",
          "1998-12",
          "1999-01",
          "1999-02",
          "1999-03",
          "1999-04",
          "1999-05",
          "1999-06",
          "1999-07",
          "1999-08",
          "1999-09",
          "1999-10",
          "1999-11",
          "1999-12",
          "2000-01",
          "2000-02",
          "2000-03",
          "2000-04",
          "2000-05",
          "2000-06",
          "2000-07",
          "2000-08",
          "2000-09",
          "2000-10",
          "2000-11",
          "2000-12",
          "2001-01",
          "2001-02",
          "2001-03",
          "2001-04",
          "2001-05",
          "2001-06",
          "2001-07",
          "2001-08",
          "2001-09",
          "2001-10",
          "2001-11",
          "2001-12",
          "2002-01",
          "2002-02",
          "2002-03",
          "2002-04",
          "2002-05",
          "2002-06",
          "2002-07",
          "2002-08",
          "2002-09",
          "2002-10",
          "2002-11",
          "2002-12",
          "2003-01",
          "2003-02",
          "2003-03",
          "2003-04",
          "2003-05",
          "2003-06",
          "2003-07",
          "2003-08",
          "2003-09",
          "2003-10",
          "2003-11",
          "2003-12",
          "2004-01",
          "2004-02",
          "2004-03",
          "2004-04",
          "2004-05",
          "2004-06",
          "2004-07",
          "2004-08",
          "2004-09",
          "2004-10",
          "2004-11",
          "2004-12",
          "2005-01",
          "2005-02",
          "2005-03",
          "2005-04",
          "2005-05",
          "2005-06",
          "2005-07",
          "2005-08",
          "2005-09",
          "2005-10",
          "2005-11",
          "2005-12",
          "2006-01",
          "2006-02",
          "2006-03",
          "2006-04",
          "2006-05",
          "2006-06",
          "2006-07",
          "2006-08",
          "2006-09",
          "2006-10",
          "2006-11",
          "2006-12",
          "2007-01",
          "2007-02",
          "2007-03",
          "2007-04",
          "2007-05",
          "2007-06",
          "2007-07",
          "2007-08",
          "2007-09",
          "2007-10",
          "2007-11",
          "2007-12",
          "2008-01",
          "2008-02",
          "2008-03",
          "2008-04",
          "2008-05",
          "2008-06",
          "2008-07",
          "2008-08",
          "2008-09",
          "2008-10",
          "2008-11",
          "2008-12",
          "2009-01",
          "2009-02",
          "2009-03",
          "2009-04",
          "2009-05",
          "2009-06",
          "2009-07",
          "2009-08",
          "2009-09",
          "2009-10",
          "2009-11",
          "2009-12",
          "2010-01",
          "2010-02",
          "2010-03",
          "2010-04",
          "2010-05",
          "2010-06",
          "2010-07",
          "2010-08",
          "2010-09",
          "2010-10",
          "2010-11",
          "2010-12",
          "2011-01",
          "2011-02",
          "2011-03",
          "2011-04",
          "2011-05",
          "2011-06",
          "2011-07",
          "2011-08",
          "2011-09",
          "2011-10",
          "2011-11",
          "2011-12",
          "2012-01",
          "2012-02",
          "2012-03",
          "2012-04",
          "2012-05",
          "2012-06",
          "2012-07",
          "2012-08",
          "2012-09",
          "2012-10",
          "2012-11",
          "2012-12",
          "2013-01",
          "2013-02",
          "2013-03",
          "2013-04",
          "2013-05",
          "2013-06",
          "2013-07",
          "2013-08",
          "2013-09",
          "2013-10",
          "2013-11",
          "2013-12",
          "2014-01",
          "2014-02",
          "2014-03",
          "2014-04",
          "2014-05",
          "2014-06",
          "2014-07",
          "2014-08",
          "2014-09",
          "2014-10",
          "2014-11",
          "2014-12",
          "2015-01",
          "2015-02",
          "2015-03",
          "2015-04",
          "2015-05",
          "2015-06",
          "2015-07",
          "2015-08",
          "2015-09",
          "2015-10",
          "2015-11",
          "2015-12"
         ],
         "xaxis": "x",
         "y": [
          55,
          71,
          85,
          175,
          381,
          307,
          395,
          401,
          316,
          294,
          69,
          21,
          24,
          33,
          61,
          165,
          284,
          332,
          582,
          407,
          368,
          257,
          211,
          42,
          188,
          255,
          530,
          348,
          366,
          421,
          541,
          344,
          277,
          240,
          153,
          64,
          71,
          285,
          331,
          435,
          291,
          363,
          561,
          505,
          525,
          335,
          169,
          116,
          117,
          497,
          445,
          530,
          444,
          344,
          423,
          518,
          287,
          271,
          107,
          55,
          58,
          110,
          200,
          237,
          288,
          267,
          408,
          360,
          245,
          230,
          70,
          17,
          24,
          35,
          115,
          232,
          291,
          299,
          322,
          478,
          371,
          294,
          136,
          64,
          67,
          93,
          188,
          261,
          266,
          320,
          404,
          377,
          416,
          421,
          328,
          125,
          100,
          114,
          144,
          242,
          309,
          274,
          462,
          399,
          287,
          249,
          78,
          65,
          77,
          54,
          95,
          242,
          385,
          409,
          453,
          442,
          295,
          314,
          289,
          66,
          91,
          244,
          300,
          280,
          283,
          246,
          365,
          416,
          324,
          198,
          219,
          56,
          72,
          48,
          94,
          289,
          242,
          292,
          450,
          318,
          235,
          243,
          107,
          46,
          62,
          60,
          164,
          269,
          299,
          250,
          375,
          326,
          221,
          123,
          67,
          50,
          87,
          97,
          227,
          341,
          290,
          255,
          459,
          427,
          468,
          490,
          298,
          223,
          148,
          122,
          229,
          367,
          279,
          241,
          445,
          355,
          269,
          211,
          104,
          75,
          57,
          139,
          416,
          369,
          419,
          385,
          432,
          385,
          384,
          240,
          207,
          77,
          85,
          114,
          237,
          419,
          343,
          329,
          418,
          440,
          375,
          307,
          196,
          73,
          128,
          208,
          382,
          369,
          321,
          225,
          493,
          441,
          338,
          204,
          162,
          43,
          53,
          56,
          307,
          421,
          270,
          252,
          494,
          506,
          408,
          461,
          207,
          150,
          123,
          221,
          201,
          203,
          269,
          263,
          427,
          494,
          393,
          205,
          151,
          65,
          123,
          96,
          286,
          393,
          319,
          334,
          386,
          441,
          474,
          293,
          263,
          63,
          79,
          99,
          276,
          328,
          369,
          260,
          389,
          402,
          216,
          165,
          164,
          49,
          392,
          233,
          539,
          432,
          310,
          272,
          394,
          309,
          286,
          271,
          279,
          84,
          223,
          371,
          256,
          453,
          601,
          325,
          378,
          364,
          341,
          264,
          119,
          36
         ],
         "yaxis": "y"
        },
        {
         "hovertemplate": "Causes=Children<br>DISC_YM=%{x}<br>Total Count=%{y}<extra></extra>",
         "legendgroup": "Children",
         "line": {
          "color": "#00cc96",
          "dash": "solid"
         },
         "marker": {
          "symbol": "circle"
         },
         "mode": "lines",
         "name": "Children",
         "showlegend": true,
         "type": "scattergl",
         "x": [
          "1992-01",
          "1992-02",
          "1992-03",
          "1992-04",
          "1992-05",
          "1992-06",
          "1992-07",
          "1992-08",
          "1992-09",
          "1992-10",
          "1992-11",
          "1992-12",
          "1993-01",
          "1993-02",
          "1993-03",
          "1993-04",
          "1993-05",
          "1993-06",
          "1993-07",
          "1993-08",
          "1993-09",
          "1993-10",
          "1993-11",
          "1993-12",
          "1994-01",
          "1994-02",
          "1994-03",
          "1994-04",
          "1994-05",
          "1994-06",
          "1994-07",
          "1994-08",
          "1994-09",
          "1994-10",
          "1994-11",
          "1994-12",
          "1995-01",
          "1995-02",
          "1995-03",
          "1995-04",
          "1995-05",
          "1995-06",
          "1995-07",
          "1995-08",
          "1995-09",
          "1995-10",
          "1995-11",
          "1995-12",
          "1996-01",
          "1996-02",
          "1996-03",
          "1996-04",
          "1996-05",
          "1996-06",
          "1996-07",
          "1996-08",
          "1996-09",
          "1996-10",
          "1996-11",
          "1996-12",
          "1997-01",
          "1997-02",
          "1997-03",
          "1997-04",
          "1997-05",
          "1997-06",
          "1997-07",
          "1997-08",
          "1997-09",
          "1997-10",
          "1997-11",
          "1997-12",
          "1998-01",
          "1998-02",
          "1998-03",
          "1998-04",
          "1998-05",
          "1998-06",
          "1998-07",
          "1998-08",
          "1998-09",
          "1998-10",
          "1998-11",
          "1998-12",
          "1999-01",
          "1999-02",
          "1999-03",
          "1999-04",
          "1999-05",
          "1999-06",
          "1999-07",
          "1999-08",
          "1999-09",
          "1999-10",
          "1999-11",
          "1999-12",
          "2000-01",
          "2000-02",
          "2000-03",
          "2000-04",
          "2000-05",
          "2000-06",
          "2000-07",
          "2000-08",
          "2000-09",
          "2000-10",
          "2000-11",
          "2000-12",
          "2001-01",
          "2001-02",
          "2001-03",
          "2001-04",
          "2001-05",
          "2001-06",
          "2001-07",
          "2001-08",
          "2001-09",
          "2001-10",
          "2001-11",
          "2001-12",
          "2002-01",
          "2002-02",
          "2002-03",
          "2002-04",
          "2002-05",
          "2002-06",
          "2002-07",
          "2002-08",
          "2002-09",
          "2002-10",
          "2002-11",
          "2002-12",
          "2003-01",
          "2003-02",
          "2003-03",
          "2003-04",
          "2003-05",
          "2003-06",
          "2003-07",
          "2003-08",
          "2003-09",
          "2003-10",
          "2003-11",
          "2003-12",
          "2004-01",
          "2004-02",
          "2004-03",
          "2004-04",
          "2004-05",
          "2004-06",
          "2004-07",
          "2004-08",
          "2004-09",
          "2004-10",
          "2004-11",
          "2004-12",
          "2005-01",
          "2005-02",
          "2005-03",
          "2005-04",
          "2005-05",
          "2005-06",
          "2005-07",
          "2005-08",
          "2005-09",
          "2005-10",
          "2005-11",
          "2005-12",
          "2006-01",
          "2006-02",
          "2006-03",
          "2006-04",
          "2006-05",
          "2006-06",
          "2006-07",
          "2006-08",
          "2006-09",
          "2006-10",
          "2006-11",
          "2006-12",
          "2007-01",
          "2007-02",
          "2007-03",
          "2007-04",
          "2007-05",
          "2007-06",
          "2007-07",
          "2007-08",
          "2007-09",
          "2007-10",
          "2007-11",
          "2007-12",
          "2008-01",
          "2008-02",
          "2008-03",
          "2008-04",
          "2008-05",
          "2008-06",
          "2008-07",
          "2008-08",
          "2008-09",
          "2008-10",
          "2008-11",
          "2008-12",
          "2009-01",
          "2009-02",
          "2009-03",
          "2009-04",
          "2009-05",
          "2009-06",
          "2009-07",
          "2009-08",
          "2009-09",
          "2009-10",
          "2009-11",
          "2009-12",
          "2010-01",
          "2010-02",
          "2010-03",
          "2010-04",
          "2010-05",
          "2010-06",
          "2010-07",
          "2010-08",
          "2010-09",
          "2010-10",
          "2010-11",
          "2010-12",
          "2011-01",
          "2011-02",
          "2011-03",
          "2011-04",
          "2011-05",
          "2011-06",
          "2011-07",
          "2011-08",
          "2011-09",
          "2011-10",
          "2011-11",
          "2011-12",
          "2012-01",
          "2012-02",
          "2012-03",
          "2012-04",
          "2012-05",
          "2012-06",
          "2012-07",
          "2012-08",
          "2012-09",
          "2012-10",
          "2012-11",
          "2012-12",
          "2013-01",
          "2013-02",
          "2013-03",
          "2013-04",
          "2013-05",
          "2013-06",
          "2013-07",
          "2013-08",
          "2013-09",
          "2013-10",
          "2013-11",
          "2013-12",
          "2014-01",
          "2014-02",
          "2014-03",
          "2014-04",
          "2014-05",
          "2014-06",
          "2014-07",
          "2014-08",
          "2014-09",
          "2014-10",
          "2014-11",
          "2014-12",
          "2015-01",
          "2015-02",
          "2015-03",
          "2015-04",
          "2015-05",
          "2015-06",
          "2015-07",
          "2015-08",
          "2015-09",
          "2015-10",
          "2015-11",
          "2015-12"
         ],
         "xaxis": "x",
         "y": [
          159,
          262,
          342,
          494,
          488,
          247,
          271,
          239,
          141,
          165,
          54,
          54,
          53,
          116,
          142,
          403,
          343,
          304,
          362,
          229,
          191,
          167,
          114,
          77,
          97,
          170,
          392,
          787,
          407,
          321,
          301,
          221,
          149,
          105,
          169,
          82,
          59,
          208,
          482,
          789,
          300,
          251,
          336,
          296,
          201,
          147,
          105,
          136,
          129,
          333,
          388,
          590,
          422,
          215,
          384,
          221,
          110,
          116,
          89,
          42,
          120,
          137,
          361,
          640,
          383,
          237,
          299,
          212,
          216,
          132,
          71,
          76,
          90,
          127,
          307,
          650,
          311,
          371,
          324,
          216,
          181,
          205,
          191,
          136,
          129,
          255,
          511,
          743,
          276,
          277,
          271,
          252,
          216,
          158,
          243,
          186,
          219,
          287,
          559,
          493,
          383,
          292,
          370,
          268,
          164,
          213,
          133,
          111,
          262,
          224,
          282,
          548,
          441,
          216,
          258,
          235,
          171,
          265,
          480,
          155,
          138,
          492,
          351,
          455,
          296,
          308,
          312,
          252,
          113,
          50,
          68,
          71,
          130,
          70,
          185,
          614,
          234,
          165,
          251,
          157,
          125,
          142,
          87,
          90,
          153,
          141,
          387,
          447,
          237,
          178,
          186,
          90,
          46,
          53,
          53,
          70,
          104,
          164,
          286,
          481,
          272,
          155,
          211,
          135,
          235,
          142,
          207,
          115,
          217,
          182,
          619,
          606,
          265,
          291,
          403,
          178,
          110,
          110,
          91,
          114,
          108,
          185,
          366,
          374,
          369,
          225,
          279,
          172,
          132,
          142,
          116,
          112,
          113,
          113,
          256,
          396,
          284,
          218,
          253,
          184,
          102,
          120,
          109,
          67,
          150,
          235,
          247,
          375,
          190,
          141,
          226,
          101,
          92,
          52,
          59,
          22,
          41,
          58,
          287,
          444,
          137,
          119,
          192,
          118,
          159,
          150,
          107,
          91,
          107,
          171,
          176,
          199,
          206,
          207,
          226,
          201,
          141,
          119,
          80,
          61,
          143,
          142,
          311,
          423,
          168,
          159,
          221,
          131,
          147,
          90,
          135,
          49,
          75,
          71,
          240,
          251,
          246,
          70,
          118,
          81,
          63,
          50,
          100,
          35,
          112,
          68,
          189,
          349,
          174,
          86,
          97,
          84,
          52,
          78,
          92,
          39,
          70,
          88,
          228,
          284,
          168,
          69,
          106,
          85,
          99,
          96,
          38,
          19
         ],
         "yaxis": "y"
        },
        {
         "hovertemplate": "Causes=Debris Burning<br>DISC_YM=%{x}<br>Total Count=%{y}<extra></extra>",
         "legendgroup": "Debris Burning",
         "line": {
          "color": "#ab63fa",
          "dash": "solid"
         },
         "marker": {
          "symbol": "circle"
         },
         "mode": "lines",
         "name": "Debris Burning",
         "showlegend": true,
         "type": "scattergl",
         "x": [
          "1992-01",
          "1992-02",
          "1992-03",
          "1992-04",
          "1992-05",
          "1992-06",
          "1992-07",
          "1992-08",
          "1992-09",
          "1992-10",
          "1992-11",
          "1992-12",
          "1993-01",
          "1993-02",
          "1993-03",
          "1993-04",
          "1993-05",
          "1993-06",
          "1993-07",
          "1993-08",
          "1993-09",
          "1993-10",
          "1993-11",
          "1993-12",
          "1994-01",
          "1994-02",
          "1994-03",
          "1994-04",
          "1994-05",
          "1994-06",
          "1994-07",
          "1994-08",
          "1994-09",
          "1994-10",
          "1994-11",
          "1994-12",
          "1995-01",
          "1995-02",
          "1995-03",
          "1995-04",
          "1995-05",
          "1995-06",
          "1995-07",
          "1995-08",
          "1995-09",
          "1995-10",
          "1995-11",
          "1995-12",
          "1996-01",
          "1996-02",
          "1996-03",
          "1996-04",
          "1996-05",
          "1996-06",
          "1996-07",
          "1996-08",
          "1996-09",
          "1996-10",
          "1996-11",
          "1996-12",
          "1997-01",
          "1997-02",
          "1997-03",
          "1997-04",
          "1997-05",
          "1997-06",
          "1997-07",
          "1997-08",
          "1997-09",
          "1997-10",
          "1997-11",
          "1997-12",
          "1998-01",
          "1998-02",
          "1998-03",
          "1998-04",
          "1998-05",
          "1998-06",
          "1998-07",
          "1998-08",
          "1998-09",
          "1998-10",
          "1998-11",
          "1998-12",
          "1999-01",
          "1999-02",
          "1999-03",
          "1999-04",
          "1999-05",
          "1999-06",
          "1999-07",
          "1999-08",
          "1999-09",
          "1999-10",
          "1999-11",
          "1999-12",
          "2000-01",
          "2000-02",
          "2000-03",
          "2000-04",
          "2000-05",
          "2000-06",
          "2000-07",
          "2000-08",
          "2000-09",
          "2000-10",
          "2000-11",
          "2000-12",
          "2001-01",
          "2001-02",
          "2001-03",
          "2001-04",
          "2001-05",
          "2001-06",
          "2001-07",
          "2001-08",
          "2001-09",
          "2001-10",
          "2001-11",
          "2001-12",
          "2002-01",
          "2002-02",
          "2002-03",
          "2002-04",
          "2002-05",
          "2002-06",
          "2002-07",
          "2002-08",
          "2002-09",
          "2002-10",
          "2002-11",
          "2002-12",
          "2003-01",
          "2003-02",
          "2003-03",
          "2003-04",
          "2003-05",
          "2003-06",
          "2003-07",
          "2003-08",
          "2003-09",
          "2003-10",
          "2003-11",
          "2003-12",
          "2004-01",
          "2004-02",
          "2004-03",
          "2004-04",
          "2004-05",
          "2004-06",
          "2004-07",
          "2004-08",
          "2004-09",
          "2004-10",
          "2004-11",
          "2004-12",
          "2005-01",
          "2005-02",
          "2005-03",
          "2005-04",
          "2005-05",
          "2005-06",
          "2005-07",
          "2005-08",
          "2005-09",
          "2005-10",
          "2005-11",
          "2005-12",
          "2006-01",
          "2006-02",
          "2006-03",
          "2006-04",
          "2006-05",
          "2006-06",
          "2006-07",
          "2006-08",
          "2006-09",
          "2006-10",
          "2006-11",
          "2006-12",
          "2007-01",
          "2007-02",
          "2007-03",
          "2007-04",
          "2007-05",
          "2007-06",
          "2007-07",
          "2007-08",
          "2007-09",
          "2007-10",
          "2007-11",
          "2007-12",
          "2008-01",
          "2008-02",
          "2008-03",
          "2008-04",
          "2008-05",
          "2008-06",
          "2008-07",
          "2008-08",
          "2008-09",
          "2008-10",
          "2008-11",
          "2008-12",
          "2009-01",
          "2009-02",
          "2009-03",
          "2009-04",
          "2009-05",
          "2009-06",
          "2009-07",
          "2009-08",
          "2009-09",
          "2009-10",
          "2009-11",
          "2009-12",
          "2010-01",
          "2010-02",
          "2010-03",
          "2010-04",
          "2010-05",
          "2010-06",
          "2010-07",
          "2010-08",
          "2010-09",
          "2010-10",
          "2010-11",
          "2010-12",
          "2011-01",
          "2011-02",
          "2011-03",
          "2011-04",
          "2011-05",
          "2011-06",
          "2011-07",
          "2011-08",
          "2011-09",
          "2011-10",
          "2011-11",
          "2011-12",
          "2012-01",
          "2012-02",
          "2012-03",
          "2012-04",
          "2012-05",
          "2012-06",
          "2012-07",
          "2012-08",
          "2012-09",
          "2012-10",
          "2012-11",
          "2012-12",
          "2013-01",
          "2013-02",
          "2013-03",
          "2013-04",
          "2013-05",
          "2013-06",
          "2013-07",
          "2013-08",
          "2013-09",
          "2013-10",
          "2013-11",
          "2013-12",
          "2014-01",
          "2014-02",
          "2014-03",
          "2014-04",
          "2014-05",
          "2014-06",
          "2014-07",
          "2014-08",
          "2014-09",
          "2014-10",
          "2014-11",
          "2014-12",
          "2015-01",
          "2015-02",
          "2015-03",
          "2015-04",
          "2015-05",
          "2015-06",
          "2015-07",
          "2015-08",
          "2015-09",
          "2015-10",
          "2015-11",
          "2015-12"
         ],
         "xaxis": "x",
         "y": [
          893,
          2147,
          2642,
          2283,
          1830,
          625,
          466,
          366,
          341,
          726,
          232,
          178,
          379,
          1173,
          1273,
          2145,
          1160,
          1225,
          1001,
          827,
          1014,
          997,
          749,
          410,
          889,
          2018,
          4068,
          3029,
          1401,
          631,
          458,
          366,
          501,
          430,
          709,
          345,
          389,
          1857,
          3701,
          3056,
          1395,
          686,
          925,
          899,
          1151,
          1000,
          724,
          936,
          956,
          3421,
          3208,
          3484,
          1703,
          703,
          804,
          506,
          468,
          668,
          476,
          430,
          673,
          1092,
          2606,
          3645,
          1693,
          573,
          581,
          744,
          1348,
          977,
          387,
          431,
          406,
          909,
          2343,
          2351,
          960,
          1177,
          892,
          954,
          1176,
          1534,
          1303,
          1106,
          1246,
          2324,
          4475,
          3358,
          1310,
          879,
          524,
          1408,
          2045,
          1432,
          1944,
          1398,
          1389,
          3614,
          4139,
          2408,
          1945,
          1196,
          1352,
          1227,
          850,
          2027,
          753,
          890,
          2435,
          2904,
          2607,
          3296,
          2134,
          516,
          569,
          679,
          508,
          1862,
          2774,
          1093,
          1498,
          4306,
          3884,
          2822,
          1848,
          1072,
          713,
          986,
          802,
          310,
          531,
          497,
          1311,
          957,
          1735,
          2824,
          970,
          499,
          398,
          456,
          481,
          1086,
          873,
          956,
          1682,
          1568,
          5289,
          3812,
          1162,
          582,
          484,
          446,
          585,
          368,
          348,
          585,
          1382,
          1677,
          2758,
          3425,
          1130,
          642,
          636,
          670,
          1350,
          1456,
          1892,
          1685,
          2719,
          2669,
          6733,
          4556,
          1787,
          1724,
          1269,
          866,
          833,
          1030,
          784,
          981,
          634,
          2475,
          4860,
          2397,
          1513,
          930,
          682,
          948,
          924,
          1159,
          1052,
          1129,
          1718,
          2039,
          2971,
          2995,
          1475,
          1304,
          1232,
          892,
          818,
          1259,
          1257,
          865,
          2119,
          3530,
          4341,
          2962,
          1079,
          874,
          969,
          593,
          551,
          362,
          797,
          226,
          803,
          933,
          3466,
          3395,
          1061,
          746,
          824,
          1127,
          1936,
          2548,
          1480,
          1515,
          1936,
          3704,
          3120,
          1974,
          1463,
          1465,
          967,
          1122,
          1051,
          1034,
          1007,
          681,
          1713,
          1461,
          2791,
          1956,
          1304,
          1299,
          1009,
          820,
          753,
          1046,
          1713,
          748,
          1420,
          1457,
          3474,
          2535,
          1514,
          884,
          933,
          830,
          856,
          795,
          1299,
          706,
          2473,
          2081,
          4383,
          3729,
          1441,
          620,
          777,
          826,
          565,
          846,
          1382,
          737,
          1753,
          2179,
          3512,
          2797,
          1612,
          667,
          841,
          1132,
          1054,
          1494,
          921,
          377
         ],
         "yaxis": "y"
        },
        {
         "hovertemplate": "Causes=Equipment Use<br>DISC_YM=%{x}<br>Total Count=%{y}<extra></extra>",
         "legendgroup": "Equipment Use",
         "line": {
          "color": "#FFA15A",
          "dash": "solid"
         },
         "marker": {
          "symbol": "circle"
         },
         "mode": "lines",
         "name": "Equipment Use",
         "showlegend": true,
         "type": "scattergl",
         "x": [
          "1992-01",
          "1992-02",
          "1992-03",
          "1992-04",
          "1992-05",
          "1992-06",
          "1992-07",
          "1992-08",
          "1992-09",
          "1992-10",
          "1992-11",
          "1992-12",
          "1993-01",
          "1993-02",
          "1993-03",
          "1993-04",
          "1993-05",
          "1993-06",
          "1993-07",
          "1993-08",
          "1993-09",
          "1993-10",
          "1993-11",
          "1993-12",
          "1994-01",
          "1994-02",
          "1994-03",
          "1994-04",
          "1994-05",
          "1994-06",
          "1994-07",
          "1994-08",
          "1994-09",
          "1994-10",
          "1994-11",
          "1994-12",
          "1995-01",
          "1995-02",
          "1995-03",
          "1995-04",
          "1995-05",
          "1995-06",
          "1995-07",
          "1995-08",
          "1995-09",
          "1995-10",
          "1995-11",
          "1995-12",
          "1996-01",
          "1996-02",
          "1996-03",
          "1996-04",
          "1996-05",
          "1996-06",
          "1996-07",
          "1996-08",
          "1996-09",
          "1996-10",
          "1996-11",
          "1996-12",
          "1997-01",
          "1997-02",
          "1997-03",
          "1997-04",
          "1997-05",
          "1997-06",
          "1997-07",
          "1997-08",
          "1997-09",
          "1997-10",
          "1997-11",
          "1997-12",
          "1998-01",
          "1998-02",
          "1998-03",
          "1998-04",
          "1998-05",
          "1998-06",
          "1998-07",
          "1998-08",
          "1998-09",
          "1998-10",
          "1998-11",
          "1998-12",
          "1999-01",
          "1999-02",
          "1999-03",
          "1999-04",
          "1999-05",
          "1999-06",
          "1999-07",
          "1999-08",
          "1999-09",
          "1999-10",
          "1999-11",
          "1999-12",
          "2000-01",
          "2000-02",
          "2000-03",
          "2000-04",
          "2000-05",
          "2000-06",
          "2000-07",
          "2000-08",
          "2000-09",
          "2000-10",
          "2000-11",
          "2000-12",
          "2001-01",
          "2001-02",
          "2001-03",
          "2001-04",
          "2001-05",
          "2001-06",
          "2001-07",
          "2001-08",
          "2001-09",
          "2001-10",
          "2001-11",
          "2001-12",
          "2002-01",
          "2002-02",
          "2002-03",
          "2002-04",
          "2002-05",
          "2002-06",
          "2002-07",
          "2002-08",
          "2002-09",
          "2002-10",
          "2002-11",
          "2002-12",
          "2003-01",
          "2003-02",
          "2003-03",
          "2003-04",
          "2003-05",
          "2003-06",
          "2003-07",
          "2003-08",
          "2003-09",
          "2003-10",
          "2003-11",
          "2003-12",
          "2004-01",
          "2004-02",
          "2004-03",
          "2004-04",
          "2004-05",
          "2004-06",
          "2004-07",
          "2004-08",
          "2004-09",
          "2004-10",
          "2004-11",
          "2004-12",
          "2005-01",
          "2005-02",
          "2005-03",
          "2005-04",
          "2005-05",
          "2005-06",
          "2005-07",
          "2005-08",
          "2005-09",
          "2005-10",
          "2005-11",
          "2005-12",
          "2006-01",
          "2006-02",
          "2006-03",
          "2006-04",
          "2006-05",
          "2006-06",
          "2006-07",
          "2006-08",
          "2006-09",
          "2006-10",
          "2006-11",
          "2006-12",
          "2007-01",
          "2007-02",
          "2007-03",
          "2007-04",
          "2007-05",
          "2007-06",
          "2007-07",
          "2007-08",
          "2007-09",
          "2007-10",
          "2007-11",
          "2007-12",
          "2008-01",
          "2008-02",
          "2008-03",
          "2008-04",
          "2008-05",
          "2008-06",
          "2008-07",
          "2008-08",
          "2008-09",
          "2008-10",
          "2008-11",
          "2008-12",
          "2009-01",
          "2009-02",
          "2009-03",
          "2009-04",
          "2009-05",
          "2009-06",
          "2009-07",
          "2009-08",
          "2009-09",
          "2009-10",
          "2009-11",
          "2009-12",
          "2010-01",
          "2010-02",
          "2010-03",
          "2010-04",
          "2010-05",
          "2010-06",
          "2010-07",
          "2010-08",
          "2010-09",
          "2010-10",
          "2010-11",
          "2010-12",
          "2011-01",
          "2011-02",
          "2011-03",
          "2011-04",
          "2011-05",
          "2011-06",
          "2011-07",
          "2011-08",
          "2011-09",
          "2011-10",
          "2011-11",
          "2011-12",
          "2012-01",
          "2012-02",
          "2012-03",
          "2012-04",
          "2012-05",
          "2012-06",
          "2012-07",
          "2012-08",
          "2012-09",
          "2012-10",
          "2012-11",
          "2012-12",
          "2013-01",
          "2013-02",
          "2013-03",
          "2013-04",
          "2013-05",
          "2013-06",
          "2013-07",
          "2013-08",
          "2013-09",
          "2013-10",
          "2013-11",
          "2013-12",
          "2014-01",
          "2014-02",
          "2014-03",
          "2014-04",
          "2014-05",
          "2014-06",
          "2014-07",
          "2014-08",
          "2014-09",
          "2014-10",
          "2014-11",
          "2014-12",
          "2015-01",
          "2015-02",
          "2015-03",
          "2015-04",
          "2015-05",
          "2015-06",
          "2015-07",
          "2015-08",
          "2015-09",
          "2015-10",
          "2015-11",
          "2015-12"
         ],
         "xaxis": "x",
         "y": [
          301,
          294,
          403,
          488,
          906,
          692,
          760,
          648,
          476,
          368,
          158,
          139,
          114,
          282,
          234,
          430,
          610,
          810,
          801,
          724,
          620,
          391,
          307,
          193,
          227,
          269,
          524,
          604,
          663,
          721,
          706,
          626,
          420,
          318,
          243,
          108,
          126,
          295,
          456,
          502,
          522,
          516,
          779,
          760,
          601,
          491,
          296,
          250,
          263,
          520,
          504,
          569,
          661,
          734,
          812,
          696,
          460,
          430,
          245,
          134,
          255,
          327,
          503,
          670,
          647,
          606,
          700,
          613,
          657,
          460,
          190,
          116,
          109,
          203,
          316,
          488,
          483,
          912,
          868,
          881,
          622,
          574,
          322,
          249,
          281,
          433,
          735,
          742,
          619,
          754,
          826,
          939,
          857,
          637,
          510,
          310,
          287,
          345,
          619,
          573,
          800,
          777,
          781,
          795,
          586,
          614,
          217,
          214,
          402,
          392,
          387,
          547,
          769,
          728,
          789,
          694,
          427,
          613,
          655,
          178,
          196,
          477,
          413,
          490,
          621,
          741,
          716,
          659,
          525,
          242,
          182,
          120,
          264,
          225,
          217,
          563,
          463,
          565,
          906,
          728,
          580,
          641,
          270,
          173,
          245,
          180,
          574,
          737,
          735,
          616,
          740,
          581,
          510,
          273,
          176,
          159,
          249,
          238,
          464,
          663,
          557,
          701,
          965,
          855,
          877,
          601,
          600,
          378,
          773,
          594,
          1000,
          944,
          773,
          1256,
          1491,
          1029,
          613,
          508,
          291,
          297,
          226,
          428,
          677,
          642,
          899,
          768,
          814,
          939,
          586,
          453,
          466,
          332,
          433,
          704,
          665,
          639,
          695,
          1024,
          942,
          754,
          475,
          504,
          362,
          267,
          491,
          751,
          695,
          715,
          555,
          619,
          862,
          557,
          445,
          188,
          253,
          94,
          179,
          143,
          502,
          658,
          417,
          551,
          638,
          757,
          716,
          660,
          322,
          266,
          316,
          455,
          488,
          548,
          625,
          861,
          951,
          1044,
          769,
          503,
          209,
          127,
          258,
          220,
          424,
          541,
          604,
          793,
          865,
          658,
          496,
          330,
          306,
          133,
          198,
          190,
          361,
          490,
          586,
          483,
          605,
          461,
          346,
          219,
          289,
          106,
          349,
          246,
          427,
          544,
          508,
          487,
          573,
          445,
          300,
          255,
          273,
          112,
          298,
          248,
          462,
          646,
          516,
          470,
          616,
          678,
          591,
          593,
          257,
          109
         ],
         "yaxis": "y"
        },
        {
         "hovertemplate": "Causes=Fireworks<br>DISC_YM=%{x}<br>Total Count=%{y}<extra></extra>",
         "legendgroup": "Fireworks",
         "line": {
          "color": "#19d3f3",
          "dash": "solid"
         },
         "marker": {
          "symbol": "circle"
         },
         "mode": "lines",
         "name": "Fireworks",
         "showlegend": true,
         "type": "scattergl",
         "x": [
          "1992-01",
          "1992-02",
          "1992-03",
          "1992-04",
          "1992-05",
          "1992-06",
          "1992-07",
          "1992-08",
          "1992-09",
          "1992-10",
          "1992-11",
          "1993-01",
          "1993-02",
          "1993-03",
          "1993-04",
          "1993-05",
          "1993-06",
          "1993-07",
          "1993-08",
          "1993-09",
          "1993-10",
          "1993-11",
          "1993-12",
          "1994-01",
          "1994-03",
          "1994-04",
          "1994-05",
          "1994-06",
          "1994-07",
          "1994-08",
          "1994-09",
          "1994-10",
          "1994-11",
          "1994-12",
          "1995-02",
          "1995-03",
          "1995-04",
          "1995-05",
          "1995-06",
          "1995-07",
          "1995-08",
          "1995-09",
          "1995-10",
          "1995-11",
          "1995-12",
          "1996-03",
          "1996-04",
          "1996-05",
          "1996-06",
          "1996-07",
          "1996-08",
          "1996-09",
          "1996-10",
          "1996-11",
          "1996-12",
          "1997-01",
          "1997-02",
          "1997-03",
          "1997-04",
          "1997-05",
          "1997-06",
          "1997-07",
          "1997-08",
          "1997-09",
          "1997-10",
          "1997-11",
          "1997-12",
          "1998-01",
          "1998-03",
          "1998-04",
          "1998-05",
          "1998-06",
          "1998-07",
          "1998-08",
          "1998-09",
          "1998-10",
          "1998-11",
          "1998-12",
          "1999-01",
          "1999-02",
          "1999-03",
          "1999-04",
          "1999-05",
          "1999-06",
          "1999-07",
          "1999-08",
          "1999-09",
          "1999-10",
          "1999-11",
          "1999-12",
          "2000-01",
          "2000-02",
          "2000-03",
          "2000-04",
          "2000-05",
          "2000-06",
          "2000-07",
          "2000-08",
          "2000-09",
          "2000-10",
          "2000-11",
          "2001-01",
          "2001-02",
          "2001-03",
          "2001-04",
          "2001-05",
          "2001-06",
          "2001-07",
          "2001-08",
          "2001-09",
          "2001-10",
          "2001-11",
          "2001-12",
          "2002-01",
          "2002-02",
          "2002-03",
          "2002-04",
          "2002-05",
          "2002-06",
          "2002-07",
          "2002-08",
          "2002-09",
          "2002-10",
          "2002-11",
          "2002-12",
          "2003-01",
          "2003-02",
          "2003-03",
          "2003-04",
          "2003-05",
          "2003-06",
          "2003-07",
          "2003-08",
          "2003-09",
          "2003-10",
          "2003-11",
          "2003-12",
          "2004-01",
          "2004-02",
          "2004-03",
          "2004-04",
          "2004-05",
          "2004-06",
          "2004-07",
          "2004-08",
          "2004-09",
          "2004-10",
          "2004-11",
          "2004-12",
          "2005-02",
          "2005-03",
          "2005-04",
          "2005-05",
          "2005-06",
          "2005-07",
          "2005-08",
          "2005-09",
          "2005-10",
          "2005-11",
          "2005-12",
          "2006-01",
          "2006-02",
          "2006-03",
          "2006-04",
          "2006-05",
          "2006-06",
          "2006-07",
          "2006-08",
          "2006-09",
          "2006-11",
          "2006-12",
          "2007-01",
          "2007-02",
          "2007-03",
          "2007-04",
          "2007-05",
          "2007-06",
          "2007-07",
          "2007-08",
          "2007-09",
          "2007-10",
          "2007-12",
          "2008-01",
          "2008-02",
          "2008-03",
          "2008-04",
          "2008-05",
          "2008-06",
          "2008-07",
          "2008-08",
          "2008-09",
          "2008-10",
          "2009-01",
          "2009-02",
          "2009-03",
          "2009-04",
          "2009-05",
          "2009-06",
          "2009-07",
          "2009-08",
          "2009-09",
          "2009-10",
          "2009-11",
          "2009-12",
          "2010-01",
          "2010-02",
          "2010-03",
          "2010-04",
          "2010-05",
          "2010-06",
          "2010-07",
          "2010-08",
          "2010-09",
          "2010-10",
          "2010-11",
          "2010-12",
          "2011-01",
          "2011-02",
          "2011-03",
          "2011-04",
          "2011-05",
          "2011-06",
          "2011-07",
          "2011-08",
          "2011-09",
          "2011-10",
          "2011-11",
          "2011-12",
          "2012-01",
          "2012-02",
          "2012-03",
          "2012-04",
          "2012-05",
          "2012-06",
          "2012-07",
          "2012-08",
          "2012-09",
          "2012-10",
          "2012-11",
          "2012-12",
          "2013-01",
          "2013-02",
          "2013-03",
          "2013-04",
          "2013-05",
          "2013-06",
          "2013-07",
          "2013-08",
          "2013-09",
          "2013-10",
          "2013-11",
          "2013-12",
          "2014-01",
          "2014-02",
          "2014-03",
          "2014-04",
          "2014-05",
          "2014-06",
          "2014-07",
          "2014-08",
          "2014-09",
          "2014-10",
          "2014-11",
          "2014-12",
          "2015-01",
          "2015-02",
          "2015-03",
          "2015-04",
          "2015-05",
          "2015-06",
          "2015-07",
          "2015-08",
          "2015-09",
          "2015-10",
          "2015-11",
          "2015-12"
         ],
         "xaxis": "x",
         "y": [
          1,
          3,
          3,
          7,
          16,
          49,
          90,
          11,
          2,
          11,
          20,
          7,
          6,
          2,
          3,
          10,
          43,
          137,
          6,
          7,
          8,
          12,
          2,
          1,
          3,
          11,
          10,
          92,
          222,
          9,
          4,
          23,
          35,
          3,
          2,
          9,
          18,
          7,
          29,
          104,
          13,
          8,
          5,
          6,
          1,
          3,
          14,
          7,
          41,
          207,
          20,
          6,
          13,
          9,
          2,
          2,
          1,
          5,
          21,
          16,
          44,
          160,
          12,
          1,
          6,
          5,
          3,
          1,
          17,
          17,
          21,
          58,
          119,
          17,
          11,
          12,
          27,
          6,
          3,
          4,
          18,
          17,
          9,
          57,
          140,
          6,
          7,
          9,
          44,
          16,
          17,
          3,
          9,
          17,
          10,
          53,
          149,
          15,
          1,
          17,
          1,
          3,
          6,
          1,
          26,
          18,
          56,
          209,
          20,
          9,
          30,
          43,
          5,
          6,
          6,
          10,
          22,
          18,
          101,
          235,
          16,
          14,
          2,
          1,
          2,
          3,
          2,
          10,
          7,
          1,
          50,
          325,
          25,
          7,
          6,
          7,
          1,
          2,
          5,
          6,
          7,
          7,
          167,
          202,
          13,
          3,
          1,
          6,
          1,
          1,
          5,
          24,
          9,
          70,
          369,
          26,
          9,
          5,
          21,
          4,
          3,
          2,
          1,
          5,
          14,
          409,
          548,
          18,
          7,
          1,
          1,
          1,
          5,
          9,
          10,
          5,
          277,
          361,
          12,
          6,
          2,
          1,
          2,
          1,
          3,
          6,
          9,
          76,
          293,
          12,
          8,
          2,
          14,
          12,
          26,
          19,
          31,
          77,
          400,
          18,
          13,
          3,
          19,
          2,
          9,
          4,
          24,
          56,
          32,
          82,
          342,
          24,
          21,
          37,
          21,
          14,
          31,
          10,
          7,
          13,
          12,
          37,
          268,
          32,
          14,
          2,
          18,
          7,
          26,
          7,
          15,
          30,
          15,
          193,
          532,
          33,
          20,
          10,
          20,
          9,
          17,
          14,
          46,
          42,
          28,
          69,
          350,
          63,
          50,
          5,
          19,
          6,
          17,
          13,
          25,
          32,
          25,
          66,
          354,
          13,
          10,
          4,
          11,
          2,
          17,
          10,
          24,
          25,
          24,
          78,
          330,
          27,
          15,
          6,
          27,
          2
         ],
         "yaxis": "y"
        },
        {
         "hovertemplate": "Causes=Lightning<br>DISC_YM=%{x}<br>Total Count=%{y}<extra></extra>",
         "legendgroup": "Lightning",
         "line": {
          "color": "#FF6692",
          "dash": "solid"
         },
         "marker": {
          "symbol": "circle"
         },
         "mode": "lines",
         "name": "Lightning",
         "showlegend": true,
         "type": "scattergl",
         "x": [
          "1992-01",
          "1992-02",
          "1992-03",
          "1992-04",
          "1992-05",
          "1992-06",
          "1992-07",
          "1992-08",
          "1992-09",
          "1992-10",
          "1992-11",
          "1992-12",
          "1993-01",
          "1993-02",
          "1993-03",
          "1993-04",
          "1993-05",
          "1993-06",
          "1993-07",
          "1993-08",
          "1993-09",
          "1993-10",
          "1993-11",
          "1993-12",
          "1994-01",
          "1994-02",
          "1994-03",
          "1994-04",
          "1994-05",
          "1994-06",
          "1994-07",
          "1994-08",
          "1994-09",
          "1994-10",
          "1994-11",
          "1994-12",
          "1995-01",
          "1995-02",
          "1995-03",
          "1995-04",
          "1995-05",
          "1995-06",
          "1995-07",
          "1995-08",
          "1995-09",
          "1995-10",
          "1995-11",
          "1995-12",
          "1996-01",
          "1996-02",
          "1996-03",
          "1996-04",
          "1996-05",
          "1996-06",
          "1996-07",
          "1996-08",
          "1996-09",
          "1996-10",
          "1996-11",
          "1996-12",
          "1997-01",
          "1997-02",
          "1997-03",
          "1997-04",
          "1997-05",
          "1997-06",
          "1997-07",
          "1997-08",
          "1997-09",
          "1997-10",
          "1997-11",
          "1997-12",
          "1998-01",
          "1998-02",
          "1998-03",
          "1998-04",
          "1998-05",
          "1998-06",
          "1998-07",
          "1998-08",
          "1998-09",
          "1998-10",
          "1998-11",
          "1998-12",
          "1999-01",
          "1999-02",
          "1999-03",
          "1999-04",
          "1999-05",
          "1999-06",
          "1999-07",
          "1999-08",
          "1999-09",
          "1999-10",
          "1999-11",
          "1999-12",
          "2000-01",
          "2000-02",
          "2000-03",
          "2000-04",
          "2000-05",
          "2000-06",
          "2000-07",
          "2000-08",
          "2000-09",
          "2000-10",
          "2000-11",
          "2000-12",
          "2001-01",
          "2001-02",
          "2001-03",
          "2001-04",
          "2001-05",
          "2001-06",
          "2001-07",
          "2001-08",
          "2001-09",
          "2001-10",
          "2001-11",
          "2001-12",
          "2002-01",
          "2002-02",
          "2002-03",
          "2002-04",
          "2002-05",
          "2002-06",
          "2002-07",
          "2002-08",
          "2002-09",
          "2002-10",
          "2002-11",
          "2002-12",
          "2003-01",
          "2003-02",
          "2003-03",
          "2003-04",
          "2003-05",
          "2003-06",
          "2003-07",
          "2003-08",
          "2003-09",
          "2003-10",
          "2003-11",
          "2003-12",
          "2004-01",
          "2004-02",
          "2004-03",
          "2004-04",
          "2004-05",
          "2004-06",
          "2004-07",
          "2004-08",
          "2004-09",
          "2004-10",
          "2004-11",
          "2004-12",
          "2005-01",
          "2005-02",
          "2005-03",
          "2005-04",
          "2005-05",
          "2005-06",
          "2005-07",
          "2005-08",
          "2005-09",
          "2005-10",
          "2005-11",
          "2005-12",
          "2006-01",
          "2006-02",
          "2006-03",
          "2006-04",
          "2006-05",
          "2006-06",
          "2006-07",
          "2006-08",
          "2006-09",
          "2006-10",
          "2006-11",
          "2006-12",
          "2007-01",
          "2007-02",
          "2007-03",
          "2007-04",
          "2007-05",
          "2007-06",
          "2007-07",
          "2007-08",
          "2007-09",
          "2007-10",
          "2007-11",
          "2007-12",
          "2008-01",
          "2008-02",
          "2008-03",
          "2008-04",
          "2008-05",
          "2008-06",
          "2008-07",
          "2008-08",
          "2008-09",
          "2008-10",
          "2008-11",
          "2008-12",
          "2009-01",
          "2009-02",
          "2009-03",
          "2009-04",
          "2009-05",
          "2009-06",
          "2009-07",
          "2009-08",
          "2009-09",
          "2009-10",
          "2009-11",
          "2009-12",
          "2010-01",
          "2010-02",
          "2010-03",
          "2010-04",
          "2010-05",
          "2010-06",
          "2010-07",
          "2010-08",
          "2010-09",
          "2010-10",
          "2010-11",
          "2010-12",
          "2011-01",
          "2011-02",
          "2011-03",
          "2011-04",
          "2011-05",
          "2011-06",
          "2011-07",
          "2011-08",
          "2011-09",
          "2011-10",
          "2011-11",
          "2011-12",
          "2012-01",
          "2012-02",
          "2012-03",
          "2012-04",
          "2012-05",
          "2012-06",
          "2012-07",
          "2012-08",
          "2012-09",
          "2012-10",
          "2012-11",
          "2012-12",
          "2013-01",
          "2013-02",
          "2013-03",
          "2013-04",
          "2013-05",
          "2013-06",
          "2013-07",
          "2013-08",
          "2013-09",
          "2013-10",
          "2013-11",
          "2013-12",
          "2014-01",
          "2014-02",
          "2014-03",
          "2014-04",
          "2014-05",
          "2014-06",
          "2014-07",
          "2014-08",
          "2014-09",
          "2014-10",
          "2014-11",
          "2014-12",
          "2015-01",
          "2015-02",
          "2015-03",
          "2015-04",
          "2015-05",
          "2015-06",
          "2015-07",
          "2015-08",
          "2015-09",
          "2015-10",
          "2015-11",
          "2015-12"
         ],
         "xaxis": "x",
         "y": [
          4,
          10,
          47,
          117,
          1088,
          3076,
          2935,
          3739,
          935,
          266,
          11,
          2,
          2,
          10,
          28,
          43,
          702,
          1400,
          1654,
          2790,
          608,
          276,
          22,
          3,
          6,
          8,
          48,
          302,
          725,
          1566,
          6296,
          4815,
          2256,
          171,
          11,
          1,
          4,
          11,
          53,
          67,
          330,
          1201,
          2765,
          1669,
          1898,
          49,
          14,
          14,
          8,
          14,
          32,
          96,
          265,
          1866,
          4059,
          4892,
          1197,
          189,
          13,
          3,
          21,
          16,
          60,
          94,
          889,
          938,
          3035,
          2159,
          1145,
          69,
          16,
          5,
          9,
          20,
          25,
          85,
          309,
          1560,
          4101,
          3338,
          1303,
          105,
          18,
          7,
          18,
          40,
          81,
          371,
          1001,
          1450,
          2340,
          5359,
          975,
          90,
          56,
          16,
          25,
          76,
          150,
          158,
          678,
          2893,
          4682,
          6317,
          1301,
          243,
          14,
          10,
          15,
          25,
          95,
          212,
          899,
          2023,
          4838,
          3539,
          1922,
          194,
          46,
          17,
          39,
          55,
          110,
          462,
          560,
          1772,
          5410,
          3127,
          721,
          132,
          56,
          21,
          10,
          6,
          52,
          185,
          760,
          1617,
          4571,
          4985,
          1398,
          194,
          43,
          7,
          6,
          10,
          86,
          211,
          401,
          2992,
          3806,
          3503,
          519,
          152,
          36,
          4,
          133,
          56,
          254,
          374,
          598,
          1450,
          3068,
          2966,
          1238,
          520,
          262,
          184,
          99,
          36,
          156,
          534,
          1309,
          2924,
          6091,
          4714,
          854,
          198,
          22,
          12,
          5,
          39,
          94,
          201,
          1099,
          1699,
          5225,
          2947,
          1143,
          200,
          48,
          11,
          25,
          32,
          64,
          271,
          340,
          2890,
          2549,
          3069,
          502,
          105,
          43,
          14,
          16,
          25,
          129,
          360,
          964,
          1253,
          3511,
          2740,
          1336,
          78,
          25,
          12,
          70,
          74,
          240,
          375,
          590,
          1386,
          2909,
          2295,
          527,
          437,
          61,
          19,
          25,
          16,
          93,
          413,
          686,
          2042,
          2909,
          4252,
          1776,
          250,
          64,
          12,
          20,
          36,
          261,
          383,
          673,
          1007,
          4448,
          3272,
          830,
          128,
          50,
          22,
          16,
          20,
          107,
          166,
          610,
          1132,
          2655,
          4184,
          1189,
          54,
          18,
          3,
          15,
          19,
          60,
          246,
          406,
          702,
          3731,
          2800,
          420,
          94,
          36,
          9,
          13,
          12,
          44,
          320,
          802,
          2158,
          3077,
          2633,
          488,
          207,
          47,
          11
         ],
         "yaxis": "y"
        },
        {
         "hovertemplate": "Causes=Miscellaneous<br>DISC_YM=%{x}<br>Total Count=%{y}<extra></extra>",
         "legendgroup": "Miscellaneous",
         "line": {
          "color": "#B6E880",
          "dash": "solid"
         },
         "marker": {
          "symbol": "circle"
         },
         "mode": "lines",
         "name": "Miscellaneous",
         "showlegend": true,
         "type": "scattergl",
         "x": [
          "1992-01",
          "1992-02",
          "1992-03",
          "1992-04",
          "1992-05",
          "1992-06",
          "1992-07",
          "1992-08",
          "1992-09",
          "1992-10",
          "1992-11",
          "1992-12",
          "1993-01",
          "1993-02",
          "1993-03",
          "1993-04",
          "1993-05",
          "1993-06",
          "1993-07",
          "1993-08",
          "1993-09",
          "1993-10",
          "1993-11",
          "1993-12",
          "1994-01",
          "1994-02",
          "1994-03",
          "1994-04",
          "1994-05",
          "1994-06",
          "1994-07",
          "1994-08",
          "1994-09",
          "1994-10",
          "1994-11",
          "1994-12",
          "1995-01",
          "1995-02",
          "1995-03",
          "1995-04",
          "1995-05",
          "1995-06",
          "1995-07",
          "1995-08",
          "1995-09",
          "1995-10",
          "1995-11",
          "1995-12",
          "1996-01",
          "1996-02",
          "1996-03",
          "1996-04",
          "1996-05",
          "1996-06",
          "1996-07",
          "1996-08",
          "1996-09",
          "1996-10",
          "1996-11",
          "1996-12",
          "1997-01",
          "1997-02",
          "1997-03",
          "1997-04",
          "1997-05",
          "1997-06",
          "1997-07",
          "1997-08",
          "1997-09",
          "1997-10",
          "1997-11",
          "1997-12",
          "1998-01",
          "1998-02",
          "1998-03",
          "1998-04",
          "1998-05",
          "1998-06",
          "1998-07",
          "1998-08",
          "1998-09",
          "1998-10",
          "1998-11",
          "1998-12",
          "1999-01",
          "1999-02",
          "1999-03",
          "1999-04",
          "1999-05",
          "1999-06",
          "1999-07",
          "1999-08",
          "1999-09",
          "1999-10",
          "1999-11",
          "1999-12",
          "2000-01",
          "2000-02",
          "2000-03",
          "2000-04",
          "2000-05",
          "2000-06",
          "2000-07",
          "2000-08",
          "2000-09",
          "2000-10",
          "2000-11",
          "2000-12",
          "2001-01",
          "2001-02",
          "2001-03",
          "2001-04",
          "2001-05",
          "2001-06",
          "2001-07",
          "2001-08",
          "2001-09",
          "2001-10",
          "2001-11",
          "2001-12",
          "2002-01",
          "2002-02",
          "2002-03",
          "2002-04",
          "2002-05",
          "2002-06",
          "2002-07",
          "2002-08",
          "2002-09",
          "2002-10",
          "2002-11",
          "2002-12",
          "2003-01",
          "2003-02",
          "2003-03",
          "2003-04",
          "2003-05",
          "2003-06",
          "2003-07",
          "2003-08",
          "2003-09",
          "2003-10",
          "2003-11",
          "2003-12",
          "2004-01",
          "2004-02",
          "2004-03",
          "2004-04",
          "2004-05",
          "2004-06",
          "2004-07",
          "2004-08",
          "2004-09",
          "2004-10",
          "2004-11",
          "2004-12",
          "2005-01",
          "2005-02",
          "2005-03",
          "2005-04",
          "2005-05",
          "2005-06",
          "2005-07",
          "2005-08",
          "2005-09",
          "2005-10",
          "2005-11",
          "2005-12",
          "2006-01",
          "2006-02",
          "2006-03",
          "2006-04",
          "2006-05",
          "2006-06",
          "2006-07",
          "2006-08",
          "2006-09",
          "2006-10",
          "2006-11",
          "2006-12",
          "2007-01",
          "2007-02",
          "2007-03",
          "2007-04",
          "2007-05",
          "2007-06",
          "2007-07",
          "2007-08",
          "2007-09",
          "2007-10",
          "2007-11",
          "2007-12",
          "2008-01",
          "2008-02",
          "2008-03",
          "2008-04",
          "2008-05",
          "2008-06",
          "2008-07",
          "2008-08",
          "2008-09",
          "2008-10",
          "2008-11",
          "2008-12",
          "2009-01",
          "2009-02",
          "2009-03",
          "2009-04",
          "2009-05",
          "2009-06",
          "2009-07",
          "2009-08",
          "2009-09",
          "2009-10",
          "2009-11",
          "2009-12",
          "2010-01",
          "2010-02",
          "2010-03",
          "2010-04",
          "2010-05",
          "2010-06",
          "2010-07",
          "2010-08",
          "2010-09",
          "2010-10",
          "2010-11",
          "2010-12",
          "2011-01",
          "2011-02",
          "2011-03",
          "2011-04",
          "2011-05",
          "2011-06",
          "2011-07",
          "2011-08",
          "2011-09",
          "2011-10",
          "2011-11",
          "2011-12",
          "2012-01",
          "2012-02",
          "2012-03",
          "2012-04",
          "2012-05",
          "2012-06",
          "2012-07",
          "2012-08",
          "2012-09",
          "2012-10",
          "2012-11",
          "2012-12",
          "2013-01",
          "2013-02",
          "2013-03",
          "2013-04",
          "2013-05",
          "2013-06",
          "2013-07",
          "2013-08",
          "2013-09",
          "2013-10",
          "2013-11",
          "2013-12",
          "2014-01",
          "2014-02",
          "2014-03",
          "2014-04",
          "2014-05",
          "2014-06",
          "2014-07",
          "2014-08",
          "2014-09",
          "2014-10",
          "2014-11",
          "2014-12",
          "2015-01",
          "2015-02",
          "2015-03",
          "2015-04",
          "2015-05",
          "2015-06",
          "2015-07",
          "2015-08",
          "2015-09",
          "2015-10",
          "2015-11",
          "2015-12"
         ],
         "xaxis": "x",
         "y": [
          297,
          418,
          466,
          673,
          1139,
          978,
          1138,
          806,
          582,
          477,
          243,
          147,
          94,
          257,
          361,
          686,
          968,
          786,
          1208,
          810,
          647,
          450,
          401,
          179,
          274,
          309,
          617,
          907,
          821,
          890,
          1084,
          763,
          531,
          376,
          324,
          175,
          129,
          426,
          556,
          874,
          673,
          881,
          1054,
          791,
          696,
          554,
          369,
          294,
          257,
          600,
          609,
          797,
          814,
          715,
          1155,
          792,
          491,
          480,
          257,
          148,
          615,
          653,
          1629,
          1478,
          1107,
          668,
          977,
          693,
          750,
          559,
          284,
          250,
          166,
          379,
          880,
          1003,
          734,
          1075,
          1476,
          1243,
          937,
          718,
          443,
          280,
          461,
          768,
          1139,
          1209,
          938,
          877,
          1140,
          1401,
          1544,
          1114,
          1140,
          677,
          1563,
          3196,
          2269,
          1610,
          1685,
          1352,
          1874,
          1868,
          1469,
          1214,
          534,
          403,
          622,
          746,
          866,
          1423,
          1512,
          1097,
          1279,
          1048,
          658,
          1044,
          1370,
          373,
          578,
          1324,
          1103,
          1437,
          1594,
          1087,
          1436,
          1341,
          1024,
          551,
          632,
          317,
          538,
          283,
          638,
          2279,
          1125,
          981,
          1679,
          994,
          738,
          824,
          630,
          389,
          418,
          410,
          1320,
          1935,
          1068,
          1039,
          1167,
          825,
          712,
          466,
          600,
          340,
          411,
          394,
          915,
          3376,
          1516,
          1472,
          1819,
          1661,
          1555,
          906,
          1244,
          1101,
          2318,
          1556,
          3273,
          3554,
          1894,
          1809,
          2363,
          1798,
          1000,
          929,
          683,
          669,
          518,
          924,
          1508,
          2059,
          2466,
          1984,
          2166,
          1831,
          1519,
          1101,
          998,
          819,
          1767,
          1700,
          1865,
          3196,
          2075,
          2193,
          2336,
          1543,
          1060,
          1107,
          1110,
          725,
          1194,
          1463,
          2169,
          2798,
          1462,
          1143,
          1891,
          1197,
          939,
          471,
          743,
          227,
          497,
          382,
          1453,
          2373,
          1399,
          1435,
          2159,
          1732,
          1690,
          1686,
          1268,
          1147,
          933,
          1311,
          1609,
          1875,
          1527,
          1879,
          2174,
          1920,
          1829,
          1093,
          941,
          538,
          950,
          852,
          1884,
          2051,
          1290,
          1681,
          2480,
          1482,
          1195,
          912,
          1011,
          435,
          750,
          726,
          1987,
          1820,
          1988,
          1592,
          1897,
          1288,
          948,
          703,
          1054,
          408,
          1423,
          859,
          1886,
          2227,
          1532,
          1136,
          1400,
          1187,
          836,
          872,
          1135,
          480,
          1030,
          1216,
          1856,
          2098,
          2194,
          1208,
          1711,
          1881,
          1609,
          1779,
          1023,
          514
         ],
         "yaxis": "y"
        },
        {
         "hovertemplate": "Causes=Missing/Undefined<br>DISC_YM=%{x}<br>Total Count=%{y}<extra></extra>",
         "legendgroup": "Missing/Undefined",
         "line": {
          "color": "#FF97FF",
          "dash": "solid"
         },
         "marker": {
          "symbol": "circle"
         },
         "mode": "lines",
         "name": "Missing/Undefined",
         "showlegend": true,
         "type": "scattergl",
         "x": [
          "1992-01",
          "1992-02",
          "1992-03",
          "1992-04",
          "1992-05",
          "1992-06",
          "1992-07",
          "1992-08",
          "1992-09",
          "1992-10",
          "1992-11",
          "1992-12",
          "1993-01",
          "1993-02",
          "1993-03",
          "1993-04",
          "1993-05",
          "1993-06",
          "1993-07",
          "1993-08",
          "1993-09",
          "1993-10",
          "1993-11",
          "1993-12",
          "1994-01",
          "1994-02",
          "1994-03",
          "1994-04",
          "1994-05",
          "1994-06",
          "1994-07",
          "1994-08",
          "1994-09",
          "1994-10",
          "1994-11",
          "1994-12",
          "1995-01",
          "1995-02",
          "1995-03",
          "1995-04",
          "1995-05",
          "1995-06",
          "1995-07",
          "1995-08",
          "1995-09",
          "1995-10",
          "1995-11",
          "1995-12",
          "1996-01",
          "1996-02",
          "1996-03",
          "1996-04",
          "1996-05",
          "1996-06",
          "1996-07",
          "1996-08",
          "1996-09",
          "1996-10",
          "1996-11",
          "1996-12",
          "1997-01",
          "1997-02",
          "1997-03",
          "1997-04",
          "1997-05",
          "1997-06",
          "1997-07",
          "1997-08",
          "1997-09",
          "1997-10",
          "1997-11",
          "1997-12",
          "1998-01",
          "1998-02",
          "1998-03",
          "1998-04",
          "1998-05",
          "1998-06",
          "1998-07",
          "1998-08",
          "1998-09",
          "1998-10",
          "1998-11",
          "1998-12",
          "1999-01",
          "1999-02",
          "1999-03",
          "1999-04",
          "1999-05",
          "1999-06",
          "1999-07",
          "1999-08",
          "1999-09",
          "1999-10",
          "1999-11",
          "1999-12",
          "2000-01",
          "2000-02",
          "2000-03",
          "2000-04",
          "2000-05",
          "2000-06",
          "2000-07",
          "2000-08",
          "2000-09",
          "2000-10",
          "2000-11",
          "2000-12",
          "2001-01",
          "2001-02",
          "2001-03",
          "2001-04",
          "2001-05",
          "2001-06",
          "2001-07",
          "2001-08",
          "2001-09",
          "2001-10",
          "2001-11",
          "2001-12",
          "2002-01",
          "2002-02",
          "2002-03",
          "2002-04",
          "2002-05",
          "2002-06",
          "2002-07",
          "2002-08",
          "2002-09",
          "2002-10",
          "2002-11",
          "2002-12",
          "2003-01",
          "2003-02",
          "2003-03",
          "2003-04",
          "2003-05",
          "2003-06",
          "2003-07",
          "2003-08",
          "2003-09",
          "2003-10",
          "2003-11",
          "2003-12",
          "2004-01",
          "2004-02",
          "2004-03",
          "2004-04",
          "2004-05",
          "2004-06",
          "2004-07",
          "2004-08",
          "2004-09",
          "2004-10",
          "2004-11",
          "2004-12",
          "2005-01",
          "2005-02",
          "2005-03",
          "2005-04",
          "2005-05",
          "2005-06",
          "2005-07",
          "2005-08",
          "2005-09",
          "2005-10",
          "2005-11",
          "2005-12",
          "2006-01",
          "2006-02",
          "2006-03",
          "2006-04",
          "2006-05",
          "2006-06",
          "2006-07",
          "2006-08",
          "2006-09",
          "2006-10",
          "2006-11",
          "2006-12",
          "2007-01",
          "2007-02",
          "2007-03",
          "2007-04",
          "2007-05",
          "2007-06",
          "2007-07",
          "2007-08",
          "2007-09",
          "2007-10",
          "2007-11",
          "2007-12",
          "2008-01",
          "2008-02",
          "2008-03",
          "2008-04",
          "2008-05",
          "2008-06",
          "2008-07",
          "2008-08",
          "2008-09",
          "2008-10",
          "2008-11",
          "2008-12",
          "2009-01",
          "2009-02",
          "2009-03",
          "2009-04",
          "2009-05",
          "2009-06",
          "2009-07",
          "2009-08",
          "2009-09",
          "2009-10",
          "2009-11",
          "2009-12",
          "2010-01",
          "2010-02",
          "2010-03",
          "2010-04",
          "2010-05",
          "2010-06",
          "2010-07",
          "2010-08",
          "2010-09",
          "2010-10",
          "2010-11",
          "2010-12",
          "2011-01",
          "2011-02",
          "2011-03",
          "2011-04",
          "2011-05",
          "2011-06",
          "2011-07",
          "2011-08",
          "2011-09",
          "2011-10",
          "2011-11",
          "2011-12",
          "2012-01",
          "2012-02",
          "2012-03",
          "2012-04",
          "2012-05",
          "2012-06",
          "2012-07",
          "2012-08",
          "2012-09",
          "2012-10",
          "2012-11",
          "2012-12",
          "2013-01",
          "2013-02",
          "2013-03",
          "2013-04",
          "2013-05",
          "2013-06",
          "2013-07",
          "2013-08",
          "2013-09",
          "2013-10",
          "2013-11",
          "2013-12",
          "2014-01",
          "2014-02",
          "2014-03",
          "2014-04",
          "2014-05",
          "2014-06",
          "2014-07",
          "2014-08",
          "2014-09",
          "2014-10",
          "2014-11",
          "2014-12",
          "2015-01",
          "2015-02",
          "2015-03",
          "2015-04",
          "2015-05",
          "2015-06",
          "2015-07",
          "2015-08",
          "2015-09",
          "2015-10",
          "2015-11",
          "2015-12"
         ],
         "xaxis": "x",
         "y": [
          709,
          1590,
          1900,
          1186,
          480,
          410,
          636,
          544,
          229,
          329,
          171,
          182,
          328,
          653,
          1475,
          967,
          468,
          800,
          1507,
          757,
          489,
          313,
          507,
          562,
          720,
          1241,
          1980,
          1225,
          932,
          694,
          1335,
          886,
          380,
          370,
          229,
          191,
          162,
          877,
          1578,
          1341,
          768,
          404,
          751,
          687,
          491,
          408,
          468,
          425,
          453,
          2210,
          1702,
          1582,
          593,
          640,
          789,
          603,
          324,
          367,
          167,
          334,
          36,
          27,
          138,
          260,
          183,
          227,
          380,
          345,
          109,
          67,
          22,
          22,
          29,
          28,
          108,
          333,
          202,
          192,
          429,
          408,
          207,
          85,
          25,
          33,
          22,
          46,
          106,
          354,
          208,
          293,
          397,
          551,
          197,
          177,
          127,
          31,
          25,
          18,
          86,
          166,
          106,
          155,
          281,
          335,
          155,
          73,
          13,
          10,
          33,
          42,
          70,
          308,
          359,
          227,
          399,
          486,
          319,
          145,
          121,
          51,
          65,
          39,
          88,
          183,
          233,
          187,
          363,
          429,
          243,
          94,
          41,
          87,
          623,
          654,
          2356,
          454,
          420,
          520,
          842,
          626,
          271,
          390,
          263,
          120,
          181,
          875,
          1173,
          712,
          459,
          528,
          714,
          437,
          216,
          221,
          275,
          235,
          569,
          1561,
          3245,
          1099,
          512,
          549,
          1011,
          664,
          561,
          454,
          1077,
          625,
          1100,
          1430,
          1793,
          1097,
          450,
          524,
          846,
          780,
          345,
          274,
          423,
          507,
          1232,
          2651,
          2808,
          1642,
          1091,
          876,
          1153,
          1253,
          908,
          583,
          507,
          438,
          724,
          1303,
          2025,
          952,
          644,
          1039,
          982,
          663,
          286,
          383,
          702,
          345,
          858,
          1422,
          1944,
          1226,
          407,
          754,
          1056,
          490,
          422,
          231,
          215,
          195,
          317,
          881,
          1273,
          902,
          323,
          378,
          546,
          460,
          782,
          952,
          271,
          373,
          1132,
          3078,
          1924,
          1454,
          922,
          1327,
          1142,
          888,
          652,
          530,
          417,
          437,
          225,
          166,
          229,
          193,
          419,
          600,
          561,
          462,
          411,
          241,
          150,
          78,
          125,
          128,
          405,
          447,
          684,
          625,
          586,
          397,
          369,
          205,
          170,
          100,
          295,
          200,
          178,
          288,
          615,
          582,
          589,
          316,
          258,
          195,
          145,
          40,
          300,
          340,
          379,
          554,
          645,
          807,
          799,
          742,
          562,
          653,
          255,
          240
         ],
         "yaxis": "y"
        },
        {
         "hovertemplate": "Causes=Powerline<br>DISC_YM=%{x}<br>Total Count=%{y}<extra></extra>",
         "legendgroup": "Powerline",
         "line": {
          "color": "#FECB52",
          "dash": "solid"
         },
         "marker": {
          "symbol": "circle"
         },
         "mode": "lines",
         "name": "Powerline",
         "showlegend": true,
         "type": "scattergl",
         "x": [
          "1992-01",
          "1992-02",
          "1992-03",
          "1992-04",
          "1992-05",
          "1992-06",
          "1992-07",
          "1992-08",
          "1992-09",
          "1992-10",
          "1992-11",
          "1992-12",
          "1993-01",
          "1993-02",
          "1993-03",
          "1993-04",
          "1993-05",
          "1993-06",
          "1993-07",
          "1993-08",
          "1993-09",
          "1993-10",
          "1993-11",
          "1993-12",
          "1994-01",
          "1994-02",
          "1994-03",
          "1994-04",
          "1994-05",
          "1994-06",
          "1994-07",
          "1994-08",
          "1994-09",
          "1994-10",
          "1994-11",
          "1994-12",
          "1995-03",
          "1995-04",
          "1995-05",
          "1995-06",
          "1995-07",
          "1995-08",
          "1995-09",
          "1995-10",
          "1995-11",
          "1995-12",
          "1996-01",
          "1996-02",
          "1996-03",
          "1996-04",
          "1996-05",
          "1996-06",
          "1996-07",
          "1996-08",
          "1996-09",
          "1996-10",
          "1996-11",
          "1996-12",
          "1997-01",
          "1997-02",
          "1997-03",
          "1997-04",
          "1997-05",
          "1997-06",
          "1997-07",
          "1997-08",
          "1997-09",
          "1997-10",
          "1997-11",
          "1998-01",
          "1998-02",
          "1998-03",
          "1998-04",
          "1998-05",
          "1998-06",
          "1998-07",
          "1998-08",
          "1998-09",
          "1998-10",
          "1998-11",
          "1998-12",
          "1999-01",
          "1999-02",
          "1999-03",
          "1999-04",
          "1999-05",
          "1999-06",
          "1999-07",
          "1999-08",
          "1999-09",
          "1999-10",
          "1999-11",
          "1999-12",
          "2000-01",
          "2000-02",
          "2000-03",
          "2000-04",
          "2000-05",
          "2000-06",
          "2000-07",
          "2000-08",
          "2000-09",
          "2000-10",
          "2000-11",
          "2000-12",
          "2001-01",
          "2001-02",
          "2001-03",
          "2001-04",
          "2001-05",
          "2001-06",
          "2001-07",
          "2001-08",
          "2001-09",
          "2001-10",
          "2001-11",
          "2001-12",
          "2002-01",
          "2002-02",
          "2002-03",
          "2002-04",
          "2002-05",
          "2002-06",
          "2002-07",
          "2002-08",
          "2002-09",
          "2002-10",
          "2002-11",
          "2002-12",
          "2003-01",
          "2003-02",
          "2003-03",
          "2003-04",
          "2003-05",
          "2003-06",
          "2003-07",
          "2003-08",
          "2003-09",
          "2003-10",
          "2003-11",
          "2003-12",
          "2004-02",
          "2004-03",
          "2004-04",
          "2004-05",
          "2004-06",
          "2004-07",
          "2004-08",
          "2004-09",
          "2004-10",
          "2004-11",
          "2004-12",
          "2005-01",
          "2005-02",
          "2005-03",
          "2005-04",
          "2005-05",
          "2005-06",
          "2005-07",
          "2005-08",
          "2005-09",
          "2005-10",
          "2005-11",
          "2005-12",
          "2006-01",
          "2006-02",
          "2006-03",
          "2006-04",
          "2006-05",
          "2006-06",
          "2006-07",
          "2006-08",
          "2006-09",
          "2006-10",
          "2006-11",
          "2006-12",
          "2007-01",
          "2007-02",
          "2007-03",
          "2007-04",
          "2007-05",
          "2007-06",
          "2007-07",
          "2007-08",
          "2007-09",
          "2007-10",
          "2007-11",
          "2007-12",
          "2008-01",
          "2008-02",
          "2008-03",
          "2008-04",
          "2008-05",
          "2008-06",
          "2008-07",
          "2008-08",
          "2008-09",
          "2008-10",
          "2008-11",
          "2008-12",
          "2009-01",
          "2009-02",
          "2009-03",
          "2009-04",
          "2009-05",
          "2009-06",
          "2009-07",
          "2009-08",
          "2009-09",
          "2009-10",
          "2009-11",
          "2009-12",
          "2010-01",
          "2010-02",
          "2010-03",
          "2010-04",
          "2010-05",
          "2010-06",
          "2010-07",
          "2010-08",
          "2010-09",
          "2010-10",
          "2010-11",
          "2010-12",
          "2011-01",
          "2011-02",
          "2011-03",
          "2011-04",
          "2011-05",
          "2011-06",
          "2011-07",
          "2011-08",
          "2011-09",
          "2011-10",
          "2011-11",
          "2011-12",
          "2012-01",
          "2012-02",
          "2012-03",
          "2012-04",
          "2012-05",
          "2012-06",
          "2012-07",
          "2012-08",
          "2012-09",
          "2012-10",
          "2012-11",
          "2012-12",
          "2013-01",
          "2013-02",
          "2013-03",
          "2013-04",
          "2013-05",
          "2013-06",
          "2013-07",
          "2013-08",
          "2013-09",
          "2013-10",
          "2013-11",
          "2013-12",
          "2014-01",
          "2014-02",
          "2014-03",
          "2014-04",
          "2014-05",
          "2014-06",
          "2014-07",
          "2014-08",
          "2014-09",
          "2014-10",
          "2014-11",
          "2014-12",
          "2015-01",
          "2015-02",
          "2015-03",
          "2015-04",
          "2015-05",
          "2015-06",
          "2015-07",
          "2015-08",
          "2015-09",
          "2015-10",
          "2015-11",
          "2015-12"
         ],
         "xaxis": "x",
         "y": [
          1,
          4,
          8,
          11,
          19,
          17,
          18,
          13,
          20,
          10,
          6,
          1,
          6,
          10,
          3,
          16,
          25,
          17,
          17,
          11,
          13,
          5,
          6,
          4,
          1,
          4,
          13,
          20,
          11,
          24,
          24,
          21,
          8,
          6,
          11,
          1,
          10,
          24,
          13,
          15,
          27,
          24,
          23,
          10,
          6,
          2,
          3,
          9,
          7,
          20,
          19,
          15,
          25,
          27,
          19,
          18,
          2,
          2,
          2,
          8,
          7,
          34,
          42,
          31,
          23,
          17,
          9,
          5,
          2,
          1,
          3,
          16,
          109,
          51,
          26,
          46,
          37,
          32,
          25,
          14,
          11,
          2,
          7,
          30,
          56,
          51,
          48,
          39,
          32,
          35,
          27,
          29,
          8,
          19,
          11,
          27,
          58,
          69,
          44,
          28,
          33,
          24,
          25,
          7,
          6,
          7,
          10,
          9,
          81,
          42,
          38,
          45,
          39,
          34,
          30,
          27,
          2,
          9,
          8,
          23,
          41,
          51,
          37,
          49,
          31,
          36,
          14,
          7,
          6,
          10,
          7,
          35,
          28,
          18,
          35,
          29,
          37,
          23,
          24,
          17,
          5,
          4,
          20,
          31,
          13,
          31,
          30,
          17,
          12,
          10,
          17,
          6,
          4,
          2,
          16,
          63,
          23,
          35,
          40,
          38,
          37,
          9,
          32,
          14,
          17,
          26,
          29,
          34,
          38,
          40,
          46,
          61,
          23,
          15,
          7,
          8,
          10,
          22,
          47,
          43,
          41,
          65,
          40,
          55,
          30,
          20,
          11,
          6,
          18,
          19,
          21,
          38,
          31,
          24,
          69,
          29,
          10,
          12,
          16,
          8,
          84,
          162,
          135,
          246,
          159,
          94,
          137,
          106,
          56,
          26,
          39,
          22,
          42,
          22,
          110,
          268,
          170,
          112,
          119,
          144,
          113,
          152,
          85,
          97,
          91,
          242,
          166,
          442,
          240,
          347,
          256,
          387,
          370,
          166,
          75,
          46,
          57,
          39,
          49,
          45,
          86,
          97,
          114,
          118,
          68,
          30,
          22,
          48,
          36,
          25,
          118,
          88,
          93,
          64,
          49,
          68,
          47,
          26,
          33,
          19,
          131,
          85,
          201,
          217,
          162,
          88,
          134,
          141,
          85,
          79,
          81,
          29,
          75,
          101,
          139,
          234,
          155,
          105,
          145,
          187,
          126,
          157,
          108,
          48
         ],
         "yaxis": "y"
        },
        {
         "hovertemplate": "Causes=Railroad<br>DISC_YM=%{x}<br>Total Count=%{y}<extra></extra>",
         "legendgroup": "Railroad",
         "line": {
          "color": "#636efa",
          "dash": "solid"
         },
         "marker": {
          "symbol": "circle"
         },
         "mode": "lines",
         "name": "Railroad",
         "showlegend": true,
         "type": "scattergl",
         "x": [
          "1992-01",
          "1992-02",
          "1992-03",
          "1992-04",
          "1992-05",
          "1992-06",
          "1992-07",
          "1992-08",
          "1992-09",
          "1992-10",
          "1992-11",
          "1992-12",
          "1993-01",
          "1993-02",
          "1993-03",
          "1993-04",
          "1993-05",
          "1993-06",
          "1993-07",
          "1993-08",
          "1993-09",
          "1993-10",
          "1993-11",
          "1993-12",
          "1994-01",
          "1994-02",
          "1994-03",
          "1994-04",
          "1994-05",
          "1994-06",
          "1994-07",
          "1994-08",
          "1994-09",
          "1994-10",
          "1994-11",
          "1994-12",
          "1995-01",
          "1995-02",
          "1995-03",
          "1995-04",
          "1995-05",
          "1995-06",
          "1995-07",
          "1995-08",
          "1995-09",
          "1995-10",
          "1995-11",
          "1995-12",
          "1996-01",
          "1996-02",
          "1996-03",
          "1996-04",
          "1996-05",
          "1996-06",
          "1996-07",
          "1996-08",
          "1996-09",
          "1996-10",
          "1996-11",
          "1996-12",
          "1997-01",
          "1997-02",
          "1997-03",
          "1997-04",
          "1997-05",
          "1997-06",
          "1997-07",
          "1997-08",
          "1997-09",
          "1997-10",
          "1997-11",
          "1997-12",
          "1998-01",
          "1998-02",
          "1998-03",
          "1998-04",
          "1998-05",
          "1998-06",
          "1998-07",
          "1998-08",
          "1998-09",
          "1998-10",
          "1998-11",
          "1998-12",
          "1999-01",
          "1999-02",
          "1999-03",
          "1999-04",
          "1999-05",
          "1999-06",
          "1999-07",
          "1999-08",
          "1999-09",
          "1999-10",
          "1999-11",
          "1999-12",
          "2000-01",
          "2000-02",
          "2000-03",
          "2000-04",
          "2000-05",
          "2000-06",
          "2000-07",
          "2000-08",
          "2000-09",
          "2000-10",
          "2000-11",
          "2000-12",
          "2001-01",
          "2001-02",
          "2001-03",
          "2001-04",
          "2001-05",
          "2001-06",
          "2001-07",
          "2001-08",
          "2001-09",
          "2001-10",
          "2001-11",
          "2001-12",
          "2002-01",
          "2002-02",
          "2002-03",
          "2002-04",
          "2002-05",
          "2002-06",
          "2002-07",
          "2002-08",
          "2002-09",
          "2002-10",
          "2002-11",
          "2002-12",
          "2003-01",
          "2003-02",
          "2003-03",
          "2003-04",
          "2003-05",
          "2003-06",
          "2003-07",
          "2003-08",
          "2003-09",
          "2003-10",
          "2003-11",
          "2003-12",
          "2004-01",
          "2004-02",
          "2004-03",
          "2004-04",
          "2004-05",
          "2004-06",
          "2004-07",
          "2004-08",
          "2004-09",
          "2004-10",
          "2004-11",
          "2004-12",
          "2005-01",
          "2005-02",
          "2005-03",
          "2005-04",
          "2005-05",
          "2005-06",
          "2005-07",
          "2005-08",
          "2005-09",
          "2005-10",
          "2005-11",
          "2005-12",
          "2006-01",
          "2006-02",
          "2006-03",
          "2006-04",
          "2006-05",
          "2006-06",
          "2006-07",
          "2006-08",
          "2006-09",
          "2006-10",
          "2006-11",
          "2006-12",
          "2007-01",
          "2007-02",
          "2007-03",
          "2007-04",
          "2007-05",
          "2007-06",
          "2007-07",
          "2007-08",
          "2007-09",
          "2007-10",
          "2007-11",
          "2007-12",
          "2008-01",
          "2008-02",
          "2008-03",
          "2008-04",
          "2008-05",
          "2008-06",
          "2008-07",
          "2008-08",
          "2008-09",
          "2008-10",
          "2008-11",
          "2008-12",
          "2009-01",
          "2009-02",
          "2009-03",
          "2009-04",
          "2009-05",
          "2009-06",
          "2009-07",
          "2009-08",
          "2009-09",
          "2009-10",
          "2009-11",
          "2009-12",
          "2010-01",
          "2010-02",
          "2010-03",
          "2010-04",
          "2010-05",
          "2010-06",
          "2010-07",
          "2010-08",
          "2010-09",
          "2010-10",
          "2010-11",
          "2010-12",
          "2011-01",
          "2011-02",
          "2011-03",
          "2011-04",
          "2011-05",
          "2011-06",
          "2011-07",
          "2011-08",
          "2011-09",
          "2011-10",
          "2011-11",
          "2011-12",
          "2012-01",
          "2012-02",
          "2012-03",
          "2012-04",
          "2012-05",
          "2012-06",
          "2012-07",
          "2012-08",
          "2012-09",
          "2012-10",
          "2012-11",
          "2012-12",
          "2013-01",
          "2013-02",
          "2013-03",
          "2013-04",
          "2013-05",
          "2013-06",
          "2013-07",
          "2013-08",
          "2013-09",
          "2013-10",
          "2013-11",
          "2013-12",
          "2014-01",
          "2014-02",
          "2014-03",
          "2014-04",
          "2014-05",
          "2014-06",
          "2014-07",
          "2014-08",
          "2014-09",
          "2014-10",
          "2014-11",
          "2014-12",
          "2015-01",
          "2015-02",
          "2015-03",
          "2015-04",
          "2015-05",
          "2015-06",
          "2015-07",
          "2015-08",
          "2015-09",
          "2015-10",
          "2015-11",
          "2015-12"
         ],
         "xaxis": "x",
         "y": [
          256,
          295,
          330,
          226,
          423,
          89,
          105,
          46,
          37,
          79,
          48,
          65,
          53,
          149,
          247,
          292,
          293,
          214,
          124,
          150,
          58,
          74,
          71,
          119,
          198,
          188,
          358,
          252,
          402,
          159,
          111,
          97,
          51,
          38,
          65,
          46,
          84,
          352,
          355,
          220,
          211,
          163,
          138,
          210,
          111,
          72,
          85,
          141,
          358,
          602,
          414,
          384,
          288,
          184,
          166,
          107,
          83,
          84,
          122,
          104,
          246,
          244,
          315,
          392,
          250,
          141,
          120,
          73,
          137,
          164,
          53,
          42,
          84,
          103,
          248,
          286,
          315,
          290,
          134,
          109,
          78,
          100,
          64,
          62,
          214,
          324,
          462,
          387,
          257,
          93,
          113,
          153,
          156,
          93,
          119,
          153,
          245,
          519,
          438,
          331,
          402,
          209,
          211,
          186,
          96,
          183,
          110,
          213,
          398,
          283,
          172,
          304,
          391,
          109,
          93,
          99,
          49,
          130,
          182,
          83,
          143,
          262,
          356,
          306,
          312,
          133,
          81,
          92,
          74,
          45,
          46,
          50,
          30,
          12,
          48,
          132,
          108,
          54,
          92,
          40,
          24,
          40,
          22,
          10,
          15,
          16,
          135,
          203,
          124,
          71,
          42,
          48,
          27,
          9,
          8,
          21,
          19,
          12,
          57,
          145,
          147,
          76,
          81,
          54,
          55,
          40,
          53,
          29,
          57,
          84,
          154,
          180,
          117,
          155,
          97,
          73,
          29,
          35,
          17,
          16,
          6,
          51,
          119,
          168,
          166,
          80,
          56,
          99,
          65,
          54,
          39,
          10,
          18,
          30,
          93,
          152,
          85,
          96,
          78,
          54,
          61,
          55,
          31,
          25,
          19,
          62,
          98,
          149,
          70,
          50,
          53,
          37,
          12,
          6,
          17,
          4,
          14,
          6,
          106,
          138,
          53,
          36,
          81,
          59,
          83,
          74,
          34,
          31,
          9,
          28,
          86,
          115,
          86,
          83,
          82,
          70,
          41,
          24,
          23,
          13,
          15,
          30,
          78,
          107,
          92,
          87,
          58,
          60,
          41,
          23,
          24,
          6,
          5,
          11,
          42,
          109,
          91,
          39,
          42,
          39,
          15,
          7,
          18,
          5,
          22,
          22,
          54,
          108,
          112,
          23,
          63,
          43,
          13,
          32,
          28,
          9,
          10,
          19,
          42,
          65,
          67,
          51,
          33,
          29,
          21,
          22,
          9,
          2
         ],
         "yaxis": "y"
        },
        {
         "hovertemplate": "Causes=Smoking<br>DISC_YM=%{x}<br>Total Count=%{y}<extra></extra>",
         "legendgroup": "Smoking",
         "line": {
          "color": "#EF553B",
          "dash": "solid"
         },
         "marker": {
          "symbol": "circle"
         },
         "mode": "lines",
         "name": "Smoking",
         "showlegend": true,
         "type": "scattergl",
         "x": [
          "1992-01",
          "1992-02",
          "1992-03",
          "1992-04",
          "1992-05",
          "1992-06",
          "1992-07",
          "1992-08",
          "1992-09",
          "1992-10",
          "1992-11",
          "1992-12",
          "1993-01",
          "1993-02",
          "1993-03",
          "1993-04",
          "1993-05",
          "1993-06",
          "1993-07",
          "1993-08",
          "1993-09",
          "1993-10",
          "1993-11",
          "1993-12",
          "1994-01",
          "1994-02",
          "1994-03",
          "1994-04",
          "1994-05",
          "1994-06",
          "1994-07",
          "1994-08",
          "1994-09",
          "1994-10",
          "1994-11",
          "1994-12",
          "1995-01",
          "1995-02",
          "1995-03",
          "1995-04",
          "1995-05",
          "1995-06",
          "1995-07",
          "1995-08",
          "1995-09",
          "1995-10",
          "1995-11",
          "1995-12",
          "1996-01",
          "1996-02",
          "1996-03",
          "1996-04",
          "1996-05",
          "1996-06",
          "1996-07",
          "1996-08",
          "1996-09",
          "1996-10",
          "1996-11",
          "1996-12",
          "1997-01",
          "1997-02",
          "1997-03",
          "1997-04",
          "1997-05",
          "1997-06",
          "1997-07",
          "1997-08",
          "1997-09",
          "1997-10",
          "1997-11",
          "1997-12",
          "1998-01",
          "1998-02",
          "1998-03",
          "1998-04",
          "1998-05",
          "1998-06",
          "1998-07",
          "1998-08",
          "1998-09",
          "1998-10",
          "1998-11",
          "1998-12",
          "1999-01",
          "1999-02",
          "1999-03",
          "1999-04",
          "1999-05",
          "1999-06",
          "1999-07",
          "1999-08",
          "1999-09",
          "1999-10",
          "1999-11",
          "1999-12",
          "2000-01",
          "2000-02",
          "2000-03",
          "2000-04",
          "2000-05",
          "2000-06",
          "2000-07",
          "2000-08",
          "2000-09",
          "2000-10",
          "2000-11",
          "2000-12",
          "2001-01",
          "2001-02",
          "2001-03",
          "2001-04",
          "2001-05",
          "2001-06",
          "2001-07",
          "2001-08",
          "2001-09",
          "2001-10",
          "2001-11",
          "2001-12",
          "2002-01",
          "2002-02",
          "2002-03",
          "2002-04",
          "2002-05",
          "2002-06",
          "2002-07",
          "2002-08",
          "2002-09",
          "2002-10",
          "2002-11",
          "2002-12",
          "2003-01",
          "2003-02",
          "2003-03",
          "2003-04",
          "2003-05",
          "2003-06",
          "2003-07",
          "2003-08",
          "2003-09",
          "2003-10",
          "2003-11",
          "2003-12",
          "2004-01",
          "2004-02",
          "2004-03",
          "2004-04",
          "2004-05",
          "2004-06",
          "2004-07",
          "2004-08",
          "2004-09",
          "2004-10",
          "2004-11",
          "2004-12",
          "2005-01",
          "2005-02",
          "2005-03",
          "2005-04",
          "2005-05",
          "2005-06",
          "2005-07",
          "2005-08",
          "2005-09",
          "2005-10",
          "2005-11",
          "2005-12",
          "2006-01",
          "2006-02",
          "2006-03",
          "2006-04",
          "2006-05",
          "2006-06",
          "2006-07",
          "2006-08",
          "2006-09",
          "2006-10",
          "2006-11",
          "2006-12",
          "2007-01",
          "2007-02",
          "2007-03",
          "2007-04",
          "2007-05",
          "2007-06",
          "2007-07",
          "2007-08",
          "2007-09",
          "2007-10",
          "2007-11",
          "2007-12",
          "2008-01",
          "2008-02",
          "2008-03",
          "2008-04",
          "2008-05",
          "2008-06",
          "2008-07",
          "2008-08",
          "2008-09",
          "2008-10",
          "2008-11",
          "2008-12",
          "2009-01",
          "2009-02",
          "2009-03",
          "2009-04",
          "2009-05",
          "2009-06",
          "2009-07",
          "2009-08",
          "2009-09",
          "2009-10",
          "2009-11",
          "2009-12",
          "2010-01",
          "2010-02",
          "2010-03",
          "2010-04",
          "2010-05",
          "2010-06",
          "2010-07",
          "2010-08",
          "2010-09",
          "2010-10",
          "2010-11",
          "2010-12",
          "2011-01",
          "2011-02",
          "2011-03",
          "2011-04",
          "2011-05",
          "2011-06",
          "2011-07",
          "2011-08",
          "2011-09",
          "2011-10",
          "2011-11",
          "2011-12",
          "2012-01",
          "2012-02",
          "2012-03",
          "2012-04",
          "2012-05",
          "2012-06",
          "2012-07",
          "2012-08",
          "2012-09",
          "2012-10",
          "2012-11",
          "2012-12",
          "2013-01",
          "2013-02",
          "2013-03",
          "2013-04",
          "2013-05",
          "2013-06",
          "2013-07",
          "2013-08",
          "2013-09",
          "2013-10",
          "2013-11",
          "2013-12",
          "2014-01",
          "2014-02",
          "2014-03",
          "2014-04",
          "2014-05",
          "2014-06",
          "2014-07",
          "2014-08",
          "2014-09",
          "2014-10",
          "2014-11",
          "2014-12",
          "2015-01",
          "2015-02",
          "2015-03",
          "2015-04",
          "2015-05",
          "2015-06",
          "2015-07",
          "2015-08",
          "2015-09",
          "2015-10",
          "2015-11",
          "2015-12"
         ],
         "xaxis": "x",
         "y": [
          164,
          316,
          307,
          338,
          350,
          232,
          234,
          229,
          183,
          185,
          51,
          29,
          39,
          155,
          145,
          242,
          229,
          271,
          390,
          258,
          290,
          205,
          139,
          57,
          109,
          195,
          402,
          346,
          260,
          254,
          317,
          236,
          182,
          143,
          126,
          58,
          58,
          209,
          398,
          456,
          245,
          173,
          276,
          328,
          301,
          192,
          120,
          139,
          103,
          302,
          343,
          359,
          243,
          176,
          245,
          243,
          145,
          157,
          86,
          52,
          77,
          100,
          222,
          303,
          185,
          174,
          271,
          201,
          219,
          115,
          59,
          45,
          52,
          71,
          189,
          205,
          144,
          244,
          321,
          315,
          276,
          232,
          225,
          132,
          116,
          177,
          365,
          362,
          219,
          203,
          272,
          382,
          465,
          272,
          275,
          142,
          155,
          279,
          302,
          255,
          329,
          237,
          308,
          367,
          281,
          299,
          145,
          90,
          246,
          237,
          274,
          351,
          373,
          171,
          236,
          239,
          138,
          319,
          664,
          133,
          139,
          367,
          268,
          269,
          232,
          254,
          275,
          307,
          202,
          83,
          87,
          52,
          111,
          56,
          93,
          229,
          129,
          106,
          243,
          154,
          135,
          117,
          84,
          68,
          120,
          89,
          270,
          300,
          146,
          123,
          157,
          111,
          89,
          64,
          62,
          58,
          83,
          101,
          171,
          303,
          163,
          146,
          185,
          178,
          243,
          133,
          188,
          144,
          335,
          205,
          561,
          412,
          213,
          196,
          259,
          203,
          121,
          98,
          61,
          73,
          49,
          120,
          208,
          228,
          389,
          192,
          190,
          241,
          145,
          123,
          102,
          76,
          147,
          145,
          170,
          252,
          191,
          199,
          207,
          152,
          105,
          88,
          111,
          81,
          143,
          229,
          266,
          260,
          116,
          93,
          159,
          130,
          94,
          45,
          53,
          27,
          48,
          48,
          195,
          248,
          168,
          127,
          200,
          196,
          227,
          157,
          120,
          93,
          90,
          182,
          162,
          161,
          171,
          206,
          228,
          252,
          206,
          79,
          88,
          40,
          82,
          81,
          158,
          271,
          126,
          189,
          224,
          161,
          110,
          85,
          103,
          39,
          58,
          71,
          171,
          236,
          205,
          148,
          135,
          103,
          68,
          64,
          79,
          28,
          116,
          56,
          183,
          232,
          143,
          95,
          114,
          98,
          63,
          63,
          84,
          31,
          86,
          95,
          221,
          290,
          378,
          90,
          156,
          164,
          155,
          138,
          76,
          35
         ],
         "yaxis": "y"
        },
        {
         "hovertemplate": "Causes=Structure<br>DISC_YM=%{x}<br>Total Count=%{y}<extra></extra>",
         "legendgroup": "Structure",
         "line": {
          "color": "#00cc96",
          "dash": "solid"
         },
         "marker": {
          "symbol": "circle"
         },
         "mode": "lines",
         "name": "Structure",
         "showlegend": true,
         "type": "scattergl",
         "x": [
          "1992-02",
          "1992-03",
          "1992-04",
          "1992-05",
          "1992-06",
          "1992-07",
          "1992-08",
          "1992-09",
          "1992-10",
          "1992-11",
          "1993-01",
          "1993-02",
          "1993-03",
          "1993-04",
          "1993-05",
          "1993-06",
          "1993-07",
          "1993-08",
          "1993-09",
          "1993-10",
          "1993-11",
          "1994-01",
          "1994-02",
          "1994-03",
          "1994-04",
          "1994-05",
          "1994-06",
          "1994-07",
          "1994-08",
          "1994-09",
          "1994-10",
          "1994-11",
          "1994-12",
          "1995-01",
          "1995-02",
          "1995-03",
          "1995-04",
          "1995-05",
          "1995-06",
          "1995-07",
          "1995-08",
          "1995-09",
          "1995-10",
          "1995-11",
          "1995-12",
          "1996-01",
          "1996-02",
          "1996-03",
          "1996-04",
          "1996-05",
          "1996-06",
          "1996-07",
          "1996-08",
          "1996-09",
          "1996-10",
          "1996-11",
          "1996-12",
          "1997-01",
          "1997-02",
          "1997-03",
          "1997-04",
          "1997-05",
          "1997-06",
          "1997-07",
          "1997-08",
          "1997-09",
          "1997-10",
          "1997-11",
          "1997-12",
          "1998-01",
          "1998-02",
          "1998-03",
          "1998-04",
          "1998-05",
          "1998-06",
          "1998-07",
          "1998-08",
          "1998-09",
          "1998-10",
          "1998-11",
          "1998-12",
          "1999-01",
          "1999-02",
          "1999-03",
          "1999-04",
          "1999-05",
          "1999-06",
          "1999-07",
          "1999-08",
          "1999-09",
          "1999-10",
          "1999-11",
          "1999-12",
          "2000-01",
          "2000-02",
          "2000-03",
          "2000-04",
          "2000-05",
          "2000-06",
          "2000-07",
          "2000-08",
          "2000-09",
          "2000-10",
          "2000-11",
          "2000-12",
          "2001-01",
          "2001-02",
          "2001-03",
          "2001-04",
          "2001-05",
          "2001-06",
          "2001-07",
          "2001-08",
          "2001-09",
          "2001-10",
          "2001-11",
          "2001-12",
          "2002-01",
          "2002-02",
          "2002-03",
          "2002-04",
          "2002-05",
          "2002-06",
          "2002-07",
          "2002-08",
          "2002-09",
          "2002-10",
          "2002-11",
          "2002-12",
          "2003-01",
          "2003-02",
          "2003-03",
          "2003-04",
          "2003-05",
          "2003-06",
          "2003-07",
          "2003-08",
          "2003-09",
          "2003-10",
          "2003-11",
          "2003-12",
          "2004-01",
          "2004-02",
          "2004-03",
          "2004-04",
          "2004-05",
          "2004-06",
          "2004-07",
          "2004-08",
          "2004-09",
          "2004-10",
          "2004-11",
          "2004-12",
          "2005-01",
          "2005-02",
          "2005-03",
          "2005-04",
          "2005-05",
          "2005-06",
          "2005-07",
          "2005-08",
          "2005-09",
          "2005-10",
          "2005-11",
          "2005-12",
          "2006-01",
          "2006-02",
          "2006-03",
          "2006-04",
          "2006-05",
          "2006-06",
          "2006-07",
          "2006-08",
          "2006-09",
          "2006-10",
          "2006-11",
          "2006-12",
          "2007-01",
          "2007-02",
          "2007-03",
          "2007-04",
          "2007-05",
          "2007-06",
          "2007-07",
          "2007-08",
          "2007-09",
          "2007-10",
          "2007-11",
          "2007-12",
          "2008-01",
          "2008-02",
          "2008-03",
          "2008-04",
          "2008-05",
          "2008-06",
          "2008-07",
          "2008-08",
          "2008-09",
          "2008-10",
          "2008-11",
          "2008-12",
          "2009-01",
          "2009-02",
          "2009-03",
          "2009-04",
          "2009-05",
          "2009-06",
          "2009-07",
          "2009-08",
          "2009-09",
          "2009-10",
          "2009-11",
          "2009-12",
          "2010-01",
          "2010-02",
          "2010-03",
          "2010-04",
          "2010-05",
          "2010-06",
          "2010-07",
          "2010-08",
          "2010-09",
          "2010-10",
          "2010-11",
          "2010-12",
          "2011-01",
          "2011-02",
          "2011-03",
          "2011-04",
          "2011-05",
          "2011-06",
          "2011-07",
          "2011-08",
          "2011-09",
          "2011-10",
          "2011-11",
          "2011-12",
          "2012-01",
          "2012-02",
          "2012-03",
          "2012-04",
          "2012-05",
          "2012-06",
          "2012-07",
          "2012-08",
          "2012-09",
          "2012-10",
          "2012-11",
          "2012-12",
          "2013-01",
          "2013-02",
          "2013-03",
          "2013-04",
          "2013-05",
          "2013-06",
          "2013-07",
          "2013-08",
          "2013-09",
          "2013-10",
          "2013-11",
          "2013-12",
          "2014-01",
          "2014-02",
          "2014-03",
          "2014-04",
          "2014-05",
          "2014-06",
          "2014-07",
          "2014-08",
          "2014-09",
          "2014-10",
          "2014-11",
          "2014-12",
          "2015-01",
          "2015-02",
          "2015-03",
          "2015-04",
          "2015-05",
          "2015-06",
          "2015-07",
          "2015-08",
          "2015-09",
          "2015-10",
          "2015-11",
          "2015-12"
         ],
         "xaxis": "x",
         "y": [
          1,
          4,
          3,
          8,
          11,
          7,
          3,
          3,
          2,
          5,
          1,
          4,
          3,
          2,
          11,
          7,
          13,
          6,
          2,
          1,
          4,
          3,
          2,
          3,
          3,
          9,
          9,
          11,
          7,
          4,
          2,
          9,
          5,
          7,
          4,
          11,
          15,
          8,
          15,
          3,
          6,
          6,
          5,
          6,
          3,
          3,
          3,
          7,
          8,
          16,
          12,
          9,
          14,
          1,
          7,
          4,
          1,
          4,
          6,
          8,
          23,
          23,
          14,
          10,
          6,
          8,
          7,
          6,
          1,
          3,
          5,
          6,
          15,
          16,
          7,
          10,
          8,
          8,
          10,
          10,
          12,
          3,
          7,
          12,
          14,
          21,
          12,
          16,
          9,
          8,
          10,
          11,
          7,
          6,
          10,
          19,
          22,
          21,
          18,
          7,
          8,
          7,
          8,
          8,
          2,
          6,
          7,
          8,
          23,
          17,
          13,
          11,
          5,
          6,
          19,
          21,
          9,
          6,
          9,
          16,
          17,
          29,
          12,
          18,
          12,
          16,
          11,
          10,
          15,
          7,
          7,
          9,
          29,
          12,
          6,
          11,
          4,
          7,
          14,
          7,
          1,
          6,
          5,
          16,
          22,
          15,
          14,
          15,
          20,
          4,
          6,
          7,
          5,
          13,
          7,
          21,
          15,
          21,
          12,
          11,
          14,
          7,
          11,
          24,
          12,
          2,
          12,
          7,
          6,
          11,
          3,
          13,
          7,
          8,
          5,
          6,
          3,
          5,
          9,
          20,
          12,
          19,
          12,
          9,
          22,
          15,
          10,
          13,
          3,
          3,
          3,
          7,
          8,
          9,
          11,
          15,
          25,
          8,
          2,
          1,
          1,
          12,
          16,
          24,
          29,
          25,
          20,
          28,
          10,
          7,
          3,
          14,
          6,
          8,
          4,
          27,
          44,
          25,
          11,
          20,
          21,
          24,
          35,
          16,
          22,
          8,
          39,
          12,
          33,
          22,
          27,
          14,
          19,
          15,
          24,
          17,
          10,
          10,
          23,
          37,
          43,
          32,
          36,
          29,
          29,
          34,
          36,
          38,
          10,
          10,
          19,
          47,
          31,
          28,
          16,
          18,
          11,
          14,
          11,
          24,
          8,
          24,
          14,
          44,
          40,
          36,
          21,
          28,
          12,
          19,
          13,
          18,
          15,
          16,
          31,
          43,
          52,
          31,
          24,
          23,
          29,
          23,
          25,
          27,
          11
         ],
         "yaxis": "y"
        }
       ],
       "layout": {
        "legend": {
         "title": {
          "text": "Causes"
         },
         "tracegroupgap": 0
        },
        "margin": {
         "t": 60
        },
        "template": {
         "data": {
          "bar": [
           {
            "error_x": {
             "color": "#2a3f5f"
            },
            "error_y": {
             "color": "#2a3f5f"
            },
            "marker": {
             "line": {
              "color": "#E5ECF6",
              "width": 0.5
             },
             "pattern": {
              "fillmode": "overlay",
              "size": 10,
              "solidity": 0.2
             }
            },
            "type": "bar"
           }
          ],
          "barpolar": [
           {
            "marker": {
             "line": {
              "color": "#E5ECF6",
              "width": 0.5
             },
             "pattern": {
              "fillmode": "overlay",
              "size": 10,
              "solidity": 0.2
             }
            },
            "type": "barpolar"
           }
          ],
          "carpet": [
           {
            "aaxis": {
             "endlinecolor": "#2a3f5f",
             "gridcolor": "white",
             "linecolor": "white",
             "minorgridcolor": "white",
             "startlinecolor": "#2a3f5f"
            },
            "baxis": {
             "endlinecolor": "#2a3f5f",
             "gridcolor": "white",
             "linecolor": "white",
             "minorgridcolor": "white",
             "startlinecolor": "#2a3f5f"
            },
            "type": "carpet"
           }
          ],
          "choropleth": [
           {
            "colorbar": {
             "outlinewidth": 0,
             "ticks": ""
            },
            "type": "choropleth"
           }
          ],
          "contour": [
           {
            "colorbar": {
             "outlinewidth": 0,
             "ticks": ""
            },
            "colorscale": [
             [
              0,
              "#0d0887"
             ],
             [
              0.1111111111111111,
              "#46039f"
             ],
             [
              0.2222222222222222,
              "#7201a8"
             ],
             [
              0.3333333333333333,
              "#9c179e"
             ],
             [
              0.4444444444444444,
              "#bd3786"
             ],
             [
              0.5555555555555556,
              "#d8576b"
             ],
             [
              0.6666666666666666,
              "#ed7953"
             ],
             [
              0.7777777777777778,
              "#fb9f3a"
             ],
             [
              0.8888888888888888,
              "#fdca26"
             ],
             [
              1,
              "#f0f921"
             ]
            ],
            "type": "contour"
           }
          ],
          "contourcarpet": [
           {
            "colorbar": {
             "outlinewidth": 0,
             "ticks": ""
            },
            "type": "contourcarpet"
           }
          ],
          "heatmap": [
           {
            "colorbar": {
             "outlinewidth": 0,
             "ticks": ""
            },
            "colorscale": [
             [
              0,
              "#0d0887"
             ],
             [
              0.1111111111111111,
              "#46039f"
             ],
             [
              0.2222222222222222,
              "#7201a8"
             ],
             [
              0.3333333333333333,
              "#9c179e"
             ],
             [
              0.4444444444444444,
              "#bd3786"
             ],
             [
              0.5555555555555556,
              "#d8576b"
             ],
             [
              0.6666666666666666,
              "#ed7953"
             ],
             [
              0.7777777777777778,
              "#fb9f3a"
             ],
             [
              0.8888888888888888,
              "#fdca26"
             ],
             [
              1,
              "#f0f921"
             ]
            ],
            "type": "heatmap"
           }
          ],
          "heatmapgl": [
           {
            "colorbar": {
             "outlinewidth": 0,
             "ticks": ""
            },
            "colorscale": [
             [
              0,
              "#0d0887"
             ],
             [
              0.1111111111111111,
              "#46039f"
             ],
             [
              0.2222222222222222,
              "#7201a8"
             ],
             [
              0.3333333333333333,
              "#9c179e"
             ],
             [
              0.4444444444444444,
              "#bd3786"
             ],
             [
              0.5555555555555556,
              "#d8576b"
             ],
             [
              0.6666666666666666,
              "#ed7953"
             ],
             [
              0.7777777777777778,
              "#fb9f3a"
             ],
             [
              0.8888888888888888,
              "#fdca26"
             ],
             [
              1,
              "#f0f921"
             ]
            ],
            "type": "heatmapgl"
           }
          ],
          "histogram": [
           {
            "marker": {
             "pattern": {
              "fillmode": "overlay",
              "size": 10,
              "solidity": 0.2
             }
            },
            "type": "histogram"
           }
          ],
          "histogram2d": [
           {
            "colorbar": {
             "outlinewidth": 0,
             "ticks": ""
            },
            "colorscale": [
             [
              0,
              "#0d0887"
             ],
             [
              0.1111111111111111,
              "#46039f"
             ],
             [
              0.2222222222222222,
              "#7201a8"
             ],
             [
              0.3333333333333333,
              "#9c179e"
             ],
             [
              0.4444444444444444,
              "#bd3786"
             ],
             [
              0.5555555555555556,
              "#d8576b"
             ],
             [
              0.6666666666666666,
              "#ed7953"
             ],
             [
              0.7777777777777778,
              "#fb9f3a"
             ],
             [
              0.8888888888888888,
              "#fdca26"
             ],
             [
              1,
              "#f0f921"
             ]
            ],
            "type": "histogram2d"
           }
          ],
          "histogram2dcontour": [
           {
            "colorbar": {
             "outlinewidth": 0,
             "ticks": ""
            },
            "colorscale": [
             [
              0,
              "#0d0887"
             ],
             [
              0.1111111111111111,
              "#46039f"
             ],
             [
              0.2222222222222222,
              "#7201a8"
             ],
             [
              0.3333333333333333,
              "#9c179e"
             ],
             [
              0.4444444444444444,
              "#bd3786"
             ],
             [
              0.5555555555555556,
              "#d8576b"
             ],
             [
              0.6666666666666666,
              "#ed7953"
             ],
             [
              0.7777777777777778,
              "#fb9f3a"
             ],
             [
              0.8888888888888888,
              "#fdca26"
             ],
             [
              1,
              "#f0f921"
             ]
            ],
            "type": "histogram2dcontour"
           }
          ],
          "mesh3d": [
           {
            "colorbar": {
             "outlinewidth": 0,
             "ticks": ""
            },
            "type": "mesh3d"
           }
          ],
          "parcoords": [
           {
            "line": {
             "colorbar": {
              "outlinewidth": 0,
              "ticks": ""
             }
            },
            "type": "parcoords"
           }
          ],
          "pie": [
           {
            "automargin": true,
            "type": "pie"
           }
          ],
          "scatter": [
           {
            "fillpattern": {
             "fillmode": "overlay",
             "size": 10,
             "solidity": 0.2
            },
            "type": "scatter"
           }
          ],
          "scatter3d": [
           {
            "line": {
             "colorbar": {
              "outlinewidth": 0,
              "ticks": ""
             }
            },
            "marker": {
             "colorbar": {
              "outlinewidth": 0,
              "ticks": ""
             }
            },
            "type": "scatter3d"
           }
          ],
          "scattercarpet": [
           {
            "marker": {
             "colorbar": {
              "outlinewidth": 0,
              "ticks": ""
             }
            },
            "type": "scattercarpet"
           }
          ],
          "scattergeo": [
           {
            "marker": {
             "colorbar": {
              "outlinewidth": 0,
              "ticks": ""
             }
            },
            "type": "scattergeo"
           }
          ],
          "scattergl": [
           {
            "marker": {
             "colorbar": {
              "outlinewidth": 0,
              "ticks": ""
             }
            },
            "type": "scattergl"
           }
          ],
          "scattermapbox": [
           {
            "marker": {
             "colorbar": {
              "outlinewidth": 0,
              "ticks": ""
             }
            },
            "type": "scattermapbox"
           }
          ],
          "scatterpolar": [
           {
            "marker": {
             "colorbar": {
              "outlinewidth": 0,
              "ticks": ""
             }
            },
            "type": "scatterpolar"
           }
          ],
          "scatterpolargl": [
           {
            "marker": {
             "colorbar": {
              "outlinewidth": 0,
              "ticks": ""
             }
            },
            "type": "scatterpolargl"
           }
          ],
          "scatterternary": [
           {
            "marker": {
             "colorbar": {
              "outlinewidth": 0,
              "ticks": ""
             }
            },
            "type": "scatterternary"
           }
          ],
          "surface": [
           {
            "colorbar": {
             "outlinewidth": 0,
             "ticks": ""
            },
            "colorscale": [
             [
              0,
              "#0d0887"
             ],
             [
              0.1111111111111111,
              "#46039f"
             ],
             [
              0.2222222222222222,
              "#7201a8"
             ],
             [
              0.3333333333333333,
              "#9c179e"
             ],
             [
              0.4444444444444444,
              "#bd3786"
             ],
             [
              0.5555555555555556,
              "#d8576b"
             ],
             [
              0.6666666666666666,
              "#ed7953"
             ],
             [
              0.7777777777777778,
              "#fb9f3a"
             ],
             [
              0.8888888888888888,
              "#fdca26"
             ],
             [
              1,
              "#f0f921"
             ]
            ],
            "type": "surface"
           }
          ],
          "table": [
           {
            "cells": {
             "fill": {
              "color": "#EBF0F8"
             },
             "line": {
              "color": "white"
             }
            },
            "header": {
             "fill": {
              "color": "#C8D4E3"
             },
             "line": {
              "color": "white"
             }
            },
            "type": "table"
           }
          ]
         },
         "layout": {
          "annotationdefaults": {
           "arrowcolor": "#2a3f5f",
           "arrowhead": 0,
           "arrowwidth": 1
          },
          "autotypenumbers": "strict",
          "coloraxis": {
           "colorbar": {
            "outlinewidth": 0,
            "ticks": ""
           }
          },
          "colorscale": {
           "diverging": [
            [
             0,
             "#8e0152"
            ],
            [
             0.1,
             "#c51b7d"
            ],
            [
             0.2,
             "#de77ae"
            ],
            [
             0.3,
             "#f1b6da"
            ],
            [
             0.4,
             "#fde0ef"
            ],
            [
             0.5,
             "#f7f7f7"
            ],
            [
             0.6,
             "#e6f5d0"
            ],
            [
             0.7,
             "#b8e186"
            ],
            [
             0.8,
             "#7fbc41"
            ],
            [
             0.9,
             "#4d9221"
            ],
            [
             1,
             "#276419"
            ]
           ],
           "sequential": [
            [
             0,
             "#0d0887"
            ],
            [
             0.1111111111111111,
             "#46039f"
            ],
            [
             0.2222222222222222,
             "#7201a8"
            ],
            [
             0.3333333333333333,
             "#9c179e"
            ],
            [
             0.4444444444444444,
             "#bd3786"
            ],
            [
             0.5555555555555556,
             "#d8576b"
            ],
            [
             0.6666666666666666,
             "#ed7953"
            ],
            [
             0.7777777777777778,
             "#fb9f3a"
            ],
            [
             0.8888888888888888,
             "#fdca26"
            ],
            [
             1,
             "#f0f921"
            ]
           ],
           "sequentialminus": [
            [
             0,
             "#0d0887"
            ],
            [
             0.1111111111111111,
             "#46039f"
            ],
            [
             0.2222222222222222,
             "#7201a8"
            ],
            [
             0.3333333333333333,
             "#9c179e"
            ],
            [
             0.4444444444444444,
             "#bd3786"
            ],
            [
             0.5555555555555556,
             "#d8576b"
            ],
            [
             0.6666666666666666,
             "#ed7953"
            ],
            [
             0.7777777777777778,
             "#fb9f3a"
            ],
            [
             0.8888888888888888,
             "#fdca26"
            ],
            [
             1,
             "#f0f921"
            ]
           ]
          },
          "colorway": [
           "#636efa",
           "#EF553B",
           "#00cc96",
           "#ab63fa",
           "#FFA15A",
           "#19d3f3",
           "#FF6692",
           "#B6E880",
           "#FF97FF",
           "#FECB52"
          ],
          "font": {
           "color": "#2a3f5f"
          },
          "geo": {
           "bgcolor": "white",
           "lakecolor": "white",
           "landcolor": "#E5ECF6",
           "showlakes": true,
           "showland": true,
           "subunitcolor": "white"
          },
          "hoverlabel": {
           "align": "left"
          },
          "hovermode": "closest",
          "mapbox": {
           "style": "light"
          },
          "paper_bgcolor": "white",
          "plot_bgcolor": "#E5ECF6",
          "polar": {
           "angularaxis": {
            "gridcolor": "white",
            "linecolor": "white",
            "ticks": ""
           },
           "bgcolor": "#E5ECF6",
           "radialaxis": {
            "gridcolor": "white",
            "linecolor": "white",
            "ticks": ""
           }
          },
          "scene": {
           "xaxis": {
            "backgroundcolor": "#E5ECF6",
            "gridcolor": "white",
            "gridwidth": 2,
            "linecolor": "white",
            "showbackground": true,
            "ticks": "",
            "zerolinecolor": "white"
           },
           "yaxis": {
            "backgroundcolor": "#E5ECF6",
            "gridcolor": "white",
            "gridwidth": 2,
            "linecolor": "white",
            "showbackground": true,
            "ticks": "",
            "zerolinecolor": "white"
           },
           "zaxis": {
            "backgroundcolor": "#E5ECF6",
            "gridcolor": "white",
            "gridwidth": 2,
            "linecolor": "white",
            "showbackground": true,
            "ticks": "",
            "zerolinecolor": "white"
           }
          },
          "shapedefaults": {
           "line": {
            "color": "#2a3f5f"
           }
          },
          "ternary": {
           "aaxis": {
            "gridcolor": "white",
            "linecolor": "white",
            "ticks": ""
           },
           "baxis": {
            "gridcolor": "white",
            "linecolor": "white",
            "ticks": ""
           },
           "bgcolor": "#E5ECF6",
           "caxis": {
            "gridcolor": "white",
            "linecolor": "white",
            "ticks": ""
           }
          },
          "title": {
           "x": 0.05
          },
          "xaxis": {
           "automargin": true,
           "gridcolor": "white",
           "linecolor": "white",
           "ticks": "",
           "title": {
            "standoff": 15
           },
           "zerolinecolor": "white",
           "zerolinewidth": 2
          },
          "yaxis": {
           "automargin": true,
           "gridcolor": "white",
           "linecolor": "white",
           "ticks": "",
           "title": {
            "standoff": 15
           },
           "zerolinecolor": "white",
           "zerolinewidth": 2
          }
         }
        },
        "xaxis": {
         "anchor": "y",
         "domain": [
          0,
          1
         ],
         "title": {
          "text": "DISC_YM"
         }
        },
        "yaxis": {
         "anchor": "x",
         "domain": [
          0,
          1
         ],
         "title": {
          "text": "Total Count"
         }
        }
       }
      }
     },
     "metadata": {},
     "output_type": "display_data"
    }
   ],
   "source": [
    "fig = px.line(month_year_counts, x=\"DISC_YM\", y=\"count\", color=\"STAT_CAUSE_DESCR\", labels={'count':'Total Count', 'STAT_CAUSE_DESCR': 'Causes'}, )\n",
    "fig.show()"
   ]
  },
  {
   "cell_type": "code",
   "execution_count": 267,
   "metadata": {},
   "outputs": [
    {
     "data": {
      "application/vnd.plotly.v1+json": {
       "config": {
        "plotlyServerURL": "https://plot.ly"
       },
       "data": [
        {
         "alignmentgroup": "True",
         "hovertemplate": "FIRE_YEAR=1992<br>DISC_YM=%{x}<br>count=%{y}<extra></extra>",
         "legendgroup": "1992",
         "marker": {
          "color": "#636efa",
          "pattern": {
           "shape": ""
          }
         },
         "name": "1992",
         "offsetgroup": "1992",
         "orientation": "v",
         "showlegend": true,
         "textposition": "auto",
         "type": "bar",
         "x": [
          "1992-01",
          "1992-02",
          "1992-03",
          "1992-04",
          "1992-05",
          "1992-06",
          "1992-07",
          "1992-08",
          "1992-09",
          "1992-10",
          "1992-11",
          "1992-12"
         ],
         "xaxis": "x",
         "y": [
          3603,
          7114,
          8706,
          7810,
          8574,
          7307,
          7618,
          7478,
          3717,
          3579,
          1398,
          1071
         ],
         "yaxis": "y"
        },
        {
         "alignmentgroup": "True",
         "hovertemplate": "FIRE_YEAR=1993<br>DISC_YM=%{x}<br>count=%{y}<extra></extra>",
         "legendgroup": "1993",
         "marker": {
          "color": "#EF553B",
          "pattern": {
           "shape": ""
          }
         },
         "name": "1993",
         "offsetgroup": "1993",
         "orientation": "v",
         "showlegend": true,
         "textposition": "auto",
         "type": "bar",
         "x": [
          "1993-01",
          "1993-02",
          "1993-03",
          "1993-04",
          "1993-05",
          "1993-06",
          "1993-07",
          "1993-08",
          "1993-09",
          "1993-10",
          "1993-11",
          "1993-12",
          "1994-03",
          "1994-07"
         ],
         "xaxis": "x",
         "y": [
          1553,
          4454,
          5355,
          6926,
          5980,
          6917,
          8763,
          7620,
          4984,
          4016,
          3321,
          2097,
          1,
          2
         ],
         "yaxis": "y"
        },
        {
         "alignmentgroup": "True",
         "hovertemplate": "FIRE_YEAR=1994<br>DISC_YM=%{x}<br>count=%{y}<extra></extra>",
         "legendgroup": "1994",
         "marker": {
          "color": "#00cc96",
          "pattern": {
           "shape": ""
          }
         },
         "name": "1994",
         "offsetgroup": "1994",
         "orientation": "v",
         "showlegend": true,
         "textposition": "auto",
         "type": "bar",
         "x": [
          "1994-01",
          "1994-02",
          "1994-03",
          "1994-04",
          "1994-05",
          "1994-06",
          "1994-07",
          "1994-08",
          "1994-09",
          "1994-10",
          "1994-11",
          "1994-12"
         ],
         "xaxis": "x",
         "y": [
          3271,
          5795,
          11369,
          9561,
          6908,
          6277,
          11884,
          8743,
          5130,
          2632,
          2964,
          1421
         ],
         "yaxis": "y"
        },
        {
         "alignmentgroup": "True",
         "hovertemplate": "FIRE_YEAR=1995<br>DISC_YM=%{x}<br>count=%{y}<extra></extra>",
         "legendgroup": "1995",
         "marker": {
          "color": "#ab63fa",
          "pattern": {
           "shape": ""
          }
         },
         "name": "1995",
         "offsetgroup": "1995",
         "orientation": "v",
         "showlegend": true,
         "textposition": "auto",
         "type": "bar",
         "x": [
          "1995-01",
          "1995-02",
          "1995-03",
          "1995-04",
          "1995-05",
          "1995-06",
          "1995-07",
          "1995-08",
          "1995-09",
          "1995-10",
          "1995-11",
          "1995-12"
         ],
         "xaxis": "x",
         "y": [
          1473,
          6010,
          10300,
          10089,
          5662,
          5137,
          8320,
          7058,
          7103,
          4098,
          3043,
          3179
         ],
         "yaxis": "y"
        },
        {
         "alignmentgroup": "True",
         "hovertemplate": "FIRE_YEAR=1996<br>DISC_YM=%{x}<br>count=%{y}<extra></extra>",
         "legendgroup": "1996",
         "marker": {
          "color": "#FFA15A",
          "pattern": {
           "shape": ""
          }
         },
         "name": "1996",
         "offsetgroup": "1996",
         "orientation": "v",
         "showlegend": true,
         "textposition": "auto",
         "type": "bar",
         "x": [
          "1996-01",
          "1996-02",
          "1996-03",
          "1996-04",
          "1996-05",
          "1996-06",
          "1996-07",
          "1996-08",
          "1996-09",
          "1996-10",
          "1996-11",
          "1996-12"
         ],
         "xaxis": "x",
         "y": [
          3239,
          10631,
          9605,
          10035,
          6592,
          6138,
          9698,
          9037,
          3839,
          3219,
          1926,
          1615
         ],
         "yaxis": "y"
        },
        {
         "alignmentgroup": "True",
         "hovertemplate": "FIRE_YEAR=1997<br>DISC_YM=%{x}<br>count=%{y}<extra></extra>",
         "legendgroup": "1997",
         "marker": {
          "color": "#19d3f3",
          "pattern": {
           "shape": ""
          }
         },
         "name": "1997",
         "offsetgroup": "1997",
         "orientation": "v",
         "showlegend": true,
         "textposition": "auto",
         "type": "bar",
         "x": [
          "1997-01",
          "1997-02",
          "1997-03",
          "1997-04",
          "1997-05",
          "1997-06",
          "1997-07",
          "1997-08",
          "1997-09",
          "1997-10",
          "1997-11",
          "1997-12"
         ],
         "xaxis": "x",
         "y": [
          2638,
          3621,
          8029,
          10018,
          6759,
          4321,
          7583,
          6019,
          5879,
          3699,
          1537,
          1347
         ],
         "yaxis": "y"
        },
        {
         "alignmentgroup": "True",
         "hovertemplate": "FIRE_YEAR=1998<br>DISC_YM=%{x}<br>count=%{y}<extra></extra>",
         "legendgroup": "1998",
         "marker": {
          "color": "#FF6692",
          "pattern": {
           "shape": ""
          }
         },
         "name": "1998",
         "offsetgroup": "1998",
         "orientation": "v",
         "showlegend": true,
         "textposition": "auto",
         "type": "bar",
         "x": [
          "1998-01",
          "1998-02",
          "1998-03",
          "1998-04",
          "1998-05",
          "1998-06",
          "1998-07",
          "1998-08",
          "1998-09",
          "1998-10",
          "1998-11",
          "1998-12"
         ],
         "xaxis": "x",
         "y": [
          1291,
          2804,
          6753,
          7619,
          4733,
          7347,
          10194,
          8862,
          6371,
          5329,
          4176,
          2891
         ],
         "yaxis": "y"
        },
        {
         "alignmentgroup": "True",
         "hovertemplate": "FIRE_YEAR=1999<br>DISC_YM=%{x}<br>count=%{y}<extra></extra>",
         "legendgroup": "1999",
         "marker": {
          "color": "#B6E880",
          "pattern": {
           "shape": ""
          }
         },
         "name": "1999",
         "offsetgroup": "1999",
         "orientation": "v",
         "showlegend": true,
         "textposition": "auto",
         "type": "bar",
         "x": [
          "1999-01",
          "1999-02",
          "1999-03",
          "1999-04",
          "1999-05",
          "1999-06",
          "1999-07",
          "1999-08",
          "1999-09",
          "1999-10",
          "1999-11",
          "1999-12"
         ],
         "xaxis": "x",
         "y": [
          3388,
          6215,
          10903,
          10520,
          6192,
          5990,
          7180,
          12430,
          9195,
          5795,
          7411,
          4144
         ],
         "yaxis": "y"
        },
        {
         "alignmentgroup": "True",
         "hovertemplate": "FIRE_YEAR=2000<br>DISC_YM=%{x}<br>count=%{y}<extra></extra>",
         "legendgroup": "2000",
         "marker": {
          "color": "#FF97FF",
          "pattern": {
           "shape": ""
          }
         },
         "name": "2000",
         "offsetgroup": "2000",
         "orientation": "v",
         "showlegend": true,
         "textposition": "auto",
         "type": "bar",
         "x": [
          "2000-01",
          "2000-02",
          "2000-03",
          "2000-04",
          "2000-05",
          "2000-06",
          "2000-07",
          "2000-08",
          "2000-09",
          "2000-10",
          "2000-11",
          "2000-12"
         ],
         "xaxis": "x",
         "y": [
          5113,
          10470,
          11523,
          8109,
          8026,
          8179,
          11927,
          13454,
          6524,
          7441,
          3185,
          2465
         ],
         "yaxis": "y"
        },
        {
         "alignmentgroup": "True",
         "hovertemplate": "FIRE_YEAR=2001<br>DISC_YM=%{x}<br>count=%{y}<extra></extra>",
         "legendgroup": "2001",
         "marker": {
          "color": "#FECB52",
          "pattern": {
           "shape": ""
          }
         },
         "name": "2001",
         "offsetgroup": "2001",
         "orientation": "v",
         "showlegend": true,
         "textposition": "auto",
         "type": "bar",
         "x": [
          "2001-01",
          "2001-02",
          "2001-03",
          "2001-04",
          "2001-05",
          "2001-06",
          "2001-07",
          "2001-08",
          "2001-09",
          "2001-10",
          "2001-11",
          "2001-12"
         ],
         "xaxis": "x",
         "y": [
          5426,
          6598,
          6626,
          10008,
          8985,
          6187,
          9856,
          8121,
          4901,
          6643,
          10332,
          2904
         ],
         "yaxis": "y"
        },
        {
         "alignmentgroup": "True",
         "hovertemplate": "FIRE_YEAR=2002<br>DISC_YM=%{x}<br>count=%{y}<extra></extra>",
         "legendgroup": "2002",
         "marker": {
          "color": "#636efa",
          "pattern": {
           "shape": ""
          }
         },
         "name": "2002",
         "offsetgroup": "2002",
         "orientation": "v",
         "showlegend": true,
         "textposition": "auto",
         "type": "bar",
         "x": [
          "2002-01",
          "2002-02",
          "2002-03",
          "2002-04",
          "2002-05",
          "2002-06",
          "2002-07",
          "2002-08",
          "2002-09",
          "2002-10",
          "2002-11",
          "2002-12"
         ],
         "xaxis": "x",
         "y": [
          3625,
          10104,
          9046,
          8728,
          7438,
          6823,
          10673,
          8518,
          4837,
          1964,
          2298,
          1602
         ],
         "yaxis": "y"
        },
        {
         "alignmentgroup": "True",
         "hovertemplate": "FIRE_YEAR=2003<br>DISC_YM=%{x}<br>count=%{y}<extra></extra>",
         "legendgroup": "2003",
         "marker": {
          "color": "#EF553B",
          "pattern": {
           "shape": ""
          }
         },
         "name": "2003",
         "offsetgroup": "2003",
         "orientation": "v",
         "showlegend": true,
         "textposition": "auto",
         "type": "bar",
         "x": [
          "2003-01",
          "2003-02",
          "2003-03",
          "2003-04",
          "2003-05",
          "2003-06",
          "2003-07",
          "2003-08",
          "2003-09",
          "2003-10",
          "2003-11",
          "2003-12"
         ],
         "xaxis": "x",
         "y": [
          4191,
          2910,
          6732,
          9879,
          5171,
          5294,
          10435,
          8983,
          4465,
          4602,
          3176,
          2423
         ],
         "yaxis": "y"
        },
        {
         "alignmentgroup": "True",
         "hovertemplate": "FIRE_YEAR=2004<br>DISC_YM=%{x}<br>count=%{y}<extra></extra>",
         "legendgroup": "2004",
         "marker": {
          "color": "#00cc96",
          "pattern": {
           "shape": ""
          }
         },
         "name": "2004",
         "offsetgroup": "2004",
         "orientation": "v",
         "showlegend": true,
         "textposition": "auto",
         "type": "bar",
         "x": [
          "2004-01",
          "2004-02",
          "2004-03",
          "2004-04",
          "2004-05",
          "2004-06",
          "2004-07",
          "2004-08",
          "2004-09",
          "2004-10",
          "2004-11",
          "2004-12"
         ],
         "xaxis": "x",
         "y": [
          3687,
          4299,
          12558,
          11387,
          5483,
          7059,
          8358,
          6864,
          3478,
          2085,
          2013,
          2008
         ],
         "yaxis": "y"
        },
        {
         "alignmentgroup": "True",
         "hovertemplate": "FIRE_YEAR=2005<br>DISC_YM=%{x}<br>count=%{y}<extra></extra>",
         "legendgroup": "2005",
         "marker": {
          "color": "#ab63fa",
          "pattern": {
           "shape": ""
          }
         },
         "name": "2005",
         "offsetgroup": "2005",
         "orientation": "v",
         "showlegend": true,
         "textposition": "auto",
         "type": "bar",
         "x": [
          "2005-01",
          "2005-02",
          "2005-03",
          "2005-04",
          "2005-05",
          "2005-06",
          "2005-07",
          "2005-08",
          "2005-09",
          "2005-10",
          "2005-11",
          "2005-12"
         ],
         "xaxis": "x",
         "y": [
          3916,
          5032,
          10303,
          12600,
          6232,
          6224,
          9558,
          8311,
          7560,
          5904,
          7663,
          5301
         ],
         "yaxis": "y"
        },
        {
         "alignmentgroup": "True",
         "hovertemplate": "FIRE_YEAR=2006<br>DISC_YM=%{x}<br>count=%{y}<extra></extra>",
         "legendgroup": "2006",
         "marker": {
          "color": "#FFA15A",
          "pattern": {
           "shape": ""
          }
         },
         "name": "2006",
         "offsetgroup": "2006",
         "orientation": "v",
         "showlegend": true,
         "textposition": "auto",
         "type": "bar",
         "x": [
          "2006-01",
          "2006-02",
          "2006-03",
          "2006-04",
          "2006-05",
          "2006-06",
          "2006-07",
          "2006-08",
          "2006-09",
          "2006-10",
          "2006-11",
          "2006-12"
         ],
         "xaxis": "x",
         "y": [
          9805,
          8277,
          18923,
          15901,
          8343,
          10884,
          15267,
          10993,
          4870,
          4208,
          3119,
          3414
         ],
         "yaxis": "y"
        },
        {
         "alignmentgroup": "True",
         "hovertemplate": "FIRE_YEAR=2007<br>DISC_YM=%{x}<br>count=%{y}<extra></extra>",
         "legendgroup": "2007",
         "marker": {
          "color": "#19d3f3",
          "pattern": {
           "shape": ""
          }
         },
         "name": "2007",
         "offsetgroup": "2007",
         "orientation": "v",
         "showlegend": true,
         "textposition": "auto",
         "type": "bar",
         "x": [
          "2007-01",
          "2007-02",
          "2007-03",
          "2007-04",
          "2007-05",
          "2007-06",
          "2007-07",
          "2007-08",
          "2007-09",
          "2007-10",
          "2007-11",
          "2007-12"
         ],
         "xaxis": "x",
         "y": [
          3222,
          8387,
          14098,
          10578,
          10291,
          8331,
          12084,
          9746,
          6455,
          4734,
          4234,
          3413
         ],
         "yaxis": "y"
        },
        {
         "alignmentgroup": "True",
         "hovertemplate": "FIRE_YEAR=2008<br>DISC_YM=%{x}<br>count=%{y}<extra></extra>",
         "legendgroup": "2008",
         "marker": {
          "color": "#FF6692",
          "pattern": {
           "shape": ""
          }
         },
         "name": "2008",
         "offsetgroup": "2008",
         "orientation": "v",
         "showlegend": true,
         "textposition": "auto",
         "type": "bar",
         "x": [
          "2008-01",
          "2008-02",
          "2008-03",
          "2008-04",
          "2008-05",
          "2008-06",
          "2008-07",
          "2008-08",
          "2008-09",
          "2008-10",
          "2008-11",
          "2008-12"
         ],
         "xaxis": "x",
         "y": [
          5580,
          6985,
          9876,
          10952,
          7146,
          10085,
          10107,
          8430,
          4200,
          4543,
          4693,
          2781
         ],
         "yaxis": "y"
        },
        {
         "alignmentgroup": "True",
         "hovertemplate": "FIRE_YEAR=2009<br>DISC_YM=%{x}<br>count=%{y}<extra></extra>",
         "legendgroup": "2009",
         "marker": {
          "color": "#B6E880",
          "pattern": {
           "shape": ""
          }
         },
         "name": "2009",
         "offsetgroup": "2009",
         "orientation": "v",
         "showlegend": true,
         "textposition": "auto",
         "type": "bar",
         "x": [
          "2009-01",
          "2009-02",
          "2009-03",
          "2009-04",
          "2009-05",
          "2009-06",
          "2009-07",
          "2009-08",
          "2009-09",
          "2009-10",
          "2009-11",
          "2009-12"
         ],
         "xaxis": "x",
         "y": [
          6129,
          9500,
          12344,
          11056,
          5920,
          5814,
          10460,
          6722,
          4608,
          1850,
          2930,
          992
         ],
         "yaxis": "y"
        },
        {
         "alignmentgroup": "True",
         "hovertemplate": "FIRE_YEAR=2010<br>DISC_YM=%{x}<br>count=%{y}<extra></extra>",
         "legendgroup": "2010",
         "marker": {
          "color": "#FF97FF",
          "pattern": {
           "shape": ""
          }
         },
         "name": "2010",
         "offsetgroup": "2010",
         "orientation": "v",
         "showlegend": true,
         "textposition": "auto",
         "type": "bar",
         "x": [
          "2009-10",
          "2010-01",
          "2010-02",
          "2010-03",
          "2010-04",
          "2010-05",
          "2010-06",
          "2010-07",
          "2010-08",
          "2010-09",
          "2010-10",
          "2010-11",
          "2010-12"
         ],
         "xaxis": "x",
         "y": [
          1,
          2312,
          2924,
          9423,
          11527,
          5180,
          5654,
          9144,
          8164,
          7637,
          8716,
          4758,
          4449
         ],
         "yaxis": "y"
        },
        {
         "alignmentgroup": "True",
         "hovertemplate": "FIRE_YEAR=2011<br>DISC_YM=%{x}<br>count=%{y}<extra></extra>",
         "legendgroup": "2011",
         "marker": {
          "color": "#FECB52",
          "pattern": {
           "shape": ""
          }
         },
         "name": "2011",
         "offsetgroup": "2011",
         "orientation": "v",
         "showlegend": true,
         "textposition": "auto",
         "type": "bar",
         "x": [
          "2011-01",
          "2011-02",
          "2011-03",
          "2011-04",
          "2011-05",
          "2011-06",
          "2011-07",
          "2011-08",
          "2011-09",
          "2011-10",
          "2011-11",
          "2011-12"
         ],
         "xaxis": "x",
         "y": [
          5227,
          10324,
          9481,
          8658,
          6846,
          9453,
          10633,
          11470,
          7984,
          4563,
          3627,
          2286
         ],
         "yaxis": "y"
        },
        {
         "alignmentgroup": "True",
         "hovertemplate": "FIRE_YEAR=2012<br>DISC_YM=%{x}<br>count=%{y}<extra></extra>",
         "legendgroup": "2012",
         "marker": {
          "color": "#636efa",
          "pattern": {
           "shape": ""
          }
         },
         "name": "2012",
         "offsetgroup": "2012",
         "orientation": "v",
         "showlegend": true,
         "textposition": "auto",
         "type": "bar",
         "x": [
          "2012-01",
          "2012-02",
          "2012-03",
          "2012-04",
          "2012-05",
          "2012-06",
          "2012-07",
          "2012-08",
          "2012-09",
          "2012-10",
          "2012-11",
          "2012-12"
         ],
         "xaxis": "x",
         "y": [
          4323,
          3854,
          8131,
          7839,
          5763,
          7285,
          11921,
          8218,
          5015,
          3704,
          4698,
          2018
         ],
         "yaxis": "y"
        },
        {
         "alignmentgroup": "True",
         "hovertemplate": "FIRE_YEAR=2013<br>DISC_YM=%{x}<br>count=%{y}<extra></extra>",
         "legendgroup": "2013",
         "marker": {
          "color": "#EF553B",
          "pattern": {
           "shape": ""
          }
         },
         "name": "2013",
         "offsetgroup": "2013",
         "orientation": "v",
         "showlegend": true,
         "textposition": "auto",
         "type": "bar",
         "x": [
          "2013-01",
          "2013-02",
          "2013-03",
          "2013-04",
          "2013-05",
          "2013-06",
          "2013-07",
          "2013-08",
          "2013-09",
          "2013-10",
          "2013-11",
          "2013-12"
         ],
         "xaxis": "x",
         "y": [
          3150,
          3255,
          8675,
          7523,
          7291,
          5722,
          8194,
          8292,
          4615,
          2598,
          3818,
          1647
         ],
         "yaxis": "y"
        },
        {
         "alignmentgroup": "True",
         "hovertemplate": "FIRE_YEAR=2014<br>DISC_YM=%{x}<br>count=%{y}<extra></extra>",
         "legendgroup": "2014",
         "marker": {
          "color": "#00cc96",
          "pattern": {
           "shape": ""
          }
         },
         "name": "2014",
         "offsetgroup": "2014",
         "orientation": "v",
         "showlegend": true,
         "textposition": "auto",
         "type": "bar",
         "x": [
          "2014-01",
          "2014-02",
          "2014-03",
          "2014-04",
          "2014-05",
          "2014-06",
          "2014-07",
          "2014-08",
          "2014-09",
          "2014-10",
          "2014-11",
          "2014-12"
         ],
         "xaxis": "x",
         "y": [
          6011,
          4365,
          9177,
          9850,
          6339,
          4603,
          8710,
          6638,
          3175,
          3077,
          4021,
          1787
         ],
         "yaxis": "y"
        },
        {
         "alignmentgroup": "True",
         "hovertemplate": "FIRE_YEAR=2015<br>DISC_YM=%{x}<br>count=%{y}<extra></extra>",
         "legendgroup": "2015",
         "marker": {
          "color": "#ab63fa",
          "pattern": {
           "shape": ""
          }
         },
         "name": "2015",
         "offsetgroup": "2015",
         "orientation": "v",
         "showlegend": true,
         "textposition": "auto",
         "type": "bar",
         "x": [
          "2015-01",
          "2015-02",
          "2015-03",
          "2015-04",
          "2015-05",
          "2015-06",
          "2015-07",
          "2015-08",
          "2015-09",
          "2015-10",
          "2015-11",
          "2015-12"
         ],
         "xaxis": "x",
         "y": [
          4265,
          5214,
          8046,
          9066,
          8044,
          6409,
          8665,
          8407,
          5523,
          5992,
          3296,
          1564
         ],
         "yaxis": "y"
        },
        {
         "marker": {
          "color": "blue"
         },
         "type": "scatter",
         "x": [
          "1992-01",
          "1992-02",
          "1992-03",
          "1992-04",
          "1992-05",
          "1992-06",
          "1992-07",
          "1992-08",
          "1992-09",
          "1992-10",
          "1992-11",
          "1992-12",
          "1993-01",
          "1993-02",
          "1993-03",
          "1993-04",
          "1993-05",
          "1993-06",
          "1993-07",
          "1993-08",
          "1993-09",
          "1993-10",
          "1993-11",
          "1993-12",
          "1994-01",
          "1994-02",
          "1994-03",
          "1994-03",
          "1994-04",
          "1994-05",
          "1994-06",
          "1994-07",
          "1994-07",
          "1994-08",
          "1994-09",
          "1994-10",
          "1994-11",
          "1994-12",
          "1995-01",
          "1995-02",
          "1995-03",
          "1995-04",
          "1995-05",
          "1995-06",
          "1995-07",
          "1995-08",
          "1995-09",
          "1995-10",
          "1995-11",
          "1995-12",
          "1996-01",
          "1996-02",
          "1996-03",
          "1996-04",
          "1996-05",
          "1996-06",
          "1996-07",
          "1996-08",
          "1996-09",
          "1996-10",
          "1996-11",
          "1996-12",
          "1997-01",
          "1997-02",
          "1997-03",
          "1997-04",
          "1997-05",
          "1997-06",
          "1997-07",
          "1997-08",
          "1997-09",
          "1997-10",
          "1997-11",
          "1997-12",
          "1998-01",
          "1998-02",
          "1998-03",
          "1998-04",
          "1998-05",
          "1998-06",
          "1998-07",
          "1998-08",
          "1998-09",
          "1998-10",
          "1998-11",
          "1998-12",
          "1999-01",
          "1999-02",
          "1999-03",
          "1999-04",
          "1999-05",
          "1999-06",
          "1999-07",
          "1999-08",
          "1999-09",
          "1999-10",
          "1999-11",
          "1999-12",
          "2000-01",
          "2000-02",
          "2000-03",
          "2000-04",
          "2000-05",
          "2000-06",
          "2000-07",
          "2000-08",
          "2000-09",
          "2000-10",
          "2000-11",
          "2000-12",
          "2001-01",
          "2001-02",
          "2001-03",
          "2001-04",
          "2001-05",
          "2001-06",
          "2001-07",
          "2001-08",
          "2001-09",
          "2001-10",
          "2001-11",
          "2001-12",
          "2002-01",
          "2002-02",
          "2002-03",
          "2002-04",
          "2002-05",
          "2002-06",
          "2002-07",
          "2002-08",
          "2002-09",
          "2002-10",
          "2002-11",
          "2002-12",
          "2003-01",
          "2003-02",
          "2003-03",
          "2003-04",
          "2003-05",
          "2003-06",
          "2003-07",
          "2003-08",
          "2003-09",
          "2003-10",
          "2003-11",
          "2003-12",
          "2004-01",
          "2004-02",
          "2004-03",
          "2004-04",
          "2004-05",
          "2004-06",
          "2004-07",
          "2004-08",
          "2004-09",
          "2004-10",
          "2004-11",
          "2004-12",
          "2005-01",
          "2005-02",
          "2005-03",
          "2005-04",
          "2005-05",
          "2005-06",
          "2005-07",
          "2005-08",
          "2005-09",
          "2005-10",
          "2005-11",
          "2005-12",
          "2006-01",
          "2006-02",
          "2006-03",
          "2006-04",
          "2006-05",
          "2006-06",
          "2006-07",
          "2006-08",
          "2006-09",
          "2006-10",
          "2006-11",
          "2006-12",
          "2007-01",
          "2007-02",
          "2007-03",
          "2007-04",
          "2007-05",
          "2007-06",
          "2007-07",
          "2007-08",
          "2007-09",
          "2007-10",
          "2007-11",
          "2007-12",
          "2008-01",
          "2008-02",
          "2008-03",
          "2008-04",
          "2008-05",
          "2008-06",
          "2008-07",
          "2008-08",
          "2008-09",
          "2008-10",
          "2008-11",
          "2008-12",
          "2009-01",
          "2009-02",
          "2009-03",
          "2009-04",
          "2009-05",
          "2009-06",
          "2009-07",
          "2009-08",
          "2009-09",
          "2009-10",
          "2009-10",
          "2009-11",
          "2009-12",
          "2010-01",
          "2010-02",
          "2010-03",
          "2010-04",
          "2010-05",
          "2010-06",
          "2010-07",
          "2010-08",
          "2010-09",
          "2010-10",
          "2010-11",
          "2010-12",
          "2011-01",
          "2011-02",
          "2011-03",
          "2011-04",
          "2011-05",
          "2011-06",
          "2011-07",
          "2011-08",
          "2011-09",
          "2011-10",
          "2011-11",
          "2011-12",
          "2012-01",
          "2012-02",
          "2012-03",
          "2012-04",
          "2012-05",
          "2012-06",
          "2012-07",
          "2012-08",
          "2012-09",
          "2012-10",
          "2012-11",
          "2012-12",
          "2013-01",
          "2013-02",
          "2013-03",
          "2013-04",
          "2013-05",
          "2013-06",
          "2013-07",
          "2013-08",
          "2013-09",
          "2013-10",
          "2013-11",
          "2013-12",
          "2014-01",
          "2014-02",
          "2014-03",
          "2014-04",
          "2014-05",
          "2014-06",
          "2014-07",
          "2014-08",
          "2014-09",
          "2014-10",
          "2014-11",
          "2014-12",
          "2015-01",
          "2015-02",
          "2015-03",
          "2015-04",
          "2015-05",
          "2015-06",
          "2015-07",
          "2015-08",
          "2015-09",
          "2015-10",
          "2015-11",
          "2015-12"
         ],
         "y": [
          3603,
          7114,
          8706,
          7810,
          8574,
          7307,
          7618,
          7478,
          3717,
          3579,
          1398,
          1071,
          1553,
          4454,
          5355,
          6926,
          5980,
          6917,
          8763,
          7620,
          4984,
          4016,
          3321,
          2097,
          3271,
          5795,
          1,
          11369,
          9561,
          6908,
          6277,
          2,
          11884,
          8743,
          5130,
          2632,
          2964,
          1421,
          1473,
          6010,
          10300,
          10089,
          5662,
          5137,
          8320,
          7058,
          7103,
          4098,
          3043,
          3179,
          3239,
          10631,
          9605,
          10035,
          6592,
          6138,
          9698,
          9037,
          3839,
          3219,
          1926,
          1615,
          2638,
          3621,
          8029,
          10018,
          6759,
          4321,
          7583,
          6019,
          5879,
          3699,
          1537,
          1347,
          1291,
          2804,
          6753,
          7619,
          4733,
          7347,
          10194,
          8862,
          6371,
          5329,
          4176,
          2891,
          3388,
          6215,
          10903,
          10520,
          6192,
          5990,
          7180,
          12430,
          9195,
          5795,
          7411,
          4144,
          5113,
          10470,
          11523,
          8109,
          8026,
          8179,
          11927,
          13454,
          6524,
          7441,
          3185,
          2465,
          5426,
          6598,
          6626,
          10008,
          8985,
          6187,
          9856,
          8121,
          4901,
          6643,
          10332,
          2904,
          3625,
          10104,
          9046,
          8728,
          7438,
          6823,
          10673,
          8518,
          4837,
          1964,
          2298,
          1602,
          4191,
          2910,
          6732,
          9879,
          5171,
          5294,
          10435,
          8983,
          4465,
          4602,
          3176,
          2423,
          3687,
          4299,
          12558,
          11387,
          5483,
          7059,
          8358,
          6864,
          3478,
          2085,
          2013,
          2008,
          3916,
          5032,
          10303,
          12600,
          6232,
          6224,
          9558,
          8311,
          7560,
          5904,
          7663,
          5301,
          9805,
          8277,
          18923,
          15901,
          8343,
          10884,
          15267,
          10993,
          4870,
          4208,
          3119,
          3414,
          3222,
          8387,
          14098,
          10578,
          10291,
          8331,
          12084,
          9746,
          6455,
          4734,
          4234,
          3413,
          5580,
          6985,
          9876,
          10952,
          7146,
          10085,
          10107,
          8430,
          4200,
          4543,
          4693,
          2781,
          6129,
          9500,
          12344,
          11056,
          5920,
          5814,
          10460,
          6722,
          4608,
          1850,
          1,
          2930,
          992,
          2312,
          2924,
          9423,
          11527,
          5180,
          5654,
          9144,
          8164,
          7637,
          8716,
          4758,
          4449,
          5227,
          10324,
          9481,
          8658,
          6846,
          9453,
          10633,
          11470,
          7984,
          4563,
          3627,
          2286,
          4323,
          3854,
          8131,
          7839,
          5763,
          7285,
          11921,
          8218,
          5015,
          3704,
          4698,
          2018,
          3150,
          3255,
          8675,
          7523,
          7291,
          5722,
          8194,
          8292,
          4615,
          2598,
          3818,
          1647,
          6011,
          4365,
          9177,
          9850,
          6339,
          4603,
          8710,
          6638,
          3175,
          3077,
          4021,
          1787,
          4265,
          5214,
          8046,
          9066,
          8044,
          6409,
          8665,
          8407,
          5523,
          5992,
          3296,
          1564
         ]
        }
       ],
       "layout": {
        "barmode": "relative",
        "legend": {
         "title": {
          "text": "FIRE_YEAR"
         },
         "tracegroupgap": 0
        },
        "margin": {
         "t": 60
        },
        "template": {
         "data": {
          "bar": [
           {
            "error_x": {
             "color": "#2a3f5f"
            },
            "error_y": {
             "color": "#2a3f5f"
            },
            "marker": {
             "line": {
              "color": "#E5ECF6",
              "width": 0.5
             },
             "pattern": {
              "fillmode": "overlay",
              "size": 10,
              "solidity": 0.2
             }
            },
            "type": "bar"
           }
          ],
          "barpolar": [
           {
            "marker": {
             "line": {
              "color": "#E5ECF6",
              "width": 0.5
             },
             "pattern": {
              "fillmode": "overlay",
              "size": 10,
              "solidity": 0.2
             }
            },
            "type": "barpolar"
           }
          ],
          "carpet": [
           {
            "aaxis": {
             "endlinecolor": "#2a3f5f",
             "gridcolor": "white",
             "linecolor": "white",
             "minorgridcolor": "white",
             "startlinecolor": "#2a3f5f"
            },
            "baxis": {
             "endlinecolor": "#2a3f5f",
             "gridcolor": "white",
             "linecolor": "white",
             "minorgridcolor": "white",
             "startlinecolor": "#2a3f5f"
            },
            "type": "carpet"
           }
          ],
          "choropleth": [
           {
            "colorbar": {
             "outlinewidth": 0,
             "ticks": ""
            },
            "type": "choropleth"
           }
          ],
          "contour": [
           {
            "colorbar": {
             "outlinewidth": 0,
             "ticks": ""
            },
            "colorscale": [
             [
              0,
              "#0d0887"
             ],
             [
              0.1111111111111111,
              "#46039f"
             ],
             [
              0.2222222222222222,
              "#7201a8"
             ],
             [
              0.3333333333333333,
              "#9c179e"
             ],
             [
              0.4444444444444444,
              "#bd3786"
             ],
             [
              0.5555555555555556,
              "#d8576b"
             ],
             [
              0.6666666666666666,
              "#ed7953"
             ],
             [
              0.7777777777777778,
              "#fb9f3a"
             ],
             [
              0.8888888888888888,
              "#fdca26"
             ],
             [
              1,
              "#f0f921"
             ]
            ],
            "type": "contour"
           }
          ],
          "contourcarpet": [
           {
            "colorbar": {
             "outlinewidth": 0,
             "ticks": ""
            },
            "type": "contourcarpet"
           }
          ],
          "heatmap": [
           {
            "colorbar": {
             "outlinewidth": 0,
             "ticks": ""
            },
            "colorscale": [
             [
              0,
              "#0d0887"
             ],
             [
              0.1111111111111111,
              "#46039f"
             ],
             [
              0.2222222222222222,
              "#7201a8"
             ],
             [
              0.3333333333333333,
              "#9c179e"
             ],
             [
              0.4444444444444444,
              "#bd3786"
             ],
             [
              0.5555555555555556,
              "#d8576b"
             ],
             [
              0.6666666666666666,
              "#ed7953"
             ],
             [
              0.7777777777777778,
              "#fb9f3a"
             ],
             [
              0.8888888888888888,
              "#fdca26"
             ],
             [
              1,
              "#f0f921"
             ]
            ],
            "type": "heatmap"
           }
          ],
          "heatmapgl": [
           {
            "colorbar": {
             "outlinewidth": 0,
             "ticks": ""
            },
            "colorscale": [
             [
              0,
              "#0d0887"
             ],
             [
              0.1111111111111111,
              "#46039f"
             ],
             [
              0.2222222222222222,
              "#7201a8"
             ],
             [
              0.3333333333333333,
              "#9c179e"
             ],
             [
              0.4444444444444444,
              "#bd3786"
             ],
             [
              0.5555555555555556,
              "#d8576b"
             ],
             [
              0.6666666666666666,
              "#ed7953"
             ],
             [
              0.7777777777777778,
              "#fb9f3a"
             ],
             [
              0.8888888888888888,
              "#fdca26"
             ],
             [
              1,
              "#f0f921"
             ]
            ],
            "type": "heatmapgl"
           }
          ],
          "histogram": [
           {
            "marker": {
             "pattern": {
              "fillmode": "overlay",
              "size": 10,
              "solidity": 0.2
             }
            },
            "type": "histogram"
           }
          ],
          "histogram2d": [
           {
            "colorbar": {
             "outlinewidth": 0,
             "ticks": ""
            },
            "colorscale": [
             [
              0,
              "#0d0887"
             ],
             [
              0.1111111111111111,
              "#46039f"
             ],
             [
              0.2222222222222222,
              "#7201a8"
             ],
             [
              0.3333333333333333,
              "#9c179e"
             ],
             [
              0.4444444444444444,
              "#bd3786"
             ],
             [
              0.5555555555555556,
              "#d8576b"
             ],
             [
              0.6666666666666666,
              "#ed7953"
             ],
             [
              0.7777777777777778,
              "#fb9f3a"
             ],
             [
              0.8888888888888888,
              "#fdca26"
             ],
             [
              1,
              "#f0f921"
             ]
            ],
            "type": "histogram2d"
           }
          ],
          "histogram2dcontour": [
           {
            "colorbar": {
             "outlinewidth": 0,
             "ticks": ""
            },
            "colorscale": [
             [
              0,
              "#0d0887"
             ],
             [
              0.1111111111111111,
              "#46039f"
             ],
             [
              0.2222222222222222,
              "#7201a8"
             ],
             [
              0.3333333333333333,
              "#9c179e"
             ],
             [
              0.4444444444444444,
              "#bd3786"
             ],
             [
              0.5555555555555556,
              "#d8576b"
             ],
             [
              0.6666666666666666,
              "#ed7953"
             ],
             [
              0.7777777777777778,
              "#fb9f3a"
             ],
             [
              0.8888888888888888,
              "#fdca26"
             ],
             [
              1,
              "#f0f921"
             ]
            ],
            "type": "histogram2dcontour"
           }
          ],
          "mesh3d": [
           {
            "colorbar": {
             "outlinewidth": 0,
             "ticks": ""
            },
            "type": "mesh3d"
           }
          ],
          "parcoords": [
           {
            "line": {
             "colorbar": {
              "outlinewidth": 0,
              "ticks": ""
             }
            },
            "type": "parcoords"
           }
          ],
          "pie": [
           {
            "automargin": true,
            "type": "pie"
           }
          ],
          "scatter": [
           {
            "fillpattern": {
             "fillmode": "overlay",
             "size": 10,
             "solidity": 0.2
            },
            "type": "scatter"
           }
          ],
          "scatter3d": [
           {
            "line": {
             "colorbar": {
              "outlinewidth": 0,
              "ticks": ""
             }
            },
            "marker": {
             "colorbar": {
              "outlinewidth": 0,
              "ticks": ""
             }
            },
            "type": "scatter3d"
           }
          ],
          "scattercarpet": [
           {
            "marker": {
             "colorbar": {
              "outlinewidth": 0,
              "ticks": ""
             }
            },
            "type": "scattercarpet"
           }
          ],
          "scattergeo": [
           {
            "marker": {
             "colorbar": {
              "outlinewidth": 0,
              "ticks": ""
             }
            },
            "type": "scattergeo"
           }
          ],
          "scattergl": [
           {
            "marker": {
             "colorbar": {
              "outlinewidth": 0,
              "ticks": ""
             }
            },
            "type": "scattergl"
           }
          ],
          "scattermapbox": [
           {
            "marker": {
             "colorbar": {
              "outlinewidth": 0,
              "ticks": ""
             }
            },
            "type": "scattermapbox"
           }
          ],
          "scatterpolar": [
           {
            "marker": {
             "colorbar": {
              "outlinewidth": 0,
              "ticks": ""
             }
            },
            "type": "scatterpolar"
           }
          ],
          "scatterpolargl": [
           {
            "marker": {
             "colorbar": {
              "outlinewidth": 0,
              "ticks": ""
             }
            },
            "type": "scatterpolargl"
           }
          ],
          "scatterternary": [
           {
            "marker": {
             "colorbar": {
              "outlinewidth": 0,
              "ticks": ""
             }
            },
            "type": "scatterternary"
           }
          ],
          "surface": [
           {
            "colorbar": {
             "outlinewidth": 0,
             "ticks": ""
            },
            "colorscale": [
             [
              0,
              "#0d0887"
             ],
             [
              0.1111111111111111,
              "#46039f"
             ],
             [
              0.2222222222222222,
              "#7201a8"
             ],
             [
              0.3333333333333333,
              "#9c179e"
             ],
             [
              0.4444444444444444,
              "#bd3786"
             ],
             [
              0.5555555555555556,
              "#d8576b"
             ],
             [
              0.6666666666666666,
              "#ed7953"
             ],
             [
              0.7777777777777778,
              "#fb9f3a"
             ],
             [
              0.8888888888888888,
              "#fdca26"
             ],
             [
              1,
              "#f0f921"
             ]
            ],
            "type": "surface"
           }
          ],
          "table": [
           {
            "cells": {
             "fill": {
              "color": "#EBF0F8"
             },
             "line": {
              "color": "white"
             }
            },
            "header": {
             "fill": {
              "color": "#C8D4E3"
             },
             "line": {
              "color": "white"
             }
            },
            "type": "table"
           }
          ]
         },
         "layout": {
          "annotationdefaults": {
           "arrowcolor": "#2a3f5f",
           "arrowhead": 0,
           "arrowwidth": 1
          },
          "autotypenumbers": "strict",
          "coloraxis": {
           "colorbar": {
            "outlinewidth": 0,
            "ticks": ""
           }
          },
          "colorscale": {
           "diverging": [
            [
             0,
             "#8e0152"
            ],
            [
             0.1,
             "#c51b7d"
            ],
            [
             0.2,
             "#de77ae"
            ],
            [
             0.3,
             "#f1b6da"
            ],
            [
             0.4,
             "#fde0ef"
            ],
            [
             0.5,
             "#f7f7f7"
            ],
            [
             0.6,
             "#e6f5d0"
            ],
            [
             0.7,
             "#b8e186"
            ],
            [
             0.8,
             "#7fbc41"
            ],
            [
             0.9,
             "#4d9221"
            ],
            [
             1,
             "#276419"
            ]
           ],
           "sequential": [
            [
             0,
             "#0d0887"
            ],
            [
             0.1111111111111111,
             "#46039f"
            ],
            [
             0.2222222222222222,
             "#7201a8"
            ],
            [
             0.3333333333333333,
             "#9c179e"
            ],
            [
             0.4444444444444444,
             "#bd3786"
            ],
            [
             0.5555555555555556,
             "#d8576b"
            ],
            [
             0.6666666666666666,
             "#ed7953"
            ],
            [
             0.7777777777777778,
             "#fb9f3a"
            ],
            [
             0.8888888888888888,
             "#fdca26"
            ],
            [
             1,
             "#f0f921"
            ]
           ],
           "sequentialminus": [
            [
             0,
             "#0d0887"
            ],
            [
             0.1111111111111111,
             "#46039f"
            ],
            [
             0.2222222222222222,
             "#7201a8"
            ],
            [
             0.3333333333333333,
             "#9c179e"
            ],
            [
             0.4444444444444444,
             "#bd3786"
            ],
            [
             0.5555555555555556,
             "#d8576b"
            ],
            [
             0.6666666666666666,
             "#ed7953"
            ],
            [
             0.7777777777777778,
             "#fb9f3a"
            ],
            [
             0.8888888888888888,
             "#fdca26"
            ],
            [
             1,
             "#f0f921"
            ]
           ]
          },
          "colorway": [
           "#636efa",
           "#EF553B",
           "#00cc96",
           "#ab63fa",
           "#FFA15A",
           "#19d3f3",
           "#FF6692",
           "#B6E880",
           "#FF97FF",
           "#FECB52"
          ],
          "font": {
           "color": "#2a3f5f"
          },
          "geo": {
           "bgcolor": "white",
           "lakecolor": "white",
           "landcolor": "#E5ECF6",
           "showlakes": true,
           "showland": true,
           "subunitcolor": "white"
          },
          "hoverlabel": {
           "align": "left"
          },
          "hovermode": "closest",
          "mapbox": {
           "style": "light"
          },
          "paper_bgcolor": "white",
          "plot_bgcolor": "#E5ECF6",
          "polar": {
           "angularaxis": {
            "gridcolor": "white",
            "linecolor": "white",
            "ticks": ""
           },
           "bgcolor": "#E5ECF6",
           "radialaxis": {
            "gridcolor": "white",
            "linecolor": "white",
            "ticks": ""
           }
          },
          "scene": {
           "xaxis": {
            "backgroundcolor": "#E5ECF6",
            "gridcolor": "white",
            "gridwidth": 2,
            "linecolor": "white",
            "showbackground": true,
            "ticks": "",
            "zerolinecolor": "white"
           },
           "yaxis": {
            "backgroundcolor": "#E5ECF6",
            "gridcolor": "white",
            "gridwidth": 2,
            "linecolor": "white",
            "showbackground": true,
            "ticks": "",
            "zerolinecolor": "white"
           },
           "zaxis": {
            "backgroundcolor": "#E5ECF6",
            "gridcolor": "white",
            "gridwidth": 2,
            "linecolor": "white",
            "showbackground": true,
            "ticks": "",
            "zerolinecolor": "white"
           }
          },
          "shapedefaults": {
           "line": {
            "color": "#2a3f5f"
           }
          },
          "ternary": {
           "aaxis": {
            "gridcolor": "white",
            "linecolor": "white",
            "ticks": ""
           },
           "baxis": {
            "gridcolor": "white",
            "linecolor": "white",
            "ticks": ""
           },
           "bgcolor": "#E5ECF6",
           "caxis": {
            "gridcolor": "white",
            "linecolor": "white",
            "ticks": ""
           }
          },
          "title": {
           "x": 0.05
          },
          "xaxis": {
           "automargin": true,
           "gridcolor": "white",
           "linecolor": "white",
           "ticks": "",
           "title": {
            "standoff": 15
           },
           "zerolinecolor": "white",
           "zerolinewidth": 2
          },
          "yaxis": {
           "automargin": true,
           "gridcolor": "white",
           "linecolor": "white",
           "ticks": "",
           "title": {
            "standoff": 15
           },
           "zerolinecolor": "white",
           "zerolinewidth": 2
          }
         }
        },
        "xaxis": {
         "anchor": "y",
         "domain": [
          0,
          1
         ],
         "title": {
          "text": "DISC_YM"
         }
        },
        "yaxis": {
         "anchor": "x",
         "domain": [
          0,
          1
         ],
         "title": {
          "text": "count"
         }
        }
       }
      }
     },
     "metadata": {},
     "output_type": "display_data"
    }
   ],
   "source": [
    "# month_year_counts[\"FIRE_YEAR\"] = month_year_counts[\"FIRE_YEAR\"].astype(str)\n",
    "fig = px.bar(month_year_counts, x=\"DISC_YM\", y=\"count\", color='FIRE_YEAR')\n",
    "fig.add_scatter( x=month_year_counts[\"DISC_YM\"], y=month_year_counts[\"count\"], marker=dict(color=\"blue\")) \n",
    "fig.show()"
   ]
  },
  {
   "cell_type": "code",
   "execution_count": 222,
   "metadata": {},
   "outputs": [
    {
     "data": {
      "text/html": [
       "<div>\n",
       "<style scoped>\n",
       "    .dataframe tbody tr th:only-of-type {\n",
       "        vertical-align: middle;\n",
       "    }\n",
       "\n",
       "    .dataframe tbody tr th {\n",
       "        vertical-align: top;\n",
       "    }\n",
       "\n",
       "    .dataframe thead th {\n",
       "        text-align: right;\n",
       "    }\n",
       "</style>\n",
       "<table border=\"1\" class=\"dataframe\">\n",
       "  <thead>\n",
       "    <tr style=\"text-align: right;\">\n",
       "      <th></th>\n",
       "      <th>DISC_YM</th>\n",
       "      <th>FIRE_YEAR</th>\n",
       "      <th>count</th>\n",
       "    </tr>\n",
       "  </thead>\n",
       "  <tbody>\n",
       "    <tr>\n",
       "      <th>0</th>\n",
       "      <td>1992-01</td>\n",
       "      <td>1992</td>\n",
       "      <td>3603</td>\n",
       "    </tr>\n",
       "    <tr>\n",
       "      <th>1</th>\n",
       "      <td>1992-02</td>\n",
       "      <td>1992</td>\n",
       "      <td>7114</td>\n",
       "    </tr>\n",
       "    <tr>\n",
       "      <th>2</th>\n",
       "      <td>1992-03</td>\n",
       "      <td>1992</td>\n",
       "      <td>8706</td>\n",
       "    </tr>\n",
       "    <tr>\n",
       "      <th>3</th>\n",
       "      <td>1992-04</td>\n",
       "      <td>1992</td>\n",
       "      <td>7810</td>\n",
       "    </tr>\n",
       "    <tr>\n",
       "      <th>4</th>\n",
       "      <td>1992-05</td>\n",
       "      <td>1992</td>\n",
       "      <td>8574</td>\n",
       "    </tr>\n",
       "    <tr>\n",
       "      <th>5</th>\n",
       "      <td>1992-06</td>\n",
       "      <td>1992</td>\n",
       "      <td>7307</td>\n",
       "    </tr>\n",
       "    <tr>\n",
       "      <th>6</th>\n",
       "      <td>1992-07</td>\n",
       "      <td>1992</td>\n",
       "      <td>7618</td>\n",
       "    </tr>\n",
       "    <tr>\n",
       "      <th>7</th>\n",
       "      <td>1992-08</td>\n",
       "      <td>1992</td>\n",
       "      <td>7478</td>\n",
       "    </tr>\n",
       "    <tr>\n",
       "      <th>8</th>\n",
       "      <td>1992-09</td>\n",
       "      <td>1992</td>\n",
       "      <td>3717</td>\n",
       "    </tr>\n",
       "    <tr>\n",
       "      <th>9</th>\n",
       "      <td>1992-10</td>\n",
       "      <td>1992</td>\n",
       "      <td>3579</td>\n",
       "    </tr>\n",
       "    <tr>\n",
       "      <th>10</th>\n",
       "      <td>1992-11</td>\n",
       "      <td>1992</td>\n",
       "      <td>1398</td>\n",
       "    </tr>\n",
       "    <tr>\n",
       "      <th>11</th>\n",
       "      <td>1992-12</td>\n",
       "      <td>1992</td>\n",
       "      <td>1071</td>\n",
       "    </tr>\n",
       "    <tr>\n",
       "      <th>12</th>\n",
       "      <td>1993-01</td>\n",
       "      <td>1993</td>\n",
       "      <td>1553</td>\n",
       "    </tr>\n",
       "    <tr>\n",
       "      <th>13</th>\n",
       "      <td>1993-02</td>\n",
       "      <td>1993</td>\n",
       "      <td>4454</td>\n",
       "    </tr>\n",
       "    <tr>\n",
       "      <th>14</th>\n",
       "      <td>1993-03</td>\n",
       "      <td>1993</td>\n",
       "      <td>5355</td>\n",
       "    </tr>\n",
       "    <tr>\n",
       "      <th>15</th>\n",
       "      <td>1993-04</td>\n",
       "      <td>1993</td>\n",
       "      <td>6926</td>\n",
       "    </tr>\n",
       "    <tr>\n",
       "      <th>16</th>\n",
       "      <td>1993-05</td>\n",
       "      <td>1993</td>\n",
       "      <td>5980</td>\n",
       "    </tr>\n",
       "    <tr>\n",
       "      <th>17</th>\n",
       "      <td>1993-06</td>\n",
       "      <td>1993</td>\n",
       "      <td>6917</td>\n",
       "    </tr>\n",
       "    <tr>\n",
       "      <th>18</th>\n",
       "      <td>1993-07</td>\n",
       "      <td>1993</td>\n",
       "      <td>8763</td>\n",
       "    </tr>\n",
       "    <tr>\n",
       "      <th>19</th>\n",
       "      <td>1993-08</td>\n",
       "      <td>1993</td>\n",
       "      <td>7620</td>\n",
       "    </tr>\n",
       "    <tr>\n",
       "      <th>20</th>\n",
       "      <td>1993-09</td>\n",
       "      <td>1993</td>\n",
       "      <td>4984</td>\n",
       "    </tr>\n",
       "    <tr>\n",
       "      <th>21</th>\n",
       "      <td>1993-10</td>\n",
       "      <td>1993</td>\n",
       "      <td>4016</td>\n",
       "    </tr>\n",
       "    <tr>\n",
       "      <th>22</th>\n",
       "      <td>1993-11</td>\n",
       "      <td>1993</td>\n",
       "      <td>3321</td>\n",
       "    </tr>\n",
       "    <tr>\n",
       "      <th>23</th>\n",
       "      <td>1993-12</td>\n",
       "      <td>1993</td>\n",
       "      <td>2097</td>\n",
       "    </tr>\n",
       "    <tr>\n",
       "      <th>24</th>\n",
       "      <td>1994-01</td>\n",
       "      <td>1994</td>\n",
       "      <td>3271</td>\n",
       "    </tr>\n",
       "    <tr>\n",
       "      <th>25</th>\n",
       "      <td>1994-02</td>\n",
       "      <td>1994</td>\n",
       "      <td>5795</td>\n",
       "    </tr>\n",
       "    <tr>\n",
       "      <th>26</th>\n",
       "      <td>1994-03</td>\n",
       "      <td>1993</td>\n",
       "      <td>1</td>\n",
       "    </tr>\n",
       "    <tr>\n",
       "      <th>27</th>\n",
       "      <td>1994-03</td>\n",
       "      <td>1994</td>\n",
       "      <td>11369</td>\n",
       "    </tr>\n",
       "    <tr>\n",
       "      <th>28</th>\n",
       "      <td>1994-04</td>\n",
       "      <td>1994</td>\n",
       "      <td>9561</td>\n",
       "    </tr>\n",
       "    <tr>\n",
       "      <th>29</th>\n",
       "      <td>1994-05</td>\n",
       "      <td>1994</td>\n",
       "      <td>6908</td>\n",
       "    </tr>\n",
       "    <tr>\n",
       "      <th>30</th>\n",
       "      <td>1994-06</td>\n",
       "      <td>1994</td>\n",
       "      <td>6277</td>\n",
       "    </tr>\n",
       "    <tr>\n",
       "      <th>31</th>\n",
       "      <td>1994-07</td>\n",
       "      <td>1993</td>\n",
       "      <td>2</td>\n",
       "    </tr>\n",
       "    <tr>\n",
       "      <th>32</th>\n",
       "      <td>1994-07</td>\n",
       "      <td>1994</td>\n",
       "      <td>11884</td>\n",
       "    </tr>\n",
       "    <tr>\n",
       "      <th>33</th>\n",
       "      <td>1994-08</td>\n",
       "      <td>1994</td>\n",
       "      <td>8743</td>\n",
       "    </tr>\n",
       "    <tr>\n",
       "      <th>34</th>\n",
       "      <td>1994-09</td>\n",
       "      <td>1994</td>\n",
       "      <td>5130</td>\n",
       "    </tr>\n",
       "    <tr>\n",
       "      <th>35</th>\n",
       "      <td>1994-10</td>\n",
       "      <td>1994</td>\n",
       "      <td>2632</td>\n",
       "    </tr>\n",
       "    <tr>\n",
       "      <th>36</th>\n",
       "      <td>1994-11</td>\n",
       "      <td>1994</td>\n",
       "      <td>2964</td>\n",
       "    </tr>\n",
       "    <tr>\n",
       "      <th>37</th>\n",
       "      <td>1994-12</td>\n",
       "      <td>1994</td>\n",
       "      <td>1421</td>\n",
       "    </tr>\n",
       "    <tr>\n",
       "      <th>38</th>\n",
       "      <td>1995-01</td>\n",
       "      <td>1995</td>\n",
       "      <td>1473</td>\n",
       "    </tr>\n",
       "    <tr>\n",
       "      <th>39</th>\n",
       "      <td>1995-02</td>\n",
       "      <td>1995</td>\n",
       "      <td>6010</td>\n",
       "    </tr>\n",
       "    <tr>\n",
       "      <th>40</th>\n",
       "      <td>1995-03</td>\n",
       "      <td>1995</td>\n",
       "      <td>10300</td>\n",
       "    </tr>\n",
       "    <tr>\n",
       "      <th>41</th>\n",
       "      <td>1995-04</td>\n",
       "      <td>1995</td>\n",
       "      <td>10089</td>\n",
       "    </tr>\n",
       "    <tr>\n",
       "      <th>42</th>\n",
       "      <td>1995-05</td>\n",
       "      <td>1995</td>\n",
       "      <td>5662</td>\n",
       "    </tr>\n",
       "    <tr>\n",
       "      <th>43</th>\n",
       "      <td>1995-06</td>\n",
       "      <td>1995</td>\n",
       "      <td>5137</td>\n",
       "    </tr>\n",
       "    <tr>\n",
       "      <th>44</th>\n",
       "      <td>1995-07</td>\n",
       "      <td>1995</td>\n",
       "      <td>8320</td>\n",
       "    </tr>\n",
       "    <tr>\n",
       "      <th>45</th>\n",
       "      <td>1995-08</td>\n",
       "      <td>1995</td>\n",
       "      <td>7058</td>\n",
       "    </tr>\n",
       "    <tr>\n",
       "      <th>46</th>\n",
       "      <td>1995-09</td>\n",
       "      <td>1995</td>\n",
       "      <td>7103</td>\n",
       "    </tr>\n",
       "    <tr>\n",
       "      <th>47</th>\n",
       "      <td>1995-10</td>\n",
       "      <td>1995</td>\n",
       "      <td>4098</td>\n",
       "    </tr>\n",
       "    <tr>\n",
       "      <th>48</th>\n",
       "      <td>1995-11</td>\n",
       "      <td>1995</td>\n",
       "      <td>3043</td>\n",
       "    </tr>\n",
       "    <tr>\n",
       "      <th>49</th>\n",
       "      <td>1995-12</td>\n",
       "      <td>1995</td>\n",
       "      <td>3179</td>\n",
       "    </tr>\n",
       "    <tr>\n",
       "      <th>50</th>\n",
       "      <td>1996-01</td>\n",
       "      <td>1996</td>\n",
       "      <td>3239</td>\n",
       "    </tr>\n",
       "    <tr>\n",
       "      <th>51</th>\n",
       "      <td>1996-02</td>\n",
       "      <td>1996</td>\n",
       "      <td>10631</td>\n",
       "    </tr>\n",
       "    <tr>\n",
       "      <th>52</th>\n",
       "      <td>1996-03</td>\n",
       "      <td>1996</td>\n",
       "      <td>9605</td>\n",
       "    </tr>\n",
       "    <tr>\n",
       "      <th>53</th>\n",
       "      <td>1996-04</td>\n",
       "      <td>1996</td>\n",
       "      <td>10035</td>\n",
       "    </tr>\n",
       "    <tr>\n",
       "      <th>54</th>\n",
       "      <td>1996-05</td>\n",
       "      <td>1996</td>\n",
       "      <td>6592</td>\n",
       "    </tr>\n",
       "    <tr>\n",
       "      <th>55</th>\n",
       "      <td>1996-06</td>\n",
       "      <td>1996</td>\n",
       "      <td>6138</td>\n",
       "    </tr>\n",
       "    <tr>\n",
       "      <th>56</th>\n",
       "      <td>1996-07</td>\n",
       "      <td>1996</td>\n",
       "      <td>9698</td>\n",
       "    </tr>\n",
       "    <tr>\n",
       "      <th>57</th>\n",
       "      <td>1996-08</td>\n",
       "      <td>1996</td>\n",
       "      <td>9037</td>\n",
       "    </tr>\n",
       "    <tr>\n",
       "      <th>58</th>\n",
       "      <td>1996-09</td>\n",
       "      <td>1996</td>\n",
       "      <td>3839</td>\n",
       "    </tr>\n",
       "    <tr>\n",
       "      <th>59</th>\n",
       "      <td>1996-10</td>\n",
       "      <td>1996</td>\n",
       "      <td>3219</td>\n",
       "    </tr>\n",
       "    <tr>\n",
       "      <th>60</th>\n",
       "      <td>1996-11</td>\n",
       "      <td>1996</td>\n",
       "      <td>1926</td>\n",
       "    </tr>\n",
       "    <tr>\n",
       "      <th>61</th>\n",
       "      <td>1996-12</td>\n",
       "      <td>1996</td>\n",
       "      <td>1615</td>\n",
       "    </tr>\n",
       "    <tr>\n",
       "      <th>62</th>\n",
       "      <td>1997-01</td>\n",
       "      <td>1997</td>\n",
       "      <td>2638</td>\n",
       "    </tr>\n",
       "    <tr>\n",
       "      <th>63</th>\n",
       "      <td>1997-02</td>\n",
       "      <td>1997</td>\n",
       "      <td>3621</td>\n",
       "    </tr>\n",
       "    <tr>\n",
       "      <th>64</th>\n",
       "      <td>1997-03</td>\n",
       "      <td>1997</td>\n",
       "      <td>8029</td>\n",
       "    </tr>\n",
       "    <tr>\n",
       "      <th>65</th>\n",
       "      <td>1997-04</td>\n",
       "      <td>1997</td>\n",
       "      <td>10018</td>\n",
       "    </tr>\n",
       "    <tr>\n",
       "      <th>66</th>\n",
       "      <td>1997-05</td>\n",
       "      <td>1997</td>\n",
       "      <td>6759</td>\n",
       "    </tr>\n",
       "    <tr>\n",
       "      <th>67</th>\n",
       "      <td>1997-06</td>\n",
       "      <td>1997</td>\n",
       "      <td>4321</td>\n",
       "    </tr>\n",
       "    <tr>\n",
       "      <th>68</th>\n",
       "      <td>1997-07</td>\n",
       "      <td>1997</td>\n",
       "      <td>7583</td>\n",
       "    </tr>\n",
       "    <tr>\n",
       "      <th>69</th>\n",
       "      <td>1997-08</td>\n",
       "      <td>1997</td>\n",
       "      <td>6019</td>\n",
       "    </tr>\n",
       "    <tr>\n",
       "      <th>70</th>\n",
       "      <td>1997-09</td>\n",
       "      <td>1997</td>\n",
       "      <td>5879</td>\n",
       "    </tr>\n",
       "    <tr>\n",
       "      <th>71</th>\n",
       "      <td>1997-10</td>\n",
       "      <td>1997</td>\n",
       "      <td>3699</td>\n",
       "    </tr>\n",
       "    <tr>\n",
       "      <th>72</th>\n",
       "      <td>1997-11</td>\n",
       "      <td>1997</td>\n",
       "      <td>1537</td>\n",
       "    </tr>\n",
       "    <tr>\n",
       "      <th>73</th>\n",
       "      <td>1997-12</td>\n",
       "      <td>1997</td>\n",
       "      <td>1347</td>\n",
       "    </tr>\n",
       "    <tr>\n",
       "      <th>74</th>\n",
       "      <td>1998-01</td>\n",
       "      <td>1998</td>\n",
       "      <td>1291</td>\n",
       "    </tr>\n",
       "    <tr>\n",
       "      <th>75</th>\n",
       "      <td>1998-02</td>\n",
       "      <td>1998</td>\n",
       "      <td>2804</td>\n",
       "    </tr>\n",
       "    <tr>\n",
       "      <th>76</th>\n",
       "      <td>1998-03</td>\n",
       "      <td>1998</td>\n",
       "      <td>6753</td>\n",
       "    </tr>\n",
       "    <tr>\n",
       "      <th>77</th>\n",
       "      <td>1998-04</td>\n",
       "      <td>1998</td>\n",
       "      <td>7619</td>\n",
       "    </tr>\n",
       "    <tr>\n",
       "      <th>78</th>\n",
       "      <td>1998-05</td>\n",
       "      <td>1998</td>\n",
       "      <td>4733</td>\n",
       "    </tr>\n",
       "    <tr>\n",
       "      <th>79</th>\n",
       "      <td>1998-06</td>\n",
       "      <td>1998</td>\n",
       "      <td>7347</td>\n",
       "    </tr>\n",
       "    <tr>\n",
       "      <th>80</th>\n",
       "      <td>1998-07</td>\n",
       "      <td>1998</td>\n",
       "      <td>10194</td>\n",
       "    </tr>\n",
       "    <tr>\n",
       "      <th>81</th>\n",
       "      <td>1998-08</td>\n",
       "      <td>1998</td>\n",
       "      <td>8862</td>\n",
       "    </tr>\n",
       "    <tr>\n",
       "      <th>82</th>\n",
       "      <td>1998-09</td>\n",
       "      <td>1998</td>\n",
       "      <td>6371</td>\n",
       "    </tr>\n",
       "    <tr>\n",
       "      <th>83</th>\n",
       "      <td>1998-10</td>\n",
       "      <td>1998</td>\n",
       "      <td>5329</td>\n",
       "    </tr>\n",
       "    <tr>\n",
       "      <th>84</th>\n",
       "      <td>1998-11</td>\n",
       "      <td>1998</td>\n",
       "      <td>4176</td>\n",
       "    </tr>\n",
       "    <tr>\n",
       "      <th>85</th>\n",
       "      <td>1998-12</td>\n",
       "      <td>1998</td>\n",
       "      <td>2891</td>\n",
       "    </tr>\n",
       "    <tr>\n",
       "      <th>86</th>\n",
       "      <td>1999-01</td>\n",
       "      <td>1999</td>\n",
       "      <td>3388</td>\n",
       "    </tr>\n",
       "    <tr>\n",
       "      <th>87</th>\n",
       "      <td>1999-02</td>\n",
       "      <td>1999</td>\n",
       "      <td>6215</td>\n",
       "    </tr>\n",
       "    <tr>\n",
       "      <th>88</th>\n",
       "      <td>1999-03</td>\n",
       "      <td>1999</td>\n",
       "      <td>10903</td>\n",
       "    </tr>\n",
       "    <tr>\n",
       "      <th>89</th>\n",
       "      <td>1999-04</td>\n",
       "      <td>1999</td>\n",
       "      <td>10520</td>\n",
       "    </tr>\n",
       "    <tr>\n",
       "      <th>90</th>\n",
       "      <td>1999-05</td>\n",
       "      <td>1999</td>\n",
       "      <td>6192</td>\n",
       "    </tr>\n",
       "    <tr>\n",
       "      <th>91</th>\n",
       "      <td>1999-06</td>\n",
       "      <td>1999</td>\n",
       "      <td>5990</td>\n",
       "    </tr>\n",
       "    <tr>\n",
       "      <th>92</th>\n",
       "      <td>1999-07</td>\n",
       "      <td>1999</td>\n",
       "      <td>7180</td>\n",
       "    </tr>\n",
       "    <tr>\n",
       "      <th>93</th>\n",
       "      <td>1999-08</td>\n",
       "      <td>1999</td>\n",
       "      <td>12430</td>\n",
       "    </tr>\n",
       "    <tr>\n",
       "      <th>94</th>\n",
       "      <td>1999-09</td>\n",
       "      <td>1999</td>\n",
       "      <td>9195</td>\n",
       "    </tr>\n",
       "    <tr>\n",
       "      <th>95</th>\n",
       "      <td>1999-10</td>\n",
       "      <td>1999</td>\n",
       "      <td>5795</td>\n",
       "    </tr>\n",
       "    <tr>\n",
       "      <th>96</th>\n",
       "      <td>1999-11</td>\n",
       "      <td>1999</td>\n",
       "      <td>7411</td>\n",
       "    </tr>\n",
       "    <tr>\n",
       "      <th>97</th>\n",
       "      <td>1999-12</td>\n",
       "      <td>1999</td>\n",
       "      <td>4144</td>\n",
       "    </tr>\n",
       "    <tr>\n",
       "      <th>98</th>\n",
       "      <td>2000-01</td>\n",
       "      <td>2000</td>\n",
       "      <td>5113</td>\n",
       "    </tr>\n",
       "    <tr>\n",
       "      <th>99</th>\n",
       "      <td>2000-02</td>\n",
       "      <td>2000</td>\n",
       "      <td>10470</td>\n",
       "    </tr>\n",
       "  </tbody>\n",
       "</table>\n",
       "</div>"
      ],
      "text/plain": [
       "    DISC_YM  FIRE_YEAR  count\n",
       "0   1992-01       1992   3603\n",
       "1   1992-02       1992   7114\n",
       "2   1992-03       1992   8706\n",
       "3   1992-04       1992   7810\n",
       "4   1992-05       1992   8574\n",
       "5   1992-06       1992   7307\n",
       "6   1992-07       1992   7618\n",
       "7   1992-08       1992   7478\n",
       "8   1992-09       1992   3717\n",
       "9   1992-10       1992   3579\n",
       "10  1992-11       1992   1398\n",
       "11  1992-12       1992   1071\n",
       "12  1993-01       1993   1553\n",
       "13  1993-02       1993   4454\n",
       "14  1993-03       1993   5355\n",
       "15  1993-04       1993   6926\n",
       "16  1993-05       1993   5980\n",
       "17  1993-06       1993   6917\n",
       "18  1993-07       1993   8763\n",
       "19  1993-08       1993   7620\n",
       "20  1993-09       1993   4984\n",
       "21  1993-10       1993   4016\n",
       "22  1993-11       1993   3321\n",
       "23  1993-12       1993   2097\n",
       "24  1994-01       1994   3271\n",
       "25  1994-02       1994   5795\n",
       "26  1994-03       1993      1\n",
       "27  1994-03       1994  11369\n",
       "28  1994-04       1994   9561\n",
       "29  1994-05       1994   6908\n",
       "30  1994-06       1994   6277\n",
       "31  1994-07       1993      2\n",
       "32  1994-07       1994  11884\n",
       "33  1994-08       1994   8743\n",
       "34  1994-09       1994   5130\n",
       "35  1994-10       1994   2632\n",
       "36  1994-11       1994   2964\n",
       "37  1994-12       1994   1421\n",
       "38  1995-01       1995   1473\n",
       "39  1995-02       1995   6010\n",
       "40  1995-03       1995  10300\n",
       "41  1995-04       1995  10089\n",
       "42  1995-05       1995   5662\n",
       "43  1995-06       1995   5137\n",
       "44  1995-07       1995   8320\n",
       "45  1995-08       1995   7058\n",
       "46  1995-09       1995   7103\n",
       "47  1995-10       1995   4098\n",
       "48  1995-11       1995   3043\n",
       "49  1995-12       1995   3179\n",
       "50  1996-01       1996   3239\n",
       "51  1996-02       1996  10631\n",
       "52  1996-03       1996   9605\n",
       "53  1996-04       1996  10035\n",
       "54  1996-05       1996   6592\n",
       "55  1996-06       1996   6138\n",
       "56  1996-07       1996   9698\n",
       "57  1996-08       1996   9037\n",
       "58  1996-09       1996   3839\n",
       "59  1996-10       1996   3219\n",
       "60  1996-11       1996   1926\n",
       "61  1996-12       1996   1615\n",
       "62  1997-01       1997   2638\n",
       "63  1997-02       1997   3621\n",
       "64  1997-03       1997   8029\n",
       "65  1997-04       1997  10018\n",
       "66  1997-05       1997   6759\n",
       "67  1997-06       1997   4321\n",
       "68  1997-07       1997   7583\n",
       "69  1997-08       1997   6019\n",
       "70  1997-09       1997   5879\n",
       "71  1997-10       1997   3699\n",
       "72  1997-11       1997   1537\n",
       "73  1997-12       1997   1347\n",
       "74  1998-01       1998   1291\n",
       "75  1998-02       1998   2804\n",
       "76  1998-03       1998   6753\n",
       "77  1998-04       1998   7619\n",
       "78  1998-05       1998   4733\n",
       "79  1998-06       1998   7347\n",
       "80  1998-07       1998  10194\n",
       "81  1998-08       1998   8862\n",
       "82  1998-09       1998   6371\n",
       "83  1998-10       1998   5329\n",
       "84  1998-11       1998   4176\n",
       "85  1998-12       1998   2891\n",
       "86  1999-01       1999   3388\n",
       "87  1999-02       1999   6215\n",
       "88  1999-03       1999  10903\n",
       "89  1999-04       1999  10520\n",
       "90  1999-05       1999   6192\n",
       "91  1999-06       1999   5990\n",
       "92  1999-07       1999   7180\n",
       "93  1999-08       1999  12430\n",
       "94  1999-09       1999   9195\n",
       "95  1999-10       1999   5795\n",
       "96  1999-11       1999   7411\n",
       "97  1999-12       1999   4144\n",
       "98  2000-01       2000   5113\n",
       "99  2000-02       2000  10470"
      ]
     },
     "execution_count": 222,
     "metadata": {},
     "output_type": "execute_result"
    }
   ],
   "source": [
    "month_year_counts.head(100)"
   ]
  },
  {
   "cell_type": "code",
   "execution_count": 130,
   "metadata": {},
   "outputs": [
    {
     "data": {
      "application/vnd.plotly.v1+json": {
       "config": {
        "plotlyServerURL": "https://plot.ly"
       },
       "data": [
        {
         "texttemplate": "%{y}",
         "type": "bar",
         "x": [
          "Whitman",
          "Kidder",
          "Walsh",
          "Kenton",
          "Osborne",
          "Payne",
          "Trimble",
          "Issaquena",
          "Saginaw",
          "Towner",
          "Divide",
          "Mountrail",
          "Shiawassee",
          "Ingham",
          "Tulsa",
          "Iroquois",
          "Bottineau",
          "McLeod",
          "Sibley",
          "Gove",
          "Oklahoma",
          "Nowata",
          "Manitowoc",
          "Wallace",
          "Bolivar",
          "Beckham",
          "Emmons",
          "Yellow Medicine",
          "Bartholomew",
          "Wilkin",
          "Branch",
          "Bureau",
          "Traill",
          "Wade Hampton",
          "McClain",
          "Swift",
          "Lenawee",
          "Rawlins",
          "Boyle",
          "Spencer",
          "Major",
          "Stanton",
          "Valdez-Cordova",
          "Kewaunee",
          "Coal",
          "La Crosse",
          "Newport News City",
          "Grand Isle",
          "Anchorage",
          "E. Carroll",
          "Cotton",
          "Door",
          "Cole",
          "Skagway-Yakutat-Angoon",
          "Cottonwood",
          "Petersburg City",
          "Gosper",
          "Tensas",
          "Virginia Beach city",
          "Trego",
          "Woods",
          "Pemiscot",
          "Jessamine",
          "St. Joseph",
          "Red Lake",
          "Colonial Heights City",
          "Toole",
          "Pipestone",
          "Garden",
          "Ozaukee",
          "Hillsdale",
          "Terrebonne",
          "Richmond (city)",
          "Love",
          "Alfalfa",
          "Kodiak Island",
          "Rogers",
          "Milwaukee",
          "Kingfisher",
          "Glacier County",
          "Fairfax",
          "Freeborn",
          "Hampton City",
          "Buena Vista City",
          "Pepin",
          "Gurabo Municipio",
          "O'Brien",
          "Wells",
          "Cuyahoga",
          "Daniels",
          "Canadian",
          "Concordia",
          "Denver",
          "Kenosha",
          "Costilla",
          "Gratiot",
          "Faribault",
          "Dubois",
          "Ascension",
          "Garvin"
         ],
         "y": [
          4,
          4,
          4,
          4,
          4,
          4,
          4,
          4,
          4,
          4,
          4,
          4,
          4,
          4,
          3,
          3,
          3,
          3,
          3,
          3,
          3,
          3,
          3,
          3,
          3,
          3,
          3,
          3,
          3,
          3,
          3,
          3,
          3,
          3,
          3,
          3,
          3,
          3,
          3,
          3,
          2,
          2,
          2,
          2,
          2,
          2,
          2,
          2,
          2,
          2,
          2,
          2,
          2,
          2,
          2,
          2,
          2,
          2,
          2,
          2,
          2,
          2,
          2,
          2,
          1,
          1,
          1,
          1,
          1,
          1,
          1,
          1,
          1,
          1,
          1,
          1,
          1,
          1,
          1,
          1,
          1,
          1,
          1,
          1,
          1,
          1,
          1,
          1,
          1,
          1,
          1,
          1,
          1,
          1,
          1,
          1,
          1,
          1,
          1,
          1
         ]
        }
       ],
       "layout": {
        "template": {
         "data": {
          "bar": [
           {
            "error_x": {
             "color": "#2a3f5f"
            },
            "error_y": {
             "color": "#2a3f5f"
            },
            "marker": {
             "line": {
              "color": "#E5ECF6",
              "width": 0.5
             },
             "pattern": {
              "fillmode": "overlay",
              "size": 10,
              "solidity": 0.2
             }
            },
            "type": "bar"
           }
          ],
          "barpolar": [
           {
            "marker": {
             "line": {
              "color": "#E5ECF6",
              "width": 0.5
             },
             "pattern": {
              "fillmode": "overlay",
              "size": 10,
              "solidity": 0.2
             }
            },
            "type": "barpolar"
           }
          ],
          "carpet": [
           {
            "aaxis": {
             "endlinecolor": "#2a3f5f",
             "gridcolor": "white",
             "linecolor": "white",
             "minorgridcolor": "white",
             "startlinecolor": "#2a3f5f"
            },
            "baxis": {
             "endlinecolor": "#2a3f5f",
             "gridcolor": "white",
             "linecolor": "white",
             "minorgridcolor": "white",
             "startlinecolor": "#2a3f5f"
            },
            "type": "carpet"
           }
          ],
          "choropleth": [
           {
            "colorbar": {
             "outlinewidth": 0,
             "ticks": ""
            },
            "type": "choropleth"
           }
          ],
          "contour": [
           {
            "colorbar": {
             "outlinewidth": 0,
             "ticks": ""
            },
            "colorscale": [
             [
              0,
              "#0d0887"
             ],
             [
              0.1111111111111111,
              "#46039f"
             ],
             [
              0.2222222222222222,
              "#7201a8"
             ],
             [
              0.3333333333333333,
              "#9c179e"
             ],
             [
              0.4444444444444444,
              "#bd3786"
             ],
             [
              0.5555555555555556,
              "#d8576b"
             ],
             [
              0.6666666666666666,
              "#ed7953"
             ],
             [
              0.7777777777777778,
              "#fb9f3a"
             ],
             [
              0.8888888888888888,
              "#fdca26"
             ],
             [
              1,
              "#f0f921"
             ]
            ],
            "type": "contour"
           }
          ],
          "contourcarpet": [
           {
            "colorbar": {
             "outlinewidth": 0,
             "ticks": ""
            },
            "type": "contourcarpet"
           }
          ],
          "heatmap": [
           {
            "colorbar": {
             "outlinewidth": 0,
             "ticks": ""
            },
            "colorscale": [
             [
              0,
              "#0d0887"
             ],
             [
              0.1111111111111111,
              "#46039f"
             ],
             [
              0.2222222222222222,
              "#7201a8"
             ],
             [
              0.3333333333333333,
              "#9c179e"
             ],
             [
              0.4444444444444444,
              "#bd3786"
             ],
             [
              0.5555555555555556,
              "#d8576b"
             ],
             [
              0.6666666666666666,
              "#ed7953"
             ],
             [
              0.7777777777777778,
              "#fb9f3a"
             ],
             [
              0.8888888888888888,
              "#fdca26"
             ],
             [
              1,
              "#f0f921"
             ]
            ],
            "type": "heatmap"
           }
          ],
          "heatmapgl": [
           {
            "colorbar": {
             "outlinewidth": 0,
             "ticks": ""
            },
            "colorscale": [
             [
              0,
              "#0d0887"
             ],
             [
              0.1111111111111111,
              "#46039f"
             ],
             [
              0.2222222222222222,
              "#7201a8"
             ],
             [
              0.3333333333333333,
              "#9c179e"
             ],
             [
              0.4444444444444444,
              "#bd3786"
             ],
             [
              0.5555555555555556,
              "#d8576b"
             ],
             [
              0.6666666666666666,
              "#ed7953"
             ],
             [
              0.7777777777777778,
              "#fb9f3a"
             ],
             [
              0.8888888888888888,
              "#fdca26"
             ],
             [
              1,
              "#f0f921"
             ]
            ],
            "type": "heatmapgl"
           }
          ],
          "histogram": [
           {
            "marker": {
             "pattern": {
              "fillmode": "overlay",
              "size": 10,
              "solidity": 0.2
             }
            },
            "type": "histogram"
           }
          ],
          "histogram2d": [
           {
            "colorbar": {
             "outlinewidth": 0,
             "ticks": ""
            },
            "colorscale": [
             [
              0,
              "#0d0887"
             ],
             [
              0.1111111111111111,
              "#46039f"
             ],
             [
              0.2222222222222222,
              "#7201a8"
             ],
             [
              0.3333333333333333,
              "#9c179e"
             ],
             [
              0.4444444444444444,
              "#bd3786"
             ],
             [
              0.5555555555555556,
              "#d8576b"
             ],
             [
              0.6666666666666666,
              "#ed7953"
             ],
             [
              0.7777777777777778,
              "#fb9f3a"
             ],
             [
              0.8888888888888888,
              "#fdca26"
             ],
             [
              1,
              "#f0f921"
             ]
            ],
            "type": "histogram2d"
           }
          ],
          "histogram2dcontour": [
           {
            "colorbar": {
             "outlinewidth": 0,
             "ticks": ""
            },
            "colorscale": [
             [
              0,
              "#0d0887"
             ],
             [
              0.1111111111111111,
              "#46039f"
             ],
             [
              0.2222222222222222,
              "#7201a8"
             ],
             [
              0.3333333333333333,
              "#9c179e"
             ],
             [
              0.4444444444444444,
              "#bd3786"
             ],
             [
              0.5555555555555556,
              "#d8576b"
             ],
             [
              0.6666666666666666,
              "#ed7953"
             ],
             [
              0.7777777777777778,
              "#fb9f3a"
             ],
             [
              0.8888888888888888,
              "#fdca26"
             ],
             [
              1,
              "#f0f921"
             ]
            ],
            "type": "histogram2dcontour"
           }
          ],
          "mesh3d": [
           {
            "colorbar": {
             "outlinewidth": 0,
             "ticks": ""
            },
            "type": "mesh3d"
           }
          ],
          "parcoords": [
           {
            "line": {
             "colorbar": {
              "outlinewidth": 0,
              "ticks": ""
             }
            },
            "type": "parcoords"
           }
          ],
          "pie": [
           {
            "automargin": true,
            "type": "pie"
           }
          ],
          "scatter": [
           {
            "fillpattern": {
             "fillmode": "overlay",
             "size": 10,
             "solidity": 0.2
            },
            "type": "scatter"
           }
          ],
          "scatter3d": [
           {
            "line": {
             "colorbar": {
              "outlinewidth": 0,
              "ticks": ""
             }
            },
            "marker": {
             "colorbar": {
              "outlinewidth": 0,
              "ticks": ""
             }
            },
            "type": "scatter3d"
           }
          ],
          "scattercarpet": [
           {
            "marker": {
             "colorbar": {
              "outlinewidth": 0,
              "ticks": ""
             }
            },
            "type": "scattercarpet"
           }
          ],
          "scattergeo": [
           {
            "marker": {
             "colorbar": {
              "outlinewidth": 0,
              "ticks": ""
             }
            },
            "type": "scattergeo"
           }
          ],
          "scattergl": [
           {
            "marker": {
             "colorbar": {
              "outlinewidth": 0,
              "ticks": ""
             }
            },
            "type": "scattergl"
           }
          ],
          "scattermapbox": [
           {
            "marker": {
             "colorbar": {
              "outlinewidth": 0,
              "ticks": ""
             }
            },
            "type": "scattermapbox"
           }
          ],
          "scatterpolar": [
           {
            "marker": {
             "colorbar": {
              "outlinewidth": 0,
              "ticks": ""
             }
            },
            "type": "scatterpolar"
           }
          ],
          "scatterpolargl": [
           {
            "marker": {
             "colorbar": {
              "outlinewidth": 0,
              "ticks": ""
             }
            },
            "type": "scatterpolargl"
           }
          ],
          "scatterternary": [
           {
            "marker": {
             "colorbar": {
              "outlinewidth": 0,
              "ticks": ""
             }
            },
            "type": "scatterternary"
           }
          ],
          "surface": [
           {
            "colorbar": {
             "outlinewidth": 0,
             "ticks": ""
            },
            "colorscale": [
             [
              0,
              "#0d0887"
             ],
             [
              0.1111111111111111,
              "#46039f"
             ],
             [
              0.2222222222222222,
              "#7201a8"
             ],
             [
              0.3333333333333333,
              "#9c179e"
             ],
             [
              0.4444444444444444,
              "#bd3786"
             ],
             [
              0.5555555555555556,
              "#d8576b"
             ],
             [
              0.6666666666666666,
              "#ed7953"
             ],
             [
              0.7777777777777778,
              "#fb9f3a"
             ],
             [
              0.8888888888888888,
              "#fdca26"
             ],
             [
              1,
              "#f0f921"
             ]
            ],
            "type": "surface"
           }
          ],
          "table": [
           {
            "cells": {
             "fill": {
              "color": "#EBF0F8"
             },
             "line": {
              "color": "white"
             }
            },
            "header": {
             "fill": {
              "color": "#C8D4E3"
             },
             "line": {
              "color": "white"
             }
            },
            "type": "table"
           }
          ]
         },
         "layout": {
          "annotationdefaults": {
           "arrowcolor": "#2a3f5f",
           "arrowhead": 0,
           "arrowwidth": 1
          },
          "autotypenumbers": "strict",
          "coloraxis": {
           "colorbar": {
            "outlinewidth": 0,
            "ticks": ""
           }
          },
          "colorscale": {
           "diverging": [
            [
             0,
             "#8e0152"
            ],
            [
             0.1,
             "#c51b7d"
            ],
            [
             0.2,
             "#de77ae"
            ],
            [
             0.3,
             "#f1b6da"
            ],
            [
             0.4,
             "#fde0ef"
            ],
            [
             0.5,
             "#f7f7f7"
            ],
            [
             0.6,
             "#e6f5d0"
            ],
            [
             0.7,
             "#b8e186"
            ],
            [
             0.8,
             "#7fbc41"
            ],
            [
             0.9,
             "#4d9221"
            ],
            [
             1,
             "#276419"
            ]
           ],
           "sequential": [
            [
             0,
             "#0d0887"
            ],
            [
             0.1111111111111111,
             "#46039f"
            ],
            [
             0.2222222222222222,
             "#7201a8"
            ],
            [
             0.3333333333333333,
             "#9c179e"
            ],
            [
             0.4444444444444444,
             "#bd3786"
            ],
            [
             0.5555555555555556,
             "#d8576b"
            ],
            [
             0.6666666666666666,
             "#ed7953"
            ],
            [
             0.7777777777777778,
             "#fb9f3a"
            ],
            [
             0.8888888888888888,
             "#fdca26"
            ],
            [
             1,
             "#f0f921"
            ]
           ],
           "sequentialminus": [
            [
             0,
             "#0d0887"
            ],
            [
             0.1111111111111111,
             "#46039f"
            ],
            [
             0.2222222222222222,
             "#7201a8"
            ],
            [
             0.3333333333333333,
             "#9c179e"
            ],
            [
             0.4444444444444444,
             "#bd3786"
            ],
            [
             0.5555555555555556,
             "#d8576b"
            ],
            [
             0.6666666666666666,
             "#ed7953"
            ],
            [
             0.7777777777777778,
             "#fb9f3a"
            ],
            [
             0.8888888888888888,
             "#fdca26"
            ],
            [
             1,
             "#f0f921"
            ]
           ]
          },
          "colorway": [
           "#636efa",
           "#EF553B",
           "#00cc96",
           "#ab63fa",
           "#FFA15A",
           "#19d3f3",
           "#FF6692",
           "#B6E880",
           "#FF97FF",
           "#FECB52"
          ],
          "font": {
           "color": "#2a3f5f"
          },
          "geo": {
           "bgcolor": "white",
           "lakecolor": "white",
           "landcolor": "#E5ECF6",
           "showlakes": true,
           "showland": true,
           "subunitcolor": "white"
          },
          "hoverlabel": {
           "align": "left"
          },
          "hovermode": "closest",
          "mapbox": {
           "style": "light"
          },
          "paper_bgcolor": "white",
          "plot_bgcolor": "#E5ECF6",
          "polar": {
           "angularaxis": {
            "gridcolor": "white",
            "linecolor": "white",
            "ticks": ""
           },
           "bgcolor": "#E5ECF6",
           "radialaxis": {
            "gridcolor": "white",
            "linecolor": "white",
            "ticks": ""
           }
          },
          "scene": {
           "xaxis": {
            "backgroundcolor": "#E5ECF6",
            "gridcolor": "white",
            "gridwidth": 2,
            "linecolor": "white",
            "showbackground": true,
            "ticks": "",
            "zerolinecolor": "white"
           },
           "yaxis": {
            "backgroundcolor": "#E5ECF6",
            "gridcolor": "white",
            "gridwidth": 2,
            "linecolor": "white",
            "showbackground": true,
            "ticks": "",
            "zerolinecolor": "white"
           },
           "zaxis": {
            "backgroundcolor": "#E5ECF6",
            "gridcolor": "white",
            "gridwidth": 2,
            "linecolor": "white",
            "showbackground": true,
            "ticks": "",
            "zerolinecolor": "white"
           }
          },
          "shapedefaults": {
           "line": {
            "color": "#2a3f5f"
           }
          },
          "ternary": {
           "aaxis": {
            "gridcolor": "white",
            "linecolor": "white",
            "ticks": ""
           },
           "baxis": {
            "gridcolor": "white",
            "linecolor": "white",
            "ticks": ""
           },
           "bgcolor": "#E5ECF6",
           "caxis": {
            "gridcolor": "white",
            "linecolor": "white",
            "ticks": ""
           }
          },
          "title": {
           "x": 0.05
          },
          "xaxis": {
           "automargin": true,
           "gridcolor": "white",
           "linecolor": "white",
           "ticks": "",
           "title": {
            "standoff": 15
           },
           "zerolinecolor": "white",
           "zerolinewidth": 2
          },
          "yaxis": {
           "automargin": true,
           "gridcolor": "white",
           "linecolor": "white",
           "ticks": "",
           "title": {
            "standoff": 15
           },
           "zerolinecolor": "white",
           "zerolinewidth": 2
          }
         }
        },
        "title": {
         "text": "Fire-prone Counties"
        },
        "xaxis": {
         "rangeslider": {
          "visible": true
         },
         "title": {
          "text": "County Names"
         }
        },
        "yaxis": {
         "title": {
          "text": "Number of Wildfires"
         }
        }
       }
      }
     },
     "metadata": {},
     "output_type": "display_data"
    }
   ],
   "source": [
    "# plot figure\n",
    "count = 100\n",
    "slice_county = county_counts.tail(count)\n",
    "fig2 = go.Figure()\n",
    "# plot\n",
    "fig2.add_trace(\n",
    "                go.Bar(x=slice_county['FIPS_NAME'], y=slice_county['count'])\n",
    "                )\n",
    "# Set labels and title\n",
    "fig2.update_layout({\n",
    "                    \"title\": \"Fire-prone Counties\",\n",
    "                    \"yaxis\": {\"title\":\"Number of Wildfires\"},\n",
    "                    \"xaxis\": {\"title\":\"County Names\"}\n",
    "                   })\n",
    "\n",
    "fig2.update_traces(texttemplate = \"%{y}\")\n",
    "# Add range slider and buttons\n",
    "fig2.update_layout(\n",
    "                    xaxis=dict(rangeslider=dict(visible=True))\n",
    "                   )\n",
    "\n",
    "fig2.show()  "
   ]
  },
  {
   "cell_type": "code",
   "execution_count": 217,
   "metadata": {},
   "outputs": [
    {
     "data": {
      "text/html": [
       "<div>\n",
       "<style scoped>\n",
       "    .dataframe tbody tr th:only-of-type {\n",
       "        vertical-align: middle;\n",
       "    }\n",
       "\n",
       "    .dataframe tbody tr th {\n",
       "        vertical-align: top;\n",
       "    }\n",
       "\n",
       "    .dataframe thead th {\n",
       "        text-align: right;\n",
       "    }\n",
       "</style>\n",
       "<table border=\"1\" class=\"dataframe\">\n",
       "  <thead>\n",
       "    <tr style=\"text-align: right;\">\n",
       "      <th></th>\n",
       "      <th>STATE</th>\n",
       "      <th>FIRE_YEAR</th>\n",
       "      <th>count</th>\n",
       "    </tr>\n",
       "  </thead>\n",
       "  <tbody>\n",
       "    <tr>\n",
       "      <th>0</th>\n",
       "      <td>AK</td>\n",
       "      <td>1992</td>\n",
       "      <td>481</td>\n",
       "    </tr>\n",
       "    <tr>\n",
       "      <th>1</th>\n",
       "      <td>AK</td>\n",
       "      <td>1993</td>\n",
       "      <td>861</td>\n",
       "    </tr>\n",
       "    <tr>\n",
       "      <th>2</th>\n",
       "      <td>AK</td>\n",
       "      <td>1994</td>\n",
       "      <td>640</td>\n",
       "    </tr>\n",
       "    <tr>\n",
       "      <th>3</th>\n",
       "      <td>AK</td>\n",
       "      <td>1995</td>\n",
       "      <td>418</td>\n",
       "    </tr>\n",
       "    <tr>\n",
       "      <th>4</th>\n",
       "      <td>AK</td>\n",
       "      <td>1996</td>\n",
       "      <td>718</td>\n",
       "    </tr>\n",
       "  </tbody>\n",
       "</table>\n",
       "</div>"
      ],
      "text/plain": [
       "  STATE FIRE_YEAR  count\n",
       "0    AK      1992    481\n",
       "1    AK      1993    861\n",
       "2    AK      1994    640\n",
       "3    AK      1995    418\n",
       "4    AK      1996    718"
      ]
     },
     "execution_count": 217,
     "metadata": {},
     "output_type": "execute_result"
    }
   ],
   "source": [
    "d = df[[\"STATE\", \"FIRE_YEAR\", \"OBJECTID\"]]\\\n",
    "                        .groupby([\"STATE\", \"FIRE_YEAR\"])\\\n",
    "                        .count()\\\n",
    "                        .rename(columns={'OBJECTID':\"count\"})\\\n",
    "                        .reset_index()\n",
    "                        \n",
    "d[\"FIRE_YEAR\"] = d[\"FIRE_YEAR\"].astype(str)\n",
    "d.head()"
   ]
  },
  {
   "cell_type": "code",
   "execution_count": 271,
   "metadata": {},
   "outputs": [
    {
     "data": {
      "application/vnd.plotly.v1+json": {
       "config": {
        "plotlyServerURL": "https://plot.ly"
       },
       "data": [
        {
         "alignmentgroup": "True",
         "hovertemplate": "STATE=%{x}<br>count=%{y}<extra></extra>",
         "legendgroup": "",
         "marker": {
          "color": "#636efa",
          "pattern": {
           "shape": ""
          }
         },
         "name": "",
         "offsetgroup": "",
         "orientation": "v",
         "showlegend": false,
         "textposition": "auto",
         "type": "bar",
         "x": [
          "AK",
          "AK",
          "AK",
          "AK",
          "AK",
          "AK",
          "AK",
          "AK",
          "AK",
          "AK",
          "AK",
          "AK",
          "AK",
          "AK",
          "AK",
          "AK",
          "AK",
          "AK",
          "AK",
          "AK",
          "AK",
          "AK",
          "AK",
          "AK",
          "AL",
          "AL",
          "AL",
          "AL",
          "AL",
          "AL",
          "AL",
          "AL",
          "AL",
          "AL",
          "AL",
          "AL",
          "AL",
          "AL",
          "AL",
          "AL",
          "AL",
          "AL",
          "AL",
          "AL",
          "AL",
          "AL",
          "AL",
          "AL",
          "AR",
          "AR",
          "AR",
          "AR",
          "AR",
          "AR",
          "AR",
          "AR",
          "AR",
          "AR",
          "AR",
          "AR",
          "AR",
          "AR",
          "AR",
          "AR",
          "AR",
          "AR",
          "AR",
          "AR",
          "AR",
          "AR",
          "AR",
          "AR",
          "AZ",
          "AZ",
          "AZ",
          "AZ",
          "AZ",
          "AZ",
          "AZ",
          "AZ",
          "AZ",
          "AZ",
          "AZ",
          "AZ",
          "AZ",
          "AZ",
          "AZ",
          "AZ",
          "AZ",
          "AZ",
          "AZ",
          "AZ",
          "AZ",
          "AZ",
          "AZ",
          "AZ",
          "CA",
          "CA",
          "CA",
          "CA",
          "CA",
          "CA",
          "CA",
          "CA",
          "CA",
          "CA",
          "CA",
          "CA",
          "CA",
          "CA",
          "CA",
          "CA",
          "CA",
          "CA",
          "CA",
          "CA",
          "CA",
          "CA",
          "CA",
          "CA",
          "CO",
          "CO",
          "CO",
          "CO",
          "CO",
          "CO",
          "CO",
          "CO",
          "CO",
          "CO",
          "CO",
          "CO",
          "CO",
          "CO",
          "CO",
          "CO",
          "CO",
          "CO",
          "CO",
          "CO",
          "CO",
          "CO",
          "CO",
          "CO",
          "CT",
          "CT",
          "CT",
          "CT",
          "CT",
          "CT",
          "CT",
          "CT",
          "CT",
          "CT",
          "CT",
          "CT",
          "CT",
          "CT",
          "CT",
          "CT",
          "CT",
          "CT",
          "CT",
          "CT",
          "CT",
          "CT",
          "DC",
          "DC",
          "DC",
          "DC",
          "DC",
          "DC",
          "DC",
          "DC",
          "DC",
          "DC",
          "DC",
          "DC",
          "DC",
          "DC",
          "DC",
          "DC",
          "DC",
          "DC",
          "DC",
          "DC",
          "DE",
          "DE",
          "DE",
          "DE",
          "DE",
          "DE",
          "DE",
          "DE",
          "DE",
          "DE",
          "DE",
          "DE",
          "DE",
          "DE",
          "DE",
          "DE",
          "DE",
          "DE",
          "FL",
          "FL",
          "FL",
          "FL",
          "FL",
          "FL",
          "FL",
          "FL",
          "FL",
          "FL",
          "FL",
          "FL",
          "FL",
          "FL",
          "FL",
          "FL",
          "FL",
          "FL",
          "FL",
          "FL",
          "FL",
          "FL",
          "FL",
          "FL",
          "GA",
          "GA",
          "GA",
          "GA",
          "GA",
          "GA",
          "GA",
          "GA",
          "GA",
          "GA",
          "GA",
          "GA",
          "GA",
          "GA",
          "GA",
          "GA",
          "GA",
          "GA",
          "GA",
          "GA",
          "GA",
          "GA",
          "GA",
          "GA",
          "HI",
          "HI",
          "HI",
          "HI",
          "HI",
          "HI",
          "HI",
          "HI",
          "HI",
          "HI",
          "HI",
          "HI",
          "HI",
          "HI",
          "HI",
          "HI",
          "HI",
          "HI",
          "HI",
          "HI",
          "HI",
          "HI",
          "HI",
          "HI",
          "IA",
          "IA",
          "IA",
          "IA",
          "IA",
          "IA",
          "IA",
          "IA",
          "IA",
          "IA",
          "IA",
          "IA",
          "IA",
          "IA",
          "IA",
          "IA",
          "IA",
          "IA",
          "IA",
          "IA",
          "IA",
          "IA",
          "IA",
          "IA",
          "ID",
          "ID",
          "ID",
          "ID",
          "ID",
          "ID",
          "ID",
          "ID",
          "ID",
          "ID",
          "ID",
          "ID",
          "ID",
          "ID",
          "ID",
          "ID",
          "ID",
          "ID",
          "ID",
          "ID",
          "ID",
          "ID",
          "ID",
          "ID",
          "IL",
          "IL",
          "IL",
          "IL",
          "IL",
          "IL",
          "IL",
          "IL",
          "IL",
          "IL",
          "IL",
          "IL",
          "IL",
          "IL",
          "IL",
          "IL",
          "IL",
          "IL",
          "IL",
          "IL",
          "IL",
          "IL",
          "IL",
          "IL",
          "IN",
          "IN",
          "IN",
          "IN",
          "IN",
          "IN",
          "IN",
          "IN",
          "IN",
          "IN",
          "IN",
          "IN",
          "IN",
          "IN",
          "IN",
          "IN",
          "IN",
          "IN",
          "IN",
          "IN",
          "IN",
          "IN",
          "IN",
          "IN",
          "KS",
          "KS",
          "KS",
          "KS",
          "KS",
          "KS",
          "KS",
          "KS",
          "KS",
          "KS",
          "KS",
          "KS",
          "KS",
          "KS",
          "KS",
          "KS",
          "KS",
          "KS",
          "KS",
          "KS",
          "KS",
          "KS",
          "KS",
          "KS",
          "KY",
          "KY",
          "KY",
          "KY",
          "KY",
          "KY",
          "KY",
          "KY",
          "KY",
          "KY",
          "KY",
          "KY",
          "KY",
          "KY",
          "KY",
          "KY",
          "KY",
          "KY",
          "KY",
          "KY",
          "KY",
          "KY",
          "KY",
          "KY",
          "LA",
          "LA",
          "LA",
          "LA",
          "LA",
          "LA",
          "LA",
          "LA",
          "LA",
          "LA",
          "LA",
          "LA",
          "LA",
          "LA",
          "LA",
          "LA",
          "LA",
          "LA",
          "LA",
          "LA",
          "LA",
          "LA",
          "LA",
          "LA",
          "MA",
          "MA",
          "MA",
          "MA",
          "MA",
          "MA",
          "MA",
          "MA",
          "MA",
          "MA",
          "MA",
          "MA",
          "MA",
          "MA",
          "MA",
          "MA",
          "MA",
          "MA",
          "MA",
          "MA",
          "MA",
          "MA",
          "MA",
          "MD",
          "MD",
          "MD",
          "MD",
          "MD",
          "MD",
          "MD",
          "MD",
          "MD",
          "MD",
          "MD",
          "MD",
          "MD",
          "MD",
          "MD",
          "MD",
          "MD",
          "MD",
          "MD",
          "MD",
          "MD",
          "MD",
          "MD",
          "MD",
          "ME",
          "ME",
          "ME",
          "ME",
          "ME",
          "ME",
          "ME",
          "ME",
          "ME",
          "ME",
          "ME",
          "ME",
          "ME",
          "ME",
          "ME",
          "ME",
          "ME",
          "ME",
          "ME",
          "ME",
          "ME",
          "ME",
          "ME",
          "ME",
          "MI",
          "MI",
          "MI",
          "MI",
          "MI",
          "MI",
          "MI",
          "MI",
          "MI",
          "MI",
          "MI",
          "MI",
          "MI",
          "MI",
          "MI",
          "MI",
          "MI",
          "MI",
          "MI",
          "MI",
          "MI",
          "MI",
          "MI",
          "MI",
          "MN",
          "MN",
          "MN",
          "MN",
          "MN",
          "MN",
          "MN",
          "MN",
          "MN",
          "MN",
          "MN",
          "MN",
          "MN",
          "MN",
          "MN",
          "MN",
          "MN",
          "MN",
          "MN",
          "MN",
          "MN",
          "MN",
          "MN",
          "MN",
          "MO",
          "MO",
          "MO",
          "MO",
          "MO",
          "MO",
          "MO",
          "MO",
          "MO",
          "MO",
          "MO",
          "MO",
          "MO",
          "MO",
          "MO",
          "MO",
          "MO",
          "MO",
          "MO",
          "MO",
          "MO",
          "MO",
          "MO",
          "MO",
          "MS",
          "MS",
          "MS",
          "MS",
          "MS",
          "MS",
          "MS",
          "MS",
          "MS",
          "MS",
          "MS",
          "MS",
          "MS",
          "MS",
          "MS",
          "MS",
          "MS",
          "MS",
          "MS",
          "MS",
          "MS",
          "MS",
          "MS",
          "MS",
          "MT",
          "MT",
          "MT",
          "MT",
          "MT",
          "MT",
          "MT",
          "MT",
          "MT",
          "MT",
          "MT",
          "MT",
          "MT",
          "MT",
          "MT",
          "MT",
          "MT",
          "MT",
          "MT",
          "MT",
          "MT",
          "MT",
          "MT",
          "MT",
          "NC",
          "NC",
          "NC",
          "NC",
          "NC",
          "NC",
          "NC",
          "NC",
          "NC",
          "NC",
          "NC",
          "NC",
          "NC",
          "NC",
          "NC",
          "NC",
          "NC",
          "NC",
          "NC",
          "NC",
          "NC",
          "NC",
          "NC",
          "NC",
          "ND",
          "ND",
          "ND",
          "ND",
          "ND",
          "ND",
          "ND",
          "ND",
          "ND",
          "ND",
          "ND",
          "ND",
          "ND",
          "ND",
          "ND",
          "ND",
          "ND",
          "ND",
          "ND",
          "ND",
          "ND",
          "ND",
          "ND",
          "ND",
          "NE",
          "NE",
          "NE",
          "NE",
          "NE",
          "NE",
          "NE",
          "NE",
          "NE",
          "NE",
          "NE",
          "NE",
          "NE",
          "NE",
          "NE",
          "NE",
          "NE",
          "NE",
          "NE",
          "NE",
          "NE",
          "NE",
          "NE",
          "NE",
          "NH",
          "NH",
          "NH",
          "NH",
          "NH",
          "NH",
          "NH",
          "NH",
          "NH",
          "NH",
          "NH",
          "NH",
          "NH",
          "NH",
          "NH",
          "NH",
          "NH",
          "NH",
          "NH",
          "NH",
          "NH",
          "NH",
          "NH",
          "NH",
          "NJ",
          "NJ",
          "NJ",
          "NJ",
          "NJ",
          "NJ",
          "NJ",
          "NJ",
          "NJ",
          "NJ",
          "NJ",
          "NJ",
          "NJ",
          "NJ",
          "NJ",
          "NJ",
          "NJ",
          "NJ",
          "NJ",
          "NJ",
          "NJ",
          "NJ",
          "NJ",
          "NJ",
          "NM",
          "NM",
          "NM",
          "NM",
          "NM",
          "NM",
          "NM",
          "NM",
          "NM",
          "NM",
          "NM",
          "NM",
          "NM",
          "NM",
          "NM",
          "NM",
          "NM",
          "NM",
          "NM",
          "NM",
          "NM",
          "NM",
          "NM",
          "NM",
          "NV",
          "NV",
          "NV",
          "NV",
          "NV",
          "NV",
          "NV",
          "NV",
          "NV",
          "NV",
          "NV",
          "NV",
          "NV",
          "NV",
          "NV",
          "NV",
          "NV",
          "NV",
          "NV",
          "NV",
          "NV",
          "NV",
          "NV",
          "NV",
          "NY",
          "NY",
          "NY",
          "NY",
          "NY",
          "NY",
          "NY",
          "NY",
          "NY",
          "NY",
          "NY",
          "NY",
          "NY",
          "NY",
          "NY",
          "NY",
          "NY",
          "NY",
          "NY",
          "NY",
          "NY",
          "NY",
          "NY",
          "NY",
          "OH",
          "OH",
          "OH",
          "OH",
          "OH",
          "OH",
          "OH",
          "OH",
          "OH",
          "OH",
          "OH",
          "OH",
          "OH",
          "OH",
          "OH",
          "OH",
          "OH",
          "OH",
          "OH",
          "OH",
          "OH",
          "OH",
          "OH",
          "OH",
          "OK",
          "OK",
          "OK",
          "OK",
          "OK",
          "OK",
          "OK",
          "OK",
          "OK",
          "OK",
          "OK",
          "OK",
          "OK",
          "OK",
          "OK",
          "OK",
          "OK",
          "OK",
          "OK",
          "OK",
          "OK",
          "OK",
          "OK",
          "OK",
          "OR",
          "OR",
          "OR",
          "OR",
          "OR",
          "OR",
          "OR",
          "OR",
          "OR",
          "OR",
          "OR",
          "OR",
          "OR",
          "OR",
          "OR",
          "OR",
          "OR",
          "OR",
          "OR",
          "OR",
          "OR",
          "OR",
          "OR",
          "OR",
          "PA",
          "PA",
          "PA",
          "PA",
          "PA",
          "PA",
          "PA",
          "PA",
          "PA",
          "PA",
          "PA",
          "PA",
          "PA",
          "PA",
          "PA",
          "PA",
          "PA",
          "PA",
          "PA",
          "PA",
          "PA",
          "PA",
          "PA",
          "PA",
          "PR",
          "PR",
          "PR",
          "PR",
          "PR",
          "PR",
          "PR",
          "PR",
          "PR",
          "PR",
          "PR",
          "PR",
          "PR",
          "PR",
          "PR",
          "PR",
          "PR",
          "PR",
          "PR",
          "PR",
          "RI",
          "RI",
          "RI",
          "RI",
          "RI",
          "RI",
          "RI",
          "RI",
          "RI",
          "RI",
          "RI",
          "SC",
          "SC",
          "SC",
          "SC",
          "SC",
          "SC",
          "SC",
          "SC",
          "SC",
          "SC",
          "SC",
          "SC",
          "SC",
          "SC",
          "SC",
          "SC",
          "SC",
          "SC",
          "SC",
          "SC",
          "SC",
          "SC",
          "SC",
          "SC",
          "SD",
          "SD",
          "SD",
          "SD",
          "SD",
          "SD",
          "SD",
          "SD",
          "SD",
          "SD",
          "SD",
          "SD",
          "SD",
          "SD",
          "SD",
          "SD",
          "SD",
          "SD",
          "SD",
          "SD",
          "SD",
          "SD",
          "SD",
          "SD",
          "TN",
          "TN",
          "TN",
          "TN",
          "TN",
          "TN",
          "TN",
          "TN",
          "TN",
          "TN",
          "TN",
          "TN",
          "TN",
          "TN",
          "TN",
          "TN",
          "TN",
          "TN",
          "TN",
          "TN",
          "TN",
          "TN",
          "TN",
          "TN",
          "TX",
          "TX",
          "TX",
          "TX",
          "TX",
          "TX",
          "TX",
          "TX",
          "TX",
          "TX",
          "TX",
          "TX",
          "TX",
          "TX",
          "TX",
          "TX",
          "TX",
          "TX",
          "TX",
          "TX",
          "TX",
          "TX",
          "TX",
          "TX",
          "UT",
          "UT",
          "UT",
          "UT",
          "UT",
          "UT",
          "UT",
          "UT",
          "UT",
          "UT",
          "UT",
          "UT",
          "UT",
          "UT",
          "UT",
          "UT",
          "UT",
          "UT",
          "UT",
          "UT",
          "UT",
          "UT",
          "UT",
          "UT",
          "VA",
          "VA",
          "VA",
          "VA",
          "VA",
          "VA",
          "VA",
          "VA",
          "VA",
          "VA",
          "VA",
          "VA",
          "VA",
          "VA",
          "VA",
          "VA",
          "VA",
          "VA",
          "VA",
          "VA",
          "VA",
          "VA",
          "VA",
          "VA",
          "VT",
          "VT",
          "VT",
          "VT",
          "VT",
          "VT",
          "VT",
          "VT",
          "VT",
          "VT",
          "VT",
          "VT",
          "VT",
          "VT",
          "VT",
          "VT",
          "VT",
          "VT",
          "VT",
          "VT",
          "WA",
          "WA",
          "WA",
          "WA",
          "WA",
          "WA",
          "WA",
          "WA",
          "WA",
          "WA",
          "WA",
          "WA",
          "WA",
          "WA",
          "WA",
          "WA",
          "WA",
          "WA",
          "WA",
          "WA",
          "WA",
          "WA",
          "WA",
          "WA",
          "WI",
          "WI",
          "WI",
          "WI",
          "WI",
          "WI",
          "WI",
          "WI",
          "WI",
          "WI",
          "WI",
          "WI",
          "WI",
          "WI",
          "WI",
          "WI",
          "WI",
          "WI",
          "WI",
          "WI",
          "WI",
          "WI",
          "WI",
          "WI",
          "WV",
          "WV",
          "WV",
          "WV",
          "WV",
          "WV",
          "WV",
          "WV",
          "WV",
          "WV",
          "WV",
          "WV",
          "WV",
          "WV",
          "WV",
          "WV",
          "WV",
          "WV",
          "WV",
          "WV",
          "WV",
          "WV",
          "WV",
          "WV",
          "WY",
          "WY",
          "WY",
          "WY",
          "WY",
          "WY",
          "WY",
          "WY",
          "WY",
          "WY",
          "WY",
          "WY",
          "WY",
          "WY",
          "WY",
          "WY",
          "WY",
          "WY",
          "WY",
          "WY",
          "WY",
          "WY",
          "WY",
          "WY"
         ],
         "xaxis": "x",
         "y": [
          481,
          861,
          640,
          418,
          718,
          721,
          408,
          482,
          364,
          361,
          538,
          478,
          694,
          619,
          301,
          513,
          369,
          513,
          691,
          508,
          409,
          592,
          393,
          771,
          93,
          137,
          3452,
          4230,
          4048,
          2591,
          3566,
          4501,
          6264,
          3309,
          2926,
          1824,
          3054,
          2547,
          3947,
          3833,
          2012,
          1372,
          2913,
          2042,
          1747,
          1670,
          2418,
          2074,
          128,
          151,
          167,
          240,
          224,
          1040,
          1156,
          2224,
          2363,
          1266,
          1001,
          1664,
          1364,
          2296,
          2571,
          1301,
          883,
          1076,
          2220,
          2546,
          2351,
          847,
          1295,
          1289,
          3494,
          4639,
          4519,
          4502,
          3761,
          2250,
          2679,
          2736,
          3859,
          3186,
          2918,
          2916,
          2843,
          3690,
          3319,
          2443,
          1898,
          2333,
          1617,
          1912,
          1760,
          1665,
          2828,
          3819,
          10833,
          8270,
          8654,
          7381,
          9173,
          7930,
          6864,
          8910,
          6977,
          8182,
          7133,
          7913,
          7418,
          6678,
          8271,
          10151,
          7744,
          6940,
          5776,
          8562,
          7208,
          8723,
          6494,
          7365,
          1322,
          1244,
          2515,
          1517,
          1405,
          722,
          765,
          756,
          1619,
          1266,
          1221,
          2422,
          1310,
          1875,
          1316,
          1070,
          1015,
          952,
          2694,
          957,
          1106,
          3894,
          603,
          591,
          202,
          103,
          290,
          110,
          27,
          83,
          30,
          297,
          126,
          207,
          107,
          95,
          87,
          293,
          372,
          331,
          366,
          257,
          418,
          227,
          576,
          372,
          3,
          7,
          4,
          5,
          3,
          13,
          8,
          1,
          1,
          2,
          3,
          1,
          1,
          1,
          1,
          2,
          5,
          1,
          1,
          3,
          3,
          1,
          2,
          5,
          5,
          2,
          1,
          1,
          39,
          21,
          27,
          14,
          2,
          1,
          19,
          9,
          3,
          16,
          4222,
          4548,
          3530,
          3186,
          4697,
          3912,
          4813,
          5484,
          6499,
          4887,
          3131,
          2150,
          3618,
          2395,
          5115,
          4589,
          3105,
          3016,
          2373,
          5029,
          3107,
          2163,
          2144,
          2548,
          6459,
          9111,
          6584,
          7968,
          9872,
          7234,
          7301,
          11138,
          10549,
          9572,
          7804,
          4567,
          8127,
          6049,
          8925,
          8717,
          5807,
          4176,
          5874,
          8414,
          4949,
          3252,
          4063,
          2355,
          77,
          14,
          9,
          10,
          8,
          12,
          26,
          9,
          13,
          566,
          576,
          941,
          687,
          1242,
          789,
          964,
          769,
          816,
          984,
          603,
          714,
          60,
          2,
          4,
          5,
          6,
          5,
          6,
          28,
          10,
          3,
          20,
          19,
          10,
          51,
          50,
          50,
          34,
          442,
          143,
          151,
          702,
          199,
          439,
          458,
          243,
          543,
          517,
          2195,
          698,
          3336,
          1433,
          1974,
          1130,
          1758,
          1916,
          1749,
          1683,
          1511,
          1657,
          1138,
          1144,
          1888,
          1589,
          986,
          1198,
          1150,
          1318,
          1189,
          1566,
          1215,
          1277,
          18,
          5,
          27,
          47,
          21,
          10,
          22,
          53,
          29,
          45,
          43,
          48,
          88,
          62,
          34,
          99,
          197,
          347,
          452,
          136,
          167,
          44,
          227,
          106,
          95,
          56,
          85,
          101,
          88,
          36,
          57,
          151,
          92,
          140,
          123,
          155,
          193,
          173,
          86,
          127,
          67,
          45,
          73,
          26,
          57,
          20,
          36,
          16,
          16,
          14,
          47,
          30,
          30,
          22,
          31,
          36,
          48,
          69,
          128,
          113,
          76,
          175,
          348,
          196,
          94,
          71,
          40,
          56,
          73,
          14,
          59,
          5887,
          49,
          81,
          178,
          180,
          72,
          675,
          957,
          1879,
          1587,
          2061,
          1050,
          956,
          1238,
          1766,
          1884,
          2081,
          1563,
          1419,
          1913,
          1032,
          1263,
          1003,
          1446,
          756,
          87,
          127,
          111,
          139,
          157,
          1361,
          2283,
          2788,
          4234,
          976,
          1481,
          94,
          78,
          3384,
          3131,
          63,
          1438,
          1542,
          2419,
          217,
          877,
          1075,
          876,
          1075,
          7,
          4,
          1,
          15,
          4,
          11,
          1,
          7,
          3,
          17,
          115,
          75,
          69,
          30,
          31,
          34,
          12,
          1,
          3,
          5,
          5,
          6,
          2170,
          12,
          11,
          16,
          32,
          17,
          19,
          17,
          34,
          14,
          22,
          14,
          5,
          21,
          417,
          718,
          598,
          530,
          261,
          168,
          133,
          163,
          127,
          123,
          150,
          611,
          672,
          541,
          963,
          315,
          585,
          580,
          681,
          346,
          963,
          664,
          624,
          467,
          472,
          623,
          481,
          466,
          483,
          505,
          365,
          560,
          444,
          333,
          406,
          614,
          262,
          644,
          627,
          386,
          118,
          170,
          150,
          115,
          424,
          308,
          750,
          467,
          641,
          534,
          516,
          444,
          486,
          584,
          309,
          711,
          455,
          264,
          523,
          1620,
          1363,
          1904,
          1731,
          1752,
          2528,
          2474,
          2113,
          2631,
          1327,
          2039,
          3297,
          1989,
          1728,
          2507,
          1787,
          1165,
          1233,
          2075,
          1235,
          2295,
          1132,
          1006,
          1838,
          1680,
          907,
          1607,
          2060,
          443,
          1314,
          521,
          1204,
          673,
          884,
          670,
          340,
          307,
          413,
          442,
          523,
          136,
          239,
          196,
          740,
          221,
          413,
          1251,
          769,
          4478,
          4015,
          3356,
          4992,
          4923,
          2783,
          3424,
          5436,
          7984,
          2888,
          2832,
          1913,
          2812,
          3520,
          5533,
          2767,
          2016,
          1966,
          2926,
          1614,
          1218,
          1488,
          2224,
          2122,
          1642,
          743,
          2984,
          1052,
          1993,
          993,
          1909,
          2089,
          2428,
          1603,
          1597,
          2471,
          1503,
          1497,
          2460,
          1997,
          1532,
          1662,
          1140,
          1190,
          1854,
          1359,
          1203,
          1866,
          5696,
          4808,
          5739,
          5253,
          4238,
          4512,
          4324,
          4041,
          4987,
          8143,
          5590,
          2041,
          4343,
          4045,
          5059,
          7284,
          4382,
          3319,
          4100,
          5427,
          3559,
          3329,
          4587,
          2471,
          396,
          386,
          501,
          272,
          527,
          453,
          492,
          506,
          627,
          553,
          907,
          835,
          819,
          903,
          1061,
          865,
          723,
          415,
          435,
          373,
          1098,
          541,
          510,
          1003,
          25,
          17,
          80,
          56,
          59,
          57,
          43,
          75,
          114,
          77,
          183,
          161,
          169,
          177,
          122,
          822,
          611,
          715,
          610,
          832,
          1223,
          423,
          723,
          599,
          107,
          142,
          133,
          195,
          83,
          85,
          171,
          5,
          87,
          124,
          116,
          56,
          70,
          88,
          111,
          95,
          102,
          68,
          98,
          4,
          100,
          147,
          125,
          140,
          1325,
          842,
          1326,
          1817,
          768,
          1383,
          1312,
          1758,
          972,
          1571,
          1419,
          674,
          819,
          996,
          1352,
          1097,
          1152,
          614,
          1010,
          272,
          1029,
          872,
          799,
          770,
          977,
          1809,
          2668,
          1665,
          2101,
          1380,
          1294,
          1231,
          2794,
          1701,
          2077,
          1969,
          1229,
          1582,
          1996,
          1428,
          864,
          1448,
          1145,
          2197,
          1174,
          1078,
          893,
          778,
          556,
          443,
          710,
          545,
          1088,
          595,
          638,
          1047,
          977,
          1118,
          649,
          664,
          776,
          749,
          1049,
          698,
          447,
          570,
          353,
          721,
          838,
          657,
          542,
          526,
          364,
          304,
          129,
          487,
          107,
          365,
          310,
          711,
          1756,
          3262,
          3512,
          4934,
          4062,
          7700,
          6631,
          6319,
          7156,
          5764,
          6181,
          3740,
          3944,
          2890,
          4358,
          5884,
          21,
          18,
          28,
          47,
          9,
          22,
          27,
          40,
          28,
          86,
          142,
          63,
          72,
          100,
          222,
          259,
          116,
          244,
          180,
          79,
          204,
          323,
          612,
          537,
          1468,
          2300,
          1913,
          2603,
          2689,
          914,
          816,
          1665,
          1643,
          1290,
          1535,
          1639,
          1688,
          2768,
          3265,
          1334,
          2165,
          2049,
          2146,
          2542,
          1655,
          795,
          1172,
          1185,
          3957,
          1852,
          3473,
          2264,
          2875,
          2142,
          2575,
          2927,
          1938,
          3368,
          2759,
          2615,
          2270,
          1746,
          3184,
          2512,
          2668,
          2304,
          1925,
          1968,
          1657,
          2562,
          3047,
          2500,
          17,
          19,
          20,
          22,
          12,
          12,
          18,
          30,
          14,
          35,
          628,
          407,
          193,
          783,
          874,
          514,
          652,
          633,
          583,
          201,
          724,
          639,
          875,
          807,
          4,
          1,
          4,
          3,
          6,
          1,
          1,
          3622,
          1885,
          4274,
          2529,
          3693,
          17,
          1690,
          1750,
          2490,
          8,
          33,
          42,
          28,
          1,
          18,
          25,
          21,
          135,
          47,
          34,
          49,
          19,
          46,
          85,
          5195,
          5287,
          4489,
          3520,
          4414,
          3070,
          3508,
          5384,
          4995,
          6225,
          4683,
          1315,
          3058,
          2704,
          2855,
          3998,
          2744,
          1757,
          2144,
          3181,
          1971,
          1626,
          1893,
          1299,
          554,
          438,
          882,
          665,
          839,
          607,
          816,
          1409,
          2271,
          1338,
          1962,
          1730,
          1377,
          1762,
          2646,
          1627,
          1190,
          984,
          698,
          1431,
          2726,
          1022,
          1023,
          966,
          55,
          65,
          73,
          106,
          56,
          1394,
          1836,
          3454,
          2674,
          2521,
          1485,
          31,
          69,
          2041,
          2183,
          3393,
          1429,
          1477,
          1904,
          1195,
          1203,
          638,
          1260,
          612,
          1168,
          1457,
          907,
          1648,
          2843,
          770,
          2026,
          1775,
          2627,
          771,
          1229,
          1147,
          1040,
          6901,
          15022,
          5477,
          18067,
          14142,
          9351,
          19453,
          7623,
          9735,
          8538,
          8304,
          1092,
          710,
          1663,
          1151,
          1666,
          862,
          873,
          1282,
          1857,
          1775,
          1143,
          1422,
          1519,
          1362,
          1926,
          1548,
          1062,
          1157,
          1056,
          1095,
          1592,
          1249,
          1058,
          605,
          43,
          54,
          78,
          1550,
          824,
          1133,
          1168,
          1583,
          988,
          2101,
          1572,
          344,
          301,
          786,
          1268,
          1446,
          1287,
          784,
          1026,
          813,
          685,
          581,
          821,
          597,
          1,
          1,
          6,
          2,
          2,
          2,
          3,
          6,
          9,
          16,
          26,
          4,
          5,
          5,
          1,
          2,
          97,
          126,
          55,
          87,
          1774,
          986,
          2022,
          1213,
          1091,
          999,
          1477,
          1475,
          1226,
          1158,
          1418,
          1433,
          1591,
          1089,
          1577,
          1304,
          1490,
          2000,
          1048,
          1028,
          1428,
          1378,
          1567,
          1741,
          1287,
          884,
          1973,
          1640,
          1463,
          1675,
          1611,
          1604,
          1578,
          993,
          949,
          2253,
          1161,
          1565,
          1658,
          1487,
          813,
          1578,
          1312,
          735,
          1380,
          692,
          605,
          965,
          701,
          847,
          1010,
          1241,
          651,
          719,
          1006,
          1949,
          1106,
          1789,
          1000,
          641,
          618,
          762,
          1026,
          836,
          886,
          984,
          796,
          489,
          694,
          580,
          951,
          685,
          746,
          269,
          919,
          530,
          1032,
          195,
          198,
          305,
          571,
          672,
          670,
          717,
          409,
          521,
          769,
          595,
          449,
          474,
          631,
          640,
          1046,
          581,
          595,
          632
         ],
         "yaxis": "y"
        }
       ],
       "layout": {
        "barmode": "relative",
        "legend": {
         "tracegroupgap": 0
        },
        "margin": {
         "t": 60
        },
        "template": {
         "data": {
          "bar": [
           {
            "error_x": {
             "color": "#2a3f5f"
            },
            "error_y": {
             "color": "#2a3f5f"
            },
            "marker": {
             "line": {
              "color": "#E5ECF6",
              "width": 0.5
             },
             "pattern": {
              "fillmode": "overlay",
              "size": 10,
              "solidity": 0.2
             }
            },
            "type": "bar"
           }
          ],
          "barpolar": [
           {
            "marker": {
             "line": {
              "color": "#E5ECF6",
              "width": 0.5
             },
             "pattern": {
              "fillmode": "overlay",
              "size": 10,
              "solidity": 0.2
             }
            },
            "type": "barpolar"
           }
          ],
          "carpet": [
           {
            "aaxis": {
             "endlinecolor": "#2a3f5f",
             "gridcolor": "white",
             "linecolor": "white",
             "minorgridcolor": "white",
             "startlinecolor": "#2a3f5f"
            },
            "baxis": {
             "endlinecolor": "#2a3f5f",
             "gridcolor": "white",
             "linecolor": "white",
             "minorgridcolor": "white",
             "startlinecolor": "#2a3f5f"
            },
            "type": "carpet"
           }
          ],
          "choropleth": [
           {
            "colorbar": {
             "outlinewidth": 0,
             "ticks": ""
            },
            "type": "choropleth"
           }
          ],
          "contour": [
           {
            "colorbar": {
             "outlinewidth": 0,
             "ticks": ""
            },
            "colorscale": [
             [
              0,
              "#0d0887"
             ],
             [
              0.1111111111111111,
              "#46039f"
             ],
             [
              0.2222222222222222,
              "#7201a8"
             ],
             [
              0.3333333333333333,
              "#9c179e"
             ],
             [
              0.4444444444444444,
              "#bd3786"
             ],
             [
              0.5555555555555556,
              "#d8576b"
             ],
             [
              0.6666666666666666,
              "#ed7953"
             ],
             [
              0.7777777777777778,
              "#fb9f3a"
             ],
             [
              0.8888888888888888,
              "#fdca26"
             ],
             [
              1,
              "#f0f921"
             ]
            ],
            "type": "contour"
           }
          ],
          "contourcarpet": [
           {
            "colorbar": {
             "outlinewidth": 0,
             "ticks": ""
            },
            "type": "contourcarpet"
           }
          ],
          "heatmap": [
           {
            "colorbar": {
             "outlinewidth": 0,
             "ticks": ""
            },
            "colorscale": [
             [
              0,
              "#0d0887"
             ],
             [
              0.1111111111111111,
              "#46039f"
             ],
             [
              0.2222222222222222,
              "#7201a8"
             ],
             [
              0.3333333333333333,
              "#9c179e"
             ],
             [
              0.4444444444444444,
              "#bd3786"
             ],
             [
              0.5555555555555556,
              "#d8576b"
             ],
             [
              0.6666666666666666,
              "#ed7953"
             ],
             [
              0.7777777777777778,
              "#fb9f3a"
             ],
             [
              0.8888888888888888,
              "#fdca26"
             ],
             [
              1,
              "#f0f921"
             ]
            ],
            "type": "heatmap"
           }
          ],
          "heatmapgl": [
           {
            "colorbar": {
             "outlinewidth": 0,
             "ticks": ""
            },
            "colorscale": [
             [
              0,
              "#0d0887"
             ],
             [
              0.1111111111111111,
              "#46039f"
             ],
             [
              0.2222222222222222,
              "#7201a8"
             ],
             [
              0.3333333333333333,
              "#9c179e"
             ],
             [
              0.4444444444444444,
              "#bd3786"
             ],
             [
              0.5555555555555556,
              "#d8576b"
             ],
             [
              0.6666666666666666,
              "#ed7953"
             ],
             [
              0.7777777777777778,
              "#fb9f3a"
             ],
             [
              0.8888888888888888,
              "#fdca26"
             ],
             [
              1,
              "#f0f921"
             ]
            ],
            "type": "heatmapgl"
           }
          ],
          "histogram": [
           {
            "marker": {
             "pattern": {
              "fillmode": "overlay",
              "size": 10,
              "solidity": 0.2
             }
            },
            "type": "histogram"
           }
          ],
          "histogram2d": [
           {
            "colorbar": {
             "outlinewidth": 0,
             "ticks": ""
            },
            "colorscale": [
             [
              0,
              "#0d0887"
             ],
             [
              0.1111111111111111,
              "#46039f"
             ],
             [
              0.2222222222222222,
              "#7201a8"
             ],
             [
              0.3333333333333333,
              "#9c179e"
             ],
             [
              0.4444444444444444,
              "#bd3786"
             ],
             [
              0.5555555555555556,
              "#d8576b"
             ],
             [
              0.6666666666666666,
              "#ed7953"
             ],
             [
              0.7777777777777778,
              "#fb9f3a"
             ],
             [
              0.8888888888888888,
              "#fdca26"
             ],
             [
              1,
              "#f0f921"
             ]
            ],
            "type": "histogram2d"
           }
          ],
          "histogram2dcontour": [
           {
            "colorbar": {
             "outlinewidth": 0,
             "ticks": ""
            },
            "colorscale": [
             [
              0,
              "#0d0887"
             ],
             [
              0.1111111111111111,
              "#46039f"
             ],
             [
              0.2222222222222222,
              "#7201a8"
             ],
             [
              0.3333333333333333,
              "#9c179e"
             ],
             [
              0.4444444444444444,
              "#bd3786"
             ],
             [
              0.5555555555555556,
              "#d8576b"
             ],
             [
              0.6666666666666666,
              "#ed7953"
             ],
             [
              0.7777777777777778,
              "#fb9f3a"
             ],
             [
              0.8888888888888888,
              "#fdca26"
             ],
             [
              1,
              "#f0f921"
             ]
            ],
            "type": "histogram2dcontour"
           }
          ],
          "mesh3d": [
           {
            "colorbar": {
             "outlinewidth": 0,
             "ticks": ""
            },
            "type": "mesh3d"
           }
          ],
          "parcoords": [
           {
            "line": {
             "colorbar": {
              "outlinewidth": 0,
              "ticks": ""
             }
            },
            "type": "parcoords"
           }
          ],
          "pie": [
           {
            "automargin": true,
            "type": "pie"
           }
          ],
          "scatter": [
           {
            "fillpattern": {
             "fillmode": "overlay",
             "size": 10,
             "solidity": 0.2
            },
            "type": "scatter"
           }
          ],
          "scatter3d": [
           {
            "line": {
             "colorbar": {
              "outlinewidth": 0,
              "ticks": ""
             }
            },
            "marker": {
             "colorbar": {
              "outlinewidth": 0,
              "ticks": ""
             }
            },
            "type": "scatter3d"
           }
          ],
          "scattercarpet": [
           {
            "marker": {
             "colorbar": {
              "outlinewidth": 0,
              "ticks": ""
             }
            },
            "type": "scattercarpet"
           }
          ],
          "scattergeo": [
           {
            "marker": {
             "colorbar": {
              "outlinewidth": 0,
              "ticks": ""
             }
            },
            "type": "scattergeo"
           }
          ],
          "scattergl": [
           {
            "marker": {
             "colorbar": {
              "outlinewidth": 0,
              "ticks": ""
             }
            },
            "type": "scattergl"
           }
          ],
          "scattermapbox": [
           {
            "marker": {
             "colorbar": {
              "outlinewidth": 0,
              "ticks": ""
             }
            },
            "type": "scattermapbox"
           }
          ],
          "scatterpolar": [
           {
            "marker": {
             "colorbar": {
              "outlinewidth": 0,
              "ticks": ""
             }
            },
            "type": "scatterpolar"
           }
          ],
          "scatterpolargl": [
           {
            "marker": {
             "colorbar": {
              "outlinewidth": 0,
              "ticks": ""
             }
            },
            "type": "scatterpolargl"
           }
          ],
          "scatterternary": [
           {
            "marker": {
             "colorbar": {
              "outlinewidth": 0,
              "ticks": ""
             }
            },
            "type": "scatterternary"
           }
          ],
          "surface": [
           {
            "colorbar": {
             "outlinewidth": 0,
             "ticks": ""
            },
            "colorscale": [
             [
              0,
              "#0d0887"
             ],
             [
              0.1111111111111111,
              "#46039f"
             ],
             [
              0.2222222222222222,
              "#7201a8"
             ],
             [
              0.3333333333333333,
              "#9c179e"
             ],
             [
              0.4444444444444444,
              "#bd3786"
             ],
             [
              0.5555555555555556,
              "#d8576b"
             ],
             [
              0.6666666666666666,
              "#ed7953"
             ],
             [
              0.7777777777777778,
              "#fb9f3a"
             ],
             [
              0.8888888888888888,
              "#fdca26"
             ],
             [
              1,
              "#f0f921"
             ]
            ],
            "type": "surface"
           }
          ],
          "table": [
           {
            "cells": {
             "fill": {
              "color": "#EBF0F8"
             },
             "line": {
              "color": "white"
             }
            },
            "header": {
             "fill": {
              "color": "#C8D4E3"
             },
             "line": {
              "color": "white"
             }
            },
            "type": "table"
           }
          ]
         },
         "layout": {
          "annotationdefaults": {
           "arrowcolor": "#2a3f5f",
           "arrowhead": 0,
           "arrowwidth": 1
          },
          "autotypenumbers": "strict",
          "coloraxis": {
           "colorbar": {
            "outlinewidth": 0,
            "ticks": ""
           }
          },
          "colorscale": {
           "diverging": [
            [
             0,
             "#8e0152"
            ],
            [
             0.1,
             "#c51b7d"
            ],
            [
             0.2,
             "#de77ae"
            ],
            [
             0.3,
             "#f1b6da"
            ],
            [
             0.4,
             "#fde0ef"
            ],
            [
             0.5,
             "#f7f7f7"
            ],
            [
             0.6,
             "#e6f5d0"
            ],
            [
             0.7,
             "#b8e186"
            ],
            [
             0.8,
             "#7fbc41"
            ],
            [
             0.9,
             "#4d9221"
            ],
            [
             1,
             "#276419"
            ]
           ],
           "sequential": [
            [
             0,
             "#0d0887"
            ],
            [
             0.1111111111111111,
             "#46039f"
            ],
            [
             0.2222222222222222,
             "#7201a8"
            ],
            [
             0.3333333333333333,
             "#9c179e"
            ],
            [
             0.4444444444444444,
             "#bd3786"
            ],
            [
             0.5555555555555556,
             "#d8576b"
            ],
            [
             0.6666666666666666,
             "#ed7953"
            ],
            [
             0.7777777777777778,
             "#fb9f3a"
            ],
            [
             0.8888888888888888,
             "#fdca26"
            ],
            [
             1,
             "#f0f921"
            ]
           ],
           "sequentialminus": [
            [
             0,
             "#0d0887"
            ],
            [
             0.1111111111111111,
             "#46039f"
            ],
            [
             0.2222222222222222,
             "#7201a8"
            ],
            [
             0.3333333333333333,
             "#9c179e"
            ],
            [
             0.4444444444444444,
             "#bd3786"
            ],
            [
             0.5555555555555556,
             "#d8576b"
            ],
            [
             0.6666666666666666,
             "#ed7953"
            ],
            [
             0.7777777777777778,
             "#fb9f3a"
            ],
            [
             0.8888888888888888,
             "#fdca26"
            ],
            [
             1,
             "#f0f921"
            ]
           ]
          },
          "colorway": [
           "#636efa",
           "#EF553B",
           "#00cc96",
           "#ab63fa",
           "#FFA15A",
           "#19d3f3",
           "#FF6692",
           "#B6E880",
           "#FF97FF",
           "#FECB52"
          ],
          "font": {
           "color": "#2a3f5f"
          },
          "geo": {
           "bgcolor": "white",
           "lakecolor": "white",
           "landcolor": "#E5ECF6",
           "showlakes": true,
           "showland": true,
           "subunitcolor": "white"
          },
          "hoverlabel": {
           "align": "left"
          },
          "hovermode": "closest",
          "mapbox": {
           "style": "light"
          },
          "paper_bgcolor": "white",
          "plot_bgcolor": "#E5ECF6",
          "polar": {
           "angularaxis": {
            "gridcolor": "white",
            "linecolor": "white",
            "ticks": ""
           },
           "bgcolor": "#E5ECF6",
           "radialaxis": {
            "gridcolor": "white",
            "linecolor": "white",
            "ticks": ""
           }
          },
          "scene": {
           "xaxis": {
            "backgroundcolor": "#E5ECF6",
            "gridcolor": "white",
            "gridwidth": 2,
            "linecolor": "white",
            "showbackground": true,
            "ticks": "",
            "zerolinecolor": "white"
           },
           "yaxis": {
            "backgroundcolor": "#E5ECF6",
            "gridcolor": "white",
            "gridwidth": 2,
            "linecolor": "white",
            "showbackground": true,
            "ticks": "",
            "zerolinecolor": "white"
           },
           "zaxis": {
            "backgroundcolor": "#E5ECF6",
            "gridcolor": "white",
            "gridwidth": 2,
            "linecolor": "white",
            "showbackground": true,
            "ticks": "",
            "zerolinecolor": "white"
           }
          },
          "shapedefaults": {
           "line": {
            "color": "#2a3f5f"
           }
          },
          "ternary": {
           "aaxis": {
            "gridcolor": "white",
            "linecolor": "white",
            "ticks": ""
           },
           "baxis": {
            "gridcolor": "white",
            "linecolor": "white",
            "ticks": ""
           },
           "bgcolor": "#E5ECF6",
           "caxis": {
            "gridcolor": "white",
            "linecolor": "white",
            "ticks": ""
           }
          },
          "title": {
           "x": 0.05
          },
          "xaxis": {
           "automargin": true,
           "gridcolor": "white",
           "linecolor": "white",
           "ticks": "",
           "title": {
            "standoff": 15
           },
           "zerolinecolor": "white",
           "zerolinewidth": 2
          },
          "yaxis": {
           "automargin": true,
           "gridcolor": "white",
           "linecolor": "white",
           "ticks": "",
           "title": {
            "standoff": 15
           },
           "zerolinecolor": "white",
           "zerolinewidth": 2
          }
         }
        },
        "xaxis": {
         "anchor": "y",
         "domain": [
          0,
          1
         ],
         "title": {
          "text": "STATE"
         }
        },
        "yaxis": {
         "anchor": "x",
         "domain": [
          0,
          1
         ],
         "title": {
          "text": "count"
         }
        }
       }
      }
     },
     "metadata": {},
     "output_type": "display_data"
    }
   ],
   "source": [
    "fig = px.bar(d, x=\"STATE\", y=\"count\", )\n",
    "# fig.add_scatter( x=d[\"STATE\"], y=d[\"count\"], marker=dict(color=\"blue\")) \n",
    "fig.show()"
   ]
  },
  {
   "cell_type": "code",
   "execution_count": null,
   "metadata": {},
   "outputs": [
    {
     "data": {
      "application/vnd.plotly.v1+json": {
       "config": {
        "plotlyServerURL": "https://plot.ly"
       },
       "data": [
        {
         "alignmentgroup": "True",
         "hovertemplate": "FIRE_YEAR=1992<br>Causes=%{x}<br>Total Count=%{y}<extra></extra>",
         "legendgroup": "1992",
         "marker": {
          "color": "#636efa",
          "pattern": {
           "shape": ""
          }
         },
         "name": "1992",
         "offsetgroup": "1992",
         "orientation": "v",
         "showlegend": true,
         "textposition": "auto",
         "type": "bar",
         "x": [
          "AK",
          "AL",
          "AR",
          "AZ",
          "CA",
          "CO",
          "CT",
          "DC",
          "DE",
          "FL",
          "GA",
          "HI",
          "IA",
          "ID",
          "IL",
          "IN",
          "KS",
          "KY",
          "LA",
          "MA",
          "MD",
          "ME",
          "MI",
          "MN",
          "MO",
          "MS",
          "MT",
          "NC",
          "ND",
          "NE",
          "NH",
          "NJ",
          "NM",
          "NV",
          "NY",
          "OH",
          "OK",
          "OR",
          "PA",
          "PR",
          "SC",
          "SD",
          "TN",
          "TX",
          "UT",
          "VA",
          "VT",
          "WA",
          "WI",
          "WV",
          "WY"
         ],
         "xaxis": "x",
         "y": [
          481,
          93,
          128,
          3494,
          10833,
          1322,
          202,
          3,
          3,
          4222,
          6459,
          77,
          5,
          2195,
          18,
          95,
          16,
          49,
          87,
          7,
          12,
          611,
          614,
          1620,
          1680,
          4478,
          1642,
          5696,
          396,
          25,
          107,
          1325,
          977,
          556,
          364,
          21,
          1468,
          3957,
          17,
          4,
          5195,
          554,
          55,
          1168,
          1092,
          43,
          1,
          1774,
          1287,
          701,
          746
         ],
         "yaxis": "y"
        },
        {
         "alignmentgroup": "True",
         "hovertemplate": "FIRE_YEAR=1993<br>Causes=%{x}<br>Total Count=%{y}<extra></extra>",
         "legendgroup": "1993",
         "marker": {
          "color": "#EF553B",
          "pattern": {
           "shape": ""
          }
         },
         "name": "1993",
         "offsetgroup": "1993",
         "orientation": "v",
         "showlegend": true,
         "textposition": "auto",
         "type": "bar",
         "x": [
          "AK",
          "AL",
          "AR",
          "AZ",
          "CA",
          "CO",
          "CT",
          "DC",
          "DE",
          "FL",
          "GA",
          "HI",
          "IA",
          "ID",
          "IL",
          "IN",
          "KS",
          "KY",
          "LA",
          "MA",
          "MD",
          "ME",
          "MI",
          "MN",
          "MO",
          "MS",
          "MT",
          "NC",
          "ND",
          "NE",
          "NH",
          "NJ",
          "NM",
          "NV",
          "NY",
          "OH",
          "OK",
          "OR",
          "PA",
          "PR",
          "SC",
          "SD",
          "TN",
          "TX",
          "UT",
          "VA",
          "VT",
          "WA",
          "WI",
          "WV",
          "WY"
         ],
         "xaxis": "x",
         "y": [
          861,
          137,
          151,
          4639,
          8270,
          1244,
          103,
          7,
          1,
          4548,
          9111,
          14,
          6,
          698,
          5,
          56,
          14,
          81,
          127,
          4,
          11,
          672,
          262,
          1363,
          907,
          4015,
          743,
          4808,
          386,
          17,
          142,
          842,
          1809,
          443,
          304,
          18,
          2300,
          1852,
          19,
          1,
          5287,
          438,
          65,
          1457,
          710,
          54,
          1,
          986,
          884,
          847,
          269
         ],
         "yaxis": "y"
        },
        {
         "alignmentgroup": "True",
         "hovertemplate": "FIRE_YEAR=1994<br>Causes=%{x}<br>Total Count=%{y}<extra></extra>",
         "legendgroup": "1994",
         "marker": {
          "color": "#00cc96",
          "pattern": {
           "shape": ""
          }
         },
         "name": "1994",
         "offsetgroup": "1994",
         "orientation": "v",
         "showlegend": true,
         "textposition": "auto",
         "type": "bar",
         "x": [
          "AK",
          "AL",
          "AR",
          "AZ",
          "CA",
          "CO",
          "CT",
          "DC",
          "DE",
          "FL",
          "GA",
          "HI",
          "IA",
          "ID",
          "IL",
          "IN",
          "KS",
          "KY",
          "LA",
          "MA",
          "MD",
          "ME",
          "MI",
          "MN",
          "MO",
          "MS",
          "MT",
          "NC",
          "ND",
          "NE",
          "NH",
          "NJ",
          "NM",
          "NV",
          "NY",
          "OH",
          "OK",
          "OR",
          "PA",
          "PR",
          "RI",
          "SC",
          "SD",
          "TN",
          "TX",
          "UT",
          "VA",
          "VT",
          "WA",
          "WI",
          "WV",
          "WY"
         ],
         "xaxis": "x",
         "y": [
          640,
          3452,
          167,
          4519,
          8654,
          2515,
          290,
          4,
          2,
          3530,
          6584,
          9,
          5,
          3336,
          27,
          85,
          47,
          178,
          111,
          1,
          16,
          541,
          644,
          1904,
          1607,
          3356,
          2984,
          5739,
          501,
          80,
          133,
          1326,
          2668,
          710,
          129,
          28,
          1913,
          3473,
          20,
          4,
          1,
          4489,
          882,
          73,
          907,
          1663,
          78,
          6,
          2022,
          1973,
          1010,
          919
         ],
         "yaxis": "y"
        },
        {
         "alignmentgroup": "True",
         "hovertemplate": "FIRE_YEAR=1995<br>Causes=%{x}<br>Total Count=%{y}<extra></extra>",
         "legendgroup": "1995",
         "marker": {
          "color": "#ab63fa",
          "pattern": {
           "shape": ""
          }
         },
         "name": "1995",
         "offsetgroup": "1995",
         "orientation": "v",
         "showlegend": true,
         "textposition": "auto",
         "type": "bar",
         "x": [
          "AK",
          "AL",
          "AR",
          "AZ",
          "CA",
          "CO",
          "CT",
          "DC",
          "DE",
          "FL",
          "GA",
          "HI",
          "IA",
          "ID",
          "IL",
          "IN",
          "KS",
          "KY",
          "LA",
          "MA",
          "MD",
          "ME",
          "MI",
          "MN",
          "MO",
          "MS",
          "MT",
          "NC",
          "ND",
          "NE",
          "NH",
          "NJ",
          "NM",
          "NV",
          "NY",
          "OH",
          "OK",
          "OR",
          "PA",
          "SC",
          "SD",
          "TN",
          "TX",
          "UT",
          "VA",
          "VT",
          "WA",
          "WI",
          "WV",
          "WY"
         ],
         "xaxis": "x",
         "y": [
          418,
          4230,
          240,
          4502,
          7381,
          1517,
          110,
          5,
          5,
          3186,
          7968,
          10,
          6,
          1433,
          47,
          101,
          30,
          180,
          139,
          15,
          32,
          963,
          627,
          1731,
          2060,
          4992,
          1052,
          5253,
          272,
          56,
          195,
          1817,
          1665,
          545,
          487,
          47,
          2603,
          2264,
          22,
          3520,
          665,
          106,
          1648,
          1151,
          1550,
          2,
          1213,
          1640,
          1241,
          530
         ],
         "yaxis": "y"
        },
        {
         "alignmentgroup": "True",
         "hovertemplate": "FIRE_YEAR=1996<br>Causes=%{x}<br>Total Count=%{y}<extra></extra>",
         "legendgroup": "1996",
         "marker": {
          "color": "#FFA15A",
          "pattern": {
           "shape": ""
          }
         },
         "name": "1996",
         "offsetgroup": "1996",
         "orientation": "v",
         "showlegend": true,
         "textposition": "auto",
         "type": "bar",
         "x": [
          "AK",
          "AL",
          "AR",
          "AZ",
          "CA",
          "CO",
          "CT",
          "FL",
          "GA",
          "HI",
          "IA",
          "ID",
          "IL",
          "IN",
          "KS",
          "KY",
          "LA",
          "MA",
          "MD",
          "ME",
          "MI",
          "MN",
          "MO",
          "MS",
          "MT",
          "NC",
          "ND",
          "NE",
          "NH",
          "NJ",
          "NM",
          "NV",
          "NY",
          "OH",
          "OK",
          "OR",
          "PA",
          "PR",
          "SC",
          "SD",
          "TN",
          "TX",
          "UT",
          "VA",
          "WA",
          "WI",
          "WV",
          "WY"
         ],
         "xaxis": "x",
         "y": [
          718,
          4048,
          224,
          3761,
          9173,
          1405,
          27,
          4697,
          9872,
          8,
          28,
          1974,
          21,
          88,
          30,
          72,
          157,
          4,
          17,
          315,
          386,
          1752,
          443,
          4923,
          1993,
          4238,
          527,
          59,
          83,
          768,
          2101,
          1088,
          107,
          9,
          2689,
          2875,
          12,
          3,
          4414,
          839,
          56,
          2843,
          1666,
          824,
          1091,
          1463,
          651,
          1032
         ],
         "yaxis": "y"
        },
        {
         "alignmentgroup": "True",
         "hovertemplate": "FIRE_YEAR=1997<br>Causes=%{x}<br>Total Count=%{y}<extra></extra>",
         "legendgroup": "1997",
         "marker": {
          "color": "#19d3f3",
          "pattern": {
           "shape": ""
          }
         },
         "name": "1997",
         "offsetgroup": "1997",
         "orientation": "v",
         "showlegend": true,
         "textposition": "auto",
         "type": "bar",
         "x": [
          "AK",
          "AL",
          "AR",
          "AZ",
          "CA",
          "CO",
          "CT",
          "DC",
          "DE",
          "FL",
          "GA",
          "HI",
          "IA",
          "ID",
          "IL",
          "IN",
          "KS",
          "KY",
          "LA",
          "MA",
          "MD",
          "ME",
          "MI",
          "MN",
          "MO",
          "MS",
          "MT",
          "NC",
          "ND",
          "NE",
          "NH",
          "NJ",
          "NM",
          "NV",
          "NY",
          "OH",
          "OK",
          "OR",
          "PA",
          "PR",
          "SC",
          "SD",
          "TN",
          "TX",
          "UT",
          "VA",
          "VT",
          "WA",
          "WI",
          "WV",
          "WY"
         ],
         "xaxis": "x",
         "y": [
          721,
          2591,
          1040,
          2250,
          7930,
          722,
          83,
          3,
          5,
          3912,
          7234,
          12,
          10,
          1130,
          10,
          36,
          22,
          675,
          1361,
          11,
          19,
          585,
          118,
          2528,
          1314,
          2783,
          993,
          4512,
          453,
          57,
          85,
          1383,
          1380,
          595,
          365,
          22,
          914,
          2142,
          12,
          6,
          3070,
          607,
          1394,
          770,
          862,
          1133,
          2,
          999,
          1675,
          719,
          195
         ],
         "yaxis": "y"
        },
        {
         "alignmentgroup": "True",
         "hovertemplate": "FIRE_YEAR=1998<br>Causes=%{x}<br>Total Count=%{y}<extra></extra>",
         "legendgroup": "1998",
         "marker": {
          "color": "#FF6692",
          "pattern": {
           "shape": ""
          }
         },
         "name": "1998",
         "offsetgroup": "1998",
         "orientation": "v",
         "showlegend": true,
         "textposition": "auto",
         "type": "bar",
         "x": [
          "AK",
          "AL",
          "AR",
          "AZ",
          "CA",
          "CO",
          "CT",
          "DC",
          "FL",
          "GA",
          "HI",
          "IA",
          "ID",
          "IL",
          "IN",
          "KS",
          "KY",
          "LA",
          "MA",
          "MD",
          "ME",
          "MI",
          "MN",
          "MO",
          "MS",
          "MT",
          "NC",
          "ND",
          "NE",
          "NH",
          "NJ",
          "NM",
          "NV",
          "NY",
          "OH",
          "OK",
          "OR",
          "PA",
          "PR",
          "SC",
          "SD",
          "TN",
          "TX",
          "UT",
          "VA",
          "VT",
          "WA",
          "WI",
          "WV",
          "WY"
         ],
         "xaxis": "x",
         "y": [
          408,
          3566,
          1156,
          2679,
          6864,
          765,
          30,
          13,
          4813,
          7301,
          26,
          3,
          1758,
          22,
          57,
          31,
          957,
          2283,
          1,
          17,
          580,
          170,
          2474,
          521,
          3424,
          1909,
          4324,
          492,
          43,
          171,
          1312,
          1294,
          638,
          310,
          27,
          816,
          2575,
          18,
          1,
          3508,
          816,
          1836,
          2026,
          873,
          1168,
          2,
          1477,
          1611,
          1006,
          198
         ],
         "yaxis": "y"
        },
        {
         "alignmentgroup": "True",
         "hovertemplate": "FIRE_YEAR=1999<br>Causes=%{x}<br>Total Count=%{y}<extra></extra>",
         "legendgroup": "1999",
         "marker": {
          "color": "#B6E880",
          "pattern": {
           "shape": ""
          }
         },
         "name": "1999",
         "offsetgroup": "1999",
         "orientation": "v",
         "showlegend": true,
         "textposition": "auto",
         "type": "bar",
         "x": [
          "AK",
          "AL",
          "AR",
          "AZ",
          "CA",
          "CO",
          "CT",
          "DC",
          "DE",
          "FL",
          "GA",
          "HI",
          "IA",
          "ID",
          "IL",
          "IN",
          "KS",
          "KY",
          "LA",
          "MA",
          "MD",
          "ME",
          "MI",
          "MN",
          "MO",
          "MS",
          "MT",
          "NC",
          "ND",
          "NE",
          "NH",
          "NJ",
          "NM",
          "NV",
          "NY",
          "OH",
          "OK",
          "OR",
          "PA",
          "SC",
          "SD",
          "TN",
          "TX",
          "UT",
          "VA",
          "VT",
          "WA",
          "WI",
          "WV",
          "WY"
         ],
         "xaxis": "x",
         "y": [
          482,
          4501,
          2224,
          2736,
          8910,
          756,
          297,
          8,
          2,
          5484,
          11138,
          9,
          20,
          1916,
          53,
          151,
          36,
          1879,
          2788,
          7,
          34,
          681,
          150,
          2113,
          1204,
          5436,
          2089,
          4041,
          506,
          75,
          5,
          1758,
          1231,
          1047,
          711,
          40,
          1665,
          2927,
          30,
          5384,
          1409,
          3454,
          1775,
          1282,
          1583,
          3,
          1475,
          1604,
          1949,
          305
         ],
         "yaxis": "y"
        },
        {
         "alignmentgroup": "True",
         "hovertemplate": "FIRE_YEAR=2000<br>Causes=%{x}<br>Total Count=%{y}<extra></extra>",
         "legendgroup": "2000",
         "marker": {
          "color": "#FF97FF",
          "pattern": {
           "shape": ""
          }
         },
         "name": "2000",
         "offsetgroup": "2000",
         "orientation": "v",
         "showlegend": true,
         "textposition": "auto",
         "type": "bar",
         "x": [
          "AK",
          "AL",
          "AR",
          "AZ",
          "CA",
          "CO",
          "CT",
          "DE",
          "FL",
          "GA",
          "HI",
          "IA",
          "ID",
          "IL",
          "IN",
          "KS",
          "KY",
          "LA",
          "MA",
          "MD",
          "ME",
          "MI",
          "MN",
          "MO",
          "MS",
          "MT",
          "NC",
          "ND",
          "NE",
          "NH",
          "NJ",
          "NM",
          "NV",
          "NY",
          "OH",
          "OK",
          "OR",
          "PA",
          "SC",
          "SD",
          "TN",
          "TX",
          "UT",
          "VA",
          "WA",
          "WI",
          "WV",
          "WY"
         ],
         "xaxis": "x",
         "y": [
          364,
          6264,
          2363,
          3859,
          6977,
          1619,
          126,
          1,
          6499,
          10549,
          13,
          19,
          1749,
          29,
          92,
          48,
          1587,
          4234,
          3,
          14,
          346,
          115,
          2631,
          673,
          7984,
          2428,
          4987,
          627,
          114,
          87,
          972,
          2794,
          977,
          1756,
          28,
          1643,
          1938,
          14,
          4995,
          2271,
          2674,
          2627,
          1857,
          988,
          1226,
          1578,
          1106,
          571
         ],
         "yaxis": "y"
        },
        {
         "alignmentgroup": "True",
         "hovertemplate": "FIRE_YEAR=2001<br>Causes=%{x}<br>Total Count=%{y}<extra></extra>",
         "legendgroup": "2001",
         "marker": {
          "color": "#FECB52",
          "pattern": {
           "shape": ""
          }
         },
         "name": "2001",
         "offsetgroup": "2001",
         "orientation": "v",
         "showlegend": true,
         "textposition": "auto",
         "type": "bar",
         "x": [
          "AK",
          "AL",
          "AR",
          "AZ",
          "CA",
          "CO",
          "CT",
          "DC",
          "DE",
          "FL",
          "GA",
          "HI",
          "IA",
          "ID",
          "IL",
          "IN",
          "KS",
          "KY",
          "LA",
          "MA",
          "MD",
          "ME",
          "MI",
          "MN",
          "MO",
          "MS",
          "MT",
          "NC",
          "ND",
          "NE",
          "NH",
          "NJ",
          "NM",
          "NV",
          "NY",
          "OH",
          "OK",
          "OR",
          "PA",
          "SC",
          "SD",
          "TN",
          "TX",
          "UT",
          "VA",
          "WA",
          "WI",
          "WV",
          "WY"
         ],
         "xaxis": "x",
         "y": [
          361,
          3309,
          1266,
          3186,
          8182,
          1266,
          207,
          1,
          1,
          4887,
          9572,
          566,
          10,
          1683,
          45,
          140,
          69,
          2061,
          976,
          17,
          22,
          963,
          424,
          1327,
          884,
          2888,
          1603,
          8143,
          553,
          77,
          124,
          1571,
          1701,
          1118,
          3262,
          86,
          1290,
          3368,
          35,
          6225,
          1338,
          2521,
          771,
          1775,
          2101,
          1158,
          993,
          1789,
          672
         ],
         "yaxis": "y"
        },
        {
         "alignmentgroup": "True",
         "hovertemplate": "FIRE_YEAR=2002<br>Causes=%{x}<br>Total Count=%{y}<extra></extra>",
         "legendgroup": "2002",
         "marker": {
          "color": "#636efa",
          "pattern": {
           "shape": ""
          }
         },
         "name": "2002",
         "offsetgroup": "2002",
         "orientation": "v",
         "showlegend": true,
         "textposition": "auto",
         "type": "bar",
         "x": [
          "AK",
          "AL",
          "AR",
          "AZ",
          "CA",
          "CO",
          "CT",
          "DC",
          "DE",
          "FL",
          "GA",
          "HI",
          "IA",
          "ID",
          "IL",
          "IN",
          "KS",
          "KY",
          "LA",
          "MA",
          "MD",
          "ME",
          "MI",
          "MN",
          "MO",
          "MS",
          "MT",
          "NC",
          "ND",
          "NE",
          "NH",
          "NJ",
          "NM",
          "NV",
          "NY",
          "OH",
          "OK",
          "OR",
          "PA",
          "PR",
          "SC",
          "SD",
          "TN",
          "TX",
          "UT",
          "VA",
          "VT",
          "WA",
          "WI",
          "WV",
          "WY"
         ],
         "xaxis": "x",
         "y": [
          538,
          2926,
          1001,
          2918,
          7133,
          1221,
          107,
          1,
          39,
          3131,
          7804,
          576,
          51,
          1511,
          43,
          123,
          128,
          1050,
          1481,
          115,
          14,
          664,
          308,
          2039,
          670,
          2832,
          1597,
          5590,
          907,
          183,
          116,
          1419,
          2077,
          649,
          3512,
          142,
          1535,
          2759,
          628,
          1,
          4683,
          1962,
          1485,
          1229,
          1143,
          1572,
          6,
          1418,
          949,
          1000,
          670
         ],
         "yaxis": "y"
        },
        {
         "alignmentgroup": "True",
         "hovertemplate": "FIRE_YEAR=2003<br>Causes=%{x}<br>Total Count=%{y}<extra></extra>",
         "legendgroup": "2003",
         "marker": {
          "color": "#EF553B",
          "pattern": {
           "shape": ""
          }
         },
         "name": "2003",
         "offsetgroup": "2003",
         "orientation": "v",
         "showlegend": true,
         "textposition": "auto",
         "type": "bar",
         "x": [
          "AK",
          "AL",
          "AR",
          "AZ",
          "CA",
          "CO",
          "CT",
          "DE",
          "FL",
          "GA",
          "HI",
          "IA",
          "ID",
          "IL",
          "IN",
          "KS",
          "KY",
          "LA",
          "MA",
          "MD",
          "ME",
          "MI",
          "MN",
          "MO",
          "MS",
          "MT",
          "NC",
          "ND",
          "NE",
          "NH",
          "NJ",
          "NM",
          "NV",
          "NY",
          "OH",
          "OK",
          "OR",
          "PA",
          "PR",
          "SC",
          "SD",
          "TN",
          "TX",
          "UT",
          "VA",
          "VT",
          "WA",
          "WI",
          "WV",
          "WY"
         ],
         "xaxis": "x",
         "y": [
          478,
          1824,
          1664,
          2916,
          7913,
          2422,
          95,
          21,
          2150,
          4567,
          941,
          50,
          1657,
          48,
          155,
          113,
          956,
          94,
          75,
          5,
          624,
          750,
          3297,
          340,
          1913,
          2471,
          2041,
          835,
          161,
          56,
          674,
          1969,
          664,
          4934,
          63,
          1639,
          2615,
          407,
          3622,
          1315,
          1730,
          31,
          1147,
          1422,
          344,
          9,
          1433,
          2253,
          641,
          717
         ],
         "yaxis": "y"
        },
        {
         "alignmentgroup": "True",
         "hovertemplate": "FIRE_YEAR=2004<br>Causes=%{x}<br>Total Count=%{y}<extra></extra>",
         "legendgroup": "2004",
         "marker": {
          "color": "#00cc96",
          "pattern": {
           "shape": ""
          }
         },
         "name": "2004",
         "offsetgroup": "2004",
         "orientation": "v",
         "showlegend": true,
         "textposition": "auto",
         "type": "bar",
         "x": [
          "AK",
          "AL",
          "AR",
          "AZ",
          "CA",
          "CO",
          "CT",
          "DE",
          "FL",
          "GA",
          "HI",
          "IA",
          "ID",
          "IL",
          "IN",
          "KS",
          "KY",
          "LA",
          "MA",
          "MD",
          "ME",
          "MI",
          "MN",
          "MO",
          "MS",
          "MT",
          "NC",
          "ND",
          "NE",
          "NH",
          "NJ",
          "NM",
          "NV",
          "NY",
          "OH",
          "OK",
          "OR",
          "PA",
          "PR",
          "SC",
          "SD",
          "TN",
          "TX",
          "UT",
          "VA",
          "VT",
          "WA",
          "WI",
          "WV",
          "WY"
         ],
         "xaxis": "x",
         "y": [
          694,
          3054,
          1364,
          2843,
          7418,
          1310,
          87,
          27,
          3618,
          8127,
          687,
          50,
          1138,
          88,
          193,
          76,
          1238,
          78,
          69,
          21,
          467,
          467,
          1989,
          307,
          2812,
          1503,
          4343,
          819,
          169,
          70,
          819,
          1229,
          776,
          4062,
          72,
          1688,
          2270,
          193,
          1885,
          3058,
          1377,
          69,
          1040,
          1519,
          301,
          16,
          1591,
          1161,
          618,
          409
         ],
         "yaxis": "y"
        },
        {
         "alignmentgroup": "True",
         "hovertemplate": "FIRE_YEAR=2005<br>Causes=%{x}<br>Total Count=%{y}<extra></extra>",
         "legendgroup": "2005",
         "marker": {
          "color": "#ab63fa",
          "pattern": {
           "shape": ""
          }
         },
         "name": "2005",
         "offsetgroup": "2005",
         "orientation": "v",
         "showlegend": true,
         "textposition": "auto",
         "type": "bar",
         "x": [
          "AK",
          "AL",
          "AR",
          "AZ",
          "CA",
          "CO",
          "CT",
          "DC",
          "DE",
          "FL",
          "GA",
          "HI",
          "IA",
          "ID",
          "IL",
          "IN",
          "KS",
          "KY",
          "LA",
          "MA",
          "MD",
          "ME",
          "MI",
          "MN",
          "MO",
          "MS",
          "MT",
          "NC",
          "ND",
          "NE",
          "NH",
          "NJ",
          "NM",
          "NV",
          "NY",
          "OH",
          "OK",
          "OR",
          "PA",
          "PR",
          "RI",
          "SC",
          "SD",
          "TN",
          "TX",
          "UT",
          "VA",
          "VT",
          "WA",
          "WI",
          "WV",
          "WY"
         ],
         "xaxis": "x",
         "y": [
          619,
          2547,
          2296,
          3690,
          6678,
          1875,
          293,
          2,
          14,
          2395,
          6049,
          1242,
          34,
          1144,
          62,
          173,
          175,
          1766,
          3384,
          30,
          417,
          472,
          641,
          1728,
          413,
          3520,
          1497,
          4045,
          903,
          177,
          88,
          996,
          1582,
          749,
          7700,
          100,
          2768,
          1746,
          783,
          4274,
          18,
          2704,
          1762,
          2041,
          6901,
          1362,
          786,
          26,
          1089,
          1565,
          762,
          521
         ],
         "yaxis": "y"
        },
        {
         "alignmentgroup": "True",
         "hovertemplate": "FIRE_YEAR=2006<br>Causes=%{x}<br>Total Count=%{y}<extra></extra>",
         "legendgroup": "2006",
         "marker": {
          "color": "#FFA15A",
          "pattern": {
           "shape": ""
          }
         },
         "name": "2006",
         "offsetgroup": "2006",
         "orientation": "v",
         "showlegend": true,
         "textposition": "auto",
         "type": "bar",
         "x": [
          "AK",
          "AL",
          "AR",
          "AZ",
          "CA",
          "CO",
          "CT",
          "DC",
          "FL",
          "GA",
          "HI",
          "IA",
          "ID",
          "IL",
          "IN",
          "KS",
          "KY",
          "LA",
          "MA",
          "MD",
          "ME",
          "MI",
          "MN",
          "MO",
          "MS",
          "MT",
          "NC",
          "ND",
          "NE",
          "NH",
          "NJ",
          "NM",
          "NV",
          "NY",
          "OH",
          "OK",
          "OR",
          "PA",
          "PR",
          "RI",
          "SC",
          "SD",
          "TN",
          "TX",
          "UT",
          "VA",
          "VT",
          "WA",
          "WI",
          "WV",
          "WY"
         ],
         "xaxis": "x",
         "y": [
          301,
          3947,
          2571,
          3319,
          8271,
          1316,
          372,
          3,
          5115,
          8925,
          789,
          442,
          1888,
          34,
          86,
          348,
          1884,
          3131,
          31,
          718,
          623,
          534,
          2507,
          442,
          5533,
          2460,
          5059,
          1061,
          122,
          111,
          1352,
          1996,
          1049,
          6631,
          222,
          3265,
          3184,
          874,
          2529,
          25,
          2855,
          2646,
          2183,
          15022,
          1926,
          1268,
          4,
          1577,
          1658,
          1026,
          769
         ],
         "yaxis": "y"
        },
        {
         "alignmentgroup": "True",
         "hovertemplate": "FIRE_YEAR=2007<br>Causes=%{x}<br>Total Count=%{y}<extra></extra>",
         "legendgroup": "2007",
         "marker": {
          "color": "#19d3f3",
          "pattern": {
           "shape": ""
          }
         },
         "name": "2007",
         "offsetgroup": "2007",
         "orientation": "v",
         "showlegend": true,
         "textposition": "auto",
         "type": "bar",
         "x": [
          "AK",
          "AL",
          "AR",
          "AZ",
          "CA",
          "CO",
          "CT",
          "DC",
          "DE",
          "FL",
          "GA",
          "HI",
          "IA",
          "ID",
          "IL",
          "IN",
          "KS",
          "KY",
          "LA",
          "MA",
          "MD",
          "ME",
          "MI",
          "MN",
          "MO",
          "MS",
          "MT",
          "NC",
          "ND",
          "NE",
          "NH",
          "NJ",
          "NM",
          "NV",
          "NY",
          "OH",
          "OK",
          "OR",
          "PA",
          "PR",
          "RI",
          "SC",
          "SD",
          "TN",
          "TX",
          "UT",
          "VA",
          "VT",
          "WA",
          "WI",
          "WV",
          "WY"
         ],
         "xaxis": "x",
         "y": [
          513,
          3833,
          1301,
          2443,
          10151,
          1070,
          331,
          1,
          2,
          4589,
          8717,
          964,
          143,
          1589,
          99,
          127,
          196,
          2081,
          63,
          34,
          598,
          481,
          516,
          1787,
          523,
          2767,
          1997,
          7284,
          865,
          822,
          95,
          1097,
          1428,
          698,
          6319,
          259,
          1334,
          2512,
          514,
          3693,
          21,
          3998,
          1627,
          3393,
          5477,
          1548,
          1446,
          5,
          1304,
          1487,
          836,
          595
         ],
         "yaxis": "y"
        },
        {
         "alignmentgroup": "True",
         "hovertemplate": "FIRE_YEAR=2008<br>Causes=%{x}<br>Total Count=%{y}<extra></extra>",
         "legendgroup": "2008",
         "marker": {
          "color": "#FF6692",
          "pattern": {
           "shape": ""
          }
         },
         "name": "2008",
         "offsetgroup": "2008",
         "orientation": "v",
         "showlegend": true,
         "textposition": "auto",
         "type": "bar",
         "x": [
          "AK",
          "AL",
          "AR",
          "AZ",
          "CA",
          "CO",
          "CT",
          "DC",
          "FL",
          "GA",
          "HI",
          "IA",
          "ID",
          "IL",
          "IN",
          "KS",
          "KY",
          "LA",
          "MA",
          "MD",
          "ME",
          "MI",
          "MN",
          "MO",
          "MS",
          "MT",
          "NC",
          "ND",
          "NE",
          "NH",
          "NJ",
          "NM",
          "NV",
          "NY",
          "OH",
          "OK",
          "OR",
          "PA",
          "PR",
          "RI",
          "SC",
          "SD",
          "TN",
          "TX",
          "UT",
          "VA",
          "VT",
          "WA",
          "WI",
          "WV",
          "WY"
         ],
         "xaxis": "x",
         "y": [
          369,
          2012,
          883,
          1898,
          7744,
          1015,
          366,
          1,
          3105,
          5807,
          769,
          151,
          986,
          197,
          67,
          94,
          1563,
          1438,
          12,
          530,
          466,
          444,
          1165,
          136,
          2016,
          1532,
          4382,
          723,
          611,
          102,
          1152,
          864,
          447,
          7156,
          116,
          2165,
          2668,
          652,
          17,
          135,
          2744,
          1190,
          1429,
          18067,
          1062,
          1287,
          5,
          1490,
          813,
          886,
          449
         ],
         "yaxis": "y"
        },
        {
         "alignmentgroup": "True",
         "hovertemplate": "FIRE_YEAR=2009<br>Causes=%{x}<br>Total Count=%{y}<extra></extra>",
         "legendgroup": "2009",
         "marker": {
          "color": "#B6E880",
          "pattern": {
           "shape": ""
          }
         },
         "name": "2009",
         "offsetgroup": "2009",
         "orientation": "v",
         "showlegend": true,
         "textposition": "auto",
         "type": "bar",
         "x": [
          "AK",
          "AL",
          "AR",
          "AZ",
          "CA",
          "CO",
          "CT",
          "DC",
          "FL",
          "GA",
          "HI",
          "IA",
          "ID",
          "IL",
          "IN",
          "KS",
          "KY",
          "LA",
          "MA",
          "MD",
          "ME",
          "MI",
          "MN",
          "MO",
          "MS",
          "MT",
          "NC",
          "ND",
          "NE",
          "NH",
          "NJ",
          "NM",
          "NV",
          "NY",
          "OH",
          "OK",
          "OR",
          "PA",
          "PR",
          "RI",
          "SC",
          "SD",
          "TN",
          "TX",
          "UT",
          "VA",
          "VT",
          "WA",
          "WI",
          "WV",
          "WY"
         ],
         "xaxis": "x",
         "y": [
          513,
          1372,
          1076,
          2333,
          6940,
          952,
          257,
          1,
          3016,
          4176,
          816,
          702,
          1198,
          347,
          45,
          71,
          1419,
          1542,
          1,
          261,
          483,
          486,
          1233,
          239,
          1966,
          1662,
          3319,
          415,
          715,
          68,
          614,
          1448,
          570,
          5764,
          244,
          2049,
          2304,
          633,
          1690,
          47,
          1757,
          984,
          1477,
          14142,
          1157,
          784,
          1,
          2000,
          1578,
          984,
          474
         ],
         "yaxis": "y"
        },
        {
         "alignmentgroup": "True",
         "hovertemplate": "FIRE_YEAR=2010<br>Causes=%{x}<br>Total Count=%{y}<extra></extra>",
         "legendgroup": "2010",
         "marker": {
          "color": "#FF97FF",
          "pattern": {
           "shape": ""
          }
         },
         "name": "2010",
         "offsetgroup": "2010",
         "orientation": "v",
         "showlegend": true,
         "textposition": "auto",
         "type": "bar",
         "x": [
          "AK",
          "AL",
          "AR",
          "AZ",
          "CA",
          "CO",
          "CT",
          "DC",
          "DE",
          "FL",
          "GA",
          "HI",
          "IA",
          "ID",
          "IL",
          "IN",
          "KS",
          "KY",
          "LA",
          "MA",
          "MD",
          "ME",
          "MI",
          "MN",
          "MO",
          "MS",
          "MT",
          "NC",
          "ND",
          "NE",
          "NH",
          "NJ",
          "NM",
          "NV",
          "NY",
          "OH",
          "OK",
          "OR",
          "PA",
          "PR",
          "SC",
          "SD",
          "TN",
          "TX",
          "UT",
          "VA",
          "VT",
          "WA",
          "WI",
          "WV",
          "WY"
         ],
         "xaxis": "x",
         "y": [
          691,
          2913,
          2220,
          1617,
          5776,
          2694,
          418,
          1,
          1,
          2373,
          5874,
          984,
          199,
          1150,
          452,
          73,
          40,
          1913,
          2419,
          3,
          168,
          505,
          584,
          2075,
          196,
          2926,
          1140,
          4100,
          435,
          610,
          98,
          1010,
          1145,
          353,
          6181,
          180,
          2146,
          1925,
          583,
          1750,
          2144,
          698,
          1904,
          9351,
          1056,
          1026,
          2,
          1048,
          1312,
          796,
          631
         ],
         "yaxis": "y"
        },
        {
         "alignmentgroup": "True",
         "hovertemplate": "FIRE_YEAR=2011<br>Causes=%{x}<br>Total Count=%{y}<extra></extra>",
         "legendgroup": "2011",
         "marker": {
          "color": "#FECB52",
          "pattern": {
           "shape": ""
          }
         },
         "name": "2011",
         "offsetgroup": "2011",
         "orientation": "v",
         "showlegend": true,
         "textposition": "auto",
         "type": "bar",
         "x": [
          "AK",
          "AL",
          "AR",
          "AZ",
          "CA",
          "CO",
          "CT",
          "DC",
          "FL",
          "GA",
          "HI",
          "IA",
          "ID",
          "IL",
          "IN",
          "KS",
          "KY",
          "LA",
          "MD",
          "ME",
          "MI",
          "MN",
          "MO",
          "MS",
          "MT",
          "NC",
          "ND",
          "NE",
          "NH",
          "NJ",
          "NM",
          "NV",
          "NY",
          "OH",
          "OK",
          "OR",
          "PA",
          "PR",
          "RI",
          "SC",
          "SD",
          "TN",
          "TX",
          "UT",
          "VA",
          "WA",
          "WI",
          "WV",
          "WY"
         ],
         "xaxis": "x",
         "y": [
          508,
          2042,
          2546,
          1912,
          8562,
          957,
          227,
          2,
          5029,
          8414,
          603,
          439,
          1318,
          136,
          26,
          56,
          1032,
          217,
          133,
          365,
          309,
          1235,
          740,
          1614,
          1190,
          5427,
          373,
          832,
          4,
          272,
          2197,
          721,
          3740,
          79,
          2542,
          1968,
          201,
          2490,
          34,
          3181,
          1431,
          1195,
          19453,
          1095,
          813,
          1028,
          735,
          489,
          640
         ],
         "yaxis": "y"
        },
        {
         "alignmentgroup": "True",
         "hovertemplate": "FIRE_YEAR=2012<br>Causes=%{x}<br>Total Count=%{y}<extra></extra>",
         "legendgroup": "2012",
         "marker": {
          "color": "#636efa",
          "pattern": {
           "shape": ""
          }
         },
         "name": "2012",
         "offsetgroup": "2012",
         "orientation": "v",
         "showlegend": true,
         "textposition": "auto",
         "type": "bar",
         "x": [
          "AK",
          "AL",
          "AR",
          "AZ",
          "CA",
          "CO",
          "CT",
          "DC",
          "DE",
          "FL",
          "GA",
          "HI",
          "IA",
          "ID",
          "IL",
          "IN",
          "KS",
          "KY",
          "LA",
          "MA",
          "MD",
          "ME",
          "MI",
          "MN",
          "MO",
          "MS",
          "MT",
          "NC",
          "ND",
          "NE",
          "NH",
          "NJ",
          "NM",
          "NV",
          "NY",
          "OH",
          "OK",
          "OR",
          "PA",
          "PR",
          "RI",
          "SC",
          "SD",
          "TN",
          "TX",
          "UT",
          "VA",
          "VT",
          "WA",
          "WI",
          "WV",
          "WY"
         ],
         "xaxis": "x",
         "y": [
          409,
          1747,
          2351,
          1760,
          7208,
          1106,
          576,
          5,
          19,
          3107,
          4949,
          714,
          458,
          1189,
          167,
          57,
          73,
          1263,
          877,
          5,
          163,
          560,
          711,
          2295,
          221,
          1218,
          1854,
          3559,
          1098,
          1223,
          100,
          1029,
          1174,
          838,
          3944,
          204,
          1655,
          1657,
          724,
          8,
          49,
          1971,
          2726,
          1203,
          7623,
          1592,
          685,
          97,
          1428,
          1380,
          694,
          1046
         ],
         "yaxis": "y"
        },
        {
         "alignmentgroup": "True",
         "hovertemplate": "FIRE_YEAR=2013<br>Causes=%{x}<br>Total Count=%{y}<extra></extra>",
         "legendgroup": "2013",
         "marker": {
          "color": "#EF553B",
          "pattern": {
           "shape": ""
          }
         },
         "name": "2013",
         "offsetgroup": "2013",
         "orientation": "v",
         "showlegend": true,
         "textposition": "auto",
         "type": "bar",
         "x": [
          "AK",
          "AL",
          "AR",
          "AZ",
          "CA",
          "CO",
          "DC",
          "DE",
          "FL",
          "GA",
          "HI",
          "IA",
          "ID",
          "IL",
          "IN",
          "KS",
          "KY",
          "LA",
          "MA",
          "MD",
          "ME",
          "MI",
          "MN",
          "MO",
          "MS",
          "MT",
          "NC",
          "ND",
          "NE",
          "NH",
          "NJ",
          "NM",
          "NV",
          "NY",
          "OH",
          "OK",
          "OR",
          "PA",
          "PR",
          "RI",
          "SC",
          "SD",
          "TN",
          "TX",
          "UT",
          "VA",
          "VT",
          "WA",
          "WI",
          "WV",
          "WY"
         ],
         "xaxis": "x",
         "y": [
          592,
          1670,
          847,
          1665,
          8723,
          3894,
          1,
          9,
          2163,
          3252,
          60,
          243,
          1566,
          44,
          20,
          14,
          1003,
          1075,
          5,
          127,
          444,
          455,
          1132,
          413,
          1488,
          1359,
          3329,
          541,
          423,
          147,
          872,
          1078,
          657,
          2890,
          323,
          795,
          2562,
          639,
          33,
          19,
          1626,
          1022,
          638,
          9735,
          1249,
          581,
          126,
          1378,
          692,
          580,
          581
         ],
         "yaxis": "y"
        },
        {
         "alignmentgroup": "True",
         "hovertemplate": "FIRE_YEAR=2014<br>Causes=%{x}<br>Total Count=%{y}<extra></extra>",
         "legendgroup": "2014",
         "marker": {
          "color": "#00cc96",
          "pattern": {
           "shape": ""
          }
         },
         "name": "2014",
         "offsetgroup": "2014",
         "orientation": "v",
         "showlegend": true,
         "textposition": "auto",
         "type": "bar",
         "x": [
          "AK",
          "AL",
          "AR",
          "AZ",
          "CA",
          "CO",
          "DC",
          "DE",
          "FL",
          "GA",
          "HI",
          "IA",
          "ID",
          "IL",
          "IN",
          "KS",
          "KY",
          "LA",
          "MA",
          "MD",
          "ME",
          "MI",
          "MN",
          "MO",
          "MS",
          "MT",
          "NC",
          "ND",
          "NE",
          "NH",
          "NJ",
          "NM",
          "NV",
          "NY",
          "OH",
          "OK",
          "OR",
          "PA",
          "PR",
          "RI",
          "SC",
          "SD",
          "TN",
          "TX",
          "UT",
          "VA",
          "VT",
          "WA",
          "WI",
          "WV",
          "WY"
         ],
         "xaxis": "x",
         "y": [
          393,
          2418,
          1295,
          2828,
          6494,
          603,
          1,
          3,
          2144,
          4063,
          2,
          543,
          1215,
          227,
          36,
          59,
          1446,
          876,
          6,
          123,
          333,
          264,
          1006,
          1251,
          2224,
          1203,
          4587,
          510,
          723,
          125,
          799,
          893,
          542,
          4358,
          612,
          1172,
          3047,
          875,
          42,
          46,
          1893,
          1023,
          1260,
          8538,
          1058,
          821,
          55,
          1567,
          605,
          951,
          595
         ],
         "yaxis": "y"
        },
        {
         "alignmentgroup": "True",
         "hovertemplate": "FIRE_YEAR=2015<br>Causes=%{x}<br>Total Count=%{y}<extra></extra>",
         "legendgroup": "2015",
         "marker": {
          "color": "#ab63fa",
          "pattern": {
           "shape": ""
          }
         },
         "name": "2015",
         "offsetgroup": "2015",
         "orientation": "v",
         "showlegend": true,
         "textposition": "auto",
         "type": "bar",
         "x": [
          "AK",
          "AL",
          "AR",
          "AZ",
          "CA",
          "CO",
          "CT",
          "DC",
          "DE",
          "FL",
          "GA",
          "HI",
          "IA",
          "ID",
          "IL",
          "IN",
          "KS",
          "KY",
          "LA",
          "MA",
          "MD",
          "ME",
          "MI",
          "MN",
          "MO",
          "MS",
          "MT",
          "NC",
          "ND",
          "NE",
          "NH",
          "NJ",
          "NM",
          "NV",
          "NY",
          "OH",
          "OK",
          "OR",
          "PA",
          "PR",
          "RI",
          "SC",
          "SD",
          "TN",
          "TX",
          "UT",
          "VA",
          "VT",
          "WA",
          "WI",
          "WV",
          "WY"
         ],
         "xaxis": "x",
         "y": [
          771,
          2074,
          1289,
          3819,
          7365,
          591,
          372,
          3,
          16,
          2548,
          2355,
          4,
          517,
          1277,
          106,
          16,
          5887,
          756,
          1075,
          2170,
          150,
          406,
          523,
          1838,
          769,
          2122,
          1866,
          2471,
          1003,
          599,
          140,
          770,
          778,
          526,
          5884,
          537,
          1185,
          2500,
          807,
          28,
          85,
          1299,
          966,
          612,
          8304,
          605,
          597,
          87,
          1741,
          965,
          685,
          632
         ],
         "yaxis": "y"
        }
       ],
       "layout": {
        "barmode": "relative",
        "height": 800,
        "legend": {
         "title": {
          "text": "FIRE_YEAR"
         },
         "tracegroupgap": 0
        },
        "template": {
         "data": {
          "bar": [
           {
            "error_x": {
             "color": "#2a3f5f"
            },
            "error_y": {
             "color": "#2a3f5f"
            },
            "marker": {
             "line": {
              "color": "#E5ECF6",
              "width": 0.5
             },
             "pattern": {
              "fillmode": "overlay",
              "size": 10,
              "solidity": 0.2
             }
            },
            "type": "bar"
           }
          ],
          "barpolar": [
           {
            "marker": {
             "line": {
              "color": "#E5ECF6",
              "width": 0.5
             },
             "pattern": {
              "fillmode": "overlay",
              "size": 10,
              "solidity": 0.2
             }
            },
            "type": "barpolar"
           }
          ],
          "carpet": [
           {
            "aaxis": {
             "endlinecolor": "#2a3f5f",
             "gridcolor": "white",
             "linecolor": "white",
             "minorgridcolor": "white",
             "startlinecolor": "#2a3f5f"
            },
            "baxis": {
             "endlinecolor": "#2a3f5f",
             "gridcolor": "white",
             "linecolor": "white",
             "minorgridcolor": "white",
             "startlinecolor": "#2a3f5f"
            },
            "type": "carpet"
           }
          ],
          "choropleth": [
           {
            "colorbar": {
             "outlinewidth": 0,
             "ticks": ""
            },
            "type": "choropleth"
           }
          ],
          "contour": [
           {
            "colorbar": {
             "outlinewidth": 0,
             "ticks": ""
            },
            "colorscale": [
             [
              0,
              "#0d0887"
             ],
             [
              0.1111111111111111,
              "#46039f"
             ],
             [
              0.2222222222222222,
              "#7201a8"
             ],
             [
              0.3333333333333333,
              "#9c179e"
             ],
             [
              0.4444444444444444,
              "#bd3786"
             ],
             [
              0.5555555555555556,
              "#d8576b"
             ],
             [
              0.6666666666666666,
              "#ed7953"
             ],
             [
              0.7777777777777778,
              "#fb9f3a"
             ],
             [
              0.8888888888888888,
              "#fdca26"
             ],
             [
              1,
              "#f0f921"
             ]
            ],
            "type": "contour"
           }
          ],
          "contourcarpet": [
           {
            "colorbar": {
             "outlinewidth": 0,
             "ticks": ""
            },
            "type": "contourcarpet"
           }
          ],
          "heatmap": [
           {
            "colorbar": {
             "outlinewidth": 0,
             "ticks": ""
            },
            "colorscale": [
             [
              0,
              "#0d0887"
             ],
             [
              0.1111111111111111,
              "#46039f"
             ],
             [
              0.2222222222222222,
              "#7201a8"
             ],
             [
              0.3333333333333333,
              "#9c179e"
             ],
             [
              0.4444444444444444,
              "#bd3786"
             ],
             [
              0.5555555555555556,
              "#d8576b"
             ],
             [
              0.6666666666666666,
              "#ed7953"
             ],
             [
              0.7777777777777778,
              "#fb9f3a"
             ],
             [
              0.8888888888888888,
              "#fdca26"
             ],
             [
              1,
              "#f0f921"
             ]
            ],
            "type": "heatmap"
           }
          ],
          "heatmapgl": [
           {
            "colorbar": {
             "outlinewidth": 0,
             "ticks": ""
            },
            "colorscale": [
             [
              0,
              "#0d0887"
             ],
             [
              0.1111111111111111,
              "#46039f"
             ],
             [
              0.2222222222222222,
              "#7201a8"
             ],
             [
              0.3333333333333333,
              "#9c179e"
             ],
             [
              0.4444444444444444,
              "#bd3786"
             ],
             [
              0.5555555555555556,
              "#d8576b"
             ],
             [
              0.6666666666666666,
              "#ed7953"
             ],
             [
              0.7777777777777778,
              "#fb9f3a"
             ],
             [
              0.8888888888888888,
              "#fdca26"
             ],
             [
              1,
              "#f0f921"
             ]
            ],
            "type": "heatmapgl"
           }
          ],
          "histogram": [
           {
            "marker": {
             "pattern": {
              "fillmode": "overlay",
              "size": 10,
              "solidity": 0.2
             }
            },
            "type": "histogram"
           }
          ],
          "histogram2d": [
           {
            "colorbar": {
             "outlinewidth": 0,
             "ticks": ""
            },
            "colorscale": [
             [
              0,
              "#0d0887"
             ],
             [
              0.1111111111111111,
              "#46039f"
             ],
             [
              0.2222222222222222,
              "#7201a8"
             ],
             [
              0.3333333333333333,
              "#9c179e"
             ],
             [
              0.4444444444444444,
              "#bd3786"
             ],
             [
              0.5555555555555556,
              "#d8576b"
             ],
             [
              0.6666666666666666,
              "#ed7953"
             ],
             [
              0.7777777777777778,
              "#fb9f3a"
             ],
             [
              0.8888888888888888,
              "#fdca26"
             ],
             [
              1,
              "#f0f921"
             ]
            ],
            "type": "histogram2d"
           }
          ],
          "histogram2dcontour": [
           {
            "colorbar": {
             "outlinewidth": 0,
             "ticks": ""
            },
            "colorscale": [
             [
              0,
              "#0d0887"
             ],
             [
              0.1111111111111111,
              "#46039f"
             ],
             [
              0.2222222222222222,
              "#7201a8"
             ],
             [
              0.3333333333333333,
              "#9c179e"
             ],
             [
              0.4444444444444444,
              "#bd3786"
             ],
             [
              0.5555555555555556,
              "#d8576b"
             ],
             [
              0.6666666666666666,
              "#ed7953"
             ],
             [
              0.7777777777777778,
              "#fb9f3a"
             ],
             [
              0.8888888888888888,
              "#fdca26"
             ],
             [
              1,
              "#f0f921"
             ]
            ],
            "type": "histogram2dcontour"
           }
          ],
          "mesh3d": [
           {
            "colorbar": {
             "outlinewidth": 0,
             "ticks": ""
            },
            "type": "mesh3d"
           }
          ],
          "parcoords": [
           {
            "line": {
             "colorbar": {
              "outlinewidth": 0,
              "ticks": ""
             }
            },
            "type": "parcoords"
           }
          ],
          "pie": [
           {
            "automargin": true,
            "type": "pie"
           }
          ],
          "scatter": [
           {
            "fillpattern": {
             "fillmode": "overlay",
             "size": 10,
             "solidity": 0.2
            },
            "type": "scatter"
           }
          ],
          "scatter3d": [
           {
            "line": {
             "colorbar": {
              "outlinewidth": 0,
              "ticks": ""
             }
            },
            "marker": {
             "colorbar": {
              "outlinewidth": 0,
              "ticks": ""
             }
            },
            "type": "scatter3d"
           }
          ],
          "scattercarpet": [
           {
            "marker": {
             "colorbar": {
              "outlinewidth": 0,
              "ticks": ""
             }
            },
            "type": "scattercarpet"
           }
          ],
          "scattergeo": [
           {
            "marker": {
             "colorbar": {
              "outlinewidth": 0,
              "ticks": ""
             }
            },
            "type": "scattergeo"
           }
          ],
          "scattergl": [
           {
            "marker": {
             "colorbar": {
              "outlinewidth": 0,
              "ticks": ""
             }
            },
            "type": "scattergl"
           }
          ],
          "scattermapbox": [
           {
            "marker": {
             "colorbar": {
              "outlinewidth": 0,
              "ticks": ""
             }
            },
            "type": "scattermapbox"
           }
          ],
          "scatterpolar": [
           {
            "marker": {
             "colorbar": {
              "outlinewidth": 0,
              "ticks": ""
             }
            },
            "type": "scatterpolar"
           }
          ],
          "scatterpolargl": [
           {
            "marker": {
             "colorbar": {
              "outlinewidth": 0,
              "ticks": ""
             }
            },
            "type": "scatterpolargl"
           }
          ],
          "scatterternary": [
           {
            "marker": {
             "colorbar": {
              "outlinewidth": 0,
              "ticks": ""
             }
            },
            "type": "scatterternary"
           }
          ],
          "surface": [
           {
            "colorbar": {
             "outlinewidth": 0,
             "ticks": ""
            },
            "colorscale": [
             [
              0,
              "#0d0887"
             ],
             [
              0.1111111111111111,
              "#46039f"
             ],
             [
              0.2222222222222222,
              "#7201a8"
             ],
             [
              0.3333333333333333,
              "#9c179e"
             ],
             [
              0.4444444444444444,
              "#bd3786"
             ],
             [
              0.5555555555555556,
              "#d8576b"
             ],
             [
              0.6666666666666666,
              "#ed7953"
             ],
             [
              0.7777777777777778,
              "#fb9f3a"
             ],
             [
              0.8888888888888888,
              "#fdca26"
             ],
             [
              1,
              "#f0f921"
             ]
            ],
            "type": "surface"
           }
          ],
          "table": [
           {
            "cells": {
             "fill": {
              "color": "#EBF0F8"
             },
             "line": {
              "color": "white"
             }
            },
            "header": {
             "fill": {
              "color": "#C8D4E3"
             },
             "line": {
              "color": "white"
             }
            },
            "type": "table"
           }
          ]
         },
         "layout": {
          "annotationdefaults": {
           "arrowcolor": "#2a3f5f",
           "arrowhead": 0,
           "arrowwidth": 1
          },
          "autotypenumbers": "strict",
          "coloraxis": {
           "colorbar": {
            "outlinewidth": 0,
            "ticks": ""
           }
          },
          "colorscale": {
           "diverging": [
            [
             0,
             "#8e0152"
            ],
            [
             0.1,
             "#c51b7d"
            ],
            [
             0.2,
             "#de77ae"
            ],
            [
             0.3,
             "#f1b6da"
            ],
            [
             0.4,
             "#fde0ef"
            ],
            [
             0.5,
             "#f7f7f7"
            ],
            [
             0.6,
             "#e6f5d0"
            ],
            [
             0.7,
             "#b8e186"
            ],
            [
             0.8,
             "#7fbc41"
            ],
            [
             0.9,
             "#4d9221"
            ],
            [
             1,
             "#276419"
            ]
           ],
           "sequential": [
            [
             0,
             "#0d0887"
            ],
            [
             0.1111111111111111,
             "#46039f"
            ],
            [
             0.2222222222222222,
             "#7201a8"
            ],
            [
             0.3333333333333333,
             "#9c179e"
            ],
            [
             0.4444444444444444,
             "#bd3786"
            ],
            [
             0.5555555555555556,
             "#d8576b"
            ],
            [
             0.6666666666666666,
             "#ed7953"
            ],
            [
             0.7777777777777778,
             "#fb9f3a"
            ],
            [
             0.8888888888888888,
             "#fdca26"
            ],
            [
             1,
             "#f0f921"
            ]
           ],
           "sequentialminus": [
            [
             0,
             "#0d0887"
            ],
            [
             0.1111111111111111,
             "#46039f"
            ],
            [
             0.2222222222222222,
             "#7201a8"
            ],
            [
             0.3333333333333333,
             "#9c179e"
            ],
            [
             0.4444444444444444,
             "#bd3786"
            ],
            [
             0.5555555555555556,
             "#d8576b"
            ],
            [
             0.6666666666666666,
             "#ed7953"
            ],
            [
             0.7777777777777778,
             "#fb9f3a"
            ],
            [
             0.8888888888888888,
             "#fdca26"
            ],
            [
             1,
             "#f0f921"
            ]
           ]
          },
          "colorway": [
           "#636efa",
           "#EF553B",
           "#00cc96",
           "#ab63fa",
           "#FFA15A",
           "#19d3f3",
           "#FF6692",
           "#B6E880",
           "#FF97FF",
           "#FECB52"
          ],
          "font": {
           "color": "#2a3f5f"
          },
          "geo": {
           "bgcolor": "white",
           "lakecolor": "white",
           "landcolor": "#E5ECF6",
           "showlakes": true,
           "showland": true,
           "subunitcolor": "white"
          },
          "hoverlabel": {
           "align": "left"
          },
          "hovermode": "closest",
          "mapbox": {
           "style": "light"
          },
          "paper_bgcolor": "white",
          "plot_bgcolor": "#E5ECF6",
          "polar": {
           "angularaxis": {
            "gridcolor": "white",
            "linecolor": "white",
            "ticks": ""
           },
           "bgcolor": "#E5ECF6",
           "radialaxis": {
            "gridcolor": "white",
            "linecolor": "white",
            "ticks": ""
           }
          },
          "scene": {
           "xaxis": {
            "backgroundcolor": "#E5ECF6",
            "gridcolor": "white",
            "gridwidth": 2,
            "linecolor": "white",
            "showbackground": true,
            "ticks": "",
            "zerolinecolor": "white"
           },
           "yaxis": {
            "backgroundcolor": "#E5ECF6",
            "gridcolor": "white",
            "gridwidth": 2,
            "linecolor": "white",
            "showbackground": true,
            "ticks": "",
            "zerolinecolor": "white"
           },
           "zaxis": {
            "backgroundcolor": "#E5ECF6",
            "gridcolor": "white",
            "gridwidth": 2,
            "linecolor": "white",
            "showbackground": true,
            "ticks": "",
            "zerolinecolor": "white"
           }
          },
          "shapedefaults": {
           "line": {
            "color": "#2a3f5f"
           }
          },
          "ternary": {
           "aaxis": {
            "gridcolor": "white",
            "linecolor": "white",
            "ticks": ""
           },
           "baxis": {
            "gridcolor": "white",
            "linecolor": "white",
            "ticks": ""
           },
           "bgcolor": "#E5ECF6",
           "caxis": {
            "gridcolor": "white",
            "linecolor": "white",
            "ticks": ""
           }
          },
          "title": {
           "x": 0.05
          },
          "xaxis": {
           "automargin": true,
           "gridcolor": "white",
           "linecolor": "white",
           "ticks": "",
           "title": {
            "standoff": 15
           },
           "zerolinecolor": "white",
           "zerolinewidth": 2
          },
          "yaxis": {
           "automargin": true,
           "gridcolor": "white",
           "linecolor": "white",
           "ticks": "",
           "title": {
            "standoff": 15
           },
           "zerolinecolor": "white",
           "zerolinewidth": 2
          }
         }
        },
        "title": {
         "text": "State Distribution"
        },
        "width": 1000,
        "xaxis": {
         "anchor": "y",
         "domain": [
          0,
          1
         ],
         "title": {
          "text": "Causes"
         }
        },
        "yaxis": {
         "anchor": "x",
         "domain": [
          0,
          1
         ],
         "title": {
          "text": "Total Count"
         }
        }
       }
      }
     },
     "metadata": {},
     "output_type": "display_data"
    }
   ],
   "source": [
    "fig = px.bar(d, x='STATE', y='count',\n",
    "                hover_data=['count'], color='FIRE_YEAR',\n",
    "                labels={'count':'Total Count', 'STATE': 'Causes'}, \n",
    "                \n",
    "                height=800,\n",
    "                width=1000,\n",
    "                title=\"State Distribution\")\n",
    "fig.show()"
   ]
  },
  {
   "cell_type": "code",
   "execution_count": null,
   "metadata": {},
   "outputs": [
    {
     "data": {
      "text/plain": [
       "CA    189550\n",
       "GA    168867\n",
       "TX    142021\n",
       "NC    111277\n",
       "FL     90261\n",
       "SC     81315\n",
       "NY     80870\n",
       "MS     79230\n",
       "AZ     71586\n",
       "AL     66570\n",
       "OR     61088\n",
       "MN     44769\n",
       "OK     43239\n",
       "MT     40767\n",
       "NM     37478\n",
       "ID     36698\n",
       "CO     34157\n",
       "WA     33513\n",
       "WI     31861\n",
       "AR     31663\n",
       "TN     31154\n",
       "SD     30963\n",
       "UT     30725\n",
       "LA     30013\n",
       "KY     27089\n",
       "NJ     25949\n",
       "PR     22081\n",
       "WV     21967\n",
       "VA     21833\n",
       "MO     17953\n",
       "NV     16956\n",
       "ND     15201\n",
       "WY     14166\n",
       "ME     13150\n",
       "AK     12843\n",
       "MI     10502\n",
       "HI      9895\n",
       "PA      8712\n",
       "NE      7973\n",
       "KS      7673\n",
       "CT      4976\n",
       "IA      4134\n",
       "MD      3622\n",
       "OH      3479\n",
       "MA      2626\n",
       "NH      2452\n",
       "IL      2327\n",
       "IN      2098\n",
       "RI       480\n",
       "VT       456\n",
       "DE       171\n",
       "DC        66\n",
       "Name: STATE, dtype: int64"
      ]
     },
     "execution_count": 211,
     "metadata": {},
     "output_type": "execute_result"
    }
   ],
   "source": [
    "# df[df[\"UnitId\"] == \"USCAPNF\"].head() \n",
    "df[\"STATE\"].value_counts()"
   ]
  },
  {
   "cell_type": "code",
   "execution_count": null,
   "metadata": {},
   "outputs": [
    {
     "data": {
      "text/html": [
       "<div>\n",
       "<style scoped>\n",
       "    .dataframe tbody tr th:only-of-type {\n",
       "        vertical-align: middle;\n",
       "    }\n",
       "\n",
       "    .dataframe tbody tr th {\n",
       "        vertical-align: top;\n",
       "    }\n",
       "\n",
       "    .dataframe thead th {\n",
       "        text-align: right;\n",
       "    }\n",
       "</style>\n",
       "<table border=\"1\" class=\"dataframe\">\n",
       "  <thead>\n",
       "    <tr style=\"text-align: right;\">\n",
       "      <th></th>\n",
       "      <th>DISC_YM</th>\n",
       "      <th>FIRE_YEAR</th>\n",
       "      <th>count</th>\n",
       "    </tr>\n",
       "  </thead>\n",
       "  <tbody>\n",
       "    <tr>\n",
       "      <th>0</th>\n",
       "      <td>1992-01</td>\n",
       "      <td>1992</td>\n",
       "      <td>3603</td>\n",
       "    </tr>\n",
       "    <tr>\n",
       "      <th>1</th>\n",
       "      <td>1992-02</td>\n",
       "      <td>1992</td>\n",
       "      <td>7114</td>\n",
       "    </tr>\n",
       "    <tr>\n",
       "      <th>2</th>\n",
       "      <td>1992-03</td>\n",
       "      <td>1992</td>\n",
       "      <td>8706</td>\n",
       "    </tr>\n",
       "    <tr>\n",
       "      <th>3</th>\n",
       "      <td>1992-04</td>\n",
       "      <td>1992</td>\n",
       "      <td>7810</td>\n",
       "    </tr>\n",
       "    <tr>\n",
       "      <th>4</th>\n",
       "      <td>1992-05</td>\n",
       "      <td>1992</td>\n",
       "      <td>8574</td>\n",
       "    </tr>\n",
       "  </tbody>\n",
       "</table>\n",
       "</div>"
      ],
      "text/plain": [
       "   DISC_YM  FIRE_YEAR  count\n",
       "0  1992-01       1992   3603\n",
       "1  1992-02       1992   7114\n",
       "2  1992-03       1992   8706\n",
       "3  1992-04       1992   7810\n",
       "4  1992-05       1992   8574"
      ]
     },
     "execution_count": 175,
     "metadata": {},
     "output_type": "execute_result"
    }
   ],
   "source": [
    "d = df[[\"DISC_YM\", \"FIRE_YEAR\", \"OBJECTID\"]]\\\n",
    "                .groupby([\"DISC_YM\", \"FIRE_YEAR\"])\\\n",
    "                .count()\\\n",
    "                .rename(columns={'OBJECTID':\"count\"})\\\n",
    "                .reset_index()\n",
    "d.head()"
   ]
  },
  {
   "cell_type": "code",
   "execution_count": null,
   "metadata": {},
   "outputs": [],
   "source": []
  },
  {
   "cell_type": "markdown",
   "metadata": {},
   "source": [
    "# All table in DB"
   ]
  },
  {
   "cell_type": "code",
   "execution_count": null,
   "metadata": {},
   "outputs": [
    {
     "data": {
      "text/html": [
       "<div>\n",
       "<style scoped>\n",
       "    .dataframe tbody tr th:only-of-type {\n",
       "        vertical-align: middle;\n",
       "    }\n",
       "\n",
       "    .dataframe tbody tr th {\n",
       "        vertical-align: top;\n",
       "    }\n",
       "\n",
       "    .dataframe thead th {\n",
       "        text-align: right;\n",
       "    }\n",
       "</style>\n",
       "<table border=\"1\" class=\"dataframe\">\n",
       "  <thead>\n",
       "    <tr style=\"text-align: right;\">\n",
       "      <th></th>\n",
       "      <th>name</th>\n",
       "    </tr>\n",
       "  </thead>\n",
       "  <tbody>\n",
       "    <tr>\n",
       "      <th>0</th>\n",
       "      <td>spatial_ref_sys</td>\n",
       "    </tr>\n",
       "    <tr>\n",
       "      <th>1</th>\n",
       "      <td>spatialite_history</td>\n",
       "    </tr>\n",
       "    <tr>\n",
       "      <th>2</th>\n",
       "      <td>sqlite_sequence</td>\n",
       "    </tr>\n",
       "    <tr>\n",
       "      <th>3</th>\n",
       "      <td>geometry_columns</td>\n",
       "    </tr>\n",
       "    <tr>\n",
       "      <th>4</th>\n",
       "      <td>spatial_ref_sys_aux</td>\n",
       "    </tr>\n",
       "    <tr>\n",
       "      <th>5</th>\n",
       "      <td>views_geometry_columns</td>\n",
       "    </tr>\n",
       "    <tr>\n",
       "      <th>6</th>\n",
       "      <td>virts_geometry_columns</td>\n",
       "    </tr>\n",
       "    <tr>\n",
       "      <th>7</th>\n",
       "      <td>geometry_columns_statistics</td>\n",
       "    </tr>\n",
       "    <tr>\n",
       "      <th>8</th>\n",
       "      <td>views_geometry_columns_statistics</td>\n",
       "    </tr>\n",
       "    <tr>\n",
       "      <th>9</th>\n",
       "      <td>virts_geometry_columns_statistics</td>\n",
       "    </tr>\n",
       "    <tr>\n",
       "      <th>10</th>\n",
       "      <td>geometry_columns_field_infos</td>\n",
       "    </tr>\n",
       "    <tr>\n",
       "      <th>11</th>\n",
       "      <td>views_geometry_columns_field_infos</td>\n",
       "    </tr>\n",
       "    <tr>\n",
       "      <th>12</th>\n",
       "      <td>virts_geometry_columns_field_infos</td>\n",
       "    </tr>\n",
       "    <tr>\n",
       "      <th>13</th>\n",
       "      <td>geometry_columns_time</td>\n",
       "    </tr>\n",
       "    <tr>\n",
       "      <th>14</th>\n",
       "      <td>geometry_columns_auth</td>\n",
       "    </tr>\n",
       "    <tr>\n",
       "      <th>15</th>\n",
       "      <td>views_geometry_columns_auth</td>\n",
       "    </tr>\n",
       "    <tr>\n",
       "      <th>16</th>\n",
       "      <td>virts_geometry_columns_auth</td>\n",
       "    </tr>\n",
       "    <tr>\n",
       "      <th>17</th>\n",
       "      <td>sql_statements_log</td>\n",
       "    </tr>\n",
       "    <tr>\n",
       "      <th>18</th>\n",
       "      <td>SpatialIndex</td>\n",
       "    </tr>\n",
       "    <tr>\n",
       "      <th>19</th>\n",
       "      <td>ElementaryGeometries</td>\n",
       "    </tr>\n",
       "    <tr>\n",
       "      <th>20</th>\n",
       "      <td>KNN</td>\n",
       "    </tr>\n",
       "    <tr>\n",
       "      <th>21</th>\n",
       "      <td>Fires</td>\n",
       "    </tr>\n",
       "    <tr>\n",
       "      <th>22</th>\n",
       "      <td>idx_Fires_Shape</td>\n",
       "    </tr>\n",
       "    <tr>\n",
       "      <th>23</th>\n",
       "      <td>idx_Fires_Shape_node</td>\n",
       "    </tr>\n",
       "    <tr>\n",
       "      <th>24</th>\n",
       "      <td>idx_Fires_Shape_rowid</td>\n",
       "    </tr>\n",
       "    <tr>\n",
       "      <th>25</th>\n",
       "      <td>idx_Fires_Shape_parent</td>\n",
       "    </tr>\n",
       "    <tr>\n",
       "      <th>26</th>\n",
       "      <td>NWCG_UnitIDActive_20170109</td>\n",
       "    </tr>\n",
       "  </tbody>\n",
       "</table>\n",
       "</div>"
      ],
      "text/plain": [
       "                                  name\n",
       "0                      spatial_ref_sys\n",
       "1                   spatialite_history\n",
       "2                      sqlite_sequence\n",
       "3                     geometry_columns\n",
       "4                  spatial_ref_sys_aux\n",
       "5               views_geometry_columns\n",
       "6               virts_geometry_columns\n",
       "7          geometry_columns_statistics\n",
       "8    views_geometry_columns_statistics\n",
       "9    virts_geometry_columns_statistics\n",
       "10        geometry_columns_field_infos\n",
       "11  views_geometry_columns_field_infos\n",
       "12  virts_geometry_columns_field_infos\n",
       "13               geometry_columns_time\n",
       "14               geometry_columns_auth\n",
       "15         views_geometry_columns_auth\n",
       "16         virts_geometry_columns_auth\n",
       "17                  sql_statements_log\n",
       "18                        SpatialIndex\n",
       "19                ElementaryGeometries\n",
       "20                                 KNN\n",
       "21                               Fires\n",
       "22                     idx_Fires_Shape\n",
       "23                idx_Fires_Shape_node\n",
       "24               idx_Fires_Shape_rowid\n",
       "25              idx_Fires_Shape_parent\n",
       "26          NWCG_UnitIDActive_20170109"
      ]
     },
     "execution_count": 40,
     "metadata": {},
     "output_type": "execute_result"
    }
   ],
   "source": [
    "all_table = pd.read_sql_query(\"SELECT name FROM sqlite_master WHERE type='table'\", engine)\n",
    "all_table"
   ]
  },
  {
   "cell_type": "code",
   "execution_count": null,
   "metadata": {},
   "outputs": [
    {
     "data": {
      "text/html": [
       "<div>\n",
       "<style scoped>\n",
       "    .dataframe tbody tr th:only-of-type {\n",
       "        vertical-align: middle;\n",
       "    }\n",
       "\n",
       "    .dataframe tbody tr th {\n",
       "        vertical-align: top;\n",
       "    }\n",
       "\n",
       "    .dataframe thead th {\n",
       "        text-align: right;\n",
       "    }\n",
       "</style>\n",
       "<table border=\"1\" class=\"dataframe\">\n",
       "  <thead>\n",
       "    <tr style=\"text-align: right;\">\n",
       "      <th></th>\n",
       "      <th>OBJECTID</th>\n",
       "      <th>FOD_ID</th>\n",
       "      <th>FPA_ID</th>\n",
       "      <th>SOURCE_SYSTEM_TYPE</th>\n",
       "      <th>SOURCE_SYSTEM</th>\n",
       "      <th>NWCG_REPORTING_AGENCY</th>\n",
       "      <th>NWCG_REPORTING_UNIT_ID</th>\n",
       "      <th>NWCG_REPORTING_UNIT_NAME</th>\n",
       "      <th>SOURCE_REPORTING_UNIT</th>\n",
       "      <th>SOURCE_REPORTING_UNIT_NAME</th>\n",
       "      <th>LOCAL_FIRE_REPORT_ID</th>\n",
       "      <th>LOCAL_INCIDENT_ID</th>\n",
       "      <th>FIRE_CODE</th>\n",
       "      <th>FIRE_NAME</th>\n",
       "      <th>ICS_209_INCIDENT_NUMBER</th>\n",
       "      <th>ICS_209_NAME</th>\n",
       "      <th>MTBS_ID</th>\n",
       "      <th>MTBS_FIRE_NAME</th>\n",
       "      <th>COMPLEX_NAME</th>\n",
       "      <th>FIRE_YEAR</th>\n",
       "      <th>DISCOVERY_DATE</th>\n",
       "      <th>DISCOVERY_DOY</th>\n",
       "      <th>DISCOVERY_TIME</th>\n",
       "      <th>STAT_CAUSE_CODE</th>\n",
       "      <th>STAT_CAUSE_DESCR</th>\n",
       "      <th>CONT_DATE</th>\n",
       "      <th>CONT_DOY</th>\n",
       "      <th>CONT_TIME</th>\n",
       "      <th>FIRE_SIZE</th>\n",
       "      <th>FIRE_SIZE_CLASS</th>\n",
       "      <th>LATITUDE</th>\n",
       "      <th>LONGITUDE</th>\n",
       "      <th>OWNER_CODE</th>\n",
       "      <th>OWNER_DESCR</th>\n",
       "      <th>STATE</th>\n",
       "      <th>COUNTY</th>\n",
       "      <th>FIPS_CODE</th>\n",
       "      <th>FIPS_NAME</th>\n",
       "      <th>Shape</th>\n",
       "      <th>DIS_DATETIME</th>\n",
       "      <th>CON_DATETIME</th>\n",
       "    </tr>\n",
       "  </thead>\n",
       "  <tbody>\n",
       "    <tr>\n",
       "      <th>0</th>\n",
       "      <td>1</td>\n",
       "      <td>1</td>\n",
       "      <td>FS-1418826</td>\n",
       "      <td>FED</td>\n",
       "      <td>FS-FIRESTAT</td>\n",
       "      <td>FS</td>\n",
       "      <td>USCAPNF</td>\n",
       "      <td>Plumas National Forest</td>\n",
       "      <td>0511</td>\n",
       "      <td>Plumas National Forest</td>\n",
       "      <td>1</td>\n",
       "      <td>PNF-47</td>\n",
       "      <td>BJ8K</td>\n",
       "      <td>FOUNTAIN</td>\n",
       "      <td>None</td>\n",
       "      <td>None</td>\n",
       "      <td>None</td>\n",
       "      <td>None</td>\n",
       "      <td>None</td>\n",
       "      <td>2005</td>\n",
       "      <td>2,453,403.50</td>\n",
       "      <td>33</td>\n",
       "      <td>1300</td>\n",
       "      <td>9.00</td>\n",
       "      <td>Miscellaneous</td>\n",
       "      <td>2,453,403.50</td>\n",
       "      <td>33.00</td>\n",
       "      <td>1730</td>\n",
       "      <td>0.10</td>\n",
       "      <td>A</td>\n",
       "      <td>40.04</td>\n",
       "      <td>-121.01</td>\n",
       "      <td>5.00</td>\n",
       "      <td>USFS</td>\n",
       "      <td>CA</td>\n",
       "      <td>63</td>\n",
       "      <td>063</td>\n",
       "      <td>Plumas</td>\n",
       "      <td>b'\\x00\\x01\\xad\\x10\\x00\\x00\\xe8d\\xc2\\x92_@^\\xc0\\xe0\\xc8l\\x98\\xba\\x04D@\\xe8d\\xc2\\x92_@^\\xc0\\xe0\\xc8l\\x98\\xba\\x04D@|\\x01\\x00\\x00\\x00\\xe8d\\xc2\\x92_@^\\xc0\\xe0\\xc8l\\x98\\xba\\x04D@\\xfe'</td>\n",
       "      <td>2005-02-02 00:00:00</td>\n",
       "      <td>2005-02-02 00:00:00</td>\n",
       "    </tr>\n",
       "    <tr>\n",
       "      <th>1</th>\n",
       "      <td>2</td>\n",
       "      <td>2</td>\n",
       "      <td>FS-1418827</td>\n",
       "      <td>FED</td>\n",
       "      <td>FS-FIRESTAT</td>\n",
       "      <td>FS</td>\n",
       "      <td>USCAENF</td>\n",
       "      <td>Eldorado National Forest</td>\n",
       "      <td>0503</td>\n",
       "      <td>Eldorado National Forest</td>\n",
       "      <td>13</td>\n",
       "      <td>13</td>\n",
       "      <td>AAC0</td>\n",
       "      <td>PIGEON</td>\n",
       "      <td>None</td>\n",
       "      <td>None</td>\n",
       "      <td>None</td>\n",
       "      <td>None</td>\n",
       "      <td>None</td>\n",
       "      <td>2004</td>\n",
       "      <td>2,453,137.50</td>\n",
       "      <td>133</td>\n",
       "      <td>0845</td>\n",
       "      <td>1.00</td>\n",
       "      <td>Lightning</td>\n",
       "      <td>2,453,137.50</td>\n",
       "      <td>133.00</td>\n",
       "      <td>1530</td>\n",
       "      <td>0.25</td>\n",
       "      <td>A</td>\n",
       "      <td>38.93</td>\n",
       "      <td>-120.40</td>\n",
       "      <td>5.00</td>\n",
       "      <td>USFS</td>\n",
       "      <td>CA</td>\n",
       "      <td>61</td>\n",
       "      <td>061</td>\n",
       "      <td>Placer</td>\n",
       "      <td>b'\\x00\\x01\\xad\\x10\\x00\\x00T\\xb6\\xeej\\xe2\\x19^\\xc0\\x90\\xc6U]nwC@T\\xb6\\xeej\\xe2\\x19^\\xc0\\x90\\xc6U]nwC@|\\x01\\x00\\x00\\x00T\\xb6\\xeej\\xe2\\x19^\\xc0\\x90\\xc6U]nwC@\\xfe'</td>\n",
       "      <td>2004-05-12 00:00:00</td>\n",
       "      <td>2004-05-12 00:00:00</td>\n",
       "    </tr>\n",
       "    <tr>\n",
       "      <th>2</th>\n",
       "      <td>3</td>\n",
       "      <td>3</td>\n",
       "      <td>FS-1418835</td>\n",
       "      <td>FED</td>\n",
       "      <td>FS-FIRESTAT</td>\n",
       "      <td>FS</td>\n",
       "      <td>USCAENF</td>\n",
       "      <td>Eldorado National Forest</td>\n",
       "      <td>0503</td>\n",
       "      <td>Eldorado National Forest</td>\n",
       "      <td>27</td>\n",
       "      <td>021</td>\n",
       "      <td>A32W</td>\n",
       "      <td>SLACK</td>\n",
       "      <td>None</td>\n",
       "      <td>None</td>\n",
       "      <td>None</td>\n",
       "      <td>None</td>\n",
       "      <td>None</td>\n",
       "      <td>2004</td>\n",
       "      <td>2,453,156.50</td>\n",
       "      <td>152</td>\n",
       "      <td>1921</td>\n",
       "      <td>5.00</td>\n",
       "      <td>Debris Burning</td>\n",
       "      <td>2,453,156.50</td>\n",
       "      <td>152.00</td>\n",
       "      <td>2024</td>\n",
       "      <td>0.10</td>\n",
       "      <td>A</td>\n",
       "      <td>38.98</td>\n",
       "      <td>-120.74</td>\n",
       "      <td>13.00</td>\n",
       "      <td>STATE OR PRIVATE</td>\n",
       "      <td>CA</td>\n",
       "      <td>17</td>\n",
       "      <td>017</td>\n",
       "      <td>El Dorado</td>\n",
       "      <td>b'\\x00\\x01\\xad\\x10\\x00\\x00\\xd0\\xa5\\xa0W\\x13/^\\xc0P\\xbbf,\\xf9}C@\\xd0\\xa5\\xa0W\\x13/^\\xc0P\\xbbf,\\xf9}C@|\\x01\\x00\\x00\\x00\\xd0\\xa5\\xa0W\\x13/^\\xc0P\\xbbf,\\xf9}C@\\xfe'</td>\n",
       "      <td>2004-05-31 00:00:00</td>\n",
       "      <td>2004-05-31 00:00:00</td>\n",
       "    </tr>\n",
       "    <tr>\n",
       "      <th>3</th>\n",
       "      <td>4</td>\n",
       "      <td>4</td>\n",
       "      <td>FS-1418845</td>\n",
       "      <td>FED</td>\n",
       "      <td>FS-FIRESTAT</td>\n",
       "      <td>FS</td>\n",
       "      <td>USCAENF</td>\n",
       "      <td>Eldorado National Forest</td>\n",
       "      <td>0503</td>\n",
       "      <td>Eldorado National Forest</td>\n",
       "      <td>43</td>\n",
       "      <td>6</td>\n",
       "      <td>None</td>\n",
       "      <td>DEER</td>\n",
       "      <td>None</td>\n",
       "      <td>None</td>\n",
       "      <td>None</td>\n",
       "      <td>None</td>\n",
       "      <td>None</td>\n",
       "      <td>2004</td>\n",
       "      <td>2,453,184.50</td>\n",
       "      <td>180</td>\n",
       "      <td>1600</td>\n",
       "      <td>1.00</td>\n",
       "      <td>Lightning</td>\n",
       "      <td>2,453,189.50</td>\n",
       "      <td>185.00</td>\n",
       "      <td>1400</td>\n",
       "      <td>0.10</td>\n",
       "      <td>A</td>\n",
       "      <td>38.56</td>\n",
       "      <td>-119.91</td>\n",
       "      <td>5.00</td>\n",
       "      <td>USFS</td>\n",
       "      <td>CA</td>\n",
       "      <td>3</td>\n",
       "      <td>003</td>\n",
       "      <td>Alpine</td>\n",
       "      <td>b'\\x00\\x01\\xad\\x10\\x00\\x00\\x94\\xac\\xa3\\rt\\xfa]\\xc0\\xe8T\\x00\\xc6\\x92GC@\\x94\\xac\\xa3\\rt\\xfa]\\xc0\\xe8T\\x00\\xc6\\x92GC@|\\x01\\x00\\x00\\x00\\x94\\xac\\xa3\\rt\\xfa]\\xc0\\xe8T\\x00\\xc6\\x92GC@\\xfe'</td>\n",
       "      <td>2004-06-28 00:00:00</td>\n",
       "      <td>2004-07-03 00:00:00</td>\n",
       "    </tr>\n",
       "    <tr>\n",
       "      <th>4</th>\n",
       "      <td>5</td>\n",
       "      <td>5</td>\n",
       "      <td>FS-1418847</td>\n",
       "      <td>FED</td>\n",
       "      <td>FS-FIRESTAT</td>\n",
       "      <td>FS</td>\n",
       "      <td>USCAENF</td>\n",
       "      <td>Eldorado National Forest</td>\n",
       "      <td>0503</td>\n",
       "      <td>Eldorado National Forest</td>\n",
       "      <td>44</td>\n",
       "      <td>7</td>\n",
       "      <td>None</td>\n",
       "      <td>STEVENOT</td>\n",
       "      <td>None</td>\n",
       "      <td>None</td>\n",
       "      <td>None</td>\n",
       "      <td>None</td>\n",
       "      <td>None</td>\n",
       "      <td>2004</td>\n",
       "      <td>2,453,184.50</td>\n",
       "      <td>180</td>\n",
       "      <td>1600</td>\n",
       "      <td>1.00</td>\n",
       "      <td>Lightning</td>\n",
       "      <td>2,453,189.50</td>\n",
       "      <td>185.00</td>\n",
       "      <td>1200</td>\n",
       "      <td>0.10</td>\n",
       "      <td>A</td>\n",
       "      <td>38.56</td>\n",
       "      <td>-119.93</td>\n",
       "      <td>5.00</td>\n",
       "      <td>USFS</td>\n",
       "      <td>CA</td>\n",
       "      <td>3</td>\n",
       "      <td>003</td>\n",
       "      <td>Alpine</td>\n",
       "      <td>b'\\x00\\x01\\xad\\x10\\x00\\x00@\\xe3\\xaa.\\xb7\\xfb]\\xc0\\xe8T\\x00\\xc6\\x92GC@@\\xe3\\xaa.\\xb7\\xfb]\\xc0\\xe8T\\x00\\xc6\\x92GC@|\\x01\\x00\\x00\\x00@\\xe3\\xaa.\\xb7\\xfb]\\xc0\\xe8T\\x00\\xc6\\x92GC@\\xfe'</td>\n",
       "      <td>2004-06-28 00:00:00</td>\n",
       "      <td>2004-07-03 00:00:00</td>\n",
       "    </tr>\n",
       "  </tbody>\n",
       "</table>\n",
       "</div>"
      ],
      "text/plain": [
       "   OBJECTID  FOD_ID      FPA_ID SOURCE_SYSTEM_TYPE SOURCE_SYSTEM NWCG_REPORTING_AGENCY NWCG_REPORTING_UNIT_ID  NWCG_REPORTING_UNIT_NAME SOURCE_REPORTING_UNIT SOURCE_REPORTING_UNIT_NAME LOCAL_FIRE_REPORT_ID LOCAL_INCIDENT_ID FIRE_CODE FIRE_NAME ICS_209_INCIDENT_NUMBER ICS_209_NAME MTBS_ID MTBS_FIRE_NAME COMPLEX_NAME  FIRE_YEAR       DISCOVERY_DATE  DISCOVERY_DOY DISCOVERY_TIME      STAT_CAUSE_CODE STAT_CAUSE_DESCR            CONT_DATE             CONT_DOY CONT_TIME            FIRE_SIZE FIRE_SIZE_CLASS             LATITUDE            LONGITUDE           OWNER_CODE       OWNER_DESCR STATE COUNTY FIPS_CODE  FIPS_NAME                                                                                                                                                                                 Shape         DIS_DATETIME         CON_DATETIME\n",
       "0         1       1  FS-1418826                FED   FS-FIRESTAT                    FS                USCAPNF    Plumas National Forest                  0511     Plumas National Forest                    1            PNF-47      BJ8K  FOUNTAIN                    None         None    None           None         None       2005         2,453,403.50             33           1300                 9.00    Miscellaneous         2,453,403.50                33.00      1730                 0.10               A                40.04              -121.01                 5.00              USFS    CA     63       063     Plumas     b'\\x00\\x01\\xad\\x10\\x00\\x00\\xe8d\\xc2\\x92_@^\\xc0\\xe0\\xc8l\\x98\\xba\\x04D@\\xe8d\\xc2\\x92_@^\\xc0\\xe0\\xc8l\\x98\\xba\\x04D@|\\x01\\x00\\x00\\x00\\xe8d\\xc2\\x92_@^\\xc0\\xe0\\xc8l\\x98\\xba\\x04D@\\xfe'  2005-02-02 00:00:00  2005-02-02 00:00:00\n",
       "1         2       2  FS-1418827                FED   FS-FIRESTAT                    FS                USCAENF  Eldorado National Forest                  0503   Eldorado National Forest                   13                13      AAC0    PIGEON                    None         None    None           None         None       2004         2,453,137.50            133           0845                 1.00        Lightning         2,453,137.50               133.00      1530                 0.25               A                38.93              -120.40                 5.00              USFS    CA     61       061     Placer                       b'\\x00\\x01\\xad\\x10\\x00\\x00T\\xb6\\xeej\\xe2\\x19^\\xc0\\x90\\xc6U]nwC@T\\xb6\\xeej\\xe2\\x19^\\xc0\\x90\\xc6U]nwC@|\\x01\\x00\\x00\\x00T\\xb6\\xeej\\xe2\\x19^\\xc0\\x90\\xc6U]nwC@\\xfe'  2004-05-12 00:00:00  2004-05-12 00:00:00\n",
       "2         3       3  FS-1418835                FED   FS-FIRESTAT                    FS                USCAENF  Eldorado National Forest                  0503   Eldorado National Forest                   27               021      A32W     SLACK                    None         None    None           None         None       2004         2,453,156.50            152           1921                 5.00   Debris Burning         2,453,156.50               152.00      2024                 0.10               A                38.98              -120.74                13.00  STATE OR PRIVATE    CA     17       017  El Dorado                       b'\\x00\\x01\\xad\\x10\\x00\\x00\\xd0\\xa5\\xa0W\\x13/^\\xc0P\\xbbf,\\xf9}C@\\xd0\\xa5\\xa0W\\x13/^\\xc0P\\xbbf,\\xf9}C@|\\x01\\x00\\x00\\x00\\xd0\\xa5\\xa0W\\x13/^\\xc0P\\xbbf,\\xf9}C@\\xfe'  2004-05-31 00:00:00  2004-05-31 00:00:00\n",
       "3         4       4  FS-1418845                FED   FS-FIRESTAT                    FS                USCAENF  Eldorado National Forest                  0503   Eldorado National Forest                   43                 6      None      DEER                    None         None    None           None         None       2004         2,453,184.50            180           1600                 1.00        Lightning         2,453,189.50               185.00      1400                 0.10               A                38.56              -119.91                 5.00              USFS    CA      3       003     Alpine  b'\\x00\\x01\\xad\\x10\\x00\\x00\\x94\\xac\\xa3\\rt\\xfa]\\xc0\\xe8T\\x00\\xc6\\x92GC@\\x94\\xac\\xa3\\rt\\xfa]\\xc0\\xe8T\\x00\\xc6\\x92GC@|\\x01\\x00\\x00\\x00\\x94\\xac\\xa3\\rt\\xfa]\\xc0\\xe8T\\x00\\xc6\\x92GC@\\xfe'  2004-06-28 00:00:00  2004-07-03 00:00:00\n",
       "4         5       5  FS-1418847                FED   FS-FIRESTAT                    FS                USCAENF  Eldorado National Forest                  0503   Eldorado National Forest                   44                 7      None  STEVENOT                    None         None    None           None         None       2004         2,453,184.50            180           1600                 1.00        Lightning         2,453,189.50               185.00      1200                 0.10               A                38.56              -119.93                 5.00              USFS    CA      3       003     Alpine     b'\\x00\\x01\\xad\\x10\\x00\\x00@\\xe3\\xaa.\\xb7\\xfb]\\xc0\\xe8T\\x00\\xc6\\x92GC@@\\xe3\\xaa.\\xb7\\xfb]\\xc0\\xe8T\\x00\\xc6\\x92GC@|\\x01\\x00\\x00\\x00@\\xe3\\xaa.\\xb7\\xfb]\\xc0\\xe8T\\x00\\xc6\\x92GC@\\xfe'  2004-06-28 00:00:00  2004-07-03 00:00:00"
      ]
     },
     "execution_count": 44,
     "metadata": {},
     "output_type": "execute_result"
    }
   ],
   "source": [
    "f_df = pd.read_sql_query(\"\"\"\n",
    "        SELECT\n",
    "            *, \n",
    "            datetime(DISCOVERY_DATE) as DIS_DATETIME,\n",
    "            datetime(CONT_DATE) as CON_DATETIME\n",
    "        FROM \n",
    "            Fires \n",
    "        LIMIT 10000;\n",
    "        \"\"\" , engine)\n",
    "f_df.head()"
   ]
  },
  {
   "cell_type": "code",
   "execution_count": null,
   "metadata": {},
   "outputs": [
    {
     "data": {
      "text/plain": [
       "5      824\n",
       "3      441\n",
       "39     369\n",
       "7      360\n",
       "17     339\n",
       "53     324\n",
       "49     318\n",
       "37     314\n",
       "13     256\n",
       "23     234\n",
       "35     202\n",
       "1      185\n",
       "25     182\n",
       "63     176\n",
       "43     169\n",
       "19     148\n",
       "51     143\n",
       "81     140\n",
       "47     130\n",
       "59     129\n",
       "15     120\n",
       "11     110\n",
       "33     103\n",
       "85      93\n",
       "65      91\n",
       "31      91\n",
       "27      91\n",
       "111     88\n",
       "93      88\n",
       "83      88\n",
       "21      87\n",
       "61      85\n",
       "55      79\n",
       "29      78\n",
       "103     78\n",
       "69      75\n",
       "75      68\n",
       "41      66\n",
       "9       65\n",
       "147     65\n",
       "67      62\n",
       "123     62\n",
       "89      57\n",
       "57      51\n",
       "131     47\n",
       "109     43\n",
       "105     40\n",
       "91      39\n",
       "113     37\n",
       "129     35\n",
       "6       34\n",
       "79      33\n",
       "137     32\n",
       "203     30\n",
       "77      30\n",
       "73      28\n",
       "153     27\n",
       "241     26\n",
       "181     25\n",
       "97      24\n",
       "221     23\n",
       "45      22\n",
       "179     21\n",
       "149     20\n",
       "87      18\n",
       "71      18\n",
       "117     18\n",
       "161     17\n",
       "213     17\n",
       "115     14\n",
       "110     13\n",
       "125     12\n",
       "165     12\n",
       "99      12\n",
       "28      11\n",
       "215     11\n",
       "175      9\n",
       "130      8\n",
       "107      8\n",
       "187      7\n",
       "220      7\n",
       "235      7\n",
       "101      7\n",
       "291      6\n",
       "223      5\n",
       "169      5\n",
       "280      5\n",
       "237      5\n",
       "127      5\n",
       "151      5\n",
       "510      5\n",
       "199      5\n",
       "173      4\n",
       "205      4\n",
       "281      4\n",
       "122      3\n",
       "171      3\n",
       "311      3\n",
       "209      3\n",
       "257      3\n",
       "229      2\n",
       "157      2\n",
       "201      2\n",
       "139      2\n",
       "295      2\n",
       "95       2\n",
       "121      2\n",
       "313      2\n",
       "133      2\n",
       "059      2\n",
       "197      2\n",
       "195      2\n",
       "163      2\n",
       "119      1\n",
       "135      1\n",
       "261      1\n",
       "189      1\n",
       "159      1\n",
       "Name: COUNTY, dtype: int64"
      ]
     },
     "execution_count": 53,
     "metadata": {},
     "output_type": "execute_result"
    }
   ],
   "source": [
    "# f_df[\"NWCG_REPORTING_UNIT_ID\"].value_counts()\n",
    "f_df[\"COUNTY\"].value_counts()\n",
    "# f_df[f_df[\"NWCG_REPORTING_UNIT_ID\"] == \"USAKCAN\"].head()\n"
   ]
  },
  {
   "cell_type": "code",
   "execution_count": null,
   "metadata": {},
   "outputs": [
    {
     "name": "stdout",
     "output_type": "stream",
     "text": [
      "(5867, 13)\n"
     ]
    },
    {
     "data": {
      "text/html": [
       "<div>\n",
       "<style scoped>\n",
       "    .dataframe tbody tr th:only-of-type {\n",
       "        vertical-align: middle;\n",
       "    }\n",
       "\n",
       "    .dataframe tbody tr th {\n",
       "        vertical-align: top;\n",
       "    }\n",
       "\n",
       "    .dataframe thead th {\n",
       "        text-align: right;\n",
       "    }\n",
       "</style>\n",
       "<table border=\"1\" class=\"dataframe\">\n",
       "  <thead>\n",
       "    <tr style=\"text-align: right;\">\n",
       "      <th></th>\n",
       "      <th>OBJECTID</th>\n",
       "      <th>UnitId</th>\n",
       "      <th>GeographicArea</th>\n",
       "      <th>Gacc</th>\n",
       "      <th>WildlandRole</th>\n",
       "      <th>UnitType</th>\n",
       "      <th>Department</th>\n",
       "      <th>Agency</th>\n",
       "      <th>Parent</th>\n",
       "      <th>Country</th>\n",
       "      <th>State</th>\n",
       "      <th>Code</th>\n",
       "      <th>Name</th>\n",
       "    </tr>\n",
       "  </thead>\n",
       "  <tbody>\n",
       "    <tr>\n",
       "      <th>0</th>\n",
       "      <td>1</td>\n",
       "      <td>USAKCAN</td>\n",
       "      <td>AK</td>\n",
       "      <td>USAKACC</td>\n",
       "      <td>Resource Provider Only</td>\n",
       "      <td>Non-Government</td>\n",
       "      <td>NG</td>\n",
       "      <td>ANC</td>\n",
       "      <td>None</td>\n",
       "      <td>US</td>\n",
       "      <td>AK</td>\n",
       "      <td>CAN</td>\n",
       "      <td>Calista Regional Native Corporation</td>\n",
       "    </tr>\n",
       "    <tr>\n",
       "      <th>1</th>\n",
       "      <td>2</td>\n",
       "      <td>USAKCEKX</td>\n",
       "      <td>AK</td>\n",
       "      <td>USAKACC</td>\n",
       "      <td>Incident Host Geographic</td>\n",
       "      <td>US County/Local</td>\n",
       "      <td>AK</td>\n",
       "      <td>C&amp;L</td>\n",
       "      <td>None</td>\n",
       "      <td>US</td>\n",
       "      <td>AK</td>\n",
       "      <td>CEKX</td>\n",
       "      <td>Central Emergency Services</td>\n",
       "    </tr>\n",
       "    <tr>\n",
       "      <th>2</th>\n",
       "      <td>3</td>\n",
       "      <td>USAKCFFX</td>\n",
       "      <td>AK</td>\n",
       "      <td>USAKACC</td>\n",
       "      <td>Incident Host Geographic</td>\n",
       "      <td>US County/Local</td>\n",
       "      <td>AK</td>\n",
       "      <td>C&amp;L</td>\n",
       "      <td>None</td>\n",
       "      <td>US</td>\n",
       "      <td>AK</td>\n",
       "      <td>CFFX</td>\n",
       "      <td>City Fairbanks Fire Department</td>\n",
       "    </tr>\n",
       "    <tr>\n",
       "      <th>3</th>\n",
       "      <td>4</td>\n",
       "      <td>USAKCFMX</td>\n",
       "      <td>AK</td>\n",
       "      <td>USAKACC</td>\n",
       "      <td>Incident Host Geographic</td>\n",
       "      <td>US County/Local</td>\n",
       "      <td>AK</td>\n",
       "      <td>C&amp;L</td>\n",
       "      <td>None</td>\n",
       "      <td>US</td>\n",
       "      <td>AK</td>\n",
       "      <td>CFMX</td>\n",
       "      <td>Central Mat-Su Fire Department</td>\n",
       "    </tr>\n",
       "    <tr>\n",
       "      <th>4</th>\n",
       "      <td>5</td>\n",
       "      <td>USAKCFQ</td>\n",
       "      <td>AK</td>\n",
       "      <td>USAKACC</td>\n",
       "      <td>Incident Host Geographic</td>\n",
       "      <td>US Federal</td>\n",
       "      <td>DOD</td>\n",
       "      <td>USAF</td>\n",
       "      <td>None</td>\n",
       "      <td>US</td>\n",
       "      <td>AK</td>\n",
       "      <td>CFQ</td>\n",
       "      <td>Clear Air Force Station</td>\n",
       "    </tr>\n",
       "  </tbody>\n",
       "</table>\n",
       "</div>"
      ],
      "text/plain": [
       "   OBJECTID    UnitId GeographicArea     Gacc              WildlandRole         UnitType Department Agency Parent Country State  Code                                 Name\n",
       "0         1   USAKCAN             AK  USAKACC    Resource Provider Only   Non-Government         NG    ANC   None      US    AK   CAN  Calista Regional Native Corporation\n",
       "1         2  USAKCEKX             AK  USAKACC  Incident Host Geographic  US County/Local         AK    C&L   None      US    AK  CEKX           Central Emergency Services\n",
       "2         3  USAKCFFX             AK  USAKACC  Incident Host Geographic  US County/Local         AK    C&L   None      US    AK  CFFX       City Fairbanks Fire Department\n",
       "3         4  USAKCFMX             AK  USAKACC  Incident Host Geographic  US County/Local         AK    C&L   None      US    AK  CFMX       Central Mat-Su Fire Department\n",
       "4         5   USAKCFQ             AK  USAKACC  Incident Host Geographic       US Federal        DOD   USAF   None      US    AK   CFQ              Clear Air Force Station"
      ]
     },
     "execution_count": 41,
     "metadata": {},
     "output_type": "execute_result"
    }
   ],
   "source": [
    "df = pd.read_sql('SELECT * FROM NWCG_UnitIDActive_20170109', engine)\n",
    "print(df.shape)\n",
    "df.head()"
   ]
  },
  {
   "cell_type": "code",
   "execution_count": null,
   "metadata": {},
   "outputs": [
    {
     "data": {
      "text/html": [
       "<div>\n",
       "<style scoped>\n",
       "    .dataframe tbody tr th:only-of-type {\n",
       "        vertical-align: middle;\n",
       "    }\n",
       "\n",
       "    .dataframe tbody tr th {\n",
       "        vertical-align: top;\n",
       "    }\n",
       "\n",
       "    .dataframe thead th {\n",
       "        text-align: right;\n",
       "    }\n",
       "</style>\n",
       "<table border=\"1\" class=\"dataframe\">\n",
       "  <thead>\n",
       "    <tr style=\"text-align: right;\">\n",
       "      <th></th>\n",
       "      <th>lat</th>\n",
       "      <th>lon</th>\n",
       "    </tr>\n",
       "  </thead>\n",
       "  <tbody>\n",
       "    <tr>\n",
       "      <th>0</th>\n",
       "      <td>37.74</td>\n",
       "      <td>-122.38</td>\n",
       "    </tr>\n",
       "    <tr>\n",
       "      <th>1</th>\n",
       "      <td>37.77</td>\n",
       "      <td>-122.38</td>\n",
       "    </tr>\n",
       "    <tr>\n",
       "      <th>2</th>\n",
       "      <td>37.75</td>\n",
       "      <td>-122.40</td>\n",
       "    </tr>\n",
       "    <tr>\n",
       "      <th>3</th>\n",
       "      <td>37.74</td>\n",
       "      <td>-122.40</td>\n",
       "    </tr>\n",
       "    <tr>\n",
       "      <th>4</th>\n",
       "      <td>37.72</td>\n",
       "      <td>-122.39</td>\n",
       "    </tr>\n",
       "  </tbody>\n",
       "</table>\n",
       "</div>"
      ],
      "text/plain": [
       "                   lat                  lon\n",
       "0                37.74              -122.38\n",
       "1                37.77              -122.38\n",
       "2                37.75              -122.40\n",
       "3                37.74              -122.40\n",
       "4                37.72              -122.39"
      ]
     },
     "execution_count": 149,
     "metadata": {},
     "output_type": "execute_result"
    }
   ],
   "source": [
    "map_data = pd.DataFrame(\n",
    "    np.random.randn(1000, 2) / [50, 50] + [37.76, -122.4],\n",
    "    columns=['lat', 'lon'])\n",
    "\n",
    "map_data.head()"
   ]
  },
  {
   "cell_type": "code",
   "execution_count": null,
   "metadata": {},
   "outputs": [
    {
     "ename": "KeyError",
     "evalue": "'State'",
     "output_type": "error",
     "traceback": [
      "\u001b[0;31m---------------------------------------------------------------------------\u001b[0m",
      "\u001b[0;31mKeyError\u001b[0m                                  Traceback (most recent call last)",
      "File \u001b[0;32m~/.local/share/virtualenvs/.ds_env-MNTYxxd-/lib/python3.8/site-packages/pandas/core/indexes/base.py:3621\u001b[0m, in \u001b[0;36mIndex.get_loc\u001b[0;34m(self, key, method, tolerance)\u001b[0m\n\u001b[1;32m   3620\u001b[0m \u001b[39mtry\u001b[39;00m:\n\u001b[0;32m-> 3621\u001b[0m     \u001b[39mreturn\u001b[39;00m \u001b[39mself\u001b[39;49m\u001b[39m.\u001b[39;49m_engine\u001b[39m.\u001b[39;49mget_loc(casted_key)\n\u001b[1;32m   3622\u001b[0m \u001b[39mexcept\u001b[39;00m \u001b[39mKeyError\u001b[39;00m \u001b[39mas\u001b[39;00m err:\n",
      "File \u001b[0;32m~/.local/share/virtualenvs/.ds_env-MNTYxxd-/lib/python3.8/site-packages/pandas/_libs/index.pyx:136\u001b[0m, in \u001b[0;36mpandas._libs.index.IndexEngine.get_loc\u001b[0;34m()\u001b[0m\n",
      "File \u001b[0;32m~/.local/share/virtualenvs/.ds_env-MNTYxxd-/lib/python3.8/site-packages/pandas/_libs/index.pyx:163\u001b[0m, in \u001b[0;36mpandas._libs.index.IndexEngine.get_loc\u001b[0;34m()\u001b[0m\n",
      "File \u001b[0;32mpandas/_libs/hashtable_class_helper.pxi:5198\u001b[0m, in \u001b[0;36mpandas._libs.hashtable.PyObjectHashTable.get_item\u001b[0;34m()\u001b[0m\n",
      "File \u001b[0;32mpandas/_libs/hashtable_class_helper.pxi:5206\u001b[0m, in \u001b[0;36mpandas._libs.hashtable.PyObjectHashTable.get_item\u001b[0;34m()\u001b[0m\n",
      "\u001b[0;31mKeyError\u001b[0m: 'State'",
      "\nThe above exception was the direct cause of the following exception:\n",
      "\u001b[0;31mKeyError\u001b[0m                                  Traceback (most recent call last)",
      "\u001b[1;32m/Users/dit/Documents/canonical/test.ipynb Cell 22\u001b[0m in \u001b[0;36m<cell line: 2>\u001b[0;34m()\u001b[0m\n\u001b[1;32m      <a href='vscode-notebook-cell:/Users/dit/Documents/canonical/test.ipynb#X46sZmlsZQ%3D%3D?line=0'>1</a>\u001b[0m \u001b[39m# df[df[\"UnitId\"] == \"USCAPNF\"].head()\u001b[39;00m\n\u001b[0;32m----> <a href='vscode-notebook-cell:/Users/dit/Documents/canonical/test.ipynb#X46sZmlsZQ%3D%3D?line=1'>2</a>\u001b[0m df[\u001b[39m\"\u001b[39;49m\u001b[39mState\u001b[39;49m\u001b[39m\"\u001b[39;49m]\u001b[39m.\u001b[39mvalue_counts()\u001b[39m.\u001b[39mshape\n",
      "File \u001b[0;32m~/.local/share/virtualenvs/.ds_env-MNTYxxd-/lib/python3.8/site-packages/pandas/core/frame.py:3505\u001b[0m, in \u001b[0;36mDataFrame.__getitem__\u001b[0;34m(self, key)\u001b[0m\n\u001b[1;32m   3503\u001b[0m \u001b[39mif\u001b[39;00m \u001b[39mself\u001b[39m\u001b[39m.\u001b[39mcolumns\u001b[39m.\u001b[39mnlevels \u001b[39m>\u001b[39m \u001b[39m1\u001b[39m:\n\u001b[1;32m   3504\u001b[0m     \u001b[39mreturn\u001b[39;00m \u001b[39mself\u001b[39m\u001b[39m.\u001b[39m_getitem_multilevel(key)\n\u001b[0;32m-> 3505\u001b[0m indexer \u001b[39m=\u001b[39m \u001b[39mself\u001b[39;49m\u001b[39m.\u001b[39;49mcolumns\u001b[39m.\u001b[39;49mget_loc(key)\n\u001b[1;32m   3506\u001b[0m \u001b[39mif\u001b[39;00m is_integer(indexer):\n\u001b[1;32m   3507\u001b[0m     indexer \u001b[39m=\u001b[39m [indexer]\n",
      "File \u001b[0;32m~/.local/share/virtualenvs/.ds_env-MNTYxxd-/lib/python3.8/site-packages/pandas/core/indexes/base.py:3623\u001b[0m, in \u001b[0;36mIndex.get_loc\u001b[0;34m(self, key, method, tolerance)\u001b[0m\n\u001b[1;32m   3621\u001b[0m     \u001b[39mreturn\u001b[39;00m \u001b[39mself\u001b[39m\u001b[39m.\u001b[39m_engine\u001b[39m.\u001b[39mget_loc(casted_key)\n\u001b[1;32m   3622\u001b[0m \u001b[39mexcept\u001b[39;00m \u001b[39mKeyError\u001b[39;00m \u001b[39mas\u001b[39;00m err:\n\u001b[0;32m-> 3623\u001b[0m     \u001b[39mraise\u001b[39;00m \u001b[39mKeyError\u001b[39;00m(key) \u001b[39mfrom\u001b[39;00m \u001b[39merr\u001b[39;00m\n\u001b[1;32m   3624\u001b[0m \u001b[39mexcept\u001b[39;00m \u001b[39mTypeError\u001b[39;00m:\n\u001b[1;32m   3625\u001b[0m     \u001b[39m# If we have a listlike key, _check_indexing_error will raise\u001b[39;00m\n\u001b[1;32m   3626\u001b[0m     \u001b[39m#  InvalidIndexError. Otherwise we fall through and re-raise\u001b[39;00m\n\u001b[1;32m   3627\u001b[0m     \u001b[39m#  the TypeError.\u001b[39;00m\n\u001b[1;32m   3628\u001b[0m     \u001b[39mself\u001b[39m\u001b[39m.\u001b[39m_check_indexing_error(key)\n",
      "\u001b[0;31mKeyError\u001b[0m: 'State'"
     ]
    }
   ],
   "source": [
    "# df[df[\"UnitId\"] == \"USCAPNF\"].head()\n",
    "df[\"State\"].value_counts().shape"
   ]
  },
  {
   "cell_type": "code",
   "execution_count": null,
   "metadata": {},
   "outputs": [
    {
     "name": "stdout",
     "output_type": "stream",
     "text": [
      "(4924, 6)\n"
     ]
    },
    {
     "data": {
      "text/html": [
       "<div>\n",
       "<style scoped>\n",
       "    .dataframe tbody tr th:only-of-type {\n",
       "        vertical-align: middle;\n",
       "    }\n",
       "\n",
       "    .dataframe tbody tr th {\n",
       "        vertical-align: top;\n",
       "    }\n",
       "\n",
       "    .dataframe thead th {\n",
       "        text-align: right;\n",
       "    }\n",
       "</style>\n",
       "<table border=\"1\" class=\"dataframe\">\n",
       "  <thead>\n",
       "    <tr style=\"text-align: right;\">\n",
       "      <th></th>\n",
       "      <th>srid</th>\n",
       "      <th>auth_name</th>\n",
       "      <th>auth_srid</th>\n",
       "      <th>ref_sys_name</th>\n",
       "      <th>proj4text</th>\n",
       "      <th>srtext</th>\n",
       "    </tr>\n",
       "  </thead>\n",
       "  <tbody>\n",
       "    <tr>\n",
       "      <th>0</th>\n",
       "      <td>-1</td>\n",
       "      <td>NONE</td>\n",
       "      <td>-1</td>\n",
       "      <td>Undefined - Cartesian</td>\n",
       "      <td></td>\n",
       "      <td>Undefined</td>\n",
       "    </tr>\n",
       "    <tr>\n",
       "      <th>1</th>\n",
       "      <td>0</td>\n",
       "      <td>NONE</td>\n",
       "      <td>0</td>\n",
       "      <td>Undefined - Geographic Long/Lat</td>\n",
       "      <td></td>\n",
       "      <td>Undefined</td>\n",
       "    </tr>\n",
       "    <tr>\n",
       "      <th>2</th>\n",
       "      <td>2000</td>\n",
       "      <td>epsg</td>\n",
       "      <td>2000</td>\n",
       "      <td>Anguilla 1957 / British West Indies Grid</td>\n",
       "      <td>+proj=tmerc +lat_0=0 +lon_0=-62 +k=0.9995000000000001 +x_0=400000 +y_0=0 +ellps=clrk80 +units=m +no_defs</td>\n",
       "      <td>PROJCS[\"Anguilla 1957 / British West Indies Grid\",GEOGCS[\"Anguilla 1957\",DATUM[\"Anguilla_1957\",SPHEROID[\"Clarke 1880 (RGS)\",6378249.145,293.465,AUTHORITY[\"EPSG\",\"7012\"]],AUTHORITY[\"EPSG\",\"6600\"]],PRIMEM[\"Greenwich\",0,AUTHORITY[\"EPSG\",\"8901\"]],UNIT[\"degree\",0.0174532925199433,AUTHORITY[\"EPSG\",\"9122\"]],AXIS[\"Latitude\",NORTH],AXIS[\"Longitude\",EAST],AUTHORITY[\"EPSG\",\"4600\"]],PROJECTION[\"Transverse_Mercator\"],PARAMETER[\"latitude_of_origin\",0],PARAMETER[\"central_meridian\",-62],PARAMETER[\"scale_factor\",0.9995],PARAMETER[\"false_easting\",400000],PARAMETER[\"false_northing\",0],UNIT[\"metre\",1,AUTHORITY[\"EPSG\",\"9001\"]],AXIS[\"Easting\",EAST],AXIS[\"Northing\",NORTH],AUTHORITY[\"EPSG\",\"2000\"]]</td>\n",
       "    </tr>\n",
       "    <tr>\n",
       "      <th>3</th>\n",
       "      <td>2001</td>\n",
       "      <td>epsg</td>\n",
       "      <td>2001</td>\n",
       "      <td>Antigua 1943 / British West Indies Grid</td>\n",
       "      <td>+proj=tmerc +lat_0=0 +lon_0=-62 +k=0.9995000000000001 +x_0=400000 +y_0=0 +ellps=clrk80 +towgs84=-255,-15,71,0,0,0,0 +units=m +no_defs</td>\n",
       "      <td>PROJCS[\"Antigua 1943 / British West Indies Grid\",GEOGCS[\"Antigua 1943\",DATUM[\"Antigua_1943\",SPHEROID[\"Clarke 1880 (RGS)\",6378249.145,293.465,AUTHORITY[\"EPSG\",\"7012\"]],TOWGS84[-255,-15,71,0,0,0,0],AUTHORITY[\"EPSG\",\"6601\"]],PRIMEM[\"Greenwich\",0,AUTHORITY[\"EPSG\",\"8901\"]],UNIT[\"degree\",0.0174532925199433,AUTHORITY[\"EPSG\",\"9122\"]],AXIS[\"Latitude\",NORTH],AXIS[\"Longitude\",EAST],AUTHORITY[\"EPSG\",\"4601\"]],PROJECTION[\"Transverse_Mercator\"],PARAMETER[\"latitude_of_origin\",0],PARAMETER[\"central_meridian\",-62],PARAMETER[\"scale_factor\",0.9995],PARAMETER[\"false_easting\",400000],PARAMETER[\"false_northing\",0],UNIT[\"metre\",1,AUTHORITY[\"EPSG\",\"9001\"]],AXIS[\"Easting\",EAST],AXIS[\"Northing\",NORTH],AUTHORITY[\"EPSG\",\"2001\"]]</td>\n",
       "    </tr>\n",
       "    <tr>\n",
       "      <th>4</th>\n",
       "      <td>2002</td>\n",
       "      <td>epsg</td>\n",
       "      <td>2002</td>\n",
       "      <td>Dominica 1945 / British West Indies Grid</td>\n",
       "      <td>+proj=tmerc +lat_0=0 +lon_0=-62 +k=0.9995000000000001 +x_0=400000 +y_0=0 +ellps=clrk80 +towgs84=725,685,536,0,0,0,0 +units=m +no_defs</td>\n",
       "      <td>PROJCS[\"Dominica 1945 / British West Indies Grid\",GEOGCS[\"Dominica 1945\",DATUM[\"Dominica_1945\",SPHEROID[\"Clarke 1880 (RGS)\",6378249.145,293.465,AUTHORITY[\"EPSG\",\"7012\"]],TOWGS84[725,685,536,0,0,0,0],AUTHORITY[\"EPSG\",\"6602\"]],PRIMEM[\"Greenwich\",0,AUTHORITY[\"EPSG\",\"8901\"]],UNIT[\"degree\",0.0174532925199433,AUTHORITY[\"EPSG\",\"9122\"]],AXIS[\"Latitude\",NORTH],AXIS[\"Longitude\",EAST],AUTHORITY[\"EPSG\",\"4602\"]],PROJECTION[\"Transverse_Mercator\"],PARAMETER[\"latitude_of_origin\",0],PARAMETER[\"central_meridian\",-62],PARAMETER[\"scale_factor\",0.9995],PARAMETER[\"false_easting\",400000],PARAMETER[\"false_northing\",0],UNIT[\"metre\",1,AUTHORITY[\"EPSG\",\"9001\"]],AXIS[\"Easting\",EAST],AXIS[\"Northing\",NORTH],AUTHORITY[\"EPSG\",\"2002\"]]</td>\n",
       "    </tr>\n",
       "  </tbody>\n",
       "</table>\n",
       "</div>"
      ],
      "text/plain": [
       "   srid auth_name  auth_srid                              ref_sys_name                                                                                                                              proj4text                                                                                                                                                                                                                                                                                                                                                                                                                                                                                                                                                                                                                                                                                                                                    srtext\n",
       "0    -1      NONE         -1                     Undefined - Cartesian                                                                                                                                                                                                                                                                                                                                                                                                                                                                                                                                                                                                                                                                                                                                                                                                                                                                        Undefined\n",
       "1     0      NONE          0           Undefined - Geographic Long/Lat                                                                                                                                                                                                                                                                                                                                                                                                                                                                                                                                                                                                                                                                                                                                                                                                                                                                        Undefined\n",
       "2  2000      epsg       2000  Anguilla 1957 / British West Indies Grid                               +proj=tmerc +lat_0=0 +lon_0=-62 +k=0.9995000000000001 +x_0=400000 +y_0=0 +ellps=clrk80 +units=m +no_defs                               PROJCS[\"Anguilla 1957 / British West Indies Grid\",GEOGCS[\"Anguilla 1957\",DATUM[\"Anguilla_1957\",SPHEROID[\"Clarke 1880 (RGS)\",6378249.145,293.465,AUTHORITY[\"EPSG\",\"7012\"]],AUTHORITY[\"EPSG\",\"6600\"]],PRIMEM[\"Greenwich\",0,AUTHORITY[\"EPSG\",\"8901\"]],UNIT[\"degree\",0.0174532925199433,AUTHORITY[\"EPSG\",\"9122\"]],AXIS[\"Latitude\",NORTH],AXIS[\"Longitude\",EAST],AUTHORITY[\"EPSG\",\"4600\"]],PROJECTION[\"Transverse_Mercator\"],PARAMETER[\"latitude_of_origin\",0],PARAMETER[\"central_meridian\",-62],PARAMETER[\"scale_factor\",0.9995],PARAMETER[\"false_easting\",400000],PARAMETER[\"false_northing\",0],UNIT[\"metre\",1,AUTHORITY[\"EPSG\",\"9001\"]],AXIS[\"Easting\",EAST],AXIS[\"Northing\",NORTH],AUTHORITY[\"EPSG\",\"2000\"]]\n",
       "3  2001      epsg       2001   Antigua 1943 / British West Indies Grid  +proj=tmerc +lat_0=0 +lon_0=-62 +k=0.9995000000000001 +x_0=400000 +y_0=0 +ellps=clrk80 +towgs84=-255,-15,71,0,0,0,0 +units=m +no_defs     PROJCS[\"Antigua 1943 / British West Indies Grid\",GEOGCS[\"Antigua 1943\",DATUM[\"Antigua_1943\",SPHEROID[\"Clarke 1880 (RGS)\",6378249.145,293.465,AUTHORITY[\"EPSG\",\"7012\"]],TOWGS84[-255,-15,71,0,0,0,0],AUTHORITY[\"EPSG\",\"6601\"]],PRIMEM[\"Greenwich\",0,AUTHORITY[\"EPSG\",\"8901\"]],UNIT[\"degree\",0.0174532925199433,AUTHORITY[\"EPSG\",\"9122\"]],AXIS[\"Latitude\",NORTH],AXIS[\"Longitude\",EAST],AUTHORITY[\"EPSG\",\"4601\"]],PROJECTION[\"Transverse_Mercator\"],PARAMETER[\"latitude_of_origin\",0],PARAMETER[\"central_meridian\",-62],PARAMETER[\"scale_factor\",0.9995],PARAMETER[\"false_easting\",400000],PARAMETER[\"false_northing\",0],UNIT[\"metre\",1,AUTHORITY[\"EPSG\",\"9001\"]],AXIS[\"Easting\",EAST],AXIS[\"Northing\",NORTH],AUTHORITY[\"EPSG\",\"2001\"]]\n",
       "4  2002      epsg       2002  Dominica 1945 / British West Indies Grid  +proj=tmerc +lat_0=0 +lon_0=-62 +k=0.9995000000000001 +x_0=400000 +y_0=0 +ellps=clrk80 +towgs84=725,685,536,0,0,0,0 +units=m +no_defs  PROJCS[\"Dominica 1945 / British West Indies Grid\",GEOGCS[\"Dominica 1945\",DATUM[\"Dominica_1945\",SPHEROID[\"Clarke 1880 (RGS)\",6378249.145,293.465,AUTHORITY[\"EPSG\",\"7012\"]],TOWGS84[725,685,536,0,0,0,0],AUTHORITY[\"EPSG\",\"6602\"]],PRIMEM[\"Greenwich\",0,AUTHORITY[\"EPSG\",\"8901\"]],UNIT[\"degree\",0.0174532925199433,AUTHORITY[\"EPSG\",\"9122\"]],AXIS[\"Latitude\",NORTH],AXIS[\"Longitude\",EAST],AUTHORITY[\"EPSG\",\"4602\"]],PROJECTION[\"Transverse_Mercator\"],PARAMETER[\"latitude_of_origin\",0],PARAMETER[\"central_meridian\",-62],PARAMETER[\"scale_factor\",0.9995],PARAMETER[\"false_easting\",400000],PARAMETER[\"false_northing\",0],UNIT[\"metre\",1,AUTHORITY[\"EPSG\",\"9001\"]],AXIS[\"Easting\",EAST],AXIS[\"Northing\",NORTH],AUTHORITY[\"EPSG\",\"2002\"]]"
      ]
     },
     "execution_count": 2,
     "metadata": {},
     "output_type": "execute_result"
    }
   ],
   "source": [
    "spatial_ref_sys = pd.read_sql('SELECT * FROM spatial_ref_sys', engine)\n",
    "ss_df = spatial_ref_sys.copy()\n",
    "print(spatial_ref_sys.shape)\n",
    "spatial_ref_sys.head()"
   ]
  },
  {
   "cell_type": "code",
   "execution_count": null,
   "metadata": {},
   "outputs": [
    {
     "data": {
      "text/html": [
       "<div>\n",
       "<style scoped>\n",
       "    .dataframe tbody tr th:only-of-type {\n",
       "        vertical-align: middle;\n",
       "    }\n",
       "\n",
       "    .dataframe tbody tr th {\n",
       "        vertical-align: top;\n",
       "    }\n",
       "\n",
       "    .dataframe thead th {\n",
       "        text-align: right;\n",
       "    }\n",
       "</style>\n",
       "<table border=\"1\" class=\"dataframe\">\n",
       "  <thead>\n",
       "    <tr style=\"text-align: right;\">\n",
       "      <th></th>\n",
       "      <th>srid</th>\n",
       "      <th>auth_name</th>\n",
       "      <th>auth_srid</th>\n",
       "      <th>ref_sys_name</th>\n",
       "      <th>proj4text</th>\n",
       "      <th>srtext</th>\n",
       "    </tr>\n",
       "  </thead>\n",
       "  <tbody>\n",
       "    <tr>\n",
       "      <th>2</th>\n",
       "      <td>2000</td>\n",
       "      <td>epsg</td>\n",
       "      <td>2000</td>\n",
       "      <td>Anguilla 1957 / British West Indies Grid</td>\n",
       "      <td>+proj=tmerc +lat_0=0 +lon_0=-62 +k=0.9995000000000001 +x_0=400000 +y_0=0 +ellps=clrk80 +units=m +no_defs</td>\n",
       "      <td>PROJCS[\"Anguilla 1957 / British West Indies Grid\",GEOGCS[\"Anguilla 1957\",DATUM[\"Anguilla_1957\",SPHEROID[\"Clarke 1880 (RGS)\",6378249.145,293.465,AUTHORITY[\"EPSG\",\"7012\"]],AUTHORITY[\"EPSG\",\"6600\"]],PRIMEM[\"Greenwich\",0,AUTHORITY[\"EPSG\",\"8901\"]],UNIT[\"degree\",0.0174532925199433,AUTHORITY[\"EPSG\",\"9122\"]],AXIS[\"Latitude\",NORTH],AXIS[\"Longitude\",EAST],AUTHORITY[\"EPSG\",\"4600\"]],PROJECTION[\"Transverse_Mercator\"],PARAMETER[\"latitude_of_origin\",0],PARAMETER[\"central_meridian\",-62],PARAMETER[\"scale_factor\",0.9995],PARAMETER[\"false_easting\",400000],PARAMETER[\"false_northing\",0],UNIT[\"metre\",1,AUTHORITY[\"EPSG\",\"9001\"]],AXIS[\"Easting\",EAST],AXIS[\"Northing\",NORTH],AUTHORITY[\"EPSG\",\"2000\"]]</td>\n",
       "    </tr>\n",
       "    <tr>\n",
       "      <th>3</th>\n",
       "      <td>2001</td>\n",
       "      <td>epsg</td>\n",
       "      <td>2001</td>\n",
       "      <td>Antigua 1943 / British West Indies Grid</td>\n",
       "      <td>+proj=tmerc +lat_0=0 +lon_0=-62 +k=0.9995000000000001 +x_0=400000 +y_0=0 +ellps=clrk80 +towgs84=-255,-15,71,0,0,0,0 +units=m +no_defs</td>\n",
       "      <td>PROJCS[\"Antigua 1943 / British West Indies Grid\",GEOGCS[\"Antigua 1943\",DATUM[\"Antigua_1943\",SPHEROID[\"Clarke 1880 (RGS)\",6378249.145,293.465,AUTHORITY[\"EPSG\",\"7012\"]],TOWGS84[-255,-15,71,0,0,0,0],AUTHORITY[\"EPSG\",\"6601\"]],PRIMEM[\"Greenwich\",0,AUTHORITY[\"EPSG\",\"8901\"]],UNIT[\"degree\",0.0174532925199433,AUTHORITY[\"EPSG\",\"9122\"]],AXIS[\"Latitude\",NORTH],AXIS[\"Longitude\",EAST],AUTHORITY[\"EPSG\",\"4601\"]],PROJECTION[\"Transverse_Mercator\"],PARAMETER[\"latitude_of_origin\",0],PARAMETER[\"central_meridian\",-62],PARAMETER[\"scale_factor\",0.9995],PARAMETER[\"false_easting\",400000],PARAMETER[\"false_northing\",0],UNIT[\"metre\",1,AUTHORITY[\"EPSG\",\"9001\"]],AXIS[\"Easting\",EAST],AXIS[\"Northing\",NORTH],AUTHORITY[\"EPSG\",\"2001\"]]</td>\n",
       "    </tr>\n",
       "    <tr>\n",
       "      <th>4</th>\n",
       "      <td>2002</td>\n",
       "      <td>epsg</td>\n",
       "      <td>2002</td>\n",
       "      <td>Dominica 1945 / British West Indies Grid</td>\n",
       "      <td>+proj=tmerc +lat_0=0 +lon_0=-62 +k=0.9995000000000001 +x_0=400000 +y_0=0 +ellps=clrk80 +towgs84=725,685,536,0,0,0,0 +units=m +no_defs</td>\n",
       "      <td>PROJCS[\"Dominica 1945 / British West Indies Grid\",GEOGCS[\"Dominica 1945\",DATUM[\"Dominica_1945\",SPHEROID[\"Clarke 1880 (RGS)\",6378249.145,293.465,AUTHORITY[\"EPSG\",\"7012\"]],TOWGS84[725,685,536,0,0,0,0],AUTHORITY[\"EPSG\",\"6602\"]],PRIMEM[\"Greenwich\",0,AUTHORITY[\"EPSG\",\"8901\"]],UNIT[\"degree\",0.0174532925199433,AUTHORITY[\"EPSG\",\"9122\"]],AXIS[\"Latitude\",NORTH],AXIS[\"Longitude\",EAST],AUTHORITY[\"EPSG\",\"4602\"]],PROJECTION[\"Transverse_Mercator\"],PARAMETER[\"latitude_of_origin\",0],PARAMETER[\"central_meridian\",-62],PARAMETER[\"scale_factor\",0.9995],PARAMETER[\"false_easting\",400000],PARAMETER[\"false_northing\",0],UNIT[\"metre\",1,AUTHORITY[\"EPSG\",\"9001\"]],AXIS[\"Easting\",EAST],AXIS[\"Northing\",NORTH],AUTHORITY[\"EPSG\",\"2002\"]]</td>\n",
       "    </tr>\n",
       "    <tr>\n",
       "      <th>5</th>\n",
       "      <td>2003</td>\n",
       "      <td>epsg</td>\n",
       "      <td>2003</td>\n",
       "      <td>Grenada 1953 / British West Indies Grid</td>\n",
       "      <td>+proj=tmerc +lat_0=0 +lon_0=-62 +k=0.9995000000000001 +x_0=400000 +y_0=0 +ellps=clrk80 +towgs84=72,213.7,93,0,0,0,0 +units=m +no_defs</td>\n",
       "      <td>PROJCS[\"Grenada 1953 / British West Indies Grid\",GEOGCS[\"Grenada 1953\",DATUM[\"Grenada_1953\",SPHEROID[\"Clarke 1880 (RGS)\",6378249.145,293.465,AUTHORITY[\"EPSG\",\"7012\"]],TOWGS84[72,213.7,93,0,0,0,0],AUTHORITY[\"EPSG\",\"6603\"]],PRIMEM[\"Greenwich\",0,AUTHORITY[\"EPSG\",\"8901\"]],UNIT[\"degree\",0.0174532925199433,AUTHORITY[\"EPSG\",\"9122\"]],AXIS[\"Latitude\",NORTH],AXIS[\"Longitude\",EAST],AUTHORITY[\"EPSG\",\"4603\"]],PROJECTION[\"Transverse_Mercator\"],PARAMETER[\"latitude_of_origin\",0],PARAMETER[\"central_meridian\",-62],PARAMETER[\"scale_factor\",0.9995],PARAMETER[\"false_easting\",400000],PARAMETER[\"false_northing\",0],UNIT[\"metre\",1,AUTHORITY[\"EPSG\",\"9001\"]],AXIS[\"Easting\",EAST],AXIS[\"Northing\",NORTH],AUTHORITY[\"EPSG\",\"2003\"]]</td>\n",
       "    </tr>\n",
       "    <tr>\n",
       "      <th>6</th>\n",
       "      <td>2004</td>\n",
       "      <td>epsg</td>\n",
       "      <td>2004</td>\n",
       "      <td>Montserrat 1958 / British West Indies Grid</td>\n",
       "      <td>+proj=tmerc +lat_0=0 +lon_0=-62 +k=0.9995000000000001 +x_0=400000 +y_0=0 +ellps=clrk80 +towgs84=174,359,365,0,0,0,0 +units=m +no_defs</td>\n",
       "      <td>PROJCS[\"Montserrat 1958 / British West Indies Grid\",GEOGCS[\"Montserrat 1958\",DATUM[\"Montserrat_1958\",SPHEROID[\"Clarke 1880 (RGS)\",6378249.145,293.465,AUTHORITY[\"EPSG\",\"7012\"]],TOWGS84[174,359,365,0,0,0,0],AUTHORITY[\"EPSG\",\"6604\"]],PRIMEM[\"Greenwich\",0,AUTHORITY[\"EPSG\",\"8901\"]],UNIT[\"degree\",0.0174532925199433,AUTHORITY[\"EPSG\",\"9122\"]],AXIS[\"Latitude\",NORTH],AXIS[\"Longitude\",EAST],AUTHORITY[\"EPSG\",\"4604\"]],PROJECTION[\"Transverse_Mercator\"],PARAMETER[\"latitude_of_origin\",0],PARAMETER[\"central_meridian\",-62],PARAMETER[\"scale_factor\",0.9995],PARAMETER[\"false_easting\",400000],PARAMETER[\"false_northing\",0],UNIT[\"metre\",1,AUTHORITY[\"EPSG\",\"9001\"]],AXIS[\"Easting\",EAST],AXIS[\"Northing\",NORTH],AUTHORITY[\"EPSG\",\"2004\"]]</td>\n",
       "    </tr>\n",
       "  </tbody>\n",
       "</table>\n",
       "</div>"
      ],
      "text/plain": [
       "   srid auth_name  auth_srid                                ref_sys_name                                                                                                                              proj4text                                                                                                                                                                                                                                                                                                                                                                                                                                                                                                                                                                                                                                                                                                                                          srtext\n",
       "2  2000      epsg       2000    Anguilla 1957 / British West Indies Grid                               +proj=tmerc +lat_0=0 +lon_0=-62 +k=0.9995000000000001 +x_0=400000 +y_0=0 +ellps=clrk80 +units=m +no_defs                                     PROJCS[\"Anguilla 1957 / British West Indies Grid\",GEOGCS[\"Anguilla 1957\",DATUM[\"Anguilla_1957\",SPHEROID[\"Clarke 1880 (RGS)\",6378249.145,293.465,AUTHORITY[\"EPSG\",\"7012\"]],AUTHORITY[\"EPSG\",\"6600\"]],PRIMEM[\"Greenwich\",0,AUTHORITY[\"EPSG\",\"8901\"]],UNIT[\"degree\",0.0174532925199433,AUTHORITY[\"EPSG\",\"9122\"]],AXIS[\"Latitude\",NORTH],AXIS[\"Longitude\",EAST],AUTHORITY[\"EPSG\",\"4600\"]],PROJECTION[\"Transverse_Mercator\"],PARAMETER[\"latitude_of_origin\",0],PARAMETER[\"central_meridian\",-62],PARAMETER[\"scale_factor\",0.9995],PARAMETER[\"false_easting\",400000],PARAMETER[\"false_northing\",0],UNIT[\"metre\",1,AUTHORITY[\"EPSG\",\"9001\"]],AXIS[\"Easting\",EAST],AXIS[\"Northing\",NORTH],AUTHORITY[\"EPSG\",\"2000\"]]\n",
       "3  2001      epsg       2001     Antigua 1943 / British West Indies Grid  +proj=tmerc +lat_0=0 +lon_0=-62 +k=0.9995000000000001 +x_0=400000 +y_0=0 +ellps=clrk80 +towgs84=-255,-15,71,0,0,0,0 +units=m +no_defs           PROJCS[\"Antigua 1943 / British West Indies Grid\",GEOGCS[\"Antigua 1943\",DATUM[\"Antigua_1943\",SPHEROID[\"Clarke 1880 (RGS)\",6378249.145,293.465,AUTHORITY[\"EPSG\",\"7012\"]],TOWGS84[-255,-15,71,0,0,0,0],AUTHORITY[\"EPSG\",\"6601\"]],PRIMEM[\"Greenwich\",0,AUTHORITY[\"EPSG\",\"8901\"]],UNIT[\"degree\",0.0174532925199433,AUTHORITY[\"EPSG\",\"9122\"]],AXIS[\"Latitude\",NORTH],AXIS[\"Longitude\",EAST],AUTHORITY[\"EPSG\",\"4601\"]],PROJECTION[\"Transverse_Mercator\"],PARAMETER[\"latitude_of_origin\",0],PARAMETER[\"central_meridian\",-62],PARAMETER[\"scale_factor\",0.9995],PARAMETER[\"false_easting\",400000],PARAMETER[\"false_northing\",0],UNIT[\"metre\",1,AUTHORITY[\"EPSG\",\"9001\"]],AXIS[\"Easting\",EAST],AXIS[\"Northing\",NORTH],AUTHORITY[\"EPSG\",\"2001\"]]\n",
       "4  2002      epsg       2002    Dominica 1945 / British West Indies Grid  +proj=tmerc +lat_0=0 +lon_0=-62 +k=0.9995000000000001 +x_0=400000 +y_0=0 +ellps=clrk80 +towgs84=725,685,536,0,0,0,0 +units=m +no_defs        PROJCS[\"Dominica 1945 / British West Indies Grid\",GEOGCS[\"Dominica 1945\",DATUM[\"Dominica_1945\",SPHEROID[\"Clarke 1880 (RGS)\",6378249.145,293.465,AUTHORITY[\"EPSG\",\"7012\"]],TOWGS84[725,685,536,0,0,0,0],AUTHORITY[\"EPSG\",\"6602\"]],PRIMEM[\"Greenwich\",0,AUTHORITY[\"EPSG\",\"8901\"]],UNIT[\"degree\",0.0174532925199433,AUTHORITY[\"EPSG\",\"9122\"]],AXIS[\"Latitude\",NORTH],AXIS[\"Longitude\",EAST],AUTHORITY[\"EPSG\",\"4602\"]],PROJECTION[\"Transverse_Mercator\"],PARAMETER[\"latitude_of_origin\",0],PARAMETER[\"central_meridian\",-62],PARAMETER[\"scale_factor\",0.9995],PARAMETER[\"false_easting\",400000],PARAMETER[\"false_northing\",0],UNIT[\"metre\",1,AUTHORITY[\"EPSG\",\"9001\"]],AXIS[\"Easting\",EAST],AXIS[\"Northing\",NORTH],AUTHORITY[\"EPSG\",\"2002\"]]\n",
       "5  2003      epsg       2003     Grenada 1953 / British West Indies Grid  +proj=tmerc +lat_0=0 +lon_0=-62 +k=0.9995000000000001 +x_0=400000 +y_0=0 +ellps=clrk80 +towgs84=72,213.7,93,0,0,0,0 +units=m +no_defs           PROJCS[\"Grenada 1953 / British West Indies Grid\",GEOGCS[\"Grenada 1953\",DATUM[\"Grenada_1953\",SPHEROID[\"Clarke 1880 (RGS)\",6378249.145,293.465,AUTHORITY[\"EPSG\",\"7012\"]],TOWGS84[72,213.7,93,0,0,0,0],AUTHORITY[\"EPSG\",\"6603\"]],PRIMEM[\"Greenwich\",0,AUTHORITY[\"EPSG\",\"8901\"]],UNIT[\"degree\",0.0174532925199433,AUTHORITY[\"EPSG\",\"9122\"]],AXIS[\"Latitude\",NORTH],AXIS[\"Longitude\",EAST],AUTHORITY[\"EPSG\",\"4603\"]],PROJECTION[\"Transverse_Mercator\"],PARAMETER[\"latitude_of_origin\",0],PARAMETER[\"central_meridian\",-62],PARAMETER[\"scale_factor\",0.9995],PARAMETER[\"false_easting\",400000],PARAMETER[\"false_northing\",0],UNIT[\"metre\",1,AUTHORITY[\"EPSG\",\"9001\"]],AXIS[\"Easting\",EAST],AXIS[\"Northing\",NORTH],AUTHORITY[\"EPSG\",\"2003\"]]\n",
       "6  2004      epsg       2004  Montserrat 1958 / British West Indies Grid  +proj=tmerc +lat_0=0 +lon_0=-62 +k=0.9995000000000001 +x_0=400000 +y_0=0 +ellps=clrk80 +towgs84=174,359,365,0,0,0,0 +units=m +no_defs  PROJCS[\"Montserrat 1958 / British West Indies Grid\",GEOGCS[\"Montserrat 1958\",DATUM[\"Montserrat_1958\",SPHEROID[\"Clarke 1880 (RGS)\",6378249.145,293.465,AUTHORITY[\"EPSG\",\"7012\"]],TOWGS84[174,359,365,0,0,0,0],AUTHORITY[\"EPSG\",\"6604\"]],PRIMEM[\"Greenwich\",0,AUTHORITY[\"EPSG\",\"8901\"]],UNIT[\"degree\",0.0174532925199433,AUTHORITY[\"EPSG\",\"9122\"]],AXIS[\"Latitude\",NORTH],AXIS[\"Longitude\",EAST],AUTHORITY[\"EPSG\",\"4604\"]],PROJECTION[\"Transverse_Mercator\"],PARAMETER[\"latitude_of_origin\",0],PARAMETER[\"central_meridian\",-62],PARAMETER[\"scale_factor\",0.9995],PARAMETER[\"false_easting\",400000],PARAMETER[\"false_northing\",0],UNIT[\"metre\",1,AUTHORITY[\"EPSG\",\"9001\"]],AXIS[\"Easting\",EAST],AXIS[\"Northing\",NORTH],AUTHORITY[\"EPSG\",\"2004\"]]"
      ]
     },
     "execution_count": 3,
     "metadata": {},
     "output_type": "execute_result"
    }
   ],
   "source": [
    "ss_df = spatial_ref_sys.iloc[2:]\n",
    "ss_df.head()"
   ]
  },
  {
   "cell_type": "code",
   "execution_count": null,
   "metadata": {},
   "outputs": [
    {
     "data": {
      "text/plain": [
       "'PROJCS[\"Anguilla 1957 / British West Indies Grid\",GEOGCS[\"Anguilla 1957\",DATUM[\"Anguilla_1957\",SPHEROID[\"Clarke 1880 (RGS)\",6378249.145,293.465,AUTHORITY[\"EPSG\",\"7012\"]],AUTHORITY[\"EPSG\",\"6600\"]],PRIMEM[\"Greenwich\",0,AUTHORITY[\"EPSG\",\"8901\"]],UNIT[\"degree\",0.0174532925199433,AUTHORITY[\"EPSG\",\"9122\"]],AXIS[\"Latitude\",NORTH],AXIS[\"Longitude\",EAST],AUTHORITY[\"EPSG\",\"4600\"]],PROJECTION[\"Transverse_Mercator\"],PARAMETER[\"latitude_of_origin\",0],PARAMETER[\"central_meridian\",-62],PARAMETER[\"scale_factor\",0.9995],PARAMETER[\"false_easting\",400000],PARAMETER[\"false_northing\",0],UNIT[\"metre\",1,AUTHORITY[\"EPSG\",\"9001\"]],AXIS[\"Easting\",EAST],AXIS[\"Northing\",NORTH],AUTHORITY[\"EPSG\",\"2000\"]]'"
      ]
     },
     "execution_count": 4,
     "metadata": {},
     "output_type": "execute_result"
    }
   ],
   "source": [
    "ss_df.iloc[0, 5]"
   ]
  },
  {
   "cell_type": "code",
   "execution_count": null,
   "metadata": {},
   "outputs": [],
   "source": []
  },
  {
   "cell_type": "code",
   "execution_count": null,
   "metadata": {},
   "outputs": [],
   "source": []
  },
  {
   "cell_type": "code",
   "execution_count": null,
   "metadata": {},
   "outputs": [
    {
     "name": "stdout",
     "output_type": "stream",
     "text": [
      "(4873, 12)\n"
     ]
    },
    {
     "data": {
      "text/html": [
       "<div>\n",
       "<style scoped>\n",
       "    .dataframe tbody tr th:only-of-type {\n",
       "        vertical-align: middle;\n",
       "    }\n",
       "\n",
       "    .dataframe tbody tr th {\n",
       "        vertical-align: top;\n",
       "    }\n",
       "\n",
       "    .dataframe thead th {\n",
       "        text-align: right;\n",
       "    }\n",
       "</style>\n",
       "<table border=\"1\" class=\"dataframe\">\n",
       "  <thead>\n",
       "    <tr style=\"text-align: right;\">\n",
       "      <th></th>\n",
       "      <th>srid</th>\n",
       "      <th>is_geographic</th>\n",
       "      <th>has_flipped_axes</th>\n",
       "      <th>spheroid</th>\n",
       "      <th>prime_meridian</th>\n",
       "      <th>datum</th>\n",
       "      <th>projection</th>\n",
       "      <th>unit</th>\n",
       "      <th>axis_1_name</th>\n",
       "      <th>axis_1_orientation</th>\n",
       "      <th>axis_2_name</th>\n",
       "      <th>axis_2_orientation</th>\n",
       "    </tr>\n",
       "  </thead>\n",
       "  <tbody>\n",
       "    <tr>\n",
       "      <th>0</th>\n",
       "      <td>2000</td>\n",
       "      <td>0</td>\n",
       "      <td>0</td>\n",
       "      <td>Clarke 1880 (RGS)</td>\n",
       "      <td>Greenwich</td>\n",
       "      <td>Anguilla_1957</td>\n",
       "      <td>Transverse_Mercator</td>\n",
       "      <td>metre</td>\n",
       "      <td>Easting</td>\n",
       "      <td>East</td>\n",
       "      <td>Northing</td>\n",
       "      <td>North</td>\n",
       "    </tr>\n",
       "    <tr>\n",
       "      <th>1</th>\n",
       "      <td>2001</td>\n",
       "      <td>0</td>\n",
       "      <td>0</td>\n",
       "      <td>Clarke 1880 (RGS)</td>\n",
       "      <td>Greenwich</td>\n",
       "      <td>Antigua_1943</td>\n",
       "      <td>Transverse_Mercator</td>\n",
       "      <td>metre</td>\n",
       "      <td>Easting</td>\n",
       "      <td>East</td>\n",
       "      <td>Northing</td>\n",
       "      <td>North</td>\n",
       "    </tr>\n",
       "    <tr>\n",
       "      <th>2</th>\n",
       "      <td>2002</td>\n",
       "      <td>0</td>\n",
       "      <td>0</td>\n",
       "      <td>Clarke 1880 (RGS)</td>\n",
       "      <td>Greenwich</td>\n",
       "      <td>Dominica_1945</td>\n",
       "      <td>Transverse_Mercator</td>\n",
       "      <td>metre</td>\n",
       "      <td>Easting</td>\n",
       "      <td>East</td>\n",
       "      <td>Northing</td>\n",
       "      <td>North</td>\n",
       "    </tr>\n",
       "    <tr>\n",
       "      <th>3</th>\n",
       "      <td>2003</td>\n",
       "      <td>0</td>\n",
       "      <td>0</td>\n",
       "      <td>Clarke 1880 (RGS)</td>\n",
       "      <td>Greenwich</td>\n",
       "      <td>Grenada_1953</td>\n",
       "      <td>Transverse_Mercator</td>\n",
       "      <td>metre</td>\n",
       "      <td>Easting</td>\n",
       "      <td>East</td>\n",
       "      <td>Northing</td>\n",
       "      <td>North</td>\n",
       "    </tr>\n",
       "    <tr>\n",
       "      <th>4</th>\n",
       "      <td>2004</td>\n",
       "      <td>0</td>\n",
       "      <td>0</td>\n",
       "      <td>Clarke 1880 (RGS)</td>\n",
       "      <td>Greenwich</td>\n",
       "      <td>Montserrat_1958</td>\n",
       "      <td>Transverse_Mercator</td>\n",
       "      <td>metre</td>\n",
       "      <td>Easting</td>\n",
       "      <td>East</td>\n",
       "      <td>Northing</td>\n",
       "      <td>North</td>\n",
       "    </tr>\n",
       "  </tbody>\n",
       "</table>\n",
       "</div>"
      ],
      "text/plain": [
       "   srid  is_geographic  has_flipped_axes           spheroid prime_meridian            datum           projection   unit axis_1_name axis_1_orientation axis_2_name axis_2_orientation\n",
       "0  2000              0                 0  Clarke 1880 (RGS)      Greenwich    Anguilla_1957  Transverse_Mercator  metre     Easting               East    Northing              North\n",
       "1  2001              0                 0  Clarke 1880 (RGS)      Greenwich     Antigua_1943  Transverse_Mercator  metre     Easting               East    Northing              North\n",
       "2  2002              0                 0  Clarke 1880 (RGS)      Greenwich    Dominica_1945  Transverse_Mercator  metre     Easting               East    Northing              North\n",
       "3  2003              0                 0  Clarke 1880 (RGS)      Greenwich     Grenada_1953  Transverse_Mercator  metre     Easting               East    Northing              North\n",
       "4  2004              0                 0  Clarke 1880 (RGS)      Greenwich  Montserrat_1958  Transverse_Mercator  metre     Easting               East    Northing              North"
      ]
     },
     "execution_count": 5,
     "metadata": {},
     "output_type": "execute_result"
    }
   ],
   "source": [
    "spatial_ref_sys_aux = pd.read_sql('SELECT * FROM spatial_ref_sys_aux', engine)\n",
    "sa_df = spatial_ref_sys_aux.copy()\n",
    "print(sa_df.shape)\n",
    "sa_df.head()"
   ]
  },
  {
   "cell_type": "code",
   "execution_count": null,
   "metadata": {},
   "outputs": [
    {
     "data": {
      "text/html": [
       "<div>\n",
       "<style scoped>\n",
       "    .dataframe tbody tr th:only-of-type {\n",
       "        vertical-align: middle;\n",
       "    }\n",
       "\n",
       "    .dataframe tbody tr th {\n",
       "        vertical-align: top;\n",
       "    }\n",
       "\n",
       "    .dataframe thead th {\n",
       "        text-align: right;\n",
       "    }\n",
       "</style>\n",
       "<table border=\"1\" class=\"dataframe\">\n",
       "  <thead>\n",
       "    <tr style=\"text-align: right;\">\n",
       "      <th></th>\n",
       "      <th>srid</th>\n",
       "      <th>is_geographic</th>\n",
       "      <th>has_flipped_axes</th>\n",
       "      <th>spheroid</th>\n",
       "      <th>prime_meridian</th>\n",
       "      <th>datum</th>\n",
       "      <th>projection</th>\n",
       "      <th>unit</th>\n",
       "      <th>axis_1_name</th>\n",
       "      <th>axis_1_orientation</th>\n",
       "      <th>axis_2_name</th>\n",
       "      <th>axis_2_orientation</th>\n",
       "    </tr>\n",
       "  </thead>\n",
       "  <tbody>\n",
       "    <tr>\n",
       "      <th>0</th>\n",
       "      <td>2000</td>\n",
       "      <td>0</td>\n",
       "      <td>0</td>\n",
       "      <td>Clarke 1880 (RGS)</td>\n",
       "      <td>Greenwich</td>\n",
       "      <td>Anguilla_1957</td>\n",
       "      <td>Transverse_Mercator</td>\n",
       "      <td>metre</td>\n",
       "      <td>Easting</td>\n",
       "      <td>East</td>\n",
       "      <td>Northing</td>\n",
       "      <td>North</td>\n",
       "    </tr>\n",
       "    <tr>\n",
       "      <th>1</th>\n",
       "      <td>2001</td>\n",
       "      <td>0</td>\n",
       "      <td>0</td>\n",
       "      <td>Clarke 1880 (RGS)</td>\n",
       "      <td>Greenwich</td>\n",
       "      <td>Antigua_1943</td>\n",
       "      <td>Transverse_Mercator</td>\n",
       "      <td>metre</td>\n",
       "      <td>Easting</td>\n",
       "      <td>East</td>\n",
       "      <td>Northing</td>\n",
       "      <td>North</td>\n",
       "    </tr>\n",
       "    <tr>\n",
       "      <th>2</th>\n",
       "      <td>2002</td>\n",
       "      <td>0</td>\n",
       "      <td>0</td>\n",
       "      <td>Clarke 1880 (RGS)</td>\n",
       "      <td>Greenwich</td>\n",
       "      <td>Dominica_1945</td>\n",
       "      <td>Transverse_Mercator</td>\n",
       "      <td>metre</td>\n",
       "      <td>Easting</td>\n",
       "      <td>East</td>\n",
       "      <td>Northing</td>\n",
       "      <td>North</td>\n",
       "    </tr>\n",
       "    <tr>\n",
       "      <th>3</th>\n",
       "      <td>2003</td>\n",
       "      <td>0</td>\n",
       "      <td>0</td>\n",
       "      <td>Clarke 1880 (RGS)</td>\n",
       "      <td>Greenwich</td>\n",
       "      <td>Grenada_1953</td>\n",
       "      <td>Transverse_Mercator</td>\n",
       "      <td>metre</td>\n",
       "      <td>Easting</td>\n",
       "      <td>East</td>\n",
       "      <td>Northing</td>\n",
       "      <td>North</td>\n",
       "    </tr>\n",
       "    <tr>\n",
       "      <th>4</th>\n",
       "      <td>2004</td>\n",
       "      <td>0</td>\n",
       "      <td>0</td>\n",
       "      <td>Clarke 1880 (RGS)</td>\n",
       "      <td>Greenwich</td>\n",
       "      <td>Montserrat_1958</td>\n",
       "      <td>Transverse_Mercator</td>\n",
       "      <td>metre</td>\n",
       "      <td>Easting</td>\n",
       "      <td>East</td>\n",
       "      <td>Northing</td>\n",
       "      <td>North</td>\n",
       "    </tr>\n",
       "  </tbody>\n",
       "</table>\n",
       "</div>"
      ],
      "text/plain": [
       "   srid  is_geographic  has_flipped_axes           spheroid prime_meridian            datum           projection   unit axis_1_name axis_1_orientation axis_2_name axis_2_orientation\n",
       "0  2000              0                 0  Clarke 1880 (RGS)      Greenwich    Anguilla_1957  Transverse_Mercator  metre     Easting               East    Northing              North\n",
       "1  2001              0                 0  Clarke 1880 (RGS)      Greenwich     Antigua_1943  Transverse_Mercator  metre     Easting               East    Northing              North\n",
       "2  2002              0                 0  Clarke 1880 (RGS)      Greenwich    Dominica_1945  Transverse_Mercator  metre     Easting               East    Northing              North\n",
       "3  2003              0                 0  Clarke 1880 (RGS)      Greenwich     Grenada_1953  Transverse_Mercator  metre     Easting               East    Northing              North\n",
       "4  2004              0                 0  Clarke 1880 (RGS)      Greenwich  Montserrat_1958  Transverse_Mercator  metre     Easting               East    Northing              North"
      ]
     },
     "execution_count": 6,
     "metadata": {},
     "output_type": "execute_result"
    }
   ],
   "source": [
    "sa_df.head()"
   ]
  },
  {
   "cell_type": "code",
   "execution_count": null,
   "metadata": {},
   "outputs": [
    {
     "name": "stdout",
     "output_type": "stream",
     "text": [
      "<class 'pandas.core.frame.DataFrame'>\n",
      "RangeIndex: 4922 entries, 2 to 4923\n",
      "Data columns (total 6 columns):\n",
      " #   Column        Non-Null Count  Dtype \n",
      "---  ------        --------------  ----- \n",
      " 0   srid          4922 non-null   int64 \n",
      " 1   auth_name     4922 non-null   object\n",
      " 2   auth_srid     4922 non-null   int64 \n",
      " 3   ref_sys_name  4922 non-null   object\n",
      " 4   proj4text     4922 non-null   object\n",
      " 5   srtext        4922 non-null   object\n",
      "dtypes: int64(2), object(4)\n",
      "memory usage: 230.8+ KB\n"
     ]
    }
   ],
   "source": [
    "ss_df.info()"
   ]
  },
  {
   "cell_type": "code",
   "execution_count": null,
   "metadata": {},
   "outputs": [
    {
     "ename": "OperationalError",
     "evalue": "(sqlite3.OperationalError) no such table: NWCGUnitIDActive20170109\n[SQL: SELECT * FROM NWCGUnitIDActive20170109]\n(Background on this error at: https://sqlalche.me/e/14/e3q8)",
     "output_type": "error",
     "traceback": [
      "\u001b[0;31m---------------------------------------------------------------------------\u001b[0m",
      "\u001b[0;31mOperationalError\u001b[0m                          Traceback (most recent call last)",
      "File \u001b[0;32m~/.local/share/virtualenvs/.ds_env-MNTYxxd-/lib/python3.8/site-packages/sqlalchemy/engine/base.py:1819\u001b[0m, in \u001b[0;36mConnection._execute_context\u001b[0;34m(self, dialect, constructor, statement, parameters, execution_options, *args, **kw)\u001b[0m\n\u001b[1;32m   1818\u001b[0m     \u001b[39mif\u001b[39;00m \u001b[39mnot\u001b[39;00m evt_handled:\n\u001b[0;32m-> 1819\u001b[0m         \u001b[39mself\u001b[39;49m\u001b[39m.\u001b[39;49mdialect\u001b[39m.\u001b[39;49mdo_execute(\n\u001b[1;32m   1820\u001b[0m             cursor, statement, parameters, context\n\u001b[1;32m   1821\u001b[0m         )\n\u001b[1;32m   1823\u001b[0m \u001b[39mif\u001b[39;00m \u001b[39mself\u001b[39m\u001b[39m.\u001b[39m_has_events \u001b[39mor\u001b[39;00m \u001b[39mself\u001b[39m\u001b[39m.\u001b[39mengine\u001b[39m.\u001b[39m_has_events:\n",
      "File \u001b[0;32m~/.local/share/virtualenvs/.ds_env-MNTYxxd-/lib/python3.8/site-packages/sqlalchemy/engine/default.py:732\u001b[0m, in \u001b[0;36mDefaultDialect.do_execute\u001b[0;34m(self, cursor, statement, parameters, context)\u001b[0m\n\u001b[1;32m    731\u001b[0m \u001b[39mdef\u001b[39;00m \u001b[39mdo_execute\u001b[39m(\u001b[39mself\u001b[39m, cursor, statement, parameters, context\u001b[39m=\u001b[39m\u001b[39mNone\u001b[39;00m):\n\u001b[0;32m--> 732\u001b[0m     cursor\u001b[39m.\u001b[39;49mexecute(statement, parameters)\n",
      "\u001b[0;31mOperationalError\u001b[0m: no such table: NWCGUnitIDActive20170109",
      "\nThe above exception was the direct cause of the following exception:\n",
      "\u001b[0;31mOperationalError\u001b[0m                          Traceback (most recent call last)",
      "\u001b[1;32m/Users/dit/Documents/canonical/test.ipynb Cell 10\u001b[0m in \u001b[0;36m<cell line: 1>\u001b[0;34m()\u001b[0m\n\u001b[0;32m----> <a href='vscode-notebook-cell:/Users/dit/Documents/canonical/test.ipynb#X12sZmlsZQ%3D%3D?line=0'>1</a>\u001b[0m spatialite_history \u001b[39m=\u001b[39m pd\u001b[39m.\u001b[39;49mread_sql(\u001b[39m'\u001b[39;49m\u001b[39mSELECT * FROM NWCGUnitIDActive20170109\u001b[39;49m\u001b[39m'\u001b[39;49m, engine)\n\u001b[1;32m      <a href='vscode-notebook-cell:/Users/dit/Documents/canonical/test.ipynb#X12sZmlsZQ%3D%3D?line=1'>2</a>\u001b[0m sh_df \u001b[39m=\u001b[39m spatialite_history\u001b[39m.\u001b[39mcopy()\n\u001b[1;32m      <a href='vscode-notebook-cell:/Users/dit/Documents/canonical/test.ipynb#X12sZmlsZQ%3D%3D?line=2'>3</a>\u001b[0m \u001b[39mprint\u001b[39m(sh_df\u001b[39m.\u001b[39mshape)\n",
      "File \u001b[0;32m~/.local/share/virtualenvs/.ds_env-MNTYxxd-/lib/python3.8/site-packages/pandas/io/sql.py:592\u001b[0m, in \u001b[0;36mread_sql\u001b[0;34m(sql, con, index_col, coerce_float, params, parse_dates, columns, chunksize)\u001b[0m\n\u001b[1;32m    583\u001b[0m     \u001b[39mreturn\u001b[39;00m pandas_sql\u001b[39m.\u001b[39mread_table(\n\u001b[1;32m    584\u001b[0m         sql,\n\u001b[1;32m    585\u001b[0m         index_col\u001b[39m=\u001b[39mindex_col,\n\u001b[0;32m   (...)\u001b[0m\n\u001b[1;32m    589\u001b[0m         chunksize\u001b[39m=\u001b[39mchunksize,\n\u001b[1;32m    590\u001b[0m     )\n\u001b[1;32m    591\u001b[0m \u001b[39melse\u001b[39;00m:\n\u001b[0;32m--> 592\u001b[0m     \u001b[39mreturn\u001b[39;00m pandas_sql\u001b[39m.\u001b[39;49mread_query(\n\u001b[1;32m    593\u001b[0m         sql,\n\u001b[1;32m    594\u001b[0m         index_col\u001b[39m=\u001b[39;49mindex_col,\n\u001b[1;32m    595\u001b[0m         params\u001b[39m=\u001b[39;49mparams,\n\u001b[1;32m    596\u001b[0m         coerce_float\u001b[39m=\u001b[39;49mcoerce_float,\n\u001b[1;32m    597\u001b[0m         parse_dates\u001b[39m=\u001b[39;49mparse_dates,\n\u001b[1;32m    598\u001b[0m         chunksize\u001b[39m=\u001b[39;49mchunksize,\n\u001b[1;32m    599\u001b[0m     )\n",
      "File \u001b[0;32m~/.local/share/virtualenvs/.ds_env-MNTYxxd-/lib/python3.8/site-packages/pandas/io/sql.py:1557\u001b[0m, in \u001b[0;36mSQLDatabase.read_query\u001b[0;34m(self, sql, index_col, coerce_float, parse_dates, params, chunksize, dtype)\u001b[0m\n\u001b[1;32m   1509\u001b[0m \u001b[39m\"\"\"\u001b[39;00m\n\u001b[1;32m   1510\u001b[0m \u001b[39mRead SQL query into a DataFrame.\u001b[39;00m\n\u001b[1;32m   1511\u001b[0m \n\u001b[0;32m   (...)\u001b[0m\n\u001b[1;32m   1553\u001b[0m \n\u001b[1;32m   1554\u001b[0m \u001b[39m\"\"\"\u001b[39;00m\n\u001b[1;32m   1555\u001b[0m args \u001b[39m=\u001b[39m _convert_params(sql, params)\n\u001b[0;32m-> 1557\u001b[0m result \u001b[39m=\u001b[39m \u001b[39mself\u001b[39;49m\u001b[39m.\u001b[39;49mexecute(\u001b[39m*\u001b[39;49margs)\n\u001b[1;32m   1558\u001b[0m columns \u001b[39m=\u001b[39m result\u001b[39m.\u001b[39mkeys()\n\u001b[1;32m   1560\u001b[0m \u001b[39mif\u001b[39;00m chunksize \u001b[39mis\u001b[39;00m \u001b[39mnot\u001b[39;00m \u001b[39mNone\u001b[39;00m:\n",
      "File \u001b[0;32m~/.local/share/virtualenvs/.ds_env-MNTYxxd-/lib/python3.8/site-packages/pandas/io/sql.py:1402\u001b[0m, in \u001b[0;36mSQLDatabase.execute\u001b[0;34m(self, *args, **kwargs)\u001b[0m\n\u001b[1;32m   1400\u001b[0m \u001b[39mdef\u001b[39;00m \u001b[39mexecute\u001b[39m(\u001b[39mself\u001b[39m, \u001b[39m*\u001b[39margs, \u001b[39m*\u001b[39m\u001b[39m*\u001b[39mkwargs):\n\u001b[1;32m   1401\u001b[0m     \u001b[39m\"\"\"Simple passthrough to SQLAlchemy connectable\"\"\"\u001b[39;00m\n\u001b[0;32m-> 1402\u001b[0m     \u001b[39mreturn\u001b[39;00m \u001b[39mself\u001b[39;49m\u001b[39m.\u001b[39;49mconnectable\u001b[39m.\u001b[39;49mexecution_options()\u001b[39m.\u001b[39;49mexecute(\u001b[39m*\u001b[39;49margs, \u001b[39m*\u001b[39;49m\u001b[39m*\u001b[39;49mkwargs)\n",
      "File \u001b[0;32m<string>:2\u001b[0m, in \u001b[0;36mexecute\u001b[0;34m(self, statement, *multiparams, **params)\u001b[0m\n",
      "File \u001b[0;32m~/.local/share/virtualenvs/.ds_env-MNTYxxd-/lib/python3.8/site-packages/sqlalchemy/util/deprecations.py:402\u001b[0m, in \u001b[0;36m_decorate_with_warning.<locals>.warned\u001b[0;34m(fn, *args, **kwargs)\u001b[0m\n\u001b[1;32m    400\u001b[0m \u001b[39mif\u001b[39;00m \u001b[39mnot\u001b[39;00m skip_warning:\n\u001b[1;32m    401\u001b[0m     _warn_with_version(message, version, wtype, stacklevel\u001b[39m=\u001b[39m\u001b[39m3\u001b[39m)\n\u001b[0;32m--> 402\u001b[0m \u001b[39mreturn\u001b[39;00m fn(\u001b[39m*\u001b[39;49margs, \u001b[39m*\u001b[39;49m\u001b[39m*\u001b[39;49mkwargs)\n",
      "File \u001b[0;32m~/.local/share/virtualenvs/.ds_env-MNTYxxd-/lib/python3.8/site-packages/sqlalchemy/engine/base.py:3176\u001b[0m, in \u001b[0;36mEngine.execute\u001b[0;34m(self, statement, *multiparams, **params)\u001b[0m\n\u001b[1;32m   3158\u001b[0m \u001b[39m\"\"\"Executes the given construct and returns a\u001b[39;00m\n\u001b[1;32m   3159\u001b[0m \u001b[39m:class:`_engine.CursorResult`.\u001b[39;00m\n\u001b[1;32m   3160\u001b[0m \n\u001b[0;32m   (...)\u001b[0m\n\u001b[1;32m   3173\u001b[0m \n\u001b[1;32m   3174\u001b[0m \u001b[39m\"\"\"\u001b[39;00m\n\u001b[1;32m   3175\u001b[0m connection \u001b[39m=\u001b[39m \u001b[39mself\u001b[39m\u001b[39m.\u001b[39mconnect(close_with_result\u001b[39m=\u001b[39m\u001b[39mTrue\u001b[39;00m)\n\u001b[0;32m-> 3176\u001b[0m \u001b[39mreturn\u001b[39;00m connection\u001b[39m.\u001b[39;49mexecute(statement, \u001b[39m*\u001b[39;49mmultiparams, \u001b[39m*\u001b[39;49m\u001b[39m*\u001b[39;49mparams)\n",
      "File \u001b[0;32m~/.local/share/virtualenvs/.ds_env-MNTYxxd-/lib/python3.8/site-packages/sqlalchemy/engine/base.py:1291\u001b[0m, in \u001b[0;36mConnection.execute\u001b[0;34m(self, statement, *multiparams, **params)\u001b[0m\n\u001b[1;32m   1282\u001b[0m \u001b[39mif\u001b[39;00m \u001b[39misinstance\u001b[39m(statement, util\u001b[39m.\u001b[39mstring_types):\n\u001b[1;32m   1283\u001b[0m     util\u001b[39m.\u001b[39mwarn_deprecated_20(\n\u001b[1;32m   1284\u001b[0m         \u001b[39m\"\u001b[39m\u001b[39mPassing a string to Connection.execute() is \u001b[39m\u001b[39m\"\u001b[39m\n\u001b[1;32m   1285\u001b[0m         \u001b[39m\"\u001b[39m\u001b[39mdeprecated and will be removed in version 2.0.  Use the \u001b[39m\u001b[39m\"\u001b[39m\n\u001b[0;32m   (...)\u001b[0m\n\u001b[1;32m   1288\u001b[0m         \u001b[39m\"\u001b[39m\u001b[39mdriver-level SQL string.\u001b[39m\u001b[39m\"\u001b[39m\n\u001b[1;32m   1289\u001b[0m     )\n\u001b[0;32m-> 1291\u001b[0m     \u001b[39mreturn\u001b[39;00m \u001b[39mself\u001b[39;49m\u001b[39m.\u001b[39;49m_exec_driver_sql(\n\u001b[1;32m   1292\u001b[0m         statement,\n\u001b[1;32m   1293\u001b[0m         multiparams,\n\u001b[1;32m   1294\u001b[0m         params,\n\u001b[1;32m   1295\u001b[0m         _EMPTY_EXECUTION_OPTS,\n\u001b[1;32m   1296\u001b[0m         future\u001b[39m=\u001b[39;49m\u001b[39mFalse\u001b[39;49;00m,\n\u001b[1;32m   1297\u001b[0m     )\n\u001b[1;32m   1299\u001b[0m \u001b[39mtry\u001b[39;00m:\n\u001b[1;32m   1300\u001b[0m     meth \u001b[39m=\u001b[39m statement\u001b[39m.\u001b[39m_execute_on_connection\n",
      "File \u001b[0;32m~/.local/share/virtualenvs/.ds_env-MNTYxxd-/lib/python3.8/site-packages/sqlalchemy/engine/base.py:1595\u001b[0m, in \u001b[0;36mConnection._exec_driver_sql\u001b[0;34m(self, statement, multiparams, params, execution_options, future)\u001b[0m\n\u001b[1;32m   1585\u001b[0m         (\n\u001b[1;32m   1586\u001b[0m             statement,\n\u001b[1;32m   1587\u001b[0m             distilled_params,\n\u001b[0;32m   (...)\u001b[0m\n\u001b[1;32m   1591\u001b[0m             statement, distilled_parameters, execution_options\n\u001b[1;32m   1592\u001b[0m         )\n\u001b[1;32m   1594\u001b[0m dialect \u001b[39m=\u001b[39m \u001b[39mself\u001b[39m\u001b[39m.\u001b[39mdialect\n\u001b[0;32m-> 1595\u001b[0m ret \u001b[39m=\u001b[39m \u001b[39mself\u001b[39;49m\u001b[39m.\u001b[39;49m_execute_context(\n\u001b[1;32m   1596\u001b[0m     dialect,\n\u001b[1;32m   1597\u001b[0m     dialect\u001b[39m.\u001b[39;49mexecution_ctx_cls\u001b[39m.\u001b[39;49m_init_statement,\n\u001b[1;32m   1598\u001b[0m     statement,\n\u001b[1;32m   1599\u001b[0m     distilled_parameters,\n\u001b[1;32m   1600\u001b[0m     execution_options,\n\u001b[1;32m   1601\u001b[0m     statement,\n\u001b[1;32m   1602\u001b[0m     distilled_parameters,\n\u001b[1;32m   1603\u001b[0m )\n\u001b[1;32m   1605\u001b[0m \u001b[39mif\u001b[39;00m \u001b[39mnot\u001b[39;00m future:\n\u001b[1;32m   1606\u001b[0m     \u001b[39mif\u001b[39;00m \u001b[39mself\u001b[39m\u001b[39m.\u001b[39m_has_events \u001b[39mor\u001b[39;00m \u001b[39mself\u001b[39m\u001b[39m.\u001b[39mengine\u001b[39m.\u001b[39m_has_events:\n",
      "File \u001b[0;32m~/.local/share/virtualenvs/.ds_env-MNTYxxd-/lib/python3.8/site-packages/sqlalchemy/engine/base.py:1862\u001b[0m, in \u001b[0;36mConnection._execute_context\u001b[0;34m(self, dialect, constructor, statement, parameters, execution_options, *args, **kw)\u001b[0m\n\u001b[1;32m   1859\u001b[0m             branched\u001b[39m.\u001b[39mclose()\n\u001b[1;32m   1861\u001b[0m \u001b[39mexcept\u001b[39;00m \u001b[39mBaseException\u001b[39;00m \u001b[39mas\u001b[39;00m e:\n\u001b[0;32m-> 1862\u001b[0m     \u001b[39mself\u001b[39;49m\u001b[39m.\u001b[39;49m_handle_dbapi_exception(\n\u001b[1;32m   1863\u001b[0m         e, statement, parameters, cursor, context\n\u001b[1;32m   1864\u001b[0m     )\n\u001b[1;32m   1866\u001b[0m \u001b[39mreturn\u001b[39;00m result\n",
      "File \u001b[0;32m~/.local/share/virtualenvs/.ds_env-MNTYxxd-/lib/python3.8/site-packages/sqlalchemy/engine/base.py:2043\u001b[0m, in \u001b[0;36mConnection._handle_dbapi_exception\u001b[0;34m(self, e, statement, parameters, cursor, context)\u001b[0m\n\u001b[1;32m   2041\u001b[0m     util\u001b[39m.\u001b[39mraise_(newraise, with_traceback\u001b[39m=\u001b[39mexc_info[\u001b[39m2\u001b[39m], from_\u001b[39m=\u001b[39me)\n\u001b[1;32m   2042\u001b[0m \u001b[39melif\u001b[39;00m should_wrap:\n\u001b[0;32m-> 2043\u001b[0m     util\u001b[39m.\u001b[39;49mraise_(\n\u001b[1;32m   2044\u001b[0m         sqlalchemy_exception, with_traceback\u001b[39m=\u001b[39;49mexc_info[\u001b[39m2\u001b[39;49m], from_\u001b[39m=\u001b[39;49me\n\u001b[1;32m   2045\u001b[0m     )\n\u001b[1;32m   2046\u001b[0m \u001b[39melse\u001b[39;00m:\n\u001b[1;32m   2047\u001b[0m     util\u001b[39m.\u001b[39mraise_(exc_info[\u001b[39m1\u001b[39m], with_traceback\u001b[39m=\u001b[39mexc_info[\u001b[39m2\u001b[39m])\n",
      "File \u001b[0;32m~/.local/share/virtualenvs/.ds_env-MNTYxxd-/lib/python3.8/site-packages/sqlalchemy/util/compat.py:208\u001b[0m, in \u001b[0;36mraise_\u001b[0;34m(***failed resolving arguments***)\u001b[0m\n\u001b[1;32m    205\u001b[0m     exception\u001b[39m.\u001b[39m__cause__ \u001b[39m=\u001b[39m replace_context\n\u001b[1;32m    207\u001b[0m \u001b[39mtry\u001b[39;00m:\n\u001b[0;32m--> 208\u001b[0m     \u001b[39mraise\u001b[39;00m exception\n\u001b[1;32m    209\u001b[0m \u001b[39mfinally\u001b[39;00m:\n\u001b[1;32m    210\u001b[0m     \u001b[39m# credit to\u001b[39;00m\n\u001b[1;32m    211\u001b[0m     \u001b[39m# https://cosmicpercolator.com/2016/01/13/exception-leaks-in-python-2-and-3/\u001b[39;00m\n\u001b[1;32m    212\u001b[0m     \u001b[39m# as the __traceback__ object creates a cycle\u001b[39;00m\n\u001b[1;32m    213\u001b[0m     \u001b[39mdel\u001b[39;00m exception, replace_context, from_, with_traceback\n",
      "File \u001b[0;32m~/.local/share/virtualenvs/.ds_env-MNTYxxd-/lib/python3.8/site-packages/sqlalchemy/engine/base.py:1819\u001b[0m, in \u001b[0;36mConnection._execute_context\u001b[0;34m(self, dialect, constructor, statement, parameters, execution_options, *args, **kw)\u001b[0m\n\u001b[1;32m   1817\u001b[0m                 \u001b[39mbreak\u001b[39;00m\n\u001b[1;32m   1818\u001b[0m     \u001b[39mif\u001b[39;00m \u001b[39mnot\u001b[39;00m evt_handled:\n\u001b[0;32m-> 1819\u001b[0m         \u001b[39mself\u001b[39;49m\u001b[39m.\u001b[39;49mdialect\u001b[39m.\u001b[39;49mdo_execute(\n\u001b[1;32m   1820\u001b[0m             cursor, statement, parameters, context\n\u001b[1;32m   1821\u001b[0m         )\n\u001b[1;32m   1823\u001b[0m \u001b[39mif\u001b[39;00m \u001b[39mself\u001b[39m\u001b[39m.\u001b[39m_has_events \u001b[39mor\u001b[39;00m \u001b[39mself\u001b[39m\u001b[39m.\u001b[39mengine\u001b[39m.\u001b[39m_has_events:\n\u001b[1;32m   1824\u001b[0m     \u001b[39mself\u001b[39m\u001b[39m.\u001b[39mdispatch\u001b[39m.\u001b[39mafter_cursor_execute(\n\u001b[1;32m   1825\u001b[0m         \u001b[39mself\u001b[39m,\n\u001b[1;32m   1826\u001b[0m         cursor,\n\u001b[0;32m   (...)\u001b[0m\n\u001b[1;32m   1830\u001b[0m         context\u001b[39m.\u001b[39mexecutemany,\n\u001b[1;32m   1831\u001b[0m     )\n",
      "File \u001b[0;32m~/.local/share/virtualenvs/.ds_env-MNTYxxd-/lib/python3.8/site-packages/sqlalchemy/engine/default.py:732\u001b[0m, in \u001b[0;36mDefaultDialect.do_execute\u001b[0;34m(self, cursor, statement, parameters, context)\u001b[0m\n\u001b[1;32m    731\u001b[0m \u001b[39mdef\u001b[39;00m \u001b[39mdo_execute\u001b[39m(\u001b[39mself\u001b[39m, cursor, statement, parameters, context\u001b[39m=\u001b[39m\u001b[39mNone\u001b[39;00m):\n\u001b[0;32m--> 732\u001b[0m     cursor\u001b[39m.\u001b[39;49mexecute(statement, parameters)\n",
      "\u001b[0;31mOperationalError\u001b[0m: (sqlite3.OperationalError) no such table: NWCGUnitIDActive20170109\n[SQL: SELECT * FROM NWCGUnitIDActive20170109]\n(Background on this error at: https://sqlalche.me/e/14/e3q8)"
     ]
    }
   ],
   "source": [
    "spatialite_history = pd.read_sql('SELECT * FROM NWCGUnitIDActive20170109', engine)\n",
    "sh_df = spatialite_history.copy()\n",
    "print(sh_df.shape)\n",
    "sh_df.head()"
   ]
  },
  {
   "cell_type": "code",
   "execution_count": null,
   "metadata": {},
   "outputs": [
    {
     "data": {
      "text/html": [
       "<div>\n",
       "<style scoped>\n",
       "    .dataframe tbody tr th:only-of-type {\n",
       "        vertical-align: middle;\n",
       "    }\n",
       "\n",
       "    .dataframe tbody tr th {\n",
       "        vertical-align: top;\n",
       "    }\n",
       "\n",
       "    .dataframe thead th {\n",
       "        text-align: right;\n",
       "    }\n",
       "</style>\n",
       "<table border=\"1\" class=\"dataframe\">\n",
       "  <thead>\n",
       "    <tr style=\"text-align: right;\">\n",
       "      <th></th>\n",
       "      <th>OBJECTID</th>\n",
       "      <th>FOD_ID</th>\n",
       "      <th>FPA_ID</th>\n",
       "      <th>SOURCE_SYSTEM_TYPE</th>\n",
       "      <th>SOURCE_SYSTEM</th>\n",
       "      <th>NWCG_REPORTING_AGENCY</th>\n",
       "      <th>NWCG_REPORTING_UNIT_ID</th>\n",
       "      <th>NWCG_REPORTING_UNIT_NAME</th>\n",
       "      <th>SOURCE_REPORTING_UNIT</th>\n",
       "      <th>SOURCE_REPORTING_UNIT_NAME</th>\n",
       "      <th>LOCAL_FIRE_REPORT_ID</th>\n",
       "      <th>LOCAL_INCIDENT_ID</th>\n",
       "      <th>FIRE_CODE</th>\n",
       "      <th>FIRE_NAME</th>\n",
       "      <th>ICS_209_INCIDENT_NUMBER</th>\n",
       "      <th>ICS_209_NAME</th>\n",
       "      <th>MTBS_ID</th>\n",
       "      <th>MTBS_FIRE_NAME</th>\n",
       "      <th>COMPLEX_NAME</th>\n",
       "      <th>FIRE_YEAR</th>\n",
       "      <th>DISCOVERY_DATE</th>\n",
       "      <th>DISCOVERY_DOY</th>\n",
       "      <th>DISCOVERY_TIME</th>\n",
       "      <th>STAT_CAUSE_CODE</th>\n",
       "      <th>STAT_CAUSE_DESCR</th>\n",
       "      <th>CONT_DATE</th>\n",
       "      <th>CONT_DOY</th>\n",
       "      <th>CONT_TIME</th>\n",
       "      <th>FIRE_SIZE</th>\n",
       "      <th>FIRE_SIZE_CLASS</th>\n",
       "      <th>LATITUDE</th>\n",
       "      <th>LONGITUDE</th>\n",
       "      <th>OWNER_CODE</th>\n",
       "      <th>OWNER_DESCR</th>\n",
       "      <th>STATE</th>\n",
       "      <th>COUNTY</th>\n",
       "      <th>FIPS_CODE</th>\n",
       "      <th>FIPS_NAME</th>\n",
       "      <th>Shape</th>\n",
       "      <th>DIS_DATETIME</th>\n",
       "      <th>CON_DATETIME</th>\n",
       "    </tr>\n",
       "  </thead>\n",
       "  <tbody>\n",
       "    <tr>\n",
       "      <th>0</th>\n",
       "      <td>1</td>\n",
       "      <td>1</td>\n",
       "      <td>FS-1418826</td>\n",
       "      <td>FED</td>\n",
       "      <td>FS-FIRESTAT</td>\n",
       "      <td>FS</td>\n",
       "      <td>USCAPNF</td>\n",
       "      <td>Plumas National Forest</td>\n",
       "      <td>0511</td>\n",
       "      <td>Plumas National Forest</td>\n",
       "      <td>1</td>\n",
       "      <td>PNF-47</td>\n",
       "      <td>BJ8K</td>\n",
       "      <td>FOUNTAIN</td>\n",
       "      <td>None</td>\n",
       "      <td>None</td>\n",
       "      <td>None</td>\n",
       "      <td>None</td>\n",
       "      <td>None</td>\n",
       "      <td>2005</td>\n",
       "      <td>2,453,403.50</td>\n",
       "      <td>33</td>\n",
       "      <td>1300</td>\n",
       "      <td>9.00</td>\n",
       "      <td>Miscellaneous</td>\n",
       "      <td>2,453,403.50</td>\n",
       "      <td>33.00</td>\n",
       "      <td>1730</td>\n",
       "      <td>0.10</td>\n",
       "      <td>A</td>\n",
       "      <td>40.04</td>\n",
       "      <td>-121.01</td>\n",
       "      <td>5.00</td>\n",
       "      <td>USFS</td>\n",
       "      <td>CA</td>\n",
       "      <td>63</td>\n",
       "      <td>063</td>\n",
       "      <td>Plumas</td>\n",
       "      <td>b'\\x00\\x01\\xad\\x10\\x00\\x00\\xe8d\\xc2\\x92_@^\\xc0\\xe0\\xc8l\\x98\\xba\\x04D@\\xe8d\\xc2\\x92_@^\\xc0\\xe0\\xc8l\\x98\\xba\\x04D@|\\x01\\x00\\x00\\x00\\xe8d\\xc2\\x92_@^\\xc0\\xe0\\xc8l\\x98\\xba\\x04D@\\xfe'</td>\n",
       "      <td>2005-02-02 00:00:00</td>\n",
       "      <td>2005-02-02 00:00:00</td>\n",
       "    </tr>\n",
       "    <tr>\n",
       "      <th>1</th>\n",
       "      <td>2</td>\n",
       "      <td>2</td>\n",
       "      <td>FS-1418827</td>\n",
       "      <td>FED</td>\n",
       "      <td>FS-FIRESTAT</td>\n",
       "      <td>FS</td>\n",
       "      <td>USCAENF</td>\n",
       "      <td>Eldorado National Forest</td>\n",
       "      <td>0503</td>\n",
       "      <td>Eldorado National Forest</td>\n",
       "      <td>13</td>\n",
       "      <td>13</td>\n",
       "      <td>AAC0</td>\n",
       "      <td>PIGEON</td>\n",
       "      <td>None</td>\n",
       "      <td>None</td>\n",
       "      <td>None</td>\n",
       "      <td>None</td>\n",
       "      <td>None</td>\n",
       "      <td>2004</td>\n",
       "      <td>2,453,137.50</td>\n",
       "      <td>133</td>\n",
       "      <td>0845</td>\n",
       "      <td>1.00</td>\n",
       "      <td>Lightning</td>\n",
       "      <td>2,453,137.50</td>\n",
       "      <td>133.00</td>\n",
       "      <td>1530</td>\n",
       "      <td>0.25</td>\n",
       "      <td>A</td>\n",
       "      <td>38.93</td>\n",
       "      <td>-120.40</td>\n",
       "      <td>5.00</td>\n",
       "      <td>USFS</td>\n",
       "      <td>CA</td>\n",
       "      <td>61</td>\n",
       "      <td>061</td>\n",
       "      <td>Placer</td>\n",
       "      <td>b'\\x00\\x01\\xad\\x10\\x00\\x00T\\xb6\\xeej\\xe2\\x19^\\xc0\\x90\\xc6U]nwC@T\\xb6\\xeej\\xe2\\x19^\\xc0\\x90\\xc6U]nwC@|\\x01\\x00\\x00\\x00T\\xb6\\xeej\\xe2\\x19^\\xc0\\x90\\xc6U]nwC@\\xfe'</td>\n",
       "      <td>2004-05-12 00:00:00</td>\n",
       "      <td>2004-05-12 00:00:00</td>\n",
       "    </tr>\n",
       "    <tr>\n",
       "      <th>2</th>\n",
       "      <td>3</td>\n",
       "      <td>3</td>\n",
       "      <td>FS-1418835</td>\n",
       "      <td>FED</td>\n",
       "      <td>FS-FIRESTAT</td>\n",
       "      <td>FS</td>\n",
       "      <td>USCAENF</td>\n",
       "      <td>Eldorado National Forest</td>\n",
       "      <td>0503</td>\n",
       "      <td>Eldorado National Forest</td>\n",
       "      <td>27</td>\n",
       "      <td>021</td>\n",
       "      <td>A32W</td>\n",
       "      <td>SLACK</td>\n",
       "      <td>None</td>\n",
       "      <td>None</td>\n",
       "      <td>None</td>\n",
       "      <td>None</td>\n",
       "      <td>None</td>\n",
       "      <td>2004</td>\n",
       "      <td>2,453,156.50</td>\n",
       "      <td>152</td>\n",
       "      <td>1921</td>\n",
       "      <td>5.00</td>\n",
       "      <td>Debris Burning</td>\n",
       "      <td>2,453,156.50</td>\n",
       "      <td>152.00</td>\n",
       "      <td>2024</td>\n",
       "      <td>0.10</td>\n",
       "      <td>A</td>\n",
       "      <td>38.98</td>\n",
       "      <td>-120.74</td>\n",
       "      <td>13.00</td>\n",
       "      <td>STATE OR PRIVATE</td>\n",
       "      <td>CA</td>\n",
       "      <td>17</td>\n",
       "      <td>017</td>\n",
       "      <td>El Dorado</td>\n",
       "      <td>b'\\x00\\x01\\xad\\x10\\x00\\x00\\xd0\\xa5\\xa0W\\x13/^\\xc0P\\xbbf,\\xf9}C@\\xd0\\xa5\\xa0W\\x13/^\\xc0P\\xbbf,\\xf9}C@|\\x01\\x00\\x00\\x00\\xd0\\xa5\\xa0W\\x13/^\\xc0P\\xbbf,\\xf9}C@\\xfe'</td>\n",
       "      <td>2004-05-31 00:00:00</td>\n",
       "      <td>2004-05-31 00:00:00</td>\n",
       "    </tr>\n",
       "    <tr>\n",
       "      <th>3</th>\n",
       "      <td>4</td>\n",
       "      <td>4</td>\n",
       "      <td>FS-1418845</td>\n",
       "      <td>FED</td>\n",
       "      <td>FS-FIRESTAT</td>\n",
       "      <td>FS</td>\n",
       "      <td>USCAENF</td>\n",
       "      <td>Eldorado National Forest</td>\n",
       "      <td>0503</td>\n",
       "      <td>Eldorado National Forest</td>\n",
       "      <td>43</td>\n",
       "      <td>6</td>\n",
       "      <td>None</td>\n",
       "      <td>DEER</td>\n",
       "      <td>None</td>\n",
       "      <td>None</td>\n",
       "      <td>None</td>\n",
       "      <td>None</td>\n",
       "      <td>None</td>\n",
       "      <td>2004</td>\n",
       "      <td>2,453,184.50</td>\n",
       "      <td>180</td>\n",
       "      <td>1600</td>\n",
       "      <td>1.00</td>\n",
       "      <td>Lightning</td>\n",
       "      <td>2,453,189.50</td>\n",
       "      <td>185.00</td>\n",
       "      <td>1400</td>\n",
       "      <td>0.10</td>\n",
       "      <td>A</td>\n",
       "      <td>38.56</td>\n",
       "      <td>-119.91</td>\n",
       "      <td>5.00</td>\n",
       "      <td>USFS</td>\n",
       "      <td>CA</td>\n",
       "      <td>3</td>\n",
       "      <td>003</td>\n",
       "      <td>Alpine</td>\n",
       "      <td>b'\\x00\\x01\\xad\\x10\\x00\\x00\\x94\\xac\\xa3\\rt\\xfa]\\xc0\\xe8T\\x00\\xc6\\x92GC@\\x94\\xac\\xa3\\rt\\xfa]\\xc0\\xe8T\\x00\\xc6\\x92GC@|\\x01\\x00\\x00\\x00\\x94\\xac\\xa3\\rt\\xfa]\\xc0\\xe8T\\x00\\xc6\\x92GC@\\xfe'</td>\n",
       "      <td>2004-06-28 00:00:00</td>\n",
       "      <td>2004-07-03 00:00:00</td>\n",
       "    </tr>\n",
       "    <tr>\n",
       "      <th>4</th>\n",
       "      <td>5</td>\n",
       "      <td>5</td>\n",
       "      <td>FS-1418847</td>\n",
       "      <td>FED</td>\n",
       "      <td>FS-FIRESTAT</td>\n",
       "      <td>FS</td>\n",
       "      <td>USCAENF</td>\n",
       "      <td>Eldorado National Forest</td>\n",
       "      <td>0503</td>\n",
       "      <td>Eldorado National Forest</td>\n",
       "      <td>44</td>\n",
       "      <td>7</td>\n",
       "      <td>None</td>\n",
       "      <td>STEVENOT</td>\n",
       "      <td>None</td>\n",
       "      <td>None</td>\n",
       "      <td>None</td>\n",
       "      <td>None</td>\n",
       "      <td>None</td>\n",
       "      <td>2004</td>\n",
       "      <td>2,453,184.50</td>\n",
       "      <td>180</td>\n",
       "      <td>1600</td>\n",
       "      <td>1.00</td>\n",
       "      <td>Lightning</td>\n",
       "      <td>2,453,189.50</td>\n",
       "      <td>185.00</td>\n",
       "      <td>1200</td>\n",
       "      <td>0.10</td>\n",
       "      <td>A</td>\n",
       "      <td>38.56</td>\n",
       "      <td>-119.93</td>\n",
       "      <td>5.00</td>\n",
       "      <td>USFS</td>\n",
       "      <td>CA</td>\n",
       "      <td>3</td>\n",
       "      <td>003</td>\n",
       "      <td>Alpine</td>\n",
       "      <td>b'\\x00\\x01\\xad\\x10\\x00\\x00@\\xe3\\xaa.\\xb7\\xfb]\\xc0\\xe8T\\x00\\xc6\\x92GC@@\\xe3\\xaa.\\xb7\\xfb]\\xc0\\xe8T\\x00\\xc6\\x92GC@|\\x01\\x00\\x00\\x00@\\xe3\\xaa.\\xb7\\xfb]\\xc0\\xe8T\\x00\\xc6\\x92GC@\\xfe'</td>\n",
       "      <td>2004-06-28 00:00:00</td>\n",
       "      <td>2004-07-03 00:00:00</td>\n",
       "    </tr>\n",
       "  </tbody>\n",
       "</table>\n",
       "</div>"
      ],
      "text/plain": [
       "   OBJECTID  FOD_ID      FPA_ID SOURCE_SYSTEM_TYPE SOURCE_SYSTEM NWCG_REPORTING_AGENCY NWCG_REPORTING_UNIT_ID  NWCG_REPORTING_UNIT_NAME SOURCE_REPORTING_UNIT SOURCE_REPORTING_UNIT_NAME LOCAL_FIRE_REPORT_ID LOCAL_INCIDENT_ID FIRE_CODE FIRE_NAME ICS_209_INCIDENT_NUMBER ICS_209_NAME MTBS_ID MTBS_FIRE_NAME COMPLEX_NAME  FIRE_YEAR       DISCOVERY_DATE  DISCOVERY_DOY DISCOVERY_TIME      STAT_CAUSE_CODE STAT_CAUSE_DESCR            CONT_DATE             CONT_DOY CONT_TIME            FIRE_SIZE FIRE_SIZE_CLASS             LATITUDE            LONGITUDE           OWNER_CODE       OWNER_DESCR STATE COUNTY FIPS_CODE  FIPS_NAME                                                                                                                                                                                 Shape         DIS_DATETIME         CON_DATETIME\n",
       "0         1       1  FS-1418826                FED   FS-FIRESTAT                    FS                USCAPNF    Plumas National Forest                  0511     Plumas National Forest                    1            PNF-47      BJ8K  FOUNTAIN                    None         None    None           None         None       2005         2,453,403.50             33           1300                 9.00    Miscellaneous         2,453,403.50                33.00      1730                 0.10               A                40.04              -121.01                 5.00              USFS    CA     63       063     Plumas     b'\\x00\\x01\\xad\\x10\\x00\\x00\\xe8d\\xc2\\x92_@^\\xc0\\xe0\\xc8l\\x98\\xba\\x04D@\\xe8d\\xc2\\x92_@^\\xc0\\xe0\\xc8l\\x98\\xba\\x04D@|\\x01\\x00\\x00\\x00\\xe8d\\xc2\\x92_@^\\xc0\\xe0\\xc8l\\x98\\xba\\x04D@\\xfe'  2005-02-02 00:00:00  2005-02-02 00:00:00\n",
       "1         2       2  FS-1418827                FED   FS-FIRESTAT                    FS                USCAENF  Eldorado National Forest                  0503   Eldorado National Forest                   13                13      AAC0    PIGEON                    None         None    None           None         None       2004         2,453,137.50            133           0845                 1.00        Lightning         2,453,137.50               133.00      1530                 0.25               A                38.93              -120.40                 5.00              USFS    CA     61       061     Placer                       b'\\x00\\x01\\xad\\x10\\x00\\x00T\\xb6\\xeej\\xe2\\x19^\\xc0\\x90\\xc6U]nwC@T\\xb6\\xeej\\xe2\\x19^\\xc0\\x90\\xc6U]nwC@|\\x01\\x00\\x00\\x00T\\xb6\\xeej\\xe2\\x19^\\xc0\\x90\\xc6U]nwC@\\xfe'  2004-05-12 00:00:00  2004-05-12 00:00:00\n",
       "2         3       3  FS-1418835                FED   FS-FIRESTAT                    FS                USCAENF  Eldorado National Forest                  0503   Eldorado National Forest                   27               021      A32W     SLACK                    None         None    None           None         None       2004         2,453,156.50            152           1921                 5.00   Debris Burning         2,453,156.50               152.00      2024                 0.10               A                38.98              -120.74                13.00  STATE OR PRIVATE    CA     17       017  El Dorado                       b'\\x00\\x01\\xad\\x10\\x00\\x00\\xd0\\xa5\\xa0W\\x13/^\\xc0P\\xbbf,\\xf9}C@\\xd0\\xa5\\xa0W\\x13/^\\xc0P\\xbbf,\\xf9}C@|\\x01\\x00\\x00\\x00\\xd0\\xa5\\xa0W\\x13/^\\xc0P\\xbbf,\\xf9}C@\\xfe'  2004-05-31 00:00:00  2004-05-31 00:00:00\n",
       "3         4       4  FS-1418845                FED   FS-FIRESTAT                    FS                USCAENF  Eldorado National Forest                  0503   Eldorado National Forest                   43                 6      None      DEER                    None         None    None           None         None       2004         2,453,184.50            180           1600                 1.00        Lightning         2,453,189.50               185.00      1400                 0.10               A                38.56              -119.91                 5.00              USFS    CA      3       003     Alpine  b'\\x00\\x01\\xad\\x10\\x00\\x00\\x94\\xac\\xa3\\rt\\xfa]\\xc0\\xe8T\\x00\\xc6\\x92GC@\\x94\\xac\\xa3\\rt\\xfa]\\xc0\\xe8T\\x00\\xc6\\x92GC@|\\x01\\x00\\x00\\x00\\x94\\xac\\xa3\\rt\\xfa]\\xc0\\xe8T\\x00\\xc6\\x92GC@\\xfe'  2004-06-28 00:00:00  2004-07-03 00:00:00\n",
       "4         5       5  FS-1418847                FED   FS-FIRESTAT                    FS                USCAENF  Eldorado National Forest                  0503   Eldorado National Forest                   44                 7      None  STEVENOT                    None         None    None           None         None       2004         2,453,184.50            180           1600                 1.00        Lightning         2,453,189.50               185.00      1200                 0.10               A                38.56              -119.93                 5.00              USFS    CA      3       003     Alpine     b'\\x00\\x01\\xad\\x10\\x00\\x00@\\xe3\\xaa.\\xb7\\xfb]\\xc0\\xe8T\\x00\\xc6\\x92GC@@\\xe3\\xaa.\\xb7\\xfb]\\xc0\\xe8T\\x00\\xc6\\x92GC@|\\x01\\x00\\x00\\x00@\\xe3\\xaa.\\xb7\\xfb]\\xc0\\xe8T\\x00\\xc6\\x92GC@\\xfe'  2004-06-28 00:00:00  2004-07-03 00:00:00"
      ]
     },
     "execution_count": 43,
     "metadata": {},
     "output_type": "execute_result"
    }
   ],
   "source": [
    "f_df = pd.read_sql_query(\"\"\"\n",
    "        SELECT\n",
    "            *, \n",
    "            datetime(DISCOVERY_DATE) as DIS_DATETIME,\n",
    "            datetime(CONT_DATE) as CON_DATETIME\n",
    "        FROM \n",
    "            Fires \n",
    "        LIMIT 10000;\n",
    "        \"\"\" , engine)\n",
    "f_df.head()"
   ]
  },
  {
   "cell_type": "code",
   "execution_count": null,
   "metadata": {},
   "outputs": [
    {
     "name": "stdout",
     "output_type": "stream",
     "text": [
      "<class 'pandas.core.frame.DataFrame'>\n",
      "RangeIndex: 1000 entries, 0 to 999\n",
      "Data columns (total 39 columns):\n",
      " #   Column                      Non-Null Count  Dtype  \n",
      "---  ------                      --------------  -----  \n",
      " 0   OBJECTID                    1000 non-null   int64  \n",
      " 1   FOD_ID                      1000 non-null   int64  \n",
      " 2   FPA_ID                      1000 non-null   object \n",
      " 3   SOURCE_SYSTEM_TYPE          1000 non-null   object \n",
      " 4   SOURCE_SYSTEM               1000 non-null   object \n",
      " 5   NWCG_REPORTING_AGENCY       1000 non-null   object \n",
      " 6   NWCG_REPORTING_UNIT_ID      1000 non-null   object \n",
      " 7   NWCG_REPORTING_UNIT_NAME    1000 non-null   object \n",
      " 8   SOURCE_REPORTING_UNIT       1000 non-null   object \n",
      " 9   SOURCE_REPORTING_UNIT_NAME  1000 non-null   object \n",
      " 10  LOCAL_FIRE_REPORT_ID        1000 non-null   object \n",
      " 11  LOCAL_INCIDENT_ID           999 non-null    object \n",
      " 12  FIRE_CODE                   987 non-null    object \n",
      " 13  FIRE_NAME                   1000 non-null   object \n",
      " 14  ICS_209_INCIDENT_NUMBER     17 non-null     object \n",
      " 15  ICS_209_NAME                17 non-null     object \n",
      " 16  MTBS_ID                     10 non-null     object \n",
      " 17  MTBS_FIRE_NAME              10 non-null     object \n",
      " 18  COMPLEX_NAME                3 non-null      object \n",
      " 19  FIRE_YEAR                   1000 non-null   int64  \n",
      " 20  DISCOVERY_DATE              1000 non-null   float64\n",
      " 21  DISCOVERY_DOY               1000 non-null   int64  \n",
      " 22  DISCOVERY_TIME              1000 non-null   object \n",
      " 23  STAT_CAUSE_CODE             1000 non-null   float64\n",
      " 24  STAT_CAUSE_DESCR            1000 non-null   object \n",
      " 25  CONT_DATE                   999 non-null    float64\n",
      " 26  CONT_DOY                    999 non-null    float64\n",
      " 27  CONT_TIME                   999 non-null    object \n",
      " 28  FIRE_SIZE                   1000 non-null   float64\n",
      " 29  FIRE_SIZE_CLASS             1000 non-null   object \n",
      " 30  LATITUDE                    1000 non-null   float64\n",
      " 31  LONGITUDE                   1000 non-null   float64\n",
      " 32  OWNER_CODE                  1000 non-null   float64\n",
      " 33  OWNER_DESCR                 1000 non-null   object \n",
      " 34  STATE                       1000 non-null   object \n",
      " 35  COUNTY                      823 non-null    object \n",
      " 36  FIPS_CODE                   823 non-null    object \n",
      " 37  FIPS_NAME                   823 non-null    object \n",
      " 38  Shape                       1000 non-null   object \n",
      "dtypes: float64(8), int64(4), object(27)\n",
      "memory usage: 304.8+ KB\n"
     ]
    }
   ],
   "source": [
    "f_df.info()"
   ]
  },
  {
   "cell_type": "code",
   "execution_count": null,
   "metadata": {},
   "outputs": [],
   "source": []
  },
  {
   "cell_type": "code",
   "execution_count": null,
   "metadata": {},
   "outputs": [],
   "source": [
    "from datetime import datetime as dt\n",
    "\n",
    "def convert_ts(ts):\n",
    "    \"\"\"\n",
    "    Parameter:\n",
    "            The 'ts' parameter is a millisecond value from the log_data\n",
    "    Function:\n",
    "            Convert the timestamp in millisecond to the required format i.e\n",
    "            hour, day, week of year, month, year and weekday.\n",
    "    \"\"\"\n",
    "\n",
    "    t = dt.fromtimestamp(ts)\n",
    "    try:\n",
    "        hour = t.hour\n",
    "        day =  t.day\n",
    "        week_of_year = t.isocalendar()[1]\n",
    "        month = t.month\n",
    "        year = t.year\n",
    "        weekday =  t.weekday()\n",
    "\n",
    "        data = [ts, hour, day, week_of_year, month, year, weekday]\n",
    "\n",
    "    except Exception as e:\n",
    "        print(e)\n",
    "\n",
    "    return data\n",
    "\n",
    "f_df['date'] = f_df['DISCOVERY_DATE'].apply(convert_ts)\n"
   ]
  },
  {
   "cell_type": "code",
   "execution_count": null,
   "metadata": {},
   "outputs": [
    {
     "ename": "TypeError",
     "evalue": "fromisoformat: argument must be str",
     "output_type": "error",
     "traceback": [
      "\u001b[0;31m---------------------------------------------------------------------------\u001b[0m",
      "\u001b[0;31mTypeError\u001b[0m                                 Traceback (most recent call last)",
      "\u001b[1;32m/Users/dit/Documents/canonical/test.ipynb Cell 15\u001b[0m in \u001b[0;36m<cell line: 7>\u001b[0;34m()\u001b[0m\n\u001b[1;32m      <a href='vscode-notebook-cell:/Users/dit/Documents/canonical/test.ipynb#X25sZmlsZQ%3D%3D?line=3'>4</a>\u001b[0m \u001b[39mfrom\u001b[39;00m \u001b[39mdatetime\u001b[39;00m \u001b[39mimport\u001b[39;00m timezone\n\u001b[1;32m      <a href='vscode-notebook-cell:/Users/dit/Documents/canonical/test.ipynb#X25sZmlsZQ%3D%3D?line=4'>5</a>\u001b[0m dt\u001b[39m.\u001b[39mfromtimestamp(t, timezone\u001b[39m.\u001b[39mutc)\n\u001b[0;32m----> <a href='vscode-notebook-cell:/Users/dit/Documents/canonical/test.ipynb#X25sZmlsZQ%3D%3D?line=6'>7</a>\u001b[0m dt\u001b[39m.\u001b[39;49mfromisoformat(t)\n",
      "\u001b[0;31mTypeError\u001b[0m: fromisoformat: argument must be str"
     ]
    }
   ],
   "source": [
    "t = 2453403.50\n",
    "\n",
    "from datetime import datetime as dt\n",
    "from datetime import timezone\n",
    "dt.fromtimestamp(t, timezone.utc)\n",
    "\n",
    "dt.fromisoformat(t)"
   ]
  },
  {
   "cell_type": "code",
   "execution_count": null,
   "metadata": {},
   "outputs": [
    {
     "data": {
      "text/html": [
       "<div>\n",
       "<style scoped>\n",
       "    .dataframe tbody tr th:only-of-type {\n",
       "        vertical-align: middle;\n",
       "    }\n",
       "\n",
       "    .dataframe tbody tr th {\n",
       "        vertical-align: top;\n",
       "    }\n",
       "\n",
       "    .dataframe thead th {\n",
       "        text-align: right;\n",
       "    }\n",
       "</style>\n",
       "<table border=\"1\" class=\"dataframe\">\n",
       "  <thead>\n",
       "    <tr style=\"text-align: right;\">\n",
       "      <th></th>\n",
       "      <th>OBJECTID</th>\n",
       "      <th>FOD_ID</th>\n",
       "      <th>FPA_ID</th>\n",
       "      <th>SOURCE_SYSTEM_TYPE</th>\n",
       "      <th>SOURCE_SYSTEM</th>\n",
       "      <th>NWCG_REPORTING_AGENCY</th>\n",
       "      <th>NWCG_REPORTING_UNIT_ID</th>\n",
       "      <th>NWCG_REPORTING_UNIT_NAME</th>\n",
       "      <th>SOURCE_REPORTING_UNIT</th>\n",
       "      <th>SOURCE_REPORTING_UNIT_NAME</th>\n",
       "      <th>LOCAL_FIRE_REPORT_ID</th>\n",
       "      <th>LOCAL_INCIDENT_ID</th>\n",
       "      <th>FIRE_CODE</th>\n",
       "      <th>FIRE_NAME</th>\n",
       "      <th>ICS_209_INCIDENT_NUMBER</th>\n",
       "      <th>ICS_209_NAME</th>\n",
       "      <th>MTBS_ID</th>\n",
       "      <th>MTBS_FIRE_NAME</th>\n",
       "      <th>COMPLEX_NAME</th>\n",
       "      <th>FIRE_YEAR</th>\n",
       "      <th>DISCOVERY_DATE</th>\n",
       "      <th>DISCOVERY_DOY</th>\n",
       "      <th>DISCOVERY_TIME</th>\n",
       "      <th>STAT_CAUSE_CODE</th>\n",
       "      <th>STAT_CAUSE_DESCR</th>\n",
       "      <th>CONT_DATE</th>\n",
       "      <th>CONT_DOY</th>\n",
       "      <th>CONT_TIME</th>\n",
       "      <th>FIRE_SIZE</th>\n",
       "      <th>FIRE_SIZE_CLASS</th>\n",
       "      <th>LATITUDE</th>\n",
       "      <th>LONGITUDE</th>\n",
       "      <th>OWNER_CODE</th>\n",
       "      <th>OWNER_DESCR</th>\n",
       "      <th>STATE</th>\n",
       "      <th>COUNTY</th>\n",
       "      <th>FIPS_CODE</th>\n",
       "      <th>FIPS_NAME</th>\n",
       "      <th>Shape</th>\n",
       "      <th>date</th>\n",
       "    </tr>\n",
       "  </thead>\n",
       "  <tbody>\n",
       "    <tr>\n",
       "      <th>0</th>\n",
       "      <td>1</td>\n",
       "      <td>1</td>\n",
       "      <td>FS-1418826</td>\n",
       "      <td>FED</td>\n",
       "      <td>FS-FIRESTAT</td>\n",
       "      <td>FS</td>\n",
       "      <td>USCAPNF</td>\n",
       "      <td>Plumas National Forest</td>\n",
       "      <td>0511</td>\n",
       "      <td>Plumas National Forest</td>\n",
       "      <td>1</td>\n",
       "      <td>PNF-47</td>\n",
       "      <td>BJ8K</td>\n",
       "      <td>FOUNTAIN</td>\n",
       "      <td>None</td>\n",
       "      <td>None</td>\n",
       "      <td>None</td>\n",
       "      <td>None</td>\n",
       "      <td>None</td>\n",
       "      <td>2005</td>\n",
       "      <td>2,453,403.50</td>\n",
       "      <td>33</td>\n",
       "      <td>1300</td>\n",
       "      <td>9.00</td>\n",
       "      <td>Miscellaneous</td>\n",
       "      <td>2,453,403.50</td>\n",
       "      <td>33.00</td>\n",
       "      <td>1730</td>\n",
       "      <td>0.10</td>\n",
       "      <td>A</td>\n",
       "      <td>40.04</td>\n",
       "      <td>-121.01</td>\n",
       "      <td>5.00</td>\n",
       "      <td>USFS</td>\n",
       "      <td>CA</td>\n",
       "      <td>63</td>\n",
       "      <td>063</td>\n",
       "      <td>Plumas</td>\n",
       "      <td>b'\\x00\\x01\\xad\\x10\\x00\\x00\\xe8d\\xc2\\x92_@^\\xc0\\xe0\\xc8l\\x98\\xba\\x04D@\\xe8d\\xc2\\x92_@^\\xc0\\xe0\\xc8l\\x98\\xba\\x04D@|\\x01\\x00\\x00\\x00\\xe8d\\xc2\\x92_@^\\xc0\\xe0\\xc8l\\x98\\xba\\x04D@\\xfe'</td>\n",
       "      <td>[2453403.5, 10, 29, 5, 1, 1970, 3]</td>\n",
       "    </tr>\n",
       "    <tr>\n",
       "      <th>1</th>\n",
       "      <td>2</td>\n",
       "      <td>2</td>\n",
       "      <td>FS-1418827</td>\n",
       "      <td>FED</td>\n",
       "      <td>FS-FIRESTAT</td>\n",
       "      <td>FS</td>\n",
       "      <td>USCAENF</td>\n",
       "      <td>Eldorado National Forest</td>\n",
       "      <td>0503</td>\n",
       "      <td>Eldorado National Forest</td>\n",
       "      <td>13</td>\n",
       "      <td>13</td>\n",
       "      <td>AAC0</td>\n",
       "      <td>PIGEON</td>\n",
       "      <td>None</td>\n",
       "      <td>None</td>\n",
       "      <td>None</td>\n",
       "      <td>None</td>\n",
       "      <td>None</td>\n",
       "      <td>2004</td>\n",
       "      <td>2,453,137.50</td>\n",
       "      <td>133</td>\n",
       "      <td>0845</td>\n",
       "      <td>1.00</td>\n",
       "      <td>Lightning</td>\n",
       "      <td>2,453,137.50</td>\n",
       "      <td>133.00</td>\n",
       "      <td>1530</td>\n",
       "      <td>0.25</td>\n",
       "      <td>A</td>\n",
       "      <td>38.93</td>\n",
       "      <td>-120.40</td>\n",
       "      <td>5.00</td>\n",
       "      <td>USFS</td>\n",
       "      <td>CA</td>\n",
       "      <td>61</td>\n",
       "      <td>061</td>\n",
       "      <td>Placer</td>\n",
       "      <td>b'\\x00\\x01\\xad\\x10\\x00\\x00T\\xb6\\xeej\\xe2\\x19^\\xc0\\x90\\xc6U]nwC@T\\xb6\\xeej\\xe2\\x19^\\xc0\\x90\\xc6U]nwC@|\\x01\\x00\\x00\\x00T\\xb6\\xeej\\xe2\\x19^\\xc0\\x90\\xc6U]nwC@\\xfe'</td>\n",
       "      <td>[2453137.5, 10, 29, 5, 1, 1970, 3]</td>\n",
       "    </tr>\n",
       "    <tr>\n",
       "      <th>2</th>\n",
       "      <td>3</td>\n",
       "      <td>3</td>\n",
       "      <td>FS-1418835</td>\n",
       "      <td>FED</td>\n",
       "      <td>FS-FIRESTAT</td>\n",
       "      <td>FS</td>\n",
       "      <td>USCAENF</td>\n",
       "      <td>Eldorado National Forest</td>\n",
       "      <td>0503</td>\n",
       "      <td>Eldorado National Forest</td>\n",
       "      <td>27</td>\n",
       "      <td>021</td>\n",
       "      <td>A32W</td>\n",
       "      <td>SLACK</td>\n",
       "      <td>None</td>\n",
       "      <td>None</td>\n",
       "      <td>None</td>\n",
       "      <td>None</td>\n",
       "      <td>None</td>\n",
       "      <td>2004</td>\n",
       "      <td>2,453,156.50</td>\n",
       "      <td>152</td>\n",
       "      <td>1921</td>\n",
       "      <td>5.00</td>\n",
       "      <td>Debris Burning</td>\n",
       "      <td>2,453,156.50</td>\n",
       "      <td>152.00</td>\n",
       "      <td>2024</td>\n",
       "      <td>0.10</td>\n",
       "      <td>A</td>\n",
       "      <td>38.98</td>\n",
       "      <td>-120.74</td>\n",
       "      <td>13.00</td>\n",
       "      <td>STATE OR PRIVATE</td>\n",
       "      <td>CA</td>\n",
       "      <td>17</td>\n",
       "      <td>017</td>\n",
       "      <td>El Dorado</td>\n",
       "      <td>b'\\x00\\x01\\xad\\x10\\x00\\x00\\xd0\\xa5\\xa0W\\x13/^\\xc0P\\xbbf,\\xf9}C@\\xd0\\xa5\\xa0W\\x13/^\\xc0P\\xbbf,\\xf9}C@|\\x01\\x00\\x00\\x00\\xd0\\xa5\\xa0W\\x13/^\\xc0P\\xbbf,\\xf9}C@\\xfe'</td>\n",
       "      <td>[2453156.5, 10, 29, 5, 1, 1970, 3]</td>\n",
       "    </tr>\n",
       "    <tr>\n",
       "      <th>3</th>\n",
       "      <td>4</td>\n",
       "      <td>4</td>\n",
       "      <td>FS-1418845</td>\n",
       "      <td>FED</td>\n",
       "      <td>FS-FIRESTAT</td>\n",
       "      <td>FS</td>\n",
       "      <td>USCAENF</td>\n",
       "      <td>Eldorado National Forest</td>\n",
       "      <td>0503</td>\n",
       "      <td>Eldorado National Forest</td>\n",
       "      <td>43</td>\n",
       "      <td>6</td>\n",
       "      <td>None</td>\n",
       "      <td>DEER</td>\n",
       "      <td>None</td>\n",
       "      <td>None</td>\n",
       "      <td>None</td>\n",
       "      <td>None</td>\n",
       "      <td>None</td>\n",
       "      <td>2004</td>\n",
       "      <td>2,453,184.50</td>\n",
       "      <td>180</td>\n",
       "      <td>1600</td>\n",
       "      <td>1.00</td>\n",
       "      <td>Lightning</td>\n",
       "      <td>2,453,189.50</td>\n",
       "      <td>185.00</td>\n",
       "      <td>1400</td>\n",
       "      <td>0.10</td>\n",
       "      <td>A</td>\n",
       "      <td>38.56</td>\n",
       "      <td>-119.91</td>\n",
       "      <td>5.00</td>\n",
       "      <td>USFS</td>\n",
       "      <td>CA</td>\n",
       "      <td>3</td>\n",
       "      <td>003</td>\n",
       "      <td>Alpine</td>\n",
       "      <td>b'\\x00\\x01\\xad\\x10\\x00\\x00\\x94\\xac\\xa3\\rt\\xfa]\\xc0\\xe8T\\x00\\xc6\\x92GC@\\x94\\xac\\xa3\\rt\\xfa]\\xc0\\xe8T\\x00\\xc6\\x92GC@|\\x01\\x00\\x00\\x00\\x94\\xac\\xa3\\rt\\xfa]\\xc0\\xe8T\\x00\\xc6\\x92GC@\\xfe'</td>\n",
       "      <td>[2453184.5, 10, 29, 5, 1, 1970, 3]</td>\n",
       "    </tr>\n",
       "    <tr>\n",
       "      <th>4</th>\n",
       "      <td>5</td>\n",
       "      <td>5</td>\n",
       "      <td>FS-1418847</td>\n",
       "      <td>FED</td>\n",
       "      <td>FS-FIRESTAT</td>\n",
       "      <td>FS</td>\n",
       "      <td>USCAENF</td>\n",
       "      <td>Eldorado National Forest</td>\n",
       "      <td>0503</td>\n",
       "      <td>Eldorado National Forest</td>\n",
       "      <td>44</td>\n",
       "      <td>7</td>\n",
       "      <td>None</td>\n",
       "      <td>STEVENOT</td>\n",
       "      <td>None</td>\n",
       "      <td>None</td>\n",
       "      <td>None</td>\n",
       "      <td>None</td>\n",
       "      <td>None</td>\n",
       "      <td>2004</td>\n",
       "      <td>2,453,184.50</td>\n",
       "      <td>180</td>\n",
       "      <td>1600</td>\n",
       "      <td>1.00</td>\n",
       "      <td>Lightning</td>\n",
       "      <td>2,453,189.50</td>\n",
       "      <td>185.00</td>\n",
       "      <td>1200</td>\n",
       "      <td>0.10</td>\n",
       "      <td>A</td>\n",
       "      <td>38.56</td>\n",
       "      <td>-119.93</td>\n",
       "      <td>5.00</td>\n",
       "      <td>USFS</td>\n",
       "      <td>CA</td>\n",
       "      <td>3</td>\n",
       "      <td>003</td>\n",
       "      <td>Alpine</td>\n",
       "      <td>b'\\x00\\x01\\xad\\x10\\x00\\x00@\\xe3\\xaa.\\xb7\\xfb]\\xc0\\xe8T\\x00\\xc6\\x92GC@@\\xe3\\xaa.\\xb7\\xfb]\\xc0\\xe8T\\x00\\xc6\\x92GC@|\\x01\\x00\\x00\\x00@\\xe3\\xaa.\\xb7\\xfb]\\xc0\\xe8T\\x00\\xc6\\x92GC@\\xfe'</td>\n",
       "      <td>[2453184.5, 10, 29, 5, 1, 1970, 3]</td>\n",
       "    </tr>\n",
       "  </tbody>\n",
       "</table>\n",
       "</div>"
      ],
      "text/plain": [
       "   OBJECTID  FOD_ID      FPA_ID SOURCE_SYSTEM_TYPE SOURCE_SYSTEM NWCG_REPORTING_AGENCY NWCG_REPORTING_UNIT_ID  NWCG_REPORTING_UNIT_NAME SOURCE_REPORTING_UNIT SOURCE_REPORTING_UNIT_NAME LOCAL_FIRE_REPORT_ID LOCAL_INCIDENT_ID FIRE_CODE FIRE_NAME ICS_209_INCIDENT_NUMBER ICS_209_NAME MTBS_ID MTBS_FIRE_NAME COMPLEX_NAME  FIRE_YEAR       DISCOVERY_DATE  DISCOVERY_DOY DISCOVERY_TIME      STAT_CAUSE_CODE STAT_CAUSE_DESCR            CONT_DATE             CONT_DOY CONT_TIME            FIRE_SIZE FIRE_SIZE_CLASS             LATITUDE            LONGITUDE           OWNER_CODE       OWNER_DESCR STATE COUNTY FIPS_CODE  FIPS_NAME                                                                                                                                                                                 Shape                                date\n",
       "0         1       1  FS-1418826                FED   FS-FIRESTAT                    FS                USCAPNF    Plumas National Forest                  0511     Plumas National Forest                    1            PNF-47      BJ8K  FOUNTAIN                    None         None    None           None         None       2005         2,453,403.50             33           1300                 9.00    Miscellaneous         2,453,403.50                33.00      1730                 0.10               A                40.04              -121.01                 5.00              USFS    CA     63       063     Plumas     b'\\x00\\x01\\xad\\x10\\x00\\x00\\xe8d\\xc2\\x92_@^\\xc0\\xe0\\xc8l\\x98\\xba\\x04D@\\xe8d\\xc2\\x92_@^\\xc0\\xe0\\xc8l\\x98\\xba\\x04D@|\\x01\\x00\\x00\\x00\\xe8d\\xc2\\x92_@^\\xc0\\xe0\\xc8l\\x98\\xba\\x04D@\\xfe'  [2453403.5, 10, 29, 5, 1, 1970, 3]\n",
       "1         2       2  FS-1418827                FED   FS-FIRESTAT                    FS                USCAENF  Eldorado National Forest                  0503   Eldorado National Forest                   13                13      AAC0    PIGEON                    None         None    None           None         None       2004         2,453,137.50            133           0845                 1.00        Lightning         2,453,137.50               133.00      1530                 0.25               A                38.93              -120.40                 5.00              USFS    CA     61       061     Placer                       b'\\x00\\x01\\xad\\x10\\x00\\x00T\\xb6\\xeej\\xe2\\x19^\\xc0\\x90\\xc6U]nwC@T\\xb6\\xeej\\xe2\\x19^\\xc0\\x90\\xc6U]nwC@|\\x01\\x00\\x00\\x00T\\xb6\\xeej\\xe2\\x19^\\xc0\\x90\\xc6U]nwC@\\xfe'  [2453137.5, 10, 29, 5, 1, 1970, 3]\n",
       "2         3       3  FS-1418835                FED   FS-FIRESTAT                    FS                USCAENF  Eldorado National Forest                  0503   Eldorado National Forest                   27               021      A32W     SLACK                    None         None    None           None         None       2004         2,453,156.50            152           1921                 5.00   Debris Burning         2,453,156.50               152.00      2024                 0.10               A                38.98              -120.74                13.00  STATE OR PRIVATE    CA     17       017  El Dorado                       b'\\x00\\x01\\xad\\x10\\x00\\x00\\xd0\\xa5\\xa0W\\x13/^\\xc0P\\xbbf,\\xf9}C@\\xd0\\xa5\\xa0W\\x13/^\\xc0P\\xbbf,\\xf9}C@|\\x01\\x00\\x00\\x00\\xd0\\xa5\\xa0W\\x13/^\\xc0P\\xbbf,\\xf9}C@\\xfe'  [2453156.5, 10, 29, 5, 1, 1970, 3]\n",
       "3         4       4  FS-1418845                FED   FS-FIRESTAT                    FS                USCAENF  Eldorado National Forest                  0503   Eldorado National Forest                   43                 6      None      DEER                    None         None    None           None         None       2004         2,453,184.50            180           1600                 1.00        Lightning         2,453,189.50               185.00      1400                 0.10               A                38.56              -119.91                 5.00              USFS    CA      3       003     Alpine  b'\\x00\\x01\\xad\\x10\\x00\\x00\\x94\\xac\\xa3\\rt\\xfa]\\xc0\\xe8T\\x00\\xc6\\x92GC@\\x94\\xac\\xa3\\rt\\xfa]\\xc0\\xe8T\\x00\\xc6\\x92GC@|\\x01\\x00\\x00\\x00\\x94\\xac\\xa3\\rt\\xfa]\\xc0\\xe8T\\x00\\xc6\\x92GC@\\xfe'  [2453184.5, 10, 29, 5, 1, 1970, 3]\n",
       "4         5       5  FS-1418847                FED   FS-FIRESTAT                    FS                USCAENF  Eldorado National Forest                  0503   Eldorado National Forest                   44                 7      None  STEVENOT                    None         None    None           None         None       2004         2,453,184.50            180           1600                 1.00        Lightning         2,453,189.50               185.00      1200                 0.10               A                38.56              -119.93                 5.00              USFS    CA      3       003     Alpine     b'\\x00\\x01\\xad\\x10\\x00\\x00@\\xe3\\xaa.\\xb7\\xfb]\\xc0\\xe8T\\x00\\xc6\\x92GC@@\\xe3\\xaa.\\xb7\\xfb]\\xc0\\xe8T\\x00\\xc6\\x92GC@|\\x01\\x00\\x00\\x00@\\xe3\\xaa.\\xb7\\xfb]\\xc0\\xe8T\\x00\\xc6\\x92GC@\\xfe'  [2453184.5, 10, 29, 5, 1, 1970, 3]"
      ]
     },
     "execution_count": 18,
     "metadata": {},
     "output_type": "execute_result"
    }
   ],
   "source": [
    "f_df.head()"
   ]
  },
  {
   "cell_type": "code",
   "execution_count": null,
   "metadata": {},
   "outputs": [
    {
     "data": {
      "text/html": [
       "<div>\n",
       "<style scoped>\n",
       "    .dataframe tbody tr th:only-of-type {\n",
       "        vertical-align: middle;\n",
       "    }\n",
       "\n",
       "    .dataframe tbody tr th {\n",
       "        vertical-align: top;\n",
       "    }\n",
       "\n",
       "    .dataframe thead th {\n",
       "        text-align: right;\n",
       "    }\n",
       "</style>\n",
       "<table border=\"1\" class=\"dataframe\">\n",
       "  <thead>\n",
       "    <tr style=\"text-align: right;\">\n",
       "      <th></th>\n",
       "      <th>OBJECTID</th>\n",
       "      <th>FOD_ID</th>\n",
       "      <th>FPA_ID</th>\n",
       "      <th>SOURCE_SYSTEM_TYPE</th>\n",
       "      <th>SOURCE_SYSTEM</th>\n",
       "      <th>NWCG_REPORTING_AGENCY</th>\n",
       "      <th>NWCG_REPORTING_UNIT_ID</th>\n",
       "      <th>NWCG_REPORTING_UNIT_NAME</th>\n",
       "      <th>SOURCE_REPORTING_UNIT</th>\n",
       "      <th>SOURCE_REPORTING_UNIT_NAME</th>\n",
       "      <th>LOCAL_FIRE_REPORT_ID</th>\n",
       "      <th>LOCAL_INCIDENT_ID</th>\n",
       "      <th>FIRE_CODE</th>\n",
       "      <th>FIRE_NAME</th>\n",
       "      <th>ICS_209_INCIDENT_NUMBER</th>\n",
       "      <th>ICS_209_NAME</th>\n",
       "      <th>MTBS_ID</th>\n",
       "      <th>MTBS_FIRE_NAME</th>\n",
       "      <th>COMPLEX_NAME</th>\n",
       "      <th>FIRE_YEAR</th>\n",
       "      <th>DISCOVERY_DATE</th>\n",
       "      <th>DISCOVERY_DOY</th>\n",
       "      <th>DISCOVERY_TIME</th>\n",
       "      <th>STAT_CAUSE_CODE</th>\n",
       "      <th>STAT_CAUSE_DESCR</th>\n",
       "      <th>CONT_DATE</th>\n",
       "      <th>CONT_DOY</th>\n",
       "      <th>CONT_TIME</th>\n",
       "      <th>FIRE_SIZE</th>\n",
       "      <th>FIRE_SIZE_CLASS</th>\n",
       "      <th>LATITUDE</th>\n",
       "      <th>LONGITUDE</th>\n",
       "      <th>OWNER_CODE</th>\n",
       "      <th>OWNER_DESCR</th>\n",
       "      <th>STATE</th>\n",
       "      <th>COUNTY</th>\n",
       "      <th>FIPS_CODE</th>\n",
       "      <th>FIPS_NAME</th>\n",
       "      <th>Shape</th>\n",
       "      <th>date</th>\n",
       "    </tr>\n",
       "  </thead>\n",
       "  <tbody>\n",
       "    <tr>\n",
       "      <th>990</th>\n",
       "      <td>991</td>\n",
       "      <td>1003</td>\n",
       "      <td>FS-1421048</td>\n",
       "      <td>FED</td>\n",
       "      <td>FS-FIRESTAT</td>\n",
       "      <td>FS</td>\n",
       "      <td>USLAKIF</td>\n",
       "      <td>Kisatchie National Forest</td>\n",
       "      <td>0806</td>\n",
       "      <td>Kisatchie National Forest</td>\n",
       "      <td>28</td>\n",
       "      <td>D2/19</td>\n",
       "      <td>BE1K</td>\n",
       "      <td>028 IUA 10</td>\n",
       "      <td>None</td>\n",
       "      <td>None</td>\n",
       "      <td>None</td>\n",
       "      <td>None</td>\n",
       "      <td>None</td>\n",
       "      <td>2005</td>\n",
       "      <td>2,453,536.50</td>\n",
       "      <td>166</td>\n",
       "      <td>1405</td>\n",
       "      <td>2.00</td>\n",
       "      <td>Equipment Use</td>\n",
       "      <td>2,453,536.50</td>\n",
       "      <td>166.00</td>\n",
       "      <td>1615</td>\n",
       "      <td>1.00</td>\n",
       "      <td>B</td>\n",
       "      <td>31.02</td>\n",
       "      <td>-93.14</td>\n",
       "      <td>5.00</td>\n",
       "      <td>USFS</td>\n",
       "      <td>LA</td>\n",
       "      <td>None</td>\n",
       "      <td>None</td>\n",
       "      <td>None</td>\n",
       "      <td>b'\\x00\\x01\\xad\\x10\\x00\\x00P\\xa5\\x14\\x11\\x11IW\\xc0`\\x04GUU\\x05?@P\\xa5\\x14\\x11\\x11IW\\xc0`\\x04GUU\\x05?@|\\x01\\x00\\x00\\x00P\\xa5\\x14\\x11\\x11IW\\xc0`\\x04GUU\\x05?@\\xfe'</td>\n",
       "      <td>[2453536.5, 10, 29, 5, 1, 1970, 3]</td>\n",
       "    </tr>\n",
       "    <tr>\n",
       "      <th>991</th>\n",
       "      <td>992</td>\n",
       "      <td>1004</td>\n",
       "      <td>FS-1421052</td>\n",
       "      <td>FED</td>\n",
       "      <td>FS-FIRESTAT</td>\n",
       "      <td>FS</td>\n",
       "      <td>USLAKIF</td>\n",
       "      <td>Kisatchie National Forest</td>\n",
       "      <td>0806</td>\n",
       "      <td>Kisatchie National Forest</td>\n",
       "      <td>29</td>\n",
       "      <td>D2/20</td>\n",
       "      <td>BE1K</td>\n",
       "      <td>029 RED OAK</td>\n",
       "      <td>None</td>\n",
       "      <td>None</td>\n",
       "      <td>None</td>\n",
       "      <td>None</td>\n",
       "      <td>None</td>\n",
       "      <td>2005</td>\n",
       "      <td>2,453,543.50</td>\n",
       "      <td>173</td>\n",
       "      <td>0800</td>\n",
       "      <td>7.00</td>\n",
       "      <td>Arson</td>\n",
       "      <td>2,453,543.50</td>\n",
       "      <td>173.00</td>\n",
       "      <td>1130</td>\n",
       "      <td>10.00</td>\n",
       "      <td>C</td>\n",
       "      <td>31.03</td>\n",
       "      <td>-92.90</td>\n",
       "      <td>5.00</td>\n",
       "      <td>USFS</td>\n",
       "      <td>LA</td>\n",
       "      <td>None</td>\n",
       "      <td>None</td>\n",
       "      <td>None</td>\n",
       "      <td>b'\\x00\\x01\\xad\\x10\\x00\\x00lQ,\\xd8\\x829W\\xc0\\x80?:\\xf1\\xac\\x08?@lQ,\\xd8\\x829W\\xc0\\x80?:\\xf1\\xac\\x08?@|\\x01\\x00\\x00\\x00lQ,\\xd8\\x829W\\xc0\\x80?:\\xf1\\xac\\x08?@\\xfe'</td>\n",
       "      <td>[2453543.5, 10, 29, 5, 1, 1970, 3]</td>\n",
       "    </tr>\n",
       "    <tr>\n",
       "      <th>992</th>\n",
       "      <td>993</td>\n",
       "      <td>1005</td>\n",
       "      <td>FS-1421053</td>\n",
       "      <td>FED</td>\n",
       "      <td>FS-FIRESTAT</td>\n",
       "      <td>FS</td>\n",
       "      <td>USMTCGF</td>\n",
       "      <td>Custer Gallatin National Forest</td>\n",
       "      <td>0108</td>\n",
       "      <td>Custer National Forest</td>\n",
       "      <td>4</td>\n",
       "      <td>02-05-03</td>\n",
       "      <td>BU65</td>\n",
       "      <td>WAPEL DITCH FIRE</td>\n",
       "      <td>None</td>\n",
       "      <td>None</td>\n",
       "      <td>None</td>\n",
       "      <td>None</td>\n",
       "      <td>None</td>\n",
       "      <td>2005</td>\n",
       "      <td>2,453,541.50</td>\n",
       "      <td>171</td>\n",
       "      <td>1315</td>\n",
       "      <td>5.00</td>\n",
       "      <td>Debris Burning</td>\n",
       "      <td>2,453,541.50</td>\n",
       "      <td>171.00</td>\n",
       "      <td>1430</td>\n",
       "      <td>0.80</td>\n",
       "      <td>B</td>\n",
       "      <td>45.16</td>\n",
       "      <td>-109.27</td>\n",
       "      <td>5.00</td>\n",
       "      <td>USFS</td>\n",
       "      <td>MT</td>\n",
       "      <td>9</td>\n",
       "      <td>009</td>\n",
       "      <td>Carbon</td>\n",
       "      <td>b'\\x00\\x01\\xad\\x10\\x00\\x00&lt;\\t\\xbf\\x16lQ[\\xc0\\xc8\\x1b=DD\\x94F@&lt;\\t\\xbf\\x16lQ[\\xc0\\xc8\\x1b=DD\\x94F@|\\x01\\x00\\x00\\x00&lt;\\t\\xbf\\x16lQ[\\xc0\\xc8\\x1b=DD\\x94F@\\xfe'</td>\n",
       "      <td>[2453541.5, 10, 29, 5, 1, 1970, 3]</td>\n",
       "    </tr>\n",
       "    <tr>\n",
       "      <th>993</th>\n",
       "      <td>994</td>\n",
       "      <td>1006</td>\n",
       "      <td>FS-1421054</td>\n",
       "      <td>FED</td>\n",
       "      <td>FS-FIRESTAT</td>\n",
       "      <td>FS</td>\n",
       "      <td>USIDIPF</td>\n",
       "      <td>Idaho Panhandle National Forest</td>\n",
       "      <td>0104</td>\n",
       "      <td>Idaho Panhandle National Forest</td>\n",
       "      <td>44</td>\n",
       "      <td>7009</td>\n",
       "      <td>BEV6</td>\n",
       "      <td>MISSION MOUNTAIN</td>\n",
       "      <td>None</td>\n",
       "      <td>None</td>\n",
       "      <td>None</td>\n",
       "      <td>None</td>\n",
       "      <td>None</td>\n",
       "      <td>2005</td>\n",
       "      <td>2,453,596.50</td>\n",
       "      <td>226</td>\n",
       "      <td>1545</td>\n",
       "      <td>1.00</td>\n",
       "      <td>Lightning</td>\n",
       "      <td>2,453,596.50</td>\n",
       "      <td>226.00</td>\n",
       "      <td>2200</td>\n",
       "      <td>0.70</td>\n",
       "      <td>B</td>\n",
       "      <td>48.99</td>\n",
       "      <td>-116.30</td>\n",
       "      <td>5.00</td>\n",
       "      <td>USFS</td>\n",
       "      <td>ID</td>\n",
       "      <td>21</td>\n",
       "      <td>021</td>\n",
       "      <td>Boundary</td>\n",
       "      <td>b'\\x00\\x01\\xad\\x10\\x00\\x00\\\\{\\xa0\\xf4I\\x13]\\xc0(\\x85\\xebQ\\xb8~H@\\\\{\\xa0\\xf4I\\x13]\\xc0(\\x85\\xebQ\\xb8~H@|\\x01\\x00\\x00\\x00\\\\{\\xa0\\xf4I\\x13]\\xc0(\\x85\\xebQ\\xb8~H@\\xfe'</td>\n",
       "      <td>[2453596.5, 10, 29, 5, 1, 1970, 3]</td>\n",
       "    </tr>\n",
       "    <tr>\n",
       "      <th>994</th>\n",
       "      <td>995</td>\n",
       "      <td>1007</td>\n",
       "      <td>FS-1421055</td>\n",
       "      <td>FED</td>\n",
       "      <td>FS-FIRESTAT</td>\n",
       "      <td>FS</td>\n",
       "      <td>USNMCIF</td>\n",
       "      <td>Cibola National Forest</td>\n",
       "      <td>0303</td>\n",
       "      <td>Cibola National Forest</td>\n",
       "      <td>110</td>\n",
       "      <td>023</td>\n",
       "      <td>BEX8</td>\n",
       "      <td>POTHOLE</td>\n",
       "      <td>None</td>\n",
       "      <td>None</td>\n",
       "      <td>None</td>\n",
       "      <td>None</td>\n",
       "      <td>None</td>\n",
       "      <td>2005</td>\n",
       "      <td>2,453,574.50</td>\n",
       "      <td>204</td>\n",
       "      <td>2000</td>\n",
       "      <td>1.00</td>\n",
       "      <td>Lightning</td>\n",
       "      <td>2,453,576.50</td>\n",
       "      <td>206.00</td>\n",
       "      <td>1800</td>\n",
       "      <td>0.10</td>\n",
       "      <td>A</td>\n",
       "      <td>33.72</td>\n",
       "      <td>-107.46</td>\n",
       "      <td>5.00</td>\n",
       "      <td>USFS</td>\n",
       "      <td>NM</td>\n",
       "      <td>53</td>\n",
       "      <td>053</td>\n",
       "      <td>Socorro</td>\n",
       "      <td>b'\\x00\\x01\\xad\\x10\\x00\\x00lP\\x14K~\\xddZ\\xc0\\xb8l\\xdd\\xd5\\xc4\\xdb@@lP\\x14K~\\xddZ\\xc0\\xb8l\\xdd\\xd5\\xc4\\xdb@@|\\x01\\x00\\x00\\x00lP\\x14K~\\xddZ\\xc0\\xb8l\\xdd\\xd5\\xc4\\xdb@@\\xfe'</td>\n",
       "      <td>[2453574.5, 10, 29, 5, 1, 1970, 3]</td>\n",
       "    </tr>\n",
       "    <tr>\n",
       "      <th>995</th>\n",
       "      <td>996</td>\n",
       "      <td>1008</td>\n",
       "      <td>FS-1421066</td>\n",
       "      <td>FED</td>\n",
       "      <td>FS-FIRESTAT</td>\n",
       "      <td>FS</td>\n",
       "      <td>USIDIPF</td>\n",
       "      <td>Idaho Panhandle National Forest</td>\n",
       "      <td>0104</td>\n",
       "      <td>Idaho Panhandle National Forest</td>\n",
       "      <td>35</td>\n",
       "      <td>7008</td>\n",
       "      <td>BEV6</td>\n",
       "      <td>BOULDER CREEK</td>\n",
       "      <td>None</td>\n",
       "      <td>None</td>\n",
       "      <td>None</td>\n",
       "      <td>None</td>\n",
       "      <td>None</td>\n",
       "      <td>2005</td>\n",
       "      <td>2,453,593.50</td>\n",
       "      <td>223</td>\n",
       "      <td>1425</td>\n",
       "      <td>1.00</td>\n",
       "      <td>Lightning</td>\n",
       "      <td>2,453,594.50</td>\n",
       "      <td>224.00</td>\n",
       "      <td>1230</td>\n",
       "      <td>0.10</td>\n",
       "      <td>A</td>\n",
       "      <td>48.59</td>\n",
       "      <td>-116.19</td>\n",
       "      <td>5.00</td>\n",
       "      <td>USFS</td>\n",
       "      <td>ID</td>\n",
       "      <td>21</td>\n",
       "      <td>021</td>\n",
       "      <td>Boundary</td>\n",
       "      <td>b'\\x00\\x01\\xad\\x10\\x00\\x00(I\\x85N\\x1b\\x0c]\\xc0\\x10\\xfd\\xb7X\\xf2KH@(I\\x85N\\x1b\\x0c]\\xc0\\x10\\xfd\\xb7X\\xf2KH@|\\x01\\x00\\x00\\x00(I\\x85N\\x1b\\x0c]\\xc0\\x10\\xfd\\xb7X\\xf2KH@\\xfe'</td>\n",
       "      <td>[2453593.5, 10, 29, 5, 1, 1970, 3]</td>\n",
       "    </tr>\n",
       "    <tr>\n",
       "      <th>996</th>\n",
       "      <td>997</td>\n",
       "      <td>1009</td>\n",
       "      <td>FS-1421074</td>\n",
       "      <td>FED</td>\n",
       "      <td>FS-FIRESTAT</td>\n",
       "      <td>FS</td>\n",
       "      <td>USMTFNF</td>\n",
       "      <td>Flathead National Forest</td>\n",
       "      <td>0110</td>\n",
       "      <td>Flathead National Forest</td>\n",
       "      <td>2</td>\n",
       "      <td>001</td>\n",
       "      <td>BL25</td>\n",
       "      <td>ASHLEY MEADOW</td>\n",
       "      <td>None</td>\n",
       "      <td>None</td>\n",
       "      <td>None</td>\n",
       "      <td>None</td>\n",
       "      <td>None</td>\n",
       "      <td>2005</td>\n",
       "      <td>2,453,440.50</td>\n",
       "      <td>70</td>\n",
       "      <td>1530</td>\n",
       "      <td>4.00</td>\n",
       "      <td>Campfire</td>\n",
       "      <td>2,453,440.50</td>\n",
       "      <td>70.00</td>\n",
       "      <td>1600</td>\n",
       "      <td>0.10</td>\n",
       "      <td>A</td>\n",
       "      <td>48.21</td>\n",
       "      <td>-114.62</td>\n",
       "      <td>5.00</td>\n",
       "      <td>USFS</td>\n",
       "      <td>MT</td>\n",
       "      <td>29</td>\n",
       "      <td>029</td>\n",
       "      <td>Flathead</td>\n",
       "      <td>b'\\x00\\x01\\xad\\x10\\x00\\x00\\x88\\xc4%Ce\\xa7\\\\\\xc0\\x90\\xc5=\\xd0i\\x1bH@\\x88\\xc4%Ce\\xa7\\\\\\xc0\\x90\\xc5=\\xd0i\\x1bH@|\\x01\\x00\\x00\\x00\\x88\\xc4%Ce\\xa7\\\\\\xc0\\x90\\xc5=\\xd0i\\x1bH@\\xfe'</td>\n",
       "      <td>[2453440.5, 10, 29, 5, 1, 1970, 3]</td>\n",
       "    </tr>\n",
       "    <tr>\n",
       "      <th>997</th>\n",
       "      <td>998</td>\n",
       "      <td>1010</td>\n",
       "      <td>FS-1421075</td>\n",
       "      <td>FED</td>\n",
       "      <td>FS-FIRESTAT</td>\n",
       "      <td>FS</td>\n",
       "      <td>USMTFNF</td>\n",
       "      <td>Flathead National Forest</td>\n",
       "      <td>0110</td>\n",
       "      <td>Flathead National Forest</td>\n",
       "      <td>3</td>\n",
       "      <td>001</td>\n",
       "      <td>BQ1D</td>\n",
       "      <td>PAOLA CREEK NORTH</td>\n",
       "      <td>None</td>\n",
       "      <td>None</td>\n",
       "      <td>None</td>\n",
       "      <td>None</td>\n",
       "      <td>None</td>\n",
       "      <td>2005</td>\n",
       "      <td>2,453,488.50</td>\n",
       "      <td>118</td>\n",
       "      <td>1600</td>\n",
       "      <td>7.00</td>\n",
       "      <td>Arson</td>\n",
       "      <td>2,453,488.50</td>\n",
       "      <td>118.00</td>\n",
       "      <td>1645</td>\n",
       "      <td>0.25</td>\n",
       "      <td>A</td>\n",
       "      <td>48.32</td>\n",
       "      <td>-113.66</td>\n",
       "      <td>5.00</td>\n",
       "      <td>USFS</td>\n",
       "      <td>MT</td>\n",
       "      <td>29</td>\n",
       "      <td>029</td>\n",
       "      <td>Flathead</td>\n",
       "      <td>b'\\x00\\x01\\xad\\x10\\x00\\x00\\x94\\xac\\xa3\\rtj\\\\\\xc0\\x88\\xee\\x99_,)H@\\x94\\xac\\xa3\\rtj\\\\\\xc0\\x88\\xee\\x99_,)H@|\\x01\\x00\\x00\\x00\\x94\\xac\\xa3\\rtj\\\\\\xc0\\x88\\xee\\x99_,)H@\\xfe'</td>\n",
       "      <td>[2453488.5, 10, 29, 5, 1, 1970, 3]</td>\n",
       "    </tr>\n",
       "    <tr>\n",
       "      <th>998</th>\n",
       "      <td>999</td>\n",
       "      <td>1011</td>\n",
       "      <td>FS-1421076</td>\n",
       "      <td>FED</td>\n",
       "      <td>FS-FIRESTAT</td>\n",
       "      <td>FS</td>\n",
       "      <td>USMTFNF</td>\n",
       "      <td>Flathead National Forest</td>\n",
       "      <td>0110</td>\n",
       "      <td>Flathead National Forest</td>\n",
       "      <td>4</td>\n",
       "      <td>002</td>\n",
       "      <td>BQ1E</td>\n",
       "      <td>PAOLA CREEK SOUTH</td>\n",
       "      <td>None</td>\n",
       "      <td>None</td>\n",
       "      <td>None</td>\n",
       "      <td>None</td>\n",
       "      <td>None</td>\n",
       "      <td>2005</td>\n",
       "      <td>2,453,488.50</td>\n",
       "      <td>118</td>\n",
       "      <td>1630</td>\n",
       "      <td>7.00</td>\n",
       "      <td>Arson</td>\n",
       "      <td>2,453,488.50</td>\n",
       "      <td>118.00</td>\n",
       "      <td>1745</td>\n",
       "      <td>0.10</td>\n",
       "      <td>A</td>\n",
       "      <td>48.31</td>\n",
       "      <td>-113.69</td>\n",
       "      <td>5.00</td>\n",
       "      <td>USFS</td>\n",
       "      <td>MT</td>\n",
       "      <td>29</td>\n",
       "      <td>029</td>\n",
       "      <td>Flathead</td>\n",
       "      <td>b'\\x00\\x01\\xad\\x10\\x00\\x00\\x9crm$\\xe0k\\\\\\xc0\\x00\\x04`4\\x12(H@\\x9crm$\\xe0k\\\\\\xc0\\x00\\x04`4\\x12(H@|\\x01\\x00\\x00\\x00\\x9crm$\\xe0k\\\\\\xc0\\x00\\x04`4\\x12(H@\\xfe'</td>\n",
       "      <td>[2453488.5, 10, 29, 5, 1, 1970, 3]</td>\n",
       "    </tr>\n",
       "    <tr>\n",
       "      <th>999</th>\n",
       "      <td>1000</td>\n",
       "      <td>1012</td>\n",
       "      <td>FS-1421078</td>\n",
       "      <td>FED</td>\n",
       "      <td>FS-FIRESTAT</td>\n",
       "      <td>FS</td>\n",
       "      <td>USCASTF</td>\n",
       "      <td>Stanislaus National Forest</td>\n",
       "      <td>0516</td>\n",
       "      <td>Stanislaus National Forest</td>\n",
       "      <td>5</td>\n",
       "      <td>003</td>\n",
       "      <td>BUA6</td>\n",
       "      <td>BALD</td>\n",
       "      <td>None</td>\n",
       "      <td>None</td>\n",
       "      <td>None</td>\n",
       "      <td>None</td>\n",
       "      <td>None</td>\n",
       "      <td>2005</td>\n",
       "      <td>2,453,536.50</td>\n",
       "      <td>166</td>\n",
       "      <td>1315</td>\n",
       "      <td>4.00</td>\n",
       "      <td>Campfire</td>\n",
       "      <td>2,453,536.50</td>\n",
       "      <td>166.00</td>\n",
       "      <td>2000</td>\n",
       "      <td>1.00</td>\n",
       "      <td>B</td>\n",
       "      <td>38.13</td>\n",
       "      <td>-120.14</td>\n",
       "      <td>13.00</td>\n",
       "      <td>STATE OR PRIVATE</td>\n",
       "      <td>CA</td>\n",
       "      <td>None</td>\n",
       "      <td>None</td>\n",
       "      <td>None</td>\n",
       "      <td>b'\\x00\\x01\\xad\\x10\\x00\\x00h?:\\xf1\\xac\\x08^\\xc0\\x88\\xee\\x99_,\\x11C@h?:\\xf1\\xac\\x08^\\xc0\\x88\\xee\\x99_,\\x11C@|\\x01\\x00\\x00\\x00h?:\\xf1\\xac\\x08^\\xc0\\x88\\xee\\x99_,\\x11C@\\xfe'</td>\n",
       "      <td>[2453536.5, 10, 29, 5, 1, 1970, 3]</td>\n",
       "    </tr>\n",
       "  </tbody>\n",
       "</table>\n",
       "</div>"
      ],
      "text/plain": [
       "     OBJECTID  FOD_ID      FPA_ID SOURCE_SYSTEM_TYPE SOURCE_SYSTEM NWCG_REPORTING_AGENCY NWCG_REPORTING_UNIT_ID         NWCG_REPORTING_UNIT_NAME SOURCE_REPORTING_UNIT       SOURCE_REPORTING_UNIT_NAME LOCAL_FIRE_REPORT_ID LOCAL_INCIDENT_ID FIRE_CODE          FIRE_NAME ICS_209_INCIDENT_NUMBER ICS_209_NAME MTBS_ID MTBS_FIRE_NAME COMPLEX_NAME  FIRE_YEAR       DISCOVERY_DATE  DISCOVERY_DOY DISCOVERY_TIME      STAT_CAUSE_CODE STAT_CAUSE_DESCR            CONT_DATE             CONT_DOY CONT_TIME            FIRE_SIZE FIRE_SIZE_CLASS             LATITUDE            LONGITUDE           OWNER_CODE       OWNER_DESCR STATE COUNTY FIPS_CODE FIPS_NAME                                                                                                                                                                        Shape                                date\n",
       "990       991    1003  FS-1421048                FED   FS-FIRESTAT                    FS                USLAKIF        Kisatchie National Forest                  0806        Kisatchie National Forest                   28             D2/19      BE1K         028 IUA 10                    None         None    None           None         None       2005         2,453,536.50            166           1405                 2.00    Equipment Use         2,453,536.50               166.00      1615                 1.00               B                31.02               -93.14                 5.00              USFS    LA   None      None      None              b'\\x00\\x01\\xad\\x10\\x00\\x00P\\xa5\\x14\\x11\\x11IW\\xc0`\\x04GUU\\x05?@P\\xa5\\x14\\x11\\x11IW\\xc0`\\x04GUU\\x05?@|\\x01\\x00\\x00\\x00P\\xa5\\x14\\x11\\x11IW\\xc0`\\x04GUU\\x05?@\\xfe'  [2453536.5, 10, 29, 5, 1, 1970, 3]\n",
       "991       992    1004  FS-1421052                FED   FS-FIRESTAT                    FS                USLAKIF        Kisatchie National Forest                  0806        Kisatchie National Forest                   29             D2/20      BE1K        029 RED OAK                    None         None    None           None         None       2005         2,453,543.50            173           0800                 7.00            Arson         2,453,543.50               173.00      1130                10.00               C                31.03               -92.90                 5.00              USFS    LA   None      None      None              b'\\x00\\x01\\xad\\x10\\x00\\x00lQ,\\xd8\\x829W\\xc0\\x80?:\\xf1\\xac\\x08?@lQ,\\xd8\\x829W\\xc0\\x80?:\\xf1\\xac\\x08?@|\\x01\\x00\\x00\\x00lQ,\\xd8\\x829W\\xc0\\x80?:\\xf1\\xac\\x08?@\\xfe'  [2453543.5, 10, 29, 5, 1, 1970, 3]\n",
       "992       993    1005  FS-1421053                FED   FS-FIRESTAT                    FS                USMTCGF  Custer Gallatin National Forest                  0108           Custer National Forest                    4          02-05-03      BU65   WAPEL DITCH FIRE                    None         None    None           None         None       2005         2,453,541.50            171           1315                 5.00   Debris Burning         2,453,541.50               171.00      1430                 0.80               B                45.16              -109.27                 5.00              USFS    MT      9       009    Carbon                    b'\\x00\\x01\\xad\\x10\\x00\\x00<\\t\\xbf\\x16lQ[\\xc0\\xc8\\x1b=DD\\x94F@<\\t\\xbf\\x16lQ[\\xc0\\xc8\\x1b=DD\\x94F@|\\x01\\x00\\x00\\x00<\\t\\xbf\\x16lQ[\\xc0\\xc8\\x1b=DD\\x94F@\\xfe'  [2453541.5, 10, 29, 5, 1, 1970, 3]\n",
       "993       994    1006  FS-1421054                FED   FS-FIRESTAT                    FS                USIDIPF  Idaho Panhandle National Forest                  0104  Idaho Panhandle National Forest                   44              7009      BEV6   MISSION MOUNTAIN                    None         None    None           None         None       2005         2,453,596.50            226           1545                 1.00        Lightning         2,453,596.50               226.00      2200                 0.70               B                48.99              -116.30                 5.00              USFS    ID     21       021  Boundary           b'\\x00\\x01\\xad\\x10\\x00\\x00\\\\{\\xa0\\xf4I\\x13]\\xc0(\\x85\\xebQ\\xb8~H@\\\\{\\xa0\\xf4I\\x13]\\xc0(\\x85\\xebQ\\xb8~H@|\\x01\\x00\\x00\\x00\\\\{\\xa0\\xf4I\\x13]\\xc0(\\x85\\xebQ\\xb8~H@\\xfe'  [2453596.5, 10, 29, 5, 1, 1970, 3]\n",
       "994       995    1007  FS-1421055                FED   FS-FIRESTAT                    FS                USNMCIF           Cibola National Forest                  0303           Cibola National Forest                  110               023      BEX8            POTHOLE                    None         None    None           None         None       2005         2,453,574.50            204           2000                 1.00        Lightning         2,453,576.50               206.00      1800                 0.10               A                33.72              -107.46                 5.00              USFS    NM     53       053   Socorro     b'\\x00\\x01\\xad\\x10\\x00\\x00lP\\x14K~\\xddZ\\xc0\\xb8l\\xdd\\xd5\\xc4\\xdb@@lP\\x14K~\\xddZ\\xc0\\xb8l\\xdd\\xd5\\xc4\\xdb@@|\\x01\\x00\\x00\\x00lP\\x14K~\\xddZ\\xc0\\xb8l\\xdd\\xd5\\xc4\\xdb@@\\xfe'  [2453574.5, 10, 29, 5, 1, 1970, 3]\n",
       "995       996    1008  FS-1421066                FED   FS-FIRESTAT                    FS                USIDIPF  Idaho Panhandle National Forest                  0104  Idaho Panhandle National Forest                   35              7008      BEV6      BOULDER CREEK                    None         None    None           None         None       2005         2,453,593.50            223           1425                 1.00        Lightning         2,453,594.50               224.00      1230                 0.10               A                48.59              -116.19                 5.00              USFS    ID     21       021  Boundary     b'\\x00\\x01\\xad\\x10\\x00\\x00(I\\x85N\\x1b\\x0c]\\xc0\\x10\\xfd\\xb7X\\xf2KH@(I\\x85N\\x1b\\x0c]\\xc0\\x10\\xfd\\xb7X\\xf2KH@|\\x01\\x00\\x00\\x00(I\\x85N\\x1b\\x0c]\\xc0\\x10\\xfd\\xb7X\\xf2KH@\\xfe'  [2453593.5, 10, 29, 5, 1, 1970, 3]\n",
       "996       997    1009  FS-1421074                FED   FS-FIRESTAT                    FS                USMTFNF         Flathead National Forest                  0110         Flathead National Forest                    2               001      BL25      ASHLEY MEADOW                    None         None    None           None         None       2005         2,453,440.50             70           1530                 4.00         Campfire         2,453,440.50                70.00      1600                 0.10               A                48.21              -114.62                 5.00              USFS    MT     29       029  Flathead  b'\\x00\\x01\\xad\\x10\\x00\\x00\\x88\\xc4%Ce\\xa7\\\\\\xc0\\x90\\xc5=\\xd0i\\x1bH@\\x88\\xc4%Ce\\xa7\\\\\\xc0\\x90\\xc5=\\xd0i\\x1bH@|\\x01\\x00\\x00\\x00\\x88\\xc4%Ce\\xa7\\\\\\xc0\\x90\\xc5=\\xd0i\\x1bH@\\xfe'  [2453440.5, 10, 29, 5, 1, 1970, 3]\n",
       "997       998    1010  FS-1421075                FED   FS-FIRESTAT                    FS                USMTFNF         Flathead National Forest                  0110         Flathead National Forest                    3               001      BQ1D  PAOLA CREEK NORTH                    None         None    None           None         None       2005         2,453,488.50            118           1600                 7.00            Arson         2,453,488.50               118.00      1645                 0.25               A                48.32              -113.66                 5.00              USFS    MT     29       029  Flathead        b'\\x00\\x01\\xad\\x10\\x00\\x00\\x94\\xac\\xa3\\rtj\\\\\\xc0\\x88\\xee\\x99_,)H@\\x94\\xac\\xa3\\rtj\\\\\\xc0\\x88\\xee\\x99_,)H@|\\x01\\x00\\x00\\x00\\x94\\xac\\xa3\\rtj\\\\\\xc0\\x88\\xee\\x99_,)H@\\xfe'  [2453488.5, 10, 29, 5, 1, 1970, 3]\n",
       "998       999    1011  FS-1421076                FED   FS-FIRESTAT                    FS                USMTFNF         Flathead National Forest                  0110         Flathead National Forest                    4               002      BQ1E  PAOLA CREEK SOUTH                    None         None    None           None         None       2005         2,453,488.50            118           1630                 7.00            Arson         2,453,488.50               118.00      1745                 0.10               A                48.31              -113.69                 5.00              USFS    MT     29       029  Flathead                    b'\\x00\\x01\\xad\\x10\\x00\\x00\\x9crm$\\xe0k\\\\\\xc0\\x00\\x04`4\\x12(H@\\x9crm$\\xe0k\\\\\\xc0\\x00\\x04`4\\x12(H@|\\x01\\x00\\x00\\x00\\x9crm$\\xe0k\\\\\\xc0\\x00\\x04`4\\x12(H@\\xfe'  [2453488.5, 10, 29, 5, 1, 1970, 3]\n",
       "999      1000    1012  FS-1421078                FED   FS-FIRESTAT                    FS                USCASTF       Stanislaus National Forest                  0516       Stanislaus National Forest                    5               003      BUA6               BALD                    None         None    None           None         None       2005         2,453,536.50            166           1315                 4.00         Campfire         2,453,536.50               166.00      2000                 1.00               B                38.13              -120.14                13.00  STATE OR PRIVATE    CA   None      None      None     b'\\x00\\x01\\xad\\x10\\x00\\x00h?:\\xf1\\xac\\x08^\\xc0\\x88\\xee\\x99_,\\x11C@h?:\\xf1\\xac\\x08^\\xc0\\x88\\xee\\x99_,\\x11C@|\\x01\\x00\\x00\\x00h?:\\xf1\\xac\\x08^\\xc0\\x88\\xee\\x99_,\\x11C@\\xfe'  [2453536.5, 10, 29, 5, 1, 1970, 3]"
      ]
     },
     "execution_count": 19,
     "metadata": {},
     "output_type": "execute_result"
    }
   ],
   "source": [
    "f_df.tail(10)"
   ]
  },
  {
   "cell_type": "markdown",
   "metadata": {},
   "source": [
    "# Cause code"
   ]
  },
  {
   "cell_type": "code",
   "execution_count": null,
   "metadata": {},
   "outputs": [
    {
     "data": {
      "text/plain": [
       "1.00    495\n",
       "4.00    196\n",
       "9.00    106\n",
       "5.00     68\n",
       "7.00     64\n",
       "2.00     39\n",
       "3.00     17\n",
       "8.00      9\n",
       "6.00      6\n",
       "Name: STAT_CAUSE_CODE, dtype: int64"
      ]
     },
     "execution_count": 31,
     "metadata": {},
     "output_type": "execute_result"
    }
   ],
   "source": [
    "f_df['STAT_CAUSE_CODE'].value_counts()"
   ]
  },
  {
   "cell_type": "code",
   "execution_count": null,
   "metadata": {},
   "outputs": [
    {
     "data": {
      "text/plain": [
       "0.10    565\n",
       "0.25     61\n",
       "0.50     47\n",
       "0.30     38\n",
       "1.00     33\n",
       "Name: FIRE_SIZE, dtype: int64"
      ]
     },
     "execution_count": 33,
     "metadata": {},
     "output_type": "execute_result"
    }
   ],
   "source": [
    "f_df['FIRE_SIZE'].value_counts().head()"
   ]
  },
  {
   "cell_type": "code",
   "execution_count": null,
   "metadata": {},
   "outputs": [
    {
     "data": {
      "text/plain": [
       "A    665\n",
       "B    267\n",
       "C     50\n",
       "D      6\n",
       "E      5\n",
       "F      4\n",
       "G      3\n",
       "Name: FIRE_SIZE_CLASS, dtype: int64"
      ]
     },
     "execution_count": 35,
     "metadata": {},
     "output_type": "execute_result"
    }
   ],
   "source": [
    "f_df['FIRE_SIZE_CLASS'].value_counts()"
   ]
  },
  {
   "cell_type": "code",
   "execution_count": null,
   "metadata": {},
   "outputs": [
    {
     "data": {
      "text/plain": [
       "Lightning         495\n",
       "Campfire          196\n",
       "Miscellaneous     106\n",
       "Debris Burning     68\n",
       "Arson              64\n",
       "Equipment Use      39\n",
       "Smoking            17\n",
       "Children            9\n",
       "Railroad            6\n",
       "Name: STAT_CAUSE_DESCR, dtype: int64"
      ]
     },
     "execution_count": 36,
     "metadata": {},
     "output_type": "execute_result"
    }
   ],
   "source": [
    "f_df['STAT_CAUSE_DESCR'].value_counts()"
   ]
  },
  {
   "cell_type": "code",
   "execution_count": null,
   "metadata": {},
   "outputs": [
    {
     "data": {
      "text/plain": [
       "53     119\n",
       "5      107\n",
       "17      75\n",
       "39      41\n",
       "3       41\n",
       "33      38\n",
       "23      33\n",
       "21      32\n",
       "1       29\n",
       "37      25\n",
       "27      22\n",
       "51      22\n",
       "43      20\n",
       "13      19\n",
       "47      19\n",
       "7       17\n",
       "61      17\n",
       "11      16\n",
       "29      15\n",
       "9       14\n",
       "103     13\n",
       "49      12\n",
       "63      10\n",
       "25       8\n",
       "19       8\n",
       "31       8\n",
       "137      8\n",
       "75       5\n",
       "35       5\n",
       "510      4\n",
       "15       3\n",
       "113      2\n",
       "6        2\n",
       "71       2\n",
       "69       2\n",
       "57       2\n",
       "89       2\n",
       "81       1\n",
       "91       1\n",
       "129      1\n",
       "87       1\n",
       "65       1\n",
       "95       1\n",
       "Name: COUNTY, dtype: int64"
      ]
     },
     "execution_count": 37,
     "metadata": {},
     "output_type": "execute_result"
    }
   ],
   "source": [
    "f_df['COUNTY'].value_counts()"
   ]
  },
  {
   "cell_type": "code",
   "execution_count": null,
   "metadata": {},
   "outputs": [
    {
     "data": {
      "text/html": [
       "<div>\n",
       "<style scoped>\n",
       "    .dataframe tbody tr th:only-of-type {\n",
       "        vertical-align: middle;\n",
       "    }\n",
       "\n",
       "    .dataframe tbody tr th {\n",
       "        vertical-align: top;\n",
       "    }\n",
       "\n",
       "    .dataframe thead th {\n",
       "        text-align: right;\n",
       "    }\n",
       "</style>\n",
       "<table border=\"1\" class=\"dataframe\">\n",
       "  <thead>\n",
       "    <tr style=\"text-align: right;\">\n",
       "      <th></th>\n",
       "      <th>date/time</th>\n",
       "      <th>lat</th>\n",
       "      <th>lon</th>\n",
       "      <th>base</th>\n",
       "    </tr>\n",
       "  </thead>\n",
       "  <tbody>\n",
       "    <tr>\n",
       "      <th>0</th>\n",
       "      <td>2014-09-01 00:01:00</td>\n",
       "      <td>40.22</td>\n",
       "      <td>-74.00</td>\n",
       "      <td>B02512</td>\n",
       "    </tr>\n",
       "    <tr>\n",
       "      <th>1</th>\n",
       "      <td>2014-09-01 00:01:00</td>\n",
       "      <td>40.75</td>\n",
       "      <td>-74.00</td>\n",
       "      <td>B02512</td>\n",
       "    </tr>\n",
       "    <tr>\n",
       "      <th>2</th>\n",
       "      <td>2014-09-01 00:03:00</td>\n",
       "      <td>40.76</td>\n",
       "      <td>-73.99</td>\n",
       "      <td>B02512</td>\n",
       "    </tr>\n",
       "    <tr>\n",
       "      <th>3</th>\n",
       "      <td>2014-09-01 00:06:00</td>\n",
       "      <td>40.74</td>\n",
       "      <td>-73.99</td>\n",
       "      <td>B02512</td>\n",
       "    </tr>\n",
       "    <tr>\n",
       "      <th>4</th>\n",
       "      <td>2014-09-01 00:11:00</td>\n",
       "      <td>40.81</td>\n",
       "      <td>-73.94</td>\n",
       "      <td>B02512</td>\n",
       "    </tr>\n",
       "  </tbody>\n",
       "</table>\n",
       "</div>"
      ],
      "text/plain": [
       "            date/time                  lat                  lon    base\n",
       "0 2014-09-01 00:01:00                40.22               -74.00  B02512\n",
       "1 2014-09-01 00:01:00                40.75               -74.00  B02512\n",
       "2 2014-09-01 00:03:00                40.76               -73.99  B02512\n",
       "3 2014-09-01 00:06:00                40.74               -73.99  B02512\n",
       "4 2014-09-01 00:11:00                40.81               -73.94  B02512"
      ]
     },
     "execution_count": 150,
     "metadata": {},
     "output_type": "execute_result"
    }
   ],
   "source": [
    "DATE_COLUMN = 'date/time'\n",
    "DATA_URL = ('/Users/dit/Documents/canonical/uber-raw-data-sep14.csv.gz')\n",
    "            \n",
    "def load_data(nrows):\n",
    "    data = pd.read_csv(DATA_URL, nrows=nrows)\n",
    "    lowercase = lambda x: str(x).lower()\n",
    "    data.rename(lowercase, axis='columns', inplace=True)\n",
    "    data[DATE_COLUMN] = pd.to_datetime(data[DATE_COLUMN])\n",
    "    return data\n",
    "\n",
    "data = load_data(10000)\n",
    "data.head()"
   ]
  },
  {
   "cell_type": "code",
   "execution_count": null,
   "metadata": {},
   "outputs": [],
   "source": [
    "df = px.data.gapminder().query(\"year == 2007\")"
   ]
  },
  {
   "cell_type": "code",
   "execution_count": null,
   "metadata": {},
   "outputs": [
    {
     "data": {
      "text/html": [
       "<div>\n",
       "<style scoped>\n",
       "    .dataframe tbody tr th:only-of-type {\n",
       "        vertical-align: middle;\n",
       "    }\n",
       "\n",
       "    .dataframe tbody tr th {\n",
       "        vertical-align: top;\n",
       "    }\n",
       "\n",
       "    .dataframe thead th {\n",
       "        text-align: right;\n",
       "    }\n",
       "</style>\n",
       "<table border=\"1\" class=\"dataframe\">\n",
       "  <thead>\n",
       "    <tr style=\"text-align: right;\">\n",
       "      <th></th>\n",
       "      <th>country</th>\n",
       "      <th>continent</th>\n",
       "      <th>year</th>\n",
       "      <th>lifeExp</th>\n",
       "      <th>pop</th>\n",
       "      <th>gdpPercap</th>\n",
       "      <th>iso_alpha</th>\n",
       "      <th>iso_num</th>\n",
       "    </tr>\n",
       "  </thead>\n",
       "  <tbody>\n",
       "    <tr>\n",
       "      <th>11</th>\n",
       "      <td>Afghanistan</td>\n",
       "      <td>Asia</td>\n",
       "      <td>2007</td>\n",
       "      <td>43.83</td>\n",
       "      <td>31889923</td>\n",
       "      <td>974.58</td>\n",
       "      <td>AFG</td>\n",
       "      <td>4</td>\n",
       "    </tr>\n",
       "    <tr>\n",
       "      <th>23</th>\n",
       "      <td>Albania</td>\n",
       "      <td>Europe</td>\n",
       "      <td>2007</td>\n",
       "      <td>76.42</td>\n",
       "      <td>3600523</td>\n",
       "      <td>5,937.03</td>\n",
       "      <td>ALB</td>\n",
       "      <td>8</td>\n",
       "    </tr>\n",
       "    <tr>\n",
       "      <th>35</th>\n",
       "      <td>Algeria</td>\n",
       "      <td>Africa</td>\n",
       "      <td>2007</td>\n",
       "      <td>72.30</td>\n",
       "      <td>33333216</td>\n",
       "      <td>6,223.37</td>\n",
       "      <td>DZA</td>\n",
       "      <td>12</td>\n",
       "    </tr>\n",
       "    <tr>\n",
       "      <th>47</th>\n",
       "      <td>Angola</td>\n",
       "      <td>Africa</td>\n",
       "      <td>2007</td>\n",
       "      <td>42.73</td>\n",
       "      <td>12420476</td>\n",
       "      <td>4,797.23</td>\n",
       "      <td>AGO</td>\n",
       "      <td>24</td>\n",
       "    </tr>\n",
       "    <tr>\n",
       "      <th>59</th>\n",
       "      <td>Argentina</td>\n",
       "      <td>Americas</td>\n",
       "      <td>2007</td>\n",
       "      <td>75.32</td>\n",
       "      <td>40301927</td>\n",
       "      <td>12,779.38</td>\n",
       "      <td>ARG</td>\n",
       "      <td>32</td>\n",
       "    </tr>\n",
       "  </tbody>\n",
       "</table>\n",
       "</div>"
      ],
      "text/plain": [
       "        country continent  year              lifeExp       pop            gdpPercap iso_alpha  iso_num\n",
       "11  Afghanistan      Asia  2007                43.83  31889923               974.58       AFG        4\n",
       "23      Albania    Europe  2007                76.42   3600523             5,937.03       ALB        8\n",
       "35      Algeria    Africa  2007                72.30  33333216             6,223.37       DZA       12\n",
       "47       Angola    Africa  2007                42.73  12420476             4,797.23       AGO       24\n",
       "59    Argentina  Americas  2007                75.32  40301927            12,779.38       ARG       32"
      ]
     },
     "execution_count": 156,
     "metadata": {},
     "output_type": "execute_result"
    }
   ],
   "source": [
    "df.head()"
   ]
  },
  {
   "cell_type": "code",
   "execution_count": null,
   "metadata": {},
   "outputs": [],
   "source": []
  }
 ],
 "metadata": {
  "kernelspec": {
   "display_name": "Python 3.8.10 ('.ds_env-MNTYxxd-')",
   "language": "python",
   "name": "python3"
  },
  "language_info": {
   "codemirror_mode": {
    "name": "ipython",
    "version": 3
   },
   "file_extension": ".py",
   "mimetype": "text/x-python",
   "name": "python",
   "nbconvert_exporter": "python",
   "pygments_lexer": "ipython3",
   "version": "3.8.10"
  },
  "orig_nbformat": 4,
  "vscode": {
   "interpreter": {
    "hash": "d04a138f82f0075fbf018b739a04c6a566ff1d9b5b36fdd571ee58b59d26fd30"
   }
  }
 },
 "nbformat": 4,
 "nbformat_minor": 2
}
